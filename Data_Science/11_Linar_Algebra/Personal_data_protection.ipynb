{
 "cells": [
  {
   "cell_type": "markdown",
   "metadata": {},
   "source": [
    "# Защита персональных данных клиентов  \n",
    "Необходимо предложить механизм преобразования данных пользователей, который бы помог защитить личную информацию, но не отразился бы на предсказании модели линейной регрессии"
   ]
  },
  {
   "cell_type": "code",
   "execution_count": 51,
   "metadata": {},
   "outputs": [],
   "source": [
    "import pandas as pd\n",
    "import numpy as np\n",
    "import numpy.linalg\n",
    "\n",
    "from sklearn.linear_model import LinearRegression\n",
    "\n",
    "from sklearn.model_selection import train_test_split\n",
    "from sklearn.preprocessing import StandardScaler\n",
    "from sklearn.pipeline import make_pipeline, Pipeline\n",
    "from sklearn.metrics import r2_score\n",
    "\n",
    "import warnings\n",
    "warnings.filterwarnings('ignore')\n",
    "pd.set_option('display.float_format', '{:.2f}'.format)"
   ]
  },
  {
   "cell_type": "markdown",
   "metadata": {},
   "source": [
    "[1. Загрузка данных, обзор](#data_download)  \n",
    "[2. Предобработка данных](#data_preprocessing)   \n",
    "[3. Предложение метода защиты данных](#data_safety_method)    \n",
    "[4. Доказательство корректности метода](#proof)  \n",
    "[5. Прогрммирования линейной регрессии](#linear_programm)  \n",
    "[6. Обучение и проверка собсвенной линейной регрессии до преобразования](#linear_before)  \n",
    "[7. Обучение и проверка собственной линейной регресси после преобразования](#linear_after)  \n",
    "[8. Обучение и проверка качества линейной регрессии до применения метода](#before)    \n",
    "[9. Обучение и проверка качества линейной регрессии после применения метода](#after)    \n",
    "[10. Выводы](#conclusion)  "
   ]
  },
  {
   "cell_type": "markdown",
   "metadata": {},
   "source": [
    "<a id='data_download'></a>\n",
    "### 1. Загрузка данных, обзор"
   ]
  },
  {
   "cell_type": "code",
   "execution_count": 28,
   "metadata": {},
   "outputs": [],
   "source": [
    "try:\n",
    "    data = pd.read_csv('/Users/ulia/Downloads/insurance.csv')\n",
    "except FileNotFoundError:\n",
    "    data = pd.read_csv('/datasets/insurance.csv')"
   ]
  },
  {
   "cell_type": "code",
   "execution_count": 29,
   "metadata": {},
   "outputs": [
    {
     "data": {
      "text/html": [
       "<div>\n",
       "<style scoped>\n",
       "    .dataframe tbody tr th:only-of-type {\n",
       "        vertical-align: middle;\n",
       "    }\n",
       "\n",
       "    .dataframe tbody tr th {\n",
       "        vertical-align: top;\n",
       "    }\n",
       "\n",
       "    .dataframe thead th {\n",
       "        text-align: right;\n",
       "    }\n",
       "</style>\n",
       "<table border=\"1\" class=\"dataframe\">\n",
       "  <thead>\n",
       "    <tr style=\"text-align: right;\">\n",
       "      <th></th>\n",
       "      <th>Пол</th>\n",
       "      <th>Возраст</th>\n",
       "      <th>Зарплата</th>\n",
       "      <th>Члены семьи</th>\n",
       "      <th>Страховые выплаты</th>\n",
       "    </tr>\n",
       "  </thead>\n",
       "  <tbody>\n",
       "    <tr>\n",
       "      <th>0</th>\n",
       "      <td>1</td>\n",
       "      <td>41.00</td>\n",
       "      <td>49600.00</td>\n",
       "      <td>1</td>\n",
       "      <td>0</td>\n",
       "    </tr>\n",
       "    <tr>\n",
       "      <th>1</th>\n",
       "      <td>0</td>\n",
       "      <td>46.00</td>\n",
       "      <td>38000.00</td>\n",
       "      <td>1</td>\n",
       "      <td>1</td>\n",
       "    </tr>\n",
       "    <tr>\n",
       "      <th>2</th>\n",
       "      <td>0</td>\n",
       "      <td>29.00</td>\n",
       "      <td>21000.00</td>\n",
       "      <td>0</td>\n",
       "      <td>0</td>\n",
       "    </tr>\n",
       "    <tr>\n",
       "      <th>3</th>\n",
       "      <td>0</td>\n",
       "      <td>21.00</td>\n",
       "      <td>41700.00</td>\n",
       "      <td>2</td>\n",
       "      <td>0</td>\n",
       "    </tr>\n",
       "    <tr>\n",
       "      <th>4</th>\n",
       "      <td>1</td>\n",
       "      <td>28.00</td>\n",
       "      <td>26100.00</td>\n",
       "      <td>0</td>\n",
       "      <td>0</td>\n",
       "    </tr>\n",
       "  </tbody>\n",
       "</table>\n",
       "</div>"
      ],
      "text/plain": [
       "   Пол  Возраст  Зарплата  Члены семьи  Страховые выплаты\n",
       "0    1    41.00  49600.00            1                  0\n",
       "1    0    46.00  38000.00            1                  1\n",
       "2    0    29.00  21000.00            0                  0\n",
       "3    0    21.00  41700.00            2                  0\n",
       "4    1    28.00  26100.00            0                  0"
      ]
     },
     "metadata": {},
     "output_type": "display_data"
    },
    {
     "name": "stdout",
     "output_type": "stream",
     "text": [
      "\n",
      "<class 'pandas.core.frame.DataFrame'>\n",
      "RangeIndex: 5000 entries, 0 to 4999\n",
      "Data columns (total 5 columns):\n",
      " #   Column             Non-Null Count  Dtype  \n",
      "---  ------             --------------  -----  \n",
      " 0   Пол                5000 non-null   int64  \n",
      " 1   Возраст            5000 non-null   float64\n",
      " 2   Зарплата           5000 non-null   float64\n",
      " 3   Члены семьи        5000 non-null   int64  \n",
      " 4   Страховые выплаты  5000 non-null   int64  \n",
      "dtypes: float64(2), int64(3)\n",
      "memory usage: 195.4 KB\n"
     ]
    },
    {
     "data": {
      "text/plain": [
       "None"
      ]
     },
     "metadata": {},
     "output_type": "display_data"
    }
   ],
   "source": [
    "display(data.head())\n",
    "print()\n",
    "display(data.info())"
   ]
  },
  {
   "cell_type": "markdown",
   "metadata": {},
   "source": [
    "<a id='data_preprocessing'></a>\n",
    "### 2. Предобработка данных"
   ]
  },
  {
   "cell_type": "code",
   "execution_count": 30,
   "metadata": {},
   "outputs": [
    {
     "data": {
      "text/plain": [
       "153"
      ]
     },
     "execution_count": 30,
     "metadata": {},
     "output_type": "execute_result"
    }
   ],
   "source": [
    "data.duplicated().sum()"
   ]
  },
  {
   "cell_type": "markdown",
   "metadata": {},
   "source": [
    "Удалим дубликаты:"
   ]
  },
  {
   "cell_type": "code",
   "execution_count": 31,
   "metadata": {},
   "outputs": [
    {
     "data": {
      "text/plain": [
       "0"
      ]
     },
     "execution_count": 31,
     "metadata": {},
     "output_type": "execute_result"
    }
   ],
   "source": [
    "data = data.drop_duplicates()\n",
    "data.duplicated().sum()"
   ]
  },
  {
   "cell_type": "markdown",
   "metadata": {},
   "source": [
    "Изменим названия столбцов:"
   ]
  },
  {
   "cell_type": "code",
   "execution_count": 32,
   "metadata": {},
   "outputs": [
    {
     "data": {
      "text/html": [
       "<div>\n",
       "<style scoped>\n",
       "    .dataframe tbody tr th:only-of-type {\n",
       "        vertical-align: middle;\n",
       "    }\n",
       "\n",
       "    .dataframe tbody tr th {\n",
       "        vertical-align: top;\n",
       "    }\n",
       "\n",
       "    .dataframe thead th {\n",
       "        text-align: right;\n",
       "    }\n",
       "</style>\n",
       "<table border=\"1\" class=\"dataframe\">\n",
       "  <thead>\n",
       "    <tr style=\"text-align: right;\">\n",
       "      <th></th>\n",
       "      <th>sex</th>\n",
       "      <th>age</th>\n",
       "      <th>salary</th>\n",
       "      <th>family_members</th>\n",
       "      <th>insurance_payments</th>\n",
       "    </tr>\n",
       "  </thead>\n",
       "  <tbody>\n",
       "    <tr>\n",
       "      <th>0</th>\n",
       "      <td>1</td>\n",
       "      <td>41.00</td>\n",
       "      <td>49600.00</td>\n",
       "      <td>1</td>\n",
       "      <td>0</td>\n",
       "    </tr>\n",
       "    <tr>\n",
       "      <th>1</th>\n",
       "      <td>0</td>\n",
       "      <td>46.00</td>\n",
       "      <td>38000.00</td>\n",
       "      <td>1</td>\n",
       "      <td>1</td>\n",
       "    </tr>\n",
       "    <tr>\n",
       "      <th>2</th>\n",
       "      <td>0</td>\n",
       "      <td>29.00</td>\n",
       "      <td>21000.00</td>\n",
       "      <td>0</td>\n",
       "      <td>0</td>\n",
       "    </tr>\n",
       "    <tr>\n",
       "      <th>3</th>\n",
       "      <td>0</td>\n",
       "      <td>21.00</td>\n",
       "      <td>41700.00</td>\n",
       "      <td>2</td>\n",
       "      <td>0</td>\n",
       "    </tr>\n",
       "    <tr>\n",
       "      <th>4</th>\n",
       "      <td>1</td>\n",
       "      <td>28.00</td>\n",
       "      <td>26100.00</td>\n",
       "      <td>0</td>\n",
       "      <td>0</td>\n",
       "    </tr>\n",
       "  </tbody>\n",
       "</table>\n",
       "</div>"
      ],
      "text/plain": [
       "   sex   age   salary  family_members  insurance_payments\n",
       "0    1 41.00 49600.00               1                   0\n",
       "1    0 46.00 38000.00               1                   1\n",
       "2    0 29.00 21000.00               0                   0\n",
       "3    0 21.00 41700.00               2                   0\n",
       "4    1 28.00 26100.00               0                   0"
      ]
     },
     "execution_count": 32,
     "metadata": {},
     "output_type": "execute_result"
    }
   ],
   "source": [
    "data.columns = ['sex','age','salary','family_members','insurance_payments']\n",
    "data.head()"
   ]
  },
  {
   "cell_type": "markdown",
   "metadata": {},
   "source": [
    "Переведем столбец \"age\" в числовой тип:  "
   ]
  },
  {
   "cell_type": "code",
   "execution_count": 33,
   "metadata": {},
   "outputs": [],
   "source": [
    "data.age = data.age.astype('int')"
   ]
  },
  {
   "cell_type": "code",
   "execution_count": 34,
   "metadata": {},
   "outputs": [
    {
     "name": "stdout",
     "output_type": "stream",
     "text": [
      "<class 'pandas.core.frame.DataFrame'>\n",
      "Int64Index: 4847 entries, 0 to 4999\n",
      "Data columns (total 5 columns):\n",
      " #   Column              Non-Null Count  Dtype  \n",
      "---  ------              --------------  -----  \n",
      " 0   sex                 4847 non-null   int64  \n",
      " 1   age                 4847 non-null   int64  \n",
      " 2   salary              4847 non-null   float64\n",
      " 3   family_members      4847 non-null   int64  \n",
      " 4   insurance_payments  4847 non-null   int64  \n",
      "dtypes: float64(1), int64(4)\n",
      "memory usage: 227.2 KB\n"
     ]
    }
   ],
   "source": [
    "data.info()"
   ]
  },
  {
   "cell_type": "markdown",
   "metadata": {},
   "source": [
    "Пердобработка завершена"
   ]
  },
  {
   "cell_type": "markdown",
   "metadata": {},
   "source": [
    "<a id='data_safety_method'></a>\n",
    "### 3. Предложение метода защиты данных"
   ]
  },
  {
   "cell_type": "markdown",
   "metadata": {},
   "source": [
    "Умножим матрицу признаков **data[['sex', 'age', 'family_members', 'salary' ]]** на обратимую матрицу матрицу размером (4*4)  \n",
    "Докажем, что качество предсказания модели линейной регрессии от данного  преобразования не изменится"
   ]
  },
  {
   "cell_type": "markdown",
   "metadata": {},
   "source": [
    " <a id='proof'></a>\n",
    "### 4. Доказательство корректности метода"
   ]
  },
  {
   "cell_type": "markdown",
   "metadata": {},
   "source": [
    "Необходимые формулы:  \n",
    "  \n",
    "$ (AB)^{T} = B^{T}A^{T} $  \n",
    "$ (AB)^{-1} = B^{-1}A^{-1} $  \n",
    "$ AA^{-1} = E = A^{-1}A $  \n",
    "\n",
    "Чтобы матрица была обратимой, она должна быть квадратной."
   ]
  },
  {
   "cell_type": "markdown",
   "metadata": {},
   "source": [
    "\n",
    "Пусть $ X^{'} $ - матрица признаков $ m*n $  \n",
    "\n",
    "Пусть $ W_{1} $ - вектор весов  $(1*m)$ , $W_{0}$  - скаляр\n",
    "\n",
    "Тогда предсказание линейной регрессии можно записать:\n",
    "$$Y = X^{'} *W_{1} + W_{0} $$\n",
    "для упрощения расчетов добавим к матрице $ X^{'} $ единичный столбец, а скаляр $ W_{0}$ добавим в вектор $ W_{1} $\n",
    "\n",
    "$$\\begin{bmatrix} 1 & x_{12} & x_{13} & ... & x_{1n} \\\\ 1 & x_{21} & x_{22} & ... & x_{2n} \\\\ ...\\\\ 1 & x_{m2} & x_{m3} & ... & x_{mn}\\end{bmatrix} *  \\begin{bmatrix} w_{0} \\\\ w_{1} \\\\ ... \\\\ w_{n}\\end{bmatrix}$$ \n",
    "\n",
    "Обозначим новую матрицу признаков с еденичным столбцом за $ X $ , а вектор весов - $ W $"
   ]
  },
  {
   "cell_type": "markdown",
   "metadata": {},
   "source": [
    "**Формула предсказания линейной регрессии:**\n",
    "$ Y = X*W $ \n",
    "\n",
    "\n",
    "Если принять метрику качества - минимальное значение **MSE** -  среднеквадратичноей ошибки, то для поиска минимального решения необходимо минимизировать:  \n",
    "\n",
    "$ (Y - XW)^{T}(Y-XW) -> min $  \n",
    "\n",
    "\n",
    "оптимальное решение относительно W находится приравниваем к нулю дифференциала этой функции по W   \n",
    " \n",
    "В результате преобразований получим  \n",
    "\n",
    "$ W = (X^{T}X)^{-1}X^{T}Y $"
   ]
  },
  {
   "cell_type": "markdown",
   "metadata": {},
   "source": [
    "### Докажем, что умножение матрицы X на обратимую матрицу не ухудшит качество предсказаний"
   ]
  },
  {
   "cell_type": "markdown",
   "metadata": {},
   "source": [
    "### Умножим матрицу признаков $ X $ на обратимую матрицу $ Q $ размерности (n*n) и найдем оптимальные веса $ W^{'} $"
   ]
  },
  {
   "cell_type": "markdown",
   "metadata": {},
   "source": [
    "$ W^{'} = ((XQ)^{T}XQ)^{-1}(XQ)^{T}Y $  "
   ]
  },
  {
   "cell_type": "markdown",
   "metadata": {},
   "source": [
    "$ W^{'} = (Q^{T}X^{T}XQ)^{-1}Q^{T}X^{T}Y $"
   ]
  },
  {
   "cell_type": "markdown",
   "metadata": {},
   "source": [
    "$ W^{'} = Q^{-1}(X^{T}X)^{-1}(Q^{T})^{-1}Q^{T}X^{T}Y $"
   ]
  },
  {
   "cell_type": "markdown",
   "metadata": {},
   "source": [
    "$ (Q^{T})^{-1}Q^{T}  = E $  \n",
    " \n",
    "отсюда:"
   ]
  },
  {
   "cell_type": "markdown",
   "metadata": {},
   "source": [
    "$ W^{'} = Q^{-1}(X^{T}X)^{-1}X^{T}Y $ , где  \n",
    "$ (X^{T}X)^{-1}X^{T}Y $ равно $ W $\n",
    "\n",
    "Получаем,что   \n",
    "\n",
    "$ W^{'} = Q^{-1}*W $"
   ]
  },
  {
   "cell_type": "markdown",
   "metadata": {},
   "source": [
    "Подставим $ Q^{-1}W $ вместо веса $ W^{'} $  в предсказание модели $ Y^{'} = XQW^{'} $ \n",
    "\n",
    "$ Y^{'} = XQ*Q^{-1}W $  \n",
    "$ Y^{'} = XEW $  \n",
    "$ Y^{'} = XW = Y $  \n",
    "\n",
    "Доказали, что от умножения на обратимую матрицу, предсказания модели **не меняются**. Меняются только веса, те модель необходимо переобучить."
   ]
  },
  {
   "cell_type": "markdown",
   "metadata": {},
   "source": [
    "<a id='linear_programm'></a>\n",
    "### 5.  Прогрммирование линейной регрессии"
   ]
  },
  {
   "cell_type": "code",
   "execution_count": 35,
   "metadata": {},
   "outputs": [],
   "source": [
    "features =  data.drop('insurance_payments', axis=1)\n",
    "target = data['insurance_payments']"
   ]
  },
  {
   "cell_type": "code",
   "execution_count": 36,
   "metadata": {},
   "outputs": [],
   "source": [
    "class LinearRegression_custom:\n",
    "    def fit(self, features_train, target_train):\n",
    "        X = np.concatenate((np.ones((features_train.shape[0],1)), features_train), axis=1)\n",
    "        Y = target_train\n",
    "        W = np.linalg.inv(X.T.dot(X)) @ X.T @ Y\n",
    "        self.W = W[1:]\n",
    "        self.W0 = W[0]\n",
    "    \n",
    "    def predict(self, features_test):\n",
    "        return features_test.dot(self.W) + self.W0\n"
   ]
  },
  {
   "cell_type": "markdown",
   "metadata": {},
   "source": [
    "<a id=linear_before></a>\n",
    "### 6. Обучение и проверка собсвенной линейной регрессии до преобразования"
   ]
  },
  {
   "cell_type": "code",
   "execution_count": 37,
   "metadata": {},
   "outputs": [],
   "source": [
    "scaler = StandardScaler()\n",
    "scaler.fit(features)\n",
    "features_scaled = scaler.transform(features)"
   ]
  },
  {
   "cell_type": "code",
   "execution_count": 38,
   "metadata": {},
   "outputs": [
    {
     "name": "stdout",
     "output_type": "stream",
     "text": [
      "0.43\n"
     ]
    }
   ],
   "source": [
    "\n",
    "model = LinearRegression_custom()\n",
    "model.fit(features_scaled, target)\n",
    "predict_before_custom = model.predict(features_scaled)\n",
    "print(round(r2_score(target, predict_before_custom),2))"
   ]
  },
  {
   "cell_type": "markdown",
   "metadata": {},
   "source": [
    "<a id=linear_after></a>\n",
    "### 7. Обучение и проверка собственной линейной регресси после преобразования "
   ]
  },
  {
   "cell_type": "markdown",
   "metadata": {},
   "source": [
    "Сгенерируем матрицу (4*4)"
   ]
  },
  {
   "cell_type": "code",
   "execution_count": 39,
   "metadata": {},
   "outputs": [],
   "source": [
    "matrix = np.random.randint(1000, size = (4,4))"
   ]
  },
  {
   "cell_type": "code",
   "execution_count": 40,
   "metadata": {},
   "outputs": [
    {
     "data": {
      "text/plain": [
       "(4, 4)"
      ]
     },
     "execution_count": 40,
     "metadata": {},
     "output_type": "execute_result"
    }
   ],
   "source": [
    "matrix.shape"
   ]
  },
  {
   "cell_type": "markdown",
   "metadata": {},
   "source": [
    "Проверим, что матрица обратима:"
   ]
  },
  {
   "cell_type": "code",
   "execution_count": 41,
   "metadata": {},
   "outputs": [
    {
     "data": {
      "text/plain": [
       "array([[ 0.00230375, -0.00062729,  0.00175238, -0.0021772 ],\n",
       "       [-0.00211805,  0.00200987, -0.00066229,  0.00096407],\n",
       "       [-0.00290442,  0.00172806,  0.00317764, -0.00155445],\n",
       "       [ 0.00303454, -0.00218713, -0.00277009,  0.00242452]])"
      ]
     },
     "execution_count": 41,
     "metadata": {},
     "output_type": "execute_result"
    }
   ],
   "source": [
    "numpy.linalg.inv(matrix)"
   ]
  },
  {
   "cell_type": "markdown",
   "metadata": {},
   "source": [
    "Матрица обратима  \n",
    "\n",
    "Умножим матрицу признаков на  обратимую матрицу:"
   ]
  },
  {
   "cell_type": "code",
   "execution_count": 42,
   "metadata": {},
   "outputs": [],
   "source": [
    "features_new_custom = features @ matrix"
   ]
  },
  {
   "cell_type": "code",
   "execution_count": 43,
   "metadata": {},
   "outputs": [],
   "source": [
    "scaler.fit(features_new_custom)\n",
    "features_scaled_new_custom = scaler.transform(features_new_custom)"
   ]
  },
  {
   "cell_type": "code",
   "execution_count": 44,
   "metadata": {},
   "outputs": [
    {
     "name": "stdout",
     "output_type": "stream",
     "text": [
      "0.43\n"
     ]
    }
   ],
   "source": [
    "model = LinearRegression_custom()\n",
    "model.fit(features_scaled_new_custom, target)\n",
    "predict_after_custom = model.predict(features_scaled_new_custom)\n",
    "print(round(r2_score(target, predict_after_custom),2))"
   ]
  },
  {
   "cell_type": "markdown",
   "metadata": {},
   "source": [
    "Видим, что метрика r2 не изменилась после преобразования. Каство предсказания модели не поменялось."
   ]
  },
  {
   "cell_type": "markdown",
   "metadata": {},
   "source": [
    "<a id='before'></a>\n",
    "### 8. Обучение и проверка качества линейной регрессии до применения метода"
   ]
  },
  {
   "cell_type": "code",
   "execution_count": 45,
   "metadata": {},
   "outputs": [],
   "source": [
    "features_train, features_test, target_train, target_test = train_test_split(features, target, random_state=123,test_size=0.4) "
   ]
  },
  {
   "cell_type": "code",
   "execution_count": 46,
   "metadata": {},
   "outputs": [
    {
     "data": {
      "text/plain": [
       "0.42"
      ]
     },
     "execution_count": 46,
     "metadata": {},
     "output_type": "execute_result"
    }
   ],
   "source": [
    "reg = LinearRegression()\n",
    "steps = [('scaler', StandardScaler()),('regression',reg)]\n",
    "pipeline = Pipeline(steps=steps)\n",
    "pipeline.fit(features_train, target_train)\n",
    "predictions_before = pipeline.predict(features_test)\n",
    "R_2 = r2_score(target_test, predictions_before)\n",
    "round(R_2,2)"
   ]
  },
  {
   "cell_type": "markdown",
   "metadata": {},
   "source": [
    "<a id='after'></a>\n",
    "### 9. Обучение и проверка качества линейной регрессии после применения метода"
   ]
  },
  {
   "cell_type": "markdown",
   "metadata": {},
   "source": [
    "Умножим матрицу признаков на  обратимую матрицу:"
   ]
  },
  {
   "cell_type": "code",
   "execution_count": 47,
   "metadata": {},
   "outputs": [],
   "source": [
    "features_new = features @ matrix"
   ]
  },
  {
   "cell_type": "code",
   "execution_count": 48,
   "metadata": {},
   "outputs": [],
   "source": [
    "features_new_train, features_new_test, target_new_train, target_new_test = train_test_split(features_new, target, random_state=123,test_size=0.4) "
   ]
  },
  {
   "cell_type": "code",
   "execution_count": 49,
   "metadata": {},
   "outputs": [
    {
     "data": {
      "text/plain": [
       "0.42"
      ]
     },
     "execution_count": 49,
     "metadata": {},
     "output_type": "execute_result"
    }
   ],
   "source": [
    "reg = LinearRegression()\n",
    "steps = [('scaler', StandardScaler()),('regression',reg)]\n",
    "pipeline = Pipeline(steps=steps)\n",
    "pipeline.fit(features_new_train, target_new_train)\n",
    "predictions_after = pipeline.predict(features_new_test)\n",
    "R_2_new = r2_score(target_new_test, predictions_after)\n",
    "round(R_2_new,2)"
   ]
  },
  {
   "cell_type": "code",
   "execution_count": 50,
   "metadata": {},
   "outputs": [
    {
     "name": "stdout",
     "output_type": "stream",
     "text": [
      "Метрика R2 до преобразования равна 0.42,после преобразовния 0.42\n"
     ]
    }
   ],
   "source": [
    "print('Метрика R2 до преобразования равна {:.2f},после преобразовния {:.2f}'.format(R_2, R_2_new))"
   ]
  },
  {
   "cell_type": "markdown",
   "metadata": {},
   "source": [
    "### Умножение на обратимую матрицу не привело к изменению качества работы модели"
   ]
  },
  {
   "cell_type": "markdown",
   "metadata": {},
   "source": [
    "<a id='conclusion'></a>\n",
    "### 10. Выводы\n"
   ]
  },
  {
   "cell_type": "markdown",
   "metadata": {},
   "source": [
    "1. Для защиты данных клиентов предложили механизм сохранения данных клиентов - умножение матрицы признаков на обратимую матрицу\n",
    "2. Проверили данный метод преобразования, доказали, что качество предсказания модели до и после уможения не меняется"
   ]
  }
 ],
 "metadata": {
  "interpreter": {
   "hash": "6f5dd8f20b058ead9365f7e252fda945bb74a615f91a5f6b0a68f63e4f4eb6f7"
  },
  "kernelspec": {
   "display_name": "Python 3.8.8 64-bit ('base': conda)",
   "name": "python3"
  },
  "language_info": {
   "codemirror_mode": {
    "name": "ipython",
    "version": 3
   },
   "file_extension": ".py",
   "mimetype": "text/x-python",
   "name": "python",
   "nbconvert_exporter": "python",
   "pygments_lexer": "ipython3",
   "version": "3.8.8"
  },
  "orig_nbformat": 4
 },
 "nbformat": 4,
 "nbformat_minor": 2
}
