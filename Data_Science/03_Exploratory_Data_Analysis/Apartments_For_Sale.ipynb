{
 "cells": [
  {
   "cell_type": "markdown",
   "metadata": {
    "toc": true
   },
   "source": [
    "<h1>Содержание<span class=\"tocSkip\"></span></h1>\n",
    "<div class=\"toc\"><ul class=\"toc-item\"><li><span><a href=\"#Изучение-данных-из-файла\" data-toc-modified-id=\"Изучение-данных-из-файла-1\"><span class=\"toc-item-num\">1&nbsp;&nbsp;</span>Изучение данных из файла</a></span><ul class=\"toc-item\"><li><span><a href=\"#Выводы\" data-toc-modified-id=\"Выводы-1.1\"><span class=\"toc-item-num\">1.1&nbsp;&nbsp;</span>Выводы</a></span></li><li><span><a href=\"#Вывод\" data-toc-modified-id=\"Вывод-1.2\"><span class=\"toc-item-num\">1.2&nbsp;&nbsp;</span>Вывод</a></span></li></ul></li><li><span><a href=\"#Предобработка-данных\" data-toc-modified-id=\"Предобработка-данных-2\"><span class=\"toc-item-num\">2&nbsp;&nbsp;</span>Предобработка данных</a></span><ul class=\"toc-item\"><li><span><a href=\"#Исследование-пропусков\" data-toc-modified-id=\"Исследование-пропусков-2.1\"><span class=\"toc-item-num\">2.1&nbsp;&nbsp;</span>Исследование пропусков</a></span></li><li><span><a href=\"#Вывод:--Предобработка-данных-закончена\" data-toc-modified-id=\"Вывод:--Предобработка-данных-закончена-2.2\"><span class=\"toc-item-num\">2.2&nbsp;&nbsp;</span>Вывод:  Предобработка данных закончена</a></span></li></ul></li><li><span><a href=\"#Расчёты-и-добавление-результатов-в-таблицу\" data-toc-modified-id=\"Расчёты-и-добавление-результатов-в-таблицу-3\"><span class=\"toc-item-num\">3&nbsp;&nbsp;</span>Расчёты и добавление результатов в таблицу</a></span></li><li><span><a href=\"#Исследовательский-анализ-данных\" data-toc-modified-id=\"Исследовательский-анализ-данных-4\"><span class=\"toc-item-num\">4&nbsp;&nbsp;</span>Исследовательский анализ данных</a></span><ul class=\"toc-item\"><li><ul class=\"toc-item\"><li><span><a href=\"#Изучите-следующие-параметры:-площадь,-цена,-число-комнат,-высота-потолков.-Постройте-гистограммы-для-каждого-параметра.\" data-toc-modified-id=\"Изучите-следующие-параметры:-площадь,-цена,-число-комнат,-высота-потолков.-Постройте-гистограммы-для-каждого-параметра.-4.0.1\"><span class=\"toc-item-num\">4.0.1&nbsp;&nbsp;</span>Изучите следующие параметры: площадь, цена, число комнат, высота потолков. Постройте гистограммы для каждого параметра.</a></span></li><li><span><a href=\"#Зависимость-цены-от-площади\" data-toc-modified-id=\"Зависимость-цены-от-площади-4.0.2\"><span class=\"toc-item-num\">4.0.2&nbsp;&nbsp;</span>Зависимость цены от площади</a></span></li><li><span><a href=\"#Зависимость-цены-от-количества-комнат\" data-toc-modified-id=\"Зависимость-цены-от-количества-комнат-4.0.3\"><span class=\"toc-item-num\">4.0.3&nbsp;&nbsp;</span>Зависимость цены от количества комнат</a></span></li><li><span><a href=\"#Зависимость-цены-от-того,-на-каком-этаже-расположена-квартира:-первом,-последнем-или-другом.\" data-toc-modified-id=\"Зависимость-цены-от-того,-на-каком-этаже-расположена-квартира:-первом,-последнем-или-другом.-4.0.4\"><span class=\"toc-item-num\">4.0.4&nbsp;&nbsp;</span>Зависимость цены от того, на каком этаже расположена квартира: первом, последнем или другом.</a></span></li><li><span><a href=\"#Зависимость-от-удаленности-от-центра\" data-toc-modified-id=\"Зависимость-от-удаленности-от-центра-4.0.5\"><span class=\"toc-item-num\">4.0.5&nbsp;&nbsp;</span>Зависимость от удаленности от центра</a></span></li><li><span><a href=\"#Зависимость-от-даты-размещения:-дня-недели,-месяца-и-года.\" data-toc-modified-id=\"Зависимость-от-даты-размещения:-дня-недели,-месяца-и-года.-4.0.6\"><span class=\"toc-item-num\">4.0.6&nbsp;&nbsp;</span>Зависимость от даты размещения: дня недели, месяца и года.</a></span></li></ul></li></ul></li><li><span><a href=\"#Общий-вывод\" data-toc-modified-id=\"Общий-вывод-5\"><span class=\"toc-item-num\">5&nbsp;&nbsp;</span>Общий вывод</a></span></li><li><span><a href=\"#Чек-лист-готовности-проекта\" data-toc-modified-id=\"Чек-лист-готовности-проекта-6\"><span class=\"toc-item-num\">6&nbsp;&nbsp;</span>Чек-лист готовности проекта</a></span></li></ul></div>"
   ]
  },
  {
   "cell_type": "markdown",
   "metadata": {},
   "source": [
    "# Исследование объявлений о продаже квартир\n",
    "\n"
   ]
  },
  {
   "cell_type": "markdown",
   "metadata": {},
   "source": [
    "<div class=\"alert alert-success\">\n",
    "<b class=\"alert-heading\"> Комментарий ревьюера: ОК</b>\n",
    "\n",
    "Отлично, есть описание и оглавление.\n",
    "\n",
    "</div>"
   ]
  },
  {
   "cell_type": "markdown",
   "metadata": {},
   "source": [
    "## Изучение данных из файла"
   ]
  },
  {
   "cell_type": "code",
   "execution_count": 1,
   "metadata": {},
   "outputs": [],
   "source": [
    "import pandas as pd\n",
    "import matplotlib.pyplot as plt\n",
    "import seaborn\n",
    "data = pd.read_csv('/datasets/real_estate_data.csv', sep='\\t')"
   ]
  },
  {
   "cell_type": "markdown",
   "metadata": {},
   "source": [
    "Проведем экспресс-анализ данных методами head, info и describe так же просчитаем количество пропусков по столбцам:"
   ]
  },
  {
   "cell_type": "code",
   "execution_count": 2,
   "metadata": {},
   "outputs": [
    {
     "data": {
      "text/html": [
       "<div>\n",
       "<style scoped>\n",
       "    .dataframe tbody tr th:only-of-type {\n",
       "        vertical-align: middle;\n",
       "    }\n",
       "\n",
       "    .dataframe tbody tr th {\n",
       "        vertical-align: top;\n",
       "    }\n",
       "\n",
       "    .dataframe thead th {\n",
       "        text-align: right;\n",
       "    }\n",
       "</style>\n",
       "<table border=\"1\" class=\"dataframe\">\n",
       "  <thead>\n",
       "    <tr style=\"text-align: right;\">\n",
       "      <th></th>\n",
       "      <th>total_images</th>\n",
       "      <th>last_price</th>\n",
       "      <th>total_area</th>\n",
       "      <th>first_day_exposition</th>\n",
       "      <th>rooms</th>\n",
       "      <th>ceiling_height</th>\n",
       "      <th>floors_total</th>\n",
       "      <th>living_area</th>\n",
       "      <th>floor</th>\n",
       "      <th>is_apartment</th>\n",
       "      <th>...</th>\n",
       "      <th>kitchen_area</th>\n",
       "      <th>balcony</th>\n",
       "      <th>locality_name</th>\n",
       "      <th>airports_nearest</th>\n",
       "      <th>cityCenters_nearest</th>\n",
       "      <th>parks_around3000</th>\n",
       "      <th>parks_nearest</th>\n",
       "      <th>ponds_around3000</th>\n",
       "      <th>ponds_nearest</th>\n",
       "      <th>days_exposition</th>\n",
       "    </tr>\n",
       "  </thead>\n",
       "  <tbody>\n",
       "    <tr>\n",
       "      <th>0</th>\n",
       "      <td>20</td>\n",
       "      <td>13000000.0</td>\n",
       "      <td>108.00</td>\n",
       "      <td>2019-03-07T00:00:00</td>\n",
       "      <td>3</td>\n",
       "      <td>2.70</td>\n",
       "      <td>16.0</td>\n",
       "      <td>51.00</td>\n",
       "      <td>8</td>\n",
       "      <td>NaN</td>\n",
       "      <td>...</td>\n",
       "      <td>25.00</td>\n",
       "      <td>NaN</td>\n",
       "      <td>Санкт-Петербург</td>\n",
       "      <td>18863.0</td>\n",
       "      <td>16028.0</td>\n",
       "      <td>1.0</td>\n",
       "      <td>482.0</td>\n",
       "      <td>2.0</td>\n",
       "      <td>755.0</td>\n",
       "      <td>NaN</td>\n",
       "    </tr>\n",
       "    <tr>\n",
       "      <th>1</th>\n",
       "      <td>7</td>\n",
       "      <td>3350000.0</td>\n",
       "      <td>40.40</td>\n",
       "      <td>2018-12-04T00:00:00</td>\n",
       "      <td>1</td>\n",
       "      <td>NaN</td>\n",
       "      <td>11.0</td>\n",
       "      <td>18.60</td>\n",
       "      <td>1</td>\n",
       "      <td>NaN</td>\n",
       "      <td>...</td>\n",
       "      <td>11.00</td>\n",
       "      <td>2.0</td>\n",
       "      <td>посёлок Шушары</td>\n",
       "      <td>12817.0</td>\n",
       "      <td>18603.0</td>\n",
       "      <td>0.0</td>\n",
       "      <td>NaN</td>\n",
       "      <td>0.0</td>\n",
       "      <td>NaN</td>\n",
       "      <td>81.0</td>\n",
       "    </tr>\n",
       "    <tr>\n",
       "      <th>2</th>\n",
       "      <td>10</td>\n",
       "      <td>5196000.0</td>\n",
       "      <td>56.00</td>\n",
       "      <td>2015-08-20T00:00:00</td>\n",
       "      <td>2</td>\n",
       "      <td>NaN</td>\n",
       "      <td>5.0</td>\n",
       "      <td>34.30</td>\n",
       "      <td>4</td>\n",
       "      <td>NaN</td>\n",
       "      <td>...</td>\n",
       "      <td>8.30</td>\n",
       "      <td>0.0</td>\n",
       "      <td>Санкт-Петербург</td>\n",
       "      <td>21741.0</td>\n",
       "      <td>13933.0</td>\n",
       "      <td>1.0</td>\n",
       "      <td>90.0</td>\n",
       "      <td>2.0</td>\n",
       "      <td>574.0</td>\n",
       "      <td>558.0</td>\n",
       "    </tr>\n",
       "    <tr>\n",
       "      <th>3</th>\n",
       "      <td>0</td>\n",
       "      <td>64900000.0</td>\n",
       "      <td>159.00</td>\n",
       "      <td>2015-07-24T00:00:00</td>\n",
       "      <td>3</td>\n",
       "      <td>NaN</td>\n",
       "      <td>14.0</td>\n",
       "      <td>NaN</td>\n",
       "      <td>9</td>\n",
       "      <td>NaN</td>\n",
       "      <td>...</td>\n",
       "      <td>NaN</td>\n",
       "      <td>0.0</td>\n",
       "      <td>Санкт-Петербург</td>\n",
       "      <td>28098.0</td>\n",
       "      <td>6800.0</td>\n",
       "      <td>2.0</td>\n",
       "      <td>84.0</td>\n",
       "      <td>3.0</td>\n",
       "      <td>234.0</td>\n",
       "      <td>424.0</td>\n",
       "    </tr>\n",
       "    <tr>\n",
       "      <th>4</th>\n",
       "      <td>2</td>\n",
       "      <td>10000000.0</td>\n",
       "      <td>100.00</td>\n",
       "      <td>2018-06-19T00:00:00</td>\n",
       "      <td>2</td>\n",
       "      <td>3.03</td>\n",
       "      <td>14.0</td>\n",
       "      <td>32.00</td>\n",
       "      <td>13</td>\n",
       "      <td>NaN</td>\n",
       "      <td>...</td>\n",
       "      <td>41.00</td>\n",
       "      <td>NaN</td>\n",
       "      <td>Санкт-Петербург</td>\n",
       "      <td>31856.0</td>\n",
       "      <td>8098.0</td>\n",
       "      <td>2.0</td>\n",
       "      <td>112.0</td>\n",
       "      <td>1.0</td>\n",
       "      <td>48.0</td>\n",
       "      <td>121.0</td>\n",
       "    </tr>\n",
       "    <tr>\n",
       "      <th>5</th>\n",
       "      <td>10</td>\n",
       "      <td>2890000.0</td>\n",
       "      <td>30.40</td>\n",
       "      <td>2018-09-10T00:00:00</td>\n",
       "      <td>1</td>\n",
       "      <td>NaN</td>\n",
       "      <td>12.0</td>\n",
       "      <td>14.40</td>\n",
       "      <td>5</td>\n",
       "      <td>NaN</td>\n",
       "      <td>...</td>\n",
       "      <td>9.10</td>\n",
       "      <td>NaN</td>\n",
       "      <td>городской посёлок Янино-1</td>\n",
       "      <td>NaN</td>\n",
       "      <td>NaN</td>\n",
       "      <td>NaN</td>\n",
       "      <td>NaN</td>\n",
       "      <td>NaN</td>\n",
       "      <td>NaN</td>\n",
       "      <td>55.0</td>\n",
       "    </tr>\n",
       "    <tr>\n",
       "      <th>6</th>\n",
       "      <td>6</td>\n",
       "      <td>3700000.0</td>\n",
       "      <td>37.30</td>\n",
       "      <td>2017-11-02T00:00:00</td>\n",
       "      <td>1</td>\n",
       "      <td>NaN</td>\n",
       "      <td>26.0</td>\n",
       "      <td>10.60</td>\n",
       "      <td>6</td>\n",
       "      <td>NaN</td>\n",
       "      <td>...</td>\n",
       "      <td>14.40</td>\n",
       "      <td>1.0</td>\n",
       "      <td>посёлок Парголово</td>\n",
       "      <td>52996.0</td>\n",
       "      <td>19143.0</td>\n",
       "      <td>0.0</td>\n",
       "      <td>NaN</td>\n",
       "      <td>0.0</td>\n",
       "      <td>NaN</td>\n",
       "      <td>155.0</td>\n",
       "    </tr>\n",
       "    <tr>\n",
       "      <th>7</th>\n",
       "      <td>5</td>\n",
       "      <td>7915000.0</td>\n",
       "      <td>71.60</td>\n",
       "      <td>2019-04-18T00:00:00</td>\n",
       "      <td>2</td>\n",
       "      <td>NaN</td>\n",
       "      <td>24.0</td>\n",
       "      <td>NaN</td>\n",
       "      <td>22</td>\n",
       "      <td>NaN</td>\n",
       "      <td>...</td>\n",
       "      <td>18.90</td>\n",
       "      <td>2.0</td>\n",
       "      <td>Санкт-Петербург</td>\n",
       "      <td>23982.0</td>\n",
       "      <td>11634.0</td>\n",
       "      <td>0.0</td>\n",
       "      <td>NaN</td>\n",
       "      <td>0.0</td>\n",
       "      <td>NaN</td>\n",
       "      <td>NaN</td>\n",
       "    </tr>\n",
       "    <tr>\n",
       "      <th>8</th>\n",
       "      <td>20</td>\n",
       "      <td>2900000.0</td>\n",
       "      <td>33.16</td>\n",
       "      <td>2018-05-23T00:00:00</td>\n",
       "      <td>1</td>\n",
       "      <td>NaN</td>\n",
       "      <td>27.0</td>\n",
       "      <td>15.43</td>\n",
       "      <td>26</td>\n",
       "      <td>NaN</td>\n",
       "      <td>...</td>\n",
       "      <td>8.81</td>\n",
       "      <td>NaN</td>\n",
       "      <td>посёлок Мурино</td>\n",
       "      <td>NaN</td>\n",
       "      <td>NaN</td>\n",
       "      <td>NaN</td>\n",
       "      <td>NaN</td>\n",
       "      <td>NaN</td>\n",
       "      <td>NaN</td>\n",
       "      <td>189.0</td>\n",
       "    </tr>\n",
       "    <tr>\n",
       "      <th>9</th>\n",
       "      <td>18</td>\n",
       "      <td>5400000.0</td>\n",
       "      <td>61.00</td>\n",
       "      <td>2017-02-26T00:00:00</td>\n",
       "      <td>3</td>\n",
       "      <td>2.50</td>\n",
       "      <td>9.0</td>\n",
       "      <td>43.60</td>\n",
       "      <td>7</td>\n",
       "      <td>NaN</td>\n",
       "      <td>...</td>\n",
       "      <td>6.50</td>\n",
       "      <td>2.0</td>\n",
       "      <td>Санкт-Петербург</td>\n",
       "      <td>50898.0</td>\n",
       "      <td>15008.0</td>\n",
       "      <td>0.0</td>\n",
       "      <td>NaN</td>\n",
       "      <td>0.0</td>\n",
       "      <td>NaN</td>\n",
       "      <td>289.0</td>\n",
       "    </tr>\n",
       "  </tbody>\n",
       "</table>\n",
       "<p>10 rows × 22 columns</p>\n",
       "</div>"
      ],
      "text/plain": [
       "   total_images  last_price  total_area first_day_exposition  rooms  \\\n",
       "0            20  13000000.0      108.00  2019-03-07T00:00:00      3   \n",
       "1             7   3350000.0       40.40  2018-12-04T00:00:00      1   \n",
       "2            10   5196000.0       56.00  2015-08-20T00:00:00      2   \n",
       "3             0  64900000.0      159.00  2015-07-24T00:00:00      3   \n",
       "4             2  10000000.0      100.00  2018-06-19T00:00:00      2   \n",
       "5            10   2890000.0       30.40  2018-09-10T00:00:00      1   \n",
       "6             6   3700000.0       37.30  2017-11-02T00:00:00      1   \n",
       "7             5   7915000.0       71.60  2019-04-18T00:00:00      2   \n",
       "8            20   2900000.0       33.16  2018-05-23T00:00:00      1   \n",
       "9            18   5400000.0       61.00  2017-02-26T00:00:00      3   \n",
       "\n",
       "   ceiling_height  floors_total  living_area  floor is_apartment  ...  \\\n",
       "0            2.70          16.0        51.00      8          NaN  ...   \n",
       "1             NaN          11.0        18.60      1          NaN  ...   \n",
       "2             NaN           5.0        34.30      4          NaN  ...   \n",
       "3             NaN          14.0          NaN      9          NaN  ...   \n",
       "4            3.03          14.0        32.00     13          NaN  ...   \n",
       "5             NaN          12.0        14.40      5          NaN  ...   \n",
       "6             NaN          26.0        10.60      6          NaN  ...   \n",
       "7             NaN          24.0          NaN     22          NaN  ...   \n",
       "8             NaN          27.0        15.43     26          NaN  ...   \n",
       "9            2.50           9.0        43.60      7          NaN  ...   \n",
       "\n",
       "   kitchen_area  balcony              locality_name  airports_nearest  \\\n",
       "0         25.00      NaN            Санкт-Петербург           18863.0   \n",
       "1         11.00      2.0             посёлок Шушары           12817.0   \n",
       "2          8.30      0.0            Санкт-Петербург           21741.0   \n",
       "3           NaN      0.0            Санкт-Петербург           28098.0   \n",
       "4         41.00      NaN            Санкт-Петербург           31856.0   \n",
       "5          9.10      NaN  городской посёлок Янино-1               NaN   \n",
       "6         14.40      1.0          посёлок Парголово           52996.0   \n",
       "7         18.90      2.0            Санкт-Петербург           23982.0   \n",
       "8          8.81      NaN             посёлок Мурино               NaN   \n",
       "9          6.50      2.0            Санкт-Петербург           50898.0   \n",
       "\n",
       "  cityCenters_nearest  parks_around3000  parks_nearest  ponds_around3000  \\\n",
       "0             16028.0               1.0          482.0               2.0   \n",
       "1             18603.0               0.0            NaN               0.0   \n",
       "2             13933.0               1.0           90.0               2.0   \n",
       "3              6800.0               2.0           84.0               3.0   \n",
       "4              8098.0               2.0          112.0               1.0   \n",
       "5                 NaN               NaN            NaN               NaN   \n",
       "6             19143.0               0.0            NaN               0.0   \n",
       "7             11634.0               0.0            NaN               0.0   \n",
       "8                 NaN               NaN            NaN               NaN   \n",
       "9             15008.0               0.0            NaN               0.0   \n",
       "\n",
       "   ponds_nearest  days_exposition  \n",
       "0          755.0              NaN  \n",
       "1            NaN             81.0  \n",
       "2          574.0            558.0  \n",
       "3          234.0            424.0  \n",
       "4           48.0            121.0  \n",
       "5            NaN             55.0  \n",
       "6            NaN            155.0  \n",
       "7            NaN              NaN  \n",
       "8            NaN            189.0  \n",
       "9            NaN            289.0  \n",
       "\n",
       "[10 rows x 22 columns]"
      ]
     },
     "execution_count": 2,
     "metadata": {},
     "output_type": "execute_result"
    }
   ],
   "source": [
    "data.head(10)"
   ]
  },
  {
   "cell_type": "code",
   "execution_count": 3,
   "metadata": {},
   "outputs": [
    {
     "data": {
      "text/html": [
       "<div>\n",
       "<style scoped>\n",
       "    .dataframe tbody tr th:only-of-type {\n",
       "        vertical-align: middle;\n",
       "    }\n",
       "\n",
       "    .dataframe tbody tr th {\n",
       "        vertical-align: top;\n",
       "    }\n",
       "\n",
       "    .dataframe thead th {\n",
       "        text-align: right;\n",
       "    }\n",
       "</style>\n",
       "<table border=\"1\" class=\"dataframe\">\n",
       "  <thead>\n",
       "    <tr style=\"text-align: right;\">\n",
       "      <th></th>\n",
       "      <th>total_images</th>\n",
       "      <th>last_price</th>\n",
       "      <th>total_area</th>\n",
       "      <th>first_day_exposition</th>\n",
       "      <th>rooms</th>\n",
       "      <th>ceiling_height</th>\n",
       "      <th>floors_total</th>\n",
       "      <th>living_area</th>\n",
       "      <th>floor</th>\n",
       "      <th>is_apartment</th>\n",
       "      <th>...</th>\n",
       "      <th>kitchen_area</th>\n",
       "      <th>balcony</th>\n",
       "      <th>locality_name</th>\n",
       "      <th>airports_nearest</th>\n",
       "      <th>cityCenters_nearest</th>\n",
       "      <th>parks_around3000</th>\n",
       "      <th>parks_nearest</th>\n",
       "      <th>ponds_around3000</th>\n",
       "      <th>ponds_nearest</th>\n",
       "      <th>days_exposition</th>\n",
       "    </tr>\n",
       "  </thead>\n",
       "  <tbody>\n",
       "    <tr>\n",
       "      <th>23689</th>\n",
       "      <td>13</td>\n",
       "      <td>3550000.0</td>\n",
       "      <td>35.30</td>\n",
       "      <td>2018-02-28T00:00:00</td>\n",
       "      <td>1</td>\n",
       "      <td>2.86</td>\n",
       "      <td>15.0</td>\n",
       "      <td>16.3</td>\n",
       "      <td>4</td>\n",
       "      <td>NaN</td>\n",
       "      <td>...</td>\n",
       "      <td>9.10</td>\n",
       "      <td>2.0</td>\n",
       "      <td>Санкт-Петербург</td>\n",
       "      <td>17284.0</td>\n",
       "      <td>16081.0</td>\n",
       "      <td>1.0</td>\n",
       "      <td>353.0</td>\n",
       "      <td>2.0</td>\n",
       "      <td>652.0</td>\n",
       "      <td>29.0</td>\n",
       "    </tr>\n",
       "    <tr>\n",
       "      <th>23690</th>\n",
       "      <td>3</td>\n",
       "      <td>5500000.0</td>\n",
       "      <td>52.00</td>\n",
       "      <td>2018-07-19T00:00:00</td>\n",
       "      <td>2</td>\n",
       "      <td>NaN</td>\n",
       "      <td>5.0</td>\n",
       "      <td>31.0</td>\n",
       "      <td>2</td>\n",
       "      <td>NaN</td>\n",
       "      <td>...</td>\n",
       "      <td>6.00</td>\n",
       "      <td>NaN</td>\n",
       "      <td>Санкт-Петербург</td>\n",
       "      <td>20151.0</td>\n",
       "      <td>6263.0</td>\n",
       "      <td>1.0</td>\n",
       "      <td>300.0</td>\n",
       "      <td>0.0</td>\n",
       "      <td>NaN</td>\n",
       "      <td>15.0</td>\n",
       "    </tr>\n",
       "    <tr>\n",
       "      <th>23691</th>\n",
       "      <td>11</td>\n",
       "      <td>9470000.0</td>\n",
       "      <td>72.90</td>\n",
       "      <td>2016-10-13T00:00:00</td>\n",
       "      <td>2</td>\n",
       "      <td>2.75</td>\n",
       "      <td>25.0</td>\n",
       "      <td>40.3</td>\n",
       "      <td>7</td>\n",
       "      <td>NaN</td>\n",
       "      <td>...</td>\n",
       "      <td>10.60</td>\n",
       "      <td>1.0</td>\n",
       "      <td>Санкт-Петербург</td>\n",
       "      <td>19424.0</td>\n",
       "      <td>4489.0</td>\n",
       "      <td>0.0</td>\n",
       "      <td>NaN</td>\n",
       "      <td>1.0</td>\n",
       "      <td>806.0</td>\n",
       "      <td>519.0</td>\n",
       "    </tr>\n",
       "    <tr>\n",
       "      <th>23692</th>\n",
       "      <td>2</td>\n",
       "      <td>1350000.0</td>\n",
       "      <td>30.00</td>\n",
       "      <td>2017-07-07T00:00:00</td>\n",
       "      <td>1</td>\n",
       "      <td>NaN</td>\n",
       "      <td>5.0</td>\n",
       "      <td>17.5</td>\n",
       "      <td>4</td>\n",
       "      <td>NaN</td>\n",
       "      <td>...</td>\n",
       "      <td>6.00</td>\n",
       "      <td>NaN</td>\n",
       "      <td>Тихвин</td>\n",
       "      <td>NaN</td>\n",
       "      <td>NaN</td>\n",
       "      <td>NaN</td>\n",
       "      <td>NaN</td>\n",
       "      <td>NaN</td>\n",
       "      <td>NaN</td>\n",
       "      <td>413.0</td>\n",
       "    </tr>\n",
       "    <tr>\n",
       "      <th>23693</th>\n",
       "      <td>9</td>\n",
       "      <td>4600000.0</td>\n",
       "      <td>62.40</td>\n",
       "      <td>2016-08-05T00:00:00</td>\n",
       "      <td>3</td>\n",
       "      <td>2.60</td>\n",
       "      <td>9.0</td>\n",
       "      <td>40.0</td>\n",
       "      <td>8</td>\n",
       "      <td>NaN</td>\n",
       "      <td>...</td>\n",
       "      <td>8.00</td>\n",
       "      <td>0.0</td>\n",
       "      <td>Петергоф</td>\n",
       "      <td>45602.0</td>\n",
       "      <td>34104.0</td>\n",
       "      <td>1.0</td>\n",
       "      <td>352.0</td>\n",
       "      <td>1.0</td>\n",
       "      <td>675.0</td>\n",
       "      <td>239.0</td>\n",
       "    </tr>\n",
       "    <tr>\n",
       "      <th>23694</th>\n",
       "      <td>9</td>\n",
       "      <td>9700000.0</td>\n",
       "      <td>133.81</td>\n",
       "      <td>2017-03-21T00:00:00</td>\n",
       "      <td>3</td>\n",
       "      <td>3.70</td>\n",
       "      <td>5.0</td>\n",
       "      <td>73.3</td>\n",
       "      <td>3</td>\n",
       "      <td>NaN</td>\n",
       "      <td>...</td>\n",
       "      <td>13.83</td>\n",
       "      <td>NaN</td>\n",
       "      <td>Санкт-Петербург</td>\n",
       "      <td>24665.0</td>\n",
       "      <td>4232.0</td>\n",
       "      <td>1.0</td>\n",
       "      <td>796.0</td>\n",
       "      <td>3.0</td>\n",
       "      <td>381.0</td>\n",
       "      <td>NaN</td>\n",
       "    </tr>\n",
       "    <tr>\n",
       "      <th>23695</th>\n",
       "      <td>14</td>\n",
       "      <td>3100000.0</td>\n",
       "      <td>59.00</td>\n",
       "      <td>2018-01-15T00:00:00</td>\n",
       "      <td>3</td>\n",
       "      <td>NaN</td>\n",
       "      <td>5.0</td>\n",
       "      <td>38.0</td>\n",
       "      <td>4</td>\n",
       "      <td>NaN</td>\n",
       "      <td>...</td>\n",
       "      <td>8.50</td>\n",
       "      <td>NaN</td>\n",
       "      <td>Тосно</td>\n",
       "      <td>NaN</td>\n",
       "      <td>NaN</td>\n",
       "      <td>NaN</td>\n",
       "      <td>NaN</td>\n",
       "      <td>NaN</td>\n",
       "      <td>NaN</td>\n",
       "      <td>45.0</td>\n",
       "    </tr>\n",
       "    <tr>\n",
       "      <th>23696</th>\n",
       "      <td>18</td>\n",
       "      <td>2500000.0</td>\n",
       "      <td>56.70</td>\n",
       "      <td>2018-02-11T00:00:00</td>\n",
       "      <td>2</td>\n",
       "      <td>NaN</td>\n",
       "      <td>3.0</td>\n",
       "      <td>29.7</td>\n",
       "      <td>1</td>\n",
       "      <td>NaN</td>\n",
       "      <td>...</td>\n",
       "      <td>NaN</td>\n",
       "      <td>NaN</td>\n",
       "      <td>село Рождествено</td>\n",
       "      <td>NaN</td>\n",
       "      <td>NaN</td>\n",
       "      <td>NaN</td>\n",
       "      <td>NaN</td>\n",
       "      <td>NaN</td>\n",
       "      <td>NaN</td>\n",
       "      <td>NaN</td>\n",
       "    </tr>\n",
       "    <tr>\n",
       "      <th>23697</th>\n",
       "      <td>13</td>\n",
       "      <td>11475000.0</td>\n",
       "      <td>76.75</td>\n",
       "      <td>2017-03-28T00:00:00</td>\n",
       "      <td>2</td>\n",
       "      <td>3.00</td>\n",
       "      <td>17.0</td>\n",
       "      <td>NaN</td>\n",
       "      <td>12</td>\n",
       "      <td>NaN</td>\n",
       "      <td>...</td>\n",
       "      <td>23.30</td>\n",
       "      <td>2.0</td>\n",
       "      <td>Санкт-Петербург</td>\n",
       "      <td>39140.0</td>\n",
       "      <td>10364.0</td>\n",
       "      <td>2.0</td>\n",
       "      <td>173.0</td>\n",
       "      <td>3.0</td>\n",
       "      <td>196.0</td>\n",
       "      <td>602.0</td>\n",
       "    </tr>\n",
       "    <tr>\n",
       "      <th>23698</th>\n",
       "      <td>4</td>\n",
       "      <td>1350000.0</td>\n",
       "      <td>32.30</td>\n",
       "      <td>2017-07-21T00:00:00</td>\n",
       "      <td>1</td>\n",
       "      <td>2.50</td>\n",
       "      <td>5.0</td>\n",
       "      <td>12.3</td>\n",
       "      <td>1</td>\n",
       "      <td>NaN</td>\n",
       "      <td>...</td>\n",
       "      <td>9.00</td>\n",
       "      <td>NaN</td>\n",
       "      <td>поселок Новый Учхоз</td>\n",
       "      <td>NaN</td>\n",
       "      <td>NaN</td>\n",
       "      <td>NaN</td>\n",
       "      <td>NaN</td>\n",
       "      <td>NaN</td>\n",
       "      <td>NaN</td>\n",
       "      <td>NaN</td>\n",
       "    </tr>\n",
       "  </tbody>\n",
       "</table>\n",
       "<p>10 rows × 22 columns</p>\n",
       "</div>"
      ],
      "text/plain": [
       "       total_images  last_price  total_area first_day_exposition  rooms  \\\n",
       "23689            13   3550000.0       35.30  2018-02-28T00:00:00      1   \n",
       "23690             3   5500000.0       52.00  2018-07-19T00:00:00      2   \n",
       "23691            11   9470000.0       72.90  2016-10-13T00:00:00      2   \n",
       "23692             2   1350000.0       30.00  2017-07-07T00:00:00      1   \n",
       "23693             9   4600000.0       62.40  2016-08-05T00:00:00      3   \n",
       "23694             9   9700000.0      133.81  2017-03-21T00:00:00      3   \n",
       "23695            14   3100000.0       59.00  2018-01-15T00:00:00      3   \n",
       "23696            18   2500000.0       56.70  2018-02-11T00:00:00      2   \n",
       "23697            13  11475000.0       76.75  2017-03-28T00:00:00      2   \n",
       "23698             4   1350000.0       32.30  2017-07-21T00:00:00      1   \n",
       "\n",
       "       ceiling_height  floors_total  living_area  floor is_apartment  ...  \\\n",
       "23689            2.86          15.0         16.3      4          NaN  ...   \n",
       "23690             NaN           5.0         31.0      2          NaN  ...   \n",
       "23691            2.75          25.0         40.3      7          NaN  ...   \n",
       "23692             NaN           5.0         17.5      4          NaN  ...   \n",
       "23693            2.60           9.0         40.0      8          NaN  ...   \n",
       "23694            3.70           5.0         73.3      3          NaN  ...   \n",
       "23695             NaN           5.0         38.0      4          NaN  ...   \n",
       "23696             NaN           3.0         29.7      1          NaN  ...   \n",
       "23697            3.00          17.0          NaN     12          NaN  ...   \n",
       "23698            2.50           5.0         12.3      1          NaN  ...   \n",
       "\n",
       "       kitchen_area  balcony        locality_name  airports_nearest  \\\n",
       "23689          9.10      2.0      Санкт-Петербург           17284.0   \n",
       "23690          6.00      NaN      Санкт-Петербург           20151.0   \n",
       "23691         10.60      1.0      Санкт-Петербург           19424.0   \n",
       "23692          6.00      NaN               Тихвин               NaN   \n",
       "23693          8.00      0.0             Петергоф           45602.0   \n",
       "23694         13.83      NaN      Санкт-Петербург           24665.0   \n",
       "23695          8.50      NaN                Тосно               NaN   \n",
       "23696           NaN      NaN     село Рождествено               NaN   \n",
       "23697         23.30      2.0      Санкт-Петербург           39140.0   \n",
       "23698          9.00      NaN  поселок Новый Учхоз               NaN   \n",
       "\n",
       "      cityCenters_nearest  parks_around3000  parks_nearest  ponds_around3000  \\\n",
       "23689             16081.0               1.0          353.0               2.0   \n",
       "23690              6263.0               1.0          300.0               0.0   \n",
       "23691              4489.0               0.0            NaN               1.0   \n",
       "23692                 NaN               NaN            NaN               NaN   \n",
       "23693             34104.0               1.0          352.0               1.0   \n",
       "23694              4232.0               1.0          796.0               3.0   \n",
       "23695                 NaN               NaN            NaN               NaN   \n",
       "23696                 NaN               NaN            NaN               NaN   \n",
       "23697             10364.0               2.0          173.0               3.0   \n",
       "23698                 NaN               NaN            NaN               NaN   \n",
       "\n",
       "       ponds_nearest  days_exposition  \n",
       "23689          652.0             29.0  \n",
       "23690            NaN             15.0  \n",
       "23691          806.0            519.0  \n",
       "23692            NaN            413.0  \n",
       "23693          675.0            239.0  \n",
       "23694          381.0              NaN  \n",
       "23695            NaN             45.0  \n",
       "23696            NaN              NaN  \n",
       "23697          196.0            602.0  \n",
       "23698            NaN              NaN  \n",
       "\n",
       "[10 rows x 22 columns]"
      ]
     },
     "execution_count": 3,
     "metadata": {},
     "output_type": "execute_result"
    }
   ],
   "source": [
    "data.tail(10)"
   ]
  },
  {
   "cell_type": "code",
   "execution_count": 4,
   "metadata": {},
   "outputs": [
    {
     "name": "stdout",
     "output_type": "stream",
     "text": [
      "<class 'pandas.core.frame.DataFrame'>\n",
      "RangeIndex: 23699 entries, 0 to 23698\n",
      "Data columns (total 22 columns):\n",
      " #   Column                Non-Null Count  Dtype  \n",
      "---  ------                --------------  -----  \n",
      " 0   total_images          23699 non-null  int64  \n",
      " 1   last_price            23699 non-null  float64\n",
      " 2   total_area            23699 non-null  float64\n",
      " 3   first_day_exposition  23699 non-null  object \n",
      " 4   rooms                 23699 non-null  int64  \n",
      " 5   ceiling_height        14504 non-null  float64\n",
      " 6   floors_total          23613 non-null  float64\n",
      " 7   living_area           21796 non-null  float64\n",
      " 8   floor                 23699 non-null  int64  \n",
      " 9   is_apartment          2775 non-null   object \n",
      " 10  studio                23699 non-null  bool   \n",
      " 11  open_plan             23699 non-null  bool   \n",
      " 12  kitchen_area          21421 non-null  float64\n",
      " 13  balcony               12180 non-null  float64\n",
      " 14  locality_name         23650 non-null  object \n",
      " 15  airports_nearest      18157 non-null  float64\n",
      " 16  cityCenters_nearest   18180 non-null  float64\n",
      " 17  parks_around3000      18181 non-null  float64\n",
      " 18  parks_nearest         8079 non-null   float64\n",
      " 19  ponds_around3000      18181 non-null  float64\n",
      " 20  ponds_nearest         9110 non-null   float64\n",
      " 21  days_exposition       20518 non-null  float64\n",
      "dtypes: bool(2), float64(14), int64(3), object(3)\n",
      "memory usage: 3.7+ MB\n"
     ]
    }
   ],
   "source": [
    "data.info()"
   ]
  },
  {
   "cell_type": "code",
   "execution_count": 5,
   "metadata": {},
   "outputs": [
    {
     "data": {
      "text/html": [
       "<div>\n",
       "<style scoped>\n",
       "    .dataframe tbody tr th:only-of-type {\n",
       "        vertical-align: middle;\n",
       "    }\n",
       "\n",
       "    .dataframe tbody tr th {\n",
       "        vertical-align: top;\n",
       "    }\n",
       "\n",
       "    .dataframe thead th {\n",
       "        text-align: right;\n",
       "    }\n",
       "</style>\n",
       "<table border=\"1\" class=\"dataframe\">\n",
       "  <thead>\n",
       "    <tr style=\"text-align: right;\">\n",
       "      <th></th>\n",
       "      <th>total_images</th>\n",
       "      <th>last_price</th>\n",
       "      <th>total_area</th>\n",
       "      <th>rooms</th>\n",
       "      <th>ceiling_height</th>\n",
       "      <th>floors_total</th>\n",
       "      <th>living_area</th>\n",
       "      <th>floor</th>\n",
       "      <th>kitchen_area</th>\n",
       "      <th>balcony</th>\n",
       "      <th>airports_nearest</th>\n",
       "      <th>cityCenters_nearest</th>\n",
       "      <th>parks_around3000</th>\n",
       "      <th>parks_nearest</th>\n",
       "      <th>ponds_around3000</th>\n",
       "      <th>ponds_nearest</th>\n",
       "      <th>days_exposition</th>\n",
       "    </tr>\n",
       "  </thead>\n",
       "  <tbody>\n",
       "    <tr>\n",
       "      <th>count</th>\n",
       "      <td>23699.000000</td>\n",
       "      <td>2.369900e+04</td>\n",
       "      <td>23699.000000</td>\n",
       "      <td>23699.000000</td>\n",
       "      <td>14504.000000</td>\n",
       "      <td>23613.000000</td>\n",
       "      <td>21796.000000</td>\n",
       "      <td>23699.000000</td>\n",
       "      <td>21421.000000</td>\n",
       "      <td>12180.000000</td>\n",
       "      <td>18157.000000</td>\n",
       "      <td>18180.000000</td>\n",
       "      <td>18181.000000</td>\n",
       "      <td>8079.000000</td>\n",
       "      <td>18181.000000</td>\n",
       "      <td>9110.000000</td>\n",
       "      <td>20518.000000</td>\n",
       "    </tr>\n",
       "    <tr>\n",
       "      <th>mean</th>\n",
       "      <td>9.858475</td>\n",
       "      <td>6.541549e+06</td>\n",
       "      <td>60.348651</td>\n",
       "      <td>2.070636</td>\n",
       "      <td>2.771499</td>\n",
       "      <td>10.673824</td>\n",
       "      <td>34.457852</td>\n",
       "      <td>5.892358</td>\n",
       "      <td>10.569807</td>\n",
       "      <td>1.150082</td>\n",
       "      <td>28793.672193</td>\n",
       "      <td>14191.277833</td>\n",
       "      <td>0.611408</td>\n",
       "      <td>490.804555</td>\n",
       "      <td>0.770255</td>\n",
       "      <td>517.980900</td>\n",
       "      <td>180.888634</td>\n",
       "    </tr>\n",
       "    <tr>\n",
       "      <th>std</th>\n",
       "      <td>5.682529</td>\n",
       "      <td>1.088701e+07</td>\n",
       "      <td>35.654083</td>\n",
       "      <td>1.078405</td>\n",
       "      <td>1.261056</td>\n",
       "      <td>6.597173</td>\n",
       "      <td>22.030445</td>\n",
       "      <td>4.885249</td>\n",
       "      <td>5.905438</td>\n",
       "      <td>1.071300</td>\n",
       "      <td>12630.880622</td>\n",
       "      <td>8608.386210</td>\n",
       "      <td>0.802074</td>\n",
       "      <td>342.317995</td>\n",
       "      <td>0.938346</td>\n",
       "      <td>277.720643</td>\n",
       "      <td>219.727988</td>\n",
       "    </tr>\n",
       "    <tr>\n",
       "      <th>min</th>\n",
       "      <td>0.000000</td>\n",
       "      <td>1.219000e+04</td>\n",
       "      <td>12.000000</td>\n",
       "      <td>0.000000</td>\n",
       "      <td>1.000000</td>\n",
       "      <td>1.000000</td>\n",
       "      <td>2.000000</td>\n",
       "      <td>1.000000</td>\n",
       "      <td>1.300000</td>\n",
       "      <td>0.000000</td>\n",
       "      <td>0.000000</td>\n",
       "      <td>181.000000</td>\n",
       "      <td>0.000000</td>\n",
       "      <td>1.000000</td>\n",
       "      <td>0.000000</td>\n",
       "      <td>13.000000</td>\n",
       "      <td>1.000000</td>\n",
       "    </tr>\n",
       "    <tr>\n",
       "      <th>25%</th>\n",
       "      <td>6.000000</td>\n",
       "      <td>3.400000e+06</td>\n",
       "      <td>40.000000</td>\n",
       "      <td>1.000000</td>\n",
       "      <td>2.520000</td>\n",
       "      <td>5.000000</td>\n",
       "      <td>18.600000</td>\n",
       "      <td>2.000000</td>\n",
       "      <td>7.000000</td>\n",
       "      <td>0.000000</td>\n",
       "      <td>18585.000000</td>\n",
       "      <td>9238.000000</td>\n",
       "      <td>0.000000</td>\n",
       "      <td>288.000000</td>\n",
       "      <td>0.000000</td>\n",
       "      <td>294.000000</td>\n",
       "      <td>45.000000</td>\n",
       "    </tr>\n",
       "    <tr>\n",
       "      <th>50%</th>\n",
       "      <td>9.000000</td>\n",
       "      <td>4.650000e+06</td>\n",
       "      <td>52.000000</td>\n",
       "      <td>2.000000</td>\n",
       "      <td>2.650000</td>\n",
       "      <td>9.000000</td>\n",
       "      <td>30.000000</td>\n",
       "      <td>4.000000</td>\n",
       "      <td>9.100000</td>\n",
       "      <td>1.000000</td>\n",
       "      <td>26726.000000</td>\n",
       "      <td>13098.500000</td>\n",
       "      <td>0.000000</td>\n",
       "      <td>455.000000</td>\n",
       "      <td>1.000000</td>\n",
       "      <td>502.000000</td>\n",
       "      <td>95.000000</td>\n",
       "    </tr>\n",
       "    <tr>\n",
       "      <th>75%</th>\n",
       "      <td>14.000000</td>\n",
       "      <td>6.800000e+06</td>\n",
       "      <td>69.900000</td>\n",
       "      <td>3.000000</td>\n",
       "      <td>2.800000</td>\n",
       "      <td>16.000000</td>\n",
       "      <td>42.300000</td>\n",
       "      <td>8.000000</td>\n",
       "      <td>12.000000</td>\n",
       "      <td>2.000000</td>\n",
       "      <td>37273.000000</td>\n",
       "      <td>16293.000000</td>\n",
       "      <td>1.000000</td>\n",
       "      <td>612.000000</td>\n",
       "      <td>1.000000</td>\n",
       "      <td>729.000000</td>\n",
       "      <td>232.000000</td>\n",
       "    </tr>\n",
       "    <tr>\n",
       "      <th>max</th>\n",
       "      <td>50.000000</td>\n",
       "      <td>7.630000e+08</td>\n",
       "      <td>900.000000</td>\n",
       "      <td>19.000000</td>\n",
       "      <td>100.000000</td>\n",
       "      <td>60.000000</td>\n",
       "      <td>409.700000</td>\n",
       "      <td>33.000000</td>\n",
       "      <td>112.000000</td>\n",
       "      <td>5.000000</td>\n",
       "      <td>84869.000000</td>\n",
       "      <td>65968.000000</td>\n",
       "      <td>3.000000</td>\n",
       "      <td>3190.000000</td>\n",
       "      <td>3.000000</td>\n",
       "      <td>1344.000000</td>\n",
       "      <td>1580.000000</td>\n",
       "    </tr>\n",
       "  </tbody>\n",
       "</table>\n",
       "</div>"
      ],
      "text/plain": [
       "       total_images    last_price    total_area         rooms  ceiling_height  \\\n",
       "count  23699.000000  2.369900e+04  23699.000000  23699.000000    14504.000000   \n",
       "mean       9.858475  6.541549e+06     60.348651      2.070636        2.771499   \n",
       "std        5.682529  1.088701e+07     35.654083      1.078405        1.261056   \n",
       "min        0.000000  1.219000e+04     12.000000      0.000000        1.000000   \n",
       "25%        6.000000  3.400000e+06     40.000000      1.000000        2.520000   \n",
       "50%        9.000000  4.650000e+06     52.000000      2.000000        2.650000   \n",
       "75%       14.000000  6.800000e+06     69.900000      3.000000        2.800000   \n",
       "max       50.000000  7.630000e+08    900.000000     19.000000      100.000000   \n",
       "\n",
       "       floors_total   living_area         floor  kitchen_area       balcony  \\\n",
       "count  23613.000000  21796.000000  23699.000000  21421.000000  12180.000000   \n",
       "mean      10.673824     34.457852      5.892358     10.569807      1.150082   \n",
       "std        6.597173     22.030445      4.885249      5.905438      1.071300   \n",
       "min        1.000000      2.000000      1.000000      1.300000      0.000000   \n",
       "25%        5.000000     18.600000      2.000000      7.000000      0.000000   \n",
       "50%        9.000000     30.000000      4.000000      9.100000      1.000000   \n",
       "75%       16.000000     42.300000      8.000000     12.000000      2.000000   \n",
       "max       60.000000    409.700000     33.000000    112.000000      5.000000   \n",
       "\n",
       "       airports_nearest  cityCenters_nearest  parks_around3000  parks_nearest  \\\n",
       "count      18157.000000         18180.000000      18181.000000    8079.000000   \n",
       "mean       28793.672193         14191.277833          0.611408     490.804555   \n",
       "std        12630.880622          8608.386210          0.802074     342.317995   \n",
       "min            0.000000           181.000000          0.000000       1.000000   \n",
       "25%        18585.000000          9238.000000          0.000000     288.000000   \n",
       "50%        26726.000000         13098.500000          0.000000     455.000000   \n",
       "75%        37273.000000         16293.000000          1.000000     612.000000   \n",
       "max        84869.000000         65968.000000          3.000000    3190.000000   \n",
       "\n",
       "       ponds_around3000  ponds_nearest  days_exposition  \n",
       "count      18181.000000    9110.000000     20518.000000  \n",
       "mean           0.770255     517.980900       180.888634  \n",
       "std            0.938346     277.720643       219.727988  \n",
       "min            0.000000      13.000000         1.000000  \n",
       "25%            0.000000     294.000000        45.000000  \n",
       "50%            1.000000     502.000000        95.000000  \n",
       "75%            1.000000     729.000000       232.000000  \n",
       "max            3.000000    1344.000000      1580.000000  "
      ]
     },
     "execution_count": 5,
     "metadata": {},
     "output_type": "execute_result"
    }
   ],
   "source": [
    "data.describe()"
   ]
  },
  {
   "cell_type": "code",
   "execution_count": 6,
   "metadata": {},
   "outputs": [
    {
     "data": {
      "text/plain": [
       "total_images                0\n",
       "last_price                  0\n",
       "total_area                  0\n",
       "first_day_exposition        0\n",
       "rooms                       0\n",
       "ceiling_height           9195\n",
       "floors_total               86\n",
       "living_area              1903\n",
       "floor                       0\n",
       "is_apartment            20924\n",
       "studio                      0\n",
       "open_plan                   0\n",
       "kitchen_area             2278\n",
       "balcony                 11519\n",
       "locality_name              49\n",
       "airports_nearest         5542\n",
       "cityCenters_nearest      5519\n",
       "parks_around3000         5518\n",
       "parks_nearest           15620\n",
       "ponds_around3000         5518\n",
       "ponds_nearest           14589\n",
       "days_exposition          3181\n",
       "dtype: int64"
      ]
     },
     "execution_count": 6,
     "metadata": {},
     "output_type": "execute_result"
    }
   ],
   "source": [
    "data.isna().sum()"
   ]
  },
  {
   "cell_type": "markdown",
   "metadata": {},
   "source": [
    "### Выводы\n",
    "1) 22 метрики, 23699 наблюдений  \n",
    "2) В данных присутсвуют пропуски  \n",
    "3) В некоторых столбцах необходимо поменять тип данных (is_apartment, first_day_exposition, floors_total...)"
   ]
  },
  {
   "cell_type": "markdown",
   "metadata": {},
   "source": [
    "<div class=\"alert alert-success\">\n",
    "<b class=\"alert-heading\"> Комментарий ревьюера: ОК</b>\n",
    "\n",
    "Отлично, данные загружены. Молодец, что пользуешься методом info(). Верно замечено, что есть много пропущенных значений. На стадии первичного анализа данных можно смотреть, есть ли дубликаты, какой процент данных составляют пропуски, сколько уникальных значений содержит каждый признак и т.д.\n",
    "\n",
    "Можно также написать универсальную функцию для первичного анализа датасета, которую потом переиспользовать в следующих проектах — это сэкономит время в дальнейшем. Данный совет ни в коем случае не обязательный, отдаю на твое усмотрение :)\n",
    "\n",
    "</div>"
   ]
  },
  {
   "cell_type": "markdown",
   "metadata": {},
   "source": [
    "### Вывод"
   ]
  },
  {
   "cell_type": "markdown",
   "metadata": {},
   "source": [
    "## Предобработка данных"
   ]
  },
  {
   "cell_type": "markdown",
   "metadata": {},
   "source": [
    "### Исследование пропусков"
   ]
  },
  {
   "cell_type": "markdown",
   "metadata": {},
   "source": [
    "Проверим сколько пропусков в каждом из столбцов:"
   ]
  },
  {
   "cell_type": "code",
   "execution_count": 7,
   "metadata": {},
   "outputs": [
    {
     "data": {
      "text/html": [
       "<style  type=\"text/css\" >\n",
       "</style><table id=\"T_6c4da_\" ><thead>    <tr>        <th class=\"blank level0\" ></th>        <th class=\"col_heading level0 col0\" >columns</th>        <th class=\"col_heading level0 col1\" >missing_values</th>    </tr></thead><tbody>\n",
       "                <tr>\n",
       "                        <th id=\"T_6c4da_level0_row0\" class=\"row_heading level0 row0\" >9</th>\n",
       "                        <td id=\"T_6c4da_row0_col0\" class=\"data row0 col0\" >is_apartment</td>\n",
       "                        <td id=\"T_6c4da_row0_col1\" class=\"data row0 col1\" >88.29%</td>\n",
       "            </tr>\n",
       "            <tr>\n",
       "                        <th id=\"T_6c4da_level0_row1\" class=\"row_heading level0 row1\" >18</th>\n",
       "                        <td id=\"T_6c4da_row1_col0\" class=\"data row1 col0\" >parks_nearest</td>\n",
       "                        <td id=\"T_6c4da_row1_col1\" class=\"data row1 col1\" >65.91%</td>\n",
       "            </tr>\n",
       "            <tr>\n",
       "                        <th id=\"T_6c4da_level0_row2\" class=\"row_heading level0 row2\" >20</th>\n",
       "                        <td id=\"T_6c4da_row2_col0\" class=\"data row2 col0\" >ponds_nearest</td>\n",
       "                        <td id=\"T_6c4da_row2_col1\" class=\"data row2 col1\" >61.56%</td>\n",
       "            </tr>\n",
       "            <tr>\n",
       "                        <th id=\"T_6c4da_level0_row3\" class=\"row_heading level0 row3\" >13</th>\n",
       "                        <td id=\"T_6c4da_row3_col0\" class=\"data row3 col0\" >balcony</td>\n",
       "                        <td id=\"T_6c4da_row3_col1\" class=\"data row3 col1\" >48.61%</td>\n",
       "            </tr>\n",
       "            <tr>\n",
       "                        <th id=\"T_6c4da_level0_row4\" class=\"row_heading level0 row4\" >5</th>\n",
       "                        <td id=\"T_6c4da_row4_col0\" class=\"data row4 col0\" >ceiling_height</td>\n",
       "                        <td id=\"T_6c4da_row4_col1\" class=\"data row4 col1\" >38.80%</td>\n",
       "            </tr>\n",
       "            <tr>\n",
       "                        <th id=\"T_6c4da_level0_row5\" class=\"row_heading level0 row5\" >15</th>\n",
       "                        <td id=\"T_6c4da_row5_col0\" class=\"data row5 col0\" >airports_nearest</td>\n",
       "                        <td id=\"T_6c4da_row5_col1\" class=\"data row5 col1\" >23.38%</td>\n",
       "            </tr>\n",
       "            <tr>\n",
       "                        <th id=\"T_6c4da_level0_row6\" class=\"row_heading level0 row6\" >16</th>\n",
       "                        <td id=\"T_6c4da_row6_col0\" class=\"data row6 col0\" >cityCenters_nearest</td>\n",
       "                        <td id=\"T_6c4da_row6_col1\" class=\"data row6 col1\" >23.29%</td>\n",
       "            </tr>\n",
       "            <tr>\n",
       "                        <th id=\"T_6c4da_level0_row7\" class=\"row_heading level0 row7\" >19</th>\n",
       "                        <td id=\"T_6c4da_row7_col0\" class=\"data row7 col0\" >ponds_around3000</td>\n",
       "                        <td id=\"T_6c4da_row7_col1\" class=\"data row7 col1\" >23.28%</td>\n",
       "            </tr>\n",
       "            <tr>\n",
       "                        <th id=\"T_6c4da_level0_row8\" class=\"row_heading level0 row8\" >17</th>\n",
       "                        <td id=\"T_6c4da_row8_col0\" class=\"data row8 col0\" >parks_around3000</td>\n",
       "                        <td id=\"T_6c4da_row8_col1\" class=\"data row8 col1\" >23.28%</td>\n",
       "            </tr>\n",
       "            <tr>\n",
       "                        <th id=\"T_6c4da_level0_row9\" class=\"row_heading level0 row9\" >21</th>\n",
       "                        <td id=\"T_6c4da_row9_col0\" class=\"data row9 col0\" >days_exposition</td>\n",
       "                        <td id=\"T_6c4da_row9_col1\" class=\"data row9 col1\" >13.42%</td>\n",
       "            </tr>\n",
       "            <tr>\n",
       "                        <th id=\"T_6c4da_level0_row10\" class=\"row_heading level0 row10\" >12</th>\n",
       "                        <td id=\"T_6c4da_row10_col0\" class=\"data row10 col0\" >kitchen_area</td>\n",
       "                        <td id=\"T_6c4da_row10_col1\" class=\"data row10 col1\" >9.61%</td>\n",
       "            </tr>\n",
       "            <tr>\n",
       "                        <th id=\"T_6c4da_level0_row11\" class=\"row_heading level0 row11\" >7</th>\n",
       "                        <td id=\"T_6c4da_row11_col0\" class=\"data row11 col0\" >living_area</td>\n",
       "                        <td id=\"T_6c4da_row11_col1\" class=\"data row11 col1\" >8.03%</td>\n",
       "            </tr>\n",
       "            <tr>\n",
       "                        <th id=\"T_6c4da_level0_row12\" class=\"row_heading level0 row12\" >6</th>\n",
       "                        <td id=\"T_6c4da_row12_col0\" class=\"data row12 col0\" >floors_total</td>\n",
       "                        <td id=\"T_6c4da_row12_col1\" class=\"data row12 col1\" >0.36%</td>\n",
       "            </tr>\n",
       "            <tr>\n",
       "                        <th id=\"T_6c4da_level0_row13\" class=\"row_heading level0 row13\" >14</th>\n",
       "                        <td id=\"T_6c4da_row13_col0\" class=\"data row13 col0\" >locality_name</td>\n",
       "                        <td id=\"T_6c4da_row13_col1\" class=\"data row13 col1\" >0.21%</td>\n",
       "            </tr>\n",
       "            <tr>\n",
       "                        <th id=\"T_6c4da_level0_row14\" class=\"row_heading level0 row14\" >0</th>\n",
       "                        <td id=\"T_6c4da_row14_col0\" class=\"data row14 col0\" >total_images</td>\n",
       "                        <td id=\"T_6c4da_row14_col1\" class=\"data row14 col1\" >0.00%</td>\n",
       "            </tr>\n",
       "            <tr>\n",
       "                        <th id=\"T_6c4da_level0_row15\" class=\"row_heading level0 row15\" >1</th>\n",
       "                        <td id=\"T_6c4da_row15_col0\" class=\"data row15 col0\" >last_price</td>\n",
       "                        <td id=\"T_6c4da_row15_col1\" class=\"data row15 col1\" >0.00%</td>\n",
       "            </tr>\n",
       "            <tr>\n",
       "                        <th id=\"T_6c4da_level0_row16\" class=\"row_heading level0 row16\" >10</th>\n",
       "                        <td id=\"T_6c4da_row16_col0\" class=\"data row16 col0\" >studio</td>\n",
       "                        <td id=\"T_6c4da_row16_col1\" class=\"data row16 col1\" >0.00%</td>\n",
       "            </tr>\n",
       "            <tr>\n",
       "                        <th id=\"T_6c4da_level0_row17\" class=\"row_heading level0 row17\" >8</th>\n",
       "                        <td id=\"T_6c4da_row17_col0\" class=\"data row17 col0\" >floor</td>\n",
       "                        <td id=\"T_6c4da_row17_col1\" class=\"data row17 col1\" >0.00%</td>\n",
       "            </tr>\n",
       "            <tr>\n",
       "                        <th id=\"T_6c4da_level0_row18\" class=\"row_heading level0 row18\" >4</th>\n",
       "                        <td id=\"T_6c4da_row18_col0\" class=\"data row18 col0\" >rooms</td>\n",
       "                        <td id=\"T_6c4da_row18_col1\" class=\"data row18 col1\" >0.00%</td>\n",
       "            </tr>\n",
       "            <tr>\n",
       "                        <th id=\"T_6c4da_level0_row19\" class=\"row_heading level0 row19\" >3</th>\n",
       "                        <td id=\"T_6c4da_row19_col0\" class=\"data row19 col0\" >first_day_exposition</td>\n",
       "                        <td id=\"T_6c4da_row19_col1\" class=\"data row19 col1\" >0.00%</td>\n",
       "            </tr>\n",
       "            <tr>\n",
       "                        <th id=\"T_6c4da_level0_row20\" class=\"row_heading level0 row20\" >2</th>\n",
       "                        <td id=\"T_6c4da_row20_col0\" class=\"data row20 col0\" >total_area</td>\n",
       "                        <td id=\"T_6c4da_row20_col1\" class=\"data row20 col1\" >0.00%</td>\n",
       "            </tr>\n",
       "            <tr>\n",
       "                        <th id=\"T_6c4da_level0_row21\" class=\"row_heading level0 row21\" >11</th>\n",
       "                        <td id=\"T_6c4da_row21_col0\" class=\"data row21 col0\" >open_plan</td>\n",
       "                        <td id=\"T_6c4da_row21_col1\" class=\"data row21 col1\" >0.00%</td>\n",
       "            </tr>\n",
       "    </tbody></table>"
      ],
      "text/plain": [
       "<pandas.io.formats.style.Styler at 0x7efdb0c32f70>"
      ]
     },
     "execution_count": 7,
     "metadata": {},
     "output_type": "execute_result"
    }
   ],
   "source": [
    "null_values =pd.DataFrame(data.isna().mean()).reset_index()\n",
    "null_values.set_axis(['columns', 'missing_values'], axis = 'columns', inplace = True)\n",
    "null_values.sort_values(by='missing_values', ascending=False).style.format({'missing_values': '{:,.2%}'.format})"
   ]
  },
  {
   "cell_type": "markdown",
   "metadata": {},
   "source": [
    "Столбец is_apartment: В нем обнаружено больше всего пропусков\n",
    "Посмотрим, какие значения присуствуют в столбце:"
   ]
  },
  {
   "cell_type": "code",
   "execution_count": 8,
   "metadata": {},
   "outputs": [
    {
     "data": {
      "text/plain": [
       "False    2725\n",
       "True       50\n",
       "Name: is_apartment, dtype: int64"
      ]
     },
     "execution_count": 8,
     "metadata": {},
     "output_type": "execute_result"
    }
   ],
   "source": [
    "data['is_apartment'].value_counts()"
   ]
  },
  {
   "cell_type": "markdown",
   "metadata": {},
   "source": [
    "Поскольку апартаментов всего 50, можно предположить, что либо их дейтсвительно в базе мало, либо их заполняли не с самого начала, заменим все отсутвующие данные в этом столбце на False:"
   ]
  },
  {
   "cell_type": "code",
   "execution_count": 9,
   "metadata": {},
   "outputs": [],
   "source": [
    "data['is_apartment'] = data['is_apartment'].fillna(False)"
   ]
  },
  {
   "cell_type": "code",
   "execution_count": 10,
   "metadata": {},
   "outputs": [
    {
     "data": {
      "text/plain": [
       "0"
      ]
     },
     "execution_count": 10,
     "metadata": {},
     "output_type": "execute_result"
    }
   ],
   "source": [
    "data['is_apartment'].isna().sum()"
   ]
  },
  {
   "cell_type": "markdown",
   "metadata": {},
   "source": [
    "Пропуски заполнены"
   ]
  },
  {
   "cell_type": "markdown",
   "metadata": {},
   "source": [
    "Столбцы parks_nearest, ponds_nearest, ponds_around3000, parks_around3000, cityCenters_nearest, airports_nearest\n"
   ]
  },
  {
   "cell_type": "code",
   "execution_count": 11,
   "metadata": {},
   "outputs": [
    {
     "data": {
      "text/plain": [
       "441.0     67\n",
       "392.0     41\n",
       "173.0     41\n",
       "456.0     40\n",
       "471.0     32\n",
       "          ..\n",
       "2489.0     1\n",
       "786.0      1\n",
       "793.0      1\n",
       "92.0       1\n",
       "929.0      1\n",
       "Name: parks_nearest, Length: 995, dtype: int64"
      ]
     },
     "execution_count": 11,
     "metadata": {},
     "output_type": "execute_result"
    }
   ],
   "source": [
    "data['parks_nearest'].value_counts()"
   ]
  },
  {
   "cell_type": "code",
   "execution_count": 12,
   "metadata": {},
   "outputs": [
    {
     "data": {
      "text/plain": [
       "427.0     70\n",
       "454.0     41\n",
       "153.0     40\n",
       "433.0     39\n",
       "564.0     37\n",
       "          ..\n",
       "1075.0     1\n",
       "74.0       1\n",
       "1236.0     1\n",
       "395.0      1\n",
       "995.0      1\n",
       "Name: ponds_nearest, Length: 1096, dtype: int64"
      ]
     },
     "execution_count": 12,
     "metadata": {},
     "output_type": "execute_result"
    }
   ],
   "source": [
    "data['ponds_nearest'].value_counts()\n"
   ]
  },
  {
   "cell_type": "code",
   "execution_count": 13,
   "metadata": {},
   "outputs": [
    {
     "data": {
      "text/plain": [
       "0.0    9071\n",
       "1.0    5717\n",
       "2.0    1892\n",
       "3.0    1501\n",
       "Name: ponds_around3000, dtype: int64"
      ]
     },
     "execution_count": 13,
     "metadata": {},
     "output_type": "execute_result"
    }
   ],
   "source": [
    "data['ponds_around3000'].value_counts()\n"
   ]
  },
  {
   "cell_type": "code",
   "execution_count": 14,
   "metadata": {},
   "outputs": [
    {
     "data": {
      "text/plain": [
       "0.0    10106\n",
       "1.0     5681\n",
       "2.0     1747\n",
       "3.0      647\n",
       "Name: parks_around3000, dtype: int64"
      ]
     },
     "execution_count": 14,
     "metadata": {},
     "output_type": "execute_result"
    }
   ],
   "source": [
    "data['parks_around3000'].value_counts()"
   ]
  },
  {
   "cell_type": "code",
   "execution_count": 15,
   "metadata": {},
   "outputs": [
    {
     "data": {
      "text/plain": [
       "8460.0     61\n",
       "20802.0    32\n",
       "10720.0    30\n",
       "8434.0     27\n",
       "20444.0    27\n",
       "           ..\n",
       "5278.0      1\n",
       "11575.0     1\n",
       "3205.0      1\n",
       "12747.0     1\n",
       "4234.0      1\n",
       "Name: cityCenters_nearest, Length: 7642, dtype: int64"
      ]
     },
     "execution_count": 15,
     "metadata": {},
     "output_type": "execute_result"
    }
   ],
   "source": [
    "data['cityCenters_nearest'].value_counts()"
   ]
  },
  {
   "cell_type": "code",
   "execution_count": 16,
   "metadata": {},
   "outputs": [
    {
     "data": {
      "text/plain": [
       "37434.0    61\n",
       "21928.0    32\n",
       "39946.0    30\n",
       "44870.0    30\n",
       "18732.0    27\n",
       "           ..\n",
       "53478.0     1\n",
       "20335.0     1\n",
       "33699.0     1\n",
       "26945.0     1\n",
       "20875.0     1\n",
       "Name: airports_nearest, Length: 8275, dtype: int64"
      ]
     },
     "execution_count": 16,
     "metadata": {},
     "output_type": "execute_result"
    }
   ],
   "source": [
    "data['airports_nearest'].value_counts()"
   ]
  },
  {
   "cell_type": "markdown",
   "metadata": {},
   "source": [
    "В этих столбцах не замечено выбросов, они сами по себе не являются самыми важными при поиске жилья, пропуски можно не удалять"
   ]
  },
  {
   "cell_type": "markdown",
   "metadata": {},
   "source": [
    "Столбец **balcony**  \n",
    "\n"
   ]
  },
  {
   "cell_type": "code",
   "execution_count": 17,
   "metadata": {},
   "outputs": [
    {
     "data": {
      "text/plain": [
       "1.0    4195\n",
       "0.0    3758\n",
       "2.0    3659\n",
       "5.0     304\n",
       "4.0     183\n",
       "3.0      81\n",
       "Name: balcony, dtype: int64"
      ]
     },
     "execution_count": 17,
     "metadata": {},
     "output_type": "execute_result"
    }
   ],
   "source": [
    "data['balcony'].value_counts()"
   ]
  },
  {
   "cell_type": "markdown",
   "metadata": {},
   "source": [
    "Выбросов нет, пропущенные значения скорее всего свидетельствуют об отсутсвии балкона, заполним пропуски 0:"
   ]
  },
  {
   "cell_type": "code",
   "execution_count": 18,
   "metadata": {},
   "outputs": [
    {
     "data": {
      "text/plain": [
       "0"
      ]
     },
     "execution_count": 18,
     "metadata": {},
     "output_type": "execute_result"
    }
   ],
   "source": [
    "data['balcony'] = data['balcony'].fillna(0)\n",
    "data['balcony'].isna().sum()"
   ]
  },
  {
   "cell_type": "markdown",
   "metadata": {},
   "source": [
    "Пропуски заполнены"
   ]
  },
  {
   "cell_type": "markdown",
   "metadata": {},
   "source": [
    "Столбец **ceiling_height**"
   ]
  },
  {
   "cell_type": "code",
   "execution_count": 19,
   "metadata": {},
   "outputs": [
    {
     "data": {
      "text/plain": [
       "2.50     3515\n",
       "2.60     1646\n",
       "2.70     1574\n",
       "3.00     1112\n",
       "2.80      993\n",
       "         ... \n",
       "4.25        1\n",
       "3.39        1\n",
       "3.93        1\n",
       "10.30       1\n",
       "4.65        1\n",
       "Name: ceiling_height, Length: 183, dtype: int64"
      ]
     },
     "execution_count": 19,
     "metadata": {},
     "output_type": "execute_result"
    }
   ],
   "source": [
    "data['ceiling_height'].value_counts()"
   ]
  },
  {
   "cell_type": "markdown",
   "metadata": {},
   "source": [
    "В данных присутсвуют странные единичные  значения высоты потолков, посмотрим, что это за строки:"
   ]
  },
  {
   "cell_type": "code",
   "execution_count": 20,
   "metadata": {},
   "outputs": [
    {
     "data": {
      "text/html": [
       "<div>\n",
       "<style scoped>\n",
       "    .dataframe tbody tr th:only-of-type {\n",
       "        vertical-align: middle;\n",
       "    }\n",
       "\n",
       "    .dataframe tbody tr th {\n",
       "        vertical-align: top;\n",
       "    }\n",
       "\n",
       "    .dataframe thead th {\n",
       "        text-align: right;\n",
       "    }\n",
       "</style>\n",
       "<table border=\"1\" class=\"dataframe\">\n",
       "  <thead>\n",
       "    <tr style=\"text-align: right;\">\n",
       "      <th></th>\n",
       "      <th>total_images</th>\n",
       "      <th>last_price</th>\n",
       "      <th>total_area</th>\n",
       "      <th>first_day_exposition</th>\n",
       "      <th>rooms</th>\n",
       "      <th>ceiling_height</th>\n",
       "      <th>floors_total</th>\n",
       "      <th>living_area</th>\n",
       "      <th>floor</th>\n",
       "      <th>is_apartment</th>\n",
       "      <th>...</th>\n",
       "      <th>kitchen_area</th>\n",
       "      <th>balcony</th>\n",
       "      <th>locality_name</th>\n",
       "      <th>airports_nearest</th>\n",
       "      <th>cityCenters_nearest</th>\n",
       "      <th>parks_around3000</th>\n",
       "      <th>parks_nearest</th>\n",
       "      <th>ponds_around3000</th>\n",
       "      <th>ponds_nearest</th>\n",
       "      <th>days_exposition</th>\n",
       "    </tr>\n",
       "  </thead>\n",
       "  <tbody>\n",
       "    <tr>\n",
       "      <th>355</th>\n",
       "      <td>17</td>\n",
       "      <td>3600000.0</td>\n",
       "      <td>55.2</td>\n",
       "      <td>2018-07-12T00:00:00</td>\n",
       "      <td>2</td>\n",
       "      <td>25.0</td>\n",
       "      <td>5.0</td>\n",
       "      <td>32.0</td>\n",
       "      <td>2</td>\n",
       "      <td>False</td>\n",
       "      <td>...</td>\n",
       "      <td>NaN</td>\n",
       "      <td>2.0</td>\n",
       "      <td>Гатчина</td>\n",
       "      <td>NaN</td>\n",
       "      <td>NaN</td>\n",
       "      <td>NaN</td>\n",
       "      <td>NaN</td>\n",
       "      <td>NaN</td>\n",
       "      <td>NaN</td>\n",
       "      <td>259.0</td>\n",
       "    </tr>\n",
       "    <tr>\n",
       "      <th>464</th>\n",
       "      <td>15</td>\n",
       "      <td>66571000.0</td>\n",
       "      <td>280.3</td>\n",
       "      <td>2015-06-11T00:00:00</td>\n",
       "      <td>6</td>\n",
       "      <td>5.2</td>\n",
       "      <td>8.0</td>\n",
       "      <td>159.5</td>\n",
       "      <td>7</td>\n",
       "      <td>False</td>\n",
       "      <td>...</td>\n",
       "      <td>21.1</td>\n",
       "      <td>0.0</td>\n",
       "      <td>Санкт-Петербург</td>\n",
       "      <td>26316.0</td>\n",
       "      <td>6655.0</td>\n",
       "      <td>3.0</td>\n",
       "      <td>187.0</td>\n",
       "      <td>1.0</td>\n",
       "      <td>616.0</td>\n",
       "      <td>578.0</td>\n",
       "    </tr>\n",
       "    <tr>\n",
       "      <th>1026</th>\n",
       "      <td>20</td>\n",
       "      <td>155000000.0</td>\n",
       "      <td>310.0</td>\n",
       "      <td>2018-10-12T00:00:00</td>\n",
       "      <td>5</td>\n",
       "      <td>5.3</td>\n",
       "      <td>3.0</td>\n",
       "      <td>190.0</td>\n",
       "      <td>3</td>\n",
       "      <td>False</td>\n",
       "      <td>...</td>\n",
       "      <td>63.0</td>\n",
       "      <td>2.0</td>\n",
       "      <td>Санкт-Петербург</td>\n",
       "      <td>24899.0</td>\n",
       "      <td>4785.0</td>\n",
       "      <td>0.0</td>\n",
       "      <td>NaN</td>\n",
       "      <td>1.0</td>\n",
       "      <td>603.0</td>\n",
       "      <td>NaN</td>\n",
       "    </tr>\n",
       "    <tr>\n",
       "      <th>1388</th>\n",
       "      <td>20</td>\n",
       "      <td>59800000.0</td>\n",
       "      <td>399.0</td>\n",
       "      <td>2015-01-21T00:00:00</td>\n",
       "      <td>5</td>\n",
       "      <td>5.6</td>\n",
       "      <td>6.0</td>\n",
       "      <td>NaN</td>\n",
       "      <td>6</td>\n",
       "      <td>False</td>\n",
       "      <td>...</td>\n",
       "      <td>NaN</td>\n",
       "      <td>0.0</td>\n",
       "      <td>Санкт-Петербург</td>\n",
       "      <td>26204.0</td>\n",
       "      <td>6934.0</td>\n",
       "      <td>2.0</td>\n",
       "      <td>149.0</td>\n",
       "      <td>2.0</td>\n",
       "      <td>577.0</td>\n",
       "      <td>719.0</td>\n",
       "    </tr>\n",
       "    <tr>\n",
       "      <th>3148</th>\n",
       "      <td>14</td>\n",
       "      <td>2900000.0</td>\n",
       "      <td>75.0</td>\n",
       "      <td>2018-11-12T00:00:00</td>\n",
       "      <td>3</td>\n",
       "      <td>32.0</td>\n",
       "      <td>3.0</td>\n",
       "      <td>53.0</td>\n",
       "      <td>2</td>\n",
       "      <td>False</td>\n",
       "      <td>...</td>\n",
       "      <td>8.0</td>\n",
       "      <td>0.0</td>\n",
       "      <td>Волхов</td>\n",
       "      <td>NaN</td>\n",
       "      <td>NaN</td>\n",
       "      <td>NaN</td>\n",
       "      <td>NaN</td>\n",
       "      <td>NaN</td>\n",
       "      <td>NaN</td>\n",
       "      <td>NaN</td>\n",
       "    </tr>\n",
       "    <tr>\n",
       "      <th>3474</th>\n",
       "      <td>3</td>\n",
       "      <td>1400000.0</td>\n",
       "      <td>30.0</td>\n",
       "      <td>2018-03-16T00:00:00</td>\n",
       "      <td>1</td>\n",
       "      <td>8.0</td>\n",
       "      <td>5.0</td>\n",
       "      <td>15.3</td>\n",
       "      <td>2</td>\n",
       "      <td>False</td>\n",
       "      <td>...</td>\n",
       "      <td>7.3</td>\n",
       "      <td>0.0</td>\n",
       "      <td>деревня Нурма</td>\n",
       "      <td>NaN</td>\n",
       "      <td>NaN</td>\n",
       "      <td>NaN</td>\n",
       "      <td>NaN</td>\n",
       "      <td>NaN</td>\n",
       "      <td>NaN</td>\n",
       "      <td>125.0</td>\n",
       "    </tr>\n",
       "    <tr>\n",
       "      <th>4643</th>\n",
       "      <td>0</td>\n",
       "      <td>4300000.0</td>\n",
       "      <td>45.0</td>\n",
       "      <td>2018-02-01T00:00:00</td>\n",
       "      <td>2</td>\n",
       "      <td>25.0</td>\n",
       "      <td>9.0</td>\n",
       "      <td>30.0</td>\n",
       "      <td>2</td>\n",
       "      <td>False</td>\n",
       "      <td>...</td>\n",
       "      <td>7.0</td>\n",
       "      <td>1.0</td>\n",
       "      <td>Санкт-Петербург</td>\n",
       "      <td>12016.0</td>\n",
       "      <td>13256.0</td>\n",
       "      <td>1.0</td>\n",
       "      <td>658.0</td>\n",
       "      <td>1.0</td>\n",
       "      <td>331.0</td>\n",
       "      <td>181.0</td>\n",
       "    </tr>\n",
       "    <tr>\n",
       "      <th>4876</th>\n",
       "      <td>7</td>\n",
       "      <td>3000000.0</td>\n",
       "      <td>25.0</td>\n",
       "      <td>2017-09-27T00:00:00</td>\n",
       "      <td>0</td>\n",
       "      <td>27.0</td>\n",
       "      <td>25.0</td>\n",
       "      <td>17.0</td>\n",
       "      <td>17</td>\n",
       "      <td>False</td>\n",
       "      <td>...</td>\n",
       "      <td>NaN</td>\n",
       "      <td>2.0</td>\n",
       "      <td>посёлок Мурино</td>\n",
       "      <td>NaN</td>\n",
       "      <td>NaN</td>\n",
       "      <td>NaN</td>\n",
       "      <td>NaN</td>\n",
       "      <td>NaN</td>\n",
       "      <td>NaN</td>\n",
       "      <td>28.0</td>\n",
       "    </tr>\n",
       "    <tr>\n",
       "      <th>5076</th>\n",
       "      <td>0</td>\n",
       "      <td>3850000.0</td>\n",
       "      <td>30.5</td>\n",
       "      <td>2018-10-03T00:00:00</td>\n",
       "      <td>1</td>\n",
       "      <td>24.0</td>\n",
       "      <td>5.0</td>\n",
       "      <td>19.5</td>\n",
       "      <td>1</td>\n",
       "      <td>True</td>\n",
       "      <td>...</td>\n",
       "      <td>5.5</td>\n",
       "      <td>0.0</td>\n",
       "      <td>Санкт-Петербург</td>\n",
       "      <td>29686.0</td>\n",
       "      <td>8389.0</td>\n",
       "      <td>3.0</td>\n",
       "      <td>397.0</td>\n",
       "      <td>1.0</td>\n",
       "      <td>578.0</td>\n",
       "      <td>7.0</td>\n",
       "    </tr>\n",
       "    <tr>\n",
       "      <th>5246</th>\n",
       "      <td>0</td>\n",
       "      <td>2500000.0</td>\n",
       "      <td>54.0</td>\n",
       "      <td>2017-10-13T00:00:00</td>\n",
       "      <td>2</td>\n",
       "      <td>27.0</td>\n",
       "      <td>5.0</td>\n",
       "      <td>30.0</td>\n",
       "      <td>3</td>\n",
       "      <td>False</td>\n",
       "      <td>...</td>\n",
       "      <td>9.0</td>\n",
       "      <td>2.0</td>\n",
       "      <td>деревня Мины</td>\n",
       "      <td>NaN</td>\n",
       "      <td>NaN</td>\n",
       "      <td>NaN</td>\n",
       "      <td>NaN</td>\n",
       "      <td>NaN</td>\n",
       "      <td>NaN</td>\n",
       "      <td>540.0</td>\n",
       "    </tr>\n",
       "  </tbody>\n",
       "</table>\n",
       "<p>10 rows × 22 columns</p>\n",
       "</div>"
      ],
      "text/plain": [
       "      total_images   last_price  total_area first_day_exposition  rooms  \\\n",
       "355             17    3600000.0        55.2  2018-07-12T00:00:00      2   \n",
       "464             15   66571000.0       280.3  2015-06-11T00:00:00      6   \n",
       "1026            20  155000000.0       310.0  2018-10-12T00:00:00      5   \n",
       "1388            20   59800000.0       399.0  2015-01-21T00:00:00      5   \n",
       "3148            14    2900000.0        75.0  2018-11-12T00:00:00      3   \n",
       "3474             3    1400000.0        30.0  2018-03-16T00:00:00      1   \n",
       "4643             0    4300000.0        45.0  2018-02-01T00:00:00      2   \n",
       "4876             7    3000000.0        25.0  2017-09-27T00:00:00      0   \n",
       "5076             0    3850000.0        30.5  2018-10-03T00:00:00      1   \n",
       "5246             0    2500000.0        54.0  2017-10-13T00:00:00      2   \n",
       "\n",
       "      ceiling_height  floors_total  living_area  floor  is_apartment  ...  \\\n",
       "355             25.0           5.0         32.0      2         False  ...   \n",
       "464              5.2           8.0        159.5      7         False  ...   \n",
       "1026             5.3           3.0        190.0      3         False  ...   \n",
       "1388             5.6           6.0          NaN      6         False  ...   \n",
       "3148            32.0           3.0         53.0      2         False  ...   \n",
       "3474             8.0           5.0         15.3      2         False  ...   \n",
       "4643            25.0           9.0         30.0      2         False  ...   \n",
       "4876            27.0          25.0         17.0     17         False  ...   \n",
       "5076            24.0           5.0         19.5      1          True  ...   \n",
       "5246            27.0           5.0         30.0      3         False  ...   \n",
       "\n",
       "      kitchen_area  balcony    locality_name  airports_nearest  \\\n",
       "355            NaN      2.0          Гатчина               NaN   \n",
       "464           21.1      0.0  Санкт-Петербург           26316.0   \n",
       "1026          63.0      2.0  Санкт-Петербург           24899.0   \n",
       "1388           NaN      0.0  Санкт-Петербург           26204.0   \n",
       "3148           8.0      0.0           Волхов               NaN   \n",
       "3474           7.3      0.0    деревня Нурма               NaN   \n",
       "4643           7.0      1.0  Санкт-Петербург           12016.0   \n",
       "4876           NaN      2.0   посёлок Мурино               NaN   \n",
       "5076           5.5      0.0  Санкт-Петербург           29686.0   \n",
       "5246           9.0      2.0     деревня Мины               NaN   \n",
       "\n",
       "     cityCenters_nearest  parks_around3000  parks_nearest  ponds_around3000  \\\n",
       "355                  NaN               NaN            NaN               NaN   \n",
       "464               6655.0               3.0          187.0               1.0   \n",
       "1026              4785.0               0.0            NaN               1.0   \n",
       "1388              6934.0               2.0          149.0               2.0   \n",
       "3148                 NaN               NaN            NaN               NaN   \n",
       "3474                 NaN               NaN            NaN               NaN   \n",
       "4643             13256.0               1.0          658.0               1.0   \n",
       "4876                 NaN               NaN            NaN               NaN   \n",
       "5076              8389.0               3.0          397.0               1.0   \n",
       "5246                 NaN               NaN            NaN               NaN   \n",
       "\n",
       "      ponds_nearest  days_exposition  \n",
       "355             NaN            259.0  \n",
       "464           616.0            578.0  \n",
       "1026          603.0              NaN  \n",
       "1388          577.0            719.0  \n",
       "3148            NaN              NaN  \n",
       "3474            NaN            125.0  \n",
       "4643          331.0            181.0  \n",
       "4876            NaN             28.0  \n",
       "5076          578.0              7.0  \n",
       "5246            NaN            540.0  \n",
       "\n",
       "[10 rows x 22 columns]"
      ]
     },
     "execution_count": 20,
     "metadata": {},
     "output_type": "execute_result"
    }
   ],
   "source": [
    "too_tall = data.query('ceiling_height > 5')\n",
    "too_tall.head(10)"
   ]
  },
  {
   "cell_type": "markdown",
   "metadata": {},
   "source": [
    "Сравним медианные и средние значения столбца ceiling_height в исходном датасете и в выборке, в которой отброшены строки с экстремально высокими потолками:"
   ]
  },
  {
   "cell_type": "code",
   "execution_count": 21,
   "metadata": {},
   "outputs": [
    {
     "data": {
      "text/plain": [
       "2.65"
      ]
     },
     "execution_count": 21,
     "metadata": {},
     "output_type": "execute_result"
    }
   ],
   "source": [
    "ceiling_median = data['ceiling_height'].median()\n",
    "ceiling_median"
   ]
  },
  {
   "cell_type": "code",
   "execution_count": 22,
   "metadata": {},
   "outputs": [
    {
     "data": {
      "text/plain": [
       "2.77149889685604"
      ]
     },
     "execution_count": 22,
     "metadata": {},
     "output_type": "execute_result"
    }
   ],
   "source": [
    "data['ceiling_height'].mean()"
   ]
  },
  {
   "cell_type": "code",
   "execution_count": 23,
   "metadata": {},
   "outputs": [
    {
     "data": {
      "text/plain": [
       "2.65"
      ]
     },
     "execution_count": 23,
     "metadata": {},
     "output_type": "execute_result"
    }
   ],
   "source": [
    "data.query('ceiling_height < = 5')['ceiling_height'].median()"
   ]
  },
  {
   "cell_type": "code",
   "execution_count": 24,
   "metadata": {},
   "outputs": [
    {
     "data": {
      "text/plain": [
       "2.7251465302737072"
      ]
     },
     "execution_count": 24,
     "metadata": {},
     "output_type": "execute_result"
    }
   ],
   "source": [
    "data.query('ceiling_height < = 5')['ceiling_height'].mean()"
   ]
  },
  {
   "cell_type": "markdown",
   "metadata": {},
   "source": [
    "Выбросы (если это они, а не дворцы в Санкт-Петербурге) незначительно влияют на метрики, можно их оставить"
   ]
  },
  {
   "cell_type": "markdown",
   "metadata": {},
   "source": [
    "Пропуски в данных можно заполнить медианными значениями:"
   ]
  },
  {
   "cell_type": "code",
   "execution_count": 25,
   "metadata": {},
   "outputs": [
    {
     "data": {
      "text/plain": [
       "0"
      ]
     },
     "execution_count": 25,
     "metadata": {},
     "output_type": "execute_result"
    }
   ],
   "source": [
    "data['ceiling_height'] = data['ceiling_height'].fillna(ceiling_median)\n",
    "data['ceiling_height'].isna().sum()"
   ]
  },
  {
   "cell_type": "markdown",
   "metadata": {},
   "source": [
    "Пропуски заполнены"
   ]
  },
  {
   "cell_type": "markdown",
   "metadata": {},
   "source": [
    "<div class=\"alert alert-success\">\n",
    "<b class=\"alert-heading\"> Комментарий ревьюера: ОК</b>\n",
    "\n",
    "Я принимаю твою аргументацию о незаполнении пропусков. Тем не менее тут можно воспользоваться следующими методами:\n",
    "1. Посмотреть по инженерной нормативной документации, какая высота потолков в принципе допускается.\n",
    "2. Попробовать предположить, откуда появились аномальные значения. Например, число 27, скорее всего, означает 2.7.\n",
    "\n",
    "</div>"
   ]
  },
  {
   "cell_type": "markdown",
   "metadata": {},
   "source": [
    "Столбец **days_exposition**"
   ]
  },
  {
   "cell_type": "code",
   "execution_count": 26,
   "metadata": {},
   "outputs": [
    {
     "data": {
      "text/plain": [
       "45.0      880\n",
       "60.0      538\n",
       "7.0       234\n",
       "30.0      208\n",
       "90.0      204\n",
       "         ... \n",
       "969.0       1\n",
       "1.0         1\n",
       "1147.0      1\n",
       "1148.0      1\n",
       "1174.0      1\n",
       "Name: days_exposition, Length: 1141, dtype: int64"
      ]
     },
     "execution_count": 26,
     "metadata": {},
     "output_type": "execute_result"
    }
   ],
   "source": [
    "data['days_exposition'].value_counts()"
   ]
  },
  {
   "cell_type": "markdown",
   "metadata": {},
   "source": [
    "Заменим остуствующие данные на 0, для удобства последующих расчетов:"
   ]
  },
  {
   "cell_type": "code",
   "execution_count": 27,
   "metadata": {},
   "outputs": [
    {
     "data": {
      "text/plain": [
       "total_images              int64\n",
       "last_price              float64\n",
       "total_area              float64\n",
       "first_day_exposition     object\n",
       "rooms                     int64\n",
       "ceiling_height          float64\n",
       "floors_total            float64\n",
       "living_area             float64\n",
       "floor                     int64\n",
       "is_apartment               bool\n",
       "studio                     bool\n",
       "open_plan                  bool\n",
       "kitchen_area            float64\n",
       "balcony                 float64\n",
       "locality_name            object\n",
       "airports_nearest        float64\n",
       "cityCenters_nearest     float64\n",
       "parks_around3000        float64\n",
       "parks_nearest           float64\n",
       "ponds_around3000        float64\n",
       "ponds_nearest           float64\n",
       "days_exposition           int64\n",
       "dtype: object"
      ]
     },
     "execution_count": 27,
     "metadata": {},
     "output_type": "execute_result"
    }
   ],
   "source": [
    "data['days_exposition'] = data['days_exposition'].fillna(0).astype('int')\n",
    "data.dtypes"
   ]
  },
  {
   "cell_type": "markdown",
   "metadata": {},
   "source": [
    "Отсутсвие данных в столбце может быть вызвано технической проблемой, замена на среднее/медиану в этом случае будет некорректной, так как факторов, влиющих на время продажи очень много  \n"
   ]
  },
  {
   "cell_type": "markdown",
   "metadata": {},
   "source": [
    "<div class=\"alert alert-info\">\n",
    "<b class=\"alert-heading\"> Комментарий ревьюера</b>\n",
    "\n",
    "Также пропуск может означать, что объявление не снято с публикации на момент выгрузки.\n",
    "    \n",
    "</div>"
   ]
  },
  {
   "cell_type": "markdown",
   "metadata": {},
   "source": [
    "Столбцы **kitchen_area, living_area, floors_total**"
   ]
  },
  {
   "cell_type": "code",
   "execution_count": 28,
   "metadata": {},
   "outputs": [
    {
     "data": {
      "text/plain": [
       "6.00     1300\n",
       "10.00    1262\n",
       "8.00     1110\n",
       "9.00     1101\n",
       "7.00     1062\n",
       "         ... \n",
       "7.12        1\n",
       "13.73       1\n",
       "14.74       1\n",
       "53.10       1\n",
       "16.74       1\n",
       "Name: kitchen_area, Length: 971, dtype: int64"
      ]
     },
     "execution_count": 28,
     "metadata": {},
     "output_type": "execute_result"
    }
   ],
   "source": [
    "data['kitchen_area'].value_counts()"
   ]
  },
  {
   "cell_type": "code",
   "execution_count": 29,
   "metadata": {},
   "outputs": [
    {
     "data": {
      "text/plain": [
       "18.00    882\n",
       "17.00    675\n",
       "30.00    598\n",
       "16.00    486\n",
       "20.00    481\n",
       "        ... \n",
       "96.40      1\n",
       "50.26      1\n",
       "43.81      1\n",
       "54.43      1\n",
       "16.74      1\n",
       "Name: living_area, Length: 1782, dtype: int64"
      ]
     },
     "execution_count": 29,
     "metadata": {},
     "output_type": "execute_result"
    }
   ],
   "source": [
    "data['living_area'].value_counts()"
   ]
  },
  {
   "cell_type": "markdown",
   "metadata": {},
   "source": [
    "В столбцах kitchen_area, living_area нет выбросов, большое количество пропусков может быть связано с тем, что не все заполняют эти данные, пропуски заполнять не будем"
   ]
  },
  {
   "cell_type": "markdown",
   "metadata": {},
   "source": [
    "<div class=\"alert alert-warning\">\n",
    "<b class=\"alert-heading\"> Комментарий ревьюера: можно лучше</b>\n",
    "    \n",
    "Тут можно относительно точно заполнить пропуски, оперируя тремя значениями площадей: общая площадь, жилая и площадь кухни.\n",
    "    \n",
    "</div>"
   ]
  },
  {
   "cell_type": "code",
   "execution_count": 30,
   "metadata": {},
   "outputs": [
    {
     "data": {
      "text/plain": [
       "5.0     5788\n",
       "9.0     3761\n",
       "16.0    1376\n",
       "12.0    1362\n",
       "4.0     1200\n",
       "10.0    1174\n",
       "25.0    1075\n",
       "6.0      914\n",
       "17.0     833\n",
       "3.0      668\n",
       "7.0      592\n",
       "14.0     553\n",
       "18.0     505\n",
       "24.0     469\n",
       "8.0      390\n",
       "2.0      383\n",
       "15.0     365\n",
       "23.0     352\n",
       "19.0     339\n",
       "22.0     286\n",
       "20.0     271\n",
       "13.0     229\n",
       "11.0     203\n",
       "27.0     164\n",
       "21.0     158\n",
       "26.0     124\n",
       "1.0       25\n",
       "35.0      24\n",
       "28.0      21\n",
       "36.0       3\n",
       "37.0       1\n",
       "34.0       1\n",
       "33.0       1\n",
       "60.0       1\n",
       "29.0       1\n",
       "52.0       1\n",
       "Name: floors_total, dtype: int64"
      ]
     },
     "execution_count": 30,
     "metadata": {},
     "output_type": "execute_result"
    }
   ],
   "source": [
    "data['floors_total'].value_counts()"
   ]
  },
  {
   "cell_type": "markdown",
   "metadata": {},
   "source": [
    "Явных выбросов нет, этажность могла быть не заполнена в результате проблем сбора данных (или это не обязательный параметр), заполнять пропуски медианой не вполне корректно   \n",
    "Оставим как есть"
   ]
  },
  {
   "cell_type": "markdown",
   "metadata": {},
   "source": [
    "Столбец **locality_name**"
   ]
  },
  {
   "cell_type": "code",
   "execution_count": 31,
   "metadata": {},
   "outputs": [
    {
     "data": {
      "text/plain": [
       "Санкт-Петербург                               15721\n",
       "посёлок Мурино                                  522\n",
       "посёлок Шушары                                  440\n",
       "Всеволожск                                      398\n",
       "Пушкин                                          369\n",
       "                                              ...  \n",
       "посёлок Пансионат Зелёный Бор                     1\n",
       "посёлок Плоское                                   1\n",
       "посёлок при железнодорожной станции Вещево        1\n",
       "поселок Усть-Луга                                 1\n",
       "посёлок Петро-Славянка                            1\n",
       "Name: locality_name, Length: 364, dtype: int64"
      ]
     },
     "execution_count": 31,
     "metadata": {},
     "output_type": "execute_result"
    }
   ],
   "source": [
    "data['locality_name'].value_counts()"
   ]
  },
  {
   "cell_type": "markdown",
   "metadata": {},
   "source": [
    "Пропуски в данном столбце могут быть связаны с проблемами сбора данных, можно предположить, что если удаленность от центра не превышает 15 км, то это Санкт-Петербург:"
   ]
  },
  {
   "cell_type": "code",
   "execution_count": 32,
   "metadata": {},
   "outputs": [],
   "source": [
    "for (columnName, columnData) in data['cityCenters_nearest'].iteritems():\n",
    "    if columnData < 15:\n",
    "        data['locality_name'].fillna('Санкт-Петербург')"
   ]
  },
  {
   "cell_type": "markdown",
   "metadata": {},
   "source": [
    "<div class=\"alert alert-warning\">\n",
    "<b class=\"alert-heading\"> Комментарий ревьюера: можно лучше</b>\n",
    "\n",
    "Почему такой вывод? В описании данных нигде не сказано, что cityCenters_nearest - это расстояние до центра Санкт-Петербурга. Может, это расстояние до центра указанного населенного пункта? Перед таким заполнением хорошо бы убедиться, что заполняем правильно.\n",
    "    \n",
    "</div>"
   ]
  },
  {
   "cell_type": "code",
   "execution_count": 33,
   "metadata": {},
   "outputs": [
    {
     "data": {
      "text/plain": [
       "Санкт-Петербург                               15721\n",
       "посёлок Мурино                                  522\n",
       "посёлок Шушары                                  440\n",
       "Всеволожск                                      398\n",
       "Пушкин                                          369\n",
       "                                              ...  \n",
       "посёлок Пансионат Зелёный Бор                     1\n",
       "посёлок Плоское                                   1\n",
       "посёлок при железнодорожной станции Вещево        1\n",
       "поселок Усть-Луга                                 1\n",
       "посёлок Петро-Славянка                            1\n",
       "Name: locality_name, Length: 364, dtype: int64"
      ]
     },
     "execution_count": 33,
     "metadata": {},
     "output_type": "execute_result"
    }
   ],
   "source": [
    "data['locality_name'].value_counts()"
   ]
  },
  {
   "cell_type": "code",
   "execution_count": 34,
   "metadata": {},
   "outputs": [
    {
     "data": {
      "text/plain": [
       "0.002067597788936242"
      ]
     },
     "execution_count": 34,
     "metadata": {},
     "output_type": "execute_result"
    }
   ],
   "source": [
    "data['locality_name'].isna().mean()"
   ]
  },
  {
   "cell_type": "markdown",
   "metadata": {},
   "source": [
    "Пропуски практически заполнены"
   ]
  },
  {
   "cell_type": "markdown",
   "metadata": {},
   "source": [
    "Посмотрим, к каким типам относятся данные:"
   ]
  },
  {
   "cell_type": "code",
   "execution_count": 35,
   "metadata": {},
   "outputs": [
    {
     "data": {
      "text/plain": [
       "studio                     bool\n",
       "open_plan                  bool\n",
       "is_apartment               bool\n",
       "floor                     int64\n",
       "total_images              int64\n",
       "days_exposition           int64\n",
       "rooms                     int64\n",
       "ponds_around3000        float64\n",
       "parks_nearest           float64\n",
       "parks_around3000        float64\n",
       "cityCenters_nearest     float64\n",
       "airports_nearest        float64\n",
       "ceiling_height          float64\n",
       "last_price              float64\n",
       "ponds_nearest           float64\n",
       "total_area              float64\n",
       "living_area             float64\n",
       "floors_total            float64\n",
       "kitchen_area            float64\n",
       "balcony                 float64\n",
       "locality_name            object\n",
       "first_day_exposition     object\n",
       "dtype: object"
      ]
     },
     "execution_count": 35,
     "metadata": {},
     "output_type": "execute_result"
    }
   ],
   "source": [
    "data.dtypes.sort_values()"
   ]
  },
  {
   "cell_type": "markdown",
   "metadata": {},
   "source": [
    "Для удобства, заменим тип данных в столбцах 'balcony', 'last_price','days_exposition' на тип int:"
   ]
  },
  {
   "cell_type": "code",
   "execution_count": 36,
   "metadata": {},
   "outputs": [
    {
     "data": {
      "text/plain": [
       "studio                     bool\n",
       "open_plan                  bool\n",
       "is_apartment               bool\n",
       "balcony                   int64\n",
       "floor                     int64\n",
       "total_images              int64\n",
       "rooms                     int64\n",
       "last_price                int64\n",
       "days_exposition           int64\n",
       "floors_total            float64\n",
       "living_area             float64\n",
       "ponds_nearest           float64\n",
       "total_area              float64\n",
       "kitchen_area            float64\n",
       "airports_nearest        float64\n",
       "cityCenters_nearest     float64\n",
       "parks_around3000        float64\n",
       "parks_nearest           float64\n",
       "ponds_around3000        float64\n",
       "ceiling_height          float64\n",
       "first_day_exposition     object\n",
       "locality_name            object\n",
       "dtype: object"
      ]
     },
     "execution_count": 36,
     "metadata": {},
     "output_type": "execute_result"
    }
   ],
   "source": [
    "to_int = ['balcony', 'last_price']\n",
    "for el in to_int:\n",
    "    data[el] = data[el].astype('int')\n",
    "\n",
    "data.dtypes.sort_values()"
   ]
  },
  {
   "cell_type": "markdown",
   "metadata": {},
   "source": [
    "Изменим тип данных в столбце first_day_exposition на date:\n"
   ]
  },
  {
   "cell_type": "code",
   "execution_count": 37,
   "metadata": {},
   "outputs": [
    {
     "data": {
      "text/plain": [
       "total_images                     int64\n",
       "last_price                       int64\n",
       "total_area                     float64\n",
       "first_day_exposition    datetime64[ns]\n",
       "rooms                            int64\n",
       "ceiling_height                 float64\n",
       "floors_total                   float64\n",
       "living_area                    float64\n",
       "floor                            int64\n",
       "is_apartment                      bool\n",
       "studio                            bool\n",
       "open_plan                         bool\n",
       "kitchen_area                   float64\n",
       "balcony                          int64\n",
       "locality_name                   object\n",
       "airports_nearest               float64\n",
       "cityCenters_nearest            float64\n",
       "parks_around3000               float64\n",
       "parks_nearest                  float64\n",
       "ponds_around3000               float64\n",
       "ponds_nearest                  float64\n",
       "days_exposition                  int64\n",
       "dtype: object"
      ]
     },
     "execution_count": 37,
     "metadata": {},
     "output_type": "execute_result"
    }
   ],
   "source": [
    "data['first_day_exposition'] = pd.to_datetime(data['first_day_exposition'], format = '%Y-%m-%d')\n",
    "data.dtypes"
   ]
  },
  {
   "cell_type": "markdown",
   "metadata": {},
   "source": [
    "### Вывод:  Предобработка данных закончена"
   ]
  },
  {
   "cell_type": "markdown",
   "metadata": {},
   "source": [
    "<div class=\"alert alert-warning\">\n",
    "<b class=\"alert-heading\"> Комментарий ревьюера: можно лучше</b>\n",
    "\n",
    "Молодец, предобработка выполнена.\n",
    "    \n",
    "Здесь хорошо смотрелся бы вывод. Например, какие признаки заполнили, а какие не стали.\n",
    "    \n",
    "</div>"
   ]
  },
  {
   "cell_type": "markdown",
   "metadata": {},
   "source": [
    "## Расчёты и добавление результатов в таблицу"
   ]
  },
  {
   "cell_type": "markdown",
   "metadata": {},
   "source": [
    "* цену квадратного метра;\n",
    "* день недели, месяц и год публикации объявления;\n",
    "* этаж квартиры; варианты — первый, последний, другой;\n",
    "* соотношение жилой и общей площади, а также отношение площади кухни к общей."
   ]
  },
  {
   "cell_type": "markdown",
   "metadata": {},
   "source": [
    "Добавим в датасет столбец цены квадратного метра:"
   ]
  },
  {
   "cell_type": "code",
   "execution_count": 38,
   "metadata": {},
   "outputs": [
    {
     "data": {
      "text/html": [
       "<div>\n",
       "<style scoped>\n",
       "    .dataframe tbody tr th:only-of-type {\n",
       "        vertical-align: middle;\n",
       "    }\n",
       "\n",
       "    .dataframe tbody tr th {\n",
       "        vertical-align: top;\n",
       "    }\n",
       "\n",
       "    .dataframe thead th {\n",
       "        text-align: right;\n",
       "    }\n",
       "</style>\n",
       "<table border=\"1\" class=\"dataframe\">\n",
       "  <thead>\n",
       "    <tr style=\"text-align: right;\">\n",
       "      <th></th>\n",
       "      <th>total_images</th>\n",
       "      <th>last_price</th>\n",
       "      <th>total_area</th>\n",
       "      <th>first_day_exposition</th>\n",
       "      <th>rooms</th>\n",
       "      <th>ceiling_height</th>\n",
       "      <th>floors_total</th>\n",
       "      <th>living_area</th>\n",
       "      <th>floor</th>\n",
       "      <th>is_apartment</th>\n",
       "      <th>...</th>\n",
       "      <th>balcony</th>\n",
       "      <th>locality_name</th>\n",
       "      <th>airports_nearest</th>\n",
       "      <th>cityCenters_nearest</th>\n",
       "      <th>parks_around3000</th>\n",
       "      <th>parks_nearest</th>\n",
       "      <th>ponds_around3000</th>\n",
       "      <th>ponds_nearest</th>\n",
       "      <th>days_exposition</th>\n",
       "      <th>square_meter_price</th>\n",
       "    </tr>\n",
       "  </thead>\n",
       "  <tbody>\n",
       "    <tr>\n",
       "      <th>0</th>\n",
       "      <td>20</td>\n",
       "      <td>13000000</td>\n",
       "      <td>108.0</td>\n",
       "      <td>2019-03-07</td>\n",
       "      <td>3</td>\n",
       "      <td>2.70</td>\n",
       "      <td>16.0</td>\n",
       "      <td>51.0</td>\n",
       "      <td>8</td>\n",
       "      <td>False</td>\n",
       "      <td>...</td>\n",
       "      <td>0</td>\n",
       "      <td>Санкт-Петербург</td>\n",
       "      <td>18863.0</td>\n",
       "      <td>16028.0</td>\n",
       "      <td>1.0</td>\n",
       "      <td>482.0</td>\n",
       "      <td>2.0</td>\n",
       "      <td>755.0</td>\n",
       "      <td>0</td>\n",
       "      <td>120370.37</td>\n",
       "    </tr>\n",
       "    <tr>\n",
       "      <th>1</th>\n",
       "      <td>7</td>\n",
       "      <td>3350000</td>\n",
       "      <td>40.4</td>\n",
       "      <td>2018-12-04</td>\n",
       "      <td>1</td>\n",
       "      <td>2.65</td>\n",
       "      <td>11.0</td>\n",
       "      <td>18.6</td>\n",
       "      <td>1</td>\n",
       "      <td>False</td>\n",
       "      <td>...</td>\n",
       "      <td>2</td>\n",
       "      <td>посёлок Шушары</td>\n",
       "      <td>12817.0</td>\n",
       "      <td>18603.0</td>\n",
       "      <td>0.0</td>\n",
       "      <td>NaN</td>\n",
       "      <td>0.0</td>\n",
       "      <td>NaN</td>\n",
       "      <td>81</td>\n",
       "      <td>83750.00</td>\n",
       "    </tr>\n",
       "    <tr>\n",
       "      <th>2</th>\n",
       "      <td>10</td>\n",
       "      <td>5196000</td>\n",
       "      <td>56.0</td>\n",
       "      <td>2015-08-20</td>\n",
       "      <td>2</td>\n",
       "      <td>2.65</td>\n",
       "      <td>5.0</td>\n",
       "      <td>34.3</td>\n",
       "      <td>4</td>\n",
       "      <td>False</td>\n",
       "      <td>...</td>\n",
       "      <td>0</td>\n",
       "      <td>Санкт-Петербург</td>\n",
       "      <td>21741.0</td>\n",
       "      <td>13933.0</td>\n",
       "      <td>1.0</td>\n",
       "      <td>90.0</td>\n",
       "      <td>2.0</td>\n",
       "      <td>574.0</td>\n",
       "      <td>558</td>\n",
       "      <td>92785.71</td>\n",
       "    </tr>\n",
       "    <tr>\n",
       "      <th>3</th>\n",
       "      <td>0</td>\n",
       "      <td>64900000</td>\n",
       "      <td>159.0</td>\n",
       "      <td>2015-07-24</td>\n",
       "      <td>3</td>\n",
       "      <td>2.65</td>\n",
       "      <td>14.0</td>\n",
       "      <td>NaN</td>\n",
       "      <td>9</td>\n",
       "      <td>False</td>\n",
       "      <td>...</td>\n",
       "      <td>0</td>\n",
       "      <td>Санкт-Петербург</td>\n",
       "      <td>28098.0</td>\n",
       "      <td>6800.0</td>\n",
       "      <td>2.0</td>\n",
       "      <td>84.0</td>\n",
       "      <td>3.0</td>\n",
       "      <td>234.0</td>\n",
       "      <td>424</td>\n",
       "      <td>408176.10</td>\n",
       "    </tr>\n",
       "    <tr>\n",
       "      <th>4</th>\n",
       "      <td>2</td>\n",
       "      <td>10000000</td>\n",
       "      <td>100.0</td>\n",
       "      <td>2018-06-19</td>\n",
       "      <td>2</td>\n",
       "      <td>3.03</td>\n",
       "      <td>14.0</td>\n",
       "      <td>32.0</td>\n",
       "      <td>13</td>\n",
       "      <td>False</td>\n",
       "      <td>...</td>\n",
       "      <td>0</td>\n",
       "      <td>Санкт-Петербург</td>\n",
       "      <td>31856.0</td>\n",
       "      <td>8098.0</td>\n",
       "      <td>2.0</td>\n",
       "      <td>112.0</td>\n",
       "      <td>1.0</td>\n",
       "      <td>48.0</td>\n",
       "      <td>121</td>\n",
       "      <td>100000.00</td>\n",
       "    </tr>\n",
       "  </tbody>\n",
       "</table>\n",
       "<p>5 rows × 23 columns</p>\n",
       "</div>"
      ],
      "text/plain": [
       "   total_images  last_price  total_area first_day_exposition  rooms  \\\n",
       "0            20    13000000       108.0           2019-03-07      3   \n",
       "1             7     3350000        40.4           2018-12-04      1   \n",
       "2            10     5196000        56.0           2015-08-20      2   \n",
       "3             0    64900000       159.0           2015-07-24      3   \n",
       "4             2    10000000       100.0           2018-06-19      2   \n",
       "\n",
       "   ceiling_height  floors_total  living_area  floor  is_apartment  ...  \\\n",
       "0            2.70          16.0         51.0      8         False  ...   \n",
       "1            2.65          11.0         18.6      1         False  ...   \n",
       "2            2.65           5.0         34.3      4         False  ...   \n",
       "3            2.65          14.0          NaN      9         False  ...   \n",
       "4            3.03          14.0         32.0     13         False  ...   \n",
       "\n",
       "   balcony    locality_name  airports_nearest  cityCenters_nearest  \\\n",
       "0        0  Санкт-Петербург           18863.0              16028.0   \n",
       "1        2   посёлок Шушары           12817.0              18603.0   \n",
       "2        0  Санкт-Петербург           21741.0              13933.0   \n",
       "3        0  Санкт-Петербург           28098.0               6800.0   \n",
       "4        0  Санкт-Петербург           31856.0               8098.0   \n",
       "\n",
       "  parks_around3000  parks_nearest  ponds_around3000  ponds_nearest  \\\n",
       "0              1.0          482.0               2.0          755.0   \n",
       "1              0.0            NaN               0.0            NaN   \n",
       "2              1.0           90.0               2.0          574.0   \n",
       "3              2.0           84.0               3.0          234.0   \n",
       "4              2.0          112.0               1.0           48.0   \n",
       "\n",
       "   days_exposition  square_meter_price  \n",
       "0                0           120370.37  \n",
       "1               81            83750.00  \n",
       "2              558            92785.71  \n",
       "3              424           408176.10  \n",
       "4              121           100000.00  \n",
       "\n",
       "[5 rows x 23 columns]"
      ]
     },
     "execution_count": 38,
     "metadata": {},
     "output_type": "execute_result"
    }
   ],
   "source": [
    "data['square_meter_price'] = data['last_price']/data['total_area'].astype('int')\n",
    "data['square_meter_price'] = data['square_meter_price'].round(2)\n",
    "data.head()"
   ]
  },
  {
   "cell_type": "markdown",
   "metadata": {},
   "source": [
    "<div class=\"alert alert-warning\">\n",
    "<b class=\"alert-heading\"> Комментарий ревьюера: можно лучше</b>\n",
    "\n",
    "Здесь ты вносишь небольшую, но все же погрешность в расчете, отрезая от total_area дробную часть перед делением.\n",
    "    \n",
    "</div>"
   ]
  },
  {
   "cell_type": "markdown",
   "metadata": {},
   "source": [
    "Расчитаем день недели, месяц и год публикации объявления:"
   ]
  },
  {
   "cell_type": "code",
   "execution_count": 39,
   "metadata": {},
   "outputs": [
    {
     "data": {
      "text/html": [
       "<div>\n",
       "<style scoped>\n",
       "    .dataframe tbody tr th:only-of-type {\n",
       "        vertical-align: middle;\n",
       "    }\n",
       "\n",
       "    .dataframe tbody tr th {\n",
       "        vertical-align: top;\n",
       "    }\n",
       "\n",
       "    .dataframe thead th {\n",
       "        text-align: right;\n",
       "    }\n",
       "</style>\n",
       "<table border=\"1\" class=\"dataframe\">\n",
       "  <thead>\n",
       "    <tr style=\"text-align: right;\">\n",
       "      <th></th>\n",
       "      <th>total_images</th>\n",
       "      <th>last_price</th>\n",
       "      <th>total_area</th>\n",
       "      <th>first_day_exposition</th>\n",
       "      <th>rooms</th>\n",
       "      <th>ceiling_height</th>\n",
       "      <th>floors_total</th>\n",
       "      <th>living_area</th>\n",
       "      <th>floor</th>\n",
       "      <th>is_apartment</th>\n",
       "      <th>...</th>\n",
       "      <th>cityCenters_nearest</th>\n",
       "      <th>parks_around3000</th>\n",
       "      <th>parks_nearest</th>\n",
       "      <th>ponds_around3000</th>\n",
       "      <th>ponds_nearest</th>\n",
       "      <th>days_exposition</th>\n",
       "      <th>square_meter_price</th>\n",
       "      <th>weekday_exposition</th>\n",
       "      <th>month_exposition</th>\n",
       "      <th>year_expostition</th>\n",
       "    </tr>\n",
       "  </thead>\n",
       "  <tbody>\n",
       "    <tr>\n",
       "      <th>0</th>\n",
       "      <td>20</td>\n",
       "      <td>13000000</td>\n",
       "      <td>108.0</td>\n",
       "      <td>2019-03-07</td>\n",
       "      <td>3</td>\n",
       "      <td>2.70</td>\n",
       "      <td>16.0</td>\n",
       "      <td>51.0</td>\n",
       "      <td>8</td>\n",
       "      <td>False</td>\n",
       "      <td>...</td>\n",
       "      <td>16028.0</td>\n",
       "      <td>1.0</td>\n",
       "      <td>482.0</td>\n",
       "      <td>2.0</td>\n",
       "      <td>755.0</td>\n",
       "      <td>0</td>\n",
       "      <td>120370.37</td>\n",
       "      <td>3</td>\n",
       "      <td>3</td>\n",
       "      <td>2019</td>\n",
       "    </tr>\n",
       "    <tr>\n",
       "      <th>1</th>\n",
       "      <td>7</td>\n",
       "      <td>3350000</td>\n",
       "      <td>40.4</td>\n",
       "      <td>2018-12-04</td>\n",
       "      <td>1</td>\n",
       "      <td>2.65</td>\n",
       "      <td>11.0</td>\n",
       "      <td>18.6</td>\n",
       "      <td>1</td>\n",
       "      <td>False</td>\n",
       "      <td>...</td>\n",
       "      <td>18603.0</td>\n",
       "      <td>0.0</td>\n",
       "      <td>NaN</td>\n",
       "      <td>0.0</td>\n",
       "      <td>NaN</td>\n",
       "      <td>81</td>\n",
       "      <td>83750.00</td>\n",
       "      <td>1</td>\n",
       "      <td>12</td>\n",
       "      <td>2018</td>\n",
       "    </tr>\n",
       "    <tr>\n",
       "      <th>2</th>\n",
       "      <td>10</td>\n",
       "      <td>5196000</td>\n",
       "      <td>56.0</td>\n",
       "      <td>2015-08-20</td>\n",
       "      <td>2</td>\n",
       "      <td>2.65</td>\n",
       "      <td>5.0</td>\n",
       "      <td>34.3</td>\n",
       "      <td>4</td>\n",
       "      <td>False</td>\n",
       "      <td>...</td>\n",
       "      <td>13933.0</td>\n",
       "      <td>1.0</td>\n",
       "      <td>90.0</td>\n",
       "      <td>2.0</td>\n",
       "      <td>574.0</td>\n",
       "      <td>558</td>\n",
       "      <td>92785.71</td>\n",
       "      <td>3</td>\n",
       "      <td>8</td>\n",
       "      <td>2015</td>\n",
       "    </tr>\n",
       "    <tr>\n",
       "      <th>3</th>\n",
       "      <td>0</td>\n",
       "      <td>64900000</td>\n",
       "      <td>159.0</td>\n",
       "      <td>2015-07-24</td>\n",
       "      <td>3</td>\n",
       "      <td>2.65</td>\n",
       "      <td>14.0</td>\n",
       "      <td>NaN</td>\n",
       "      <td>9</td>\n",
       "      <td>False</td>\n",
       "      <td>...</td>\n",
       "      <td>6800.0</td>\n",
       "      <td>2.0</td>\n",
       "      <td>84.0</td>\n",
       "      <td>3.0</td>\n",
       "      <td>234.0</td>\n",
       "      <td>424</td>\n",
       "      <td>408176.10</td>\n",
       "      <td>4</td>\n",
       "      <td>7</td>\n",
       "      <td>2015</td>\n",
       "    </tr>\n",
       "    <tr>\n",
       "      <th>4</th>\n",
       "      <td>2</td>\n",
       "      <td>10000000</td>\n",
       "      <td>100.0</td>\n",
       "      <td>2018-06-19</td>\n",
       "      <td>2</td>\n",
       "      <td>3.03</td>\n",
       "      <td>14.0</td>\n",
       "      <td>32.0</td>\n",
       "      <td>13</td>\n",
       "      <td>False</td>\n",
       "      <td>...</td>\n",
       "      <td>8098.0</td>\n",
       "      <td>2.0</td>\n",
       "      <td>112.0</td>\n",
       "      <td>1.0</td>\n",
       "      <td>48.0</td>\n",
       "      <td>121</td>\n",
       "      <td>100000.00</td>\n",
       "      <td>1</td>\n",
       "      <td>6</td>\n",
       "      <td>2018</td>\n",
       "    </tr>\n",
       "  </tbody>\n",
       "</table>\n",
       "<p>5 rows × 26 columns</p>\n",
       "</div>"
      ],
      "text/plain": [
       "   total_images  last_price  total_area first_day_exposition  rooms  \\\n",
       "0            20    13000000       108.0           2019-03-07      3   \n",
       "1             7     3350000        40.4           2018-12-04      1   \n",
       "2            10     5196000        56.0           2015-08-20      2   \n",
       "3             0    64900000       159.0           2015-07-24      3   \n",
       "4             2    10000000       100.0           2018-06-19      2   \n",
       "\n",
       "   ceiling_height  floors_total  living_area  floor  is_apartment  ...  \\\n",
       "0            2.70          16.0         51.0      8         False  ...   \n",
       "1            2.65          11.0         18.6      1         False  ...   \n",
       "2            2.65           5.0         34.3      4         False  ...   \n",
       "3            2.65          14.0          NaN      9         False  ...   \n",
       "4            3.03          14.0         32.0     13         False  ...   \n",
       "\n",
       "   cityCenters_nearest  parks_around3000  parks_nearest  ponds_around3000  \\\n",
       "0              16028.0               1.0          482.0               2.0   \n",
       "1              18603.0               0.0            NaN               0.0   \n",
       "2              13933.0               1.0           90.0               2.0   \n",
       "3               6800.0               2.0           84.0               3.0   \n",
       "4               8098.0               2.0          112.0               1.0   \n",
       "\n",
       "  ponds_nearest  days_exposition  square_meter_price  weekday_exposition  \\\n",
       "0         755.0                0           120370.37                   3   \n",
       "1           NaN               81            83750.00                   1   \n",
       "2         574.0              558            92785.71                   3   \n",
       "3         234.0              424           408176.10                   4   \n",
       "4          48.0              121           100000.00                   1   \n",
       "\n",
       "   month_exposition  year_expostition  \n",
       "0                 3              2019  \n",
       "1                12              2018  \n",
       "2                 8              2015  \n",
       "3                 7              2015  \n",
       "4                 6              2018  \n",
       "\n",
       "[5 rows x 26 columns]"
      ]
     },
     "execution_count": 39,
     "metadata": {},
     "output_type": "execute_result"
    }
   ],
   "source": [
    "data['weekday_exposition'] = data['first_day_exposition'].dt.weekday\n",
    "data['month_exposition'] = data['first_day_exposition'].dt.month\n",
    "data['year_expostition'] = data['first_day_exposition'].dt.year\n",
    "data.head()"
   ]
  },
  {
   "cell_type": "markdown",
   "metadata": {},
   "source": [
    "Напишем фукнцию, которая разобъет этаж объявления на \"первый\", \"последний\", \"другой\""
   ]
  },
  {
   "cell_type": "code",
   "execution_count": 40,
   "metadata": {},
   "outputs": [],
   "source": [
    "def floors(el):\n",
    "    if el['floor'] == 1:\n",
    "        return 'первый'\n",
    "    elif el['floor'] == el['floors_total']:\n",
    "        return 'последний'\n",
    "    else:\n",
    "        return 'другой'"
   ]
  },
  {
   "cell_type": "markdown",
   "metadata": {},
   "source": [
    "Разоюъем этажи на категории:"
   ]
  },
  {
   "cell_type": "code",
   "execution_count": 41,
   "metadata": {},
   "outputs": [
    {
     "data": {
      "text/html": [
       "<div>\n",
       "<style scoped>\n",
       "    .dataframe tbody tr th:only-of-type {\n",
       "        vertical-align: middle;\n",
       "    }\n",
       "\n",
       "    .dataframe tbody tr th {\n",
       "        vertical-align: top;\n",
       "    }\n",
       "\n",
       "    .dataframe thead th {\n",
       "        text-align: right;\n",
       "    }\n",
       "</style>\n",
       "<table border=\"1\" class=\"dataframe\">\n",
       "  <thead>\n",
       "    <tr style=\"text-align: right;\">\n",
       "      <th></th>\n",
       "      <th>total_images</th>\n",
       "      <th>last_price</th>\n",
       "      <th>total_area</th>\n",
       "      <th>first_day_exposition</th>\n",
       "      <th>rooms</th>\n",
       "      <th>ceiling_height</th>\n",
       "      <th>floors_total</th>\n",
       "      <th>living_area</th>\n",
       "      <th>floor</th>\n",
       "      <th>is_apartment</th>\n",
       "      <th>...</th>\n",
       "      <th>parks_around3000</th>\n",
       "      <th>parks_nearest</th>\n",
       "      <th>ponds_around3000</th>\n",
       "      <th>ponds_nearest</th>\n",
       "      <th>days_exposition</th>\n",
       "      <th>square_meter_price</th>\n",
       "      <th>weekday_exposition</th>\n",
       "      <th>month_exposition</th>\n",
       "      <th>year_expostition</th>\n",
       "      <th>floors_category</th>\n",
       "    </tr>\n",
       "  </thead>\n",
       "  <tbody>\n",
       "    <tr>\n",
       "      <th>0</th>\n",
       "      <td>20</td>\n",
       "      <td>13000000</td>\n",
       "      <td>108.00</td>\n",
       "      <td>2019-03-07</td>\n",
       "      <td>3</td>\n",
       "      <td>2.70</td>\n",
       "      <td>16.0</td>\n",
       "      <td>51.00</td>\n",
       "      <td>8</td>\n",
       "      <td>False</td>\n",
       "      <td>...</td>\n",
       "      <td>1.0</td>\n",
       "      <td>482.0</td>\n",
       "      <td>2.0</td>\n",
       "      <td>755.0</td>\n",
       "      <td>0</td>\n",
       "      <td>120370.37</td>\n",
       "      <td>3</td>\n",
       "      <td>3</td>\n",
       "      <td>2019</td>\n",
       "      <td>другой</td>\n",
       "    </tr>\n",
       "    <tr>\n",
       "      <th>1</th>\n",
       "      <td>7</td>\n",
       "      <td>3350000</td>\n",
       "      <td>40.40</td>\n",
       "      <td>2018-12-04</td>\n",
       "      <td>1</td>\n",
       "      <td>2.65</td>\n",
       "      <td>11.0</td>\n",
       "      <td>18.60</td>\n",
       "      <td>1</td>\n",
       "      <td>False</td>\n",
       "      <td>...</td>\n",
       "      <td>0.0</td>\n",
       "      <td>NaN</td>\n",
       "      <td>0.0</td>\n",
       "      <td>NaN</td>\n",
       "      <td>81</td>\n",
       "      <td>83750.00</td>\n",
       "      <td>1</td>\n",
       "      <td>12</td>\n",
       "      <td>2018</td>\n",
       "      <td>первый</td>\n",
       "    </tr>\n",
       "    <tr>\n",
       "      <th>2</th>\n",
       "      <td>10</td>\n",
       "      <td>5196000</td>\n",
       "      <td>56.00</td>\n",
       "      <td>2015-08-20</td>\n",
       "      <td>2</td>\n",
       "      <td>2.65</td>\n",
       "      <td>5.0</td>\n",
       "      <td>34.30</td>\n",
       "      <td>4</td>\n",
       "      <td>False</td>\n",
       "      <td>...</td>\n",
       "      <td>1.0</td>\n",
       "      <td>90.0</td>\n",
       "      <td>2.0</td>\n",
       "      <td>574.0</td>\n",
       "      <td>558</td>\n",
       "      <td>92785.71</td>\n",
       "      <td>3</td>\n",
       "      <td>8</td>\n",
       "      <td>2015</td>\n",
       "      <td>другой</td>\n",
       "    </tr>\n",
       "    <tr>\n",
       "      <th>3</th>\n",
       "      <td>0</td>\n",
       "      <td>64900000</td>\n",
       "      <td>159.00</td>\n",
       "      <td>2015-07-24</td>\n",
       "      <td>3</td>\n",
       "      <td>2.65</td>\n",
       "      <td>14.0</td>\n",
       "      <td>NaN</td>\n",
       "      <td>9</td>\n",
       "      <td>False</td>\n",
       "      <td>...</td>\n",
       "      <td>2.0</td>\n",
       "      <td>84.0</td>\n",
       "      <td>3.0</td>\n",
       "      <td>234.0</td>\n",
       "      <td>424</td>\n",
       "      <td>408176.10</td>\n",
       "      <td>4</td>\n",
       "      <td>7</td>\n",
       "      <td>2015</td>\n",
       "      <td>другой</td>\n",
       "    </tr>\n",
       "    <tr>\n",
       "      <th>4</th>\n",
       "      <td>2</td>\n",
       "      <td>10000000</td>\n",
       "      <td>100.00</td>\n",
       "      <td>2018-06-19</td>\n",
       "      <td>2</td>\n",
       "      <td>3.03</td>\n",
       "      <td>14.0</td>\n",
       "      <td>32.00</td>\n",
       "      <td>13</td>\n",
       "      <td>False</td>\n",
       "      <td>...</td>\n",
       "      <td>2.0</td>\n",
       "      <td>112.0</td>\n",
       "      <td>1.0</td>\n",
       "      <td>48.0</td>\n",
       "      <td>121</td>\n",
       "      <td>100000.00</td>\n",
       "      <td>1</td>\n",
       "      <td>6</td>\n",
       "      <td>2018</td>\n",
       "      <td>другой</td>\n",
       "    </tr>\n",
       "    <tr>\n",
       "      <th>5</th>\n",
       "      <td>10</td>\n",
       "      <td>2890000</td>\n",
       "      <td>30.40</td>\n",
       "      <td>2018-09-10</td>\n",
       "      <td>1</td>\n",
       "      <td>2.65</td>\n",
       "      <td>12.0</td>\n",
       "      <td>14.40</td>\n",
       "      <td>5</td>\n",
       "      <td>False</td>\n",
       "      <td>...</td>\n",
       "      <td>NaN</td>\n",
       "      <td>NaN</td>\n",
       "      <td>NaN</td>\n",
       "      <td>NaN</td>\n",
       "      <td>55</td>\n",
       "      <td>96333.33</td>\n",
       "      <td>0</td>\n",
       "      <td>9</td>\n",
       "      <td>2018</td>\n",
       "      <td>другой</td>\n",
       "    </tr>\n",
       "    <tr>\n",
       "      <th>6</th>\n",
       "      <td>6</td>\n",
       "      <td>3700000</td>\n",
       "      <td>37.30</td>\n",
       "      <td>2017-11-02</td>\n",
       "      <td>1</td>\n",
       "      <td>2.65</td>\n",
       "      <td>26.0</td>\n",
       "      <td>10.60</td>\n",
       "      <td>6</td>\n",
       "      <td>False</td>\n",
       "      <td>...</td>\n",
       "      <td>0.0</td>\n",
       "      <td>NaN</td>\n",
       "      <td>0.0</td>\n",
       "      <td>NaN</td>\n",
       "      <td>155</td>\n",
       "      <td>100000.00</td>\n",
       "      <td>3</td>\n",
       "      <td>11</td>\n",
       "      <td>2017</td>\n",
       "      <td>другой</td>\n",
       "    </tr>\n",
       "    <tr>\n",
       "      <th>7</th>\n",
       "      <td>5</td>\n",
       "      <td>7915000</td>\n",
       "      <td>71.60</td>\n",
       "      <td>2019-04-18</td>\n",
       "      <td>2</td>\n",
       "      <td>2.65</td>\n",
       "      <td>24.0</td>\n",
       "      <td>NaN</td>\n",
       "      <td>22</td>\n",
       "      <td>False</td>\n",
       "      <td>...</td>\n",
       "      <td>0.0</td>\n",
       "      <td>NaN</td>\n",
       "      <td>0.0</td>\n",
       "      <td>NaN</td>\n",
       "      <td>0</td>\n",
       "      <td>111478.87</td>\n",
       "      <td>3</td>\n",
       "      <td>4</td>\n",
       "      <td>2019</td>\n",
       "      <td>другой</td>\n",
       "    </tr>\n",
       "    <tr>\n",
       "      <th>8</th>\n",
       "      <td>20</td>\n",
       "      <td>2900000</td>\n",
       "      <td>33.16</td>\n",
       "      <td>2018-05-23</td>\n",
       "      <td>1</td>\n",
       "      <td>2.65</td>\n",
       "      <td>27.0</td>\n",
       "      <td>15.43</td>\n",
       "      <td>26</td>\n",
       "      <td>False</td>\n",
       "      <td>...</td>\n",
       "      <td>NaN</td>\n",
       "      <td>NaN</td>\n",
       "      <td>NaN</td>\n",
       "      <td>NaN</td>\n",
       "      <td>189</td>\n",
       "      <td>87878.79</td>\n",
       "      <td>2</td>\n",
       "      <td>5</td>\n",
       "      <td>2018</td>\n",
       "      <td>другой</td>\n",
       "    </tr>\n",
       "    <tr>\n",
       "      <th>9</th>\n",
       "      <td>18</td>\n",
       "      <td>5400000</td>\n",
       "      <td>61.00</td>\n",
       "      <td>2017-02-26</td>\n",
       "      <td>3</td>\n",
       "      <td>2.50</td>\n",
       "      <td>9.0</td>\n",
       "      <td>43.60</td>\n",
       "      <td>7</td>\n",
       "      <td>False</td>\n",
       "      <td>...</td>\n",
       "      <td>0.0</td>\n",
       "      <td>NaN</td>\n",
       "      <td>0.0</td>\n",
       "      <td>NaN</td>\n",
       "      <td>289</td>\n",
       "      <td>88524.59</td>\n",
       "      <td>6</td>\n",
       "      <td>2</td>\n",
       "      <td>2017</td>\n",
       "      <td>другой</td>\n",
       "    </tr>\n",
       "  </tbody>\n",
       "</table>\n",
       "<p>10 rows × 27 columns</p>\n",
       "</div>"
      ],
      "text/plain": [
       "   total_images  last_price  total_area first_day_exposition  rooms  \\\n",
       "0            20    13000000      108.00           2019-03-07      3   \n",
       "1             7     3350000       40.40           2018-12-04      1   \n",
       "2            10     5196000       56.00           2015-08-20      2   \n",
       "3             0    64900000      159.00           2015-07-24      3   \n",
       "4             2    10000000      100.00           2018-06-19      2   \n",
       "5            10     2890000       30.40           2018-09-10      1   \n",
       "6             6     3700000       37.30           2017-11-02      1   \n",
       "7             5     7915000       71.60           2019-04-18      2   \n",
       "8            20     2900000       33.16           2018-05-23      1   \n",
       "9            18     5400000       61.00           2017-02-26      3   \n",
       "\n",
       "   ceiling_height  floors_total  living_area  floor  is_apartment  ...  \\\n",
       "0            2.70          16.0        51.00      8         False  ...   \n",
       "1            2.65          11.0        18.60      1         False  ...   \n",
       "2            2.65           5.0        34.30      4         False  ...   \n",
       "3            2.65          14.0          NaN      9         False  ...   \n",
       "4            3.03          14.0        32.00     13         False  ...   \n",
       "5            2.65          12.0        14.40      5         False  ...   \n",
       "6            2.65          26.0        10.60      6         False  ...   \n",
       "7            2.65          24.0          NaN     22         False  ...   \n",
       "8            2.65          27.0        15.43     26         False  ...   \n",
       "9            2.50           9.0        43.60      7         False  ...   \n",
       "\n",
       "   parks_around3000  parks_nearest  ponds_around3000  ponds_nearest  \\\n",
       "0               1.0          482.0               2.0          755.0   \n",
       "1               0.0            NaN               0.0            NaN   \n",
       "2               1.0           90.0               2.0          574.0   \n",
       "3               2.0           84.0               3.0          234.0   \n",
       "4               2.0          112.0               1.0           48.0   \n",
       "5               NaN            NaN               NaN            NaN   \n",
       "6               0.0            NaN               0.0            NaN   \n",
       "7               0.0            NaN               0.0            NaN   \n",
       "8               NaN            NaN               NaN            NaN   \n",
       "9               0.0            NaN               0.0            NaN   \n",
       "\n",
       "  days_exposition  square_meter_price  weekday_exposition  month_exposition  \\\n",
       "0               0           120370.37                   3                 3   \n",
       "1              81            83750.00                   1                12   \n",
       "2             558            92785.71                   3                 8   \n",
       "3             424           408176.10                   4                 7   \n",
       "4             121           100000.00                   1                 6   \n",
       "5              55            96333.33                   0                 9   \n",
       "6             155           100000.00                   3                11   \n",
       "7               0           111478.87                   3                 4   \n",
       "8             189            87878.79                   2                 5   \n",
       "9             289            88524.59                   6                 2   \n",
       "\n",
       "   year_expostition  floors_category  \n",
       "0              2019           другой  \n",
       "1              2018           первый  \n",
       "2              2015           другой  \n",
       "3              2015           другой  \n",
       "4              2018           другой  \n",
       "5              2018           другой  \n",
       "6              2017           другой  \n",
       "7              2019           другой  \n",
       "8              2018           другой  \n",
       "9              2017           другой  \n",
       "\n",
       "[10 rows x 27 columns]"
      ]
     },
     "execution_count": 41,
     "metadata": {},
     "output_type": "execute_result"
    }
   ],
   "source": [
    "data['floors_category'] = data.apply(floors, axis=1)\n",
    "data.head(10)"
   ]
  },
  {
   "cell_type": "markdown",
   "metadata": {},
   "source": [
    "Удалим столбцы floor, floors_total:"
   ]
  },
  {
   "cell_type": "code",
   "execution_count": 42,
   "metadata": {},
   "outputs": [
    {
     "data": {
      "text/plain": [
       "Index(['total_images', 'last_price', 'total_area', 'first_day_exposition',\n",
       "       'rooms', 'ceiling_height', 'living_area', 'is_apartment', 'studio',\n",
       "       'open_plan', 'kitchen_area', 'balcony', 'locality_name',\n",
       "       'airports_nearest', 'cityCenters_nearest', 'parks_around3000',\n",
       "       'parks_nearest', 'ponds_around3000', 'ponds_nearest', 'days_exposition',\n",
       "       'square_meter_price', 'weekday_exposition', 'month_exposition',\n",
       "       'year_expostition', 'floors_category'],\n",
       "      dtype='object')"
      ]
     },
     "execution_count": 42,
     "metadata": {},
     "output_type": "execute_result"
    }
   ],
   "source": [
    "data.drop(['floors_total', 'floor'], axis=1, inplace=True)\n",
    "data.columns"
   ]
  },
  {
   "cell_type": "markdown",
   "metadata": {},
   "source": [
    "<div class=\"alert alert-info\">\n",
    "<b class=\"alert-heading\"> Комментарий ревьюера</b>\n",
    "    \n",
    "Зачем удалять? Не мешают же, а пригодиться потом могут :)\n",
    "    \n",
    "</div>"
   ]
  },
  {
   "cell_type": "markdown",
   "metadata": {},
   "source": [
    "Расчитаем соотношение жилой и общей площади\n",
    "Расчитаем отношение площади кухни к общей площади"
   ]
  },
  {
   "cell_type": "code",
   "execution_count": 43,
   "metadata": {},
   "outputs": [],
   "source": [
    "data['living/total_ratio'] = data['living_area'] / data['total_area']\n",
    "data['kitchen/total_ratio'] = data['kitchen_area'] / data['total_area']"
   ]
  },
  {
   "cell_type": "code",
   "execution_count": 44,
   "metadata": {},
   "outputs": [
    {
     "data": {
      "text/html": [
       "<div>\n",
       "<style scoped>\n",
       "    .dataframe tbody tr th:only-of-type {\n",
       "        vertical-align: middle;\n",
       "    }\n",
       "\n",
       "    .dataframe tbody tr th {\n",
       "        vertical-align: top;\n",
       "    }\n",
       "\n",
       "    .dataframe thead th {\n",
       "        text-align: right;\n",
       "    }\n",
       "</style>\n",
       "<table border=\"1\" class=\"dataframe\">\n",
       "  <thead>\n",
       "    <tr style=\"text-align: right;\">\n",
       "      <th></th>\n",
       "      <th>total_images</th>\n",
       "      <th>last_price</th>\n",
       "      <th>total_area</th>\n",
       "      <th>first_day_exposition</th>\n",
       "      <th>rooms</th>\n",
       "      <th>ceiling_height</th>\n",
       "      <th>living_area</th>\n",
       "      <th>is_apartment</th>\n",
       "      <th>studio</th>\n",
       "      <th>open_plan</th>\n",
       "      <th>...</th>\n",
       "      <th>ponds_around3000</th>\n",
       "      <th>ponds_nearest</th>\n",
       "      <th>days_exposition</th>\n",
       "      <th>square_meter_price</th>\n",
       "      <th>weekday_exposition</th>\n",
       "      <th>month_exposition</th>\n",
       "      <th>year_expostition</th>\n",
       "      <th>floors_category</th>\n",
       "      <th>living/total_ratio</th>\n",
       "      <th>kitchen/total_ratio</th>\n",
       "    </tr>\n",
       "  </thead>\n",
       "  <tbody>\n",
       "    <tr>\n",
       "      <th>0</th>\n",
       "      <td>20</td>\n",
       "      <td>13000000</td>\n",
       "      <td>108.00</td>\n",
       "      <td>2019-03-07</td>\n",
       "      <td>3</td>\n",
       "      <td>2.70</td>\n",
       "      <td>51.00</td>\n",
       "      <td>False</td>\n",
       "      <td>False</td>\n",
       "      <td>False</td>\n",
       "      <td>...</td>\n",
       "      <td>2.0</td>\n",
       "      <td>755.0</td>\n",
       "      <td>0</td>\n",
       "      <td>120370.37</td>\n",
       "      <td>3</td>\n",
       "      <td>3</td>\n",
       "      <td>2019</td>\n",
       "      <td>другой</td>\n",
       "      <td>0.472222</td>\n",
       "      <td>0.231481</td>\n",
       "    </tr>\n",
       "    <tr>\n",
       "      <th>1</th>\n",
       "      <td>7</td>\n",
       "      <td>3350000</td>\n",
       "      <td>40.40</td>\n",
       "      <td>2018-12-04</td>\n",
       "      <td>1</td>\n",
       "      <td>2.65</td>\n",
       "      <td>18.60</td>\n",
       "      <td>False</td>\n",
       "      <td>False</td>\n",
       "      <td>False</td>\n",
       "      <td>...</td>\n",
       "      <td>0.0</td>\n",
       "      <td>NaN</td>\n",
       "      <td>81</td>\n",
       "      <td>83750.00</td>\n",
       "      <td>1</td>\n",
       "      <td>12</td>\n",
       "      <td>2018</td>\n",
       "      <td>первый</td>\n",
       "      <td>0.460396</td>\n",
       "      <td>0.272277</td>\n",
       "    </tr>\n",
       "    <tr>\n",
       "      <th>2</th>\n",
       "      <td>10</td>\n",
       "      <td>5196000</td>\n",
       "      <td>56.00</td>\n",
       "      <td>2015-08-20</td>\n",
       "      <td>2</td>\n",
       "      <td>2.65</td>\n",
       "      <td>34.30</td>\n",
       "      <td>False</td>\n",
       "      <td>False</td>\n",
       "      <td>False</td>\n",
       "      <td>...</td>\n",
       "      <td>2.0</td>\n",
       "      <td>574.0</td>\n",
       "      <td>558</td>\n",
       "      <td>92785.71</td>\n",
       "      <td>3</td>\n",
       "      <td>8</td>\n",
       "      <td>2015</td>\n",
       "      <td>другой</td>\n",
       "      <td>0.612500</td>\n",
       "      <td>0.148214</td>\n",
       "    </tr>\n",
       "    <tr>\n",
       "      <th>3</th>\n",
       "      <td>0</td>\n",
       "      <td>64900000</td>\n",
       "      <td>159.00</td>\n",
       "      <td>2015-07-24</td>\n",
       "      <td>3</td>\n",
       "      <td>2.65</td>\n",
       "      <td>NaN</td>\n",
       "      <td>False</td>\n",
       "      <td>False</td>\n",
       "      <td>False</td>\n",
       "      <td>...</td>\n",
       "      <td>3.0</td>\n",
       "      <td>234.0</td>\n",
       "      <td>424</td>\n",
       "      <td>408176.10</td>\n",
       "      <td>4</td>\n",
       "      <td>7</td>\n",
       "      <td>2015</td>\n",
       "      <td>другой</td>\n",
       "      <td>NaN</td>\n",
       "      <td>NaN</td>\n",
       "    </tr>\n",
       "    <tr>\n",
       "      <th>4</th>\n",
       "      <td>2</td>\n",
       "      <td>10000000</td>\n",
       "      <td>100.00</td>\n",
       "      <td>2018-06-19</td>\n",
       "      <td>2</td>\n",
       "      <td>3.03</td>\n",
       "      <td>32.00</td>\n",
       "      <td>False</td>\n",
       "      <td>False</td>\n",
       "      <td>False</td>\n",
       "      <td>...</td>\n",
       "      <td>1.0</td>\n",
       "      <td>48.0</td>\n",
       "      <td>121</td>\n",
       "      <td>100000.00</td>\n",
       "      <td>1</td>\n",
       "      <td>6</td>\n",
       "      <td>2018</td>\n",
       "      <td>другой</td>\n",
       "      <td>0.320000</td>\n",
       "      <td>0.410000</td>\n",
       "    </tr>\n",
       "    <tr>\n",
       "      <th>5</th>\n",
       "      <td>10</td>\n",
       "      <td>2890000</td>\n",
       "      <td>30.40</td>\n",
       "      <td>2018-09-10</td>\n",
       "      <td>1</td>\n",
       "      <td>2.65</td>\n",
       "      <td>14.40</td>\n",
       "      <td>False</td>\n",
       "      <td>False</td>\n",
       "      <td>False</td>\n",
       "      <td>...</td>\n",
       "      <td>NaN</td>\n",
       "      <td>NaN</td>\n",
       "      <td>55</td>\n",
       "      <td>96333.33</td>\n",
       "      <td>0</td>\n",
       "      <td>9</td>\n",
       "      <td>2018</td>\n",
       "      <td>другой</td>\n",
       "      <td>0.473684</td>\n",
       "      <td>0.299342</td>\n",
       "    </tr>\n",
       "    <tr>\n",
       "      <th>6</th>\n",
       "      <td>6</td>\n",
       "      <td>3700000</td>\n",
       "      <td>37.30</td>\n",
       "      <td>2017-11-02</td>\n",
       "      <td>1</td>\n",
       "      <td>2.65</td>\n",
       "      <td>10.60</td>\n",
       "      <td>False</td>\n",
       "      <td>False</td>\n",
       "      <td>False</td>\n",
       "      <td>...</td>\n",
       "      <td>0.0</td>\n",
       "      <td>NaN</td>\n",
       "      <td>155</td>\n",
       "      <td>100000.00</td>\n",
       "      <td>3</td>\n",
       "      <td>11</td>\n",
       "      <td>2017</td>\n",
       "      <td>другой</td>\n",
       "      <td>0.284182</td>\n",
       "      <td>0.386059</td>\n",
       "    </tr>\n",
       "    <tr>\n",
       "      <th>7</th>\n",
       "      <td>5</td>\n",
       "      <td>7915000</td>\n",
       "      <td>71.60</td>\n",
       "      <td>2019-04-18</td>\n",
       "      <td>2</td>\n",
       "      <td>2.65</td>\n",
       "      <td>NaN</td>\n",
       "      <td>False</td>\n",
       "      <td>False</td>\n",
       "      <td>False</td>\n",
       "      <td>...</td>\n",
       "      <td>0.0</td>\n",
       "      <td>NaN</td>\n",
       "      <td>0</td>\n",
       "      <td>111478.87</td>\n",
       "      <td>3</td>\n",
       "      <td>4</td>\n",
       "      <td>2019</td>\n",
       "      <td>другой</td>\n",
       "      <td>NaN</td>\n",
       "      <td>0.263966</td>\n",
       "    </tr>\n",
       "    <tr>\n",
       "      <th>8</th>\n",
       "      <td>20</td>\n",
       "      <td>2900000</td>\n",
       "      <td>33.16</td>\n",
       "      <td>2018-05-23</td>\n",
       "      <td>1</td>\n",
       "      <td>2.65</td>\n",
       "      <td>15.43</td>\n",
       "      <td>False</td>\n",
       "      <td>False</td>\n",
       "      <td>False</td>\n",
       "      <td>...</td>\n",
       "      <td>NaN</td>\n",
       "      <td>NaN</td>\n",
       "      <td>189</td>\n",
       "      <td>87878.79</td>\n",
       "      <td>2</td>\n",
       "      <td>5</td>\n",
       "      <td>2018</td>\n",
       "      <td>другой</td>\n",
       "      <td>0.465320</td>\n",
       "      <td>0.265682</td>\n",
       "    </tr>\n",
       "    <tr>\n",
       "      <th>9</th>\n",
       "      <td>18</td>\n",
       "      <td>5400000</td>\n",
       "      <td>61.00</td>\n",
       "      <td>2017-02-26</td>\n",
       "      <td>3</td>\n",
       "      <td>2.50</td>\n",
       "      <td>43.60</td>\n",
       "      <td>False</td>\n",
       "      <td>False</td>\n",
       "      <td>False</td>\n",
       "      <td>...</td>\n",
       "      <td>0.0</td>\n",
       "      <td>NaN</td>\n",
       "      <td>289</td>\n",
       "      <td>88524.59</td>\n",
       "      <td>6</td>\n",
       "      <td>2</td>\n",
       "      <td>2017</td>\n",
       "      <td>другой</td>\n",
       "      <td>0.714754</td>\n",
       "      <td>0.106557</td>\n",
       "    </tr>\n",
       "  </tbody>\n",
       "</table>\n",
       "<p>10 rows × 27 columns</p>\n",
       "</div>"
      ],
      "text/plain": [
       "   total_images  last_price  total_area first_day_exposition  rooms  \\\n",
       "0            20    13000000      108.00           2019-03-07      3   \n",
       "1             7     3350000       40.40           2018-12-04      1   \n",
       "2            10     5196000       56.00           2015-08-20      2   \n",
       "3             0    64900000      159.00           2015-07-24      3   \n",
       "4             2    10000000      100.00           2018-06-19      2   \n",
       "5            10     2890000       30.40           2018-09-10      1   \n",
       "6             6     3700000       37.30           2017-11-02      1   \n",
       "7             5     7915000       71.60           2019-04-18      2   \n",
       "8            20     2900000       33.16           2018-05-23      1   \n",
       "9            18     5400000       61.00           2017-02-26      3   \n",
       "\n",
       "   ceiling_height  living_area  is_apartment  studio  open_plan  ...  \\\n",
       "0            2.70        51.00         False   False      False  ...   \n",
       "1            2.65        18.60         False   False      False  ...   \n",
       "2            2.65        34.30         False   False      False  ...   \n",
       "3            2.65          NaN         False   False      False  ...   \n",
       "4            3.03        32.00         False   False      False  ...   \n",
       "5            2.65        14.40         False   False      False  ...   \n",
       "6            2.65        10.60         False   False      False  ...   \n",
       "7            2.65          NaN         False   False      False  ...   \n",
       "8            2.65        15.43         False   False      False  ...   \n",
       "9            2.50        43.60         False   False      False  ...   \n",
       "\n",
       "   ponds_around3000  ponds_nearest days_exposition  square_meter_price  \\\n",
       "0               2.0          755.0               0           120370.37   \n",
       "1               0.0            NaN              81            83750.00   \n",
       "2               2.0          574.0             558            92785.71   \n",
       "3               3.0          234.0             424           408176.10   \n",
       "4               1.0           48.0             121           100000.00   \n",
       "5               NaN            NaN              55            96333.33   \n",
       "6               0.0            NaN             155           100000.00   \n",
       "7               0.0            NaN               0           111478.87   \n",
       "8               NaN            NaN             189            87878.79   \n",
       "9               0.0            NaN             289            88524.59   \n",
       "\n",
       "   weekday_exposition  month_exposition  year_expostition  floors_category  \\\n",
       "0                   3                 3              2019           другой   \n",
       "1                   1                12              2018           первый   \n",
       "2                   3                 8              2015           другой   \n",
       "3                   4                 7              2015           другой   \n",
       "4                   1                 6              2018           другой   \n",
       "5                   0                 9              2018           другой   \n",
       "6                   3                11              2017           другой   \n",
       "7                   3                 4              2019           другой   \n",
       "8                   2                 5              2018           другой   \n",
       "9                   6                 2              2017           другой   \n",
       "\n",
       "   living/total_ratio  kitchen/total_ratio  \n",
       "0            0.472222             0.231481  \n",
       "1            0.460396             0.272277  \n",
       "2            0.612500             0.148214  \n",
       "3                 NaN                  NaN  \n",
       "4            0.320000             0.410000  \n",
       "5            0.473684             0.299342  \n",
       "6            0.284182             0.386059  \n",
       "7                 NaN             0.263966  \n",
       "8            0.465320             0.265682  \n",
       "9            0.714754             0.106557  \n",
       "\n",
       "[10 rows x 27 columns]"
      ]
     },
     "execution_count": 44,
     "metadata": {},
     "output_type": "execute_result"
    }
   ],
   "source": [
    "data.head(10)"
   ]
  },
  {
   "cell_type": "markdown",
   "metadata": {},
   "source": [
    "<div class=\"alert alert-success\">\n",
    "<b class=\"alert-heading\"> Комментарий ревьюера: ОК</b>\n",
    "\n",
    "Все столбцы добавлены корректно.\n",
    "    \n",
    "</div>"
   ]
  },
  {
   "cell_type": "markdown",
   "metadata": {},
   "source": [
    "## Исследовательский анализ данных"
   ]
  },
  {
   "cell_type": "markdown",
   "metadata": {},
   "source": [
    "#### Изучите следующие параметры: площадь, цена, число комнат, высота потолков. Постройте гистограммы для каждого параметра."
   ]
  },
  {
   "cell_type": "markdown",
   "metadata": {},
   "source": [
    "**Площадь**"
   ]
  },
  {
   "cell_type": "code",
   "execution_count": 45,
   "metadata": {},
   "outputs": [
    {
     "data": {
      "text/plain": [
       "count    23699.000000\n",
       "mean        60.348651\n",
       "std         35.654083\n",
       "min         12.000000\n",
       "25%         40.000000\n",
       "50%         52.000000\n",
       "75%         69.900000\n",
       "max        900.000000\n",
       "Name: total_area, dtype: float64"
      ]
     },
     "execution_count": 45,
     "metadata": {},
     "output_type": "execute_result"
    }
   ],
   "source": [
    "data['total_area'].describe()"
   ]
  },
  {
   "cell_type": "code",
   "execution_count": 46,
   "metadata": {},
   "outputs": [
    {
     "data": {
      "text/plain": [
       "<AxesSubplot:ylabel='Frequency'>"
      ]
     },
     "execution_count": 46,
     "metadata": {},
     "output_type": "execute_result"
    },
    {
     "data": {
      "image/png": "[encoded data removed]",
      "text/plain": [
       "<Figure size 360x360 with 1 Axes>"
      ]
     },
     "metadata": {
      "needs_background": "light"
     },
     "output_type": "display_data"
    }
   ],
   "source": [
    "data.plot(kind='hist', y='total_area', bins=100, grid=True, figsize=(5,5), range=(25,350))"
   ]
  },
  {
   "cell_type": "markdown",
   "metadata": {},
   "source": [
    "Пик наблюдений приходится на отметку 30-50 кв.м, свыше 250 кв метров практически нулевые значения"
   ]
  },
  {
   "cell_type": "markdown",
   "metadata": {},
   "source": [
    "**Цена**"
   ]
  },
  {
   "cell_type": "code",
   "execution_count": 47,
   "metadata": {},
   "outputs": [
    {
     "data": {
      "text/plain": [
       "count    2.369900e+04\n",
       "mean     6.541549e+06\n",
       "std      1.088701e+07\n",
       "min      1.219000e+04\n",
       "25%      3.400000e+06\n",
       "50%      4.650000e+06\n",
       "75%      6.800000e+06\n",
       "max      7.630000e+08\n",
       "Name: last_price, dtype: float64"
      ]
     },
     "execution_count": 47,
     "metadata": {},
     "output_type": "execute_result"
    }
   ],
   "source": [
    "data['last_price'].describe()"
   ]
  },
  {
   "cell_type": "markdown",
   "metadata": {},
   "source": [
    "Средняя цена на квартиру составляет 6,5 млн рублей, медианное значение - 4,65 млн рублей. Су"
   ]
  },
  {
   "cell_type": "markdown",
   "metadata": {},
   "source": [
    "**Цена**"
   ]
  },
  {
   "cell_type": "code",
   "execution_count": 48,
   "metadata": {},
   "outputs": [],
   "source": [
    "data['price_mln']= data['last_price'] / 1000000"
   ]
  },
  {
   "cell_type": "code",
   "execution_count": 49,
   "metadata": {},
   "outputs": [
    {
     "data": {
      "text/plain": [
       "<AxesSubplot:ylabel='Frequency'>"
      ]
     },
     "execution_count": 49,
     "metadata": {},
     "output_type": "execute_result"
    },
    {
     "data": {
      "image/png": "[encoded data removed]",
      "text/plain": [
       "<Figure size 360x360 with 1 Axes>"
      ]
     },
     "metadata": {
      "needs_background": "light"
     },
     "output_type": "display_data"
    }
   ],
   "source": [
    "data.plot(kind='hist', y='price_mln', bins=100, range=(0, 10),grid=True, figsize=(5,5))"
   ]
  },
  {
   "cell_type": "markdown",
   "metadata": {},
   "source": [
    "Как видим, медиана расположена около отметки 4,6 млн рублей, сущенствуют множественные пики, что характерно для квартир в разном состоянии и в разых местах  \n",
    "Вопросы вызывают квартиры с ценой менее 200 тыс рублей - это необходимо выяснить у поставщика данных"
   ]
  },
  {
   "cell_type": "markdown",
   "metadata": {},
   "source": [
    "<div class=\"alert alert-success\">\n",
    "<b class=\"alert-heading\"> Комментарий ревьюера: ОК</b>\n",
    "\n",
    "Отлично. На график можно наносить дополнительные вертикальные линии с помощью [ax.vlines](https://www.pythonpool.com/matplotlib-vertical-lines/). Так можно показать значения, на которые ты хочешь обратить внимание.\n",
    "    \n",
    "</div>"
   ]
  },
  {
   "cell_type": "markdown",
   "metadata": {},
   "source": [
    "**Число комнат**"
   ]
  },
  {
   "cell_type": "code",
   "execution_count": 50,
   "metadata": {},
   "outputs": [
    {
     "data": {
      "text/plain": [
       "count    23699.000000\n",
       "mean         2.070636\n",
       "std          1.078405\n",
       "min          0.000000\n",
       "25%          1.000000\n",
       "50%          2.000000\n",
       "75%          3.000000\n",
       "max         19.000000\n",
       "Name: rooms, dtype: float64"
      ]
     },
     "execution_count": 50,
     "metadata": {},
     "output_type": "execute_result"
    }
   ],
   "source": [
    "data['rooms'].describe()"
   ]
  },
  {
   "cell_type": "code",
   "execution_count": 51,
   "metadata": {},
   "outputs": [
    {
     "data": {
      "text/plain": [
       "<AxesSubplot:ylabel='Frequency'>"
      ]
     },
     "execution_count": 51,
     "metadata": {},
     "output_type": "execute_result"
    },
    {
     "data": {
      "image/png": "[encoded data removed]",
      "text/plain": [
       "<Figure size 432x288 with 1 Axes>"
      ]
     },
     "metadata": {
      "needs_background": "light"
     },
     "output_type": "display_data"
    }
   ],
   "source": [
    "data.plot(kind='hist',y='rooms', bins=20)"
   ]
  },
  {
   "cell_type": "markdown",
   "metadata": {},
   "source": [
    "Пик наблюдений  приходится на 2 комнтаты  \n",
    "Вопросы вызывают квартиры с нулем комнат.\n",
    "Посмотрим, сколько таких комнат:"
   ]
  },
  {
   "cell_type": "code",
   "execution_count": 52,
   "metadata": {},
   "outputs": [
    {
     "data": {
      "text/plain": [
       "197"
      ]
     },
     "execution_count": 52,
     "metadata": {},
     "output_type": "execute_result"
    }
   ],
   "source": [
    "data.query('rooms==0').shape[0]"
   ]
  },
  {
   "cell_type": "markdown",
   "metadata": {},
   "source": [
    "Удалим эти строки"
   ]
  },
  {
   "cell_type": "code",
   "execution_count": 53,
   "metadata": {},
   "outputs": [
    {
     "data": {
      "text/plain": [
       "array([[<AxesSubplot:title={'center':'rooms'}>]], dtype=object)"
      ]
     },
     "execution_count": 53,
     "metadata": {},
     "output_type": "execute_result"
    },
    {
     "data": {
      "image/png": "[encoded data removed]",
      "text/plain": [
       "<Figure size 432x288 with 1 Axes>"
      ]
     },
     "metadata": {
      "needs_background": "light"
     },
     "output_type": "display_data"
    }
   ],
   "source": [
    "data.drop(data[data['rooms']==0].index, inplace=True)\n",
    "data.hist('rooms')"
   ]
  },
  {
   "cell_type": "markdown",
   "metadata": {},
   "source": [
    "**Высота потолков**"
   ]
  },
  {
   "cell_type": "code",
   "execution_count": 54,
   "metadata": {},
   "outputs": [
    {
     "data": {
      "text/plain": [
       "count    23502.000000\n",
       "mean         2.723397\n",
       "std          0.979430\n",
       "min          1.000000\n",
       "25%          2.600000\n",
       "50%          2.650000\n",
       "75%          2.700000\n",
       "max        100.000000\n",
       "Name: ceiling_height, dtype: float64"
      ]
     },
     "execution_count": 54,
     "metadata": {},
     "output_type": "execute_result"
    }
   ],
   "source": [
    "data['ceiling_height'].describe()"
   ]
  },
  {
   "cell_type": "code",
   "execution_count": 55,
   "metadata": {},
   "outputs": [
    {
     "data": {
      "text/plain": [
       "<AxesSubplot:ylabel='Frequency'>"
      ]
     },
     "execution_count": 55,
     "metadata": {},
     "output_type": "execute_result"
    },
    {
     "data": {
      "image/png": "[encoded data removed]",
      "text/plain": [
       "<Figure size 360x360 with 1 Axes>"
      ]
     },
     "metadata": {
      "needs_background": "light"
     },
     "output_type": "display_data"
    }
   ],
   "source": [
    "data.plot(y = 'ceiling_height', kind = 'hist', bins = 30, range = (2,5), grid=True, figsize = (5,5))"
   ]
  },
  {
   "cell_type": "markdown",
   "metadata": {},
   "source": [
    "Пик наблюдений приходится на 2-3 метра - стандартные потолки 2,67m, есть отдельные квартиры с очень высокими потолками (до 100м) и очень низкими - 1м\n",
    "Для анализа обычного  рынка недвижимости объекты с высотой потолков > 4 м и < 2 м - явные выбросы, удалим эти наблюдения"
   ]
  },
  {
   "cell_type": "code",
   "execution_count": 56,
   "metadata": {},
   "outputs": [
    {
     "data": {
      "text/plain": [
       "<AxesSubplot:ylabel='Frequency'>"
      ]
     },
     "execution_count": 56,
     "metadata": {},
     "output_type": "execute_result"
    },
    {
     "data": {
      "image/png": "[encoded data removed]",
      "text/plain": [
       "<Figure size 360x360 with 1 Axes>"
      ]
     },
     "metadata": {
      "needs_background": "light"
     },
     "output_type": "display_data"
    }
   ],
   "source": [
    "data.drop(data.query('(ceiling_height>4) and (ceiling_height < 2)').index, inplace=True)\n",
    "data.plot(y = 'ceiling_height', kind = 'hist', bins = 30, range = (2,5), grid=True, figsize = (5,5))"
   ]
  },
  {
   "cell_type": "markdown",
   "metadata": {},
   "source": [
    "Изучите время продажи квартиры. Постройте гистограмму. Посчитайте среднее и медиану. Опишите, сколько обычно занимает продажа. Когда можно считать, что продажи прошли очень быстро, а когда необычно долго?"
   ]
  },
  {
   "cell_type": "code",
   "execution_count": 57,
   "metadata": {},
   "outputs": [
    {
     "data": {
      "text/plain": [
       "<AxesSubplot:ylabel='Frequency'>"
      ]
     },
     "execution_count": 57,
     "metadata": {},
     "output_type": "execute_result"
    },
    {
     "data": {
      "image/png": "[encoded data removed]",
      "text/plain": [
       "<Figure size 720x720 with 1 Axes>"
      ]
     },
     "metadata": {
      "needs_background": "light"
     },
     "output_type": "display_data"
    }
   ],
   "source": [
    "exp_mean = data['days_exposition'].mean()\n",
    "exp_median = data['days_exposition'].median()\n",
    "data.plot(y='days_exposition',kind='hist', bins=100,figsize=(10,10))"
   ]
  },
  {
   "cell_type": "markdown",
   "metadata": {},
   "source": [
    "Видим явные пики:"
   ]
  },
  {
   "cell_type": "code",
   "execution_count": 58,
   "metadata": {},
   "outputs": [
    {
     "data": {
      "text/plain": [
       "<AxesSubplot:ylabel='Frequency'>"
      ]
     },
     "execution_count": 58,
     "metadata": {},
     "output_type": "execute_result"
    },
    {
     "data": {
      "image/png": "[encoded data removed]",
      "text/plain": [
       "<Figure size 720x720 with 1 Axes>"
      ]
     },
     "metadata": {
      "needs_background": "light"
     },
     "output_type": "display_data"
    }
   ],
   "source": [
    "data.plot(y='days_exposition',kind='hist', bins=100,figsize=(10,10), range=(0,100))"
   ]
  },
  {
   "cell_type": "code",
   "execution_count": 59,
   "metadata": {},
   "outputs": [
    {
     "data": {
      "text/plain": [
       "<AxesSubplot:ylabel='Frequency'>"
      ]
     },
     "execution_count": 59,
     "metadata": {},
     "output_type": "execute_result"
    },
    {
     "data": {
      "image/png": "[encoded data removed]",
      "text/plain": [
       "<Figure size 720x720 with 1 Axes>"
      ]
     },
     "metadata": {
      "needs_background": "light"
     },
     "output_type": "display_data"
    }
   ],
   "source": [
    "data.plot(y='days_exposition',kind='hist', bins=100,figsize=(10,10), range=(0,10))"
   ]
  },
  {
   "cell_type": "code",
   "execution_count": 60,
   "metadata": {},
   "outputs": [
    {
     "data": {
      "text/plain": [
       "<AxesSubplot:ylabel='Frequency'>"
      ]
     },
     "execution_count": 60,
     "metadata": {},
     "output_type": "execute_result"
    },
    {
     "data": {
      "image/png": "[encoded data removed]",
      "text/plain": [
       "<Figure size 720x720 with 1 Axes>"
      ]
     },
     "metadata": {
      "needs_background": "light"
     },
     "output_type": "display_data"
    }
   ],
   "source": [
    "data.plot(y='days_exposition',kind='hist', bins=30,figsize=(10,10), range=(30,60))"
   ]
  },
  {
   "cell_type": "code",
   "execution_count": 61,
   "metadata": {},
   "outputs": [
    {
     "data": {
      "text/plain": [
       "<AxesSubplot:ylabel='Frequency'>"
      ]
     },
     "execution_count": 61,
     "metadata": {},
     "output_type": "execute_result"
    },
    {
     "data": {
      "image/png": "[encoded data removed]",
      "text/plain": [
       "<Figure size 720x720 with 1 Axes>"
      ]
     },
     "metadata": {
      "needs_background": "light"
     },
     "output_type": "display_data"
    }
   ],
   "source": [
    "data.plot(y='days_exposition',kind='hist', bins=20,figsize=(10,10), range=(80,100))"
   ]
  },
  {
   "cell_type": "markdown",
   "metadata": {},
   "source": [
    "Видим явные пики на 7, 30, 45, 60, 90 днях  \n",
    "Вероятнее всего это связано с тем, что это \"стандартное\" веремя размещения объявления  \n",
    "Это аномалии, удалим эти строки:"
   ]
  },
  {
   "cell_type": "code",
   "execution_count": 62,
   "metadata": {
    "scrolled": true
   },
   "outputs": [
    {
     "data": {
      "text/plain": [
       "1391       1\n",
       "1268       1\n",
       "1332       1\n",
       "1396       1\n",
       "1572       1\n",
       "        ... \n",
       "90       203\n",
       "7        228\n",
       "60       534\n",
       "45       869\n",
       "0       3167\n",
       "Name: days_exposition, Length: 1142, dtype: int64"
      ]
     },
     "execution_count": 62,
     "metadata": {},
     "output_type": "execute_result"
    }
   ],
   "source": [
    "data['days_exposition'].value_counts().sort_values()"
   ]
  },
  {
   "cell_type": "code",
   "execution_count": 63,
   "metadata": {},
   "outputs": [
    {
     "data": {
      "text/plain": [
       "<AxesSubplot:ylabel='Frequency'>"
      ]
     },
     "execution_count": 63,
     "metadata": {},
     "output_type": "execute_result"
    },
    {
     "data": {
      "image/png": "[encoded data removed]",
      "text/plain": [
       "<Figure size 432x288 with 1 Axes>"
      ]
     },
     "metadata": {
      "needs_background": "light"
     },
     "output_type": "display_data"
    }
   ],
   "source": [
    "import matplotlib.pyplot as plt\n",
    "clean_data = data.query('days_exposition != 45 and days_exposition != 30 and days_exposition != 60 and days_exposition != 90 and days_exposition != 7 and days_exposition != 0')\n",
    "\n",
    "clean_data.plot(y = 'days_exposition', kind = 'hist', bins = 30, grid = True, range = (1,1500))\n"
   ]
  },
  {
   "cell_type": "code",
   "execution_count": 64,
   "metadata": {},
   "outputs": [
    {
     "data": {
      "text/plain": [
       "<AxesSubplot:ylabel='Frequency'>"
      ]
     },
     "execution_count": 64,
     "metadata": {},
     "output_type": "execute_result"
    },
    {
     "data": {
      "image/png": "[encoded data removed]",
      "text/plain": [
       "<Figure size 432x288 with 1 Axes>"
      ]
     },
     "metadata": {
      "needs_background": "light"
     },
     "output_type": "display_data"
    }
   ],
   "source": [
    "clean_data.plot(y = 'days_exposition', kind = 'hist', bins = 100, grid = True, range = (1,300))\n"
   ]
  },
  {
   "cell_type": "code",
   "execution_count": 65,
   "metadata": {},
   "outputs": [
    {
     "data": {
      "text/plain": [
       "count    18299.000000\n",
       "mean       196.427236\n",
       "std        227.086518\n",
       "min          1.000000\n",
       "25%         44.000000\n",
       "50%        114.000000\n",
       "75%        259.000000\n",
       "max       1580.000000\n",
       "Name: days_exposition, dtype: float64"
      ]
     },
     "execution_count": 65,
     "metadata": {},
     "output_type": "execute_result"
    }
   ],
   "source": [
    "clean_data['days_exposition'].describe()"
   ]
  },
  {
   "cell_type": "code",
   "execution_count": 66,
   "metadata": {},
   "outputs": [
    {
     "data": {
      "text/plain": [
       "count    23502.000000\n",
       "mean       157.071441\n",
       "std        213.908352\n",
       "min          0.000000\n",
       "25%         22.000000\n",
       "50%         74.000000\n",
       "75%        199.000000\n",
       "max       1580.000000\n",
       "Name: days_exposition, dtype: float64"
      ]
     },
     "execution_count": 66,
     "metadata": {},
     "output_type": "execute_result"
    }
   ],
   "source": [
    "data['days_exposition'].describe()"
   ]
  },
  {
   "cell_type": "code",
   "execution_count": 67,
   "metadata": {},
   "outputs": [
    {
     "data": {
      "text/plain": [
       "(1.0, 1000.0)"
      ]
     },
     "execution_count": 67,
     "metadata": {},
     "output_type": "execute_result"
    },
    {
     "data": {
      "image/png": "[encoded data removed]",
      "text/plain": [
       "<Figure size 432x288 with 1 Axes>"
      ]
     },
     "metadata": {
      "needs_background": "light"
     },
     "output_type": "display_data"
    }
   ],
   "source": [
    "plt.boxplot(clean_data['days_exposition'])\n",
    "plt.ylim(1,1000)\n"
   ]
  },
  {
   "cell_type": "code",
   "execution_count": 68,
   "metadata": {},
   "outputs": [
    {
     "data": {
      "text/plain": [
       "(1.0, 1000.0)"
      ]
     },
     "execution_count": 68,
     "metadata": {},
     "output_type": "execute_result"
    },
    {
     "data": {
      "image/png": "[encoded data removed]",
      "text/plain": [
       "<Figure size 432x288 with 1 Axes>"
      ]
     },
     "metadata": {
      "needs_background": "light"
     },
     "output_type": "display_data"
    }
   ],
   "source": [
    "plt.boxplot(data['days_exposition'])\n",
    "plt.ylim(1,1000)"
   ]
  },
  {
   "cell_type": "markdown",
   "metadata": {},
   "source": [
    "После очиски от выбросов медиана и средние значения увеличились \n",
    "\n",
    "Также порог нормальных значений сдвинулся к 600 дням"
   ]
  },
  {
   "cell_type": "markdown",
   "metadata": {},
   "source": [
    "Для ответа на вопрос об очень быстрой/ очень долго продаже квартир рассмотрить 1 и 9 процентили столбца 'days_expositon':"
   ]
  },
  {
   "cell_type": "code",
   "execution_count": 69,
   "metadata": {},
   "outputs": [
    {
     "data": {
      "text/plain": [
       "count    23502.000000\n",
       "mean       157.071441\n",
       "std        213.908352\n",
       "min          0.000000\n",
       "25%         22.000000\n",
       "50%         74.000000\n",
       "75%        199.000000\n",
       "max       1580.000000\n",
       "Name: days_exposition, dtype: float64"
      ]
     },
     "execution_count": 69,
     "metadata": {},
     "output_type": "execute_result"
    }
   ],
   "source": [
    "data['days_exposition'].describe()"
   ]
  },
  {
   "cell_type": "code",
   "execution_count": 70,
   "metadata": {},
   "outputs": [
    {
     "data": {
      "text/plain": [
       "0.1     17.0\n",
       "0.5    114.0\n",
       "0.9    486.0\n",
       "Name: days_exposition, dtype: float64"
      ]
     },
     "execution_count": 70,
     "metadata": {},
     "output_type": "execute_result"
    }
   ],
   "source": [
    "clean_data['days_exposition'].quantile(q=[0.1,0.5,0.9])"
   ]
  },
  {
   "cell_type": "markdown",
   "metadata": {},
   "source": [
    "**Можно сделать вывод, что покупка, занявшая менее 17 дней - необычно быстрая, а больше 480 дней - необычно долгая  \n",
    "Обычно продажа занимает около 114 дней**"
   ]
  },
  {
   "cell_type": "markdown",
   "metadata": {},
   "source": [
    "Какие факторы больше всего влияют на стоимость квартиры? Изучите, зависит ли цена от площади, числа комнат, удалённости от центра. Изучите зависимость цены от того, на каком этаже расположена квартира: первом, последнем или другом. Также изучите зависимость от даты размещения: дня недели, месяца и года.\n"
   ]
  },
  {
   "cell_type": "markdown",
   "metadata": {},
   "source": [
    "#### Зависимость цены от площади"
   ]
  },
  {
   "cell_type": "code",
   "execution_count": 71,
   "metadata": {},
   "outputs": [
    {
     "data": {
      "text/plain": [
       "<AxesSubplot:xlabel='total_area'>"
      ]
     },
     "execution_count": 71,
     "metadata": {},
     "output_type": "execute_result"
    },
    {
     "data": {
      "image/png": "[encoded data removed]",
      "text/plain": [
       "<Figure size 432x288 with 1 Axes>"
      ]
     },
     "metadata": {
      "needs_background": "light"
     },
     "output_type": "display_data"
    }
   ],
   "source": [
    "pivot_table_total_area = data.pivot_table(index = 'total_area', values = 'square_meter_price', aggfunc = ['mean', 'count', 'median'])\n",
    "pivot_table_total_area.columns = ['mean', 'count', 'median']\n",
    "pivot_table_total_area.plot(y = 'median', style = 'o')"
   ]
  },
  {
   "cell_type": "code",
   "execution_count": 72,
   "metadata": {},
   "outputs": [
    {
     "data": {
      "text/plain": [
       "0.3015751679098757"
      ]
     },
     "execution_count": 72,
     "metadata": {},
     "output_type": "execute_result"
    }
   ],
   "source": [
    "data['total_area'].corr(data['square_meter_price'])"
   ]
  },
  {
   "cell_type": "markdown",
   "metadata": {},
   "source": [
    "Как видно из расчетов коэффициента корреляции и графика, зависимость есть, но очень слабая"
   ]
  },
  {
   "cell_type": "markdown",
   "metadata": {},
   "source": [
    "#### Зависимость цены от количества комнат"
   ]
  },
  {
   "cell_type": "code",
   "execution_count": 73,
   "metadata": {},
   "outputs": [
    {
     "data": {
      "text/html": [
       "<div>\n",
       "<style scoped>\n",
       "    .dataframe tbody tr th:only-of-type {\n",
       "        vertical-align: middle;\n",
       "    }\n",
       "\n",
       "    .dataframe tbody tr th {\n",
       "        vertical-align: top;\n",
       "    }\n",
       "\n",
       "    .dataframe thead th {\n",
       "        text-align: right;\n",
       "    }\n",
       "</style>\n",
       "<table border=\"1\" class=\"dataframe\">\n",
       "  <thead>\n",
       "    <tr style=\"text-align: right;\">\n",
       "      <th></th>\n",
       "      <th>mean</th>\n",
       "      <th>count</th>\n",
       "      <th>median</th>\n",
       "    </tr>\n",
       "    <tr>\n",
       "      <th>rooms</th>\n",
       "      <th></th>\n",
       "      <th></th>\n",
       "      <th></th>\n",
       "    </tr>\n",
       "  </thead>\n",
       "  <tbody>\n",
       "    <tr>\n",
       "      <th>12</th>\n",
       "      <td>466666.670000</td>\n",
       "      <td>1</td>\n",
       "      <td>466666.670</td>\n",
       "    </tr>\n",
       "    <tr>\n",
       "      <th>11</th>\n",
       "      <td>132865.755000</td>\n",
       "      <td>2</td>\n",
       "      <td>132865.755</td>\n",
       "    </tr>\n",
       "    <tr>\n",
       "      <th>15</th>\n",
       "      <td>110169.490000</td>\n",
       "      <td>1</td>\n",
       "      <td>110169.490</td>\n",
       "    </tr>\n",
       "    <tr>\n",
       "      <th>7</th>\n",
       "      <td>163648.023051</td>\n",
       "      <td>59</td>\n",
       "      <td>108958.840</td>\n",
       "    </tr>\n",
       "    <tr>\n",
       "      <th>8</th>\n",
       "      <td>184704.825833</td>\n",
       "      <td>12</td>\n",
       "      <td>106836.695</td>\n",
       "    </tr>\n",
       "    <tr>\n",
       "      <th>16</th>\n",
       "      <td>105555.560000</td>\n",
       "      <td>1</td>\n",
       "      <td>105555.560</td>\n",
       "    </tr>\n",
       "    <tr>\n",
       "      <th>1</th>\n",
       "      <td>101484.096170</td>\n",
       "      <td>8047</td>\n",
       "      <td>100555.560</td>\n",
       "    </tr>\n",
       "    <tr>\n",
       "      <th>6</th>\n",
       "      <td>140845.964762</td>\n",
       "      <td>105</td>\n",
       "      <td>99750.000</td>\n",
       "    </tr>\n",
       "    <tr>\n",
       "      <th>5</th>\n",
       "      <td>126885.778098</td>\n",
       "      <td>326</td>\n",
       "      <td>96727.185</td>\n",
       "    </tr>\n",
       "    <tr>\n",
       "      <th>2</th>\n",
       "      <td>95893.051904</td>\n",
       "      <td>7940</td>\n",
       "      <td>93181.820</td>\n",
       "    </tr>\n",
       "    <tr>\n",
       "      <th>14</th>\n",
       "      <td>92923.015000</td>\n",
       "      <td>2</td>\n",
       "      <td>92923.015</td>\n",
       "    </tr>\n",
       "    <tr>\n",
       "      <th>4</th>\n",
       "      <td>110569.400729</td>\n",
       "      <td>1180</td>\n",
       "      <td>92893.215</td>\n",
       "    </tr>\n",
       "    <tr>\n",
       "      <th>9</th>\n",
       "      <td>105093.700000</td>\n",
       "      <td>8</td>\n",
       "      <td>92678.715</td>\n",
       "    </tr>\n",
       "    <tr>\n",
       "      <th>3</th>\n",
       "      <td>97435.504923</td>\n",
       "      <td>5814</td>\n",
       "      <td>89359.070</td>\n",
       "    </tr>\n",
       "    <tr>\n",
       "      <th>19</th>\n",
       "      <td>86229.950000</td>\n",
       "      <td>1</td>\n",
       "      <td>86229.950</td>\n",
       "    </tr>\n",
       "    <tr>\n",
       "      <th>10</th>\n",
       "      <td>98083.036667</td>\n",
       "      <td>3</td>\n",
       "      <td>84558.820</td>\n",
       "    </tr>\n",
       "  </tbody>\n",
       "</table>\n",
       "</div>"
      ],
      "text/plain": [
       "                mean  count      median\n",
       "rooms                                  \n",
       "12     466666.670000      1  466666.670\n",
       "11     132865.755000      2  132865.755\n",
       "15     110169.490000      1  110169.490\n",
       "7      163648.023051     59  108958.840\n",
       "8      184704.825833     12  106836.695\n",
       "16     105555.560000      1  105555.560\n",
       "1      101484.096170   8047  100555.560\n",
       "6      140845.964762    105   99750.000\n",
       "5      126885.778098    326   96727.185\n",
       "2       95893.051904   7940   93181.820\n",
       "14      92923.015000      2   92923.015\n",
       "4      110569.400729   1180   92893.215\n",
       "9      105093.700000      8   92678.715\n",
       "3       97435.504923   5814   89359.070\n",
       "19      86229.950000      1   86229.950\n",
       "10      98083.036667      3   84558.820"
      ]
     },
     "execution_count": 73,
     "metadata": {},
     "output_type": "execute_result"
    }
   ],
   "source": [
    "pivot_table_rooms = data.pivot_table(index = 'rooms', values = 'square_meter_price', aggfunc = ['mean', 'count', 'median'])\n",
    "pivot_table_rooms.columns = ['mean', 'count', 'median']\n",
    "pivot_table_rooms.sort_values(by='median', ascending=False)"
   ]
  },
  {
   "cell_type": "markdown",
   "metadata": {},
   "source": [
    "Выберем из таблицы только такие наблюдения, где count превышает 20, если число ниже, данные нельзя считать репрезентативными"
   ]
  },
  {
   "cell_type": "code",
   "execution_count": 74,
   "metadata": {},
   "outputs": [
    {
     "data": {
      "text/plain": [
       "<AxesSubplot:xlabel='rooms'>"
      ]
     },
     "execution_count": 74,
     "metadata": {},
     "output_type": "execute_result"
    },
    {
     "data": {
      "image/png": "[encoded data removed]",
      "text/plain": [
       "<Figure size 432x288 with 1 Axes>"
      ]
     },
     "metadata": {
      "needs_background": "light"
     },
     "output_type": "display_data"
    }
   ],
   "source": [
    "pivot_table_rooms.query('count>20').plot(y='median')"
   ]
  },
  {
   "cell_type": "markdown",
   "metadata": {},
   "source": [
    "Видим, что тут есть 2 части на графике: до 3 комнат и после 3 комнат, рассмотрим эти части отдельно:"
   ]
  },
  {
   "cell_type": "code",
   "execution_count": 75,
   "metadata": {},
   "outputs": [
    {
     "data": {
      "text/plain": [
       "-0.03932978249147098"
      ]
     },
     "execution_count": 75,
     "metadata": {},
     "output_type": "execute_result"
    }
   ],
   "source": [
    "first_3_rooms = pivot_table_rooms.query('rooms<=3')\n",
    "data.query('rooms<=3')['rooms'].corr(data['square_meter_price'])"
   ]
  },
  {
   "cell_type": "markdown",
   "metadata": {},
   "source": [
    "**Линейной** связи между количеством комнат (до 3) и стоимостью квадратного метра жилья нет"
   ]
  },
  {
   "cell_type": "code",
   "execution_count": 76,
   "metadata": {},
   "outputs": [
    {
     "data": {
      "text/plain": [
       "0.10897467453468142"
      ]
     },
     "execution_count": 76,
     "metadata": {},
     "output_type": "execute_result"
    }
   ],
   "source": [
    "more_then_3_rooms  = pivot_table_rooms.query('rooms > 3')\n",
    "data.query('rooms > 3')['rooms'].corr(data['square_meter_price'])"
   ]
  },
  {
   "cell_type": "markdown",
   "metadata": {},
   "source": [
    "Есть небольшая положительная зависимость между количеством комнат и стоимостью квадратного метра жилья"
   ]
  },
  {
   "cell_type": "markdown",
   "metadata": {},
   "source": [
    "<div class=\"alert alert-success\">\n",
    "<b class=\"alert-heading\"> Комментарий ревьюера V2: ОК</b>\n",
    "\n",
    "Верно.\n",
    "    \n",
    "</div>"
   ]
  },
  {
   "cell_type": "markdown",
   "metadata": {},
   "source": [
    "#### Зависимость цены от того, на каком этаже расположена квартира: первом, последнем или другом."
   ]
  },
  {
   "cell_type": "code",
   "execution_count": 77,
   "metadata": {},
   "outputs": [
    {
     "data": {
      "text/plain": [
       "<AxesSubplot:xlabel='floors_category'>"
      ]
     },
     "execution_count": 77,
     "metadata": {},
     "output_type": "execute_result"
    },
    {
     "data": {
      "image/png": "[encoded data removed]",
      "text/plain": [
       "<Figure size 432x288 with 1 Axes>"
      ]
     },
     "metadata": {
      "needs_background": "light"
     },
     "output_type": "display_data"
    }
   ],
   "source": [
    "floor_price_analysis = data.pivot_table(index = 'floors_category',values = 'square_meter_price', aggfunc = 'median')\n",
    "floor_price_analysis.columns = ['mean_price']\n",
    "floor_price_analysis.plot(kind='bar', rot=360)\n",
    "\n"
   ]
  },
  {
   "cell_type": "code",
   "execution_count": 78,
   "metadata": {},
   "outputs": [
    {
     "data": {
      "text/plain": [
       "<AxesSubplot:xlabel='floors_category'>"
      ]
     },
     "execution_count": 78,
     "metadata": {},
     "output_type": "execute_result"
    },
    {
     "data": {
      "image/png": "[encoded data removed]",
      "text/plain": [
       "<Figure size 432x288 with 1 Axes>"
      ]
     },
     "metadata": {
      "needs_background": "light"
     },
     "output_type": "display_data"
    }
   ],
   "source": [
    "floor_price_analysis = data.pivot_table(index = 'floors_category',values = 'square_meter_price', aggfunc = 'count')\n",
    "floor_price_analysis.columns = ['count']\n",
    "floor_price_analysis.plot(kind='bar', rot=360)\n"
   ]
  },
  {
   "cell_type": "markdown",
   "metadata": {},
   "source": [
    "Очевидно, что первых и полседних этажей продается меньше, цена на них тажке уступает \"другим\" этажам, но не столь значительно. \n",
    "Самым \"непопулярным\" является первый этаж"
   ]
  },
  {
   "cell_type": "markdown",
   "metadata": {},
   "source": [
    "#### Зависимость от удаленности от центра"
   ]
  },
  {
   "cell_type": "code",
   "execution_count": 79,
   "metadata": {},
   "outputs": [
    {
     "data": {
      "text/plain": [
       "<AxesSubplot:xlabel='cityCenters_nearest', ylabel='square_meter_price'>"
      ]
     },
     "execution_count": 79,
     "metadata": {},
     "output_type": "execute_result"
    },
    {
     "data": {
      "image/png": "[encoded data removed]",
      "text/plain": [
       "<Figure size 432x288 with 1 Axes>"
      ]
     },
     "metadata": {
      "needs_background": "light"
     },
     "output_type": "display_data"
    }
   ],
   "source": [
    "data.plot(kind = 'scatter', y = 'square_meter_price', x = 'cityCenters_nearest', alpha = 0.3)"
   ]
  },
  {
   "cell_type": "code",
   "execution_count": 80,
   "metadata": {},
   "outputs": [
    {
     "data": {
      "text/plain": [
       "-0.3172431097218262"
      ]
     },
     "execution_count": 80,
     "metadata": {},
     "output_type": "execute_result"
    }
   ],
   "source": [
    "\n",
    "data['cityCenters_nearest'].corr(data['square_meter_price'])"
   ]
  },
  {
   "cell_type": "markdown",
   "metadata": {},
   "source": [
    "Видна незначительная отрицательная корреляция: чем ближе к центру, тем цена квадратного метра выше"
   ]
  },
  {
   "cell_type": "markdown",
   "metadata": {},
   "source": [
    "#### Зависимость от даты размещения: дня недели, месяца и года."
   ]
  },
  {
   "cell_type": "markdown",
   "metadata": {},
   "source": [
    "**День недели**"
   ]
  },
  {
   "cell_type": "code",
   "execution_count": 81,
   "metadata": {},
   "outputs": [
    {
     "data": {
      "text/plain": [
       "<AxesSubplot:xlabel='weekday_exposition'>"
      ]
     },
     "execution_count": 81,
     "metadata": {},
     "output_type": "execute_result"
    },
    {
     "data": {
      "image/png": "[encoded data removed]",
      "text/plain": [
       "<Figure size 432x288 with 1 Axes>"
      ]
     },
     "metadata": {
      "needs_background": "light"
     },
     "output_type": "display_data"
    }
   ],
   "source": [
    "weekday_exposition = data.pivot_table(index='weekday_exposition', values='last_price', aggfunc='count')\n",
    "weekday_exposition.plot(kind='bar', rot=360)"
   ]
  },
  {
   "cell_type": "code",
   "execution_count": 82,
   "metadata": {},
   "outputs": [
    {
     "data": {
      "text/plain": [
       "<AxesSubplot:xlabel='weekday_exposition'>"
      ]
     },
     "execution_count": 82,
     "metadata": {},
     "output_type": "execute_result"
    },
    {
     "data": {
      "image/png": "[encoded data removed]",
      "text/plain": [
       "<Figure size 432x288 with 1 Axes>"
      ]
     },
     "metadata": {
      "needs_background": "light"
     },
     "output_type": "display_data"
    }
   ],
   "source": [
    "weekday_exposition = data.pivot_table(index='weekday_exposition', values='last_price', aggfunc='median')\n",
    "weekday_exposition.plot(kind='bar', rot=360, ylim=(4000000))"
   ]
  },
  {
   "cell_type": "markdown",
   "metadata": {},
   "source": [
    "В выходные дни наблюдается снижение количества продаж, это связано с приостнаовкой деловой активности,  \n",
    "Колебание цен менее выражено, самое дорогой день - втроник, лучше покупку на это время не планировать!"
   ]
  },
  {
   "cell_type": "markdown",
   "metadata": {},
   "source": [
    "**Месяц**"
   ]
  },
  {
   "cell_type": "code",
   "execution_count": 83,
   "metadata": {},
   "outputs": [
    {
     "data": {
      "text/plain": [
       "<AxesSubplot:xlabel='month_exposition'>"
      ]
     },
     "execution_count": 83,
     "metadata": {},
     "output_type": "execute_result"
    },
    {
     "data": {
      "image/png": "[encoded data removed]",
      "text/plain": [
       "<Figure size 432x288 with 1 Axes>"
      ]
     },
     "metadata": {
      "needs_background": "light"
     },
     "output_type": "display_data"
    }
   ],
   "source": [
    "month_exposition = data.pivot_table(index='month_exposition', values='last_price', aggfunc='median')\n",
    "month_exposition.plot(kind='bar', rot=360, ylim=(4000000))"
   ]
  },
  {
   "cell_type": "code",
   "execution_count": 84,
   "metadata": {},
   "outputs": [
    {
     "data": {
      "text/plain": [
       "<AxesSubplot:xlabel='month_exposition'>"
      ]
     },
     "execution_count": 84,
     "metadata": {},
     "output_type": "execute_result"
    },
    {
     "data": {
      "image/png": "[encoded data removed]",
      "text/plain": [
       "<Figure size 432x288 with 1 Axes>"
      ]
     },
     "metadata": {
      "needs_background": "light"
     },
     "output_type": "display_data"
    }
   ],
   "source": [
    "month_exposition = data.pivot_table(index='month_exposition', values='last_price', aggfunc='count')\n",
    "month_exposition.plot(kind='bar', rot=360, ylim=(1000))"
   ]
  },
  {
   "cell_type": "markdown",
   "metadata": {},
   "source": [
    "В мае-июне перед периодом отпусков и в декабре-январе количество продаж падает   \n",
    "\n",
    "Самая выоская цена в апреле, а самая низкая - в июне"
   ]
  },
  {
   "cell_type": "markdown",
   "metadata": {},
   "source": [
    "**Год**"
   ]
  },
  {
   "cell_type": "code",
   "execution_count": 85,
   "metadata": {},
   "outputs": [
    {
     "data": {
      "text/plain": [
       "<AxesSubplot:xlabel='year_expostition'>"
      ]
     },
     "execution_count": 85,
     "metadata": {},
     "output_type": "execute_result"
    },
    {
     "data": {
      "image/png": "[encoded data removed]",
      "text/plain": [
       "<Figure size 432x288 with 1 Axes>"
      ]
     },
     "metadata": {
      "needs_background": "light"
     },
     "output_type": "display_data"
    }
   ],
   "source": [
    "year_exposition = data.pivot_table(index='year_expostition', values='last_price', aggfunc='median')\n",
    "year_exposition.plot(kind='line')"
   ]
  },
  {
   "cell_type": "code",
   "execution_count": 86,
   "metadata": {},
   "outputs": [
    {
     "data": {
      "text/plain": [
       "<AxesSubplot:xlabel='year_expostition'>"
      ]
     },
     "execution_count": 86,
     "metadata": {},
     "output_type": "execute_result"
    },
    {
     "data": {
      "image/png": "[encoded data removed]",
      "text/plain": [
       "<Figure size 432x288 with 1 Axes>"
      ]
     },
     "metadata": {
      "needs_background": "light"
     },
     "output_type": "display_data"
    }
   ],
   "source": [
    "year_exposition = data.pivot_table(index='year_expostition', values='last_price', aggfunc='count')\n",
    "year_exposition.plot(kind='line')"
   ]
  },
  {
   "cell_type": "markdown",
   "metadata": {},
   "source": [
    "Наблюдаем классическую картину: чем ниже  цена, тем выше продажи и наоборот. \n",
    "Самый выссокий спрос был в 17-18 годах, когда цена была минимальна  \n",
    "Данные 2019 года могут быть не полными, необходимо проверить"
   ]
  },
  {
   "cell_type": "markdown",
   "metadata": {},
   "source": [
    "Выберите 10 населённых пунктов с наибольшим числом объявлений. Посчитайте среднюю цену квадратного метра в этих населённых пунктах. Выделите населённые пункты с самой высокой и низкой стоимостью жилья. Эти данные можно найти по имени в столбце locality_name."
   ]
  },
  {
   "cell_type": "code",
   "execution_count": 87,
   "metadata": {},
   "outputs": [],
   "source": [
    "top_ten = data.pivot_table(index='locality_name', values='square_meter_price', aggfunc=['count','mean'])\n",
    "top_ten.columns = ['count', 'mean']\n",
    "top_ten = top_ten.sort_values(by='count', ascending=False).head(10)"
   ]
  },
  {
   "cell_type": "markdown",
   "metadata": {},
   "source": [
    "Средняя цена квардатного метра:"
   ]
  },
  {
   "cell_type": "code",
   "execution_count": 88,
   "metadata": {},
   "outputs": [
    {
     "data": {
      "text/plain": [
       "83897.91"
      ]
     },
     "execution_count": 88,
     "metadata": {},
     "output_type": "execute_result"
    }
   ],
   "source": [
    "top_ten['mean'].mean().round(2)"
   ]
  },
  {
   "cell_type": "code",
   "execution_count": 89,
   "metadata": {},
   "outputs": [
    {
     "data": {
      "text/plain": [
       "count        10.000000\n",
       "mean      83897.911752\n",
       "std       17309.377032\n",
       "min       58296.119536\n",
       "25%       70718.036664\n",
       "50%       82218.819275\n",
       "75%       92324.706932\n",
       "max      115284.355115\n",
       "Name: mean, dtype: float64"
      ]
     },
     "execution_count": 89,
     "metadata": {},
     "output_type": "execute_result"
    }
   ],
   "source": [
    "top_ten['mean'].describe()"
   ]
  },
  {
   "cell_type": "markdown",
   "metadata": {},
   "source": [
    "Населенные пункты с максимальной стоимостью жилья:\n"
   ]
  },
  {
   "cell_type": "code",
   "execution_count": 90,
   "metadata": {},
   "outputs": [
    {
     "data": {
      "text/html": [
       "<div>\n",
       "<style scoped>\n",
       "    .dataframe tbody tr th:only-of-type {\n",
       "        vertical-align: middle;\n",
       "    }\n",
       "\n",
       "    .dataframe tbody tr th {\n",
       "        vertical-align: top;\n",
       "    }\n",
       "\n",
       "    .dataframe thead th {\n",
       "        text-align: right;\n",
       "    }\n",
       "</style>\n",
       "<table border=\"1\" class=\"dataframe\">\n",
       "  <thead>\n",
       "    <tr style=\"text-align: right;\">\n",
       "      <th></th>\n",
       "      <th>count</th>\n",
       "      <th>mean</th>\n",
       "    </tr>\n",
       "    <tr>\n",
       "      <th>locality_name</th>\n",
       "      <th></th>\n",
       "      <th></th>\n",
       "    </tr>\n",
       "  </thead>\n",
       "  <tbody>\n",
       "    <tr>\n",
       "      <th>Санкт-Петербург</th>\n",
       "      <td>15611</td>\n",
       "      <td>115284.355115</td>\n",
       "    </tr>\n",
       "    <tr>\n",
       "      <th>Пушкин</th>\n",
       "      <td>369</td>\n",
       "      <td>103611.362954</td>\n",
       "    </tr>\n",
       "    <tr>\n",
       "      <th>деревня Кудрово</th>\n",
       "      <td>283</td>\n",
       "      <td>92835.573463</td>\n",
       "    </tr>\n",
       "  </tbody>\n",
       "</table>\n",
       "</div>"
      ],
      "text/plain": [
       "                 count           mean\n",
       "locality_name                        \n",
       "Санкт-Петербург  15611  115284.355115\n",
       "Пушкин             369  103611.362954\n",
       "деревня Кудрово    283   92835.573463"
      ]
     },
     "execution_count": 90,
     "metadata": {},
     "output_type": "execute_result"
    }
   ],
   "source": [
    "top_loc = top_ten[top_ten['mean'] > top_ten['mean'].describe()['75%']]\n",
    "top_loc"
   ]
  },
  {
   "cell_type": "markdown",
   "metadata": {},
   "source": [
    "Населенные пункты с минимальной стоимостью жилья:"
   ]
  },
  {
   "cell_type": "code",
   "execution_count": 91,
   "metadata": {},
   "outputs": [
    {
     "data": {
      "text/html": [
       "<div>\n",
       "<style scoped>\n",
       "    .dataframe tbody tr th:only-of-type {\n",
       "        vertical-align: middle;\n",
       "    }\n",
       "\n",
       "    .dataframe tbody tr th {\n",
       "        vertical-align: top;\n",
       "    }\n",
       "\n",
       "    .dataframe thead th {\n",
       "        text-align: right;\n",
       "    }\n",
       "</style>\n",
       "<table border=\"1\" class=\"dataframe\">\n",
       "  <thead>\n",
       "    <tr style=\"text-align: right;\">\n",
       "      <th></th>\n",
       "      <th>count</th>\n",
       "      <th>mean</th>\n",
       "    </tr>\n",
       "    <tr>\n",
       "      <th>locality_name</th>\n",
       "      <th></th>\n",
       "      <th></th>\n",
       "    </tr>\n",
       "  </thead>\n",
       "  <tbody>\n",
       "    <tr>\n",
       "      <th>Всеволожск</th>\n",
       "      <td>392</td>\n",
       "      <td>68940.851760</td>\n",
       "    </tr>\n",
       "    <tr>\n",
       "      <th>Гатчина</th>\n",
       "      <td>307</td>\n",
       "      <td>69045.518925</td>\n",
       "    </tr>\n",
       "    <tr>\n",
       "      <th>Выборг</th>\n",
       "      <td>237</td>\n",
       "      <td>58296.119536</td>\n",
       "    </tr>\n",
       "  </tbody>\n",
       "</table>\n",
       "</div>"
      ],
      "text/plain": [
       "               count          mean\n",
       "locality_name                     \n",
       "Всеволожск       392  68940.851760\n",
       "Гатчина          307  69045.518925\n",
       "Выборг           237  58296.119536"
      ]
     },
     "execution_count": 91,
     "metadata": {},
     "output_type": "execute_result"
    }
   ],
   "source": [
    "bottom_loc = top_ten[top_ten['mean'] < top_ten['mean'].describe()['25%']]\n",
    "bottom_loc"
   ]
  },
  {
   "cell_type": "markdown",
   "metadata": {},
   "source": [
    "Самая высокая стоимость жилья в Санкт-Петербурге, Пушкине и Кудрово, а самая низкая во Всеволжске, Гатчине, Выборге"
   ]
  },
  {
   "cell_type": "markdown",
   "metadata": {},
   "source": [
    "<div class=\"alert alert-success\">\n",
    "<b class=\"alert-heading\"> Комментарий ревьюера: ОК</b>\n",
    "\n",
    "Верно!\n",
    "\n",
    "</div>"
   ]
  },
  {
   "cell_type": "markdown",
   "metadata": {},
   "source": [
    "Изучите предложения квартир: для каждой квартиры есть информация о расстоянии до центра. Выделите квартиры в Санкт-Петербурге (locality_name). Ваша задача — выяснить, какая область входит в центр. Создайте столбец с расстоянием до центра в километрах: округлите до целых значений. После этого посчитайте среднюю цену для каждого километра. Постройте график: он должен показывать, как цена зависит от удалённости от центра. Определите границу, где график сильно меняется, — это и будет центральная зона."
   ]
  },
  {
   "cell_type": "code",
   "execution_count": 92,
   "metadata": {},
   "outputs": [],
   "source": [
    "data['from_center_km'] = data['cityCenters_nearest']/1000\n"
   ]
  },
  {
   "cell_type": "markdown",
   "metadata": {},
   "source": [
    "Чтобы можно было проводить расчеты над столбцом, заполним пропуски числом 999999, изменим тип данных на int"
   ]
  },
  {
   "cell_type": "code",
   "execution_count": 93,
   "metadata": {},
   "outputs": [],
   "source": [
    "data['from_center_km'] = data['from_center_km'].fillna(999999)\n",
    "data['from_center_km'] = data['from_center_km'].astype('int')"
   ]
  },
  {
   "cell_type": "code",
   "execution_count": 94,
   "metadata": {},
   "outputs": [
    {
     "data": {
      "text/plain": [
       "999999    5440\n",
       "12        1503\n",
       "14        1497\n",
       "11        1408\n",
       "13        1388\n",
       "          ... \n",
       "38           1\n",
       "43           1\n",
       "61           1\n",
       "64           1\n",
       "45           1\n",
       "Name: from_center_km, Length: 62, dtype: int64"
      ]
     },
     "execution_count": 94,
     "metadata": {},
     "output_type": "execute_result"
    }
   ],
   "source": [
    "data['from_center_km'].value_counts()"
   ]
  },
  {
   "cell_type": "code",
   "execution_count": 95,
   "metadata": {},
   "outputs": [
    {
     "data": {
      "text/plain": [
       "<AxesSubplot:xlabel='from_center_km'>"
      ]
     },
     "execution_count": 95,
     "metadata": {},
     "output_type": "execute_result"
    },
    {
     "data": {
      "image/png": "[encoded data removed]",
      "text/plain": [
       "<Figure size 432x288 with 1 Axes>"
      ]
     },
     "metadata": {
      "needs_background": "light"
     },
     "output_type": "display_data"
    }
   ],
   "source": [
    "pivot_from_center = data.query('locality_name == \"Санкт-Петербург\" and from_center_km !=999999').pivot_table(index = 'from_center_km', values = 'square_meter_price', aggfunc = 'mean')\n",
    "pivot_from_center.plot()"
   ]
  },
  {
   "cell_type": "markdown",
   "metadata": {},
   "source": [
    "Из графика следует, что начиная с 6 км стоимость метра в четре города падает  \n",
    "Это и будет границей центра"
   ]
  },
  {
   "cell_type": "markdown",
   "metadata": {},
   "source": [
    "<div class=\"alert alert-success\">\n",
    "<b class=\"alert-heading\"> Комментарий ревьюера: ОК</b>\n",
    "\n",
    "Граница центра определена верно.\n",
    "\n",
    "</div>"
   ]
  },
  {
   "cell_type": "markdown",
   "metadata": {},
   "source": [
    "Выделите сегмент квартир в центре. Проанализируйте эту территорию и изучите следующие параметры: площадь, цена, число комнат, высота потолков. Также выделите факторы, которые влияют на стоимость квартиры (число комнат, этаж, удалённость от центра, дата размещения объявления). Сделайте выводы. Отличаются ли они от общих выводов по всей базе?"
   ]
  },
  {
   "cell_type": "code",
   "execution_count": 96,
   "metadata": {},
   "outputs": [],
   "source": [
    "center_region = data.query('from_center_km <= 6 and locality_name == \"Санкт-Петербург\"')"
   ]
  },
  {
   "cell_type": "markdown",
   "metadata": {},
   "source": [
    "**Количество комнат**"
   ]
  },
  {
   "cell_type": "code",
   "execution_count": 97,
   "metadata": {
    "scrolled": true
   },
   "outputs": [
    {
     "data": {
      "text/html": [
       "<div>\n",
       "<style scoped>\n",
       "    .dataframe tbody tr th:only-of-type {\n",
       "        vertical-align: middle;\n",
       "    }\n",
       "\n",
       "    .dataframe tbody tr th {\n",
       "        vertical-align: top;\n",
       "    }\n",
       "\n",
       "    .dataframe thead th {\n",
       "        text-align: right;\n",
       "    }\n",
       "</style>\n",
       "<table border=\"1\" class=\"dataframe\">\n",
       "  <thead>\n",
       "    <tr style=\"text-align: right;\">\n",
       "      <th></th>\n",
       "      <th>mean</th>\n",
       "      <th>count</th>\n",
       "      <th>median</th>\n",
       "    </tr>\n",
       "    <tr>\n",
       "      <th>rooms</th>\n",
       "      <th></th>\n",
       "      <th></th>\n",
       "      <th></th>\n",
       "    </tr>\n",
       "  </thead>\n",
       "  <tbody>\n",
       "    <tr>\n",
       "      <th>1</th>\n",
       "      <td>155721.751195</td>\n",
       "      <td>477</td>\n",
       "      <td>144166.670</td>\n",
       "    </tr>\n",
       "    <tr>\n",
       "      <th>11</th>\n",
       "      <td>132865.755000</td>\n",
       "      <td>2</td>\n",
       "      <td>132865.755</td>\n",
       "    </tr>\n",
       "    <tr>\n",
       "      <th>2</th>\n",
       "      <td>143086.481424</td>\n",
       "      <td>962</td>\n",
       "      <td>127093.760</td>\n",
       "    </tr>\n",
       "    <tr>\n",
       "      <th>3</th>\n",
       "      <td>143492.992148</td>\n",
       "      <td>1015</td>\n",
       "      <td>117647.060</td>\n",
       "    </tr>\n",
       "    <tr>\n",
       "      <th>14</th>\n",
       "      <td>116975.510000</td>\n",
       "      <td>1</td>\n",
       "      <td>116975.510</td>\n",
       "    </tr>\n",
       "    <tr>\n",
       "      <th>15</th>\n",
       "      <td>110169.490000</td>\n",
       "      <td>1</td>\n",
       "      <td>110169.490</td>\n",
       "    </tr>\n",
       "    <tr>\n",
       "      <th>7</th>\n",
       "      <td>167301.055370</td>\n",
       "      <td>54</td>\n",
       "      <td>110061.945</td>\n",
       "    </tr>\n",
       "    <tr>\n",
       "      <th>4</th>\n",
       "      <td>138090.126824</td>\n",
       "      <td>466</td>\n",
       "      <td>108429.495</td>\n",
       "    </tr>\n",
       "    <tr>\n",
       "      <th>16</th>\n",
       "      <td>105555.560000</td>\n",
       "      <td>1</td>\n",
       "      <td>105555.560</td>\n",
       "    </tr>\n",
       "    <tr>\n",
       "      <th>10</th>\n",
       "      <td>104845.145000</td>\n",
       "      <td>2</td>\n",
       "      <td>104845.145</td>\n",
       "    </tr>\n",
       "    <tr>\n",
       "      <th>5</th>\n",
       "      <td>145158.459112</td>\n",
       "      <td>214</td>\n",
       "      <td>104356.060</td>\n",
       "    </tr>\n",
       "    <tr>\n",
       "      <th>6</th>\n",
       "      <td>153815.171235</td>\n",
       "      <td>81</td>\n",
       "      <td>103535.350</td>\n",
       "    </tr>\n",
       "    <tr>\n",
       "      <th>8</th>\n",
       "      <td>192781.222000</td>\n",
       "      <td>10</td>\n",
       "      <td>101047.615</td>\n",
       "    </tr>\n",
       "    <tr>\n",
       "      <th>9</th>\n",
       "      <td>130551.833333</td>\n",
       "      <td>3</td>\n",
       "      <td>99315.070</td>\n",
       "    </tr>\n",
       "    <tr>\n",
       "      <th>19</th>\n",
       "      <td>86229.950000</td>\n",
       "      <td>1</td>\n",
       "      <td>86229.950</td>\n",
       "    </tr>\n",
       "  </tbody>\n",
       "</table>\n",
       "</div>"
      ],
      "text/plain": [
       "                mean  count      median\n",
       "rooms                                  \n",
       "1      155721.751195    477  144166.670\n",
       "11     132865.755000      2  132865.755\n",
       "2      143086.481424    962  127093.760\n",
       "3      143492.992148   1015  117647.060\n",
       "14     116975.510000      1  116975.510\n",
       "15     110169.490000      1  110169.490\n",
       "7      167301.055370     54  110061.945\n",
       "4      138090.126824    466  108429.495\n",
       "16     105555.560000      1  105555.560\n",
       "10     104845.145000      2  104845.145\n",
       "5      145158.459112    214  104356.060\n",
       "6      153815.171235     81  103535.350\n",
       "8      192781.222000     10  101047.615\n",
       "9      130551.833333      3   99315.070\n",
       "19      86229.950000      1   86229.950"
      ]
     },
     "execution_count": 97,
     "metadata": {},
     "output_type": "execute_result"
    }
   ],
   "source": [
    "pivot_table_rooms = center_region.pivot_table(index = 'rooms', values = 'square_meter_price', aggfunc = ['mean', 'count', 'median'])\n",
    "pivot_table_rooms.columns = ['mean', 'count', 'median']\n",
    "pivot_table_rooms.sort_values(by='median', ascending=False)"
   ]
  },
  {
   "cell_type": "code",
   "execution_count": 98,
   "metadata": {},
   "outputs": [
    {
     "data": {
      "text/plain": [
       "<AxesSubplot:xlabel='rooms'>"
      ]
     },
     "execution_count": 98,
     "metadata": {},
     "output_type": "execute_result"
    },
    {
     "data": {
      "image/png": "[encoded data removed]",
      "text/plain": [
       "<Figure size 432x288 with 1 Axes>"
      ]
     },
     "metadata": {
      "needs_background": "light"
     },
     "output_type": "display_data"
    }
   ],
   "source": [
    "pivot_table_rooms.query('count>20').plot(y='median')"
   ]
  },
  {
   "cell_type": "code",
   "execution_count": 99,
   "metadata": {},
   "outputs": [
    {
     "data": {
      "text/plain": [
       "-0.011737231057825"
      ]
     },
     "execution_count": 99,
     "metadata": {},
     "output_type": "execute_result"
    }
   ],
   "source": [
    "center_region['rooms'].corr(center_region['square_meter_price'])"
   ]
  },
  {
   "cell_type": "markdown",
   "metadata": {},
   "source": [
    "Судя по коэффициенту корреляции, **линейной** связи между стоимостью квадратного метра и количеством комнат в центре нет"
   ]
  },
  {
   "cell_type": "markdown",
   "metadata": {},
   "source": [
    "Судя по графику связь между количеством комнат и ценой есть, но не линейная. Возможно следует разделить данные на 2 группы и проверить корреляцию внутри каждой из них: \n",
    "Как видно из графика при увеличении количества комнат от 1 до 6 цена квадратного метра падает, после 6 - растет\n",
    "Разделим данные на 2 группы: (до 6 комнат и более 6 комнат)"
   ]
  },
  {
   "cell_type": "code",
   "execution_count": 100,
   "metadata": {},
   "outputs": [
    {
     "data": {
      "text/plain": [
       "-0.9741641976411293"
      ]
     },
     "execution_count": 100,
     "metadata": {},
     "output_type": "execute_result"
    }
   ],
   "source": [
    "rooms_less_then_6 = pd.Series([0,1,2,3,4,5])\n",
    "rooms_less_then_6.corr(pivot_table_rooms.query('rooms<6')['median'])"
   ]
  },
  {
   "cell_type": "code",
   "execution_count": 101,
   "metadata": {},
   "outputs": [
    {
     "data": {
      "text/plain": [
       "0.5553745766293732"
      ]
     },
     "execution_count": 101,
     "metadata": {},
     "output_type": "execute_result"
    }
   ],
   "source": [
    "rooms_less_more_then_5 = pd.Series([6,7,8,9,10,11,12,13,14,15,16,17])\n",
    "rooms_less_more_then_5.corr(pivot_table_rooms.query('rooms>5 and rooms<18')['median'])"
   ]
  },
  {
   "cell_type": "markdown",
   "metadata": {},
   "source": [
    "Таким образом видим, что корреляция между количеством комнат и медианной ценой метра есть, до 6 комнат она очень сильная отрицательная, после 6 - умеренная положительная"
   ]
  },
  {
   "cell_type": "markdown",
   "metadata": {},
   "source": [
    "**Этаж**"
   ]
  },
  {
   "cell_type": "code",
   "execution_count": 102,
   "metadata": {},
   "outputs": [
    {
     "data": {
      "text/plain": [
       "<AxesSubplot:xlabel='floors_category'>"
      ]
     },
     "execution_count": 102,
     "metadata": {},
     "output_type": "execute_result"
    },
    {
     "data": {
      "image/png": "[encoded data removed]",
      "text/plain": [
       "<Figure size 432x288 with 1 Axes>"
      ]
     },
     "metadata": {
      "needs_background": "light"
     },
     "output_type": "display_data"
    }
   ],
   "source": [
    "floor_price_analysis = center_region.pivot_table(index = 'floors_category',values = 'square_meter_price', aggfunc = 'median')\n",
    "floor_price_analysis.columns = ['mean_price']\n",
    "floor_price_analysis.plot(kind='bar', rot=360)"
   ]
  },
  {
   "cell_type": "code",
   "execution_count": 103,
   "metadata": {},
   "outputs": [
    {
     "data": {
      "text/plain": [
       "<AxesSubplot:xlabel='floors_category'>"
      ]
     },
     "execution_count": 103,
     "metadata": {},
     "output_type": "execute_result"
    },
    {
     "data": {
      "image/png": "[encoded data removed]",
      "text/plain": [
       "<Figure size 432x288 with 1 Axes>"
      ]
     },
     "metadata": {
      "needs_background": "light"
     },
     "output_type": "display_data"
    }
   ],
   "source": [
    "floor_price_analysis = data.pivot_table(index = 'floors_category',values = 'square_meter_price', aggfunc = 'median')\n",
    "floor_price_analysis.columns = ['mean_price']\n",
    "floor_price_analysis.plot(kind='bar', rot=360)"
   ]
  },
  {
   "cell_type": "markdown",
   "metadata": {},
   "source": [
    "Графики практически идентичны, в центре тоже предпочитают \"средние этажи\""
   ]
  },
  {
   "cell_type": "markdown",
   "metadata": {},
   "source": [
    "**Удаленность от центра**"
   ]
  },
  {
   "cell_type": "code",
   "execution_count": 104,
   "metadata": {},
   "outputs": [
    {
     "data": {
      "text/plain": [
       "<AxesSubplot:xlabel='cityCenters_nearest', ylabel='square_meter_price'>"
      ]
     },
     "execution_count": 104,
     "metadata": {},
     "output_type": "execute_result"
    },
    {
     "data": {
      "image/png": "[encoded data removed]",
      "text/plain": [
       "<Figure size 432x288 with 1 Axes>"
      ]
     },
     "metadata": {
      "needs_background": "light"
     },
     "output_type": "display_data"
    }
   ],
   "source": [
    "center_region.plot(kind = 'scatter', y = 'square_meter_price', x = 'cityCenters_nearest', alpha = 0.3)"
   ]
  },
  {
   "cell_type": "markdown",
   "metadata": {},
   "source": [
    "Мы и так в центре города, никакой дифференциации внтури центра по близости к \"самому центру\" не выявлено\n",
    "В выборке все по-другому, чем ближе к центру, тем дороже"
   ]
  },
  {
   "cell_type": "markdown",
   "metadata": {},
   "source": [
    "**День недели**"
   ]
  },
  {
   "cell_type": "code",
   "execution_count": 105,
   "metadata": {},
   "outputs": [
    {
     "data": {
      "text/plain": [
       "<AxesSubplot:xlabel='weekday_exposition'>"
      ]
     },
     "execution_count": 105,
     "metadata": {},
     "output_type": "execute_result"
    },
    {
     "data": {
      "image/png": "[encoded data removed]",
      "text/plain": [
       "<Figure size 432x288 with 1 Axes>"
      ]
     },
     "metadata": {
      "needs_background": "light"
     },
     "output_type": "display_data"
    }
   ],
   "source": [
    "weekday_exposition_center = center_region.pivot_table(index='weekday_exposition', values='last_price', aggfunc='median')\n",
    "weekday_exposition_center.plot(kind='bar', rot=360, ylim=(7000000))"
   ]
  },
  {
   "cell_type": "code",
   "execution_count": 106,
   "metadata": {},
   "outputs": [
    {
     "data": {
      "text/plain": [
       "<AxesSubplot:xlabel='weekday_exposition'>"
      ]
     },
     "execution_count": 106,
     "metadata": {},
     "output_type": "execute_result"
    },
    {
     "data": {
      "image/png": "[encoded data removed]",
      "text/plain": [
       "<Figure size 432x288 with 1 Axes>"
      ]
     },
     "metadata": {
      "needs_background": "light"
     },
     "output_type": "display_data"
    }
   ],
   "source": [
    "weekday_exposition = data.pivot_table(index='weekday_exposition', values='last_price', aggfunc='median')\n",
    "weekday_exposition.plot(kind='bar', rot=360, ylim=(4000000))"
   ]
  },
  {
   "cell_type": "markdown",
   "metadata": {},
   "source": [
    "В отличие от общей выборки, самые высокие цены в понедельник и воскресение"
   ]
  },
  {
   "cell_type": "markdown",
   "metadata": {},
   "source": [
    "**Месяц**"
   ]
  },
  {
   "cell_type": "code",
   "execution_count": 107,
   "metadata": {},
   "outputs": [
    {
     "data": {
      "text/plain": [
       "<AxesSubplot:xlabel='month_exposition'>"
      ]
     },
     "execution_count": 107,
     "metadata": {},
     "output_type": "execute_result"
    },
    {
     "data": {
      "image/png": "[encoded data removed]",
      "text/plain": [
       "<Figure size 432x288 with 1 Axes>"
      ]
     },
     "metadata": {
      "needs_background": "light"
     },
     "output_type": "display_data"
    }
   ],
   "source": [
    "month_exposition_center = center_region.pivot_table(index='month_exposition', values='last_price', aggfunc='median')\n",
    "month_exposition_center.plot(kind='bar', rot=360, ylim=(4000000))"
   ]
  },
  {
   "cell_type": "code",
   "execution_count": 108,
   "metadata": {},
   "outputs": [
    {
     "data": {
      "text/plain": [
       "<AxesSubplot:xlabel='month_exposition'>"
      ]
     },
     "execution_count": 108,
     "metadata": {},
     "output_type": "execute_result"
    },
    {
     "data": {
      "image/png": "[encoded data removed]",
      "text/plain": [
       "<Figure size 432x288 with 1 Axes>"
      ]
     },
     "metadata": {
      "needs_background": "light"
     },
     "output_type": "display_data"
    }
   ],
   "source": [
    "month_exposition = data.pivot_table(index='month_exposition', values='last_price', aggfunc='median')\n",
    "month_exposition.plot(kind='bar', rot=360, ylim=(4000000))"
   ]
  },
  {
   "cell_type": "markdown",
   "metadata": {},
   "source": [
    "В центре самая высокая цена метра в январе и сентябре, а не в апреле!"
   ]
  },
  {
   "cell_type": "code",
   "execution_count": 109,
   "metadata": {},
   "outputs": [
    {
     "data": {
      "text/html": [
       "<div>\n",
       "<style scoped>\n",
       "    .dataframe tbody tr th:only-of-type {\n",
       "        vertical-align: middle;\n",
       "    }\n",
       "\n",
       "    .dataframe tbody tr th {\n",
       "        vertical-align: top;\n",
       "    }\n",
       "\n",
       "    .dataframe thead th {\n",
       "        text-align: right;\n",
       "    }\n",
       "</style>\n",
       "<table border=\"1\" class=\"dataframe\">\n",
       "  <thead>\n",
       "    <tr style=\"text-align: right;\">\n",
       "      <th></th>\n",
       "      <th>median</th>\n",
       "      <th>count</th>\n",
       "    </tr>\n",
       "    <tr>\n",
       "      <th>year_expostition</th>\n",
       "      <th></th>\n",
       "      <th></th>\n",
       "    </tr>\n",
       "  </thead>\n",
       "  <tbody>\n",
       "    <tr>\n",
       "      <th>2014</th>\n",
       "      <td>144673.68</td>\n",
       "      <td>27</td>\n",
       "    </tr>\n",
       "    <tr>\n",
       "      <th>2019</th>\n",
       "      <td>137115.01</td>\n",
       "      <td>356</td>\n",
       "    </tr>\n",
       "    <tr>\n",
       "      <th>2018</th>\n",
       "      <td>124837.50</td>\n",
       "      <td>984</td>\n",
       "    </tr>\n",
       "    <tr>\n",
       "      <th>2017</th>\n",
       "      <td>121698.11</td>\n",
       "      <td>1171</td>\n",
       "    </tr>\n",
       "    <tr>\n",
       "      <th>2015</th>\n",
       "      <td>120370.37</td>\n",
       "      <td>297</td>\n",
       "    </tr>\n",
       "    <tr>\n",
       "      <th>2016</th>\n",
       "      <td>116975.51</td>\n",
       "      <td>455</td>\n",
       "    </tr>\n",
       "  </tbody>\n",
       "</table>\n",
       "</div>"
      ],
      "text/plain": [
       "                     median  count\n",
       "year_expostition                  \n",
       "2014              144673.68     27\n",
       "2019              137115.01    356\n",
       "2018              124837.50    984\n",
       "2017              121698.11   1171\n",
       "2015              120370.37    297\n",
       "2016              116975.51    455"
      ]
     },
     "execution_count": 109,
     "metadata": {},
     "output_type": "execute_result"
    },
    {
     "data": {
      "image/png": "[encoded data removed]",
      "text/plain": [
       "<Figure size 432x288 with 1 Axes>"
      ]
     },
     "metadata": {
      "needs_background": "light"
     },
     "output_type": "display_data"
    }
   ],
   "source": [
    "year_exposition_center = center_region.pivot_table(index='year_expostition', values='square_meter_price', aggfunc=['median', 'count'])\n",
    "year_exposition_center.columns = ['median', 'count']\n",
    "year_exposition_center.query('count > 20').plot(y = 'median')\n",
    "\n",
    "year_exposition_center.query('count > 20').sort_values('median', ascending = False)"
   ]
  },
  {
   "cell_type": "code",
   "execution_count": 110,
   "metadata": {},
   "outputs": [
    {
     "data": {
      "text/plain": [
       "<AxesSubplot:xlabel='year_expostition'>"
      ]
     },
     "execution_count": 110,
     "metadata": {},
     "output_type": "execute_result"
    },
    {
     "data": {
      "image/png": "[encoded data removed]",
      "text/plain": [
       "<Figure size 432x288 with 1 Axes>"
      ]
     },
     "metadata": {
      "needs_background": "light"
     },
     "output_type": "display_data"
    }
   ],
   "source": [
    "year_exposition = data.pivot_table(index='year_expostition', values='square_meter_price', aggfunc='median')\n",
    "year_exposition.plot(kind='line')"
   ]
  },
  {
   "cell_type": "markdown",
   "metadata": {},
   "source": [
    "Данные в центре и по общей выборке очень похожи"
   ]
  },
  {
   "cell_type": "markdown",
   "metadata": {},
   "source": [
    "## Общий вывод"
   ]
  },
  {
   "cell_type": "markdown",
   "metadata": {},
   "source": [
    "Проведена большая работа по анализу данных Яндекс Недвижимости в Санкт-Петербурге  \n",
    "Проведена преодобработка данных, удалены объявления, которые автоматически снимались по истечение 7, 30, 45, 60, 90 дней и не свидетельстовали о продаже квартиры.\n",
    "\n",
    "**Выявлены следующие закономерности**:\n",
    "1) Обнаружена положительная корреляция между площадью квартиры, близостью к центру, количеством комнат и стоимостью квадратного метра жилья  \n",
    "2) Покупатели предпочитают \"средние этажи\", самы непопулярный этаж - первый  \n",
    "3) Чем ближе к центру, тем дороже квадратный метр.   \n",
    "4) В самом центре квартиры дороже  \n",
    "5) Квартиры, которые размещены в будни, дороче, чем те, что размечены в выходные. Но это правило не распространяется на самый центр города  \n",
    "6) Квартиры, размещенные в апреле - самые дорогие  \n",
    "7) Самые дорогие квартиры - в  2014 году, период 2015-2018 - относительно низкие цены (и в центре и на окраиназ) В 18-19 годах наблюдался рост цен  \n"
   ]
  }
 ],
 "metadata": {
  "ExecuteTimeLog": [
   {
    "duration": 740,
    "start_time": "2022-03-13T08:47:34.442Z"
   },
   {
    "duration": 61,
    "start_time": "2022-03-13T08:47:53.541Z"
   },
   {
    "duration": 84,
    "start_time": "2022-03-13T08:48:15.088Z"
   },
   {
    "duration": 135,
    "start_time": "2022-03-13T08:48:26.537Z"
   },
   {
    "duration": 63,
    "start_time": "2022-03-13T08:51:56.471Z"
   },
   {
    "duration": 12,
    "start_time": "2022-03-13T08:52:48.800Z"
   },
   {
    "duration": 265,
    "start_time": "2022-03-13T08:52:52.386Z"
   },
   {
    "duration": 75,
    "start_time": "2022-03-13T08:53:03.667Z"
   },
   {
    "duration": 9,
    "start_time": "2022-03-13T08:53:06.396Z"
   },
   {
    "duration": 236,
    "start_time": "2022-03-13T09:42:52.699Z"
   },
   {
    "duration": 243,
    "start_time": "2022-03-13T09:42:56.353Z"
   },
   {
    "duration": 6,
    "start_time": "2022-03-13T09:44:33.845Z"
   },
   {
    "duration": 6,
    "start_time": "2022-03-13T09:45:08.092Z"
   },
   {
    "duration": 262,
    "start_time": "2022-03-13T09:52:14.439Z"
   },
   {
    "duration": 85,
    "start_time": "2022-03-13T09:52:51.580Z"
   },
   {
    "duration": 185,
    "start_time": "2022-03-13T09:53:30.889Z"
   },
   {
    "duration": 490,
    "start_time": "2022-03-13T09:53:36.888Z"
   },
   {
    "duration": 7,
    "start_time": "2022-03-13T09:53:51.251Z"
   },
   {
    "duration": 264,
    "start_time": "2022-03-13T09:54:11.772Z"
   },
   {
    "duration": 6,
    "start_time": "2022-03-13T09:54:16.472Z"
   },
   {
    "duration": 13,
    "start_time": "2022-03-13T09:54:32.588Z"
   },
   {
    "duration": 5,
    "start_time": "2022-03-13T09:54:33.449Z"
   },
   {
    "duration": 13,
    "start_time": "2022-03-13T09:57:30.730Z"
   },
   {
    "duration": 8,
    "start_time": "2022-03-13T09:59:02.539Z"
   },
   {
    "duration": 13,
    "start_time": "2022-03-13T09:59:10.103Z"
   },
   {
    "duration": 422,
    "start_time": "2022-03-13T09:59:20.148Z"
   },
   {
    "duration": 247,
    "start_time": "2022-03-13T09:59:48.016Z"
   },
   {
    "duration": 269,
    "start_time": "2022-03-13T09:59:58.559Z"
   },
   {
    "duration": 18,
    "start_time": "2022-03-13T10:00:19.769Z"
   },
   {
    "duration": 301,
    "start_time": "2022-03-13T10:01:02.760Z"
   },
   {
    "duration": 998,
    "start_time": "2022-03-13T10:01:35.335Z"
   },
   {
    "duration": 26,
    "start_time": "2022-03-13T10:01:47.551Z"
   },
   {
    "duration": 312,
    "start_time": "2022-03-13T10:02:12.030Z"
   },
   {
    "duration": 299,
    "start_time": "2022-03-13T10:02:27.546Z"
   },
   {
    "duration": 1156,
    "start_time": "2022-03-13T10:03:16.474Z"
   },
   {
    "duration": 1024,
    "start_time": "2022-03-13T10:04:29.297Z"
   },
   {
    "duration": 67,
    "start_time": "2022-03-13T10:04:37.093Z"
   },
   {
    "duration": 10,
    "start_time": "2022-03-13T10:04:38.801Z"
   },
   {
    "duration": 79,
    "start_time": "2022-03-13T10:04:39.330Z"
   },
   {
    "duration": 11,
    "start_time": "2022-03-13T10:04:39.982Z"
   },
   {
    "duration": 1112,
    "start_time": "2022-03-13T10:04:44.873Z"
   },
   {
    "duration": 302,
    "start_time": "2022-03-13T10:05:51.952Z"
   },
   {
    "duration": 665,
    "start_time": "2022-03-13T10:06:04.813Z"
   },
   {
    "duration": 1098,
    "start_time": "2022-03-13T10:06:30.259Z"
   },
   {
    "duration": 65,
    "start_time": "2022-03-13T10:06:59.013Z"
   },
   {
    "duration": 16,
    "start_time": "2022-03-13T10:06:59.736Z"
   },
   {
    "duration": 96,
    "start_time": "2022-03-13T10:06:59.913Z"
   },
   {
    "duration": 15,
    "start_time": "2022-03-13T10:07:00.077Z"
   },
   {
    "duration": 1091,
    "start_time": "2022-03-13T10:07:02.549Z"
   },
   {
    "duration": 14,
    "start_time": "2022-03-13T10:07:14.102Z"
   },
   {
    "duration": 66,
    "start_time": "2022-03-13T10:07:27.089Z"
   },
   {
    "duration": 31,
    "start_time": "2022-03-13T10:08:23.463Z"
   },
   {
    "duration": 31,
    "start_time": "2022-03-13T10:11:48.780Z"
   },
   {
    "duration": 7,
    "start_time": "2022-03-13T10:18:25.201Z"
   },
   {
    "duration": 6,
    "start_time": "2022-03-13T10:19:24.476Z"
   },
   {
    "duration": 228,
    "start_time": "2022-03-13T10:20:18.659Z"
   },
   {
    "duration": 7,
    "start_time": "2022-03-13T10:20:30.124Z"
   },
   {
    "duration": 6,
    "start_time": "2022-03-13T10:20:37.980Z"
   },
   {
    "duration": 237,
    "start_time": "2022-03-13T10:20:54.908Z"
   },
   {
    "duration": 7,
    "start_time": "2022-03-13T10:21:00.051Z"
   },
   {
    "duration": 5,
    "start_time": "2022-03-13T10:21:20.155Z"
   },
   {
    "duration": 6,
    "start_time": "2022-03-13T10:21:27.399Z"
   },
   {
    "duration": 5,
    "start_time": "2022-03-13T10:21:35.713Z"
   },
   {
    "duration": 5,
    "start_time": "2022-03-13T10:21:46.423Z"
   },
   {
    "duration": 112,
    "start_time": "2022-03-13T11:44:38.208Z"
   },
   {
    "duration": 68,
    "start_time": "2022-03-13T11:44:41.160Z"
   },
   {
    "duration": 26,
    "start_time": "2022-03-13T11:44:41.499Z"
   },
   {
    "duration": 26,
    "start_time": "2022-03-13T11:44:41.683Z"
   },
   {
    "duration": 12,
    "start_time": "2022-03-13T11:44:41.834Z"
   },
   {
    "duration": 73,
    "start_time": "2022-03-13T11:44:42.024Z"
   },
   {
    "duration": 11,
    "start_time": "2022-03-13T11:44:42.535Z"
   },
   {
    "duration": 14,
    "start_time": "2022-03-13T11:44:47.147Z"
   },
   {
    "duration": 6246,
    "start_time": "2022-03-13T11:44:49.678Z"
   },
   {
    "duration": 7,
    "start_time": "2022-03-13T11:45:05.633Z"
   },
   {
    "duration": 5921,
    "start_time": "2022-03-13T11:47:25.416Z"
   },
   {
    "duration": 8,
    "start_time": "2022-03-13T11:47:42.813Z"
   },
   {
    "duration": 5,
    "start_time": "2022-03-13T11:48:02.310Z"
   },
   {
    "duration": 6,
    "start_time": "2022-03-13T11:48:14.636Z"
   },
   {
    "duration": 5,
    "start_time": "2022-03-13T11:48:15.492Z"
   },
   {
    "duration": 10,
    "start_time": "2022-03-13T11:58:11.330Z"
   },
   {
    "duration": 8,
    "start_time": "2022-03-13T11:58:40.577Z"
   },
   {
    "duration": 7,
    "start_time": "2022-03-13T11:58:46.664Z"
   },
   {
    "duration": 7,
    "start_time": "2022-03-13T11:58:51.896Z"
   },
   {
    "duration": 8,
    "start_time": "2022-03-13T12:02:31.572Z"
   },
   {
    "duration": 162,
    "start_time": "2022-03-13T12:02:54.196Z"
   },
   {
    "duration": 7,
    "start_time": "2022-03-13T12:03:01.123Z"
   },
   {
    "duration": 7,
    "start_time": "2022-03-13T12:06:22.120Z"
   },
   {
    "duration": 6,
    "start_time": "2022-03-13T12:07:40.207Z"
   },
   {
    "duration": 85,
    "start_time": "2022-03-13T12:08:52.704Z"
   },
   {
    "duration": 7,
    "start_time": "2022-03-13T12:09:15.327Z"
   },
   {
    "duration": 41,
    "start_time": "2022-03-13T12:11:37.883Z"
   },
   {
    "duration": 5,
    "start_time": "2022-03-13T12:13:22.631Z"
   },
   {
    "duration": 5,
    "start_time": "2022-03-13T12:13:35.412Z"
   },
   {
    "duration": 9,
    "start_time": "2022-03-13T12:15:28.714Z"
   },
   {
    "duration": 5,
    "start_time": "2022-03-13T12:15:50.786Z"
   },
   {
    "duration": 9,
    "start_time": "2022-03-13T12:16:10.215Z"
   },
   {
    "duration": 217,
    "start_time": "2022-03-13T12:19:32.519Z"
   },
   {
    "duration": 5,
    "start_time": "2022-03-13T12:19:36.803Z"
   },
   {
    "duration": 4,
    "start_time": "2022-03-13T12:19:39.222Z"
   },
   {
    "duration": 7,
    "start_time": "2022-03-13T12:20:02.050Z"
   },
   {
    "duration": 30,
    "start_time": "2022-03-13T12:20:40.742Z"
   },
   {
    "duration": 26,
    "start_time": "2022-03-13T12:20:47.491Z"
   },
   {
    "duration": 8,
    "start_time": "2022-03-13T12:22:13.140Z"
   },
   {
    "duration": 7,
    "start_time": "2022-03-13T12:30:14.851Z"
   },
   {
    "duration": 238,
    "start_time": "2022-03-13T12:30:28.523Z"
   },
   {
    "duration": 7,
    "start_time": "2022-03-13T12:30:37.711Z"
   },
   {
    "duration": 7,
    "start_time": "2022-03-13T12:30:41.879Z"
   },
   {
    "duration": 7,
    "start_time": "2022-03-13T12:34:28.534Z"
   },
   {
    "duration": 7,
    "start_time": "2022-03-13T12:34:38.197Z"
   },
   {
    "duration": 5,
    "start_time": "2022-03-13T12:34:55.680Z"
   },
   {
    "duration": 34,
    "start_time": "2022-03-13T12:35:37.397Z"
   },
   {
    "duration": 229,
    "start_time": "2022-03-13T12:36:32.467Z"
   },
   {
    "duration": 7,
    "start_time": "2022-03-13T12:36:41.637Z"
   },
   {
    "duration": 9,
    "start_time": "2022-03-13T12:39:17.361Z"
   },
   {
    "duration": 69,
    "start_time": "2022-03-13T12:43:05.438Z"
   },
   {
    "duration": 9,
    "start_time": "2022-03-13T12:43:21.335Z"
   },
   {
    "duration": 7,
    "start_time": "2022-03-13T12:43:42.337Z"
   },
   {
    "duration": 7,
    "start_time": "2022-03-13T12:43:56.255Z"
   },
   {
    "duration": 9,
    "start_time": "2022-03-13T12:44:35.057Z"
   },
   {
    "duration": 6,
    "start_time": "2022-03-13T12:44:35.789Z"
   },
   {
    "duration": 8,
    "start_time": "2022-03-13T12:44:51.080Z"
   },
   {
    "duration": 5,
    "start_time": "2022-03-13T12:47:40.720Z"
   },
   {
    "duration": 6,
    "start_time": "2022-03-13T12:49:01.875Z"
   },
   {
    "duration": 4,
    "start_time": "2022-03-13T12:51:38.360Z"
   },
   {
    "duration": 6,
    "start_time": "2022-03-13T12:52:00.691Z"
   },
   {
    "duration": 9,
    "start_time": "2022-03-13T12:52:30.954Z"
   },
   {
    "duration": 8,
    "start_time": "2022-03-13T12:52:49.438Z"
   },
   {
    "duration": 224,
    "start_time": "2022-03-13T12:54:02.602Z"
   },
   {
    "duration": 10,
    "start_time": "2022-03-13T12:54:12.443Z"
   },
   {
    "duration": 23,
    "start_time": "2022-03-13T13:10:24.106Z"
   },
   {
    "duration": 21,
    "start_time": "2022-03-13T13:10:58.048Z"
   },
   {
    "duration": 24,
    "start_time": "2022-03-13T13:11:11.841Z"
   },
   {
    "duration": 23,
    "start_time": "2022-03-13T13:11:39.495Z"
   },
   {
    "duration": 223,
    "start_time": "2022-03-13T13:14:03.509Z"
   },
   {
    "duration": 8,
    "start_time": "2022-03-13T13:14:51.164Z"
   },
   {
    "duration": 7,
    "start_time": "2022-03-13T13:15:04.429Z"
   },
   {
    "duration": 235,
    "start_time": "2022-03-13T13:15:10.897Z"
   },
   {
    "duration": 235,
    "start_time": "2022-03-13T13:15:15.063Z"
   },
   {
    "duration": 8,
    "start_time": "2022-03-13T13:15:26.906Z"
   },
   {
    "duration": 30,
    "start_time": "2022-03-13T13:15:35.772Z"
   },
   {
    "duration": 4,
    "start_time": "2022-03-13T13:18:46.047Z"
   },
   {
    "duration": 550,
    "start_time": "2022-03-13T13:20:32.271Z"
   },
   {
    "duration": 3,
    "start_time": "2022-03-13T13:21:27.465Z"
   },
   {
    "duration": 562,
    "start_time": "2022-03-13T13:21:30.301Z"
   },
   {
    "duration": 566,
    "start_time": "2022-03-13T13:21:41.190Z"
   },
   {
    "duration": 235,
    "start_time": "2022-03-13T13:23:29.803Z"
   },
   {
    "duration": 8,
    "start_time": "2022-03-13T13:24:14.074Z"
   },
   {
    "duration": 5539,
    "start_time": "2022-03-13T13:26:42.078Z"
   },
   {
    "duration": 5,
    "start_time": "2022-03-13T13:27:01.440Z"
   },
   {
    "duration": 23,
    "start_time": "2022-03-13T13:27:07.740Z"
   },
   {
    "duration": 357,
    "start_time": "2022-03-13T13:33:06.624Z"
   },
   {
    "duration": 274,
    "start_time": "2022-03-13T13:33:17.896Z"
   },
   {
    "duration": 596,
    "start_time": "2022-03-13T13:34:09.288Z"
   },
   {
    "duration": 423,
    "start_time": "2022-03-13T13:34:15.205Z"
   },
   {
    "duration": 231,
    "start_time": "2022-03-13T13:34:28.977Z"
   },
   {
    "duration": 234,
    "start_time": "2022-03-13T13:34:42.925Z"
   },
   {
    "duration": 362,
    "start_time": "2022-03-13T13:35:07.991Z"
   },
   {
    "duration": 9,
    "start_time": "2022-03-13T13:37:10.304Z"
   },
   {
    "duration": 227,
    "start_time": "2022-03-13T13:38:56.213Z"
   },
   {
    "duration": 379,
    "start_time": "2022-03-13T13:39:00.762Z"
   },
   {
    "duration": 64,
    "start_time": "2022-03-13T13:39:40.833Z"
   },
   {
    "duration": 73,
    "start_time": "2022-03-13T13:40:07.506Z"
   },
   {
    "duration": 79,
    "start_time": "2022-03-13T13:40:16.991Z"
   },
   {
    "duration": 353,
    "start_time": "2022-03-13T13:40:23.630Z"
   },
   {
    "duration": 8,
    "start_time": "2022-03-13T13:44:16.217Z"
   },
   {
    "duration": 8,
    "start_time": "2022-03-13T13:44:29.086Z"
   },
   {
    "duration": 691,
    "start_time": "2022-03-13T13:45:45.343Z"
   },
   {
    "duration": 28,
    "start_time": "2022-03-13T13:45:46.164Z"
   },
   {
    "duration": 25,
    "start_time": "2022-03-13T13:45:46.560Z"
   },
   {
    "duration": 11,
    "start_time": "2022-03-13T13:45:46.831Z"
   },
   {
    "duration": 66,
    "start_time": "2022-03-13T13:45:47.081Z"
   },
   {
    "duration": 9,
    "start_time": "2022-03-13T13:45:47.308Z"
   },
   {
    "duration": 852,
    "start_time": "2022-03-13T13:45:48.479Z"
   },
   {
    "duration": 8,
    "start_time": "2022-03-13T13:45:49.333Z"
   },
   {
    "duration": 7,
    "start_time": "2022-03-13T13:45:49.343Z"
   },
   {
    "duration": 5,
    "start_time": "2022-03-13T13:45:49.398Z"
   },
   {
    "duration": 7,
    "start_time": "2022-03-13T13:45:50.147Z"
   },
   {
    "duration": 7,
    "start_time": "2022-03-13T13:45:50.313Z"
   },
   {
    "duration": 6,
    "start_time": "2022-03-13T13:45:50.532Z"
   },
   {
    "duration": 6,
    "start_time": "2022-03-13T13:45:50.761Z"
   },
   {
    "duration": 7,
    "start_time": "2022-03-13T13:45:50.877Z"
   },
   {
    "duration": 8,
    "start_time": "2022-03-13T13:45:51.071Z"
   },
   {
    "duration": 7,
    "start_time": "2022-03-13T13:45:51.649Z"
   },
   {
    "duration": 6,
    "start_time": "2022-03-13T13:45:52.040Z"
   },
   {
    "duration": 7,
    "start_time": "2022-03-13T13:45:52.851Z"
   },
   {
    "duration": 71,
    "start_time": "2022-03-13T13:45:53.003Z"
   },
   {
    "duration": 32,
    "start_time": "2022-03-13T13:45:53.205Z"
   },
   {
    "duration": 6,
    "start_time": "2022-03-13T13:45:53.593Z"
   },
   {
    "duration": 5,
    "start_time": "2022-03-13T13:45:53.785Z"
   },
   {
    "duration": 11,
    "start_time": "2022-03-13T13:45:53.973Z"
   },
   {
    "duration": 9,
    "start_time": "2022-03-13T13:45:54.160Z"
   },
   {
    "duration": 6,
    "start_time": "2022-03-13T13:45:54.810Z"
   },
   {
    "duration": 7,
    "start_time": "2022-03-13T13:45:55.567Z"
   },
   {
    "duration": 7,
    "start_time": "2022-03-13T13:45:56.412Z"
   },
   {
    "duration": 7,
    "start_time": "2022-03-13T13:45:56.669Z"
   },
   {
    "duration": 7,
    "start_time": "2022-03-13T13:45:57.142Z"
   },
   {
    "duration": 9,
    "start_time": "2022-03-13T13:45:58.291Z"
   },
   {
    "duration": 8,
    "start_time": "2022-03-13T13:45:59.044Z"
   },
   {
    "duration": 5,
    "start_time": "2022-03-13T13:45:59.347Z"
   },
   {
    "duration": 6,
    "start_time": "2022-03-13T13:46:00.365Z"
   },
   {
    "duration": 12,
    "start_time": "2022-03-13T13:46:00.979Z"
   },
   {
    "duration": 12,
    "start_time": "2022-03-13T13:46:01.694Z"
   },
   {
    "duration": 23,
    "start_time": "2022-03-13T13:46:03.667Z"
   },
   {
    "duration": 29,
    "start_time": "2022-03-13T13:46:04.220Z"
   },
   {
    "duration": 3,
    "start_time": "2022-03-13T13:46:04.781Z"
   },
   {
    "duration": 647,
    "start_time": "2022-03-13T13:46:05.581Z"
   },
   {
    "duration": 11,
    "start_time": "2022-03-13T13:46:06.535Z"
   },
   {
    "duration": 6,
    "start_time": "2022-03-13T13:46:07.649Z"
   },
   {
    "duration": 24,
    "start_time": "2022-03-13T13:46:08.393Z"
   },
   {
    "duration": 365,
    "start_time": "2022-03-13T13:46:11.385Z"
   },
   {
    "duration": 9,
    "start_time": "2022-03-13T13:46:12.250Z"
   },
   {
    "duration": 370,
    "start_time": "2022-03-13T13:46:13.389Z"
   },
   {
    "duration": 9,
    "start_time": "2022-03-13T13:46:15.293Z"
   },
   {
    "duration": 260,
    "start_time": "2022-03-13T13:46:27.798Z"
   },
   {
    "duration": 205,
    "start_time": "2022-03-13T13:46:33.750Z"
   },
   {
    "duration": 699,
    "start_time": "2022-03-13T13:46:42.270Z"
   },
   {
    "duration": 28,
    "start_time": "2022-03-13T13:46:42.971Z"
   },
   {
    "duration": 23,
    "start_time": "2022-03-13T13:46:43.001Z"
   },
   {
    "duration": 12,
    "start_time": "2022-03-13T13:46:43.026Z"
   },
   {
    "duration": 64,
    "start_time": "2022-03-13T13:46:43.182Z"
   },
   {
    "duration": 11,
    "start_time": "2022-03-13T13:46:43.516Z"
   },
   {
    "duration": 793,
    "start_time": "2022-03-13T13:46:44.698Z"
   },
   {
    "duration": 9,
    "start_time": "2022-03-13T13:46:45.493Z"
   },
   {
    "duration": 6,
    "start_time": "2022-03-13T13:46:45.856Z"
   },
   {
    "duration": 7,
    "start_time": "2022-03-13T13:46:46.136Z"
   },
   {
    "duration": 7,
    "start_time": "2022-03-13T13:46:46.734Z"
   },
   {
    "duration": 7,
    "start_time": "2022-03-13T13:46:46.935Z"
   },
   {
    "duration": 6,
    "start_time": "2022-03-13T13:46:47.138Z"
   },
   {
    "duration": 6,
    "start_time": "2022-03-13T13:46:47.376Z"
   },
   {
    "duration": 8,
    "start_time": "2022-03-13T13:46:47.531Z"
   },
   {
    "duration": 7,
    "start_time": "2022-03-13T13:46:47.724Z"
   },
   {
    "duration": 6,
    "start_time": "2022-03-13T13:46:48.308Z"
   },
   {
    "duration": 6,
    "start_time": "2022-03-13T13:46:48.690Z"
   },
   {
    "duration": 7,
    "start_time": "2022-03-13T13:46:49.286Z"
   },
   {
    "duration": 68,
    "start_time": "2022-03-13T13:46:49.489Z"
   },
   {
    "duration": 32,
    "start_time": "2022-03-13T13:46:49.719Z"
   },
   {
    "duration": 6,
    "start_time": "2022-03-13T13:46:50.108Z"
   },
   {
    "duration": 5,
    "start_time": "2022-03-13T13:46:50.323Z"
   },
   {
    "duration": 11,
    "start_time": "2022-03-13T13:46:50.523Z"
   },
   {
    "duration": 10,
    "start_time": "2022-03-13T13:46:50.726Z"
   },
   {
    "duration": 7,
    "start_time": "2022-03-13T13:46:51.346Z"
   },
   {
    "duration": 8,
    "start_time": "2022-03-13T13:46:51.975Z"
   },
   {
    "duration": 8,
    "start_time": "2022-03-13T13:46:52.627Z"
   },
   {
    "duration": 8,
    "start_time": "2022-03-13T13:46:52.851Z"
   },
   {
    "duration": 8,
    "start_time": "2022-03-13T13:46:53.281Z"
   },
   {
    "duration": 9,
    "start_time": "2022-03-13T13:46:53.990Z"
   },
   {
    "duration": 9,
    "start_time": "2022-03-13T13:46:54.405Z"
   },
   {
    "duration": 5,
    "start_time": "2022-03-13T13:46:54.721Z"
   },
   {
    "duration": 6,
    "start_time": "2022-03-13T13:46:55.318Z"
   },
   {
    "duration": 12,
    "start_time": "2022-03-13T13:46:55.765Z"
   },
   {
    "duration": 11,
    "start_time": "2022-03-13T13:46:56.204Z"
   },
   {
    "duration": 23,
    "start_time": "2022-03-13T13:46:57.378Z"
   },
   {
    "duration": 28,
    "start_time": "2022-03-13T13:46:57.863Z"
   },
   {
    "duration": 4,
    "start_time": "2022-03-13T13:46:58.332Z"
   },
   {
    "duration": 615,
    "start_time": "2022-03-13T13:46:58.807Z"
   },
   {
    "duration": 9,
    "start_time": "2022-03-13T13:46:59.423Z"
   },
   {
    "duration": 6,
    "start_time": "2022-03-13T13:46:59.997Z"
   },
   {
    "duration": 26,
    "start_time": "2022-03-13T13:47:00.245Z"
   },
   {
    "duration": 381,
    "start_time": "2022-03-13T13:47:01.167Z"
   },
   {
    "duration": 9,
    "start_time": "2022-03-13T13:47:02.520Z"
   },
   {
    "duration": 384,
    "start_time": "2022-03-13T13:47:03.428Z"
   },
   {
    "duration": 8,
    "start_time": "2022-03-13T13:47:05.309Z"
   },
   {
    "duration": 695,
    "start_time": "2022-03-13T13:48:00.784Z"
   },
   {
    "duration": 30,
    "start_time": "2022-03-13T13:48:01.947Z"
   },
   {
    "duration": 24,
    "start_time": "2022-03-13T13:48:02.791Z"
   },
   {
    "duration": 11,
    "start_time": "2022-03-13T13:48:03.543Z"
   },
   {
    "duration": 68,
    "start_time": "2022-03-13T13:48:04.063Z"
   },
   {
    "duration": 10,
    "start_time": "2022-03-13T13:48:04.702Z"
   },
   {
    "duration": 622,
    "start_time": "2022-03-13T13:48:07.688Z"
   },
   {
    "duration": 9,
    "start_time": "2022-03-13T13:48:08.573Z"
   },
   {
    "duration": 6,
    "start_time": "2022-03-13T13:48:09.550Z"
   },
   {
    "duration": 5,
    "start_time": "2022-03-13T13:48:09.990Z"
   },
   {
    "duration": 7,
    "start_time": "2022-03-13T13:48:11.419Z"
   },
   {
    "duration": 8,
    "start_time": "2022-03-13T13:48:11.905Z"
   },
   {
    "duration": 7,
    "start_time": "2022-03-13T13:48:12.390Z"
   },
   {
    "duration": 6,
    "start_time": "2022-03-13T13:48:12.892Z"
   },
   {
    "duration": 7,
    "start_time": "2022-03-13T13:48:13.369Z"
   },
   {
    "duration": 7,
    "start_time": "2022-03-13T13:48:13.804Z"
   },
   {
    "duration": 6,
    "start_time": "2022-03-13T13:48:15.199Z"
   },
   {
    "duration": 6,
    "start_time": "2022-03-13T13:48:16.189Z"
   },
   {
    "duration": 8,
    "start_time": "2022-03-13T13:48:17.675Z"
   },
   {
    "duration": 74,
    "start_time": "2022-03-13T13:48:18.147Z"
   },
   {
    "duration": 32,
    "start_time": "2022-03-13T13:48:18.621Z"
   },
   {
    "duration": 6,
    "start_time": "2022-03-13T13:48:19.695Z"
   },
   {
    "duration": 5,
    "start_time": "2022-03-13T13:48:20.179Z"
   },
   {
    "duration": 12,
    "start_time": "2022-03-13T13:48:20.711Z"
   },
   {
    "duration": 13,
    "start_time": "2022-03-13T13:48:21.117Z"
   },
   {
    "duration": 6,
    "start_time": "2022-03-13T13:48:22.589Z"
   },
   {
    "duration": 7,
    "start_time": "2022-03-13T13:48:24.052Z"
   },
   {
    "duration": 10,
    "start_time": "2022-03-13T13:48:25.843Z"
   },
   {
    "duration": 7,
    "start_time": "2022-03-13T13:48:26.304Z"
   },
   {
    "duration": 8,
    "start_time": "2022-03-13T13:48:27.236Z"
   },
   {
    "duration": 10,
    "start_time": "2022-03-13T13:48:28.734Z"
   },
   {
    "duration": 8,
    "start_time": "2022-03-13T13:48:29.936Z"
   },
   {
    "duration": 6,
    "start_time": "2022-03-13T13:48:30.643Z"
   },
   {
    "duration": 6,
    "start_time": "2022-03-13T13:48:32.242Z"
   },
   {
    "duration": 12,
    "start_time": "2022-03-13T13:48:33.199Z"
   },
   {
    "duration": 16,
    "start_time": "2022-03-13T13:48:34.201Z"
   },
   {
    "duration": 24,
    "start_time": "2022-03-13T13:48:36.551Z"
   },
   {
    "duration": 30,
    "start_time": "2022-03-13T13:48:37.488Z"
   },
   {
    "duration": 3,
    "start_time": "2022-03-13T13:48:38.431Z"
   },
   {
    "duration": 733,
    "start_time": "2022-03-13T13:48:39.467Z"
   },
   {
    "duration": 10,
    "start_time": "2022-03-13T13:48:40.411Z"
   },
   {
    "duration": 7,
    "start_time": "2022-03-13T13:48:41.435Z"
   },
   {
    "duration": 34,
    "start_time": "2022-03-13T13:48:41.922Z"
   },
   {
    "duration": 614,
    "start_time": "2022-03-13T13:48:44.170Z"
   },
   {
    "duration": 10,
    "start_time": "2022-03-13T13:48:45.565Z"
   },
   {
    "duration": 378,
    "start_time": "2022-03-13T13:48:46.566Z"
   },
   {
    "duration": 8,
    "start_time": "2022-03-13T13:48:48.546Z"
   },
   {
    "duration": 318,
    "start_time": "2022-03-13T13:49:23.705Z"
   },
   {
    "duration": 799,
    "start_time": "2022-03-13T13:49:32.635Z"
   },
   {
    "duration": 31,
    "start_time": "2022-03-13T13:49:33.437Z"
   },
   {
    "duration": 23,
    "start_time": "2022-03-13T13:49:33.469Z"
   },
   {
    "duration": 12,
    "start_time": "2022-03-13T13:49:33.562Z"
   },
   {
    "duration": 69,
    "start_time": "2022-03-13T13:49:33.709Z"
   },
   {
    "duration": 9,
    "start_time": "2022-03-13T13:49:33.878Z"
   },
   {
    "duration": 482,
    "start_time": "2022-03-13T13:49:35.539Z"
   },
   {
    "duration": 9,
    "start_time": "2022-03-13T13:49:36.023Z"
   },
   {
    "duration": 7,
    "start_time": "2022-03-13T13:49:36.311Z"
   },
   {
    "duration": 5,
    "start_time": "2022-03-13T13:49:36.518Z"
   },
   {
    "duration": 7,
    "start_time": "2022-03-13T13:49:37.439Z"
   },
   {
    "duration": 7,
    "start_time": "2022-03-13T13:49:37.775Z"
   },
   {
    "duration": 6,
    "start_time": "2022-03-13T13:49:38.047Z"
   },
   {
    "duration": 7,
    "start_time": "2022-03-13T13:49:38.326Z"
   },
   {
    "duration": 8,
    "start_time": "2022-03-13T13:49:38.564Z"
   },
   {
    "duration": 7,
    "start_time": "2022-03-13T13:49:38.778Z"
   },
   {
    "duration": 7,
    "start_time": "2022-03-13T13:49:39.350Z"
   },
   {
    "duration": 7,
    "start_time": "2022-03-13T13:49:39.699Z"
   },
   {
    "duration": 7,
    "start_time": "2022-03-13T13:49:40.575Z"
   },
   {
    "duration": 74,
    "start_time": "2022-03-13T13:49:40.825Z"
   },
   {
    "duration": 47,
    "start_time": "2022-03-13T13:49:41.062Z"
   },
   {
    "duration": 6,
    "start_time": "2022-03-13T13:49:41.496Z"
   },
   {
    "duration": 5,
    "start_time": "2022-03-13T13:49:41.674Z"
   },
   {
    "duration": 10,
    "start_time": "2022-03-13T13:49:41.862Z"
   },
   {
    "duration": 9,
    "start_time": "2022-03-13T13:49:42.018Z"
   },
   {
    "duration": 6,
    "start_time": "2022-03-13T13:49:42.961Z"
   },
   {
    "duration": 6,
    "start_time": "2022-03-13T13:49:43.705Z"
   },
   {
    "duration": 7,
    "start_time": "2022-03-13T13:49:44.269Z"
   },
   {
    "duration": 7,
    "start_time": "2022-03-13T13:49:44.436Z"
   },
   {
    "duration": 8,
    "start_time": "2022-03-13T13:49:44.930Z"
   },
   {
    "duration": 10,
    "start_time": "2022-03-13T13:49:45.819Z"
   },
   {
    "duration": 10,
    "start_time": "2022-03-13T13:49:46.304Z"
   },
   {
    "duration": 5,
    "start_time": "2022-03-13T13:49:46.508Z"
   },
   {
    "duration": 6,
    "start_time": "2022-03-13T13:49:47.057Z"
   },
   {
    "duration": 13,
    "start_time": "2022-03-13T13:49:47.568Z"
   },
   {
    "duration": 12,
    "start_time": "2022-03-13T13:49:48.126Z"
   },
   {
    "duration": 31,
    "start_time": "2022-03-13T13:49:49.545Z"
   },
   {
    "duration": 31,
    "start_time": "2022-03-13T13:49:50.162Z"
   },
   {
    "duration": 3,
    "start_time": "2022-03-13T13:49:50.736Z"
   },
   {
    "duration": 640,
    "start_time": "2022-03-13T13:49:51.298Z"
   },
   {
    "duration": 9,
    "start_time": "2022-03-13T13:49:51.940Z"
   },
   {
    "duration": 6,
    "start_time": "2022-03-13T13:49:52.456Z"
   },
   {
    "duration": 22,
    "start_time": "2022-03-13T13:49:53.831Z"
   },
   {
    "duration": 382,
    "start_time": "2022-03-13T13:49:54.324Z"
   },
   {
    "duration": 10,
    "start_time": "2022-03-13T13:49:55.517Z"
   },
   {
    "duration": 370,
    "start_time": "2022-03-13T13:49:56.641Z"
   },
   {
    "duration": 9,
    "start_time": "2022-03-13T13:49:58.441Z"
   },
   {
    "duration": 238,
    "start_time": "2022-03-13T13:49:59.161Z"
   },
   {
    "duration": 225,
    "start_time": "2022-03-13T13:50:16.175Z"
   },
   {
    "duration": 214,
    "start_time": "2022-03-13T13:50:41.419Z"
   },
   {
    "duration": 220,
    "start_time": "2022-03-13T13:50:47.675Z"
   },
   {
    "duration": 244,
    "start_time": "2022-03-13T13:52:59.663Z"
   },
   {
    "duration": 9,
    "start_time": "2022-03-13T13:54:18.505Z"
   },
   {
    "duration": 9,
    "start_time": "2022-03-13T14:45:10.502Z"
   },
   {
    "duration": 250,
    "start_time": "2022-03-13T14:47:14.840Z"
   },
   {
    "duration": 262,
    "start_time": "2022-03-13T14:47:20.723Z"
   },
   {
    "duration": 457,
    "start_time": "2022-03-13T14:47:45.328Z"
   },
   {
    "duration": 122,
    "start_time": "2022-03-13T14:47:59.020Z"
   },
   {
    "duration": 3,
    "start_time": "2022-03-13T14:51:04.783Z"
   },
   {
    "duration": 237,
    "start_time": "2022-03-13T14:51:15.786Z"
   },
   {
    "duration": -3,
    "start_time": "2022-03-13T14:52:02.206Z"
   },
   {
    "duration": 4,
    "start_time": "2022-03-13T14:52:03.972Z"
   },
   {
    "duration": 437,
    "start_time": "2022-03-13T14:52:04.601Z"
   },
   {
    "duration": 363,
    "start_time": "2022-03-13T14:52:29.621Z"
   },
   {
    "duration": 191,
    "start_time": "2022-03-13T14:55:10.095Z"
   },
   {
    "duration": 5,
    "start_time": "2022-03-13T14:55:49.854Z"
   },
   {
    "duration": 5,
    "start_time": "2022-03-13T14:56:02.038Z"
   },
   {
    "duration": 241,
    "start_time": "2022-03-13T14:56:14.988Z"
   },
   {
    "duration": 707,
    "start_time": "2022-03-13T14:56:41.888Z"
   },
   {
    "duration": 2039,
    "start_time": "2022-03-13T14:56:58.325Z"
   },
   {
    "duration": 2123,
    "start_time": "2022-03-13T14:57:12.324Z"
   },
   {
    "duration": 193,
    "start_time": "2022-03-13T14:57:20.587Z"
   },
   {
    "duration": 241,
    "start_time": "2022-03-13T14:57:43.886Z"
   },
   {
    "duration": 60,
    "start_time": "2022-03-13T14:58:18.503Z"
   },
   {
    "duration": 27,
    "start_time": "2022-03-13T14:58:35.987Z"
   },
   {
    "duration": 28,
    "start_time": "2022-03-13T14:58:36.436Z"
   },
   {
    "duration": 11,
    "start_time": "2022-03-13T14:58:36.818Z"
   },
   {
    "duration": 65,
    "start_time": "2022-03-13T14:58:37.248Z"
   },
   {
    "duration": 10,
    "start_time": "2022-03-13T14:58:37.627Z"
   },
   {
    "duration": 14,
    "start_time": "2022-03-13T14:58:39.981Z"
   },
   {
    "duration": 7,
    "start_time": "2022-03-13T14:58:40.655Z"
   },
   {
    "duration": 5,
    "start_time": "2022-03-13T14:58:41.218Z"
   },
   {
    "duration": 5,
    "start_time": "2022-03-13T14:58:41.363Z"
   },
   {
    "duration": 7,
    "start_time": "2022-03-13T14:58:41.915Z"
   },
   {
    "duration": 7,
    "start_time": "2022-03-13T14:58:42.095Z"
   },
   {
    "duration": 6,
    "start_time": "2022-03-13T14:58:42.267Z"
   },
   {
    "duration": 6,
    "start_time": "2022-03-13T14:58:42.446Z"
   },
   {
    "duration": 7,
    "start_time": "2022-03-13T14:58:42.634Z"
   },
   {
    "duration": 7,
    "start_time": "2022-03-13T14:58:42.838Z"
   },
   {
    "duration": 6,
    "start_time": "2022-03-13T14:58:43.433Z"
   },
   {
    "duration": 5,
    "start_time": "2022-03-13T14:58:43.850Z"
   },
   {
    "duration": 7,
    "start_time": "2022-03-13T14:58:44.389Z"
   },
   {
    "duration": 71,
    "start_time": "2022-03-13T14:58:44.592Z"
   },
   {
    "duration": 31,
    "start_time": "2022-03-13T14:58:44.774Z"
   },
   {
    "duration": 5,
    "start_time": "2022-03-13T14:58:45.155Z"
   },
   {
    "duration": 5,
    "start_time": "2022-03-13T14:58:45.412Z"
   },
   {
    "duration": 10,
    "start_time": "2022-03-13T14:58:45.559Z"
   },
   {
    "duration": 9,
    "start_time": "2022-03-13T14:58:45.740Z"
   },
   {
    "duration": 6,
    "start_time": "2022-03-13T14:58:46.507Z"
   },
   {
    "duration": 7,
    "start_time": "2022-03-13T14:58:47.270Z"
   },
   {
    "duration": 7,
    "start_time": "2022-03-13T14:58:47.855Z"
   },
   {
    "duration": 6,
    "start_time": "2022-03-13T14:58:48.035Z"
   },
   {
    "duration": 8,
    "start_time": "2022-03-13T14:58:48.430Z"
   },
   {
    "duration": 8,
    "start_time": "2022-03-13T14:58:49.047Z"
   },
   {
    "duration": 8,
    "start_time": "2022-03-13T14:58:49.464Z"
   },
   {
    "duration": 6,
    "start_time": "2022-03-13T14:58:49.688Z"
   },
   {
    "duration": 6,
    "start_time": "2022-03-13T14:58:50.307Z"
   },
   {
    "duration": 10,
    "start_time": "2022-03-13T14:58:50.734Z"
   },
   {
    "duration": 12,
    "start_time": "2022-03-13T14:58:51.139Z"
   },
   {
    "duration": 23,
    "start_time": "2022-03-13T14:58:52.164Z"
   },
   {
    "duration": 29,
    "start_time": "2022-03-13T14:58:52.615Z"
   },
   {
    "duration": 4,
    "start_time": "2022-03-13T14:58:53.031Z"
   },
   {
    "duration": 552,
    "start_time": "2022-03-13T14:58:53.447Z"
   },
   {
    "duration": 8,
    "start_time": "2022-03-13T14:58:54.002Z"
   },
   {
    "duration": 6,
    "start_time": "2022-03-13T14:58:54.301Z"
   },
   {
    "duration": 22,
    "start_time": "2022-03-13T14:58:54.525Z"
   },
   {
    "duration": 11,
    "start_time": "2022-03-13T14:58:55.400Z"
   },
   {
    "duration": 546,
    "start_time": "2022-03-13T14:58:55.617Z"
   },
   {
    "duration": 1170,
    "start_time": "2022-03-13T14:58:59.162Z"
   },
   {
    "duration": 9,
    "start_time": "2022-03-13T14:59:01.873Z"
   },
   {
    "duration": 5,
    "start_time": "2022-03-13T14:59:05.912Z"
   },
   {
    "duration": 360,
    "start_time": "2022-03-13T14:59:06.578Z"
   },
   {
    "duration": 8,
    "start_time": "2022-03-13T14:59:08.601Z"
   },
   {
    "duration": 221,
    "start_time": "2022-03-13T14:59:09.242Z"
   },
   {
    "duration": 176,
    "start_time": "2022-03-13T14:59:18.783Z"
   },
   {
    "duration": 486,
    "start_time": "2022-03-13T15:05:03.660Z"
   },
   {
    "duration": 26,
    "start_time": "2022-03-13T15:05:04.526Z"
   },
   {
    "duration": 23,
    "start_time": "2022-03-13T15:05:04.694Z"
   },
   {
    "duration": 12,
    "start_time": "2022-03-13T15:05:04.876Z"
   },
   {
    "duration": 66,
    "start_time": "2022-03-13T15:05:05.043Z"
   },
   {
    "duration": 11,
    "start_time": "2022-03-13T15:05:05.199Z"
   },
   {
    "duration": 15,
    "start_time": "2022-03-13T15:05:06.212Z"
   },
   {
    "duration": 8,
    "start_time": "2022-03-13T15:05:06.560Z"
   },
   {
    "duration": 5,
    "start_time": "2022-03-13T15:05:06.910Z"
   },
   {
    "duration": 6,
    "start_time": "2022-03-13T15:05:07.094Z"
   },
   {
    "duration": 7,
    "start_time": "2022-03-13T15:05:07.619Z"
   },
   {
    "duration": 7,
    "start_time": "2022-03-13T15:05:07.789Z"
   },
   {
    "duration": 6,
    "start_time": "2022-03-13T15:05:07.990Z"
   },
   {
    "duration": 7,
    "start_time": "2022-03-13T15:05:08.158Z"
   },
   {
    "duration": 8,
    "start_time": "2022-03-13T15:05:08.473Z"
   },
   {
    "duration": 8,
    "start_time": "2022-03-13T15:05:08.664Z"
   },
   {
    "duration": 7,
    "start_time": "2022-03-13T15:05:09.204Z"
   },
   {
    "duration": 7,
    "start_time": "2022-03-13T15:05:09.575Z"
   },
   {
    "duration": 8,
    "start_time": "2022-03-13T15:05:10.104Z"
   },
   {
    "duration": 71,
    "start_time": "2022-03-13T15:05:10.306Z"
   },
   {
    "duration": 29,
    "start_time": "2022-03-13T15:05:10.488Z"
   },
   {
    "duration": 5,
    "start_time": "2022-03-13T15:05:10.870Z"
   },
   {
    "duration": 5,
    "start_time": "2022-03-13T15:05:11.049Z"
   },
   {
    "duration": 10,
    "start_time": "2022-03-13T15:05:11.287Z"
   },
   {
    "duration": 9,
    "start_time": "2022-03-13T15:05:11.444Z"
   },
   {
    "duration": 7,
    "start_time": "2022-03-13T15:05:12.005Z"
   },
   {
    "duration": 7,
    "start_time": "2022-03-13T15:05:12.557Z"
   },
   {
    "duration": 8,
    "start_time": "2022-03-13T15:05:13.094Z"
   },
   {
    "duration": 8,
    "start_time": "2022-03-13T15:05:13.266Z"
   },
   {
    "duration": 6,
    "start_time": "2022-03-13T15:05:13.648Z"
   },
   {
    "duration": 9,
    "start_time": "2022-03-13T15:05:14.233Z"
   },
   {
    "duration": 9,
    "start_time": "2022-03-13T15:05:14.618Z"
   },
   {
    "duration": 7,
    "start_time": "2022-03-13T15:05:14.828Z"
   },
   {
    "duration": 7,
    "start_time": "2022-03-13T15:05:15.484Z"
   },
   {
    "duration": 10,
    "start_time": "2022-03-13T15:05:15.819Z"
   },
   {
    "duration": 13,
    "start_time": "2022-03-13T15:05:16.190Z"
   },
   {
    "duration": 24,
    "start_time": "2022-03-13T15:05:17.160Z"
   },
   {
    "duration": 29,
    "start_time": "2022-03-13T15:05:17.579Z"
   },
   {
    "duration": 3,
    "start_time": "2022-03-13T15:05:17.944Z"
   },
   {
    "duration": 721,
    "start_time": "2022-03-13T15:05:18.309Z"
   },
   {
    "duration": 8,
    "start_time": "2022-03-13T15:05:19.032Z"
   },
   {
    "duration": 5,
    "start_time": "2022-03-13T15:05:19.081Z"
   },
   {
    "duration": 23,
    "start_time": "2022-03-13T15:05:19.262Z"
   },
   {
    "duration": 9,
    "start_time": "2022-03-13T15:05:20.038Z"
   },
   {
    "duration": 367,
    "start_time": "2022-03-13T15:05:20.229Z"
   },
   {
    "duration": 1166,
    "start_time": "2022-03-13T15:05:36.455Z"
   },
   {
    "duration": 1184,
    "start_time": "2022-03-13T15:06:13.614Z"
   },
   {
    "duration": 214,
    "start_time": "2022-03-13T15:06:48.960Z"
   },
   {
    "duration": 251,
    "start_time": "2022-03-13T15:07:10.349Z"
   },
   {
    "duration": 238,
    "start_time": "2022-03-13T15:07:50.377Z"
   },
   {
    "duration": 260,
    "start_time": "2022-03-13T15:07:56.812Z"
   },
   {
    "duration": 214,
    "start_time": "2022-03-13T15:09:43.803Z"
   },
   {
    "duration": 523,
    "start_time": "2022-03-13T15:10:22.131Z"
   },
   {
    "duration": 822,
    "start_time": "2022-03-13T15:10:32.438Z"
   },
   {
    "duration": 212,
    "start_time": "2022-03-13T15:10:45.623Z"
   },
   {
    "duration": 8,
    "start_time": "2022-03-13T15:12:33.006Z"
   },
   {
    "duration": 9,
    "start_time": "2022-03-13T15:13:37.818Z"
   },
   {
    "duration": 561,
    "start_time": "2022-03-13T15:13:53.853Z"
   },
   {
    "duration": 192,
    "start_time": "2022-03-13T15:14:05.529Z"
   },
   {
    "duration": 12,
    "start_time": "2022-03-13T15:18:49.641Z"
   },
   {
    "duration": 255,
    "start_time": "2022-03-13T15:19:05.302Z"
   },
   {
    "duration": 1895,
    "start_time": "2022-03-13T15:29:12.421Z"
   },
   {
    "duration": 1695,
    "start_time": "2022-03-13T15:29:43.492Z"
   },
   {
    "duration": 439,
    "start_time": "2022-03-13T15:30:03.416Z"
   },
   {
    "duration": 414,
    "start_time": "2022-03-13T15:30:56.633Z"
   },
   {
    "duration": 147,
    "start_time": "2022-03-13T15:32:57.101Z"
   },
   {
    "duration": 545,
    "start_time": "2022-03-13T15:33:52.622Z"
   },
   {
    "duration": 225,
    "start_time": "2022-03-13T15:39:09.991Z"
   },
   {
    "duration": 135,
    "start_time": "2022-03-13T15:40:04.813Z"
   },
   {
    "duration": 140,
    "start_time": "2022-03-13T15:40:48.160Z"
   },
   {
    "duration": 687,
    "start_time": "2022-03-13T15:41:38.662Z"
   },
   {
    "duration": 286,
    "start_time": "2022-03-13T15:42:16.994Z"
   },
   {
    "duration": 266,
    "start_time": "2022-03-13T15:42:26.611Z"
   },
   {
    "duration": 307,
    "start_time": "2022-03-13T15:42:44.410Z"
   },
   {
    "duration": 311,
    "start_time": "2022-03-13T15:43:12.040Z"
   },
   {
    "duration": 75,
    "start_time": "2022-03-13T15:43:35.822Z"
   },
   {
    "duration": 217,
    "start_time": "2022-03-13T15:43:59.459Z"
   },
   {
    "duration": 242,
    "start_time": "2022-03-13T15:44:15.277Z"
   },
   {
    "duration": 86,
    "start_time": "2022-03-13T15:44:34.482Z"
   },
   {
    "duration": 76,
    "start_time": "2022-03-13T15:45:12.947Z"
   },
   {
    "duration": 12,
    "start_time": "2022-03-13T15:45:17.040Z"
   },
   {
    "duration": 309,
    "start_time": "2022-03-13T15:46:15.795Z"
   },
   {
    "duration": 239,
    "start_time": "2022-03-13T15:46:22.915Z"
   },
   {
    "duration": 118,
    "start_time": "2022-03-13T15:46:30.272Z"
   },
   {
    "duration": 2216,
    "start_time": "2022-03-13T15:47:22.912Z"
   },
   {
    "duration": 470,
    "start_time": "2022-03-13T15:47:51.374Z"
   },
   {
    "duration": 439,
    "start_time": "2022-03-13T15:48:33.983Z"
   },
   {
    "duration": 424,
    "start_time": "2022-03-13T15:51:47.834Z"
   },
   {
    "duration": 701,
    "start_time": "2022-03-13T15:53:34.279Z"
   },
   {
    "duration": 411,
    "start_time": "2022-03-13T15:53:41.940Z"
   },
   {
    "duration": 457,
    "start_time": "2022-03-13T15:54:45.842Z"
   },
   {
    "duration": 438,
    "start_time": "2022-03-13T15:55:15.060Z"
   },
   {
    "duration": 721,
    "start_time": "2022-03-13T15:55:26.868Z"
   },
   {
    "duration": 424,
    "start_time": "2022-03-13T15:55:49.657Z"
   },
   {
    "duration": 647,
    "start_time": "2022-03-13T15:56:16.069Z"
   },
   {
    "duration": 424,
    "start_time": "2022-03-13T15:56:21.371Z"
   },
   {
    "duration": 437,
    "start_time": "2022-03-13T15:56:31.111Z"
   },
   {
    "duration": 439,
    "start_time": "2022-03-13T15:57:07.539Z"
   },
   {
    "duration": 207,
    "start_time": "2022-03-13T15:57:44.114Z"
   },
   {
    "duration": 248,
    "start_time": "2022-03-13T15:58:18.617Z"
   },
   {
    "duration": 372,
    "start_time": "2022-03-13T15:58:42.022Z"
   },
   {
    "duration": 241,
    "start_time": "2022-03-13T15:59:19.524Z"
   },
   {
    "duration": 355,
    "start_time": "2022-03-13T15:59:20.653Z"
   },
   {
    "duration": 222,
    "start_time": "2022-03-13T16:00:50.166Z"
   },
   {
    "duration": 222,
    "start_time": "2022-03-13T16:01:04.008Z"
   },
   {
    "duration": 18,
    "start_time": "2022-03-13T16:01:25.047Z"
   },
   {
    "duration": 18,
    "start_time": "2022-03-13T16:01:33.827Z"
   },
   {
    "duration": 8,
    "start_time": "2022-03-13T16:02:30.084Z"
   },
   {
    "duration": 16,
    "start_time": "2022-03-13T16:04:50.580Z"
   },
   {
    "duration": 14,
    "start_time": "2022-03-13T16:05:58.375Z"
   },
   {
    "duration": 11,
    "start_time": "2022-03-13T16:06:27.667Z"
   },
   {
    "duration": 63,
    "start_time": "2022-03-13T16:06:54.307Z"
   },
   {
    "duration": 27,
    "start_time": "2022-03-13T16:06:54.645Z"
   },
   {
    "duration": 24,
    "start_time": "2022-03-13T16:06:54.852Z"
   },
   {
    "duration": 12,
    "start_time": "2022-03-13T16:06:54.950Z"
   },
   {
    "duration": 92,
    "start_time": "2022-03-13T16:06:55.120Z"
   },
   {
    "duration": 9,
    "start_time": "2022-03-13T16:06:55.287Z"
   },
   {
    "duration": 15,
    "start_time": "2022-03-13T16:06:56.353Z"
   },
   {
    "duration": 6,
    "start_time": "2022-03-13T16:06:56.726Z"
   },
   {
    "duration": 5,
    "start_time": "2022-03-13T16:06:57.111Z"
   },
   {
    "duration": 5,
    "start_time": "2022-03-13T16:06:57.288Z"
   },
   {
    "duration": 6,
    "start_time": "2022-03-13T16:06:57.850Z"
   },
   {
    "duration": 6,
    "start_time": "2022-03-13T16:06:58.032Z"
   },
   {
    "duration": 6,
    "start_time": "2022-03-13T16:06:58.210Z"
   },
   {
    "duration": 6,
    "start_time": "2022-03-13T16:06:58.390Z"
   },
   {
    "duration": 7,
    "start_time": "2022-03-13T16:06:58.592Z"
   },
   {
    "duration": 8,
    "start_time": "2022-03-13T16:06:58.774Z"
   },
   {
    "duration": 6,
    "start_time": "2022-03-13T16:06:59.345Z"
   },
   {
    "duration": 5,
    "start_time": "2022-03-13T16:06:59.718Z"
   },
   {
    "duration": 7,
    "start_time": "2022-03-13T16:07:00.280Z"
   },
   {
    "duration": 70,
    "start_time": "2022-03-13T16:07:00.471Z"
   },
   {
    "duration": 26,
    "start_time": "2022-03-13T16:07:00.664Z"
   },
   {
    "duration": 5,
    "start_time": "2022-03-13T16:07:01.036Z"
   },
   {
    "duration": 5,
    "start_time": "2022-03-13T16:07:01.226Z"
   },
   {
    "duration": 11,
    "start_time": "2022-03-13T16:07:01.405Z"
   },
   {
    "duration": 9,
    "start_time": "2022-03-13T16:07:01.607Z"
   },
   {
    "duration": 7,
    "start_time": "2022-03-13T16:07:02.192Z"
   },
   {
    "duration": 7,
    "start_time": "2022-03-13T16:07:02.777Z"
   },
   {
    "duration": 7,
    "start_time": "2022-03-13T16:07:03.385Z"
   },
   {
    "duration": 7,
    "start_time": "2022-03-13T16:07:03.576Z"
   },
   {
    "duration": 6,
    "start_time": "2022-03-13T16:07:03.985Z"
   },
   {
    "duration": 8,
    "start_time": "2022-03-13T16:07:04.589Z"
   },
   {
    "duration": 9,
    "start_time": "2022-03-13T16:07:04.971Z"
   },
   {
    "duration": 6,
    "start_time": "2022-03-13T16:07:05.162Z"
   },
   {
    "duration": 7,
    "start_time": "2022-03-13T16:07:05.738Z"
   },
   {
    "duration": 10,
    "start_time": "2022-03-13T16:07:06.119Z"
   },
   {
    "duration": 11,
    "start_time": "2022-03-13T16:07:06.512Z"
   },
   {
    "duration": 24,
    "start_time": "2022-03-13T16:07:07.863Z"
   },
   {
    "duration": 28,
    "start_time": "2022-03-13T16:07:08.485Z"
   },
   {
    "duration": 3,
    "start_time": "2022-03-13T16:07:08.911Z"
   },
   {
    "duration": 560,
    "start_time": "2022-03-13T16:07:09.439Z"
   },
   {
    "duration": 9,
    "start_time": "2022-03-13T16:07:10.038Z"
   },
   {
    "duration": 5,
    "start_time": "2022-03-13T16:07:10.586Z"
   },
   {
    "duration": 24,
    "start_time": "2022-03-13T16:07:10.865Z"
   },
   {
    "duration": 9,
    "start_time": "2022-03-13T16:07:12.285Z"
   },
   {
    "duration": 719,
    "start_time": "2022-03-13T16:07:12.748Z"
   },
   {
    "duration": 12,
    "start_time": "2022-03-13T16:07:16.448Z"
   },
   {
    "duration": 6,
    "start_time": "2022-03-13T16:07:17.921Z"
   },
   {
    "duration": 360,
    "start_time": "2022-03-13T16:07:18.879Z"
   },
   {
    "duration": 8,
    "start_time": "2022-03-13T16:07:20.869Z"
   },
   {
    "duration": 207,
    "start_time": "2022-03-13T16:07:21.310Z"
   },
   {
    "duration": 7,
    "start_time": "2022-03-13T16:07:22.115Z"
   },
   {
    "duration": 179,
    "start_time": "2022-03-13T16:07:22.816Z"
   },
   {
    "duration": 9,
    "start_time": "2022-03-13T16:07:23.513Z"
   },
   {
    "duration": 235,
    "start_time": "2022-03-13T16:07:23.975Z"
   },
   {
    "duration": 263,
    "start_time": "2022-03-13T16:07:25.044Z"
   },
   {
    "duration": 454,
    "start_time": "2022-03-13T16:07:26.911Z"
   },
   {
    "duration": 430,
    "start_time": "2022-03-13T16:07:32.310Z"
   },
   {
    "duration": 403,
    "start_time": "2022-03-13T16:07:36.160Z"
   },
   {
    "duration": 283,
    "start_time": "2022-03-13T16:07:37.216Z"
   },
   {
    "duration": 307,
    "start_time": "2022-03-13T16:07:40.032Z"
   },
   {
    "duration": 8,
    "start_time": "2022-03-13T16:07:47.735Z"
   },
   {
    "duration": 15,
    "start_time": "2022-03-13T16:08:39.792Z"
   },
   {
    "duration": 12,
    "start_time": "2022-03-13T16:09:36.009Z"
   },
   {
    "duration": 78,
    "start_time": "2022-03-13T16:15:16.609Z"
   },
   {
    "duration": 15,
    "start_time": "2022-03-13T16:15:31.831Z"
   },
   {
    "duration": 16,
    "start_time": "2022-03-13T16:15:56.987Z"
   },
   {
    "duration": 14,
    "start_time": "2022-03-13T16:16:15.395Z"
   },
   {
    "duration": 643,
    "start_time": "2022-03-13T16:17:07.652Z"
   },
   {
    "duration": 415,
    "start_time": "2022-03-13T16:17:17.812Z"
   },
   {
    "duration": 211,
    "start_time": "2022-03-13T16:17:28.194Z"
   },
   {
    "duration": 237,
    "start_time": "2022-03-13T16:17:41.628Z"
   },
   {
    "duration": 216,
    "start_time": "2022-03-13T16:18:26.525Z"
   },
   {
    "duration": 16,
    "start_time": "2022-03-13T16:18:34.727Z"
   },
   {
    "duration": 16,
    "start_time": "2022-03-13T16:19:05.710Z"
   },
   {
    "duration": 13,
    "start_time": "2022-03-13T16:19:59.567Z"
   },
   {
    "duration": 14,
    "start_time": "2022-03-13T16:21:04.310Z"
   },
   {
    "duration": 12,
    "start_time": "2022-03-13T16:22:14.928Z"
   },
   {
    "duration": 12,
    "start_time": "2022-03-13T16:22:22.608Z"
   },
   {
    "duration": 13,
    "start_time": "2022-03-13T16:22:28.293Z"
   },
   {
    "duration": 75,
    "start_time": "2022-03-13T16:25:34.736Z"
   },
   {
    "duration": 9,
    "start_time": "2022-03-13T16:26:07.965Z"
   },
   {
    "duration": 8,
    "start_time": "2022-03-13T16:26:28.210Z"
   },
   {
    "duration": 63,
    "start_time": "2022-03-13T16:27:24.052Z"
   },
   {
    "duration": 24,
    "start_time": "2022-03-13T16:27:24.407Z"
   },
   {
    "duration": 24,
    "start_time": "2022-03-13T16:27:24.556Z"
   },
   {
    "duration": 10,
    "start_time": "2022-03-13T16:27:24.747Z"
   },
   {
    "duration": 72,
    "start_time": "2022-03-13T16:27:24.917Z"
   },
   {
    "duration": 10,
    "start_time": "2022-03-13T16:27:25.075Z"
   },
   {
    "duration": 14,
    "start_time": "2022-03-13T16:27:26.186Z"
   },
   {
    "duration": 7,
    "start_time": "2022-03-13T16:27:26.558Z"
   },
   {
    "duration": 6,
    "start_time": "2022-03-13T16:27:26.944Z"
   },
   {
    "duration": 5,
    "start_time": "2022-03-13T16:27:27.137Z"
   },
   {
    "duration": 8,
    "start_time": "2022-03-13T16:27:27.695Z"
   },
   {
    "duration": 6,
    "start_time": "2022-03-13T16:27:27.843Z"
   },
   {
    "duration": 7,
    "start_time": "2022-03-13T16:27:28.043Z"
   },
   {
    "duration": 6,
    "start_time": "2022-03-13T16:27:28.224Z"
   },
   {
    "duration": 8,
    "start_time": "2022-03-13T16:27:28.415Z"
   },
   {
    "duration": 8,
    "start_time": "2022-03-13T16:27:28.607Z"
   },
   {
    "duration": 6,
    "start_time": "2022-03-13T16:27:29.204Z"
   },
   {
    "duration": 5,
    "start_time": "2022-03-13T16:27:29.597Z"
   },
   {
    "duration": 7,
    "start_time": "2022-03-13T16:27:30.182Z"
   },
   {
    "duration": 75,
    "start_time": "2022-03-13T16:27:30.372Z"
   },
   {
    "duration": 29,
    "start_time": "2022-03-13T16:27:30.565Z"
   },
   {
    "duration": 5,
    "start_time": "2022-03-13T16:27:30.948Z"
   },
   {
    "duration": 5,
    "start_time": "2022-03-13T16:27:31.125Z"
   },
   {
    "duration": 9,
    "start_time": "2022-03-13T16:27:31.307Z"
   },
   {
    "duration": 8,
    "start_time": "2022-03-13T16:27:31.498Z"
   },
   {
    "duration": 7,
    "start_time": "2022-03-13T16:27:32.028Z"
   },
   {
    "duration": 8,
    "start_time": "2022-03-13T16:27:32.591Z"
   },
   {
    "duration": 7,
    "start_time": "2022-03-13T16:27:33.224Z"
   },
   {
    "duration": 8,
    "start_time": "2022-03-13T16:27:33.680Z"
   },
   {
    "duration": 7,
    "start_time": "2022-03-13T16:27:34.272Z"
   },
   {
    "duration": 9,
    "start_time": "2022-03-13T16:27:34.881Z"
   },
   {
    "duration": 10,
    "start_time": "2022-03-13T16:27:35.323Z"
   },
   {
    "duration": 6,
    "start_time": "2022-03-13T16:27:35.491Z"
   },
   {
    "duration": 7,
    "start_time": "2022-03-13T16:27:36.271Z"
   },
   {
    "duration": 9,
    "start_time": "2022-03-13T16:27:36.685Z"
   },
   {
    "duration": 11,
    "start_time": "2022-03-13T16:27:37.101Z"
   },
   {
    "duration": 23,
    "start_time": "2022-03-13T16:27:38.101Z"
   },
   {
    "duration": 29,
    "start_time": "2022-03-13T16:27:38.495Z"
   },
   {
    "duration": 3,
    "start_time": "2022-03-13T16:27:38.900Z"
   },
   {
    "duration": 550,
    "start_time": "2022-03-13T16:27:39.314Z"
   },
   {
    "duration": 8,
    "start_time": "2022-03-13T16:27:39.865Z"
   },
   {
    "duration": 6,
    "start_time": "2022-03-13T16:27:40.141Z"
   },
   {
    "duration": 24,
    "start_time": "2022-03-13T16:27:40.352Z"
   },
   {
    "duration": 10,
    "start_time": "2022-03-13T16:27:41.735Z"
   },
   {
    "duration": 360,
    "start_time": "2022-03-13T16:27:42.197Z"
   },
   {
    "duration": 9,
    "start_time": "2022-03-13T16:27:43.569Z"
   },
   {
    "duration": 5,
    "start_time": "2022-03-13T16:27:44.156Z"
   },
   {
    "duration": 359,
    "start_time": "2022-03-13T16:27:44.368Z"
   },
   {
    "duration": 9,
    "start_time": "2022-03-13T16:27:44.975Z"
   },
   {
    "duration": 208,
    "start_time": "2022-03-13T16:27:45.190Z"
   },
   {
    "duration": 8,
    "start_time": "2022-03-13T16:27:45.607Z"
   },
   {
    "duration": 183,
    "start_time": "2022-03-13T16:27:46.036Z"
   },
   {
    "duration": 8,
    "start_time": "2022-03-13T16:27:46.585Z"
   },
   {
    "duration": 223,
    "start_time": "2022-03-13T16:27:47.025Z"
   },
   {
    "duration": 234,
    "start_time": "2022-03-13T16:27:47.507Z"
   },
   {
    "duration": 453,
    "start_time": "2022-03-13T16:27:52.346Z"
   },
   {
    "duration": 438,
    "start_time": "2022-03-13T16:27:53.736Z"
   },
   {
    "duration": 490,
    "start_time": "2022-03-13T16:27:54.932Z"
   },
   {
    "duration": 426,
    "start_time": "2022-03-13T16:27:56.114Z"
   },
   {
    "duration": 291,
    "start_time": "2022-03-13T16:27:57.103Z"
   },
   {
    "duration": 9,
    "start_time": "2022-03-13T16:29:26.318Z"
   },
   {
    "duration": 5143,
    "start_time": "2022-03-13T16:29:45.005Z"
   },
   {
    "duration": 12,
    "start_time": "2022-03-13T16:29:56.054Z"
   },
   {
    "duration": 13,
    "start_time": "2022-03-13T16:30:23.459Z"
   },
   {
    "duration": 12,
    "start_time": "2022-03-13T16:30:40.075Z"
   },
   {
    "duration": 35,
    "start_time": "2022-03-13T16:31:57.523Z"
   },
   {
    "duration": 15,
    "start_time": "2022-03-13T16:32:22.239Z"
   },
   {
    "duration": 271,
    "start_time": "2022-03-13T16:32:28.608Z"
   },
   {
    "duration": 7,
    "start_time": "2022-03-13T16:32:40.930Z"
   },
   {
    "duration": 15,
    "start_time": "2022-03-13T16:32:42.939Z"
   },
   {
    "duration": 15,
    "start_time": "2022-03-13T16:33:02.368Z"
   },
   {
    "duration": 22,
    "start_time": "2022-03-13T16:33:18.338Z"
   },
   {
    "duration": 233,
    "start_time": "2022-03-13T16:35:22.070Z"
   },
   {
    "duration": 210,
    "start_time": "2022-03-13T16:35:48.286Z"
   },
   {
    "duration": 734,
    "start_time": "2022-03-13T16:36:34.166Z"
   },
   {
    "duration": 15,
    "start_time": "2022-03-13T16:38:34.464Z"
   },
   {
    "duration": 14,
    "start_time": "2022-03-13T16:38:54.051Z"
   },
   {
    "duration": 83,
    "start_time": "2022-03-13T16:39:15.816Z"
   },
   {
    "duration": 28,
    "start_time": "2022-03-13T16:39:17.419Z"
   },
   {
    "duration": 24,
    "start_time": "2022-03-13T16:39:18.149Z"
   },
   {
    "duration": 11,
    "start_time": "2022-03-13T16:39:18.913Z"
   },
   {
    "duration": 71,
    "start_time": "2022-03-13T16:39:19.612Z"
   },
   {
    "duration": 9,
    "start_time": "2022-03-13T16:39:20.681Z"
   },
   {
    "duration": 15,
    "start_time": "2022-03-13T16:39:23.482Z"
   },
   {
    "duration": 7,
    "start_time": "2022-03-13T16:39:24.056Z"
   },
   {
    "duration": 6,
    "start_time": "2022-03-13T16:39:24.662Z"
   },
   {
    "duration": 5,
    "start_time": "2022-03-13T16:39:24.887Z"
   },
   {
    "duration": 7,
    "start_time": "2022-03-13T16:39:25.485Z"
   },
   {
    "duration": 8,
    "start_time": "2022-03-13T16:39:25.685Z"
   },
   {
    "duration": 8,
    "start_time": "2022-03-13T16:39:26.091Z"
   },
   {
    "duration": 8,
    "start_time": "2022-03-13T16:39:26.327Z"
   },
   {
    "duration": 8,
    "start_time": "2022-03-13T16:39:26.506Z"
   },
   {
    "duration": 8,
    "start_time": "2022-03-13T16:39:26.707Z"
   },
   {
    "duration": 8,
    "start_time": "2022-03-13T16:39:27.305Z"
   },
   {
    "duration": 7,
    "start_time": "2022-03-13T16:39:28.183Z"
   },
   {
    "duration": 7,
    "start_time": "2022-03-13T16:39:28.735Z"
   },
   {
    "duration": 68,
    "start_time": "2022-03-13T16:39:28.927Z"
   },
   {
    "duration": 26,
    "start_time": "2022-03-13T16:39:29.095Z"
   },
   {
    "duration": 6,
    "start_time": "2022-03-13T16:39:29.736Z"
   },
   {
    "duration": 12,
    "start_time": "2022-03-13T16:39:29.927Z"
   },
   {
    "duration": 10,
    "start_time": "2022-03-13T16:39:30.118Z"
   },
   {
    "duration": 9,
    "start_time": "2022-03-13T16:39:30.299Z"
   },
   {
    "duration": 7,
    "start_time": "2022-03-13T16:39:31.177Z"
   },
   {
    "duration": 7,
    "start_time": "2022-03-13T16:39:31.784Z"
   },
   {
    "duration": 8,
    "start_time": "2022-03-13T16:39:32.390Z"
   },
   {
    "duration": 7,
    "start_time": "2022-03-13T16:39:32.841Z"
   },
   {
    "duration": 6,
    "start_time": "2022-03-13T16:39:33.482Z"
   },
   {
    "duration": 9,
    "start_time": "2022-03-13T16:39:34.641Z"
   },
   {
    "duration": 11,
    "start_time": "2022-03-13T16:39:35.486Z"
   },
   {
    "duration": 7,
    "start_time": "2022-03-13T16:39:35.906Z"
   },
   {
    "duration": 6,
    "start_time": "2022-03-13T16:39:37.148Z"
   },
   {
    "duration": 9,
    "start_time": "2022-03-13T16:39:38.017Z"
   },
   {
    "duration": 11,
    "start_time": "2022-03-13T16:39:38.906Z"
   },
   {
    "duration": 24,
    "start_time": "2022-03-13T16:39:41.155Z"
   },
   {
    "duration": 30,
    "start_time": "2022-03-13T16:39:42.215Z"
   },
   {
    "duration": 3,
    "start_time": "2022-03-13T16:39:43.439Z"
   },
   {
    "duration": 582,
    "start_time": "2022-03-13T16:39:44.632Z"
   },
   {
    "duration": 9,
    "start_time": "2022-03-13T16:39:45.600Z"
   },
   {
    "duration": 6,
    "start_time": "2022-03-13T16:39:46.768Z"
   },
   {
    "duration": 23,
    "start_time": "2022-03-13T16:39:47.344Z"
   },
   {
    "duration": 10,
    "start_time": "2022-03-13T16:39:49.424Z"
   },
   {
    "duration": 364,
    "start_time": "2022-03-13T16:39:50.133Z"
   },
   {
    "duration": 10,
    "start_time": "2022-03-13T16:39:54.937Z"
   },
   {
    "duration": 12,
    "start_time": "2022-03-13T16:39:56.456Z"
   },
   {
    "duration": 398,
    "start_time": "2022-03-13T16:39:56.927Z"
   },
   {
    "duration": 5026,
    "start_time": "2022-03-13T16:40:21.375Z"
   },
   {
    "duration": 15,
    "start_time": "2022-03-13T16:40:34.673Z"
   },
   {
    "duration": 7,
    "start_time": "2022-03-13T16:41:51.166Z"
   },
   {
    "duration": 4,
    "start_time": "2022-03-13T16:42:03.550Z"
   },
   {
    "duration": 214,
    "start_time": "2022-03-13T16:43:20.401Z"
   },
   {
    "duration": 67,
    "start_time": "2022-03-13T16:43:54.287Z"
   },
   {
    "duration": 230,
    "start_time": "2022-03-13T16:44:01.103Z"
   },
   {
    "duration": 213,
    "start_time": "2022-03-13T16:44:15.066Z"
   },
   {
    "duration": 265,
    "start_time": "2022-03-13T16:44:34.824Z"
   },
   {
    "duration": 8,
    "start_time": "2022-03-13T16:44:42.923Z"
   },
   {
    "duration": 5,
    "start_time": "2022-03-13T16:47:48.212Z"
   },
   {
    "duration": 7,
    "start_time": "2022-03-13T16:48:09.622Z"
   },
   {
    "duration": 782,
    "start_time": "2022-03-13T16:48:30.672Z"
   },
   {
    "duration": 746,
    "start_time": "2022-03-13T16:49:02.869Z"
   },
   {
    "duration": 582,
    "start_time": "2022-03-13T16:49:36.576Z"
   },
   {
    "duration": 597,
    "start_time": "2022-03-13T16:52:05.820Z"
   },
   {
    "duration": 268,
    "start_time": "2022-03-13T16:57:28.384Z"
   },
   {
    "duration": 371,
    "start_time": "2022-03-13T16:57:38.456Z"
   },
   {
    "duration": 8,
    "start_time": "2022-03-13T16:57:46.100Z"
   },
   {
    "duration": 8,
    "start_time": "2022-03-13T16:57:53.161Z"
   },
   {
    "duration": 149,
    "start_time": "2022-03-13T16:59:54.047Z"
   },
   {
    "duration": 155,
    "start_time": "2022-03-13T16:59:58.330Z"
   },
   {
    "duration": 219,
    "start_time": "2022-03-13T19:36:05.198Z"
   },
   {
    "duration": 22,
    "start_time": "2022-03-13T19:36:43.839Z"
   },
   {
    "duration": 30,
    "start_time": "2022-03-13T19:36:45.422Z"
   },
   {
    "duration": 4,
    "start_time": "2022-03-13T19:36:46.486Z"
   },
   {
    "duration": 5955,
    "start_time": "2022-03-13T19:36:47.425Z"
   },
   {
    "duration": 13855,
    "start_time": "2022-03-13T19:36:39.527Z"
   },
   {
    "duration": 13853,
    "start_time": "2022-03-13T19:36:39.530Z"
   },
   {
    "duration": 13851,
    "start_time": "2022-03-13T19:36:39.533Z"
   },
   {
    "duration": 65,
    "start_time": "2022-03-13T19:36:58.471Z"
   },
   {
    "duration": 116,
    "start_time": "2022-03-13T19:36:58.810Z"
   },
   {
    "duration": 301,
    "start_time": "2022-03-13T19:36:58.989Z"
   },
   {
    "duration": 270,
    "start_time": "2022-03-13T19:36:59.292Z"
   },
   {
    "duration": 668,
    "start_time": "2022-03-13T19:36:59.564Z"
   },
   {
    "duration": 790,
    "start_time": "2022-03-13T19:37:00.234Z"
   },
   {
    "duration": 489,
    "start_time": "2022-03-13T19:37:01.029Z"
   },
   {
    "duration": 421,
    "start_time": "2022-03-13T19:37:01.604Z"
   },
   {
    "duration": 314,
    "start_time": "2022-03-13T19:37:02.140Z"
   },
   {
    "duration": 567,
    "start_time": "2022-03-13T19:37:02.456Z"
   },
   {
    "duration": 104,
    "start_time": "2022-03-13T19:37:03.204Z"
   },
   {
    "duration": 102,
    "start_time": "2022-03-13T19:37:03.443Z"
   },
   {
    "duration": 138,
    "start_time": "2022-03-13T19:37:03.714Z"
   },
   {
    "duration": 128,
    "start_time": "2022-03-13T19:37:03.984Z"
   },
   {
    "duration": 125,
    "start_time": "2022-03-13T19:37:04.246Z"
   },
   {
    "duration": 114,
    "start_time": "2022-03-13T19:37:04.520Z"
   },
   {
    "duration": 6,
    "start_time": "2022-03-13T19:37:05.231Z"
   },
   {
    "duration": 7,
    "start_time": "2022-03-13T19:37:05.771Z"
   },
   {
    "duration": 8,
    "start_time": "2022-03-13T19:37:06.519Z"
   },
   {
    "duration": 217,
    "start_time": "2022-03-13T19:37:06.781Z"
   },
   {
    "duration": 533,
    "start_time": "2022-03-13T19:37:07.078Z"
   },
   {
    "duration": 273,
    "start_time": "2022-03-13T19:37:07.647Z"
   },
   {
    "duration": 497,
    "start_time": "2022-03-13T19:37:07.922Z"
   },
   {
    "duration": 519,
    "start_time": "2022-03-13T19:37:08.422Z"
   },
   {
    "duration": 291,
    "start_time": "2022-03-13T19:37:08.943Z"
   },
   {
    "duration": 307,
    "start_time": "2022-03-13T19:37:09.354Z"
   },
   {
    "duration": 7,
    "start_time": "2022-03-13T19:37:11.523Z"
   },
   {
    "duration": 298,
    "start_time": "2022-03-13T19:37:11.532Z"
   },
   {
    "duration": 7,
    "start_time": "2022-03-13T19:37:12.781Z"
   },
   {
    "duration": 7,
    "start_time": "2022-03-13T19:37:13.187Z"
   },
   {
    "duration": 8,
    "start_time": "2022-03-13T19:37:13.982Z"
   },
   {
    "duration": 8,
    "start_time": "2022-03-13T19:37:15.505Z"
   },
   {
    "duration": 10,
    "start_time": "2022-03-13T19:37:16.408Z"
   },
   {
    "duration": 6,
    "start_time": "2022-03-13T19:37:17.014Z"
   },
   {
    "duration": 6,
    "start_time": "2022-03-13T19:37:18.422Z"
   },
   {
    "duration": 10,
    "start_time": "2022-03-13T19:37:19.337Z"
   },
   {
    "duration": 12,
    "start_time": "2022-03-13T19:37:20.259Z"
   },
   {
    "duration": 24,
    "start_time": "2022-03-13T19:37:22.495Z"
   },
   {
    "duration": 29,
    "start_time": "2022-03-13T19:37:23.365Z"
   },
   {
    "duration": 3,
    "start_time": "2022-03-13T19:37:24.189Z"
   },
   {
    "duration": 597,
    "start_time": "2022-03-13T19:37:25.017Z"
   },
   {
    "duration": 8,
    "start_time": "2022-03-13T19:37:29.777Z"
   },
   {
    "duration": 5,
    "start_time": "2022-03-13T19:37:30.752Z"
   },
   {
    "duration": 203,
    "start_time": "2022-03-13T19:37:31.232Z"
   },
   {
    "duration": 8,
    "start_time": "2022-03-13T19:37:33.026Z"
   },
   {
    "duration": 503,
    "start_time": "2022-03-13T19:37:33.454Z"
   },
   {
    "duration": 9,
    "start_time": "2022-03-13T19:37:34.825Z"
   },
   {
    "duration": 5,
    "start_time": "2022-03-13T19:37:35.867Z"
   },
   {
    "duration": 739,
    "start_time": "2022-03-13T19:37:36.190Z"
   },
   {
    "duration": 160,
    "start_time": "2022-03-13T19:37:37.414Z"
   },
   {
    "duration": 536,
    "start_time": "2022-03-13T19:37:37.794Z"
   },
   {
    "duration": 7,
    "start_time": "2022-03-13T19:37:38.589Z"
   },
   {
    "duration": 212,
    "start_time": "2022-03-13T19:37:39.334Z"
   },
   {
    "duration": 9,
    "start_time": "2022-03-13T19:37:40.179Z"
   },
   {
    "duration": 570,
    "start_time": "2022-03-13T19:37:40.548Z"
   },
   {
    "duration": 265,
    "start_time": "2022-03-13T19:37:41.406Z"
   },
   {
    "duration": 475,
    "start_time": "2022-03-13T19:37:42.185Z"
   },
   {
    "duration": 428,
    "start_time": "2022-03-13T19:37:43.209Z"
   },
   {
    "duration": 439,
    "start_time": "2022-03-13T19:37:44.058Z"
   },
   {
    "duration": 291,
    "start_time": "2022-03-13T19:37:44.584Z"
   },
   {
    "duration": 295,
    "start_time": "2022-03-13T19:37:45.084Z"
   },
   {
    "duration": 9,
    "start_time": "2022-03-13T19:37:46.142Z"
   },
   {
    "duration": 233,
    "start_time": "2022-03-13T19:37:46.645Z"
   },
   {
    "duration": 355,
    "start_time": "2022-03-13T19:37:47.262Z"
   },
   {
    "duration": 9,
    "start_time": "2022-03-13T19:37:48.177Z"
   },
   {
    "duration": 145,
    "start_time": "2022-03-13T19:37:48.940Z"
   },
   {
    "duration": 580,
    "start_time": "2022-03-13T19:37:49.459Z"
   },
   {
    "duration": 1153,
    "start_time": "2022-03-13T19:37:50.041Z"
   },
   {
    "duration": 195,
    "start_time": "2022-03-13T19:37:53.975Z"
   },
   {
    "duration": 6,
    "start_time": "2022-03-13T19:38:19.254Z"
   },
   {
    "duration": 20,
    "start_time": "2022-03-13T19:40:20.879Z"
   },
   {
    "duration": 27,
    "start_time": "2022-03-13T19:40:58.636Z"
   },
   {
    "duration": 25,
    "start_time": "2022-03-13T19:41:19.830Z"
   },
   {
    "duration": 180,
    "start_time": "2022-03-13T19:42:58.616Z"
   },
   {
    "duration": 5,
    "start_time": "2022-03-13T19:44:36.416Z"
   },
   {
    "duration": 5145,
    "start_time": "2022-03-13T19:45:07.940Z"
   },
   {
    "duration": 7,
    "start_time": "2022-03-13T19:45:47.485Z"
   },
   {
    "duration": 5306,
    "start_time": "2022-03-13T19:47:13.493Z"
   },
   {
    "duration": 5133,
    "start_time": "2022-03-13T19:47:55.125Z"
   },
   {
    "duration": 5,
    "start_time": "2022-03-13T19:48:13.930Z"
   },
   {
    "duration": 11,
    "start_time": "2022-03-13T19:48:22.927Z"
   },
   {
    "duration": 13,
    "start_time": "2022-03-13T19:49:17.010Z"
   },
   {
    "duration": 12,
    "start_time": "2022-03-13T19:50:42.852Z"
   },
   {
    "duration": 217,
    "start_time": "2022-03-13T19:57:14.190Z"
   },
   {
    "duration": 23,
    "start_time": "2022-03-13T19:57:37.092Z"
   },
   {
    "duration": 11,
    "start_time": "2022-03-13T19:57:50.107Z"
   },
   {
    "duration": 17,
    "start_time": "2022-03-13T19:59:52.699Z"
   },
   {
    "duration": 19,
    "start_time": "2022-03-13T20:00:27.866Z"
   },
   {
    "duration": 852,
    "start_time": "2022-03-13T20:01:13.916Z"
   },
   {
    "duration": 887,
    "start_time": "2022-03-13T20:01:23.605Z"
   },
   {
    "duration": 154,
    "start_time": "2022-03-13T20:02:18.087Z"
   },
   {
    "duration": 139,
    "start_time": "2022-03-13T20:02:41.126Z"
   },
   {
    "duration": 839,
    "start_time": "2022-03-13T20:03:06.990Z"
   },
   {
    "duration": 153,
    "start_time": "2022-03-13T20:03:19.355Z"
   },
   {
    "duration": 161,
    "start_time": "2022-03-13T20:03:38.558Z"
   },
   {
    "duration": 150,
    "start_time": "2022-03-13T20:04:44.295Z"
   },
   {
    "duration": 13866,
    "start_time": "2022-03-13T20:09:00.027Z"
   },
   {
    "duration": 5276,
    "start_time": "2022-03-13T20:09:21.125Z"
   },
   {
    "duration": 747,
    "start_time": "2022-03-13T20:09:33.584Z"
   },
   {
    "duration": 788,
    "start_time": "2022-03-13T20:09:43.335Z"
   },
   {
    "duration": 498,
    "start_time": "2022-03-13T20:09:53.646Z"
   },
   {
    "duration": 523,
    "start_time": "2022-03-13T20:10:00.056Z"
   },
   {
    "duration": 6,
    "start_time": "2022-03-13T20:10:09.076Z"
   },
   {
    "duration": 215,
    "start_time": "2022-03-13T20:14:17.344Z"
   },
   {
    "duration": 21,
    "start_time": "2022-03-13T20:14:37.850Z"
   },
   {
    "duration": 210,
    "start_time": "2022-03-13T20:14:55.357Z"
   },
   {
    "duration": 16,
    "start_time": "2022-03-13T20:15:04.205Z"
   },
   {
    "duration": 151,
    "start_time": "2022-03-13T20:15:18.089Z"
   },
   {
    "duration": 168,
    "start_time": "2022-03-13T20:15:37.028Z"
   },
   {
    "duration": 156,
    "start_time": "2022-03-13T20:16:13.185Z"
   },
   {
    "duration": 158,
    "start_time": "2022-03-13T20:16:42.578Z"
   },
   {
    "duration": 172,
    "start_time": "2022-03-13T20:20:09.209Z"
   },
   {
    "duration": 188,
    "start_time": "2022-03-13T20:20:27.305Z"
   },
   {
    "duration": 177,
    "start_time": "2022-03-13T20:20:30.440Z"
   },
   {
    "duration": 192,
    "start_time": "2022-03-13T20:21:01.251Z"
   },
   {
    "duration": 188,
    "start_time": "2022-03-13T20:21:06.449Z"
   },
   {
    "duration": 223,
    "start_time": "2022-03-13T20:26:10.499Z"
   },
   {
    "duration": 20,
    "start_time": "2022-03-13T20:26:24.561Z"
   },
   {
    "duration": 269,
    "start_time": "2022-03-13T20:26:46.252Z"
   },
   {
    "duration": 639,
    "start_time": "2022-03-13T20:27:01.942Z"
   },
   {
    "duration": 378,
    "start_time": "2022-03-13T20:27:14.072Z"
   },
   {
    "duration": 539,
    "start_time": "2022-03-13T20:27:45.991Z"
   },
   {
    "duration": 174,
    "start_time": "2022-03-13T20:27:57.799Z"
   },
   {
    "duration": 15,
    "start_time": "2022-03-13T20:28:40.857Z"
   },
   {
    "duration": 22,
    "start_time": "2022-03-13T20:29:04.354Z"
   },
   {
    "duration": 28,
    "start_time": "2022-03-13T20:29:32.959Z"
   },
   {
    "duration": 170,
    "start_time": "2022-03-13T20:29:46.631Z"
   },
   {
    "duration": 172,
    "start_time": "2022-03-13T20:29:55.632Z"
   },
   {
    "duration": 196,
    "start_time": "2022-03-13T20:34:47.845Z"
   },
   {
    "duration": 22,
    "start_time": "2022-03-13T20:34:56.133Z"
   },
   {
    "duration": 6,
    "start_time": "2022-03-13T20:35:47.773Z"
   },
   {
    "duration": 21,
    "start_time": "2022-03-13T20:36:19.513Z"
   },
   {
    "duration": 5,
    "start_time": "2022-03-13T20:36:42.605Z"
   },
   {
    "duration": 211,
    "start_time": "2022-03-13T20:37:59.759Z"
   },
   {
    "duration": 9,
    "start_time": "2022-03-13T20:38:59.229Z"
   },
   {
    "duration": 6,
    "start_time": "2022-03-13T20:39:16.768Z"
   },
   {
    "duration": 8,
    "start_time": "2022-03-13T20:39:28.305Z"
   },
   {
    "duration": 75,
    "start_time": "2022-03-13T20:39:44.551Z"
   },
   {
    "duration": 6,
    "start_time": "2022-03-13T20:39:54.459Z"
   },
   {
    "duration": 7,
    "start_time": "2022-03-13T20:40:39.784Z"
   },
   {
    "duration": 71,
    "start_time": "2022-03-13T20:42:02.719Z"
   },
   {
    "duration": 25,
    "start_time": "2022-03-13T20:42:03.169Z"
   },
   {
    "duration": 25,
    "start_time": "2022-03-13T20:42:03.359Z"
   },
   {
    "duration": 10,
    "start_time": "2022-03-13T20:42:03.530Z"
   },
   {
    "duration": 68,
    "start_time": "2022-03-13T20:42:03.892Z"
   },
   {
    "duration": 10,
    "start_time": "2022-03-13T20:42:04.180Z"
   },
   {
    "duration": 13,
    "start_time": "2022-03-13T20:42:06.131Z"
   },
   {
    "duration": 8,
    "start_time": "2022-03-13T20:42:07.015Z"
   },
   {
    "duration": 6,
    "start_time": "2022-03-13T20:42:08.305Z"
   },
   {
    "duration": 5,
    "start_time": "2022-03-13T20:42:08.561Z"
   },
   {
    "duration": 7,
    "start_time": "2022-03-13T20:42:09.760Z"
   },
   {
    "duration": 6,
    "start_time": "2022-03-13T20:42:10.189Z"
   },
   {
    "duration": 7,
    "start_time": "2022-03-13T20:42:10.571Z"
   },
   {
    "duration": 8,
    "start_time": "2022-03-13T20:42:11.012Z"
   },
   {
    "duration": 9,
    "start_time": "2022-03-13T20:42:11.343Z"
   },
   {
    "duration": 8,
    "start_time": "2022-03-13T20:42:12.454Z"
   },
   {
    "duration": 6,
    "start_time": "2022-03-13T20:42:14.598Z"
   },
   {
    "duration": 6,
    "start_time": "2022-03-13T20:42:15.207Z"
   },
   {
    "duration": 6,
    "start_time": "2022-03-13T20:42:15.866Z"
   },
   {
    "duration": 79,
    "start_time": "2022-03-13T20:42:16.144Z"
   },
   {
    "duration": 26,
    "start_time": "2022-03-13T20:42:16.376Z"
   },
   {
    "duration": 5,
    "start_time": "2022-03-13T20:42:17.770Z"
   },
   {
    "duration": 5,
    "start_time": "2022-03-13T20:42:18.258Z"
   },
   {
    "duration": 9,
    "start_time": "2022-03-13T20:42:18.467Z"
   },
   {
    "duration": 8,
    "start_time": "2022-03-13T20:42:18.640Z"
   },
   {
    "duration": 6,
    "start_time": "2022-03-13T20:42:20.773Z"
   },
   {
    "duration": 10,
    "start_time": "2022-03-13T20:42:21.496Z"
   },
   {
    "duration": 8,
    "start_time": "2022-03-13T20:42:22.105Z"
   },
   {
    "duration": 9,
    "start_time": "2022-03-13T20:42:22.646Z"
   },
   {
    "duration": 9,
    "start_time": "2022-03-13T20:42:23.051Z"
   },
   {
    "duration": 9,
    "start_time": "2022-03-13T20:42:23.592Z"
   },
   {
    "duration": 12,
    "start_time": "2022-03-13T20:42:24.192Z"
   },
   {
    "duration": 202,
    "start_time": "2022-03-13T20:42:28.836Z"
   },
   {
    "duration": 9,
    "start_time": "2022-03-13T20:46:05.672Z"
   },
   {
    "duration": 8,
    "start_time": "2022-03-13T20:46:16.908Z"
   },
   {
    "duration": 8,
    "start_time": "2022-03-13T20:46:48.438Z"
   },
   {
    "duration": 6,
    "start_time": "2022-03-13T20:47:17.194Z"
   },
   {
    "duration": 6,
    "start_time": "2022-03-13T20:47:18.244Z"
   },
   {
    "duration": 9,
    "start_time": "2022-03-13T20:47:18.582Z"
   },
   {
    "duration": 12,
    "start_time": "2022-03-13T20:47:18.910Z"
   },
   {
    "duration": 23,
    "start_time": "2022-03-13T20:47:20.238Z"
   },
   {
    "duration": 30,
    "start_time": "2022-03-13T20:47:20.613Z"
   },
   {
    "duration": 3,
    "start_time": "2022-03-13T20:47:21.020Z"
   },
   {
    "duration": 567,
    "start_time": "2022-03-13T20:47:21.658Z"
   },
   {
    "duration": 7,
    "start_time": "2022-03-13T20:47:22.227Z"
   },
   {
    "duration": 5,
    "start_time": "2022-03-13T20:47:22.459Z"
   },
   {
    "duration": 22,
    "start_time": "2022-03-13T20:47:22.653Z"
   },
   {
    "duration": 8,
    "start_time": "2022-03-13T20:47:23.508Z"
   },
   {
    "duration": 367,
    "start_time": "2022-03-13T20:47:23.712Z"
   },
   {
    "duration": 8,
    "start_time": "2022-03-13T20:47:24.400Z"
   },
   {
    "duration": 5,
    "start_time": "2022-03-13T20:47:25.128Z"
   },
   {
    "duration": 351,
    "start_time": "2022-03-13T20:47:25.353Z"
   },
   {
    "duration": 10,
    "start_time": "2022-03-13T20:47:26.021Z"
   },
   {
    "duration": 326,
    "start_time": "2022-03-13T20:47:26.237Z"
   },
   {
    "duration": 9,
    "start_time": "2022-03-13T20:47:26.696Z"
   },
   {
    "duration": 198,
    "start_time": "2022-03-13T20:47:27.124Z"
   },
   {
    "duration": 11,
    "start_time": "2022-03-13T20:47:27.566Z"
   },
   {
    "duration": 223,
    "start_time": "2022-03-13T20:47:27.775Z"
   },
   {
    "duration": 247,
    "start_time": "2022-03-13T20:47:28.188Z"
   },
   {
    "duration": 425,
    "start_time": "2022-03-13T20:47:28.610Z"
   },
   {
    "duration": 443,
    "start_time": "2022-03-13T20:47:29.036Z"
   },
   {
    "duration": 424,
    "start_time": "2022-03-13T20:47:29.481Z"
   },
   {
    "duration": 313,
    "start_time": "2022-03-13T20:47:29.907Z"
   },
   {
    "duration": 308,
    "start_time": "2022-03-13T20:47:30.222Z"
   },
   {
    "duration": 7,
    "start_time": "2022-03-13T20:47:30.533Z"
   },
   {
    "duration": 263,
    "start_time": "2022-03-13T20:47:30.542Z"
   },
   {
    "duration": 375,
    "start_time": "2022-03-13T20:47:30.807Z"
   },
   {
    "duration": 8,
    "start_time": "2022-03-13T20:47:31.184Z"
   },
   {
    "duration": 8,
    "start_time": "2022-03-13T20:47:31.193Z"
   },
   {
    "duration": 116,
    "start_time": "2022-03-13T20:47:31.276Z"
   },
   {
    "duration": 117,
    "start_time": "2022-03-13T20:47:31.474Z"
   },
   {
    "duration": 194,
    "start_time": "2022-03-13T20:47:32.419Z"
   },
   {
    "duration": 6,
    "start_time": "2022-03-13T20:47:32.615Z"
   },
   {
    "duration": 26,
    "start_time": "2022-03-13T20:47:33.206Z"
   },
   {
    "duration": 175,
    "start_time": "2022-03-13T20:47:33.682Z"
   },
   {
    "duration": 17,
    "start_time": "2022-03-13T20:47:34.119Z"
   },
   {
    "duration": 10,
    "start_time": "2022-03-13T20:47:34.602Z"
   },
   {
    "duration": 152,
    "start_time": "2022-03-13T20:47:35.356Z"
   },
   {
    "duration": 160,
    "start_time": "2022-03-13T20:47:35.545Z"
   },
   {
    "duration": 501,
    "start_time": "2022-03-13T20:47:36.521Z"
   },
   {
    "duration": 5,
    "start_time": "2022-03-13T20:47:37.025Z"
   },
   {
    "duration": 169,
    "start_time": "2022-03-13T20:47:39.116Z"
   },
   {
    "duration": 156,
    "start_time": "2022-03-13T20:47:39.619Z"
   },
   {
    "duration": 180,
    "start_time": "2022-03-13T20:47:40.992Z"
   },
   {
    "duration": 194,
    "start_time": "2022-03-13T20:47:41.485Z"
   },
   {
    "duration": 173,
    "start_time": "2022-03-13T20:47:42.747Z"
   },
   {
    "duration": 171,
    "start_time": "2022-03-13T20:47:43.234Z"
   },
   {
    "duration": 25,
    "start_time": "2022-03-13T20:47:45.326Z"
   },
   {
    "duration": 833,
    "start_time": "2022-03-13T20:48:44.481Z"
   },
   {
    "duration": 24,
    "start_time": "2022-03-13T20:49:05.103Z"
   },
   {
    "duration": 22,
    "start_time": "2022-03-13T20:49:22.012Z"
   },
   {
    "duration": 11,
    "start_time": "2022-03-13T20:51:04.735Z"
   },
   {
    "duration": 6,
    "start_time": "2022-03-13T20:53:01.549Z"
   },
   {
    "duration": 6,
    "start_time": "2022-03-13T20:53:06.828Z"
   },
   {
    "duration": 6,
    "start_time": "2022-03-13T20:54:10.589Z"
   },
   {
    "duration": 6,
    "start_time": "2022-03-13T20:54:18.937Z"
   },
   {
    "duration": 13,
    "start_time": "2022-03-13T20:54:41.661Z"
   },
   {
    "duration": 23,
    "start_time": "2022-03-13T20:55:08.572Z"
   },
   {
    "duration": 9,
    "start_time": "2022-03-13T20:55:12.096Z"
   },
   {
    "duration": 5,
    "start_time": "2022-03-13T20:55:26.648Z"
   },
   {
    "duration": 29,
    "start_time": "2022-03-13T20:55:54.241Z"
   },
   {
    "duration": 6,
    "start_time": "2022-03-13T20:55:58.432Z"
   },
   {
    "duration": 6,
    "start_time": "2022-03-13T20:56:07.081Z"
   },
   {
    "duration": 9,
    "start_time": "2022-03-13T20:56:10.178Z"
   },
   {
    "duration": 7,
    "start_time": "2022-03-13T20:58:32.337Z"
   },
   {
    "duration": 8,
    "start_time": "2022-03-13T20:58:38.929Z"
   },
   {
    "duration": 5037,
    "start_time": "2022-03-13T20:59:22.834Z"
   },
   {
    "duration": 7,
    "start_time": "2022-03-13T20:59:42.217Z"
   },
   {
    "duration": 10,
    "start_time": "2022-03-13T20:59:50.188Z"
   },
   {
    "duration": 10,
    "start_time": "2022-03-13T21:00:48.361Z"
   },
   {
    "duration": 247,
    "start_time": "2022-03-13T21:05:23.535Z"
   },
   {
    "duration": 170,
    "start_time": "2022-03-13T21:05:38.949Z"
   },
   {
    "duration": 25,
    "start_time": "2022-03-13T21:06:37.366Z"
   },
   {
    "duration": 5,
    "start_time": "2022-03-13T21:08:13.389Z"
   },
   {
    "duration": 4,
    "start_time": "2022-03-13T21:09:01.055Z"
   },
   {
    "duration": 7,
    "start_time": "2022-03-13T21:09:14.210Z"
   },
   {
    "duration": 64,
    "start_time": "2022-03-13T21:09:25.473Z"
   },
   {
    "duration": 23,
    "start_time": "2022-03-13T21:09:25.819Z"
   },
   {
    "duration": 25,
    "start_time": "2022-03-13T21:09:26.004Z"
   },
   {
    "duration": 11,
    "start_time": "2022-03-13T21:09:26.172Z"
   },
   {
    "duration": 67,
    "start_time": "2022-03-13T21:09:26.366Z"
   },
   {
    "duration": 9,
    "start_time": "2022-03-13T21:09:26.531Z"
   },
   {
    "duration": 14,
    "start_time": "2022-03-13T21:09:27.865Z"
   },
   {
    "duration": 8,
    "start_time": "2022-03-13T21:09:28.255Z"
   },
   {
    "duration": 5,
    "start_time": "2022-03-13T21:09:28.647Z"
   },
   {
    "duration": 4,
    "start_time": "2022-03-13T21:09:28.886Z"
   },
   {
    "duration": 8,
    "start_time": "2022-03-13T21:09:29.372Z"
   },
   {
    "duration": 6,
    "start_time": "2022-03-13T21:09:29.568Z"
   },
   {
    "duration": 7,
    "start_time": "2022-03-13T21:09:29.747Z"
   },
   {
    "duration": 6,
    "start_time": "2022-03-13T21:09:29.943Z"
   },
   {
    "duration": 7,
    "start_time": "2022-03-13T21:09:30.145Z"
   },
   {
    "duration": 8,
    "start_time": "2022-03-13T21:09:30.333Z"
   },
   {
    "duration": 6,
    "start_time": "2022-03-13T21:09:30.982Z"
   },
   {
    "duration": 6,
    "start_time": "2022-03-13T21:09:31.285Z"
   },
   {
    "duration": 6,
    "start_time": "2022-03-13T21:09:31.871Z"
   },
   {
    "duration": 74,
    "start_time": "2022-03-13T21:09:32.074Z"
   },
   {
    "duration": 28,
    "start_time": "2022-03-13T21:09:32.270Z"
   },
   {
    "duration": 6,
    "start_time": "2022-03-13T21:09:32.643Z"
   },
   {
    "duration": 5,
    "start_time": "2022-03-13T21:09:32.829Z"
   },
   {
    "duration": 10,
    "start_time": "2022-03-13T21:09:33.081Z"
   },
   {
    "duration": 8,
    "start_time": "2022-03-13T21:09:33.227Z"
   },
   {
    "duration": 6,
    "start_time": "2022-03-13T21:09:33.805Z"
   },
   {
    "duration": 7,
    "start_time": "2022-03-13T21:09:34.578Z"
   },
   {
    "duration": 8,
    "start_time": "2022-03-13T21:09:34.998Z"
   },
   {
    "duration": 6,
    "start_time": "2022-03-13T21:09:35.599Z"
   },
   {
    "duration": 7,
    "start_time": "2022-03-13T21:09:35.800Z"
   },
   {
    "duration": 7,
    "start_time": "2022-03-13T21:09:36.227Z"
   },
   {
    "duration": 9,
    "start_time": "2022-03-13T21:09:36.798Z"
   },
   {
    "duration": 9,
    "start_time": "2022-03-13T21:09:37.275Z"
   },
   {
    "duration": 8,
    "start_time": "2022-03-13T21:09:37.429Z"
   },
   {
    "duration": 6,
    "start_time": "2022-03-13T21:09:37.645Z"
   },
   {
    "duration": 6,
    "start_time": "2022-03-13T21:09:38.325Z"
   },
   {
    "duration": 10,
    "start_time": "2022-03-13T21:09:38.679Z"
   },
   {
    "duration": 10,
    "start_time": "2022-03-13T21:09:39.093Z"
   },
   {
    "duration": 23,
    "start_time": "2022-03-13T21:09:40.158Z"
   },
   {
    "duration": 28,
    "start_time": "2022-03-13T21:09:40.586Z"
   },
   {
    "duration": 3,
    "start_time": "2022-03-13T21:09:41.007Z"
   },
   {
    "duration": 966,
    "start_time": "2022-03-13T21:09:41.468Z"
   },
   {
    "duration": 8,
    "start_time": "2022-03-13T21:09:42.436Z"
   },
   {
    "duration": 17,
    "start_time": "2022-03-13T21:09:42.446Z"
   },
   {
    "duration": 24,
    "start_time": "2022-03-13T21:09:42.517Z"
   },
   {
    "duration": 9,
    "start_time": "2022-03-13T21:09:43.323Z"
   },
   {
    "duration": 366,
    "start_time": "2022-03-13T21:09:43.567Z"
   },
   {
    "duration": 9,
    "start_time": "2022-03-13T21:09:44.487Z"
   },
   {
    "duration": 4,
    "start_time": "2022-03-13T21:09:45.161Z"
   },
   {
    "duration": 357,
    "start_time": "2022-03-13T21:09:45.400Z"
   },
   {
    "duration": 8,
    "start_time": "2022-03-13T21:09:46.061Z"
   },
   {
    "duration": 211,
    "start_time": "2022-03-13T21:09:46.271Z"
   },
   {
    "duration": 8,
    "start_time": "2022-03-13T21:09:46.712Z"
   },
   {
    "duration": 176,
    "start_time": "2022-03-13T21:09:47.122Z"
   },
   {
    "duration": 9,
    "start_time": "2022-03-13T21:09:47.560Z"
   },
   {
    "duration": 227,
    "start_time": "2022-03-13T21:09:47.760Z"
   },
   {
    "duration": 240,
    "start_time": "2022-03-13T21:09:48.183Z"
   },
   {
    "duration": 424,
    "start_time": "2022-03-13T21:09:48.612Z"
   },
   {
    "duration": 441,
    "start_time": "2022-03-13T21:09:49.043Z"
   },
   {
    "duration": 433,
    "start_time": "2022-03-13T21:09:49.486Z"
   },
   {
    "duration": 295,
    "start_time": "2022-03-13T21:09:49.921Z"
   },
   {
    "duration": 305,
    "start_time": "2022-03-13T21:09:50.218Z"
   },
   {
    "duration": 7,
    "start_time": "2022-03-13T21:09:50.525Z"
   },
   {
    "duration": 262,
    "start_time": "2022-03-13T21:09:50.534Z"
   },
   {
    "duration": 367,
    "start_time": "2022-03-13T21:09:50.798Z"
   },
   {
    "duration": 8,
    "start_time": "2022-03-13T21:09:51.168Z"
   },
   {
    "duration": 8,
    "start_time": "2022-03-13T21:09:51.177Z"
   },
   {
    "duration": 110,
    "start_time": "2022-03-13T21:09:51.255Z"
   },
   {
    "duration": 117,
    "start_time": "2022-03-13T21:09:51.469Z"
   },
   {
    "duration": 202,
    "start_time": "2022-03-13T21:09:52.609Z"
   },
   {
    "duration": 6,
    "start_time": "2022-03-13T21:09:52.874Z"
   },
   {
    "duration": 26,
    "start_time": "2022-03-13T21:09:53.532Z"
   },
   {
    "duration": 178,
    "start_time": "2022-03-13T21:09:53.943Z"
   },
   {
    "duration": 18,
    "start_time": "2022-03-13T21:09:54.447Z"
   },
   {
    "duration": 12,
    "start_time": "2022-03-13T21:09:54.890Z"
   },
   {
    "duration": 153,
    "start_time": "2022-03-13T21:09:55.556Z"
   },
   {
    "duration": 154,
    "start_time": "2022-03-13T21:09:55.766Z"
   },
   {
    "duration": 471,
    "start_time": "2022-03-13T21:09:56.449Z"
   },
   {
    "duration": 6,
    "start_time": "2022-03-13T21:09:56.923Z"
   },
   {
    "duration": 166,
    "start_time": "2022-03-13T21:09:57.738Z"
   },
   {
    "duration": 162,
    "start_time": "2022-03-13T21:09:57.972Z"
   },
   {
    "duration": 190,
    "start_time": "2022-03-13T21:09:58.940Z"
   },
   {
    "duration": 187,
    "start_time": "2022-03-13T21:09:59.166Z"
   },
   {
    "duration": 174,
    "start_time": "2022-03-13T21:09:59.817Z"
   },
   {
    "duration": 169,
    "start_time": "2022-03-13T21:10:00.051Z"
   },
   {
    "duration": 21,
    "start_time": "2022-03-13T21:10:01.000Z"
   },
   {
    "duration": 5,
    "start_time": "2022-03-13T21:10:01.476Z"
   },
   {
    "duration": 8,
    "start_time": "2022-03-13T21:10:01.706Z"
   },
   {
    "duration": 11,
    "start_time": "2022-03-13T21:10:02.446Z"
   },
   {
    "duration": 10,
    "start_time": "2022-03-13T21:10:02.813Z"
   },
   {
    "duration": 4,
    "start_time": "2022-03-13T21:10:03.585Z"
   },
   {
    "duration": 4,
    "start_time": "2022-03-13T21:10:04.020Z"
   },
   {
    "duration": 8,
    "start_time": "2022-03-13T21:10:04.564Z"
   },
   {
    "duration": 5,
    "start_time": "2022-03-13T21:10:38.662Z"
   },
   {
    "duration": 7,
    "start_time": "2022-03-13T21:10:39.293Z"
   },
   {
    "duration": 4,
    "start_time": "2022-03-13T21:10:52.895Z"
   },
   {
    "duration": 6,
    "start_time": "2022-03-13T21:10:53.295Z"
   },
   {
    "duration": 176,
    "start_time": "2022-03-13T21:13:22.136Z"
   },
   {
    "duration": 185,
    "start_time": "2022-03-13T21:13:34.765Z"
   },
   {
    "duration": 276,
    "start_time": "2022-03-13T21:17:53.392Z"
   },
   {
    "duration": 9,
    "start_time": "2022-03-13T21:18:05.352Z"
   },
   {
    "duration": 26,
    "start_time": "2022-03-13T21:21:24.193Z"
   },
   {
    "duration": 184,
    "start_time": "2022-03-13T21:21:50.601Z"
   },
   {
    "duration": 5,
    "start_time": "2022-03-13T21:22:40.056Z"
   },
   {
    "duration": 71,
    "start_time": "2022-03-13T21:24:39.897Z"
   },
   {
    "duration": 4,
    "start_time": "2022-03-13T21:26:02.278Z"
   },
   {
    "duration": 251,
    "start_time": "2022-03-13T21:28:07.897Z"
   },
   {
    "duration": 154,
    "start_time": "2022-03-13T21:28:49.237Z"
   },
   {
    "duration": 352,
    "start_time": "2022-03-13T21:30:23.313Z"
   },
   {
    "duration": 173,
    "start_time": "2022-03-13T21:32:41.677Z"
   },
   {
    "duration": 164,
    "start_time": "2022-03-13T21:32:44.893Z"
   },
   {
    "duration": 164,
    "start_time": "2022-03-13T21:32:56.075Z"
   },
   {
    "duration": 178,
    "start_time": "2022-03-13T21:33:03.007Z"
   },
   {
    "duration": 189,
    "start_time": "2022-03-13T21:33:08.541Z"
   },
   {
    "duration": 167,
    "start_time": "2022-03-13T21:33:13.726Z"
   },
   {
    "duration": 5324,
    "start_time": "2022-03-13T21:34:28.194Z"
   },
   {
    "duration": 164,
    "start_time": "2022-03-13T21:34:42.159Z"
   },
   {
    "duration": 185,
    "start_time": "2022-03-13T21:36:28.578Z"
   },
   {
    "duration": 196,
    "start_time": "2022-03-13T21:36:31.767Z"
   },
   {
    "duration": 173,
    "start_time": "2022-03-13T21:38:16.019Z"
   },
   {
    "duration": 175,
    "start_time": "2022-03-13T21:38:20.174Z"
   },
   {
    "duration": 258,
    "start_time": "2022-03-13T21:40:45.445Z"
   },
   {
    "duration": 181,
    "start_time": "2022-03-13T21:41:12.814Z"
   },
   {
    "duration": 71,
    "start_time": "2022-03-13T21:44:03.114Z"
   },
   {
    "duration": 26,
    "start_time": "2022-03-13T21:44:03.720Z"
   },
   {
    "duration": 24,
    "start_time": "2022-03-13T21:44:03.881Z"
   },
   {
    "duration": 13,
    "start_time": "2022-03-13T21:44:04.058Z"
   },
   {
    "duration": 70,
    "start_time": "2022-03-13T21:44:04.218Z"
   },
   {
    "duration": 10,
    "start_time": "2022-03-13T21:44:04.364Z"
   },
   {
    "duration": 15,
    "start_time": "2022-03-13T21:44:05.398Z"
   },
   {
    "duration": 8,
    "start_time": "2022-03-13T21:44:05.758Z"
   },
   {
    "duration": 6,
    "start_time": "2022-03-13T21:44:06.133Z"
   },
   {
    "duration": 5,
    "start_time": "2022-03-13T21:44:06.306Z"
   },
   {
    "duration": 7,
    "start_time": "2022-03-13T21:44:06.860Z"
   },
   {
    "duration": 7,
    "start_time": "2022-03-13T21:44:07.053Z"
   },
   {
    "duration": 6,
    "start_time": "2022-03-13T21:44:07.236Z"
   },
   {
    "duration": 6,
    "start_time": "2022-03-13T21:44:07.416Z"
   },
   {
    "duration": 7,
    "start_time": "2022-03-13T21:44:07.611Z"
   },
   {
    "duration": 8,
    "start_time": "2022-03-13T21:44:07.792Z"
   },
   {
    "duration": 6,
    "start_time": "2022-03-13T21:44:08.368Z"
   },
   {
    "duration": 6,
    "start_time": "2022-03-13T21:44:08.751Z"
   },
   {
    "duration": 7,
    "start_time": "2022-03-13T21:44:09.374Z"
   },
   {
    "duration": 68,
    "start_time": "2022-03-13T21:44:09.560Z"
   },
   {
    "duration": 29,
    "start_time": "2022-03-13T21:44:09.764Z"
   },
   {
    "duration": 6,
    "start_time": "2022-03-13T21:44:10.154Z"
   },
   {
    "duration": 4,
    "start_time": "2022-03-13T21:44:10.348Z"
   },
   {
    "duration": 10,
    "start_time": "2022-03-13T21:44:10.559Z"
   },
   {
    "duration": 10,
    "start_time": "2022-03-13T21:44:10.753Z"
   },
   {
    "duration": 6,
    "start_time": "2022-03-13T21:44:11.358Z"
   },
   {
    "duration": 7,
    "start_time": "2022-03-13T21:44:11.954Z"
   },
   {
    "duration": 9,
    "start_time": "2022-03-13T21:44:12.406Z"
   },
   {
    "duration": 7,
    "start_time": "2022-03-13T21:44:12.952Z"
   },
   {
    "duration": 7,
    "start_time": "2022-03-13T21:44:13.152Z"
   },
   {
    "duration": 7,
    "start_time": "2022-03-13T21:44:13.551Z"
   },
   {
    "duration": 9,
    "start_time": "2022-03-13T21:44:14.159Z"
   },
   {
    "duration": 10,
    "start_time": "2022-03-13T21:44:14.578Z"
   },
   {
    "duration": 9,
    "start_time": "2022-03-13T21:44:14.773Z"
   },
   {
    "duration": 6,
    "start_time": "2022-03-13T21:44:14.968Z"
   },
   {
    "duration": 6,
    "start_time": "2022-03-13T21:44:15.607Z"
   },
   {
    "duration": 9,
    "start_time": "2022-03-13T21:44:15.982Z"
   },
   {
    "duration": 12,
    "start_time": "2022-03-13T21:44:16.387Z"
   },
   {
    "duration": 25,
    "start_time": "2022-03-13T21:44:17.444Z"
   },
   {
    "duration": 30,
    "start_time": "2022-03-13T21:44:17.874Z"
   },
   {
    "duration": 3,
    "start_time": "2022-03-13T21:44:18.306Z"
   },
   {
    "duration": 1212,
    "start_time": "2022-03-13T21:44:18.713Z"
   },
   {
    "duration": 8,
    "start_time": "2022-03-13T21:44:19.927Z"
   },
   {
    "duration": 5,
    "start_time": "2022-03-13T21:44:19.937Z"
   },
   {
    "duration": 38,
    "start_time": "2022-03-13T21:44:19.944Z"
   },
   {
    "duration": 9,
    "start_time": "2022-03-13T21:44:20.563Z"
   },
   {
    "duration": 380,
    "start_time": "2022-03-13T21:44:20.793Z"
   },
   {
    "duration": 9,
    "start_time": "2022-03-13T21:44:21.398Z"
   },
   {
    "duration": 4,
    "start_time": "2022-03-13T21:44:22.039Z"
   },
   {
    "duration": 360,
    "start_time": "2022-03-13T21:44:22.236Z"
   },
   {
    "duration": 8,
    "start_time": "2022-03-13T21:44:22.891Z"
   },
   {
    "duration": 211,
    "start_time": "2022-03-13T21:44:23.046Z"
   },
   {
    "duration": 8,
    "start_time": "2022-03-13T21:44:23.473Z"
   },
   {
    "duration": 189,
    "start_time": "2022-03-13T21:44:23.940Z"
   },
   {
    "duration": 9,
    "start_time": "2022-03-13T21:44:24.320Z"
   },
   {
    "duration": 233,
    "start_time": "2022-03-13T21:44:24.516Z"
   },
   {
    "duration": 248,
    "start_time": "2022-03-13T21:44:24.989Z"
   },
   {
    "duration": 441,
    "start_time": "2022-03-13T21:44:25.386Z"
   },
   {
    "duration": 438,
    "start_time": "2022-03-13T21:44:25.829Z"
   },
   {
    "duration": 433,
    "start_time": "2022-03-13T21:44:26.269Z"
   },
   {
    "duration": 302,
    "start_time": "2022-03-13T21:44:26.704Z"
   },
   {
    "duration": 330,
    "start_time": "2022-03-13T21:44:27.008Z"
   },
   {
    "duration": 7,
    "start_time": "2022-03-13T21:44:27.340Z"
   },
   {
    "duration": 246,
    "start_time": "2022-03-13T21:44:27.388Z"
   },
   {
    "duration": 357,
    "start_time": "2022-03-13T21:44:28.236Z"
   },
   {
    "duration": 8,
    "start_time": "2022-03-13T21:44:29.182Z"
   },
   {
    "duration": 9,
    "start_time": "2022-03-13T21:44:30.007Z"
   },
   {
    "duration": 114,
    "start_time": "2022-03-13T21:44:30.231Z"
   },
   {
    "duration": 115,
    "start_time": "2022-03-13T21:44:30.418Z"
   },
   {
    "duration": 200,
    "start_time": "2022-03-13T21:44:31.334Z"
   },
   {
    "duration": 5,
    "start_time": "2022-03-13T21:44:31.571Z"
   },
   {
    "duration": 28,
    "start_time": "2022-03-13T21:44:32.229Z"
   },
   {
    "duration": 178,
    "start_time": "2022-03-13T21:44:32.669Z"
   },
   {
    "duration": 16,
    "start_time": "2022-03-13T21:44:33.111Z"
   },
   {
    "duration": 12,
    "start_time": "2022-03-13T21:44:33.531Z"
   },
   {
    "duration": 147,
    "start_time": "2022-03-13T21:44:34.199Z"
   },
   {
    "duration": 153,
    "start_time": "2022-03-13T21:44:34.426Z"
   },
   {
    "duration": 520,
    "start_time": "2022-03-13T21:44:35.182Z"
   },
   {
    "duration": 5,
    "start_time": "2022-03-13T21:44:35.894Z"
   },
   {
    "duration": 477,
    "start_time": "2022-03-13T21:44:46.545Z"
   },
   {
    "duration": 4,
    "start_time": "2022-03-13T21:44:47.025Z"
   },
   {
    "duration": 172,
    "start_time": "2022-03-13T21:44:47.931Z"
   },
   {
    "duration": 169,
    "start_time": "2022-03-13T21:44:48.145Z"
   },
   {
    "duration": 184,
    "start_time": "2022-03-13T21:44:48.817Z"
   },
   {
    "duration": 192,
    "start_time": "2022-03-13T21:44:49.019Z"
   },
   {
    "duration": 178,
    "start_time": "2022-03-13T21:44:49.626Z"
   },
   {
    "duration": 167,
    "start_time": "2022-03-13T21:44:49.820Z"
   },
   {
    "duration": 20,
    "start_time": "2022-03-13T21:44:51.404Z"
   },
   {
    "duration": 5,
    "start_time": "2022-03-13T21:44:51.826Z"
   },
   {
    "duration": 9,
    "start_time": "2022-03-13T21:44:51.996Z"
   },
   {
    "duration": 10,
    "start_time": "2022-03-13T21:44:52.417Z"
   },
   {
    "duration": 11,
    "start_time": "2022-03-13T21:44:52.814Z"
   },
   {
    "duration": 5,
    "start_time": "2022-03-13T21:44:53.399Z"
   },
   {
    "duration": 74,
    "start_time": "2022-03-13T21:44:53.923Z"
   },
   {
    "duration": 8,
    "start_time": "2022-03-13T21:44:54.047Z"
   },
   {
    "duration": 310,
    "start_time": "2022-03-13T21:44:54.247Z"
   },
   {
    "duration": 13,
    "start_time": "2022-03-13T21:44:54.971Z"
   },
   {
    "duration": 26,
    "start_time": "2022-03-13T21:44:56.017Z"
   },
   {
    "duration": 8,
    "start_time": "2022-03-13T21:45:26.229Z"
   },
   {
    "duration": 7,
    "start_time": "2022-03-13T21:45:27.068Z"
   },
   {
    "duration": 195,
    "start_time": "2022-03-13T21:45:28.052Z"
   },
   {
    "duration": 11,
    "start_time": "2022-03-13T21:45:31.118Z"
   },
   {
    "duration": 27,
    "start_time": "2022-03-13T21:45:32.446Z"
   },
   {
    "duration": 189,
    "start_time": "2022-03-13T21:45:33.146Z"
   },
   {
    "duration": 7,
    "start_time": "2022-03-13T21:45:35.650Z"
   },
   {
    "duration": 150,
    "start_time": "2022-03-13T21:45:38.116Z"
   },
   {
    "duration": 148,
    "start_time": "2022-03-13T21:45:38.799Z"
   },
   {
    "duration": 363,
    "start_time": "2022-03-13T21:45:40.734Z"
   },
   {
    "duration": 165,
    "start_time": "2022-03-13T21:45:45.414Z"
   },
   {
    "duration": 158,
    "start_time": "2022-03-13T21:45:49.088Z"
   },
   {
    "duration": 163,
    "start_time": "2022-03-13T21:45:56.745Z"
   },
   {
    "duration": 206,
    "start_time": "2022-03-13T21:46:03.084Z"
   },
   {
    "duration": 194,
    "start_time": "2022-03-13T21:46:04.359Z"
   },
   {
    "duration": 188,
    "start_time": "2022-03-13T21:46:14.680Z"
   },
   {
    "duration": 195,
    "start_time": "2022-03-13T21:47:01.893Z"
   },
   {
    "duration": 179,
    "start_time": "2022-03-13T21:47:03.873Z"
   },
   {
    "duration": 181,
    "start_time": "2022-03-13T21:47:12.910Z"
   },
   {
    "duration": 199,
    "start_time": "2022-03-13T21:48:25.970Z"
   },
   {
    "duration": 191,
    "start_time": "2022-03-13T21:48:38.915Z"
   },
   {
    "duration": 2003,
    "start_time": "2022-03-23T17:05:47.049Z"
   },
   {
    "duration": 51,
    "start_time": "2022-03-23T17:05:49.055Z"
   },
   {
    "duration": 57,
    "start_time": "2022-03-23T17:05:49.108Z"
   },
   {
    "duration": 30,
    "start_time": "2022-03-23T17:05:49.169Z"
   },
   {
    "duration": 167,
    "start_time": "2022-03-23T17:05:49.201Z"
   },
   {
    "duration": 17,
    "start_time": "2022-03-23T17:05:49.370Z"
   },
   {
    "duration": 133,
    "start_time": "2022-03-23T17:05:49.389Z"
   },
   {
    "duration": 19,
    "start_time": "2022-03-23T17:05:49.524Z"
   },
   {
    "duration": 8,
    "start_time": "2022-03-23T17:05:49.545Z"
   },
   {
    "duration": 8,
    "start_time": "2022-03-23T17:05:49.557Z"
   },
   {
    "duration": 10,
    "start_time": "2022-03-23T17:05:49.567Z"
   },
   {
    "duration": 9,
    "start_time": "2022-03-23T17:05:49.579Z"
   },
   {
    "duration": 62,
    "start_time": "2022-03-23T17:05:49.590Z"
   },
   {
    "duration": 8,
    "start_time": "2022-03-23T17:05:49.655Z"
   },
   {
    "duration": 9,
    "start_time": "2022-03-23T17:05:49.665Z"
   },
   {
    "duration": 9,
    "start_time": "2022-03-23T17:05:49.677Z"
   },
   {
    "duration": 7,
    "start_time": "2022-03-23T17:05:49.689Z"
   },
   {
    "duration": 50,
    "start_time": "2022-03-23T17:05:49.698Z"
   },
   {
    "duration": 9,
    "start_time": "2022-03-23T17:05:49.750Z"
   },
   {
    "duration": 201,
    "start_time": "2022-03-23T17:05:49.761Z"
   },
   {
    "duration": 0,
    "start_time": "2022-03-23T17:05:49.968Z"
   },
   {
    "duration": 0,
    "start_time": "2022-03-23T17:05:49.970Z"
   },
   {
    "duration": 0,
    "start_time": "2022-03-23T17:05:49.971Z"
   },
   {
    "duration": 0,
    "start_time": "2022-03-23T17:05:49.973Z"
   },
   {
    "duration": 0,
    "start_time": "2022-03-23T17:05:49.975Z"
   },
   {
    "duration": 0,
    "start_time": "2022-03-23T17:05:49.976Z"
   },
   {
    "duration": 0,
    "start_time": "2022-03-23T17:05:49.978Z"
   },
   {
    "duration": 0,
    "start_time": "2022-03-23T17:05:49.980Z"
   },
   {
    "duration": 0,
    "start_time": "2022-03-23T17:05:49.981Z"
   },
   {
    "duration": 0,
    "start_time": "2022-03-23T17:05:49.983Z"
   },
   {
    "duration": 0,
    "start_time": "2022-03-23T17:05:49.985Z"
   },
   {
    "duration": 0,
    "start_time": "2022-03-23T17:05:49.986Z"
   },
   {
    "duration": 0,
    "start_time": "2022-03-23T17:05:49.988Z"
   },
   {
    "duration": 0,
    "start_time": "2022-03-23T17:05:49.990Z"
   },
   {
    "duration": 0,
    "start_time": "2022-03-23T17:05:49.991Z"
   },
   {
    "duration": 0,
    "start_time": "2022-03-23T17:05:49.994Z"
   },
   {
    "duration": 0,
    "start_time": "2022-03-23T17:05:49.996Z"
   },
   {
    "duration": 0,
    "start_time": "2022-03-23T17:05:49.997Z"
   },
   {
    "duration": 0,
    "start_time": "2022-03-23T17:05:49.999Z"
   },
   {
    "duration": 0,
    "start_time": "2022-03-23T17:05:50.000Z"
   },
   {
    "duration": 0,
    "start_time": "2022-03-23T17:05:50.001Z"
   },
   {
    "duration": 1,
    "start_time": "2022-03-23T17:05:50.043Z"
   },
   {
    "duration": 0,
    "start_time": "2022-03-23T17:05:50.045Z"
   },
   {
    "duration": 0,
    "start_time": "2022-03-23T17:05:50.047Z"
   },
   {
    "duration": 0,
    "start_time": "2022-03-23T17:05:50.048Z"
   },
   {
    "duration": 1,
    "start_time": "2022-03-23T17:05:50.049Z"
   },
   {
    "duration": 0,
    "start_time": "2022-03-23T17:05:50.051Z"
   },
   {
    "duration": 0,
    "start_time": "2022-03-23T17:05:50.052Z"
   },
   {
    "duration": 0,
    "start_time": "2022-03-23T17:05:50.053Z"
   },
   {
    "duration": 0,
    "start_time": "2022-03-23T17:05:50.054Z"
   },
   {
    "duration": 0,
    "start_time": "2022-03-23T17:05:50.056Z"
   },
   {
    "duration": 0,
    "start_time": "2022-03-23T17:05:50.057Z"
   },
   {
    "duration": 0,
    "start_time": "2022-03-23T17:05:50.058Z"
   },
   {
    "duration": 0,
    "start_time": "2022-03-23T17:05:50.059Z"
   },
   {
    "duration": 0,
    "start_time": "2022-03-23T17:05:50.060Z"
   },
   {
    "duration": 0,
    "start_time": "2022-03-23T17:05:50.062Z"
   },
   {
    "duration": 0,
    "start_time": "2022-03-23T17:05:50.064Z"
   },
   {
    "duration": 0,
    "start_time": "2022-03-23T17:05:50.065Z"
   },
   {
    "duration": 0,
    "start_time": "2022-03-23T17:05:50.067Z"
   },
   {
    "duration": 0,
    "start_time": "2022-03-23T17:05:50.069Z"
   },
   {
    "duration": 0,
    "start_time": "2022-03-23T17:05:50.070Z"
   },
   {
    "duration": 0,
    "start_time": "2022-03-23T17:05:50.072Z"
   },
   {
    "duration": 0,
    "start_time": "2022-03-23T17:05:50.074Z"
   },
   {
    "duration": 0,
    "start_time": "2022-03-23T17:05:50.075Z"
   },
   {
    "duration": 0,
    "start_time": "2022-03-23T17:05:50.077Z"
   },
   {
    "duration": 0,
    "start_time": "2022-03-23T17:05:50.078Z"
   },
   {
    "duration": 0,
    "start_time": "2022-03-23T17:05:50.081Z"
   },
   {
    "duration": 0,
    "start_time": "2022-03-23T17:05:50.082Z"
   },
   {
    "duration": 0,
    "start_time": "2022-03-23T17:05:50.143Z"
   },
   {
    "duration": 0,
    "start_time": "2022-03-23T17:05:50.145Z"
   },
   {
    "duration": 0,
    "start_time": "2022-03-23T17:05:50.148Z"
   },
   {
    "duration": 0,
    "start_time": "2022-03-23T17:05:50.150Z"
   },
   {
    "duration": 0,
    "start_time": "2022-03-23T17:05:50.151Z"
   },
   {
    "duration": 0,
    "start_time": "2022-03-23T17:05:50.152Z"
   },
   {
    "duration": 0,
    "start_time": "2022-03-23T17:05:50.154Z"
   },
   {
    "duration": 0,
    "start_time": "2022-03-23T17:05:50.155Z"
   },
   {
    "duration": 0,
    "start_time": "2022-03-23T17:05:50.157Z"
   },
   {
    "duration": 0,
    "start_time": "2022-03-23T17:05:50.158Z"
   },
   {
    "duration": 0,
    "start_time": "2022-03-23T17:05:50.160Z"
   },
   {
    "duration": 0,
    "start_time": "2022-03-23T17:05:50.162Z"
   },
   {
    "duration": 0,
    "start_time": "2022-03-23T17:05:50.163Z"
   },
   {
    "duration": 0,
    "start_time": "2022-03-23T17:05:50.165Z"
   },
   {
    "duration": 0,
    "start_time": "2022-03-23T17:05:50.167Z"
   },
   {
    "duration": 0,
    "start_time": "2022-03-23T17:05:50.168Z"
   },
   {
    "duration": 0,
    "start_time": "2022-03-23T17:05:50.170Z"
   },
   {
    "duration": 0,
    "start_time": "2022-03-23T17:05:50.171Z"
   },
   {
    "duration": 0,
    "start_time": "2022-03-23T17:05:50.173Z"
   },
   {
    "duration": 0,
    "start_time": "2022-03-23T17:05:50.174Z"
   },
   {
    "duration": 0,
    "start_time": "2022-03-23T17:05:50.176Z"
   },
   {
    "duration": 0,
    "start_time": "2022-03-23T17:05:50.178Z"
   },
   {
    "duration": 1,
    "start_time": "2022-03-23T17:05:50.243Z"
   },
   {
    "duration": 0,
    "start_time": "2022-03-23T17:05:50.245Z"
   },
   {
    "duration": 0,
    "start_time": "2022-03-23T17:05:50.246Z"
   },
   {
    "duration": 0,
    "start_time": "2022-03-23T17:05:50.248Z"
   },
   {
    "duration": 0,
    "start_time": "2022-03-23T17:05:50.249Z"
   },
   {
    "duration": 0,
    "start_time": "2022-03-23T17:05:50.251Z"
   },
   {
    "duration": 0,
    "start_time": "2022-03-23T17:05:50.253Z"
   },
   {
    "duration": 0,
    "start_time": "2022-03-23T17:05:50.255Z"
   },
   {
    "duration": 0,
    "start_time": "2022-03-23T17:05:50.256Z"
   },
   {
    "duration": 0,
    "start_time": "2022-03-23T17:05:50.258Z"
   },
   {
    "duration": 0,
    "start_time": "2022-03-23T17:05:50.262Z"
   },
   {
    "duration": 0,
    "start_time": "2022-03-23T17:05:50.265Z"
   },
   {
    "duration": 0,
    "start_time": "2022-03-23T17:05:50.267Z"
   },
   {
    "duration": 0,
    "start_time": "2022-03-23T17:05:50.269Z"
   },
   {
    "duration": 0,
    "start_time": "2022-03-23T17:05:50.270Z"
   },
   {
    "duration": 0,
    "start_time": "2022-03-23T17:05:50.272Z"
   },
   {
    "duration": 0,
    "start_time": "2022-03-23T17:05:50.273Z"
   },
   {
    "duration": 1834,
    "start_time": "2022-03-23T17:10:08.913Z"
   },
   {
    "duration": 51,
    "start_time": "2022-03-23T17:10:10.749Z"
   },
   {
    "duration": 63,
    "start_time": "2022-03-23T17:10:10.802Z"
   },
   {
    "duration": 23,
    "start_time": "2022-03-23T17:10:10.868Z"
   },
   {
    "duration": 134,
    "start_time": "2022-03-23T17:10:10.894Z"
   },
   {
    "duration": 22,
    "start_time": "2022-03-23T17:10:11.030Z"
   },
   {
    "duration": 94,
    "start_time": "2022-03-23T17:10:11.055Z"
   },
   {
    "duration": 10,
    "start_time": "2022-03-23T17:10:11.151Z"
   },
   {
    "duration": 10,
    "start_time": "2022-03-23T17:10:11.164Z"
   },
   {
    "duration": 8,
    "start_time": "2022-03-23T17:10:11.178Z"
   },
   {
    "duration": 13,
    "start_time": "2022-03-23T17:10:11.188Z"
   },
   {
    "duration": 49,
    "start_time": "2022-03-23T17:10:11.203Z"
   },
   {
    "duration": 8,
    "start_time": "2022-03-23T17:10:11.254Z"
   },
   {
    "duration": 13,
    "start_time": "2022-03-23T17:10:11.264Z"
   },
   {
    "duration": 12,
    "start_time": "2022-03-23T17:10:11.279Z"
   },
   {
    "duration": 50,
    "start_time": "2022-03-23T17:10:11.293Z"
   },
   {
    "duration": 7,
    "start_time": "2022-03-23T17:10:11.346Z"
   },
   {
    "duration": 9,
    "start_time": "2022-03-23T17:10:11.356Z"
   },
   {
    "duration": 9,
    "start_time": "2022-03-23T17:10:11.368Z"
   },
   {
    "duration": 88,
    "start_time": "2022-03-23T17:10:11.379Z"
   },
   {
    "duration": 7,
    "start_time": "2022-03-23T17:10:11.471Z"
   },
   {
    "duration": 8,
    "start_time": "2022-03-23T17:10:11.480Z"
   },
   {
    "duration": 55,
    "start_time": "2022-03-23T17:10:11.490Z"
   },
   {
    "duration": 15,
    "start_time": "2022-03-23T17:10:11.547Z"
   },
   {
    "duration": 8,
    "start_time": "2022-03-23T17:10:11.565Z"
   },
   {
    "duration": 9,
    "start_time": "2022-03-23T17:10:11.575Z"
   },
   {
    "duration": 60,
    "start_time": "2022-03-23T17:10:11.587Z"
   },
   {
    "duration": 9,
    "start_time": "2022-03-23T17:10:11.655Z"
   },
   {
    "duration": 9,
    "start_time": "2022-03-23T17:10:11.666Z"
   },
   {
    "duration": 12,
    "start_time": "2022-03-23T17:10:11.677Z"
   },
   {
    "duration": 51,
    "start_time": "2022-03-23T17:10:11.692Z"
   },
   {
    "duration": 16,
    "start_time": "2022-03-23T17:10:11.746Z"
   },
   {
    "duration": 13,
    "start_time": "2022-03-23T17:10:11.765Z"
   },
   {
    "duration": 10,
    "start_time": "2022-03-23T17:10:11.781Z"
   },
   {
    "duration": 9,
    "start_time": "2022-03-23T17:10:11.793Z"
   },
   {
    "duration": 52,
    "start_time": "2022-03-23T17:10:11.805Z"
   },
   {
    "duration": 16,
    "start_time": "2022-03-23T17:10:11.860Z"
   },
   {
    "duration": 83,
    "start_time": "2022-03-23T17:10:11.879Z"
   },
   {
    "duration": 79,
    "start_time": "2022-03-23T17:10:11.965Z"
   },
   {
    "duration": 4,
    "start_time": "2022-03-23T17:10:12.047Z"
   },
   {
    "duration": 594,
    "start_time": "2022-03-23T17:10:12.053Z"
   },
   {
    "duration": 11,
    "start_time": "2022-03-23T17:10:12.649Z"
   },
   {
    "duration": 11,
    "start_time": "2022-03-23T17:10:12.661Z"
   },
   {
    "duration": 71,
    "start_time": "2022-03-23T17:10:12.674Z"
   },
   {
    "duration": 11,
    "start_time": "2022-03-23T17:10:12.747Z"
   },
   {
    "duration": 525,
    "start_time": "2022-03-23T17:10:12.760Z"
   },
   {
    "duration": 14,
    "start_time": "2022-03-23T17:10:13.288Z"
   },
   {
    "duration": 38,
    "start_time": "2022-03-23T17:10:13.305Z"
   },
   {
    "duration": 1539,
    "start_time": "2022-03-23T17:10:13.346Z"
   },
   {
    "duration": 68,
    "start_time": "2022-03-23T17:10:14.887Z"
   },
   {
    "duration": 706,
    "start_time": "2022-03-23T17:10:14.958Z"
   },
   {
    "duration": 18,
    "start_time": "2022-03-23T17:10:15.666Z"
   },
   {
    "duration": 776,
    "start_time": "2022-03-23T17:10:15.687Z"
   },
   {
    "duration": 16,
    "start_time": "2022-03-23T17:10:16.466Z"
   },
   {
    "duration": 969,
    "start_time": "2022-03-23T17:10:16.485Z"
   },
   {
    "duration": 341,
    "start_time": "2022-03-23T17:10:17.456Z"
   },
   {
    "duration": 531,
    "start_time": "2022-03-23T17:10:17.799Z"
   },
   {
    "duration": 614,
    "start_time": "2022-03-23T17:10:18.332Z"
   },
   {
    "duration": 514,
    "start_time": "2022-03-23T17:10:18.948Z"
   },
   {
    "duration": 352,
    "start_time": "2022-03-23T17:10:19.465Z"
   },
   {
    "duration": 471,
    "start_time": "2022-03-23T17:10:19.819Z"
   },
   {
    "duration": 10,
    "start_time": "2022-03-23T17:10:20.293Z"
   },
   {
    "duration": 351,
    "start_time": "2022-03-23T17:10:20.306Z"
   },
   {
    "duration": 474,
    "start_time": "2022-03-23T17:10:20.659Z"
   },
   {
    "duration": 13,
    "start_time": "2022-03-23T17:10:21.143Z"
   },
   {
    "duration": 15,
    "start_time": "2022-03-23T17:10:21.159Z"
   },
   {
    "duration": 177,
    "start_time": "2022-03-23T17:10:21.177Z"
   },
   {
    "duration": 153,
    "start_time": "2022-03-23T17:10:21.357Z"
   },
   {
    "duration": 249,
    "start_time": "2022-03-23T17:10:21.512Z"
   },
   {
    "duration": 6,
    "start_time": "2022-03-23T17:10:21.763Z"
   },
   {
    "duration": 38,
    "start_time": "2022-03-23T17:10:21.771Z"
   },
   {
    "duration": 289,
    "start_time": "2022-03-23T17:10:21.811Z"
   },
   {
    "duration": 21,
    "start_time": "2022-03-23T17:10:22.102Z"
   },
   {
    "duration": 14,
    "start_time": "2022-03-23T17:10:22.142Z"
   },
   {
    "duration": 218,
    "start_time": "2022-03-23T17:10:22.159Z"
   },
   {
    "duration": 230,
    "start_time": "2022-03-23T17:10:22.379Z"
   },
   {
    "duration": 309,
    "start_time": "2022-03-23T17:10:22.611Z"
   },
   {
    "duration": 21,
    "start_time": "2022-03-23T17:10:22.922Z"
   },
   {
    "duration": 252,
    "start_time": "2022-03-23T17:10:22.945Z"
   },
   {
    "duration": 224,
    "start_time": "2022-03-23T17:10:23.199Z"
   },
   {
    "duration": 278,
    "start_time": "2022-03-23T17:10:23.427Z"
   },
   {
    "duration": 460,
    "start_time": "2022-03-23T17:10:23.715Z"
   },
   {
    "duration": 251,
    "start_time": "2022-03-23T17:10:24.178Z"
   },
   {
    "duration": 230,
    "start_time": "2022-03-23T17:10:24.431Z"
   },
   {
    "duration": 27,
    "start_time": "2022-03-23T17:10:24.664Z"
   },
   {
    "duration": 7,
    "start_time": "2022-03-23T17:10:24.693Z"
   },
   {
    "duration": 13,
    "start_time": "2022-03-23T17:10:24.702Z"
   },
   {
    "duration": 15,
    "start_time": "2022-03-23T17:10:24.744Z"
   },
   {
    "duration": 19,
    "start_time": "2022-03-23T17:10:24.762Z"
   },
   {
    "duration": 7,
    "start_time": "2022-03-23T17:10:24.785Z"
   },
   {
    "duration": 12,
    "start_time": "2022-03-23T17:10:24.795Z"
   },
   {
    "duration": 42,
    "start_time": "2022-03-23T17:10:24.809Z"
   },
   {
    "duration": 265,
    "start_time": "2022-03-23T17:10:24.853Z"
   },
   {
    "duration": 22,
    "start_time": "2022-03-23T17:10:25.121Z"
   },
   {
    "duration": 37,
    "start_time": "2022-03-23T17:10:25.145Z"
   },
   {
    "duration": 280,
    "start_time": "2022-03-23T17:10:25.184Z"
   },
   {
    "duration": 6,
    "start_time": "2022-03-23T17:10:25.467Z"
   },
   {
    "duration": 295,
    "start_time": "2022-03-23T17:10:25.475Z"
   },
   {
    "duration": 214,
    "start_time": "2022-03-23T17:10:25.773Z"
   },
   {
    "duration": 272,
    "start_time": "2022-03-23T17:10:25.989Z"
   },
   {
    "duration": 336,
    "start_time": "2022-03-23T17:10:26.264Z"
   },
   {
    "duration": 259,
    "start_time": "2022-03-23T17:10:26.603Z"
   },
   {
    "duration": 279,
    "start_time": "2022-03-23T17:10:26.864Z"
   },
   {
    "duration": 272,
    "start_time": "2022-03-23T17:10:27.145Z"
   },
   {
    "duration": 279,
    "start_time": "2022-03-23T17:10:27.419Z"
   },
   {
    "duration": 263,
    "start_time": "2022-03-23T17:10:27.701Z"
   },
   {
    "duration": 114,
    "start_time": "2022-03-23T17:14:46.505Z"
   },
   {
    "duration": 67,
    "start_time": "2022-03-23T17:14:46.623Z"
   },
   {
    "duration": 77,
    "start_time": "2022-03-23T17:14:46.692Z"
   },
   {
    "duration": 21,
    "start_time": "2022-03-23T17:14:46.772Z"
   },
   {
    "duration": 148,
    "start_time": "2022-03-23T17:14:46.795Z"
   },
   {
    "duration": 20,
    "start_time": "2022-03-23T17:14:46.945Z"
   },
   {
    "duration": 23,
    "start_time": "2022-03-23T17:14:46.971Z"
   },
   {
    "duration": 9,
    "start_time": "2022-03-23T17:14:46.997Z"
   },
   {
    "duration": 41,
    "start_time": "2022-03-23T17:14:47.008Z"
   },
   {
    "duration": 9,
    "start_time": "2022-03-23T17:14:47.055Z"
   },
   {
    "duration": 14,
    "start_time": "2022-03-23T17:14:47.066Z"
   },
   {
    "duration": 9,
    "start_time": "2022-03-23T17:14:47.082Z"
   },
   {
    "duration": 8,
    "start_time": "2022-03-23T17:14:47.093Z"
   },
   {
    "duration": 46,
    "start_time": "2022-03-23T17:14:47.103Z"
   },
   {
    "duration": 9,
    "start_time": "2022-03-23T17:14:47.152Z"
   },
   {
    "duration": 10,
    "start_time": "2022-03-23T17:14:47.163Z"
   },
   {
    "duration": 8,
    "start_time": "2022-03-23T17:14:47.175Z"
   },
   {
    "duration": 60,
    "start_time": "2022-03-23T17:14:47.185Z"
   },
   {
    "duration": 9,
    "start_time": "2022-03-23T17:14:47.247Z"
   },
   {
    "duration": 53,
    "start_time": "2022-03-23T17:14:47.258Z"
   },
   {
    "duration": 34,
    "start_time": "2022-03-23T17:14:47.313Z"
   },
   {
    "duration": 8,
    "start_time": "2022-03-23T17:14:47.350Z"
   },
   {
    "duration": 14,
    "start_time": "2022-03-23T17:14:47.361Z"
   },
   {
    "duration": 13,
    "start_time": "2022-03-23T17:14:47.377Z"
   },
   {
    "duration": 52,
    "start_time": "2022-03-23T17:14:47.392Z"
   },
   {
    "duration": 9,
    "start_time": "2022-03-23T17:14:47.447Z"
   },
   {
    "duration": 184,
    "start_time": "2022-03-23T17:15:09.601Z"
   },
   {
    "duration": 7,
    "start_time": "2022-03-23T17:15:11.965Z"
   },
   {
    "duration": 16,
    "start_time": "2022-03-23T17:24:37.416Z"
   },
   {
    "duration": 11,
    "start_time": "2022-03-23T17:24:55.816Z"
   },
   {
    "duration": 8,
    "start_time": "2022-03-23T17:31:02.382Z"
   },
   {
    "duration": 636,
    "start_time": "2022-03-23T17:39:00.186Z"
   },
   {
    "duration": 45,
    "start_time": "2022-03-23T17:39:00.825Z"
   },
   {
    "duration": 46,
    "start_time": "2022-03-23T17:39:00.873Z"
   },
   {
    "duration": 39,
    "start_time": "2022-03-23T17:39:00.922Z"
   },
   {
    "duration": 120,
    "start_time": "2022-03-23T17:39:00.964Z"
   },
   {
    "duration": 13,
    "start_time": "2022-03-23T17:39:01.086Z"
   },
   {
    "duration": 42,
    "start_time": "2022-03-23T17:39:01.102Z"
   },
   {
    "duration": 9,
    "start_time": "2022-03-23T17:39:01.147Z"
   },
   {
    "duration": 19,
    "start_time": "2022-03-23T17:39:01.159Z"
   },
   {
    "duration": 13,
    "start_time": "2022-03-23T17:39:01.183Z"
   },
   {
    "duration": 18,
    "start_time": "2022-03-23T17:39:01.199Z"
   },
   {
    "duration": 11,
    "start_time": "2022-03-23T17:39:01.244Z"
   },
   {
    "duration": 33,
    "start_time": "2022-03-23T17:39:01.257Z"
   },
   {
    "duration": 23,
    "start_time": "2022-03-23T17:39:01.292Z"
   },
   {
    "duration": 33,
    "start_time": "2022-03-23T17:39:01.317Z"
   },
   {
    "duration": 18,
    "start_time": "2022-03-23T17:39:01.353Z"
   },
   {
    "duration": 31,
    "start_time": "2022-03-23T17:39:01.374Z"
   },
   {
    "duration": 24,
    "start_time": "2022-03-23T17:39:01.407Z"
   },
   {
    "duration": 15,
    "start_time": "2022-03-23T17:39:01.433Z"
   },
   {
    "duration": 56,
    "start_time": "2022-03-23T17:39:01.450Z"
   },
   {
    "duration": 7,
    "start_time": "2022-03-23T17:39:01.508Z"
   },
   {
    "duration": 27,
    "start_time": "2022-03-23T17:39:01.517Z"
   },
   {
    "duration": 25,
    "start_time": "2022-03-23T17:39:01.546Z"
   },
   {
    "duration": 23,
    "start_time": "2022-03-23T17:39:01.573Z"
   },
   {
    "duration": 16,
    "start_time": "2022-03-23T17:39:01.598Z"
   },
   {
    "duration": 20,
    "start_time": "2022-03-23T17:39:01.616Z"
   },
   {
    "duration": 23,
    "start_time": "2022-03-23T17:39:01.643Z"
   },
   {
    "duration": 16,
    "start_time": "2022-03-23T17:39:01.672Z"
   },
   {
    "duration": 8,
    "start_time": "2022-03-23T17:39:01.691Z"
   },
   {
    "duration": 14,
    "start_time": "2022-03-23T17:39:01.701Z"
   },
   {
    "duration": 33,
    "start_time": "2022-03-23T17:39:01.717Z"
   },
   {
    "duration": 12,
    "start_time": "2022-03-23T17:39:01.752Z"
   },
   {
    "duration": 20,
    "start_time": "2022-03-23T17:39:01.766Z"
   },
   {
    "duration": 10,
    "start_time": "2022-03-23T17:39:01.788Z"
   },
   {
    "duration": 12,
    "start_time": "2022-03-23T17:39:01.800Z"
   },
   {
    "duration": 36,
    "start_time": "2022-03-23T17:39:01.815Z"
   },
   {
    "duration": 16,
    "start_time": "2022-03-23T17:39:01.854Z"
   },
   {
    "duration": 41,
    "start_time": "2022-03-23T17:39:01.872Z"
   },
   {
    "duration": 75,
    "start_time": "2022-03-23T17:39:01.916Z"
   },
   {
    "duration": 4,
    "start_time": "2022-03-23T17:39:01.993Z"
   },
   {
    "duration": 753,
    "start_time": "2022-03-23T17:39:01.999Z"
   },
   {
    "duration": 13,
    "start_time": "2022-03-23T17:39:02.754Z"
   },
   {
    "duration": 14,
    "start_time": "2022-03-23T17:39:02.771Z"
   },
   {
    "duration": 81,
    "start_time": "2022-03-23T17:39:02.788Z"
   },
   {
    "duration": 12,
    "start_time": "2022-03-23T17:39:02.871Z"
   },
   {
    "duration": 507,
    "start_time": "2022-03-23T17:39:02.886Z"
   },
   {
    "duration": 12,
    "start_time": "2022-03-23T17:39:03.396Z"
   },
   {
    "duration": 17,
    "start_time": "2022-03-23T17:39:03.410Z"
   },
   {
    "duration": 694,
    "start_time": "2022-03-23T17:39:03.429Z"
   },
   {
    "duration": 22,
    "start_time": "2022-03-23T17:39:04.126Z"
   },
   {
    "duration": 400,
    "start_time": "2022-03-23T17:39:04.151Z"
   },
   {
    "duration": 14,
    "start_time": "2022-03-23T17:39:04.554Z"
   },
   {
    "duration": 346,
    "start_time": "2022-03-23T17:39:04.570Z"
   },
   {
    "duration": 26,
    "start_time": "2022-03-23T17:39:04.918Z"
   },
   {
    "duration": 300,
    "start_time": "2022-03-23T17:39:04.946Z"
   },
   {
    "duration": 325,
    "start_time": "2022-03-23T17:39:05.248Z"
   },
   {
    "duration": 525,
    "start_time": "2022-03-23T17:39:05.576Z"
   },
   {
    "duration": 611,
    "start_time": "2022-03-23T17:39:06.104Z"
   },
   {
    "duration": 507,
    "start_time": "2022-03-23T17:39:06.717Z"
   },
   {
    "duration": 563,
    "start_time": "2022-03-23T17:39:07.227Z"
   },
   {
    "duration": 357,
    "start_time": "2022-03-23T17:39:07.792Z"
   },
   {
    "duration": 8,
    "start_time": "2022-03-23T17:39:08.152Z"
   },
   {
    "duration": 5,
    "start_time": "2022-03-23T17:39:19.718Z"
   },
   {
    "duration": 446,
    "start_time": "2022-03-23T17:39:20.726Z"
   },
   {
    "duration": 6,
    "start_time": "2022-03-23T17:39:25.078Z"
   },
   {
    "duration": 21,
    "start_time": "2022-03-23T17:46:22.004Z"
   },
   {
    "duration": 18,
    "start_time": "2022-03-23T17:50:50.493Z"
   },
   {
    "duration": 19,
    "start_time": "2022-03-23T17:51:00.365Z"
   },
   {
    "duration": 12,
    "start_time": "2022-03-23T17:57:52.682Z"
   },
   {
    "duration": 7,
    "start_time": "2022-03-23T17:57:57.414Z"
   },
   {
    "duration": 7,
    "start_time": "2022-03-23T17:58:21.565Z"
   },
   {
    "duration": 8,
    "start_time": "2022-03-23T17:59:32.942Z"
   },
   {
    "duration": 7,
    "start_time": "2022-03-23T17:59:34.318Z"
   },
   {
    "duration": 10,
    "start_time": "2022-03-23T18:06:21.989Z"
   },
   {
    "duration": 1970,
    "start_time": "2022-03-23T18:23:09.488Z"
   },
   {
    "duration": 83,
    "start_time": "2022-03-23T18:23:11.462Z"
   },
   {
    "duration": 69,
    "start_time": "2022-03-23T18:23:11.548Z"
   },
   {
    "duration": 40,
    "start_time": "2022-03-23T18:23:11.620Z"
   },
   {
    "duration": 114,
    "start_time": "2022-03-23T18:23:11.662Z"
   },
   {
    "duration": 12,
    "start_time": "2022-03-23T18:23:11.778Z"
   },
   {
    "duration": 99,
    "start_time": "2022-03-23T18:23:11.792Z"
   },
   {
    "duration": 9,
    "start_time": "2022-03-23T18:23:11.894Z"
   },
   {
    "duration": 11,
    "start_time": "2022-03-23T18:23:11.905Z"
   },
   {
    "duration": 24,
    "start_time": "2022-03-23T18:23:11.920Z"
   },
   {
    "duration": 13,
    "start_time": "2022-03-23T18:23:11.947Z"
   },
   {
    "duration": 8,
    "start_time": "2022-03-23T18:23:11.963Z"
   },
   {
    "duration": 11,
    "start_time": "2022-03-23T18:23:11.973Z"
   },
   {
    "duration": 8,
    "start_time": "2022-03-23T18:23:11.987Z"
   },
   {
    "duration": 11,
    "start_time": "2022-03-23T18:23:12.042Z"
   },
   {
    "duration": 11,
    "start_time": "2022-03-23T18:23:12.057Z"
   },
   {
    "duration": 9,
    "start_time": "2022-03-23T18:23:12.071Z"
   },
   {
    "duration": 10,
    "start_time": "2022-03-23T18:23:12.082Z"
   },
   {
    "duration": 9,
    "start_time": "2022-03-23T18:23:12.142Z"
   },
   {
    "duration": 53,
    "start_time": "2022-03-23T18:23:12.153Z"
   },
   {
    "duration": 35,
    "start_time": "2022-03-23T18:23:12.208Z"
   },
   {
    "duration": 7,
    "start_time": "2022-03-23T18:23:12.245Z"
   },
   {
    "duration": 14,
    "start_time": "2022-03-23T18:23:12.254Z"
   },
   {
    "duration": 11,
    "start_time": "2022-03-23T18:23:12.270Z"
   },
   {
    "duration": 7,
    "start_time": "2022-03-23T18:23:12.284Z"
   },
   {
    "duration": 9,
    "start_time": "2022-03-23T18:23:12.343Z"
   },
   {
    "duration": 12,
    "start_time": "2022-03-23T18:23:12.354Z"
   },
   {
    "duration": 9,
    "start_time": "2022-03-23T18:23:12.375Z"
   },
   {
    "duration": 58,
    "start_time": "2022-03-23T18:23:12.386Z"
   },
   {
    "duration": 11,
    "start_time": "2022-03-23T18:23:12.447Z"
   },
   {
    "duration": 13,
    "start_time": "2022-03-23T18:23:12.460Z"
   },
   {
    "duration": 13,
    "start_time": "2022-03-23T18:23:12.475Z"
   },
   {
    "duration": 57,
    "start_time": "2022-03-23T18:23:12.491Z"
   },
   {
    "duration": 10,
    "start_time": "2022-03-23T18:23:12.550Z"
   },
   {
    "duration": 9,
    "start_time": "2022-03-23T18:23:12.562Z"
   },
   {
    "duration": 18,
    "start_time": "2022-03-23T18:23:12.573Z"
   },
   {
    "duration": 15,
    "start_time": "2022-03-23T18:23:12.593Z"
   },
   {
    "duration": 71,
    "start_time": "2022-03-23T18:23:12.610Z"
   },
   {
    "duration": 74,
    "start_time": "2022-03-23T18:23:12.683Z"
   },
   {
    "duration": 4,
    "start_time": "2022-03-23T18:23:12.760Z"
   },
   {
    "duration": 598,
    "start_time": "2022-03-23T18:23:12.766Z"
   },
   {
    "duration": 11,
    "start_time": "2022-03-23T18:23:13.367Z"
   },
   {
    "duration": 8,
    "start_time": "2022-03-23T18:23:13.380Z"
   },
   {
    "duration": 68,
    "start_time": "2022-03-23T18:23:13.391Z"
   },
   {
    "duration": 12,
    "start_time": "2022-03-23T18:23:13.462Z"
   },
   {
    "duration": 524,
    "start_time": "2022-03-23T18:23:13.476Z"
   },
   {
    "duration": 11,
    "start_time": "2022-03-23T18:23:14.002Z"
   },
   {
    "duration": 27,
    "start_time": "2022-03-23T18:23:14.015Z"
   },
   {
    "duration": 450,
    "start_time": "2022-03-23T18:23:14.045Z"
   },
   {
    "duration": 10,
    "start_time": "2022-03-23T18:23:14.497Z"
   },
   {
    "duration": 374,
    "start_time": "2022-03-23T18:23:14.510Z"
   },
   {
    "duration": 14,
    "start_time": "2022-03-23T18:23:14.887Z"
   },
   {
    "duration": 265,
    "start_time": "2022-03-23T18:23:14.904Z"
   },
   {
    "duration": 13,
    "start_time": "2022-03-23T18:23:15.172Z"
   },
   {
    "duration": 324,
    "start_time": "2022-03-23T18:23:15.188Z"
   },
   {
    "duration": 316,
    "start_time": "2022-03-23T18:23:15.524Z"
   },
   {
    "duration": 519,
    "start_time": "2022-03-23T18:23:15.842Z"
   },
   {
    "duration": 515,
    "start_time": "2022-03-23T18:23:16.364Z"
   },
   {
    "duration": 503,
    "start_time": "2022-03-23T18:23:16.882Z"
   },
   {
    "duration": 342,
    "start_time": "2022-03-23T18:23:17.387Z"
   },
   {
    "duration": 465,
    "start_time": "2022-03-23T18:23:17.731Z"
   },
   {
    "duration": 9,
    "start_time": "2022-03-23T18:23:18.198Z"
   },
   {
    "duration": 326,
    "start_time": "2022-03-23T18:23:18.209Z"
   },
   {
    "duration": 468,
    "start_time": "2022-03-23T18:23:18.537Z"
   },
   {
    "duration": 12,
    "start_time": "2022-03-23T18:23:19.007Z"
   },
   {
    "duration": 29,
    "start_time": "2022-03-23T18:23:19.021Z"
   },
   {
    "duration": 159,
    "start_time": "2022-03-23T18:23:19.052Z"
   },
   {
    "duration": 155,
    "start_time": "2022-03-23T18:23:19.215Z"
   },
   {
    "duration": 254,
    "start_time": "2022-03-23T18:23:19.373Z"
   },
   {
    "duration": 15,
    "start_time": "2022-03-23T18:23:19.630Z"
   },
   {
    "duration": 38,
    "start_time": "2022-03-23T18:23:19.648Z"
   },
   {
    "duration": 267,
    "start_time": "2022-03-23T18:23:19.689Z"
   },
   {
    "duration": 22,
    "start_time": "2022-03-23T18:23:19.958Z"
   },
   {
    "duration": 14,
    "start_time": "2022-03-23T18:23:19.982Z"
   },
   {
    "duration": 226,
    "start_time": "2022-03-23T18:23:19.998Z"
   },
   {
    "duration": 225,
    "start_time": "2022-03-23T18:23:20.226Z"
   },
   {
    "duration": 314,
    "start_time": "2022-03-23T18:23:20.453Z"
   },
   {
    "duration": 7,
    "start_time": "2022-03-23T18:23:20.769Z"
   },
   {
    "duration": 256,
    "start_time": "2022-03-23T18:23:20.778Z"
   },
   {
    "duration": 227,
    "start_time": "2022-03-23T18:23:21.042Z"
   },
   {
    "duration": 273,
    "start_time": "2022-03-23T18:23:21.272Z"
   },
   {
    "duration": 403,
    "start_time": "2022-03-23T18:23:21.554Z"
   },
   {
    "duration": 235,
    "start_time": "2022-03-23T18:23:21.959Z"
   },
   {
    "duration": 226,
    "start_time": "2022-03-23T18:23:22.197Z"
   },
   {
    "duration": 30,
    "start_time": "2022-03-23T18:23:22.425Z"
   },
   {
    "duration": 7,
    "start_time": "2022-03-23T18:23:22.457Z"
   },
   {
    "duration": 13,
    "start_time": "2022-03-23T18:23:22.466Z"
   },
   {
    "duration": 14,
    "start_time": "2022-03-23T18:23:22.482Z"
   },
   {
    "duration": 54,
    "start_time": "2022-03-23T18:23:22.499Z"
   },
   {
    "duration": 6,
    "start_time": "2022-03-23T18:23:22.556Z"
   },
   {
    "duration": 12,
    "start_time": "2022-03-23T18:23:22.565Z"
   },
   {
    "duration": 9,
    "start_time": "2022-03-23T18:23:22.580Z"
   },
   {
    "duration": 274,
    "start_time": "2022-03-23T18:23:22.591Z"
   },
   {
    "duration": 14,
    "start_time": "2022-03-23T18:23:22.867Z"
   },
   {
    "duration": 35,
    "start_time": "2022-03-23T18:23:22.883Z"
   },
   {
    "duration": 248,
    "start_time": "2022-03-23T18:23:22.943Z"
   },
   {
    "duration": 8,
    "start_time": "2022-03-23T18:23:23.195Z"
   },
   {
    "duration": 240,
    "start_time": "2022-03-23T18:23:23.205Z"
   },
   {
    "duration": 201,
    "start_time": "2022-03-23T18:23:23.448Z"
   },
   {
    "duration": 264,
    "start_time": "2022-03-23T18:23:23.651Z"
   },
   {
    "duration": 258,
    "start_time": "2022-03-23T18:23:23.917Z"
   },
   {
    "duration": 237,
    "start_time": "2022-03-23T18:23:24.177Z"
   },
   {
    "duration": 284,
    "start_time": "2022-03-23T18:23:24.417Z"
   },
   {
    "duration": 281,
    "start_time": "2022-03-23T18:23:24.704Z"
   },
   {
    "duration": 267,
    "start_time": "2022-03-23T18:23:24.987Z"
   },
   {
    "duration": 262,
    "start_time": "2022-03-23T18:23:25.257Z"
   },
   {
    "duration": 49,
    "start_time": "2022-03-27T06:33:46.047Z"
   },
   {
    "duration": 1391,
    "start_time": "2022-03-27T06:33:53.473Z"
   },
   {
    "duration": 30,
    "start_time": "2022-03-27T06:33:54.866Z"
   },
   {
    "duration": 26,
    "start_time": "2022-03-27T06:33:54.898Z"
   },
   {
    "duration": 14,
    "start_time": "2022-03-27T06:33:54.926Z"
   },
   {
    "duration": 80,
    "start_time": "2022-03-27T06:33:54.942Z"
   },
   {
    "duration": 8,
    "start_time": "2022-03-27T06:33:55.024Z"
   },
   {
    "duration": 46,
    "start_time": "2022-03-27T06:33:55.644Z"
   },
   {
    "duration": 7,
    "start_time": "2022-03-27T06:33:55.993Z"
   },
   {
    "duration": 5,
    "start_time": "2022-03-27T06:33:56.321Z"
   },
   {
    "duration": 5,
    "start_time": "2022-03-27T06:33:56.477Z"
   },
   {
    "duration": 6,
    "start_time": "2022-03-27T06:33:57.007Z"
   },
   {
    "duration": 6,
    "start_time": "2022-03-27T06:33:57.175Z"
   },
   {
    "duration": 6,
    "start_time": "2022-03-27T06:33:57.344Z"
   },
   {
    "duration": 6,
    "start_time": "2022-03-27T06:33:57.513Z"
   },
   {
    "duration": 6,
    "start_time": "2022-03-27T06:33:57.692Z"
   },
   {
    "duration": 7,
    "start_time": "2022-03-27T06:33:57.884Z"
   },
   {
    "duration": 7,
    "start_time": "2022-03-27T06:33:58.392Z"
   },
   {
    "duration": 7,
    "start_time": "2022-03-27T06:33:58.793Z"
   },
   {
    "duration": 6,
    "start_time": "2022-03-27T06:33:59.505Z"
   },
   {
    "duration": 30,
    "start_time": "2022-03-27T06:33:59.898Z"
   },
   {
    "duration": 6,
    "start_time": "2022-03-27T06:34:00.259Z"
   },
   {
    "duration": 5,
    "start_time": "2022-03-27T06:34:00.447Z"
   },
   {
    "duration": 10,
    "start_time": "2022-03-27T06:34:00.639Z"
   },
   {
    "duration": 8,
    "start_time": "2022-03-27T06:34:00.819Z"
   },
   {
    "duration": 5,
    "start_time": "2022-03-27T06:34:01.360Z"
   },
   {
    "duration": 6,
    "start_time": "2022-03-27T06:34:02.104Z"
   },
   {
    "duration": 8,
    "start_time": "2022-03-27T06:34:02.475Z"
   },
   {
    "duration": 7,
    "start_time": "2022-03-27T06:34:03.217Z"
   },
   {
    "duration": 7,
    "start_time": "2022-03-27T06:34:03.396Z"
   },
   {
    "duration": 8,
    "start_time": "2022-03-27T06:34:03.935Z"
   },
   {
    "duration": 7,
    "start_time": "2022-03-27T06:34:04.713Z"
   },
   {
    "duration": 7,
    "start_time": "2022-03-27T06:34:05.096Z"
   },
   {
    "duration": 7,
    "start_time": "2022-03-27T06:34:05.491Z"
   },
   {
    "duration": 5,
    "start_time": "2022-03-27T06:34:05.668Z"
   },
   {
    "duration": 5,
    "start_time": "2022-03-27T06:34:06.244Z"
   },
   {
    "duration": 9,
    "start_time": "2022-03-27T06:34:06.602Z"
   },
   {
    "duration": 9,
    "start_time": "2022-03-27T06:34:06.976Z"
   },
   {
    "duration": 28,
    "start_time": "2022-03-27T06:34:08.134Z"
   },
   {
    "duration": 28,
    "start_time": "2022-03-27T06:34:10.300Z"
   },
   {
    "duration": 3,
    "start_time": "2022-03-27T06:34:10.330Z"
   },
   {
    "duration": 325,
    "start_time": "2022-03-27T06:34:10.334Z"
   },
   {
    "duration": 7,
    "start_time": "2022-03-27T06:34:10.661Z"
   },
   {
    "duration": 14,
    "start_time": "2022-03-27T06:34:10.670Z"
   },
   {
    "duration": 24,
    "start_time": "2022-03-27T06:34:10.685Z"
   },
   {
    "duration": 8,
    "start_time": "2022-03-27T06:34:12.081Z"
   },
   {
    "duration": 271,
    "start_time": "2022-03-27T06:34:12.091Z"
   },
   {
    "duration": 8,
    "start_time": "2022-03-27T06:34:12.450Z"
   },
   {
    "duration": 4,
    "start_time": "2022-03-27T06:34:13.038Z"
   },
   {
    "duration": 250,
    "start_time": "2022-03-27T06:34:13.240Z"
   },
   {
    "duration": 7,
    "start_time": "2022-03-27T06:34:14.075Z"
   },
   {
    "duration": 208,
    "start_time": "2022-03-27T06:34:14.276Z"
   },
   {
    "duration": 9,
    "start_time": "2022-03-27T06:34:14.692Z"
   },
   {
    "duration": 126,
    "start_time": "2022-03-27T06:34:15.456Z"
   },
   {
    "duration": 8,
    "start_time": "2022-03-27T06:34:15.851Z"
   },
   {
    "duration": 174,
    "start_time": "2022-03-27T06:34:16.041Z"
   },
   {
    "duration": 162,
    "start_time": "2022-03-27T06:34:16.447Z"
   },
   {
    "duration": 259,
    "start_time": "2022-03-27T06:34:17.226Z"
   },
   {
    "duration": 265,
    "start_time": "2022-03-27T06:34:17.617Z"
   },
   {
    "duration": 251,
    "start_time": "2022-03-27T06:34:17.884Z"
   },
   {
    "duration": 174,
    "start_time": "2022-03-27T06:34:18.137Z"
   },
   {
    "duration": 277,
    "start_time": "2022-03-27T06:34:18.313Z"
   },
   {
    "duration": 6,
    "start_time": "2022-03-27T06:34:20.141Z"
   },
   {
    "duration": 163,
    "start_time": "2022-03-27T06:34:20.148Z"
   },
   {
    "duration": 262,
    "start_time": "2022-03-27T06:34:20.313Z"
   },
   {
    "duration": 9,
    "start_time": "2022-03-27T06:34:20.580Z"
   },
   {
    "duration": 8,
    "start_time": "2022-03-27T06:34:20.592Z"
   },
   {
    "duration": 97,
    "start_time": "2022-03-27T06:34:20.602Z"
   },
   {
    "duration": 70,
    "start_time": "2022-03-27T06:34:21.601Z"
   },
   {
    "duration": 7,
    "start_time": "2022-03-27T06:34:22.559Z"
   },
   {
    "duration": 8,
    "start_time": "2022-03-27T06:35:17.708Z"
   },
   {
    "duration": 6,
    "start_time": "2022-03-27T06:36:49.505Z"
   },
   {
    "duration": 6,
    "start_time": "2022-03-27T06:36:57.674Z"
   },
   {
    "duration": 77,
    "start_time": "2022-03-27T06:46:27.111Z"
   },
   {
    "duration": 31,
    "start_time": "2022-03-27T06:47:00.165Z"
   },
   {
    "duration": 6,
    "start_time": "2022-03-27T06:47:05.642Z"
   },
   {
    "duration": 6,
    "start_time": "2022-03-27T06:47:06.691Z"
   },
   {
    "duration": 5,
    "start_time": "2022-03-27T06:47:08.648Z"
   },
   {
    "duration": 6,
    "start_time": "2022-03-27T06:47:09.135Z"
   },
   {
    "duration": 3081,
    "start_time": "2022-03-27T06:47:10.494Z"
   },
   {
    "duration": 0,
    "start_time": "2022-03-27T06:47:13.577Z"
   },
   {
    "duration": 0,
    "start_time": "2022-03-27T06:47:13.578Z"
   },
   {
    "duration": 7,
    "start_time": "2022-03-27T06:47:13.957Z"
   },
   {
    "duration": 5,
    "start_time": "2022-03-27T06:47:14.442Z"
   },
   {
    "duration": 7,
    "start_time": "2022-03-27T06:47:16.005Z"
   },
   {
    "duration": 6,
    "start_time": "2022-03-27T06:47:16.975Z"
   },
   {
    "duration": 14,
    "start_time": "2022-03-27T06:47:17.943Z"
   },
   {
    "duration": 87,
    "start_time": "2022-03-27T06:47:23.398Z"
   },
   {
    "duration": 25,
    "start_time": "2022-03-27T06:47:23.773Z"
   },
   {
    "duration": 25,
    "start_time": "2022-03-27T06:47:23.973Z"
   },
   {
    "duration": 13,
    "start_time": "2022-03-27T06:47:24.153Z"
   },
   {
    "duration": 59,
    "start_time": "2022-03-27T06:47:24.332Z"
   },
   {
    "duration": 12,
    "start_time": "2022-03-27T06:47:24.514Z"
   },
   {
    "duration": 13,
    "start_time": "2022-03-27T06:47:25.795Z"
   },
   {
    "duration": 7,
    "start_time": "2022-03-27T06:47:26.166Z"
   },
   {
    "duration": 5,
    "start_time": "2022-03-27T06:47:26.513Z"
   },
   {
    "duration": 4,
    "start_time": "2022-03-27T06:47:26.719Z"
   },
   {
    "duration": 7,
    "start_time": "2022-03-27T06:47:27.326Z"
   },
   {
    "duration": 6,
    "start_time": "2022-03-27T06:47:27.504Z"
   },
   {
    "duration": 6,
    "start_time": "2022-03-27T06:47:27.694Z"
   },
   {
    "duration": 6,
    "start_time": "2022-03-27T06:47:27.886Z"
   },
   {
    "duration": 7,
    "start_time": "2022-03-27T06:47:28.084Z"
   },
   {
    "duration": 7,
    "start_time": "2022-03-27T06:47:28.270Z"
   },
   {
    "duration": 6,
    "start_time": "2022-03-27T06:47:28.820Z"
   },
   {
    "duration": 5,
    "start_time": "2022-03-27T06:47:29.206Z"
   },
   {
    "duration": 7,
    "start_time": "2022-03-27T06:47:29.766Z"
   },
   {
    "duration": 28,
    "start_time": "2022-03-27T06:47:30.170Z"
   },
   {
    "duration": 5,
    "start_time": "2022-03-27T06:47:30.561Z"
   },
   {
    "duration": 5,
    "start_time": "2022-03-27T06:47:30.744Z"
   },
   {
    "duration": 9,
    "start_time": "2022-03-27T06:47:30.936Z"
   },
   {
    "duration": 8,
    "start_time": "2022-03-27T06:47:31.129Z"
   },
   {
    "duration": 4,
    "start_time": "2022-03-27T06:47:31.747Z"
   },
   {
    "duration": 6,
    "start_time": "2022-03-27T06:47:32.511Z"
   },
   {
    "duration": 6,
    "start_time": "2022-03-27T06:47:32.883Z"
   },
   {
    "duration": 5,
    "start_time": "2022-03-27T06:47:33.671Z"
   },
   {
    "duration": 6,
    "start_time": "2022-03-27T06:47:33.861Z"
   },
   {
    "duration": 6,
    "start_time": "2022-03-27T06:47:34.459Z"
   },
   {
    "duration": 8,
    "start_time": "2022-03-27T06:47:35.099Z"
   },
   {
    "duration": 7,
    "start_time": "2022-03-27T06:47:35.538Z"
   },
   {
    "duration": 8,
    "start_time": "2022-03-27T06:47:35.978Z"
   },
   {
    "duration": 5,
    "start_time": "2022-03-27T06:47:36.167Z"
   },
   {
    "duration": 5,
    "start_time": "2022-03-27T06:47:36.796Z"
   },
   {
    "duration": 8,
    "start_time": "2022-03-27T06:47:37.213Z"
   },
   {
    "duration": 9,
    "start_time": "2022-03-27T06:47:37.632Z"
   },
   {
    "duration": 24,
    "start_time": "2022-03-27T06:47:38.844Z"
   },
   {
    "duration": 30,
    "start_time": "2022-03-27T06:47:39.545Z"
   },
   {
    "duration": 3,
    "start_time": "2022-03-27T06:47:39.971Z"
   },
   {
    "duration": 316,
    "start_time": "2022-03-27T06:47:40.399Z"
   },
   {
    "duration": 7,
    "start_time": "2022-03-27T06:47:40.841Z"
   },
   {
    "duration": 4,
    "start_time": "2022-03-27T06:47:41.468Z"
   },
   {
    "duration": 22,
    "start_time": "2022-03-27T06:47:41.668Z"
   },
   {
    "duration": 8,
    "start_time": "2022-03-27T06:47:42.751Z"
   },
   {
    "duration": 322,
    "start_time": "2022-03-27T06:47:42.962Z"
   },
   {
    "duration": 7,
    "start_time": "2022-03-27T06:47:43.594Z"
   },
   {
    "duration": 3,
    "start_time": "2022-03-27T06:47:44.224Z"
   },
   {
    "duration": 236,
    "start_time": "2022-03-27T06:47:44.436Z"
   },
   {
    "duration": 7,
    "start_time": "2022-03-27T06:47:45.293Z"
   },
   {
    "duration": 142,
    "start_time": "2022-03-27T06:47:45.505Z"
   },
   {
    "duration": 9,
    "start_time": "2022-03-27T06:47:45.945Z"
   },
   {
    "duration": 126,
    "start_time": "2022-03-27T06:47:46.603Z"
   },
   {
    "duration": 8,
    "start_time": "2022-03-27T06:47:47.028Z"
   },
   {
    "duration": 152,
    "start_time": "2022-03-27T06:47:47.239Z"
   },
   {
    "duration": 161,
    "start_time": "2022-03-27T06:47:47.688Z"
   },
   {
    "duration": 263,
    "start_time": "2022-03-27T06:47:48.499Z"
   },
   {
    "duration": 246,
    "start_time": "2022-03-27T06:47:48.947Z"
   },
   {
    "duration": 348,
    "start_time": "2022-03-27T06:47:49.195Z"
   },
   {
    "duration": 167,
    "start_time": "2022-03-27T06:47:49.545Z"
   },
   {
    "duration": 173,
    "start_time": "2022-03-27T06:47:49.714Z"
   },
   {
    "duration": 6,
    "start_time": "2022-03-27T06:47:50.151Z"
   },
   {
    "duration": 165,
    "start_time": "2022-03-27T06:47:50.483Z"
   },
   {
    "duration": 219,
    "start_time": "2022-03-27T06:47:51.622Z"
   },
   {
    "duration": 8,
    "start_time": "2022-03-27T06:47:52.131Z"
   },
   {
    "duration": 9,
    "start_time": "2022-03-27T06:47:52.626Z"
   },
   {
    "duration": 69,
    "start_time": "2022-03-27T06:47:53.248Z"
   },
   {
    "duration": 73,
    "start_time": "2022-03-27T06:47:53.664Z"
   },
   {
    "duration": 8,
    "start_time": "2022-03-27T06:47:55.026Z"
   },
   {
    "duration": 6,
    "start_time": "2022-03-27T06:47:55.453Z"
   },
   {
    "duration": 123,
    "start_time": "2022-03-27T06:47:58.650Z"
   },
   {
    "duration": 5,
    "start_time": "2022-03-27T06:47:59.773Z"
   },
   {
    "duration": 25,
    "start_time": "2022-03-27T06:48:01.573Z"
   },
   {
    "duration": 122,
    "start_time": "2022-03-27T06:48:02.507Z"
   },
   {
    "duration": 14,
    "start_time": "2022-03-27T06:48:05.028Z"
   },
   {
    "duration": 10,
    "start_time": "2022-03-27T06:48:06.251Z"
   },
   {
    "duration": 109,
    "start_time": "2022-03-27T06:48:07.413Z"
   },
   {
    "duration": 110,
    "start_time": "2022-03-27T06:48:07.858Z"
   },
   {
    "duration": 162,
    "start_time": "2022-03-27T06:48:08.907Z"
   },
   {
    "duration": 5,
    "start_time": "2022-03-27T06:48:09.356Z"
   },
   {
    "duration": 124,
    "start_time": "2022-03-27T06:48:11.013Z"
   },
   {
    "duration": 112,
    "start_time": "2022-03-27T06:48:11.427Z"
   },
   {
    "duration": 135,
    "start_time": "2022-03-27T06:48:12.642Z"
   },
   {
    "duration": 144,
    "start_time": "2022-03-27T06:48:13.059Z"
   },
   {
    "duration": 245,
    "start_time": "2022-03-27T06:48:14.364Z"
   },
   {
    "duration": 111,
    "start_time": "2022-03-27T06:48:15.012Z"
   },
   {
    "duration": 17,
    "start_time": "2022-03-27T06:48:16.944Z"
   },
   {
    "duration": 4,
    "start_time": "2022-03-27T06:48:17.886Z"
   },
   {
    "duration": 6,
    "start_time": "2022-03-27T06:48:18.361Z"
   },
   {
    "duration": 10,
    "start_time": "2022-03-27T06:48:19.945Z"
   },
   {
    "duration": 9,
    "start_time": "2022-03-27T06:48:20.049Z"
   },
   {
    "duration": 3,
    "start_time": "2022-03-27T06:48:21.633Z"
   },
   {
    "duration": 4,
    "start_time": "2022-03-27T06:48:23.006Z"
   },
   {
    "duration": 6,
    "start_time": "2022-03-27T06:48:23.579Z"
   },
   {
    "duration": 132,
    "start_time": "2022-03-27T06:48:24.164Z"
   },
   {
    "duration": 8,
    "start_time": "2022-03-27T06:48:27.957Z"
   },
   {
    "duration": 22,
    "start_time": "2022-03-27T06:48:29.465Z"
   },
   {
    "duration": 127,
    "start_time": "2022-03-27T06:48:30.623Z"
   },
   {
    "duration": 5,
    "start_time": "2022-03-27T06:48:32.176Z"
   },
   {
    "duration": 32,
    "start_time": "2022-03-27T06:48:34.820Z"
   },
   {
    "duration": 12,
    "start_time": "2022-03-27T06:48:47.375Z"
   },
   {
    "duration": 5,
    "start_time": "2022-03-27T06:50:26.122Z"
   },
   {
    "duration": 5,
    "start_time": "2022-03-27T06:50:38.725Z"
   },
   {
    "duration": 5,
    "start_time": "2022-03-27T06:51:07.378Z"
   },
   {
    "duration": 4,
    "start_time": "2022-03-27T06:52:13.988Z"
   },
   {
    "duration": 7,
    "start_time": "2022-03-27T06:52:27.228Z"
   },
   {
    "duration": 5,
    "start_time": "2022-03-27T06:52:47.747Z"
   },
   {
    "duration": 11,
    "start_time": "2022-03-27T06:53:42.023Z"
   },
   {
    "duration": 7,
    "start_time": "2022-03-27T06:53:47.233Z"
   },
   {
    "duration": 5,
    "start_time": "2022-03-27T06:53:54.048Z"
   },
   {
    "duration": 88,
    "start_time": "2022-03-27T07:16:58.548Z"
   },
   {
    "duration": 25,
    "start_time": "2022-03-27T07:16:59.029Z"
   },
   {
    "duration": 26,
    "start_time": "2022-03-27T07:16:59.268Z"
   },
   {
    "duration": 13,
    "start_time": "2022-03-27T07:16:59.509Z"
   },
   {
    "duration": 63,
    "start_time": "2022-03-27T07:16:59.733Z"
   },
   {
    "duration": 9,
    "start_time": "2022-03-27T07:16:59.957Z"
   },
   {
    "duration": 14,
    "start_time": "2022-03-27T07:17:01.549Z"
   },
   {
    "duration": 7,
    "start_time": "2022-03-27T07:17:01.958Z"
   },
   {
    "duration": 7,
    "start_time": "2022-03-27T07:17:02.369Z"
   },
   {
    "duration": 4,
    "start_time": "2022-03-27T07:17:02.557Z"
   },
   {
    "duration": 7,
    "start_time": "2022-03-27T07:17:03.362Z"
   },
   {
    "duration": 7,
    "start_time": "2022-03-27T07:17:03.582Z"
   },
   {
    "duration": 5,
    "start_time": "2022-03-27T07:17:03.854Z"
   },
   {
    "duration": 6,
    "start_time": "2022-03-27T07:17:04.028Z"
   },
   {
    "duration": 7,
    "start_time": "2022-03-27T07:17:04.265Z"
   },
   {
    "duration": 6,
    "start_time": "2022-03-27T07:17:04.469Z"
   },
   {
    "duration": 5,
    "start_time": "2022-03-27T07:17:05.067Z"
   },
   {
    "duration": 5,
    "start_time": "2022-03-27T07:17:05.479Z"
   },
   {
    "duration": 7,
    "start_time": "2022-03-27T07:17:06.110Z"
   },
   {
    "duration": 27,
    "start_time": "2022-03-27T07:17:06.524Z"
   },
   {
    "duration": 5,
    "start_time": "2022-03-27T07:17:06.946Z"
   },
   {
    "duration": 5,
    "start_time": "2022-03-27T07:17:07.333Z"
   },
   {
    "duration": 8,
    "start_time": "2022-03-27T07:17:07.522Z"
   },
   {
    "duration": 7,
    "start_time": "2022-03-27T07:17:07.727Z"
   },
   {
    "duration": 5,
    "start_time": "2022-03-27T07:17:08.357Z"
   },
   {
    "duration": 6,
    "start_time": "2022-03-27T07:17:09.160Z"
   },
   {
    "duration": 8,
    "start_time": "2022-03-27T07:17:09.570Z"
   },
   {
    "duration": 7,
    "start_time": "2022-03-27T07:17:10.808Z"
   },
   {
    "duration": 8,
    "start_time": "2022-03-27T07:17:11.015Z"
   },
   {
    "duration": 6,
    "start_time": "2022-03-27T07:17:12.227Z"
   },
   {
    "duration": 7,
    "start_time": "2022-03-27T07:17:12.887Z"
   },
   {
    "duration": 8,
    "start_time": "2022-03-27T07:17:13.297Z"
   },
   {
    "duration": 8,
    "start_time": "2022-03-27T07:17:13.922Z"
   },
   {
    "duration": 5,
    "start_time": "2022-03-27T07:17:14.128Z"
   },
   {
    "duration": 6,
    "start_time": "2022-03-27T07:17:15.197Z"
   },
   {
    "duration": 9,
    "start_time": "2022-03-27T07:17:15.608Z"
   },
   {
    "duration": 13,
    "start_time": "2022-03-27T07:17:16.018Z"
   },
   {
    "duration": 24,
    "start_time": "2022-03-27T07:17:17.332Z"
   },
   {
    "duration": 30,
    "start_time": "2022-03-27T07:17:17.967Z"
   },
   {
    "duration": 3,
    "start_time": "2022-03-27T07:17:18.363Z"
   },
   {
    "duration": 308,
    "start_time": "2022-03-27T07:17:18.772Z"
   },
   {
    "duration": 8,
    "start_time": "2022-03-27T07:17:19.214Z"
   },
   {
    "duration": 6,
    "start_time": "2022-03-27T07:17:19.898Z"
   },
   {
    "duration": 24,
    "start_time": "2022-03-27T07:17:20.104Z"
   },
   {
    "duration": 8,
    "start_time": "2022-03-27T07:17:21.232Z"
   },
   {
    "duration": 250,
    "start_time": "2022-03-27T07:17:21.452Z"
   },
   {
    "duration": 8,
    "start_time": "2022-03-27T07:17:22.117Z"
   },
   {
    "duration": 3,
    "start_time": "2022-03-27T07:17:22.783Z"
   },
   {
    "duration": 234,
    "start_time": "2022-03-27T07:17:23.060Z"
   },
   {
    "duration": 7,
    "start_time": "2022-03-27T07:17:25.250Z"
   },
   {
    "duration": 167,
    "start_time": "2022-03-27T07:17:25.259Z"
   },
   {
    "duration": 9,
    "start_time": "2022-03-27T07:17:25.428Z"
   },
   {
    "duration": 137,
    "start_time": "2022-03-27T07:17:25.438Z"
   },
   {
    "duration": 8,
    "start_time": "2022-03-27T07:17:25.683Z"
   },
   {
    "duration": 155,
    "start_time": "2022-03-27T07:17:25.905Z"
   },
   {
    "duration": 163,
    "start_time": "2022-03-27T07:17:26.372Z"
   },
   {
    "duration": 256,
    "start_time": "2022-03-27T07:17:27.056Z"
   },
   {
    "duration": 397,
    "start_time": "2022-03-27T07:17:27.499Z"
   },
   {
    "duration": 259,
    "start_time": "2022-03-27T07:17:27.898Z"
   },
   {
    "duration": 177,
    "start_time": "2022-03-27T07:17:28.159Z"
   },
   {
    "duration": 178,
    "start_time": "2022-03-27T07:17:28.337Z"
   },
   {
    "duration": 7,
    "start_time": "2022-03-27T07:17:28.593Z"
   },
   {
    "duration": 160,
    "start_time": "2022-03-27T07:17:28.834Z"
   },
   {
    "duration": 220,
    "start_time": "2022-03-27T07:17:29.265Z"
   },
   {
    "duration": 7,
    "start_time": "2022-03-27T07:17:29.502Z"
   },
   {
    "duration": 7,
    "start_time": "2022-03-27T07:17:29.742Z"
   },
   {
    "duration": 71,
    "start_time": "2022-03-27T07:17:29.948Z"
   },
   {
    "duration": 72,
    "start_time": "2022-03-27T07:17:30.185Z"
   },
   {
    "duration": 8,
    "start_time": "2022-03-27T07:17:30.866Z"
   },
   {
    "duration": 6,
    "start_time": "2022-03-27T07:17:31.088Z"
   },
   {
    "duration": 126,
    "start_time": "2022-03-27T07:17:32.717Z"
   },
   {
    "duration": 5,
    "start_time": "2022-03-27T07:17:33.183Z"
   },
   {
    "duration": 22,
    "start_time": "2022-03-27T07:17:34.277Z"
   },
   {
    "duration": 119,
    "start_time": "2022-03-27T07:17:34.721Z"
   },
   {
    "duration": 13,
    "start_time": "2022-03-27T07:17:35.730Z"
   },
   {
    "duration": 10,
    "start_time": "2022-03-27T07:17:36.478Z"
   },
   {
    "duration": 105,
    "start_time": "2022-03-27T07:17:37.650Z"
   },
   {
    "duration": 110,
    "start_time": "2022-03-27T07:17:38.121Z"
   },
   {
    "duration": 157,
    "start_time": "2022-03-27T07:17:38.907Z"
   },
   {
    "duration": 5,
    "start_time": "2022-03-27T07:17:39.097Z"
   },
   {
    "duration": 128,
    "start_time": "2022-03-27T07:17:40.025Z"
   },
   {
    "duration": 113,
    "start_time": "2022-03-27T07:17:40.199Z"
   },
   {
    "duration": 135,
    "start_time": "2022-03-27T07:17:40.847Z"
   },
   {
    "duration": 142,
    "start_time": "2022-03-27T07:17:41.302Z"
   },
   {
    "duration": 118,
    "start_time": "2022-03-27T07:17:41.975Z"
   },
   {
    "duration": 109,
    "start_time": "2022-03-27T07:17:42.215Z"
   },
   {
    "duration": 16,
    "start_time": "2022-03-27T07:17:43.300Z"
   },
   {
    "duration": 4,
    "start_time": "2022-03-27T07:17:43.761Z"
   },
   {
    "duration": 7,
    "start_time": "2022-03-27T07:17:43.962Z"
   },
   {
    "duration": 9,
    "start_time": "2022-03-27T07:17:44.458Z"
   },
   {
    "duration": 9,
    "start_time": "2022-03-27T07:17:44.917Z"
   },
   {
    "duration": 4,
    "start_time": "2022-03-27T07:17:45.836Z"
   },
   {
    "duration": 4,
    "start_time": "2022-03-27T07:17:46.465Z"
   },
   {
    "duration": 5,
    "start_time": "2022-03-27T07:17:46.703Z"
   },
   {
    "duration": 127,
    "start_time": "2022-03-27T07:17:46.927Z"
   },
   {
    "duration": 9,
    "start_time": "2022-03-27T07:17:48.389Z"
   },
   {
    "duration": 22,
    "start_time": "2022-03-27T07:17:49.237Z"
   },
   {
    "duration": 122,
    "start_time": "2022-03-27T07:17:49.527Z"
   },
   {
    "duration": 4,
    "start_time": "2022-03-27T07:17:49.970Z"
   },
   {
    "duration": 11,
    "start_time": "2022-03-27T07:17:54.724Z"
   },
   {
    "duration": 7,
    "start_time": "2022-03-27T07:17:55.334Z"
   },
   {
    "duration": 4,
    "start_time": "2022-03-27T07:17:57.585Z"
   },
   {
    "duration": 114,
    "start_time": "2022-03-27T07:18:36.516Z"
   },
   {
    "duration": 308,
    "start_time": "2022-03-27T07:19:11.582Z"
   },
   {
    "duration": 158,
    "start_time": "2022-03-27T07:20:32.345Z"
   },
   {
    "duration": 30,
    "start_time": "2022-03-27T07:21:33.317Z"
   },
   {
    "duration": 7,
    "start_time": "2022-03-27T07:23:00.416Z"
   },
   {
    "duration": 186,
    "start_time": "2022-03-27T07:24:11.407Z"
   },
   {
    "duration": 8,
    "start_time": "2022-03-27T07:24:18.570Z"
   },
   {
    "duration": 6,
    "start_time": "2022-03-27T07:24:39.364Z"
   },
   {
    "duration": 4,
    "start_time": "2022-03-27T07:25:09.233Z"
   },
   {
    "duration": 7,
    "start_time": "2022-03-27T07:25:36.017Z"
   },
   {
    "duration": 4,
    "start_time": "2022-03-27T07:26:36.172Z"
   },
   {
    "duration": 10,
    "start_time": "2022-03-27T07:26:51.018Z"
   },
   {
    "duration": 3,
    "start_time": "2022-03-27T07:27:41.467Z"
   },
   {
    "duration": 4,
    "start_time": "2022-03-27T07:27:44.307Z"
   },
   {
    "duration": 4,
    "start_time": "2022-03-27T07:27:53.043Z"
   },
   {
    "duration": 4,
    "start_time": "2022-03-27T07:27:54.288Z"
   },
   {
    "duration": 3,
    "start_time": "2022-03-27T07:28:27.190Z"
   },
   {
    "duration": 4,
    "start_time": "2022-03-27T07:28:36.522Z"
   },
   {
    "duration": 3152,
    "start_time": "2022-03-27T07:29:43.801Z"
   },
   {
    "duration": 8,
    "start_time": "2022-03-27T07:29:58.911Z"
   },
   {
    "duration": 9,
    "start_time": "2022-03-27T07:30:09.523Z"
   },
   {
    "duration": 4,
    "start_time": "2022-03-27T07:30:13.034Z"
   },
   {
    "duration": 7,
    "start_time": "2022-03-27T07:30:42.370Z"
   },
   {
    "duration": 8,
    "start_time": "2022-03-27T07:31:26.558Z"
   },
   {
    "duration": 9,
    "start_time": "2022-03-27T07:32:32.078Z"
   },
   {
    "duration": 6,
    "start_time": "2022-03-27T07:32:46.175Z"
   },
   {
    "duration": 4,
    "start_time": "2022-03-27T07:33:49.652Z"
   },
   {
    "duration": 6,
    "start_time": "2022-03-27T07:34:23.507Z"
   },
   {
    "duration": 202,
    "start_time": "2022-03-27T07:34:48.070Z"
   },
   {
    "duration": 7,
    "start_time": "2022-03-27T07:34:54.405Z"
   },
   {
    "duration": 9,
    "start_time": "2022-03-27T07:35:01.226Z"
   },
   {
    "duration": 9,
    "start_time": "2022-03-27T07:36:43.461Z"
   },
   {
    "duration": 7,
    "start_time": "2022-03-27T07:40:13.756Z"
   },
   {
    "duration": 1377,
    "start_time": "2022-03-27T17:06:42.585Z"
   },
   {
    "duration": 43,
    "start_time": "2022-03-27T17:06:43.964Z"
   },
   {
    "duration": 26,
    "start_time": "2022-03-27T17:06:44.009Z"
   },
   {
    "duration": 37,
    "start_time": "2022-03-27T17:06:44.037Z"
   },
   {
    "duration": 92,
    "start_time": "2022-03-27T17:06:44.076Z"
   },
   {
    "duration": 11,
    "start_time": "2022-03-27T17:06:44.170Z"
   },
   {
    "duration": 53,
    "start_time": "2022-03-27T17:06:44.183Z"
   },
   {
    "duration": 27,
    "start_time": "2022-03-27T17:06:44.237Z"
   },
   {
    "duration": 8,
    "start_time": "2022-03-27T17:06:44.265Z"
   },
   {
    "duration": 10,
    "start_time": "2022-03-27T17:06:44.276Z"
   },
   {
    "duration": 9,
    "start_time": "2022-03-27T17:06:44.287Z"
   },
   {
    "duration": 10,
    "start_time": "2022-03-27T17:06:44.297Z"
   },
   {
    "duration": 12,
    "start_time": "2022-03-27T17:06:44.308Z"
   },
   {
    "duration": 7,
    "start_time": "2022-03-27T17:06:44.322Z"
   },
   {
    "duration": 35,
    "start_time": "2022-03-27T17:06:44.331Z"
   },
   {
    "duration": 7,
    "start_time": "2022-03-27T17:06:44.368Z"
   },
   {
    "duration": 10,
    "start_time": "2022-03-27T17:06:44.376Z"
   },
   {
    "duration": 6,
    "start_time": "2022-03-27T17:06:44.387Z"
   },
   {
    "duration": 13,
    "start_time": "2022-03-27T17:06:44.394Z"
   },
   {
    "duration": 64,
    "start_time": "2022-03-27T17:06:44.409Z"
   },
   {
    "duration": 5,
    "start_time": "2022-03-27T17:06:44.475Z"
   },
   {
    "duration": 5,
    "start_time": "2022-03-27T17:06:44.482Z"
   },
   {
    "duration": 11,
    "start_time": "2022-03-27T17:06:44.489Z"
   },
   {
    "duration": 10,
    "start_time": "2022-03-27T17:06:44.501Z"
   },
   {
    "duration": 9,
    "start_time": "2022-03-27T17:06:44.513Z"
   },
   {
    "duration": 39,
    "start_time": "2022-03-27T17:06:44.526Z"
   },
   {
    "duration": 10,
    "start_time": "2022-03-27T17:06:44.566Z"
   },
   {
    "duration": 7,
    "start_time": "2022-03-27T17:06:44.581Z"
   },
   {
    "duration": 9,
    "start_time": "2022-03-27T17:06:44.590Z"
   },
   {
    "duration": 10,
    "start_time": "2022-03-27T17:06:44.601Z"
   },
   {
    "duration": 11,
    "start_time": "2022-03-27T17:06:44.613Z"
   },
   {
    "duration": 38,
    "start_time": "2022-03-27T17:06:44.625Z"
   },
   {
    "duration": 10,
    "start_time": "2022-03-27T17:06:44.664Z"
   },
   {
    "duration": 10,
    "start_time": "2022-03-27T17:06:44.675Z"
   },
   {
    "duration": 10,
    "start_time": "2022-03-27T17:06:44.686Z"
   },
   {
    "duration": 15,
    "start_time": "2022-03-27T17:06:44.698Z"
   },
   {
    "duration": 9,
    "start_time": "2022-03-27T17:06:44.715Z"
   },
   {
    "duration": 45,
    "start_time": "2022-03-27T17:06:44.726Z"
   },
   {
    "duration": 39,
    "start_time": "2022-03-27T17:06:44.773Z"
   },
   {
    "duration": 3,
    "start_time": "2022-03-27T17:06:44.814Z"
   },
   {
    "duration": 378,
    "start_time": "2022-03-27T17:06:44.819Z"
   },
   {
    "duration": 8,
    "start_time": "2022-03-27T17:06:45.199Z"
   },
   {
    "duration": 9,
    "start_time": "2022-03-27T17:06:45.208Z"
   },
   {
    "duration": 46,
    "start_time": "2022-03-27T17:06:45.219Z"
   },
   {
    "duration": 11,
    "start_time": "2022-03-27T17:06:45.267Z"
   },
   {
    "duration": 292,
    "start_time": "2022-03-27T17:06:45.280Z"
   },
   {
    "duration": 8,
    "start_time": "2022-03-27T17:06:45.574Z"
   },
   {
    "duration": 4,
    "start_time": "2022-03-27T17:06:45.584Z"
   },
   {
    "duration": 307,
    "start_time": "2022-03-27T17:06:45.590Z"
   },
   {
    "duration": 10,
    "start_time": "2022-03-27T17:06:45.899Z"
   },
   {
    "duration": 285,
    "start_time": "2022-03-27T17:06:45.911Z"
   },
   {
    "duration": 12,
    "start_time": "2022-03-27T17:06:46.198Z"
   },
   {
    "duration": 207,
    "start_time": "2022-03-27T17:06:46.212Z"
   },
   {
    "duration": 10,
    "start_time": "2022-03-27T17:06:46.421Z"
   },
   {
    "duration": 219,
    "start_time": "2022-03-27T17:06:46.434Z"
   },
   {
    "duration": 186,
    "start_time": "2022-03-27T17:06:46.655Z"
   },
   {
    "duration": 298,
    "start_time": "2022-03-27T17:06:46.843Z"
   },
   {
    "duration": 276,
    "start_time": "2022-03-27T17:06:47.142Z"
   },
   {
    "duration": 343,
    "start_time": "2022-03-27T17:06:47.420Z"
   },
   {
    "duration": 256,
    "start_time": "2022-03-27T17:06:47.765Z"
   },
   {
    "duration": 391,
    "start_time": "2022-03-27T17:06:48.023Z"
   },
   {
    "duration": 7,
    "start_time": "2022-03-27T17:06:48.416Z"
   },
   {
    "duration": 267,
    "start_time": "2022-03-27T17:06:48.425Z"
   },
   {
    "duration": 374,
    "start_time": "2022-03-27T17:06:48.694Z"
   },
   {
    "duration": 10,
    "start_time": "2022-03-27T17:06:49.070Z"
   },
   {
    "duration": 11,
    "start_time": "2022-03-27T17:06:49.081Z"
   },
   {
    "duration": 120,
    "start_time": "2022-03-27T17:06:49.093Z"
   },
   {
    "duration": 113,
    "start_time": "2022-03-27T17:06:49.215Z"
   },
   {
    "duration": 9,
    "start_time": "2022-03-27T17:06:49.330Z"
   },
   {
    "duration": 22,
    "start_time": "2022-03-27T17:06:49.340Z"
   },
   {
    "duration": 182,
    "start_time": "2022-03-27T17:06:49.364Z"
   },
   {
    "duration": 6,
    "start_time": "2022-03-27T17:06:49.548Z"
   },
   {
    "duration": 24,
    "start_time": "2022-03-27T17:06:49.563Z"
   },
   {
    "duration": 147,
    "start_time": "2022-03-27T17:06:49.589Z"
   },
   {
    "duration": 13,
    "start_time": "2022-03-27T17:06:49.737Z"
   },
   {
    "duration": 19,
    "start_time": "2022-03-27T17:06:49.752Z"
   },
   {
    "duration": 176,
    "start_time": "2022-03-27T17:06:49.773Z"
   },
   {
    "duration": 171,
    "start_time": "2022-03-27T17:06:49.951Z"
   },
   {
    "duration": 243,
    "start_time": "2022-03-27T17:06:50.124Z"
   },
   {
    "duration": 6,
    "start_time": "2022-03-27T17:06:50.370Z"
   },
   {
    "duration": 162,
    "start_time": "2022-03-27T17:06:50.378Z"
   },
   {
    "duration": 164,
    "start_time": "2022-03-27T17:06:50.546Z"
   },
   {
    "duration": 194,
    "start_time": "2022-03-27T17:06:50.712Z"
   },
   {
    "duration": 358,
    "start_time": "2022-03-27T17:06:50.908Z"
   },
   {
    "duration": 188,
    "start_time": "2022-03-27T17:06:51.268Z"
   },
   {
    "duration": 134,
    "start_time": "2022-03-27T17:06:51.457Z"
   },
   {
    "duration": 21,
    "start_time": "2022-03-27T17:06:51.593Z"
   },
   {
    "duration": 4,
    "start_time": "2022-03-27T17:06:51.616Z"
   },
   {
    "duration": 9,
    "start_time": "2022-03-27T17:06:51.622Z"
   },
   {
    "duration": 32,
    "start_time": "2022-03-27T17:06:51.632Z"
   },
   {
    "duration": 9,
    "start_time": "2022-03-27T17:06:51.665Z"
   },
   {
    "duration": 5,
    "start_time": "2022-03-27T17:06:51.676Z"
   },
   {
    "duration": 7,
    "start_time": "2022-03-27T17:06:51.682Z"
   },
   {
    "duration": 6,
    "start_time": "2022-03-27T17:06:51.691Z"
   },
   {
    "duration": 200,
    "start_time": "2022-03-27T17:06:51.699Z"
   },
   {
    "duration": 11,
    "start_time": "2022-03-27T17:06:51.901Z"
   },
   {
    "duration": 32,
    "start_time": "2022-03-27T17:06:51.914Z"
   },
   {
    "duration": 146,
    "start_time": "2022-03-27T17:06:51.947Z"
   },
   {
    "duration": 5,
    "start_time": "2022-03-27T17:06:52.095Z"
   },
   {
    "duration": 11,
    "start_time": "2022-03-27T17:06:52.102Z"
   },
   {
    "duration": 11,
    "start_time": "2022-03-27T17:06:52.115Z"
   },
   {
    "duration": 177,
    "start_time": "2022-03-27T17:06:52.127Z"
   },
   {
    "duration": 147,
    "start_time": "2022-03-27T17:06:52.306Z"
   },
   {
    "duration": 177,
    "start_time": "2022-03-27T17:06:52.462Z"
   },
   {
    "duration": 187,
    "start_time": "2022-03-27T17:06:52.640Z"
   },
   {
    "duration": 190,
    "start_time": "2022-03-27T17:06:52.829Z"
   },
   {
    "duration": 231,
    "start_time": "2022-03-27T17:06:53.021Z"
   },
   {
    "duration": 217,
    "start_time": "2022-03-27T17:06:53.254Z"
   },
   {
    "duration": 195,
    "start_time": "2022-03-27T17:06:53.473Z"
   },
   {
    "duration": 198,
    "start_time": "2022-03-27T17:06:53.670Z"
   }
  ],
  "kernelspec": {
   "display_name": "Python 3 (ipykernel)",
   "language": "python",
   "name": "python3"
  },
  "language_info": {
   "codemirror_mode": {
    "name": "ipython",
    "version": 3
   },
   "file_extension": ".py",
   "mimetype": "text/x-python",
   "name": "python",
   "nbconvert_exporter": "python",
   "pygments_lexer": "ipython3",
   "version": "3.9.5"
  },
  "toc": {
   "base_numbering": 1,
   "nav_menu": {},
   "number_sections": true,
   "sideBar": true,
   "skip_h1_title": true,
   "title_cell": "Содержание",
   "title_sidebar": "Contents",
   "toc_cell": true,
   "toc_position": {
    "height": "634px",
    "left": "27px",
    "top": "111.135px",
    "width": "219px"
   },
   "toc_section_display": true,
   "toc_window_display": true
  }
 },
 "nbformat": 4,
 "nbformat_minor": 4
}
