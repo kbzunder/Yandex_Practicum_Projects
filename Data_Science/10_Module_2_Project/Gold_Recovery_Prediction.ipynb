{
 "cells": [
  {
   "cell_type": "markdown",
   "metadata": {
    "toc": true
   },
   "source": [
    "<h1>Содержание<span class=\"tocSkip\"></span></h1>\n",
    "<div class=\"toc\"><ul class=\"toc-item\"><li><span><a href=\"#Подготовка-данных\" data-toc-modified-id=\"Подготовка-данных-1\"><span class=\"toc-item-num\">1&nbsp;&nbsp;</span>Подготовка данных</a></span><ul class=\"toc-item\"><li><span><a href=\"#Проверка-формулы-вычисления-эффективности-обогащения\" data-toc-modified-id=\"Проверка-формулы-вычисления-эффективности-обогащения-1.1\"><span class=\"toc-item-num\">1.1&nbsp;&nbsp;</span>Проверка формулы вычисления эффективности обогащения</a></span></li><li><span><a href=\"#Проанализируем-признаки,-недоступные-в-тестовой-выборке\" data-toc-modified-id=\"Проанализируем-признаки,-недоступные-в-тестовой-выборке-1.2\"><span class=\"toc-item-num\">1.2&nbsp;&nbsp;</span>Проанализируем признаки, недоступные в тестовой выборке</a></span></li><li><span><a href=\"#Рассмотрим-пропуски\" data-toc-modified-id=\"Рассмотрим-пропуски-1.3\"><span class=\"toc-item-num\">1.3&nbsp;&nbsp;</span>Рассмотрим пропуски</a></span></li></ul></li><li><span><a href=\"#Анализ-данных\" data-toc-modified-id=\"Анализ-данных-2\"><span class=\"toc-item-num\">2&nbsp;&nbsp;</span>Анализ данных</a></span><ul class=\"toc-item\"><li><ul class=\"toc-item\"><li><span><a href=\"#Посмотрим,-как-меняется-концентрация-металлов-(Au,-Ag,-Pb)-на-различных-этапах-очистки\" data-toc-modified-id=\"Посмотрим,-как-меняется-концентрация-металлов-(Au,-Ag,-Pb)-на-различных-этапах-очистки-2.0.1\"><span class=\"toc-item-num\">2.0.1&nbsp;&nbsp;</span>Посмотрим, как меняется концентрация металлов (Au, Ag, Pb) на различных этапах очистки</a></span></li><li><span><a href=\"#Сравним-распределения-размеров-гранул-сырья-на-обучающей-и-тестовой-выборках.-Если-распределения-сильно-отличаются-друг-от-друга,-оценка-модели-будет-неправильной.\" data-toc-modified-id=\"Сравним-распределения-размеров-гранул-сырья-на-обучающей-и-тестовой-выборках.-Если-распределения-сильно-отличаются-друг-от-друга,-оценка-модели-будет-неправильной.-2.0.2\"><span class=\"toc-item-num\">2.0.2&nbsp;&nbsp;</span>Сравним распределения размеров гранул сырья на обучающей и тестовой выборках. Если распределения сильно отличаются друг от друга, оценка модели будет неправильной.</a></span></li><li><span><a href=\"#Исследуем-суммарную-концентрацию-всех-веществ-на-разных-стадиях:-в-сырье,-в-черновом-и-финальном-концентратах.\" data-toc-modified-id=\"Исследуем-суммарную-концентрацию-всех-веществ-на-разных-стадиях:-в-сырье,-в-черновом-и-финальном-концентратах.-2.0.3\"><span class=\"toc-item-num\">2.0.3&nbsp;&nbsp;</span>Исследуем суммарную концентрацию всех веществ на разных стадиях: в сырье, в черновом и финальном концентратах.</a></span></li></ul></li></ul></li><li><span><a href=\"#Модель\" data-toc-modified-id=\"Модель-3\"><span class=\"toc-item-num\">3&nbsp;&nbsp;</span>Модель</a></span><ul class=\"toc-item\"><li><span><a href=\"#Находим-rougher.output.recovery\" data-toc-modified-id=\"Находим-rougher.output.recovery-3.1\"><span class=\"toc-item-num\">3.1&nbsp;&nbsp;</span>Находим rougher.output.recovery</a></span></li><li><span><a href=\"#Находим-final.output.recovery\" data-toc-modified-id=\"Находим-final.output.recovery-3.2\"><span class=\"toc-item-num\">3.2&nbsp;&nbsp;</span>Находим final.output.recovery</a></span></li><li><span><a href=\"#Выводы:\" data-toc-modified-id=\"Выводы:-3.3\"><span class=\"toc-item-num\">3.3&nbsp;&nbsp;</span>Выводы:</a></span></li></ul></li><li><span><a href=\"#Чек-лист-готовности-проекта\" data-toc-modified-id=\"Чек-лист-готовности-проекта-4\"><span class=\"toc-item-num\">4&nbsp;&nbsp;</span>Чек-лист готовности проекта</a></span></li></ul></div>"
   ]
  },
  {
   "cell_type": "markdown",
   "metadata": {
    "toc": true
   },
   "source": [
    "<h1>Содержание<span class=\"tocSkip\"></span></h1>\n",
    "<div class=\"toc\"><ul class=\"toc-item\"><li><span><a href=\"#Подготовка-данных\" data-toc-modified-id=\"Подготовка-данных-1\"><span class=\"toc-item-num\">1&nbsp;&nbsp;</span>Подготовка данных</a></span><ul class=\"toc-item\"><li><span><a href=\"#Проверка-формулы-вычисления-эффективности-обогащения\" data-toc-modified-id=\"Проверка-формулы-вычисления-эффективности-обогащения-1.1\"><span class=\"toc-item-num\">1.1&nbsp;&nbsp;</span>Проверка формулы вычисления эффективности обогащения</a></span></li><li><span><a href=\"#Проанализируем-признаки,-недоступные-в-тестовой-выборке\" data-toc-modified-id=\"Проанализируем-признаки,-недоступные-в-тестовой-выборке-1.2\"><span class=\"toc-item-num\">1.2&nbsp;&nbsp;</span>Проанализируем признаки, недоступные в тестовой выборке</a></span></li><li><span><a href=\"#Рассмотрим-пропуски\" data-toc-modified-id=\"Рассмотрим-пропуски-1.3\"><span class=\"toc-item-num\">1.3&nbsp;&nbsp;</span>Рассмотрим пропуски</a></span></li></ul></li><li><span><a href=\"#Анализ-данных\" data-toc-modified-id=\"Анализ-данных-2\"><span class=\"toc-item-num\">2&nbsp;&nbsp;</span>Анализ данных</a></span><ul class=\"toc-item\"><li><ul class=\"toc-item\"><li><span><a href=\"#Посмотрим,-как-меняется-концентрация-металлов-(Au,-Ag,-Pb)-на-различных-этапах-очистки\" data-toc-modified-id=\"Посмотрим,-как-меняется-концентрация-металлов-(Au,-Ag,-Pb)-на-различных-этапах-очистки-2.0.1\"><span class=\"toc-item-num\">2.0.1&nbsp;&nbsp;</span>Посмотрим, как меняется концентрация металлов (Au, Ag, Pb) на различных этапах очистки</a></span></li><li><span><a href=\"#Сравним-распределения-размеров-гранул-сырья-на-обучающей-и-тестовой-выборках.-Если-распределения-сильно-отличаются-друг-от-друга,-оценка-модели-будет-неправильной.\" data-toc-modified-id=\"Сравним-распределения-размеров-гранул-сырья-на-обучающей-и-тестовой-выборках.-Если-распределения-сильно-отличаются-друг-от-друга,-оценка-модели-будет-неправильной.-2.0.2\"><span class=\"toc-item-num\">2.0.2&nbsp;&nbsp;</span>Сравним распределения размеров гранул сырья на обучающей и тестовой выборках. Если распределения сильно отличаются друг от друга, оценка модели будет неправильной.</a></span></li><li><span><a href=\"#Исследуем-суммарную-концентрацию-всех-веществ-на-разных-стадиях:-в-сырье,-в-черновом-и-финальном-концентратах.\" data-toc-modified-id=\"Исследуем-суммарную-концентрацию-всех-веществ-на-разных-стадиях:-в-сырье,-в-черновом-и-финальном-концентратах.-2.0.3\"><span class=\"toc-item-num\">2.0.3&nbsp;&nbsp;</span>Исследуем суммарную концентрацию всех веществ на разных стадиях: в сырье, в черновом и финальном концентратах.</a></span></li></ul></li></ul></li><li><span><a href=\"#Модель\" data-toc-modified-id=\"Модель-3\"><span class=\"toc-item-num\">3&nbsp;&nbsp;</span>Модель</a></span><ul class=\"toc-item\"><li><span><a href=\"#Находим-rougher.output.recovery\" data-toc-modified-id=\"Находим-rougher.output.recovery-3.1\"><span class=\"toc-item-num\">3.1&nbsp;&nbsp;</span>Находим rougher.output.recovery</a></span></li><li><span><a href=\"#Находим-final.output.recovery\" data-toc-modified-id=\"Находим-final.output.recovery-3.2\"><span class=\"toc-item-num\">3.2&nbsp;&nbsp;</span>Находим final.output.recovery</a></span></li><li><span><a href=\"#Выводы:\" data-toc-modified-id=\"Выводы:-3.3\"><span class=\"toc-item-num\">3.3&nbsp;&nbsp;</span>Выводы:</a></span></li></ul></li><li><span><a href=\"#Чек-лист-готовности-проекта\" data-toc-modified-id=\"Чек-лист-готовности-проекта-4\"><span class=\"toc-item-num\">4&nbsp;&nbsp;</span>Чек-лист готовности проекта</a></span></li></ul></div>"
   ]
  },
  {
   "cell_type": "markdown",
   "metadata": {},
   "source": [
    "# Восстановление золота из руды"
   ]
  },
  {
   "cell_type": "markdown",
   "metadata": {},
   "source": [
    "Подготовьте прототип модели машинного обучения для «Цифры». Компания разрабатывает решения для эффективной работы промышленных предприятий.\n",
    "\n",
    "Модель должна предсказать коэффициент восстановления золота из золотосодержащей руды. Используйте данные с параметрами добычи и очистки. \n",
    "\n",
    "Модель поможет оптимизировать производство, чтобы не запускать предприятие с убыточными характеристиками.\n",
    "\n",
    "Вам нужно:\n",
    "\n",
    "1. Подготовить данные;\n",
    "2. Провести исследовательский анализ данных;\n",
    "3. Построить и обучить модель.\n",
    "\n",
    "Чтобы выполнить проект, обращайтесь к библиотекам *pandas*, *matplotlib* и *sklearn.* Вам поможет их документация."
   ]
  },
  {
   "cell_type": "markdown",
   "metadata": {},
   "source": [
    "<font color='blue'><b>Комментарий ревьюера: </b></font> ✔️\\\n",
    "<font color='green'>Вступление в работу очень важно. Так ты поясняешь то, чему она посвящена.\\\n",
    "Можно ещё сделать краткий обзор данных с которыми предстоит работать.</font>"
   ]
  },
  {
   "cell_type": "markdown",
   "metadata": {},
   "source": [
    "## Подготовка данных"
   ]
  },
  {
   "cell_type": "code",
   "execution_count": 56,
   "metadata": {},
   "outputs": [],
   "source": [
    "import pandas as pd\n",
    "import datetime as dt\n",
    "import numpy as np\n",
    "from numpy.random import RandomState\n",
    "import warnings\n",
    "\n",
    "import seaborn as sns\n",
    "from matplotlib import pyplot as plt\n",
    "\n",
    "from sklearn.linear_model import LinearRegression, Lasso, ElasticNet\n",
    "from sklearn.ensemble import RandomForestRegressor\n",
    "from sklearn.dummy import DummyRegressor\n",
    "from sklearn import set_config\n",
    "from sklearn.utils import shuffle\n",
    "\n",
    "from sklearn.model_selection import train_test_split, GridSearchCV, RandomizedSearchCV, KFold\n",
    "from sklearn.feature_selection import VarianceThreshold\n",
    "from sklearn.preprocessing import StandardScaler, OneHotEncoder,  Normalizer, StandardScaler, MinMaxScaler\n",
    "from sklearn.pipeline import make_pipeline, Pipeline\n",
    "from sklearn.metrics import mean_squared_error, mean_absolute_error, make_scorer\n",
    "\n",
    "warnings.filterwarnings('ignore')\n",
    "pd.set_option('display.float_format', '{:.2f}'.format)\n",
    "%matplotlib inline"
   ]
  },
  {
   "cell_type": "markdown",
   "metadata": {},
   "source": [
    "<font color='blue'><b>Комментарий ревьюера: </b></font> ✔️ <br>\n",
    "<font color='green'>Здорово, что все импорты находятся в одной ячейке.<br>\n",
    "Если хочешь сделать ещё лучше, соблюдай стандарт PEP-8, разбей импорты на функциональные группы, раздели группы пустой строкой. Можно в каждой группе отсортировать импорты в алфавитном порядке.<br>\n",
    "Ссылка для ознакомления: https://pythonworld.ru/osnovy/pep-8-rukovodstvo-po-napisaniyu-koda-na-python.html\n",
    "</font>"
   ]
  },
  {
   "cell_type": "markdown",
   "metadata": {},
   "source": [
    "<font color='blue'><b>Комментарий ревьюера: </b></font> ⚠️\\\n",
    "<font color='orange'> Закомментированный код лучше удалять из проекта.</font>"
   ]
  },
  {
   "cell_type": "markdown",
   "metadata": {},
   "source": [
    "<font color='blue'><b>Комментарий ревьюера 2: </b></font> ✔️\\\n",
    "<font color='green'>👍</font>"
   ]
  },
  {
   "cell_type": "code",
   "execution_count": 57,
   "metadata": {},
   "outputs": [
    {
     "name": "stdout",
     "output_type": "stream",
     "text": [
      "Requirement already satisfied: sweetviz in /opt/conda/lib/python3.9/site-packages (2.1.3)\n",
      "Requirement already satisfied: importlib-resources>=1.2.0 in /opt/conda/lib/python3.9/site-packages (from sweetviz) (5.4.0)\n",
      "Requirement already satisfied: scipy>=1.3.2 in /opt/conda/lib/python3.9/site-packages (from sweetviz) (1.8.0)\n",
      "Requirement already satisfied: tqdm>=4.43.0 in /opt/conda/lib/python3.9/site-packages (from sweetviz) (4.62.3)\n",
      "Requirement already satisfied: jinja2>=2.11.1 in /opt/conda/lib/python3.9/site-packages (from sweetviz) (3.0.3)\n",
      "Requirement already satisfied: matplotlib>=3.1.3 in /opt/conda/lib/python3.9/site-packages (from sweetviz) (3.3.4)\n",
      "Requirement already satisfied: pandas!=1.0.0,!=1.0.1,!=1.0.2,>=0.25.3 in /opt/conda/lib/python3.9/site-packages (from sweetviz) (1.2.4)\n",
      "Requirement already satisfied: numpy>=1.16.0 in /opt/conda/lib/python3.9/site-packages (from sweetviz) (1.22.3)\n",
      "Requirement already satisfied: zipp>=3.1.0 in /opt/conda/lib/python3.9/site-packages (from importlib-resources>=1.2.0->sweetviz) (3.6.0)\n",
      "Requirement already satisfied: MarkupSafe>=2.0 in /opt/conda/lib/python3.9/site-packages (from jinja2>=2.11.1->sweetviz) (2.0.1)\n",
      "Requirement already satisfied: pillow>=6.2.0 in /opt/conda/lib/python3.9/site-packages (from matplotlib>=3.1.3->sweetviz) (8.4.0)\n",
      "Requirement already satisfied: kiwisolver>=1.0.1 in /opt/conda/lib/python3.9/site-packages (from matplotlib>=3.1.3->sweetviz) (1.4.2)\n",
      "Requirement already satisfied: pyparsing!=2.0.4,!=2.1.2,!=2.1.6,>=2.0.3 in /opt/conda/lib/python3.9/site-packages (from matplotlib>=3.1.3->sweetviz) (3.0.6)\n",
      "Requirement already satisfied: cycler>=0.10 in /opt/conda/lib/python3.9/site-packages (from matplotlib>=3.1.3->sweetviz) (0.11.0)\n",
      "Requirement already satisfied: python-dateutil>=2.1 in /opt/conda/lib/python3.9/site-packages (from matplotlib>=3.1.3->sweetviz) (2.8.2)\n",
      "Requirement already satisfied: pytz>=2017.3 in /opt/conda/lib/python3.9/site-packages (from pandas!=1.0.0,!=1.0.1,!=1.0.2,>=0.25.3->sweetviz) (2021.3)\n",
      "Requirement already satisfied: six>=1.5 in /opt/conda/lib/python3.9/site-packages (from python-dateutil>=2.1->matplotlib>=3.1.3->sweetviz) (1.16.0)\n"
     ]
    }
   ],
   "source": [
    "!pip install sweetviz\n",
    "import sweetviz as sv"
   ]
  },
  {
   "cell_type": "code",
   "execution_count": 58,
   "metadata": {},
   "outputs": [
    {
     "name": "stdout",
     "output_type": "stream",
     "text": [
      "Requirement already satisfied: xgboost in /opt/conda/lib/python3.9/site-packages (1.5.1)\r\n",
      "Requirement already satisfied: numpy in /opt/conda/lib/python3.9/site-packages (from xgboost) (1.22.3)\r\n",
      "Requirement already satisfied: scipy in /opt/conda/lib/python3.9/site-packages (from xgboost) (1.8.0)\r\n"
     ]
    }
   ],
   "source": [
    "!pip install xgboost\n",
    "from xgboost import XGBRegressor"
   ]
  },
  {
   "cell_type": "code",
   "execution_count": 59,
   "metadata": {},
   "outputs": [],
   "source": [
    "try:\n",
    "    full = pd.read_csv('/Users/ulia/Downloads/gold_recovery_full_new.csv')\n",
    "    train = pd.read_csv('/Users/ulia/Downloads/gold_recovery_train_new.csv')\n",
    "    test = pd.read_csv('/Users/ulia/Downloads/gold_recovery_test_new.csv')\n",
    "except: \n",
    "    full = pd.read_csv('/datasets/gold_recovery_full_new.csv')\n",
    "    train = pd.read_csv('/datasets/gold_recovery_train_new.csv')\n",
    "    test = pd.read_csv('/datasets/gold_recovery_test_new.csv')"
   ]
  },
  {
   "cell_type": "code",
   "execution_count": null,
   "metadata": {},
   "outputs": [],
   "source": [
    "train_report = sv.analyze(train)\n"
   ]
  },
  {
   "cell_type": "code",
   "execution_count": null,
   "metadata": {},
   "outputs": [],
   "source": [
    "train_report.show_notebook()"
   ]
  },
  {
   "cell_type": "code",
   "execution_count": null,
   "metadata": {},
   "outputs": [],
   "source": [
    "test_report = sv.analyze(test)\n",
    "test_report.show_notebook()"
   ]
  },
  {
   "cell_type": "code",
   "execution_count": 63,
   "metadata": {
    "scrolled": true
   },
   "outputs": [
    {
     "name": "stdout",
     "output_type": "stream",
     "text": [
      "<class 'pandas.core.frame.DataFrame'>\n",
      "RangeIndex: 5290 entries, 0 to 5289\n",
      "Data columns (total 53 columns):\n",
      " #   Column                                      Non-Null Count  Dtype  \n",
      "---  ------                                      --------------  -----  \n",
      " 0   date                                        5290 non-null   object \n",
      " 1   primary_cleaner.input.sulfate               5286 non-null   float64\n",
      " 2   primary_cleaner.input.depressant            5285 non-null   float64\n",
      " 3   primary_cleaner.input.feed_size             5290 non-null   float64\n",
      " 4   primary_cleaner.input.xanthate              5286 non-null   float64\n",
      " 5   primary_cleaner.state.floatbank8_a_air      5290 non-null   float64\n",
      " 6   primary_cleaner.state.floatbank8_a_level    5290 non-null   float64\n",
      " 7   primary_cleaner.state.floatbank8_b_air      5290 non-null   float64\n",
      " 8   primary_cleaner.state.floatbank8_b_level    5290 non-null   float64\n",
      " 9   primary_cleaner.state.floatbank8_c_air      5290 non-null   float64\n",
      " 10  primary_cleaner.state.floatbank8_c_level    5290 non-null   float64\n",
      " 11  primary_cleaner.state.floatbank8_d_air      5290 non-null   float64\n",
      " 12  primary_cleaner.state.floatbank8_d_level    5290 non-null   float64\n",
      " 13  rougher.input.feed_ag                       5290 non-null   float64\n",
      " 14  rougher.input.feed_pb                       5290 non-null   float64\n",
      " 15  rougher.input.feed_rate                     5287 non-null   float64\n",
      " 16  rougher.input.feed_size                     5289 non-null   float64\n",
      " 17  rougher.input.feed_sol                      5269 non-null   float64\n",
      " 18  rougher.input.feed_au                       5290 non-null   float64\n",
      " 19  rougher.input.floatbank10_sulfate           5285 non-null   float64\n",
      " 20  rougher.input.floatbank10_xanthate          5290 non-null   float64\n",
      " 21  rougher.input.floatbank11_sulfate           5282 non-null   float64\n",
      " 22  rougher.input.floatbank11_xanthate          5265 non-null   float64\n",
      " 23  rougher.state.floatbank10_a_air             5290 non-null   float64\n",
      " 24  rougher.state.floatbank10_a_level           5290 non-null   float64\n",
      " 25  rougher.state.floatbank10_b_air             5290 non-null   float64\n",
      " 26  rougher.state.floatbank10_b_level           5290 non-null   float64\n",
      " 27  rougher.state.floatbank10_c_air             5290 non-null   float64\n",
      " 28  rougher.state.floatbank10_c_level           5290 non-null   float64\n",
      " 29  rougher.state.floatbank10_d_air             5290 non-null   float64\n",
      " 30  rougher.state.floatbank10_d_level           5290 non-null   float64\n",
      " 31  rougher.state.floatbank10_e_air             5290 non-null   float64\n",
      " 32  rougher.state.floatbank10_e_level           5290 non-null   float64\n",
      " 33  rougher.state.floatbank10_f_air             5290 non-null   float64\n",
      " 34  rougher.state.floatbank10_f_level           5290 non-null   float64\n",
      " 35  secondary_cleaner.state.floatbank2_a_air    5287 non-null   float64\n",
      " 36  secondary_cleaner.state.floatbank2_a_level  5290 non-null   float64\n",
      " 37  secondary_cleaner.state.floatbank2_b_air    5288 non-null   float64\n",
      " 38  secondary_cleaner.state.floatbank2_b_level  5290 non-null   float64\n",
      " 39  secondary_cleaner.state.floatbank3_a_air    5281 non-null   float64\n",
      " 40  secondary_cleaner.state.floatbank3_a_level  5290 non-null   float64\n",
      " 41  secondary_cleaner.state.floatbank3_b_air    5290 non-null   float64\n",
      " 42  secondary_cleaner.state.floatbank3_b_level  5290 non-null   float64\n",
      " 43  secondary_cleaner.state.floatbank4_a_air    5290 non-null   float64\n",
      " 44  secondary_cleaner.state.floatbank4_a_level  5290 non-null   float64\n",
      " 45  secondary_cleaner.state.floatbank4_b_air    5290 non-null   float64\n",
      " 46  secondary_cleaner.state.floatbank4_b_level  5290 non-null   float64\n",
      " 47  secondary_cleaner.state.floatbank5_a_air    5290 non-null   float64\n",
      " 48  secondary_cleaner.state.floatbank5_a_level  5290 non-null   float64\n",
      " 49  secondary_cleaner.state.floatbank5_b_air    5290 non-null   float64\n",
      " 50  secondary_cleaner.state.floatbank5_b_level  5290 non-null   float64\n",
      " 51  secondary_cleaner.state.floatbank6_a_air    5290 non-null   float64\n",
      " 52  secondary_cleaner.state.floatbank6_a_level  5290 non-null   float64\n",
      "dtypes: float64(52), object(1)\n",
      "memory usage: 2.1+ MB\n"
     ]
    }
   ],
   "source": [
    "test.info()"
   ]
  },
  {
   "cell_type": "code",
   "execution_count": 64,
   "metadata": {},
   "outputs": [
    {
     "name": "stdout",
     "output_type": "stream",
     "text": [
      "<class 'pandas.core.frame.DataFrame'>\n",
      "RangeIndex: 19439 entries, 0 to 19438\n",
      "Data columns (total 87 columns):\n",
      " #   Column                                              Non-Null Count  Dtype  \n",
      "---  ------                                              --------------  -----  \n",
      " 0   date                                                19439 non-null  object \n",
      " 1   final.output.concentrate_ag                         19438 non-null  float64\n",
      " 2   final.output.concentrate_pb                         19438 non-null  float64\n",
      " 3   final.output.concentrate_sol                        19228 non-null  float64\n",
      " 4   final.output.concentrate_au                         19439 non-null  float64\n",
      " 5   final.output.recovery                               19439 non-null  float64\n",
      " 6   final.output.tail_ag                                19438 non-null  float64\n",
      " 7   final.output.tail_pb                                19338 non-null  float64\n",
      " 8   final.output.tail_sol                               19433 non-null  float64\n",
      " 9   final.output.tail_au                                19439 non-null  float64\n",
      " 10  primary_cleaner.input.sulfate                       19415 non-null  float64\n",
      " 11  primary_cleaner.input.depressant                    19402 non-null  float64\n",
      " 12  primary_cleaner.input.feed_size                     19439 non-null  float64\n",
      " 13  primary_cleaner.input.xanthate                      19335 non-null  float64\n",
      " 14  primary_cleaner.output.concentrate_ag               19439 non-null  float64\n",
      " 15  primary_cleaner.output.concentrate_pb               19323 non-null  float64\n",
      " 16  primary_cleaner.output.concentrate_sol              19069 non-null  float64\n",
      " 17  primary_cleaner.output.concentrate_au               19439 non-null  float64\n",
      " 18  primary_cleaner.output.tail_ag                      19435 non-null  float64\n",
      " 19  primary_cleaner.output.tail_pb                      19418 non-null  float64\n",
      " 20  primary_cleaner.output.tail_sol                     19377 non-null  float64\n",
      " 21  primary_cleaner.output.tail_au                      19439 non-null  float64\n",
      " 22  primary_cleaner.state.floatbank8_a_air              19435 non-null  float64\n",
      " 23  primary_cleaner.state.floatbank8_a_level            19438 non-null  float64\n",
      " 24  primary_cleaner.state.floatbank8_b_air              19435 non-null  float64\n",
      " 25  primary_cleaner.state.floatbank8_b_level            19438 non-null  float64\n",
      " 26  primary_cleaner.state.floatbank8_c_air              19437 non-null  float64\n",
      " 27  primary_cleaner.state.floatbank8_c_level            19438 non-null  float64\n",
      " 28  primary_cleaner.state.floatbank8_d_air              19436 non-null  float64\n",
      " 29  primary_cleaner.state.floatbank8_d_level            19438 non-null  float64\n",
      " 30  rougher.calculation.sulfate_to_au_concentrate       19437 non-null  float64\n",
      " 31  rougher.calculation.floatbank10_sulfate_to_au_feed  19437 non-null  float64\n",
      " 32  rougher.calculation.floatbank11_sulfate_to_au_feed  19437 non-null  float64\n",
      " 33  rougher.calculation.au_pb_ratio                     19439 non-null  float64\n",
      " 34  rougher.input.feed_ag                               19439 non-null  float64\n",
      " 35  rougher.input.feed_pb                               19339 non-null  float64\n",
      " 36  rougher.input.feed_rate                             19428 non-null  float64\n",
      " 37  rougher.input.feed_size                             19294 non-null  float64\n",
      " 38  rougher.input.feed_sol                              19340 non-null  float64\n",
      " 39  rougher.input.feed_au                               19439 non-null  float64\n",
      " 40  rougher.input.floatbank10_sulfate                   19405 non-null  float64\n",
      " 41  rougher.input.floatbank10_xanthate                  19431 non-null  float64\n",
      " 42  rougher.input.floatbank11_sulfate                   19395 non-null  float64\n",
      " 43  rougher.input.floatbank11_xanthate                  18986 non-null  float64\n",
      " 44  rougher.output.concentrate_ag                       19439 non-null  float64\n",
      " 45  rougher.output.concentrate_pb                       19439 non-null  float64\n",
      " 46  rougher.output.concentrate_sol                      19416 non-null  float64\n",
      " 47  rougher.output.concentrate_au                       19439 non-null  float64\n",
      " 48  rougher.output.recovery                             19439 non-null  float64\n",
      " 49  rougher.output.tail_ag                              19438 non-null  float64\n",
      " 50  rougher.output.tail_pb                              19439 non-null  float64\n",
      " 51  rougher.output.tail_sol                             19439 non-null  float64\n",
      " 52  rougher.output.tail_au                              19439 non-null  float64\n",
      " 53  rougher.state.floatbank10_a_air                     19438 non-null  float64\n",
      " 54  rougher.state.floatbank10_a_level                   19438 non-null  float64\n",
      " 55  rougher.state.floatbank10_b_air                     19438 non-null  float64\n",
      " 56  rougher.state.floatbank10_b_level                   19438 non-null  float64\n",
      " 57  rougher.state.floatbank10_c_air                     19438 non-null  float64\n",
      " 58  rougher.state.floatbank10_c_level                   19438 non-null  float64\n",
      " 59  rougher.state.floatbank10_d_air                     19439 non-null  float64\n",
      " 60  rougher.state.floatbank10_d_level                   19439 non-null  float64\n",
      " 61  rougher.state.floatbank10_e_air                     19003 non-null  float64\n",
      " 62  rougher.state.floatbank10_e_level                   19439 non-null  float64\n",
      " 63  rougher.state.floatbank10_f_air                     19439 non-null  float64\n",
      " 64  rougher.state.floatbank10_f_level                   19439 non-null  float64\n",
      " 65  secondary_cleaner.output.tail_ag                    19437 non-null  float64\n",
      " 66  secondary_cleaner.output.tail_pb                    19427 non-null  float64\n",
      " 67  secondary_cleaner.output.tail_sol                   17691 non-null  float64\n",
      " 68  secondary_cleaner.output.tail_au                    19439 non-null  float64\n",
      " 69  secondary_cleaner.state.floatbank2_a_air            19219 non-null  float64\n",
      " 70  secondary_cleaner.state.floatbank2_a_level          19438 non-null  float64\n",
      " 71  secondary_cleaner.state.floatbank2_b_air            19416 non-null  float64\n",
      " 72  secondary_cleaner.state.floatbank2_b_level          19438 non-null  float64\n",
      " 73  secondary_cleaner.state.floatbank3_a_air            19426 non-null  float64\n",
      " 74  secondary_cleaner.state.floatbank3_a_level          19438 non-null  float64\n",
      " 75  secondary_cleaner.state.floatbank3_b_air            19438 non-null  float64\n",
      " 76  secondary_cleaner.state.floatbank3_b_level          19438 non-null  float64\n",
      " 77  secondary_cleaner.state.floatbank4_a_air            19433 non-null  float64\n",
      " 78  secondary_cleaner.state.floatbank4_a_level          19438 non-null  float64\n",
      " 79  secondary_cleaner.state.floatbank4_b_air            19438 non-null  float64\n",
      " 80  secondary_cleaner.state.floatbank4_b_level          19438 non-null  float64\n",
      " 81  secondary_cleaner.state.floatbank5_a_air            19438 non-null  float64\n",
      " 82  secondary_cleaner.state.floatbank5_a_level          19438 non-null  float64\n",
      " 83  secondary_cleaner.state.floatbank5_b_air            19438 non-null  float64\n",
      " 84  secondary_cleaner.state.floatbank5_b_level          19438 non-null  float64\n",
      " 85  secondary_cleaner.state.floatbank6_a_air            19437 non-null  float64\n",
      " 86  secondary_cleaner.state.floatbank6_a_level          19438 non-null  float64\n",
      "dtypes: float64(86), object(1)\n",
      "memory usage: 12.9+ MB\n"
     ]
    }
   ],
   "source": [
    "full.info()"
   ]
  },
  {
   "cell_type": "markdown",
   "metadata": {},
   "source": [
    "<font color='blue'><b>Комментарий ревьюера: </b></font> ✔️\\\n",
    "<font color='green'>Данные загружены корректно, первичный осмотр проведен.</font>"
   ]
  },
  {
   "cell_type": "markdown",
   "metadata": {},
   "source": [
    "### Проверка формулы вычисления эффективности обогащения"
   ]
  },
  {
   "cell_type": "code",
   "execution_count": 65,
   "metadata": {},
   "outputs": [],
   "source": [
    "def calculate_recovery(C, F, T):\n",
    "    a = C * (F - T)\n",
    "    b = F * (C - T)\n",
    "    res = (a / b) * 100\n",
    "    return res"
   ]
  },
  {
   "cell_type": "markdown",
   "metadata": {},
   "source": [
    "<font color='blue'><b>Комментарий ревьюера: </b></font> ✔️\\\n",
    "<font color='green'>Расчёт верный!</font>"
   ]
  },
  {
   "cell_type": "code",
   "execution_count": 66,
   "metadata": {},
   "outputs": [],
   "source": [
    "train['recovery_calculated'] = (train.apply(lambda row: calculate_recovery(\n",
    "                                                   row['rougher.output.concentrate_au'],\n",
    "                                                   row['rougher.input.feed_au'],\n",
    "                                                   row['rougher.output.tail_au']), axis=1)\n",
    ")"
   ]
  },
  {
   "cell_type": "markdown",
   "metadata": {},
   "source": [
    "<font color='blue'><b>Комментарий ревьюера : </b></font> ⚠️\\\n",
    "<font color='darkorange'> Старайся разбивать код на строчки так, что бы всё было перед глазами. По стандарту строка кода не должна превышать 79 символов.</font>"
   ]
  },
  {
   "cell_type": "markdown",
   "metadata": {},
   "source": [
    "<font color='blue'><b>Комментарий ревьюера 2: </b></font> ✔️\\\n",
    "<font color='green'>👍</font>"
   ]
  },
  {
   "cell_type": "code",
   "execution_count": 67,
   "metadata": {},
   "outputs": [
    {
     "data": {
      "text/html": [
       "<div>\n",
       "<style scoped>\n",
       "    .dataframe tbody tr th:only-of-type {\n",
       "        vertical-align: middle;\n",
       "    }\n",
       "\n",
       "    .dataframe tbody tr th {\n",
       "        vertical-align: top;\n",
       "    }\n",
       "\n",
       "    .dataframe thead th {\n",
       "        text-align: right;\n",
       "    }\n",
       "</style>\n",
       "<table border=\"1\" class=\"dataframe\">\n",
       "  <thead>\n",
       "    <tr style=\"text-align: right;\">\n",
       "      <th></th>\n",
       "      <th>date</th>\n",
       "      <th>recovery_calculated</th>\n",
       "      <th>rougher.output.recovery</th>\n",
       "    </tr>\n",
       "  </thead>\n",
       "  <tbody>\n",
       "    <tr>\n",
       "      <th>0</th>\n",
       "      <td>2016-01-15 00:00:00</td>\n",
       "      <td>87.11</td>\n",
       "      <td>87.11</td>\n",
       "    </tr>\n",
       "    <tr>\n",
       "      <th>1</th>\n",
       "      <td>2016-01-15 01:00:00</td>\n",
       "      <td>86.84</td>\n",
       "      <td>86.84</td>\n",
       "    </tr>\n",
       "    <tr>\n",
       "      <th>2</th>\n",
       "      <td>2016-01-15 02:00:00</td>\n",
       "      <td>86.84</td>\n",
       "      <td>86.84</td>\n",
       "    </tr>\n",
       "    <tr>\n",
       "      <th>3</th>\n",
       "      <td>2016-01-15 03:00:00</td>\n",
       "      <td>87.23</td>\n",
       "      <td>87.23</td>\n",
       "    </tr>\n",
       "    <tr>\n",
       "      <th>4</th>\n",
       "      <td>2016-01-15 04:00:00</td>\n",
       "      <td>86.69</td>\n",
       "      <td>86.69</td>\n",
       "    </tr>\n",
       "    <tr>\n",
       "      <th>...</th>\n",
       "      <td>...</td>\n",
       "      <td>...</td>\n",
       "      <td>...</td>\n",
       "    </tr>\n",
       "    <tr>\n",
       "      <th>14144</th>\n",
       "      <td>2018-08-18 06:59:59</td>\n",
       "      <td>89.57</td>\n",
       "      <td>89.57</td>\n",
       "    </tr>\n",
       "    <tr>\n",
       "      <th>14145</th>\n",
       "      <td>2018-08-18 07:59:59</td>\n",
       "      <td>87.72</td>\n",
       "      <td>87.72</td>\n",
       "    </tr>\n",
       "    <tr>\n",
       "      <th>14146</th>\n",
       "      <td>2018-08-18 08:59:59</td>\n",
       "      <td>88.89</td>\n",
       "      <td>88.89</td>\n",
       "    </tr>\n",
       "    <tr>\n",
       "      <th>14147</th>\n",
       "      <td>2018-08-18 09:59:59</td>\n",
       "      <td>89.86</td>\n",
       "      <td>89.86</td>\n",
       "    </tr>\n",
       "    <tr>\n",
       "      <th>14148</th>\n",
       "      <td>2018-08-18 10:59:59</td>\n",
       "      <td>89.51</td>\n",
       "      <td>89.51</td>\n",
       "    </tr>\n",
       "  </tbody>\n",
       "</table>\n",
       "<p>14149 rows × 3 columns</p>\n",
       "</div>"
      ],
      "text/plain": [
       "                      date  recovery_calculated  rougher.output.recovery\n",
       "0      2016-01-15 00:00:00                87.11                    87.11\n",
       "1      2016-01-15 01:00:00                86.84                    86.84\n",
       "2      2016-01-15 02:00:00                86.84                    86.84\n",
       "3      2016-01-15 03:00:00                87.23                    87.23\n",
       "4      2016-01-15 04:00:00                86.69                    86.69\n",
       "...                    ...                  ...                      ...\n",
       "14144  2018-08-18 06:59:59                89.57                    89.57\n",
       "14145  2018-08-18 07:59:59                87.72                    87.72\n",
       "14146  2018-08-18 08:59:59                88.89                    88.89\n",
       "14147  2018-08-18 09:59:59                89.86                    89.86\n",
       "14148  2018-08-18 10:59:59                89.51                    89.51\n",
       "\n",
       "[14149 rows x 3 columns]"
      ]
     },
     "execution_count": 67,
     "metadata": {},
     "output_type": "execute_result"
    }
   ],
   "source": [
    "train[['date','recovery_calculated', 'rougher.output.recovery']]"
   ]
  },
  {
   "cell_type": "code",
   "execution_count": 68,
   "metadata": {},
   "outputs": [
    {
     "data": {
      "text/html": [
       "<div>\n",
       "<style scoped>\n",
       "    .dataframe tbody tr th:only-of-type {\n",
       "        vertical-align: middle;\n",
       "    }\n",
       "\n",
       "    .dataframe tbody tr th {\n",
       "        vertical-align: top;\n",
       "    }\n",
       "\n",
       "    .dataframe thead th {\n",
       "        text-align: right;\n",
       "    }\n",
       "</style>\n",
       "<table border=\"1\" class=\"dataframe\">\n",
       "  <thead>\n",
       "    <tr style=\"text-align: right;\">\n",
       "      <th></th>\n",
       "      <th>recovery_calculated</th>\n",
       "      <th>rougher.output.recovery</th>\n",
       "    </tr>\n",
       "  </thead>\n",
       "  <tbody>\n",
       "    <tr>\n",
       "      <th>count</th>\n",
       "      <td>14149.00</td>\n",
       "      <td>14149.00</td>\n",
       "    </tr>\n",
       "    <tr>\n",
       "      <th>mean</th>\n",
       "      <td>82.70</td>\n",
       "      <td>82.70</td>\n",
       "    </tr>\n",
       "    <tr>\n",
       "      <th>std</th>\n",
       "      <td>14.48</td>\n",
       "      <td>14.48</td>\n",
       "    </tr>\n",
       "    <tr>\n",
       "      <th>min</th>\n",
       "      <td>-0.00</td>\n",
       "      <td>0.00</td>\n",
       "    </tr>\n",
       "    <tr>\n",
       "      <th>25%</th>\n",
       "      <td>79.99</td>\n",
       "      <td>79.99</td>\n",
       "    </tr>\n",
       "    <tr>\n",
       "      <th>50%</th>\n",
       "      <td>85.30</td>\n",
       "      <td>85.30</td>\n",
       "    </tr>\n",
       "    <tr>\n",
       "      <th>75%</th>\n",
       "      <td>90.17</td>\n",
       "      <td>90.17</td>\n",
       "    </tr>\n",
       "    <tr>\n",
       "      <th>max</th>\n",
       "      <td>100.00</td>\n",
       "      <td>100.00</td>\n",
       "    </tr>\n",
       "  </tbody>\n",
       "</table>\n",
       "</div>"
      ],
      "text/plain": [
       "       recovery_calculated  rougher.output.recovery\n",
       "count             14149.00                 14149.00\n",
       "mean                 82.70                    82.70\n",
       "std                  14.48                    14.48\n",
       "min                  -0.00                     0.00\n",
       "25%                  79.99                    79.99\n",
       "50%                  85.30                    85.30\n",
       "75%                  90.17                    90.17\n",
       "max                 100.00                   100.00"
      ]
     },
     "execution_count": 68,
     "metadata": {},
     "output_type": "execute_result"
    }
   ],
   "source": [
    "train[['date','recovery_calculated', 'rougher.output.recovery']].describe()\n"
   ]
  },
  {
   "cell_type": "code",
   "execution_count": 69,
   "metadata": {},
   "outputs": [
    {
     "name": "stdout",
     "output_type": "stream",
     "text": [
      "<class 'pandas.core.frame.DataFrame'>\n",
      "RangeIndex: 14149 entries, 0 to 14148\n",
      "Data columns (total 3 columns):\n",
      " #   Column                   Non-Null Count  Dtype  \n",
      "---  ------                   --------------  -----  \n",
      " 0   date                     14149 non-null  object \n",
      " 1   recovery_calculated      14149 non-null  float64\n",
      " 2   rougher.output.recovery  14149 non-null  float64\n",
      "dtypes: float64(2), object(1)\n",
      "memory usage: 331.7+ KB\n"
     ]
    }
   ],
   "source": [
    "train[['date','recovery_calculated', 'rougher.output.recovery']].info()"
   ]
  },
  {
   "cell_type": "code",
   "execution_count": 70,
   "metadata": {},
   "outputs": [
    {
     "data": {
      "text/plain": [
       "9.73512347450521e-15"
      ]
     },
     "execution_count": 70,
     "metadata": {},
     "output_type": "execute_result"
    }
   ],
   "source": [
    "mae = mean_absolute_error(train['rougher.output.recovery'],train['recovery_calculated'])\n",
    "mae"
   ]
  },
  {
   "cell_type": "markdown",
   "metadata": {},
   "source": [
    "Судя по очень низкой  ошибке, коэффициент восстановления посчитан  верно"
   ]
  },
  {
   "cell_type": "markdown",
   "metadata": {},
   "source": [
    "<font color='blue'><b>Комментарий ревьюера: </b></font> ✔️\\\n",
    "<font color='green'>👍</font>"
   ]
  },
  {
   "cell_type": "code",
   "execution_count": 71,
   "metadata": {},
   "outputs": [],
   "source": [
    "train = train.drop('recovery_calculated',axis=1)"
   ]
  },
  {
   "cell_type": "markdown",
   "metadata": {},
   "source": [
    "### Проанализируем признаки, недоступные в тестовой выборке"
   ]
  },
  {
   "cell_type": "code",
   "execution_count": 72,
   "metadata": {},
   "outputs": [],
   "source": [
    "not_in_test_columns = []\n",
    "for col in train.columns:\n",
    "    if col not in test.columns:\n",
    "        not_in_test_columns.append(col)"
   ]
  },
  {
   "cell_type": "code",
   "execution_count": 73,
   "metadata": {},
   "outputs": [
    {
     "data": {
      "text/plain": [
       "['final.output.concentrate_ag',\n",
       " 'final.output.concentrate_pb',\n",
       " 'final.output.concentrate_sol',\n",
       " 'final.output.concentrate_au',\n",
       " 'final.output.recovery',\n",
       " 'final.output.tail_ag',\n",
       " 'final.output.tail_pb',\n",
       " 'final.output.tail_sol',\n",
       " 'final.output.tail_au',\n",
       " 'primary_cleaner.output.concentrate_ag',\n",
       " 'primary_cleaner.output.concentrate_pb',\n",
       " 'primary_cleaner.output.concentrate_sol',\n",
       " 'primary_cleaner.output.concentrate_au',\n",
       " 'primary_cleaner.output.tail_ag',\n",
       " 'primary_cleaner.output.tail_pb',\n",
       " 'primary_cleaner.output.tail_sol',\n",
       " 'primary_cleaner.output.tail_au',\n",
       " 'rougher.calculation.sulfate_to_au_concentrate',\n",
       " 'rougher.calculation.floatbank10_sulfate_to_au_feed',\n",
       " 'rougher.calculation.floatbank11_sulfate_to_au_feed',\n",
       " 'rougher.calculation.au_pb_ratio',\n",
       " 'rougher.output.concentrate_ag',\n",
       " 'rougher.output.concentrate_pb',\n",
       " 'rougher.output.concentrate_sol',\n",
       " 'rougher.output.concentrate_au',\n",
       " 'rougher.output.recovery',\n",
       " 'rougher.output.tail_ag',\n",
       " 'rougher.output.tail_pb',\n",
       " 'rougher.output.tail_sol',\n",
       " 'rougher.output.tail_au',\n",
       " 'secondary_cleaner.output.tail_ag',\n",
       " 'secondary_cleaner.output.tail_pb',\n",
       " 'secondary_cleaner.output.tail_sol',\n",
       " 'secondary_cleaner.output.tail_au']"
      ]
     },
     "execution_count": 73,
     "metadata": {},
     "output_type": "execute_result"
    }
   ],
   "source": [
    "not_in_test_columns"
   ]
  },
  {
   "cell_type": "markdown",
   "metadata": {},
   "source": [
    "В список столбцов не вошли целевые столбцы: rougher.output.recovery, final.output.recovery, а также те столбцы, которые являются результирующими (output) или расчетными (calculated) они считаются после того, как модель будет предсказана. Типы данных - float64."
   ]
  },
  {
   "cell_type": "markdown",
   "metadata": {},
   "source": [
    "<font color='blue'><b>Комментарий ревьюера: </b></font> ✔️\\\n",
    "<font color='green'> Верно!</font>"
   ]
  },
  {
   "cell_type": "markdown",
   "metadata": {},
   "source": [
    "Удалим из train датасета все столбцы, которых нет в  test, за исключением целевых:\n",
    "    "
   ]
  },
  {
   "cell_type": "code",
   "execution_count": 74,
   "metadata": {},
   "outputs": [],
   "source": [
    "not_in_test_columns.remove('rougher.output.recovery')"
   ]
  },
  {
   "cell_type": "code",
   "execution_count": 75,
   "metadata": {},
   "outputs": [],
   "source": [
    "not_in_test_columns.remove('final.output.recovery')"
   ]
  },
  {
   "cell_type": "code",
   "execution_count": 76,
   "metadata": {},
   "outputs": [
    {
     "data": {
      "text/plain": [
       "(14149, 55)"
      ]
     },
     "execution_count": 76,
     "metadata": {},
     "output_type": "execute_result"
    }
   ],
   "source": [
    "train = train.drop(not_in_test_columns, axis=1)\n",
    "train.shape"
   ]
  },
  {
   "cell_type": "markdown",
   "metadata": {},
   "source": [
    "### Рассмотрим пропуски"
   ]
  },
  {
   "cell_type": "code",
   "execution_count": 77,
   "metadata": {},
   "outputs": [
    {
     "data": {
      "text/plain": [
       "rougher.state.floatbank10_e_air               436\n",
       "rougher.input.floatbank11_xanthate            428\n",
       "secondary_cleaner.state.floatbank2_a_air      217\n",
       "rougher.input.feed_size                       144\n",
       "rougher.input.feed_pb                         100\n",
       "primary_cleaner.input.xanthate                100\n",
       "rougher.input.feed_sol                         78\n",
       "rougher.input.floatbank11_sulfate              36\n",
       "primary_cleaner.input.depressant               32\n",
       "rougher.input.floatbank10_sulfate              29\n",
       "secondary_cleaner.state.floatbank2_b_air       21\n",
       "primary_cleaner.input.sulfate                  20\n",
       "rougher.input.feed_rate                         8\n",
       "rougher.input.floatbank10_xanthate              8\n",
       "secondary_cleaner.state.floatbank4_a_air        6\n",
       "secondary_cleaner.state.floatbank3_a_air        4\n",
       "primary_cleaner.state.floatbank8_b_air          4\n",
       "primary_cleaner.state.floatbank8_a_air          4\n",
       "primary_cleaner.state.floatbank8_d_air          3\n",
       "primary_cleaner.state.floatbank8_c_air          2\n",
       "secondary_cleaner.state.floatbank6_a_air        2\n",
       "secondary_cleaner.state.floatbank3_b_level      1\n",
       "secondary_cleaner.state.floatbank3_a_level      1\n",
       "secondary_cleaner.state.floatbank2_b_level      1\n",
       "secondary_cleaner.state.floatbank2_a_level      1\n",
       "secondary_cleaner.state.floatbank3_b_air        1\n",
       "secondary_cleaner.state.floatbank4_b_air        1\n",
       "secondary_cleaner.state.floatbank4_a_level      1\n",
       "secondary_cleaner.state.floatbank4_b_level      1\n",
       "secondary_cleaner.state.floatbank5_a_air        1\n",
       "secondary_cleaner.state.floatbank5_a_level      1\n",
       "secondary_cleaner.state.floatbank5_b_air        1\n",
       "secondary_cleaner.state.floatbank5_b_level      1\n",
       "rougher.state.floatbank10_b_air                 1\n",
       "secondary_cleaner.state.floatbank6_a_level      1\n",
       "rougher.state.floatbank10_a_air                 1\n",
       "primary_cleaner.state.floatbank8_a_level        1\n",
       "primary_cleaner.state.floatbank8_b_level        1\n",
       "rougher.state.floatbank10_c_level               1\n",
       "rougher.state.floatbank10_c_air                 1\n",
       "rougher.state.floatbank10_b_level               1\n",
       "primary_cleaner.state.floatbank8_c_level        1\n",
       "rougher.state.floatbank10_a_level               1\n",
       "primary_cleaner.state.floatbank8_d_level        1\n",
       "rougher.input.feed_au                           0\n",
       "primary_cleaner.input.feed_size                 0\n",
       "rougher.input.feed_ag                           0\n",
       "rougher.state.floatbank10_f_air                 0\n",
       "rougher.output.recovery                         0\n",
       "rougher.state.floatbank10_f_level               0\n",
       "final.output.recovery                           0\n",
       "rougher.state.floatbank10_d_air                 0\n",
       "rougher.state.floatbank10_d_level               0\n",
       "rougher.state.floatbank10_e_level               0\n",
       "date                                            0\n",
       "dtype: int64"
      ]
     },
     "execution_count": 77,
     "metadata": {},
     "output_type": "execute_result"
    }
   ],
   "source": [
    "train.isna().sum().sort_values(ascending=False)"
   ]
  },
  {
   "cell_type": "markdown",
   "metadata": {},
   "source": [
    "Поскольку пропусков мало и по условию их значения мало отличаются по времени, заполним пропуски предыдущими по времени значениями"
   ]
  },
  {
   "cell_type": "code",
   "execution_count": 78,
   "metadata": {},
   "outputs": [],
   "source": [
    "train = train.sort_values(by='date').fillna(method='backfill')\n"
   ]
  },
  {
   "cell_type": "markdown",
   "metadata": {},
   "source": [
    "<font color='blue'><b>Комментарий ревьюера: </b></font> ✔️\\\n",
    "<font color='green'> Пропуски заполнены согласно условию задачи!</font>"
   ]
  },
  {
   "cell_type": "code",
   "execution_count": 79,
   "metadata": {},
   "outputs": [
    {
     "name": "stdout",
     "output_type": "stream",
     "text": [
      "<class 'pandas.core.frame.DataFrame'>\n",
      "Int64Index: 14149 entries, 0 to 14148\n",
      "Data columns (total 55 columns):\n",
      " #   Column                                      Non-Null Count  Dtype  \n",
      "---  ------                                      --------------  -----  \n",
      " 0   date                                        14149 non-null  object \n",
      " 1   final.output.recovery                       14149 non-null  float64\n",
      " 2   primary_cleaner.input.sulfate               14149 non-null  float64\n",
      " 3   primary_cleaner.input.depressant            14149 non-null  float64\n",
      " 4   primary_cleaner.input.feed_size             14149 non-null  float64\n",
      " 5   primary_cleaner.input.xanthate              14149 non-null  float64\n",
      " 6   primary_cleaner.state.floatbank8_a_air      14149 non-null  float64\n",
      " 7   primary_cleaner.state.floatbank8_a_level    14149 non-null  float64\n",
      " 8   primary_cleaner.state.floatbank8_b_air      14149 non-null  float64\n",
      " 9   primary_cleaner.state.floatbank8_b_level    14149 non-null  float64\n",
      " 10  primary_cleaner.state.floatbank8_c_air      14149 non-null  float64\n",
      " 11  primary_cleaner.state.floatbank8_c_level    14149 non-null  float64\n",
      " 12  primary_cleaner.state.floatbank8_d_air      14149 non-null  float64\n",
      " 13  primary_cleaner.state.floatbank8_d_level    14149 non-null  float64\n",
      " 14  rougher.input.feed_ag                       14149 non-null  float64\n",
      " 15  rougher.input.feed_pb                       14149 non-null  float64\n",
      " 16  rougher.input.feed_rate                     14149 non-null  float64\n",
      " 17  rougher.input.feed_size                     14149 non-null  float64\n",
      " 18  rougher.input.feed_sol                      14149 non-null  float64\n",
      " 19  rougher.input.feed_au                       14149 non-null  float64\n",
      " 20  rougher.input.floatbank10_sulfate           14149 non-null  float64\n",
      " 21  rougher.input.floatbank10_xanthate          14149 non-null  float64\n",
      " 22  rougher.input.floatbank11_sulfate           14149 non-null  float64\n",
      " 23  rougher.input.floatbank11_xanthate          14149 non-null  float64\n",
      " 24  rougher.output.recovery                     14149 non-null  float64\n",
      " 25  rougher.state.floatbank10_a_air             14149 non-null  float64\n",
      " 26  rougher.state.floatbank10_a_level           14149 non-null  float64\n",
      " 27  rougher.state.floatbank10_b_air             14149 non-null  float64\n",
      " 28  rougher.state.floatbank10_b_level           14149 non-null  float64\n",
      " 29  rougher.state.floatbank10_c_air             14149 non-null  float64\n",
      " 30  rougher.state.floatbank10_c_level           14149 non-null  float64\n",
      " 31  rougher.state.floatbank10_d_air             14149 non-null  float64\n",
      " 32  rougher.state.floatbank10_d_level           14149 non-null  float64\n",
      " 33  rougher.state.floatbank10_e_air             14149 non-null  float64\n",
      " 34  rougher.state.floatbank10_e_level           14149 non-null  float64\n",
      " 35  rougher.state.floatbank10_f_air             14149 non-null  float64\n",
      " 36  rougher.state.floatbank10_f_level           14149 non-null  float64\n",
      " 37  secondary_cleaner.state.floatbank2_a_air    14149 non-null  float64\n",
      " 38  secondary_cleaner.state.floatbank2_a_level  14149 non-null  float64\n",
      " 39  secondary_cleaner.state.floatbank2_b_air    14149 non-null  float64\n",
      " 40  secondary_cleaner.state.floatbank2_b_level  14149 non-null  float64\n",
      " 41  secondary_cleaner.state.floatbank3_a_air    14149 non-null  float64\n",
      " 42  secondary_cleaner.state.floatbank3_a_level  14149 non-null  float64\n",
      " 43  secondary_cleaner.state.floatbank3_b_air    14149 non-null  float64\n",
      " 44  secondary_cleaner.state.floatbank3_b_level  14149 non-null  float64\n",
      " 45  secondary_cleaner.state.floatbank4_a_air    14149 non-null  float64\n",
      " 46  secondary_cleaner.state.floatbank4_a_level  14149 non-null  float64\n",
      " 47  secondary_cleaner.state.floatbank4_b_air    14149 non-null  float64\n",
      " 48  secondary_cleaner.state.floatbank4_b_level  14149 non-null  float64\n",
      " 49  secondary_cleaner.state.floatbank5_a_air    14149 non-null  float64\n",
      " 50  secondary_cleaner.state.floatbank5_a_level  14149 non-null  float64\n",
      " 51  secondary_cleaner.state.floatbank5_b_air    14149 non-null  float64\n",
      " 52  secondary_cleaner.state.floatbank5_b_level  14149 non-null  float64\n",
      " 53  secondary_cleaner.state.floatbank6_a_air    14149 non-null  float64\n",
      " 54  secondary_cleaner.state.floatbank6_a_level  14149 non-null  float64\n",
      "dtypes: float64(54), object(1)\n",
      "memory usage: 6.0+ MB\n"
     ]
    }
   ],
   "source": [
    "train.info()"
   ]
  },
  {
   "cell_type": "code",
   "execution_count": 80,
   "metadata": {},
   "outputs": [],
   "source": [
    "test = test.sort_values(by='date').fillna(method='backfill')"
   ]
  },
  {
   "cell_type": "code",
   "execution_count": 81,
   "metadata": {},
   "outputs": [
    {
     "name": "stdout",
     "output_type": "stream",
     "text": [
      "<class 'pandas.core.frame.DataFrame'>\n",
      "Int64Index: 5290 entries, 0 to 5289\n",
      "Data columns (total 53 columns):\n",
      " #   Column                                      Non-Null Count  Dtype  \n",
      "---  ------                                      --------------  -----  \n",
      " 0   date                                        5290 non-null   object \n",
      " 1   primary_cleaner.input.sulfate               5290 non-null   float64\n",
      " 2   primary_cleaner.input.depressant            5290 non-null   float64\n",
      " 3   primary_cleaner.input.feed_size             5290 non-null   float64\n",
      " 4   primary_cleaner.input.xanthate              5290 non-null   float64\n",
      " 5   primary_cleaner.state.floatbank8_a_air      5290 non-null   float64\n",
      " 6   primary_cleaner.state.floatbank8_a_level    5290 non-null   float64\n",
      " 7   primary_cleaner.state.floatbank8_b_air      5290 non-null   float64\n",
      " 8   primary_cleaner.state.floatbank8_b_level    5290 non-null   float64\n",
      " 9   primary_cleaner.state.floatbank8_c_air      5290 non-null   float64\n",
      " 10  primary_cleaner.state.floatbank8_c_level    5290 non-null   float64\n",
      " 11  primary_cleaner.state.floatbank8_d_air      5290 non-null   float64\n",
      " 12  primary_cleaner.state.floatbank8_d_level    5290 non-null   float64\n",
      " 13  rougher.input.feed_ag                       5290 non-null   float64\n",
      " 14  rougher.input.feed_pb                       5290 non-null   float64\n",
      " 15  rougher.input.feed_rate                     5290 non-null   float64\n",
      " 16  rougher.input.feed_size                     5290 non-null   float64\n",
      " 17  rougher.input.feed_sol                      5290 non-null   float64\n",
      " 18  rougher.input.feed_au                       5290 non-null   float64\n",
      " 19  rougher.input.floatbank10_sulfate           5290 non-null   float64\n",
      " 20  rougher.input.floatbank10_xanthate          5290 non-null   float64\n",
      " 21  rougher.input.floatbank11_sulfate           5290 non-null   float64\n",
      " 22  rougher.input.floatbank11_xanthate          5290 non-null   float64\n",
      " 23  rougher.state.floatbank10_a_air             5290 non-null   float64\n",
      " 24  rougher.state.floatbank10_a_level           5290 non-null   float64\n",
      " 25  rougher.state.floatbank10_b_air             5290 non-null   float64\n",
      " 26  rougher.state.floatbank10_b_level           5290 non-null   float64\n",
      " 27  rougher.state.floatbank10_c_air             5290 non-null   float64\n",
      " 28  rougher.state.floatbank10_c_level           5290 non-null   float64\n",
      " 29  rougher.state.floatbank10_d_air             5290 non-null   float64\n",
      " 30  rougher.state.floatbank10_d_level           5290 non-null   float64\n",
      " 31  rougher.state.floatbank10_e_air             5290 non-null   float64\n",
      " 32  rougher.state.floatbank10_e_level           5290 non-null   float64\n",
      " 33  rougher.state.floatbank10_f_air             5290 non-null   float64\n",
      " 34  rougher.state.floatbank10_f_level           5290 non-null   float64\n",
      " 35  secondary_cleaner.state.floatbank2_a_air    5290 non-null   float64\n",
      " 36  secondary_cleaner.state.floatbank2_a_level  5290 non-null   float64\n",
      " 37  secondary_cleaner.state.floatbank2_b_air    5290 non-null   float64\n",
      " 38  secondary_cleaner.state.floatbank2_b_level  5290 non-null   float64\n",
      " 39  secondary_cleaner.state.floatbank3_a_air    5290 non-null   float64\n",
      " 40  secondary_cleaner.state.floatbank3_a_level  5290 non-null   float64\n",
      " 41  secondary_cleaner.state.floatbank3_b_air    5290 non-null   float64\n",
      " 42  secondary_cleaner.state.floatbank3_b_level  5290 non-null   float64\n",
      " 43  secondary_cleaner.state.floatbank4_a_air    5290 non-null   float64\n",
      " 44  secondary_cleaner.state.floatbank4_a_level  5290 non-null   float64\n",
      " 45  secondary_cleaner.state.floatbank4_b_air    5290 non-null   float64\n",
      " 46  secondary_cleaner.state.floatbank4_b_level  5290 non-null   float64\n",
      " 47  secondary_cleaner.state.floatbank5_a_air    5290 non-null   float64\n",
      " 48  secondary_cleaner.state.floatbank5_a_level  5290 non-null   float64\n",
      " 49  secondary_cleaner.state.floatbank5_b_air    5290 non-null   float64\n",
      " 50  secondary_cleaner.state.floatbank5_b_level  5290 non-null   float64\n",
      " 51  secondary_cleaner.state.floatbank6_a_air    5290 non-null   float64\n",
      " 52  secondary_cleaner.state.floatbank6_a_level  5290 non-null   float64\n",
      "dtypes: float64(52), object(1)\n",
      "memory usage: 2.2+ MB\n"
     ]
    }
   ],
   "source": [
    "test.info()"
   ]
  },
  {
   "cell_type": "markdown",
   "metadata": {},
   "source": [
    "## Анализ данных"
   ]
  },
  {
   "cell_type": "markdown",
   "metadata": {},
   "source": [
    "#### Посмотрим, как меняется концентрация металлов (Au, Ag, Pb) на различных этапах очистки"
   ]
  },
  {
   "cell_type": "code",
   "execution_count": 82,
   "metadata": {},
   "outputs": [],
   "source": [
    "cleaning_steps = ['rougher.output.concentrate_','primary_cleaner.output.concentrate_',\\\n",
    "                 'final.output.concentrate_']\n",
    "metals = ['pb', 'ag', 'au']"
   ]
  },
  {
   "cell_type": "code",
   "execution_count": null,
   "metadata": {
    "scrolled": true
   },
   "outputs": [],
   "source": [
    "ax = plt.figure(figsize=(20,20))\n",
    "\n",
    "for i, el1 in enumerate(metals):\n",
    "    for el2 in cleaning_steps:\n",
    "        ax = plt.subplot(3, 1, i+1)\n",
    "        step = el2+el1\n",
    "        sns.distplot(full[step], label=step)\n",
    "        ax.set_xlabel('Концентрация '+ el1+' по этапам очистки')\n",
    "        plt.legend()\n",
    "        \n",
    "    "
   ]
  },
  {
   "cell_type": "markdown",
   "metadata": {},
   "source": [
    "1) На первом этапе (этапе флотации) концентрация свинца была относительно ниже, на на втором и финальном этапах она практически одинкова\n",
    "2) Концентрация серебра убывала в ходе очистки\n",
    "3) Концентрация золота возрастала (как и предполагалось) с первого до финального этапа\n",
    "4) Видим всплески концентраций металлов в районе 0, похоже на выбросы, требует изучения"
   ]
  },
  {
   "cell_type": "markdown",
   "metadata": {},
   "source": [
    "<font color='purple'><b>Ответ: </b>\n",
    "Рассмотрим начальные концентрации металлов </font>"
   ]
  },
  {
   "cell_type": "code",
   "execution_count": null,
   "metadata": {},
   "outputs": [],
   "source": [
    "metals = ['pb', 'au', 'ag']\n",
    "ax = plt.figure(figsize=(20,20))\n",
    "\n",
    "for i, el1 in enumerate(metals):\n",
    "        sns.distplot(full['rougher.input.feed_'+el1], label=el1)\n",
    "        plt.title('Начальные концентрации металлов')\n",
    "        plt.xlabel('rougher.input.feed')\n",
    "        plt.legend()\n",
    "        "
   ]
  },
  {
   "cell_type": "markdown",
   "metadata": {},
   "source": [
    "Видим, что начальная концентрация самая низкая  у свинца, концентрация золота и серебра примерно одинаковые"
   ]
  },
  {
   "cell_type": "markdown",
   "metadata": {},
   "source": [
    "Посмотрим финальные концентрации"
   ]
  },
  {
   "cell_type": "code",
   "execution_count": null,
   "metadata": {},
   "outputs": [],
   "source": [
    "metals = ['pb', 'au', 'ag']\n",
    "ax = plt.figure(figsize=(20,20))\n",
    "\n",
    "for i, el1 in enumerate(metals):\n",
    "        sns.distplot(full['final.output.concentrate_'+el1], label=el1)\n",
    "        plt.title('Конечные концентрации металлов')\n",
    "        plt.xlabel('final.output.concentrate')\n",
    "        plt.legend()\n",
    "        "
   ]
  },
  {
   "cell_type": "markdown",
   "metadata": {},
   "source": [
    "В конце процесса очистки концентрация золота ожидаемо возрастает, концентрация свинца и серебра близки"
   ]
  },
  {
   "cell_type": "markdown",
   "metadata": {},
   "source": [
    "<font color='blue'><b>Комментарий ревьюера: </b></font> ⚠️\\\n",
    "<font color='darkorange'> Можно ещё посмотреть начальные концентрации `rougher.input.feed_{металл}`</font>"
   ]
  },
  {
   "cell_type": "markdown",
   "metadata": {},
   "source": [
    "#### Сравним распределения размеров гранул сырья на обучающей и тестовой выборках. Если распределения сильно отличаются друг от друга, оценка модели будет неправильной."
   ]
  },
  {
   "cell_type": "code",
   "execution_count": 86,
   "metadata": {},
   "outputs": [],
   "source": [
    "stages = [('rougher.input.feed_size','Размер гранул на этапе флотации'), ('primary_cleaner.input.feed_size','Размер гранул на этапе первичной очистки')]\n",
    "datasets = {'Тренировочный датасет': train, 'Тестовый датасет': test}"
   ]
  },
  {
   "cell_type": "code",
   "execution_count": 87,
   "metadata": {},
   "outputs": [
    {
     "data": {
      "image/png": "[encoded data removed]",
      "text/plain": [
       "<Figure size 2000x1000 with 2 Axes>"
      ]
     },
     "metadata": {},
     "output_type": "display_data"
    }
   ],
   "source": [
    "plt.figure(figsize=(20,10))\n",
    "for i,stage in enumerate(stages):\n",
    "    for key, value in datasets.items():\n",
    "        plt.subplot(1,2,i+1)\n",
    "        sns.distplot(value[stage[0]], label=key)\n",
    "        plt.title(stage[1])\n",
    "        plt.legend()\n",
    "plt.show()\n",
    "    \n",
    "    "
   ]
  },
  {
   "cell_type": "markdown",
   "metadata": {},
   "source": [
    "Видим, что размер гранул не различается на тренировочной и тестовой выборках, анализ будет корректным"
   ]
  },
  {
   "cell_type": "markdown",
   "metadata": {},
   "source": [
    "<font color='blue'><b>Комментарий ревьюера: </b></font> ✔️\\\n",
    "<font color='green'> Вывод верный!</font> "
   ]
  },
  {
   "cell_type": "markdown",
   "metadata": {},
   "source": [
    "#### Исследуем суммарную концентрацию всех веществ на разных стадиях: в сырье, в черновом и финальном концентратах."
   ]
  },
  {
   "cell_type": "code",
   "execution_count": 88,
   "metadata": {},
   "outputs": [],
   "source": [
    "metals = ['pb', 'au', 'ag', 'sol']\n",
    "step_labels = zip(cleaning_steps,['Флотация', 'Первичная очистка', 'Финальная'])"
   ]
  },
  {
   "cell_type": "code",
   "execution_count": null,
   "metadata": {},
   "outputs": [],
   "source": [
    "plt.figure(figsize=(20,10))\n",
    "for i, step in enumerate(step_labels):\n",
    "        plt.subplot(1,3,i+1)      \n",
    "        sns.distplot(full[step[0]+'pb']+full[step[0]+'au']+full[step[0]+'ag']+full[step[0]+'sol'], label=step[1])\n",
    "        plt.title('Суммарная концентрация веществ на этапах очистки')\n",
    "        plt.legend()\n",
    "plt.show()"
   ]
  },
  {
   "cell_type": "markdown",
   "metadata": {},
   "source": [
    "<font color='blue'><b>Комментарий ревьюера: </b></font> ❌\\\n",
    "<font color='red'><s>В задании требуется следующее:<br>\n",
    "Исследуйте суммарную концентрацию всех веществ на разных стадиях: в сырье, в черновом и финальном концентратах.<br>\n",
    "в сырье — это столбец rougher.input.feed_<br>\n",
    "в черновом концентрате  - это столбец rougher.output.concentrate_<br>\n",
    "в финальном концентрате - это столбец final.output.concentrate_</s></font>"
   ]
  },
  {
   "cell_type": "code",
   "execution_count": 90,
   "metadata": {},
   "outputs": [],
   "source": [
    "met_stages = ['rougher.input.feed_', 'rougher.output.concentrate_', 'final.output.concentrate_']\n",
    "st_names = ['Флотация', 'Очистка', 'Финальная']"
   ]
  },
  {
   "cell_type": "code",
   "execution_count": null,
   "metadata": {},
   "outputs": [],
   "source": [
    "plt.figure(figsize=(20,15))\n",
    "for i, st in enumerate(met_stages):\n",
    "    ax = plt.subplot(3,1,i+1)\n",
    "    for met in metals:\n",
    "        sns.distplot(full[st+met], label=met)\n",
    "        plt.xlabel(\"\")\n",
    "        plt.legend()\n",
    "        plt.title('Суммарная концентрация металлов, стадия '+st_names[i])\n",
    "plt.show()\n"
   ]
  },
  {
   "cell_type": "markdown",
   "metadata": {},
   "source": [
    "В начале процесса очистки суммарная концентрация свинца была ниже, чем концентрация серебра и золота.  \n",
    "В середине процесса очистки концентрации свинца и золота возросли, а концетрация серебра уменьшилась.  \n",
    "Вконце концентрация золота стала наибольшей, а самой низкой стала концентрация серебра, а концентрация свинца практически немного возросла (по сравнению с предыдущим этапом)"
   ]
  },
  {
   "cell_type": "markdown",
   "metadata": {},
   "source": [
    "<font color='blue'><b>Комментарий ревьюера: </b></font> ⚠️\\\n",
    "<font color='darkorange'> Можно сделать маску аномальных строк из full и наложить её на train и test.</font>"
   ]
  },
  {
   "cell_type": "markdown",
   "metadata": {},
   "source": [
    "<font color='purple'><b>Ответ: </b>\n",
    "Не поняла про маску </font>"
   ]
  },
  {
   "cell_type": "markdown",
   "metadata": {},
   "source": [
    "<font color='blue'><b>Комментарий ревьюера 2: </b></font> ✔️\\\n",
    "<font color='blue'> Маска - это последовательность размеченая True и False в зависимости удовлетворяет строка в датафрейме условию или нет (например если суммарная концентрация всех веществ > 0). Получив такую разметку для full можно удалить \"плохие\" строки из train и test связав их по date с маской из full.</font>\n"
   ]
  },
  {
   "cell_type": "markdown",
   "metadata": {},
   "source": [
    "## Модель"
   ]
  },
  {
   "cell_type": "code",
   "execution_count": 92,
   "metadata": {},
   "outputs": [],
   "source": [
    "def smape(target, predicted):\n",
    "    result = np.sum(abs(target - predicted) / ((abs(target) + abs(predicted)) / 2)) * 100/len(target)\n",
    "    return result\n",
    "\n",
    "smape_scorer = make_scorer(smape, greater_is_better=False)"
   ]
  },
  {
   "cell_type": "markdown",
   "metadata": {},
   "source": [
    "<font color='blue'><b>Комментарий ревьюера: </b></font> ✔️\\\n",
    "<font color='green'> `smape` расчитана верно.</font>"
   ]
  },
  {
   "cell_type": "markdown",
   "metadata": {},
   "source": [
    "<font color='blue'><b>Комментарий ревьюера : </b></font> ✔️ <br>\n",
    "<font color='green'>Верно, что не забываешь указать greater_is_better=False, Это пригодится для SearchCV. SMAPE — ошибка, её минимизируем.</font>"
   ]
  },
  {
   "cell_type": "markdown",
   "metadata": {},
   "source": [
    "### Находим rougher.output.recovery"
   ]
  },
  {
   "cell_type": "markdown",
   "metadata": {},
   "source": [
    "Из списка столбцов train датасета удалим те, которые относятся к дальнейшим шагам технологического процесса, а это те, которые не содержат 'rougher'"
   ]
  },
  {
   "cell_type": "code",
   "execution_count": 93,
   "metadata": {},
   "outputs": [],
   "source": [
    "columns_rougher = [ el for el in train.columns if 'rougher' in el ]\n"
   ]
  },
  {
   "cell_type": "code",
   "execution_count": 94,
   "metadata": {},
   "outputs": [
    {
     "data": {
      "text/plain": [
       "['rougher.input.feed_ag',\n",
       " 'rougher.input.feed_pb',\n",
       " 'rougher.input.feed_rate',\n",
       " 'rougher.input.feed_size',\n",
       " 'rougher.input.feed_sol',\n",
       " 'rougher.input.feed_au',\n",
       " 'rougher.input.floatbank10_sulfate',\n",
       " 'rougher.input.floatbank10_xanthate',\n",
       " 'rougher.input.floatbank11_sulfate',\n",
       " 'rougher.input.floatbank11_xanthate',\n",
       " 'rougher.output.recovery',\n",
       " 'rougher.state.floatbank10_a_air',\n",
       " 'rougher.state.floatbank10_a_level',\n",
       " 'rougher.state.floatbank10_b_air',\n",
       " 'rougher.state.floatbank10_b_level',\n",
       " 'rougher.state.floatbank10_c_air',\n",
       " 'rougher.state.floatbank10_c_level',\n",
       " 'rougher.state.floatbank10_d_air',\n",
       " 'rougher.state.floatbank10_d_level',\n",
       " 'rougher.state.floatbank10_e_air',\n",
       " 'rougher.state.floatbank10_e_level',\n",
       " 'rougher.state.floatbank10_f_air',\n",
       " 'rougher.state.floatbank10_f_level']"
      ]
     },
     "execution_count": 94,
     "metadata": {},
     "output_type": "execute_result"
    }
   ],
   "source": [
    "columns_rougher"
   ]
  },
  {
   "cell_type": "code",
   "execution_count": 95,
   "metadata": {},
   "outputs": [],
   "source": [
    "train_rougher = train[columns_rougher]\n"
   ]
  },
  {
   "cell_type": "code",
   "execution_count": 96,
   "metadata": {},
   "outputs": [],
   "source": [
    "features_train_rougher = train_rougher.drop('rougher.output.recovery',axis=1)\n",
    "target_train_rougher = train_rougher['rougher.output.recovery']"
   ]
  },
  {
   "cell_type": "code",
   "execution_count": 97,
   "metadata": {},
   "outputs": [
    {
     "data": {
      "text/plain": [
       "(5290, 54)"
      ]
     },
     "execution_count": 97,
     "metadata": {},
     "output_type": "execute_result"
    }
   ],
   "source": [
    "test_merged = test.merge(full[['date','rougher.output.recovery']], on='date', how='inner')\n",
    "test_merged.shape"
   ]
  },
  {
   "cell_type": "markdown",
   "metadata": {},
   "source": [
    "<font color='blue'><b>Комментарий ревьюера: </b></font> ✔️\\\n",
    "<font color='green'> Верно, лучше привязаться ко времени.</font> "
   ]
  },
  {
   "cell_type": "code",
   "execution_count": 98,
   "metadata": {},
   "outputs": [],
   "source": [
    "features_test_rougher = test_merged[columns_rougher].drop('rougher.output.recovery', axis=1)\n"
   ]
  },
  {
   "cell_type": "code",
   "execution_count": 99,
   "metadata": {},
   "outputs": [],
   "source": [
    "target_test_rougher = test_merged['rougher.output.recovery']"
   ]
  },
  {
   "cell_type": "code",
   "execution_count": 100,
   "metadata": {},
   "outputs": [],
   "source": [
    "state = RandomState(123)"
   ]
  },
  {
   "cell_type": "code",
   "execution_count": 43,
   "metadata": {},
   "outputs": [],
   "source": [
    "regressors = [\n",
    "    LinearRegression(),\n",
    "    RandomForestRegressor(),\n",
    "    Lasso(random_state=state),\n",
    "    ElasticNet(random_state=state),\n",
    "    XGBRegressor()\n",
    "]\n",
    "\n",
    "reg_params = [\n",
    "    {'reg__fit_intercept' :[True, False], 'reg__normalize' : [True, False] },\n",
    "    {'reg__n_estimators' : range(10,200,15), 'reg__max_depth' : range(3,5)},\n",
    "    {'reg__alpha': list(np.arange(0,1,0.25))},\n",
    "    {'reg__alpha' : list(np.arange(0,1,0.25))},\n",
    "    {'reg__booster': ['gbtree', 'gblinear']}\n",
    "]\n",
    "cv = KFold(n_splits=5, shuffle=True, random_state=state)"
   ]
  },
  {
   "cell_type": "markdown",
   "metadata": {},
   "source": [
    "<font color='blue'><b>Комментарий ревьюера: </b></font> ✔️\\\n",
    "<font color='green'> Отлично , что пробуешь большой ряд моделей!</font>"
   ]
  },
  {
   "cell_type": "code",
   "execution_count": 50,
   "metadata": {},
   "outputs": [],
   "source": [
    "best_estimators_rougher = []\n",
    "for i, regressor in enumerate(regressors):\n",
    "    steps = [\n",
    "       ('scaler', StandardScaler()),\n",
    "       ('selector', VarianceThreshold()),\n",
    "       ('reg', regressor)\n",
    "    ]\n",
    "    pipeline = Pipeline(steps)\n",
    "    grid = GridSearchCV(pipeline,reg_params[i] , scoring=smape_scorer, cv=cv)\n",
    "    grid.fit(features_train_rougher, target_train_rougher)\n",
    "    print(regressor, grid.best_estimator_)\n",
    "    best_estimators_rougher.append(grid.best_estimator_)"
   ]
  },
  {
   "cell_type": "markdown",
   "metadata": {},
   "source": [
    "<font color='blue'><b>Комментарий ревьюера: </b></font> ✔️\\\n",
    "<font color='green'> Отлично, что используешь Pipeline для Scaler и VarianceThreshold</font>"
   ]
  },
  {
   "cell_type": "markdown",
   "metadata": {},
   "source": [
    "<font color='blue'><b>Комментарий ревьюера: </b></font> ⚠️\\\n",
    "<font color='darkorange'>В GridSearchCV можно подавать несколько моделей без цикла [towardsdatascience](https://towardsdatascience.com/how-to-tune-multiple-ml-models-with-gridsearchcv-at-once-9fcebfcc6c23)"
   ]
  },
  {
   "cell_type": "markdown",
   "metadata": {},
   "source": [
    "<font color='purple'> Попробую сделать по инструкции из статьи</font>"
   ]
  },
  {
   "cell_type": "code",
   "execution_count": 99,
   "metadata": {},
   "outputs": [],
   "source": [
    "print('*'*60)"
   ]
  },
  {
   "cell_type": "code",
   "execution_count": 101,
   "metadata": {},
   "outputs": [],
   "source": [
    "#inicialize the regressors\n",
    "reg1 = LinearRegression()\n",
    "reg2 = RandomForestRegressor()\n",
    "reg3 = Lasso(random_state=state)\n",
    "reg4 = ElasticNet(random_state=state)\n",
    "reg5 = XGBRegressor()"
   ]
  },
  {
   "cell_type": "code",
   "execution_count": 102,
   "metadata": {},
   "outputs": [],
   "source": [
    "# Initiaze the hyperparameters for each dictionary\n",
    "param1 = {}\n",
    "param1['regressor__fit_intercept'] = [True, False]\n",
    "param1['regressor__normalize'] = [True, False]\n",
    "param1['regressor'] = [reg1]\n",
    "\n",
    "param2 = {}\n",
    "param2['regressor__n_estimators'] = list(range(10,20,15))\n",
    "param2['regressor__max_depth'] = list(range(3,5))\n",
    "param2['regressor'] = [reg2]\n",
    "\n",
    "param3 = {}\n",
    "param3['regressor__alpha'] = list(np.arange(0,1,0.25))\n",
    "param3['regressor'] = [reg3]\n",
    "\n",
    "param4 = {}\n",
    "param4['regressor__alpha'] = list(np.arange(0,1,0.25))\n",
    "param4['regressor'] = [reg4]\n",
    "\n",
    "param5 = {}\n",
    "param5['regressor__booster'] = ['gbtree', 'gblinear']\n",
    "param5['regressor'] = [reg5]\n"
   ]
  },
  {
   "cell_type": "code",
   "execution_count": 103,
   "metadata": {},
   "outputs": [],
   "source": [
    "    steps = [\n",
    "       ('scaler', StandardScaler()),\n",
    "       ('selector', VarianceThreshold()),\n",
    "       ('regressor', reg1)\n",
    "    ]"
   ]
  },
  {
   "cell_type": "code",
   "execution_count": 104,
   "metadata": {},
   "outputs": [],
   "source": [
    "cv = KFold(n_splits=5, shuffle=True, random_state=state)"
   ]
  },
  {
   "cell_type": "code",
   "execution_count": 105,
   "metadata": {},
   "outputs": [],
   "source": [
    "pipeline = Pipeline(steps)\n",
    "params = [param1, param2, param3, param4, param5]"
   ]
  },
  {
   "cell_type": "code",
   "execution_count": 106,
   "metadata": {},
   "outputs": [
    {
     "name": "stdout",
     "output_type": "stream",
     "text": [
      "CPU times: user 14min 24s, sys: 2min 13s, total: 16min 38s\n",
      "Wall time: 16min 47s\n"
     ]
    },
    {
     "data": {
      "text/plain": [
       "GridSearchCV(cv=KFold(n_splits=5, random_state=RandomState(MT19937) at 0x7F680554E840,\n",
       "   shuffle=True),\n",
       "             estimator=Pipeline(steps=[('scaler', StandardScaler()),\n",
       "                                       ('selector', VarianceThreshold()),\n",
       "                                       ('regressor', LinearRegression())]),\n",
       "             param_grid=[{'regressor': [LinearRegression()],\n",
       "                          'regressor__fit_intercept': [True, False],\n",
       "                          'regressor__normalize': [True, False]},\n",
       "                         {'regres...\n",
       "                                                     min_child_weight=None,\n",
       "                                                     missing=nan,\n",
       "                                                     monotone_constraints=None,\n",
       "                                                     n_estimators=100,\n",
       "                                                     n_jobs=None,\n",
       "                                                     num_parallel_tree=None,\n",
       "                                                     predictor=None,\n",
       "                                                     random_state=None,\n",
       "                                                     reg_alpha=None,\n",
       "                                                     reg_lambda=None,\n",
       "                                                     scale_pos_weight=None,\n",
       "                                                     subsample=None,\n",
       "                                                     tree_method=None,\n",
       "                                                     validate_parameters=None,\n",
       "                                                     verbosity=None)],\n",
       "                          'regressor__booster': ['gbtree', 'gblinear']}],\n",
       "             scoring=make_scorer(smape, greater_is_better=False))"
      ]
     },
     "execution_count": 106,
     "metadata": {},
     "output_type": "execute_result"
    }
   ],
   "source": [
    "%%time\n",
    "gs = GridSearchCV(pipeline, params, cv=cv, scoring=(smape_scorer))\n",
    "gs.fit(features_train_rougher, target_train_rougher)"
   ]
  },
  {
   "cell_type": "code",
   "execution_count": 107,
   "metadata": {},
   "outputs": [
    {
     "data": {
      "text/plain": [
       "-8.799076604251814"
      ]
     },
     "execution_count": 107,
     "metadata": {},
     "output_type": "execute_result"
    }
   ],
   "source": [
    "gs.best_score_"
   ]
  },
  {
   "cell_type": "code",
   "execution_count": 108,
   "metadata": {},
   "outputs": [
    {
     "data": {
      "text/plain": [
       "Pipeline(steps=[('scaler', StandardScaler()), ('selector', VarianceThreshold()),\n",
       "                ('regressor',\n",
       "                 XGBRegressor(base_score=0.5, booster='gbtree',\n",
       "                              colsample_bylevel=1, colsample_bynode=1,\n",
       "                              colsample_bytree=1, enable_categorical=False,\n",
       "                              gamma=0, gpu_id=-1, importance_type=None,\n",
       "                              interaction_constraints='',\n",
       "                              learning_rate=0.300000012, max_delta_step=0,\n",
       "                              max_depth=6, min_child_weight=1, missing=nan,\n",
       "                              monotone_constraints='()', n_estimators=100,\n",
       "                              n_jobs=8, num_parallel_tree=1, predictor='auto',\n",
       "                              random_state=0, reg_alpha=0, reg_lambda=1,\n",
       "                              scale_pos_weight=1, subsample=1,\n",
       "                              tree_method='exact', validate_parameters=1,\n",
       "                              verbosity=None))])"
      ]
     },
     "execution_count": 108,
     "metadata": {},
     "output_type": "execute_result"
    }
   ],
   "source": [
    "gs.best_estimator_"
   ]
  },
  {
   "cell_type": "code",
   "execution_count": 109,
   "metadata": {},
   "outputs": [
    {
     "data": {
      "text/plain": [
       "12.01605036440522"
      ]
     },
     "execution_count": 109,
     "metadata": {},
     "output_type": "execute_result"
    }
   ],
   "source": [
    "gs.best_estimator_.fit(features_train_rougher, target_train_rougher)\n",
    "prediced_rougher_test = gs.best_estimator_.predict(features_test_rougher)\n",
    "rougher_smape_test = smape(target_test_rougher, prediced_rougher_test)\n",
    "rougher_smape_test"
   ]
  },
  {
   "cell_type": "markdown",
   "metadata": {},
   "source": [
    "<font color='blue'><b>Комментарий ревьюера 2: </b></font> ✔️\\\n",
    "<font color='green'> Похоже Бустер переобучился. Так бывает с итерационными моделями, когда они хорошо работают с тренировочными и валидационными данными, но валятся на тестах. Это будет в курсе позже ).</font>"
   ]
  },
  {
   "cell_type": "code",
   "execution_count": 114,
   "metadata": {},
   "outputs": [
    {
     "data": {},
     "execution_count": 114,
     "metadata": {},
     "output_type": "execute_result"
    }
   ],
   "source": [
    "gs.best_estimator_.fit(features_train_final, target_train_final)\n",
    "prediced_final_test = gs.best_estimator_.predict(features_test_final)\n",
    "final_smape_test = smape(target_test_final, prediced_final_test)\n",
    "final_smape_test"
   ]
  },
  {
   "cell_type": "markdown",
   "metadata": {},
   "source": [
    "<font color='purple'> Ничего не получилось! \n",
    "\n",
    "Модели выбрались самые худшие,  \n",
    "Почему при передаче первой модели в Grid передаются все модели? \n",
    "Все очень мутно, при подготовке проекта я прочитала очень много статьей про pipeline, GridSearch, CrossVal, но к сожалению, пока очень тяжело ориентироваться.\n",
    "\n",
    "Можешь посоветовать где можно подробнее ознакомиться с тем, как все воедино совместить? А если я захочу использовать не один Scaler , а несколько? Тогда как? \n",
    "</font>"
   ]
  },
  {
   "cell_type": "markdown",
   "metadata": {},
   "source": [
    "<font color='blue'><b>Комментарий ревьюера 2: </b></font> ✔️\\\n",
    "<font color='green'> А зачем может понадобиться несколько Скалеров? Если речь идёт об обработке разных признаков разными инструментами, то существует ColumnTransformer. Он позволяет отмасштабировать часть признаков, а часть закодировать (категории)и поместить это в Pipeline. В целом, это уже \"продвинутые\" техники для данного этапа. А совместить воедино можно только практикой, пробуя разные подходы к разным задачам.</font>"
   ]
  },
  {
   "cell_type": "code",
   "execution_count": 100,
   "metadata": {},
   "outputs": [],
   "source": [
    "print('*'*60)"
   ]
  },
  {
   "cell_type": "markdown",
   "metadata": {},
   "source": [
    "Обучим лучшие модели и предскажем на тестовой выборке"
   ]
  },
  {
   "cell_type": "code",
   "execution_count": null,
   "metadata": {},
   "outputs": [],
   "source": [
    "smape_rougher = []\n",
    "for estimator in best_estimators_rougher:\n",
    "    estimator.fit(features_train_rougher, target_train_rougher)\n",
    "    prediced_rougher = estimator.predict(features_test_rougher)\n",
    "    rougher_smape = smape(target_test_rougher, prediced_rougher)\n",
    "    smape_rougher.append(rougher_smape)"
   ]
  },
  {
   "cell_type": "code",
   "execution_count": null,
   "metadata": {},
   "outputs": [
    {
     "data": {},
     "execution_count": 267,
     "metadata": {},
     "output_type": "execute_result"
    }
   ],
   "source": [
    "smape_rougher"
   ]
  },
  {
   "cell_type": "code",
   "execution_count": null,
   "metadata": {},
   "outputs": [],
   "source": [
    "reg_models = [\n",
    "    'LinearRegression',\n",
    "    'RandomForestRegressor',\n",
    "    'Lasso',\n",
    "    'ElasticNet',\n",
    "    'XGBRegressor'\n",
    "]"
   ]
  },
  {
   "cell_type": "code",
   "execution_count": null,
   "metadata": {
    "scrolled": true
   },
   "outputs": [
    {
     "data": {},
     "execution_count": 284,
     "metadata": {},
     "output_type": "execute_result"
    }
   ],
   "source": [
    "rougher = pd.DataFrame({'Модель' : reg_models, 'smape_r': smape_rougher})\n",
    "rougher.sort_values(by='smape_r')"
   ]
  },
  {
   "cell_type": "markdown",
   "metadata": {},
   "source": [
    "<font color='blue'><b>Комментарий ревьюера: </b></font> ✔️\\\n",
    "<font color='green'> Отлично, что есть табличка для анализа результатов.</font>"
   ]
  },
  {
   "cell_type": "code",
   "execution_count": null,
   "metadata": {},
   "outputs": [],
   "source": [
    "best_r_smape = rougher.sort_values(by='smape_r').iloc[0,1]"
   ]
  },
  {
   "cell_type": "code",
   "execution_count": null,
   "metadata": {},
   "outputs": [
    {
     "data": {},
     "execution_count": 326,
     "metadata": {},
     "output_type": "execute_result"
    }
   ],
   "source": [
    "round(best_r_smape,2)"
   ]
  },
  {
   "cell_type": "markdown",
   "metadata": {},
   "source": [
    "<font color='blue'><b>Комментарий ревьюера: </b></font> ✔️\\\n",
    "<font color='green'>Тестирование проведено верно.</font> "
   ]
  },
  {
   "cell_type": "markdown",
   "metadata": {},
   "source": [
    "### Находим final.output.recovery"
   ]
  },
  {
   "cell_type": "code",
   "execution_count": 110,
   "metadata": {},
   "outputs": [],
   "source": [
    "features_train_final = train.drop(['final.output.recovery', 'rougher.output.recovery', 'date'],axis=1)\n",
    "target_train_final = train['final.output.recovery']"
   ]
  },
  {
   "cell_type": "code",
   "execution_count": 111,
   "metadata": {},
   "outputs": [],
   "source": [
    "test_merged_final = test.merge(full[['final.output.recovery','date']], on='date', how='inner' )"
   ]
  },
  {
   "cell_type": "code",
   "execution_count": 112,
   "metadata": {},
   "outputs": [],
   "source": [
    "features_test_final = test_merged_final.drop(['final.output.recovery','date'],axis=1)\n",
    "target_test_final = test_merged_final['final.output.recovery']"
   ]
  },
  {
   "cell_type": "code",
   "execution_count": null,
   "metadata": {},
   "outputs": [],
   "source": [
    "best_estimators_final = []\n",
    "for i, regressor in enumerate(regressors):\n",
    "    steps = [\n",
    "       ('scaler', StandardScaler()),\n",
    "       ('selector', VarianceThreshold()),\n",
    "       ('reg', regressor)\n",
    "    ]\n",
    "    pipeline = Pipeline(steps)\n",
    "    grid = GridSearchCV(pipeline,reg_params[i] , scoring=smape_scorer, cv=cv)\n",
    "    grid.fit(features_train_final, target_train_final)\n",
    "    print(regressor, grid.best_estimator_)\n",
    "    best_estimators_final.append(grid.best_estimator_)"
   ]
  },
  {
   "cell_type": "code",
   "execution_count": null,
   "metadata": {},
   "outputs": [],
   "source": [
    "smape_final = []\n",
    "for estimator in best_estimators_final:\n",
    "    estimator.fit(features_train_final, target_train_final)\n",
    "    prediced_final = estimator.predict(features_test_final)\n",
    "    final_smape = smape(target_test_final, prediced_final)\n",
    "    smape_final.append(final_smape)"
   ]
  },
  {
   "cell_type": "code",
   "execution_count": null,
   "metadata": {},
   "outputs": [],
   "source": [
    "final = pd.DataFrame({'Модель' : reg_models, 'smape_f': smape_final})\n"
   ]
  },
  {
   "cell_type": "code",
   "execution_count": null,
   "metadata": {},
   "outputs": [
    {
     "data": {},
     "execution_count": 302,
     "metadata": {},
     "output_type": "execute_result"
    }
   ],
   "source": [
    "final.sort_values(by='smape_f')"
   ]
  },
  {
   "cell_type": "code",
   "execution_count": null,
   "metadata": {},
   "outputs": [],
   "source": [
    "best_f_smape = final.sort_values(by='smape_f').iloc[0,1]\n"
   ]
  },
  {
   "cell_type": "code",
   "execution_count": null,
   "metadata": {},
   "outputs": [
    {
     "data": {},
     "execution_count": 328,
     "metadata": {},
     "output_type": "execute_result"
    }
   ],
   "source": [
    "round(best_f_smape,2)"
   ]
  },
  {
   "cell_type": "code",
   "execution_count": null,
   "metadata": {},
   "outputs": [],
   "source": [
    "final_smape = round(0.25 * best_r_smape + 0.75 * best_f_smape, 2)"
   ]
  },
  {
   "cell_type": "code",
   "execution_count": null,
   "metadata": {},
   "outputs": [
    {
     "data": {},
     "execution_count": 330,
     "metadata": {},
     "output_type": "execute_result"
    }
   ],
   "source": [
    "final_smape"
   ]
  },
  {
   "cell_type": "markdown",
   "metadata": {},
   "source": [
    "Проверка моделей регрессии методом DammyRegressor (метод 'mean')"
   ]
  },
  {
   "cell_type": "code",
   "execution_count": null,
   "metadata": {},
   "outputs": [
    {
     "data": {},
     "execution_count": 335,
     "metadata": {},
     "output_type": "execute_result"
    }
   ],
   "source": [
    "# rougher\n",
    "model = DummyRegressor()\n",
    "model.fit(features_train_rougher, target_train_rougher)\n",
    "predicted_dummy_rougher = model.predict(features_test_rougher)\n",
    "dummy_score = smape(target_test_rougher, predicted_dummy_rougher)\n",
    "round(dummy_score,2)\n"
   ]
  },
  {
   "cell_type": "code",
   "execution_count": null,
   "metadata": {},
   "outputs": [
    {
     "data": {},
     "execution_count": 336,
     "metadata": {},
     "output_type": "execute_result"
    }
   ],
   "source": [
    "# final\n",
    "model = DummyRegressor()\n",
    "model.fit(features_train_final, target_train_final)\n",
    "predicted_dummy_final = model.predict(features_test_final)\n",
    "dummy_score_final = smape(target_test_final, predicted_dummy_final)\n",
    "round(dummy_score_final,2)"
   ]
  },
  {
   "cell_type": "code",
   "execution_count": null,
   "metadata": {},
   "outputs": [],
   "source": [
    "final_smape_dummy = round(0.25 * dummy_score + 0.75 * dummy_score_final, 2)"
   ]
  },
  {
   "cell_type": "code",
   "execution_count": null,
   "metadata": {},
   "outputs": [
    {
     "data": {},
     "execution_count": 338,
     "metadata": {},
     "output_type": "execute_result"
    }
   ],
   "source": [
    "final_smape_dummy"
   ]
  },
  {
   "cell_type": "markdown",
   "metadata": {},
   "source": [
    "<font color='blue'><b>Комментарий ревьюера: </b></font> ✔️\\\n",
    "<font color='green'> Классно ,что сравниваешь с константной моделью!</font>"
   ]
  },
  {
   "cell_type": "markdown",
   "metadata": {},
   "source": [
    "### Выводы:\n",
    "1. Проведена работа по предсказанию коэффициентов обогащения золота как в процессе флотации, так и в итоговой очистке  \n",
    "\n",
    "2. Лучшие характеристики показала модель ElasticNet при расчете коэффицента обогащения при флотации и модель RandomForestRegressor при расчете коэффициента обогащения на финальной стадии очистки. Вполне вероятно, что увеличение списка регрессионных моделей может еще заметнее улучшить предсказание Итогового sMAPE, что приведет принятию более точных решений о целесообразности работы производства по обогащению золота.\n",
    "\n",
    "3. Расчитана метрика Итоговое_smape, показывающая качество модели. Она равна 9.35  \n",
    "   Для сравнения, расчет на основе среднего (модель DummyRegressor) дает Итоговое_smape равное 10.29 - применение моделей RandomForestRegressor и ElasticNet с выбранными гиперпараметрами улучшили качество предсказаний на 10% по сравнению со средним \n"
   ]
  },
  {
   "cell_type": "markdown",
   "metadata": {},
   "source": [
    "<font color='blue'><b>Комментарий ревьюера: </b></font> ✔️\\\n",
    "<font color='green'> Очень приятно видеть вывод в конце проекта!\\\n",
    "Приведены ответы на главные вопросы проекта.</font>"
   ]
  },
  {
   "cell_type": "markdown",
   "metadata": {},
   "source": [
    "<font color='purple'> Большое спасибо за советы и замечания, но не могу не заметить, что чем дальше в лес, тем \"мутнее\" формулировки заданий (и тестов и объяснений, и проектов), очень тяжело понимать, что требуется. Поэтому в слаке столько вопросов. В реальной жизни можно хоть заказчика опросить и выяснить что к чему (ну или попытаться).</font>"
   ]
  },
  {
   "cell_type": "markdown",
   "metadata": {},
   "source": [
    "<font color='blue'><b>Комментарий ревьюера 2: </b></font> ✔️\\\n",
    "<font color='green'> В реальной жизни добраться до человека, который реально составлял ТЗ очень сложно, а есму всё предельно ясно, что имеется в виду. Поэтому и надо детально описывать своё решение, чтобы человек, который будет с этим работать не страдал от \"мути\". </font>"
   ]
  },
  {
   "cell_type": "markdown",
   "metadata": {},
   "source": [
    "<font color='blue'><b>Комментарий ревьюера: </b></font> ⚠️\\\n",
    "<font color='darkorange'> Лучшая модель получилась со сложной структурой, она содержит скалеры, фильтры, два разных регрессора с настроенными гиперпараметрами. Следует более предметно описать что мы рекомендуем \"Цифре\" для оптимизации производства. </font>"
   ]
  },
  {
   "cell_type": "markdown",
   "metadata": {},
   "source": [
    "<font color='blue'><b>Итоговый комментарий ревьюера</b></font>\\\n",
    "<font color='green'>Юлия, хороший проект получился!\n",
    "Большое спасибо за проделанную работу. Видно, что приложено много усилий.\n",
    "</font>\n",
    "\n",
    "<font color='blue'>Что нужно исправить:</font>\n",
    "<ul><font color='red'>Приведи исследование суммарных концентраций всех веществ в соответствие заданием.</font></ul>\n",
    "\n",
    "<font color='blue'>Что можно сделать лучше:</font>\n",
    "<font color='orange'>В работе я оставил несколько советов. Буду рад, если ты учтешь их.</font></ul>\n",
    "\n",
    "<font color='blue'><b>Жду новую версию проекта :)</b></font>"
   ]
  },
  {
   "cell_type": "markdown",
   "metadata": {},
   "source": [
    "<font color='blue'><b>Итоговый комментарий ревьюера 2</b></font>\\\n",
    "<font color='green'>Юлия, проект принят! \\\n",
    "Все этапы пройдены. Все рекомендации учтены.\\\n",
    "Надеюсь, тебе понравился процесс выполнения и результат.</font> \\\n",
    "<font color='blue'><b>Спасибо, удачи в освоении профессии!</b></font>"
   ]
  },
  {
   "cell_type": "markdown",
   "metadata": {},
   "source": [
    "## Чек-лист готовности проекта"
   ]
  },
  {
   "cell_type": "markdown",
   "metadata": {},
   "source": [
    "- [x]  Jupyter Notebook открыт\n",
    "- [ ]  Весь код выполняется без ошибок\n",
    "- [ ]  Ячейки с кодом расположены в порядке выполнения\n",
    "- [ ]  Выполнен шаг 1: данные подготовлены\n",
    "    - [ ]  Проверена формула вычисления эффективности обогащения\n",
    "    - [ ]  Проанализированы признаки, недоступные в тестовой выборке\n",
    "    - [ ]  Проведена предобработка данных\n",
    "- [ ]  Выполнен шаг 2: данные проанализированы\n",
    "    - [ ]  Исследовано изменение концентрации элементов на каждом этапе\n",
    "    - [ ]  Проанализированы распределения размеров гранул на обучающей и тестовой выборках\n",
    "    - [ ]  Исследованы суммарные концентрации\n",
    "- [ ]  Выполнен шаг 3: построена модель прогнозирования\n",
    "    - [ ]  Написана функция для вычисления итогового *sMAPE*\n",
    "    - [ ]  Обучено и проверено несколько моделей\n",
    "    - [ ]  Выбрана лучшая модель, её качество проверено на тестовой выборке"
   ]
  },
  {
   "cell_type": "markdown",
   "metadata": {},
   "source": [
    "<font color='blue' size=5><b>Комментарий ревьюера</b></font>\n",
    "\n",
    "<font color='blue'>Привет, Юлия ! Меня зовут Павел Григорьев, и я буду проверять этот проект. Спасибо за проделанную работу! Предлагаю общаться на «ты».</font>\n",
    "\n",
    "<font color='blue'>Я буду использовать различные цвета, чтобы было удобнее воспринимать мои комментарии:</font>\n",
    "\n",
    "\n",
    "---\n",
    "\n",
    "\n",
    "<font color='blue'>синий текст - просто текст комментария</font>\n",
    "\n",
    "<font color='green'>✔️ и зеленый текст - все отлично</font>\n",
    "\n",
    "<font color='orange'>⚠️ и оранжевый текст - сделано все правильно, однако есть рекомендации, на что стоит обратить внимание</font>\n",
    "\n",
    "<font color='red'>❌ и красный текст - есть недочеты</font>\n",
    "\n",
    "\n",
    "---\n",
    "\n",
    "<font color='blue'>Пожалуйста, не удаляй мои комментарии в случае возврата работы, так будет проще разобраться, какие были недочеты, а также сразу увидеть исправленное. </font>\n",
    "\n",
    "Ответы на мои комментарии лучше тоже помечать.\n",
    "Например: <font color='purple'><b>Комментарий студента</b></font>\n",
    "\n",
    "<font color='blue'><b>Давай смотреть, что получилось!</b></font>"
   ]
  }
 ],
 "metadata": {
  "ExecuteTimeLog": [
   {
    "duration": 1937,
    "start_time": "2022-05-29T13:07:15.570Z"
   },
   {
    "duration": 52,
    "start_time": "2022-05-29T13:07:27.983Z"
   },
   {
    "duration": 19242,
    "start_time": "2022-05-29T13:07:33.696Z"
   },
   {
    "duration": 33,
    "start_time": "2022-05-29T13:09:33.328Z"
   },
   {
    "duration": 7,
    "start_time": "2022-05-29T13:10:08.048Z"
   },
   {
    "duration": 608,
    "start_time": "2022-05-29T13:11:16.734Z"
   },
   {
    "duration": 1666,
    "start_time": "2022-05-29T13:11:40.877Z"
   },
   {
    "duration": 3,
    "start_time": "2022-05-29T13:11:51.173Z"
   },
   {
    "duration": 16,
    "start_time": "2022-05-29T13:11:54.003Z"
   },
   {
    "duration": 16,
    "start_time": "2022-05-29T13:13:17.212Z"
   },
   {
    "duration": 14,
    "start_time": "2022-05-29T13:14:12.081Z"
   },
   {
    "duration": 16,
    "start_time": "2022-05-29T13:14:17.290Z"
   },
   {
    "duration": 14,
    "start_time": "2022-05-29T13:14:21.422Z"
   },
   {
    "duration": 7,
    "start_time": "2022-05-29T13:15:31.126Z"
   },
   {
    "duration": 9,
    "start_time": "2022-05-29T13:16:24.196Z"
   },
   {
    "duration": 9,
    "start_time": "2022-05-29T13:17:36.356Z"
   },
   {
    "duration": 10,
    "start_time": "2022-05-29T13:18:10.759Z"
   },
   {
    "duration": 51,
    "start_time": "2022-05-29T13:28:02.703Z"
   },
   {
    "duration": 1373,
    "start_time": "2022-05-29T13:28:10.729Z"
   },
   {
    "duration": 6,
    "start_time": "2022-05-29T13:28:23.127Z"
   },
   {
    "duration": 4782,
    "start_time": "2022-05-29T13:28:26.787Z"
   },
   {
    "duration": 1851,
    "start_time": "2022-05-29T13:28:35.955Z"
   },
   {
    "duration": 19,
    "start_time": "2022-05-29T13:28:43.051Z"
   },
   {
    "duration": 12,
    "start_time": "2022-05-29T13:28:53.746Z"
   },
   {
    "duration": 3,
    "start_time": "2022-05-29T13:28:59.827Z"
   },
   {
    "duration": 12,
    "start_time": "2022-05-29T13:29:02.465Z"
   },
   {
    "duration": 9,
    "start_time": "2022-05-29T13:29:07.425Z"
   },
   {
    "duration": 53,
    "start_time": "2022-05-29T13:38:26.406Z"
   },
   {
    "duration": 1559,
    "start_time": "2022-05-29T13:38:32.503Z"
   },
   {
    "duration": 2,
    "start_time": "2022-05-29T13:38:39.054Z"
   },
   {
    "duration": 1874,
    "start_time": "2022-05-29T13:38:41.129Z"
   },
   {
    "duration": 16,
    "start_time": "2022-05-29T13:38:43.279Z"
   },
   {
    "duration": 3,
    "start_time": "2022-05-29T13:46:11.912Z"
   },
   {
    "duration": 92,
    "start_time": "2022-05-29T13:53:48.914Z"
   },
   {
    "duration": 3,
    "start_time": "2022-05-29T13:54:12.090Z"
   },
   {
    "duration": 697,
    "start_time": "2022-05-29T13:54:17.986Z"
   },
   {
    "duration": 2,
    "start_time": "2022-05-29T13:54:23.526Z"
   },
   {
    "duration": 17,
    "start_time": "2022-05-29T13:54:26.586Z"
   },
   {
    "duration": 587,
    "start_time": "2022-05-29T13:54:42.944Z"
   },
   {
    "duration": 309,
    "start_time": "2022-05-29T13:55:10.622Z"
   },
   {
    "duration": 3493,
    "start_time": "2022-05-29T13:55:55.351Z"
   },
   {
    "duration": 3089,
    "start_time": "2022-05-29T13:56:47.453Z"
   },
   {
    "duration": 3061,
    "start_time": "2022-05-29T13:57:12.051Z"
   },
   {
    "duration": 7,
    "start_time": "2022-05-29T13:58:20.025Z"
   },
   {
    "duration": 3237,
    "start_time": "2022-05-29T13:58:32.964Z"
   },
   {
    "duration": 7,
    "start_time": "2022-05-29T13:59:43.256Z"
   },
   {
    "duration": 3278,
    "start_time": "2022-05-29T13:59:52.686Z"
   },
   {
    "duration": 3070,
    "start_time": "2022-05-29T14:00:58.415Z"
   },
   {
    "duration": 4,
    "start_time": "2022-05-29T14:02:54.544Z"
   },
   {
    "duration": 4,
    "start_time": "2022-05-29T14:03:01.374Z"
   },
   {
    "duration": 315,
    "start_time": "2022-05-29T14:04:46.652Z"
   },
   {
    "duration": 458,
    "start_time": "2022-05-29T14:05:53.889Z"
   },
   {
    "duration": 441,
    "start_time": "2022-05-29T14:06:05.293Z"
   },
   {
    "duration": 672,
    "start_time": "2022-05-29T14:07:02.113Z"
   },
   {
    "duration": 426,
    "start_time": "2022-05-29T14:07:27.344Z"
   },
   {
    "duration": 3053,
    "start_time": "2022-05-29T14:07:54.887Z"
   },
   {
    "duration": 3540,
    "start_time": "2022-05-29T14:08:58.875Z"
   },
   {
    "duration": 3110,
    "start_time": "2022-05-29T14:10:46.644Z"
   },
   {
    "duration": 11,
    "start_time": "2022-05-29T14:14:29.789Z"
   },
   {
    "duration": 394,
    "start_time": "2022-05-29T14:14:36.685Z"
   },
   {
    "duration": 9,
    "start_time": "2022-05-29T14:14:59.804Z"
   },
   {
    "duration": 115,
    "start_time": "2022-05-29T14:16:27.948Z"
   },
   {
    "duration": 552,
    "start_time": "2022-05-29T14:16:53.430Z"
   },
   {
    "duration": 1045,
    "start_time": "2022-05-29T14:17:35.592Z"
   },
   {
    "duration": 1135,
    "start_time": "2022-05-29T14:20:42.956Z"
   },
   {
    "duration": 442,
    "start_time": "2022-05-29T14:20:55.719Z"
   },
   {
    "duration": 1261,
    "start_time": "2022-05-29T14:21:30.525Z"
   },
   {
    "duration": 4057,
    "start_time": "2022-05-29T14:22:20.549Z"
   },
   {
    "duration": 3509,
    "start_time": "2022-05-29T14:22:54.755Z"
   },
   {
    "duration": 8,
    "start_time": "2022-05-29T14:24:57.928Z"
   },
   {
    "duration": 3738,
    "start_time": "2022-05-29T14:25:02.192Z"
   },
   {
    "duration": 3574,
    "start_time": "2022-05-29T14:25:13.479Z"
   },
   {
    "duration": 3059,
    "start_time": "2022-05-29T14:26:24.471Z"
   },
   {
    "duration": 125,
    "start_time": "2022-05-29T14:28:05.366Z"
   },
   {
    "duration": 453,
    "start_time": "2022-05-29T14:28:24.026Z"
   },
   {
    "duration": 3979,
    "start_time": "2022-05-29T14:29:39.938Z"
   },
   {
    "duration": 3506,
    "start_time": "2022-05-29T14:30:06.361Z"
   },
   {
    "duration": 3434,
    "start_time": "2022-05-29T14:30:22.859Z"
   },
   {
    "duration": 3,
    "start_time": "2022-05-29T14:34:29.879Z"
   },
   {
    "duration": 803,
    "start_time": "2022-05-29T14:34:31.977Z"
   },
   {
    "duration": 3,
    "start_time": "2022-05-29T14:35:11.346Z"
   },
   {
    "duration": 3,
    "start_time": "2022-05-29T14:36:12.828Z"
   },
   {
    "duration": 1050,
    "start_time": "2022-05-29T14:36:15.333Z"
   },
   {
    "duration": 3,
    "start_time": "2022-05-29T14:36:28.370Z"
   },
   {
    "duration": 1064,
    "start_time": "2022-05-29T14:36:30.202Z"
   },
   {
    "duration": 3,
    "start_time": "2022-05-29T14:37:50.551Z"
   },
   {
    "duration": 887,
    "start_time": "2022-05-29T14:37:52.388Z"
   },
   {
    "duration": 2,
    "start_time": "2022-05-29T14:38:00.242Z"
   },
   {
    "duration": 3030,
    "start_time": "2022-05-29T14:38:02.473Z"
   },
   {
    "duration": 21,
    "start_time": "2022-05-29T14:41:57.991Z"
   },
   {
    "duration": 3684,
    "start_time": "2022-05-29T14:54:02.967Z"
   },
   {
    "duration": 592,
    "start_time": "2022-05-29T15:06:17.840Z"
   },
   {
    "duration": 478,
    "start_time": "2022-05-29T15:06:34.261Z"
   },
   {
    "duration": 828,
    "start_time": "2022-05-29T15:06:57.522Z"
   },
   {
    "duration": 513,
    "start_time": "2022-05-29T15:07:06.519Z"
   },
   {
    "duration": 523,
    "start_time": "2022-05-29T15:09:12.439Z"
   },
   {
    "duration": 614,
    "start_time": "2022-05-29T15:09:34.757Z"
   },
   {
    "duration": 1179,
    "start_time": "2022-05-29T15:11:08.290Z"
   },
   {
    "duration": 1337,
    "start_time": "2022-05-29T15:12:10.276Z"
   },
   {
    "duration": 15,
    "start_time": "2022-05-29T15:18:11.312Z"
   },
   {
    "duration": 3,
    "start_time": "2022-05-29T15:18:20.753Z"
   },
   {
    "duration": 12,
    "start_time": "2022-05-29T15:18:21.797Z"
   },
   {
    "duration": 4548,
    "start_time": "2022-05-29T15:18:49.073Z"
   },
   {
    "duration": 4844,
    "start_time": "2022-05-29T15:19:31.009Z"
   },
   {
    "duration": 4422,
    "start_time": "2022-05-29T15:20:17.141Z"
   },
   {
    "duration": 1045,
    "start_time": "2022-05-29T15:21:06.869Z"
   },
   {
    "duration": 690,
    "start_time": "2022-05-29T15:21:39.298Z"
   },
   {
    "duration": 26,
    "start_time": "2022-05-29T15:22:00.901Z"
   },
   {
    "duration": 20,
    "start_time": "2022-05-29T15:22:16.741Z"
   },
   {
    "duration": 13,
    "start_time": "2022-05-29T15:24:06.847Z"
   },
   {
    "duration": 4,
    "start_time": "2022-05-29T15:24:13.296Z"
   },
   {
    "duration": 3,
    "start_time": "2022-05-29T15:24:17.249Z"
   },
   {
    "duration": 127,
    "start_time": "2022-05-29T15:24:18.732Z"
   },
   {
    "duration": 121,
    "start_time": "2022-05-29T15:24:56.542Z"
   },
   {
    "duration": 1126,
    "start_time": "2022-05-29T15:25:06.138Z"
   },
   {
    "duration": 9,
    "start_time": "2022-05-29T15:25:32.340Z"
   },
   {
    "duration": 4,
    "start_time": "2022-05-29T15:25:47.610Z"
   },
   {
    "duration": 1073,
    "start_time": "2022-05-29T15:25:54.281Z"
   },
   {
    "duration": 1066,
    "start_time": "2022-05-29T15:26:05.441Z"
   },
   {
    "duration": 24,
    "start_time": "2022-05-29T15:27:08.068Z"
   },
   {
    "duration": 3,
    "start_time": "2022-05-29T15:27:36.124Z"
   },
   {
    "duration": 1242,
    "start_time": "2022-05-29T15:27:43.663Z"
   },
   {
    "duration": 1039,
    "start_time": "2022-05-29T15:27:56.762Z"
   },
   {
    "duration": 3,
    "start_time": "2022-05-29T15:35:52.259Z"
   },
   {
    "duration": 120,
    "start_time": "2022-05-29T15:38:42.197Z"
   },
   {
    "duration": 1386,
    "start_time": "2022-05-29T15:38:50.394Z"
   },
   {
    "duration": 1558,
    "start_time": "2022-05-29T15:39:19.611Z"
   },
   {
    "duration": 4,
    "start_time": "2022-05-29T15:39:26.202Z"
   },
   {
    "duration": 1354,
    "start_time": "2022-05-29T15:39:35.513Z"
   },
   {
    "duration": 3,
    "start_time": "2022-05-29T15:41:49.699Z"
   },
   {
    "duration": 56,
    "start_time": "2022-05-29T15:42:53.201Z"
   },
   {
    "duration": 8,
    "start_time": "2022-05-29T15:44:32.627Z"
   },
   {
    "duration": 3,
    "start_time": "2022-05-29T15:44:41.282Z"
   },
   {
    "duration": 56,
    "start_time": "2022-05-29T15:45:14.260Z"
   },
   {
    "duration": 2,
    "start_time": "2022-05-29T15:45:33.618Z"
   },
   {
    "duration": 37,
    "start_time": "2022-05-29T15:45:34.425Z"
   },
   {
    "duration": 31,
    "start_time": "2022-05-29T15:45:47.263Z"
   },
   {
    "duration": 3,
    "start_time": "2022-05-29T15:46:04.291Z"
   },
   {
    "duration": 2,
    "start_time": "2022-05-29T15:46:09.037Z"
   },
   {
    "duration": 27,
    "start_time": "2022-05-29T15:46:10.158Z"
   },
   {
    "duration": 3,
    "start_time": "2022-05-29T15:47:34.000Z"
   },
   {
    "duration": 1376,
    "start_time": "2022-05-29T15:47:34.739Z"
   },
   {
    "duration": 5,
    "start_time": "2022-05-29T16:01:44.478Z"
   },
   {
    "duration": 5,
    "start_time": "2022-05-29T16:03:49.270Z"
   },
   {
    "duration": 493,
    "start_time": "2022-05-29T16:04:23.141Z"
   },
   {
    "duration": 5,
    "start_time": "2022-05-29T16:06:21.918Z"
   },
   {
    "duration": 10,
    "start_time": "2022-05-29T16:06:45.101Z"
   },
   {
    "duration": 5,
    "start_time": "2022-05-29T16:07:00.240Z"
   },
   {
    "duration": 16,
    "start_time": "2022-05-29T16:07:13.773Z"
   },
   {
    "duration": 10,
    "start_time": "2022-05-29T16:07:19.001Z"
   },
   {
    "duration": 16,
    "start_time": "2022-05-29T16:07:41.380Z"
   },
   {
    "duration": 7,
    "start_time": "2022-05-29T16:08:02.510Z"
   },
   {
    "duration": 97,
    "start_time": "2022-05-29T16:08:24.737Z"
   },
   {
    "duration": 112,
    "start_time": "2022-05-29T16:08:51.137Z"
   },
   {
    "duration": 9,
    "start_time": "2022-05-29T16:09:44.237Z"
   },
   {
    "duration": 4,
    "start_time": "2022-05-29T16:10:02.052Z"
   },
   {
    "duration": 106,
    "start_time": "2022-05-29T16:10:17.343Z"
   },
   {
    "duration": 3,
    "start_time": "2022-05-29T16:17:15.517Z"
   },
   {
    "duration": 4,
    "start_time": "2022-05-29T16:17:16.987Z"
   },
   {
    "duration": 4,
    "start_time": "2022-05-29T16:17:52.585Z"
   },
   {
    "duration": 12,
    "start_time": "2022-05-29T16:18:04.811Z"
   },
   {
    "duration": 6,
    "start_time": "2022-05-29T16:18:11.778Z"
   },
   {
    "duration": 18,
    "start_time": "2022-05-29T16:18:15.377Z"
   },
   {
    "duration": 3,
    "start_time": "2022-05-29T16:19:35.502Z"
   },
   {
    "duration": 3,
    "start_time": "2022-05-29T16:19:36.394Z"
   },
   {
    "duration": 13,
    "start_time": "2022-05-29T16:19:37.443Z"
   },
   {
    "duration": 4,
    "start_time": "2022-05-29T16:19:48.585Z"
   },
   {
    "duration": 5,
    "start_time": "2022-05-29T16:19:49.137Z"
   },
   {
    "duration": 10,
    "start_time": "2022-05-29T16:20:17.593Z"
   },
   {
    "duration": 14,
    "start_time": "2022-05-29T16:20:35.280Z"
   },
   {
    "duration": 6,
    "start_time": "2022-05-29T16:20:52.991Z"
   },
   {
    "duration": 6,
    "start_time": "2022-05-29T16:21:19.217Z"
   },
   {
    "duration": 8,
    "start_time": "2022-05-29T16:21:33.059Z"
   },
   {
    "duration": 10,
    "start_time": "2022-05-29T16:21:54.183Z"
   },
   {
    "duration": 9,
    "start_time": "2022-05-29T16:22:18.611Z"
   },
   {
    "duration": 19,
    "start_time": "2022-05-29T16:26:07.578Z"
   },
   {
    "duration": 24,
    "start_time": "2022-05-29T16:26:20.316Z"
   },
   {
    "duration": 37,
    "start_time": "2022-05-29T16:29:19.890Z"
   },
   {
    "duration": 112,
    "start_time": "2022-05-29T16:29:26.096Z"
   },
   {
    "duration": 35,
    "start_time": "2022-05-29T16:29:57.157Z"
   },
   {
    "duration": 13,
    "start_time": "2022-05-29T16:30:10.881Z"
   },
   {
    "duration": 6,
    "start_time": "2022-05-29T16:30:40.397Z"
   },
   {
    "duration": 181,
    "start_time": "2022-05-29T16:30:55.998Z"
   },
   {
    "duration": 13,
    "start_time": "2022-05-29T16:31:17.155Z"
   },
   {
    "duration": 138,
    "start_time": "2022-05-29T16:31:23.494Z"
   },
   {
    "duration": 471,
    "start_time": "2022-05-29T16:31:31.141Z"
   },
   {
    "duration": 7,
    "start_time": "2022-05-29T16:32:09.002Z"
   },
   {
    "duration": 4,
    "start_time": "2022-05-29T16:32:34.714Z"
   },
   {
    "duration": 7,
    "start_time": "2022-05-29T16:32:36.693Z"
   },
   {
    "duration": 9,
    "start_time": "2022-05-29T16:34:43.576Z"
   },
   {
    "duration": 7,
    "start_time": "2022-05-29T16:37:26.775Z"
   },
   {
    "duration": 23,
    "start_time": "2022-05-29T16:40:23.162Z"
   },
   {
    "duration": 8,
    "start_time": "2022-05-29T16:41:22.538Z"
   },
   {
    "duration": 5,
    "start_time": "2022-05-29T16:41:50.422Z"
   },
   {
    "duration": 14,
    "start_time": "2022-05-29T16:41:57.773Z"
   },
   {
    "duration": 6,
    "start_time": "2022-05-29T16:42:13.918Z"
   },
   {
    "duration": 7,
    "start_time": "2022-05-29T16:42:36.092Z"
   },
   {
    "duration": 15,
    "start_time": "2022-05-29T16:47:26.393Z"
   },
   {
    "duration": 3,
    "start_time": "2022-05-29T16:47:58.507Z"
   },
   {
    "duration": 3,
    "start_time": "2022-05-29T16:47:59.086Z"
   },
   {
    "duration": 4,
    "start_time": "2022-05-29T16:47:59.711Z"
   },
   {
    "duration": 6,
    "start_time": "2022-05-29T16:48:01.054Z"
   },
   {
    "duration": 8,
    "start_time": "2022-05-29T16:48:06.478Z"
   },
   {
    "duration": 6,
    "start_time": "2022-05-29T16:48:07.805Z"
   },
   {
    "duration": 12,
    "start_time": "2022-05-29T16:48:12.065Z"
   },
   {
    "duration": 4,
    "start_time": "2022-05-29T16:49:56.580Z"
   },
   {
    "duration": 4,
    "start_time": "2022-05-29T16:49:57.389Z"
   },
   {
    "duration": 8,
    "start_time": "2022-05-29T16:49:58.068Z"
   },
   {
    "duration": 7,
    "start_time": "2022-05-29T16:49:58.607Z"
   },
   {
    "duration": 6,
    "start_time": "2022-05-29T16:50:02.646Z"
   },
   {
    "duration": 5,
    "start_time": "2022-05-29T16:50:03.192Z"
   },
   {
    "duration": 7,
    "start_time": "2022-05-29T16:50:09.360Z"
   },
   {
    "duration": 7,
    "start_time": "2022-05-29T16:51:16.844Z"
   },
   {
    "duration": 5,
    "start_time": "2022-05-29T16:51:18.142Z"
   },
   {
    "duration": 6,
    "start_time": "2022-05-29T16:51:26.519Z"
   },
   {
    "duration": 6,
    "start_time": "2022-05-29T16:53:47.378Z"
   },
   {
    "duration": 5,
    "start_time": "2022-05-29T16:53:55.461Z"
   },
   {
    "duration": 3,
    "start_time": "2022-05-29T16:56:10.668Z"
   },
   {
    "duration": 3,
    "start_time": "2022-05-29T16:56:11.247Z"
   },
   {
    "duration": 5,
    "start_time": "2022-05-29T16:56:11.919Z"
   },
   {
    "duration": 6,
    "start_time": "2022-05-29T16:56:16.790Z"
   },
   {
    "duration": 3,
    "start_time": "2022-05-29T16:56:18.480Z"
   },
   {
    "duration": 5,
    "start_time": "2022-05-29T16:56:19.051Z"
   },
   {
    "duration": 6,
    "start_time": "2022-05-29T16:56:19.591Z"
   },
   {
    "duration": 7,
    "start_time": "2022-05-29T16:56:23.608Z"
   },
   {
    "duration": 5,
    "start_time": "2022-05-29T16:56:24.242Z"
   },
   {
    "duration": 6,
    "start_time": "2022-05-29T16:56:27.410Z"
   },
   {
    "duration": 9,
    "start_time": "2022-05-29T16:57:51.525Z"
   },
   {
    "duration": 9,
    "start_time": "2022-05-29T16:58:01.478Z"
   },
   {
    "duration": 7,
    "start_time": "2022-05-29T16:58:10.246Z"
   },
   {
    "duration": 3,
    "start_time": "2022-05-29T16:58:14.544Z"
   },
   {
    "duration": 2,
    "start_time": "2022-05-29T16:58:17.644Z"
   },
   {
    "duration": 5,
    "start_time": "2022-05-29T16:58:19.068Z"
   },
   {
    "duration": 6,
    "start_time": "2022-05-29T16:58:19.659Z"
   },
   {
    "duration": 7,
    "start_time": "2022-05-29T16:58:24.617Z"
   },
   {
    "duration": 10,
    "start_time": "2022-05-29T16:58:49.812Z"
   },
   {
    "duration": 6,
    "start_time": "2022-05-29T16:58:57.261Z"
   },
   {
    "duration": 7,
    "start_time": "2022-05-29T17:04:21.657Z"
   },
   {
    "duration": 9,
    "start_time": "2022-05-29T17:05:09.204Z"
   },
   {
    "duration": 6,
    "start_time": "2022-05-29T17:05:17.726Z"
   },
   {
    "duration": 4,
    "start_time": "2022-05-29T17:05:25.827Z"
   },
   {
    "duration": 7,
    "start_time": "2022-05-29T17:06:16.284Z"
   },
   {
    "duration": 140,
    "start_time": "2022-05-29T17:07:41.427Z"
   },
   {
    "duration": 137,
    "start_time": "2022-05-29T17:08:06.572Z"
   },
   {
    "duration": 177,
    "start_time": "2022-05-29T17:08:20.377Z"
   },
   {
    "duration": 12,
    "start_time": "2022-05-29T17:09:19.485Z"
   },
   {
    "duration": 12,
    "start_time": "2022-05-29T17:09:33.647Z"
   },
   {
    "duration": 14,
    "start_time": "2022-05-29T17:10:01.692Z"
   },
   {
    "duration": 7,
    "start_time": "2022-05-29T17:10:43.898Z"
   },
   {
    "duration": 6,
    "start_time": "2022-05-29T17:10:52.108Z"
   },
   {
    "duration": 5,
    "start_time": "2022-05-29T17:18:15.383Z"
   },
   {
    "duration": 13,
    "start_time": "2022-05-29T17:18:18.183Z"
   },
   {
    "duration": 11,
    "start_time": "2022-05-29T17:18:26.060Z"
   },
   {
    "duration": 8,
    "start_time": "2022-05-29T17:18:27.048Z"
   },
   {
    "duration": 10,
    "start_time": "2022-05-29T17:18:27.877Z"
   },
   {
    "duration": 11,
    "start_time": "2022-05-29T17:18:30.584Z"
   },
   {
    "duration": 8,
    "start_time": "2022-05-29T17:18:38.788Z"
   },
   {
    "duration": 4,
    "start_time": "2022-05-29T17:18:41.876Z"
   },
   {
    "duration": 4,
    "start_time": "2022-05-29T17:18:43.455Z"
   },
   {
    "duration": 7,
    "start_time": "2022-05-29T17:18:45.448Z"
   },
   {
    "duration": 8,
    "start_time": "2022-05-29T17:18:46.937Z"
   },
   {
    "duration": 3,
    "start_time": "2022-05-29T17:18:51.322Z"
   },
   {
    "duration": 9,
    "start_time": "2022-05-29T17:19:07.678Z"
   },
   {
    "duration": 3,
    "start_time": "2022-05-29T17:19:13.112Z"
   },
   {
    "duration": 17,
    "start_time": "2022-05-29T17:19:38.759Z"
   },
   {
    "duration": 3,
    "start_time": "2022-05-29T17:19:55.774Z"
   },
   {
    "duration": 5,
    "start_time": "2022-05-29T17:19:56.380Z"
   },
   {
    "duration": 9,
    "start_time": "2022-05-29T17:19:57.948Z"
   },
   {
    "duration": 5,
    "start_time": "2022-05-29T17:19:59.382Z"
   },
   {
    "duration": 11,
    "start_time": "2022-05-29T17:20:01.810Z"
   },
   {
    "duration": 7,
    "start_time": "2022-05-29T17:20:11.648Z"
   },
   {
    "duration": 4,
    "start_time": "2022-05-29T17:20:36.789Z"
   },
   {
    "duration": 3,
    "start_time": "2022-05-29T17:20:37.328Z"
   },
   {
    "duration": 5,
    "start_time": "2022-05-29T17:20:46.434Z"
   },
   {
    "duration": 7,
    "start_time": "2022-05-29T17:20:55.548Z"
   },
   {
    "duration": 9,
    "start_time": "2022-05-29T17:21:40.248Z"
   },
   {
    "duration": 9,
    "start_time": "2022-05-29T17:21:53.153Z"
   },
   {
    "duration": 8,
    "start_time": "2022-05-29T17:21:55.373Z"
   },
   {
    "duration": 14,
    "start_time": "2022-05-29T17:22:09.479Z"
   },
   {
    "duration": 12,
    "start_time": "2022-05-29T17:31:45.794Z"
   },
   {
    "duration": 5,
    "start_time": "2022-05-29T17:31:52.597Z"
   },
   {
    "duration": 10,
    "start_time": "2022-05-29T17:50:19.647Z"
   },
   {
    "duration": 10,
    "start_time": "2022-05-29T17:51:52.522Z"
   },
   {
    "duration": 10,
    "start_time": "2022-05-29T17:52:07.378Z"
   },
   {
    "duration": 11,
    "start_time": "2022-05-29T17:52:15.591Z"
   },
   {
    "duration": 10,
    "start_time": "2022-05-29T17:52:28.787Z"
   },
   {
    "duration": 10,
    "start_time": "2022-05-29T17:52:46.457Z"
   },
   {
    "duration": 3,
    "start_time": "2022-05-29T17:53:00.827Z"
   },
   {
    "duration": 2,
    "start_time": "2022-05-29T17:53:08.228Z"
   },
   {
    "duration": 2,
    "start_time": "2022-05-29T17:53:14.917Z"
   },
   {
    "duration": 7,
    "start_time": "2022-05-29T17:53:25.074Z"
   },
   {
    "duration": 4,
    "start_time": "2022-05-29T17:53:29.150Z"
   },
   {
    "duration": 2,
    "start_time": "2022-05-29T17:53:30.804Z"
   },
   {
    "duration": 10,
    "start_time": "2022-05-29T17:54:27.712Z"
   },
   {
    "duration": 6,
    "start_time": "2022-05-29T17:54:31.906Z"
   },
   {
    "duration": 16,
    "start_time": "2022-05-29T17:54:35.757Z"
   },
   {
    "duration": 4,
    "start_time": "2022-05-29T17:55:26.848Z"
   },
   {
    "duration": 3,
    "start_time": "2022-05-29T17:55:35.399Z"
   },
   {
    "duration": 4,
    "start_time": "2022-05-29T17:55:43.772Z"
   },
   {
    "duration": 6,
    "start_time": "2022-05-29T17:55:55.219Z"
   },
   {
    "duration": 3,
    "start_time": "2022-05-29T17:56:03.950Z"
   },
   {
    "duration": 6,
    "start_time": "2022-05-29T17:56:05.787Z"
   },
   {
    "duration": 2,
    "start_time": "2022-05-29T17:56:15.491Z"
   },
   {
    "duration": 3,
    "start_time": "2022-05-29T17:56:18.103Z"
   },
   {
    "duration": 3,
    "start_time": "2022-05-29T17:56:39.843Z"
   },
   {
    "duration": 8,
    "start_time": "2022-05-29T17:57:10.243Z"
   },
   {
    "duration": 10,
    "start_time": "2022-05-29T17:57:53.694Z"
   },
   {
    "duration": 16,
    "start_time": "2022-05-29T17:58:06.276Z"
   },
   {
    "duration": 7,
    "start_time": "2022-05-29T17:58:13.286Z"
   },
   {
    "duration": 13,
    "start_time": "2022-05-29T17:58:21.549Z"
   },
   {
    "duration": 9,
    "start_time": "2022-05-29T17:58:29.379Z"
   },
   {
    "duration": 763,
    "start_time": "2022-05-29T17:59:05.471Z"
   },
   {
    "duration": 10,
    "start_time": "2022-05-29T17:59:12.954Z"
   },
   {
    "duration": 3,
    "start_time": "2022-05-29T17:59:13.645Z"
   },
   {
    "duration": 3,
    "start_time": "2022-05-29T17:59:14.248Z"
   },
   {
    "duration": 6,
    "start_time": "2022-05-29T17:59:14.791Z"
   },
   {
    "duration": 9,
    "start_time": "2022-05-29T17:59:15.314Z"
   },
   {
    "duration": 8,
    "start_time": "2022-05-29T17:59:16.853Z"
   },
   {
    "duration": 5,
    "start_time": "2022-05-29T17:59:18.543Z"
   },
   {
    "duration": 4,
    "start_time": "2022-05-29T17:59:21.076Z"
   },
   {
    "duration": 4,
    "start_time": "2022-05-29T17:59:22.485Z"
   },
   {
    "duration": 2,
    "start_time": "2022-05-29T17:59:27.516Z"
   },
   {
    "duration": 3,
    "start_time": "2022-05-29T17:59:28.111Z"
   },
   {
    "duration": 7,
    "start_time": "2022-05-29T17:59:28.752Z"
   },
   {
    "duration": 11,
    "start_time": "2022-05-29T17:59:31.575Z"
   },
   {
    "duration": 11,
    "start_time": "2022-05-29T18:02:03.517Z"
   },
   {
    "duration": 12,
    "start_time": "2022-05-29T18:09:32.988Z"
   },
   {
    "duration": 51,
    "start_time": "2022-05-29T18:10:21.264Z"
   },
   {
    "duration": 32,
    "start_time": "2022-05-29T18:11:04.910Z"
   },
   {
    "duration": 13,
    "start_time": "2022-05-29T18:13:33.861Z"
   },
   {
    "duration": 13,
    "start_time": "2022-05-29T18:14:48.862Z"
   },
   {
    "duration": 13,
    "start_time": "2022-05-29T18:15:10.719Z"
   },
   {
    "duration": 133,
    "start_time": "2022-05-29T18:15:21.460Z"
   },
   {
    "duration": 6,
    "start_time": "2022-05-29T18:15:48.244Z"
   },
   {
    "duration": 13,
    "start_time": "2022-05-29T18:16:23.607Z"
   },
   {
    "duration": 18,
    "start_time": "2022-05-29T18:16:59.156Z"
   },
   {
    "duration": 24,
    "start_time": "2022-05-29T18:17:32.756Z"
   },
   {
    "duration": 9,
    "start_time": "2022-05-29T18:18:31.603Z"
   },
   {
    "duration": 11,
    "start_time": "2022-05-29T18:22:21.019Z"
   },
   {
    "duration": 17,
    "start_time": "2022-05-29T18:22:28.710Z"
   },
   {
    "duration": 122,
    "start_time": "2022-05-29T18:22:39.048Z"
   },
   {
    "duration": 114,
    "start_time": "2022-05-29T18:23:22.858Z"
   },
   {
    "duration": 125,
    "start_time": "2022-05-29T18:25:14.610Z"
   },
   {
    "duration": 15,
    "start_time": "2022-05-29T18:25:53.244Z"
   },
   {
    "duration": 102,
    "start_time": "2022-05-29T18:25:56.987Z"
   },
   {
    "duration": 21,
    "start_time": "2022-05-29T18:26:09.703Z"
   },
   {
    "duration": 117,
    "start_time": "2022-05-29T18:26:54.157Z"
   },
   {
    "duration": 16,
    "start_time": "2022-05-29T18:27:15.990Z"
   },
   {
    "duration": 128,
    "start_time": "2022-05-29T18:27:16.695Z"
   },
   {
    "duration": 1472,
    "start_time": "2022-05-29T18:44:06.609Z"
   },
   {
    "duration": 13,
    "start_time": "2022-05-29T18:48:33.640Z"
   },
   {
    "duration": 40,
    "start_time": "2022-05-29T18:49:06.337Z"
   },
   {
    "duration": 37,
    "start_time": "2022-05-29T18:49:24.172Z"
   },
   {
    "duration": 3830,
    "start_time": "2022-05-29T18:49:43.343Z"
   },
   {
    "duration": 16,
    "start_time": "2022-05-29T18:50:40.087Z"
   },
   {
    "duration": 9,
    "start_time": "2022-05-29T18:50:59.448Z"
   },
   {
    "duration": 1974,
    "start_time": "2022-05-29T18:51:12.157Z"
   },
   {
    "duration": 58120,
    "start_time": "2022-05-29T18:51:17.552Z"
   },
   {
    "duration": 62085,
    "start_time": "2022-05-29T18:53:17.290Z"
   },
   {
    "duration": 10,
    "start_time": "2022-05-29T18:54:51.125Z"
   },
   {
    "duration": 12,
    "start_time": "2022-05-29T18:54:56.395Z"
   },
   {
    "duration": 9,
    "start_time": "2022-05-29T18:55:18.323Z"
   },
   {
    "duration": 331,
    "start_time": "2022-05-29T18:55:53.856Z"
   },
   {
    "duration": 329,
    "start_time": "2022-05-29T18:59:06.464Z"
   },
   {
    "duration": 36605,
    "start_time": "2022-05-29T18:59:31.430Z"
   },
   {
    "duration": 15,
    "start_time": "2022-05-29T19:06:46.277Z"
   },
   {
    "duration": 23,
    "start_time": "2022-05-29T19:06:53.675Z"
   },
   {
    "duration": 26,
    "start_time": "2022-05-29T19:07:09.457Z"
   },
   {
    "duration": 13,
    "start_time": "2022-05-29T19:07:45.674Z"
   },
   {
    "duration": 787,
    "start_time": "2022-05-29T19:07:50.673Z"
   },
   {
    "duration": 17,
    "start_time": "2022-05-29T19:07:52.414Z"
   },
   {
    "duration": 14,
    "start_time": "2022-05-29T19:08:01.324Z"
   },
   {
    "duration": 10,
    "start_time": "2022-05-29T19:08:04.824Z"
   },
   {
    "duration": 11,
    "start_time": "2022-05-29T19:08:21.524Z"
   },
   {
    "duration": 3,
    "start_time": "2022-05-29T19:08:40.157Z"
   },
   {
    "duration": 4,
    "start_time": "2022-05-29T19:08:40.757Z"
   },
   {
    "duration": 5,
    "start_time": "2022-05-29T19:08:41.597Z"
   },
   {
    "duration": 7,
    "start_time": "2022-05-29T19:08:42.175Z"
   },
   {
    "duration": 21,
    "start_time": "2022-05-29T19:08:43.859Z"
   },
   {
    "duration": 7,
    "start_time": "2022-05-29T19:08:47.121Z"
   },
   {
    "duration": 6,
    "start_time": "2022-05-29T19:08:50.467Z"
   },
   {
    "duration": 8,
    "start_time": "2022-05-29T19:08:51.189Z"
   },
   {
    "duration": 2,
    "start_time": "2022-05-29T19:08:53.334Z"
   },
   {
    "duration": 4,
    "start_time": "2022-05-29T19:08:53.880Z"
   },
   {
    "duration": 11,
    "start_time": "2022-05-29T19:08:54.465Z"
   },
   {
    "duration": 9,
    "start_time": "2022-05-29T19:08:56.710Z"
   },
   {
    "duration": 21,
    "start_time": "2022-05-29T19:08:58.977Z"
   },
   {
    "duration": 22,
    "start_time": "2022-05-29T19:08:59.885Z"
   },
   {
    "duration": 14,
    "start_time": "2022-05-29T19:09:42.878Z"
   },
   {
    "duration": 10,
    "start_time": "2022-05-29T19:09:53.130Z"
   },
   {
    "duration": 13,
    "start_time": "2022-05-29T19:10:09.528Z"
   },
   {
    "duration": 3,
    "start_time": "2022-05-29T19:10:45.188Z"
   },
   {
    "duration": 3875,
    "start_time": "2022-05-29T19:10:46.006Z"
   },
   {
    "duration": 3,
    "start_time": "2022-05-29T19:11:07.743Z"
   },
   {
    "duration": 1347,
    "start_time": "2022-05-29T19:11:08.876Z"
   },
   {
    "duration": 6,
    "start_time": "2022-05-29T19:11:45.958Z"
   },
   {
    "duration": 1618,
    "start_time": "2022-05-29T19:11:46.921Z"
   },
   {
    "duration": 33,
    "start_time": "2022-05-29T19:17:30.561Z"
   },
   {
    "duration": 10,
    "start_time": "2022-05-29T19:19:29.130Z"
   },
   {
    "duration": 5,
    "start_time": "2022-05-29T19:19:33.804Z"
   },
   {
    "duration": 770,
    "start_time": "2022-05-29T19:19:50.034Z"
   },
   {
    "duration": 2283,
    "start_time": "2022-05-29T19:28:28.164Z"
   },
   {
    "duration": 78,
    "start_time": "2022-05-29T19:30:23.070Z"
   },
   {
    "duration": 85,
    "start_time": "2022-05-29T19:41:31.934Z"
   },
   {
    "duration": 7,
    "start_time": "2022-05-29T19:41:48.151Z"
   },
   {
    "duration": 8,
    "start_time": "2022-05-29T19:51:03.348Z"
   },
   {
    "duration": 7,
    "start_time": "2022-05-29T19:52:03.095Z"
   },
   {
    "duration": 11,
    "start_time": "2022-05-29T19:52:19.338Z"
   },
   {
    "duration": 7,
    "start_time": "2022-05-29T19:53:10.445Z"
   },
   {
    "duration": 3,
    "start_time": "2022-05-29T19:53:27.203Z"
   },
   {
    "duration": 12,
    "start_time": "2022-05-29T19:53:34.149Z"
   },
   {
    "duration": 16,
    "start_time": "2022-05-29T19:55:03.928Z"
   },
   {
    "duration": 8,
    "start_time": "2022-05-29T19:55:38.431Z"
   },
   {
    "duration": 11,
    "start_time": "2022-05-29T19:55:46.547Z"
   },
   {
    "duration": 13,
    "start_time": "2022-05-29T19:55:51.802Z"
   },
   {
    "duration": 64,
    "start_time": "2022-05-29T19:56:19.556Z"
   },
   {
    "duration": 21,
    "start_time": "2022-05-29T19:56:35.356Z"
   },
   {
    "duration": 11,
    "start_time": "2022-05-29T19:57:04.541Z"
   },
   {
    "duration": 6,
    "start_time": "2022-05-29T19:57:12.576Z"
   },
   {
    "duration": 266,
    "start_time": "2022-05-29T19:57:44.967Z"
   },
   {
    "duration": 3,
    "start_time": "2022-05-29T19:57:52.778Z"
   },
   {
    "duration": 2,
    "start_time": "2022-05-29T19:58:00.644Z"
   },
   {
    "duration": 12,
    "start_time": "2022-05-29T20:00:46.837Z"
   },
   {
    "duration": 18,
    "start_time": "2022-05-29T20:00:56.551Z"
   },
   {
    "duration": 3,
    "start_time": "2022-05-29T20:03:32.639Z"
   },
   {
    "duration": 23,
    "start_time": "2022-05-29T20:04:28.479Z"
   },
   {
    "duration": 35,
    "start_time": "2022-05-29T20:04:38.286Z"
   },
   {
    "duration": 3,
    "start_time": "2022-05-29T20:08:35.084Z"
   },
   {
    "duration": 3,
    "start_time": "2022-05-29T20:08:36.243Z"
   },
   {
    "duration": 3,
    "start_time": "2022-05-29T20:08:36.850Z"
   },
   {
    "duration": 0,
    "start_time": "2022-05-29T20:15:05.443Z"
   },
   {
    "duration": 393229,
    "start_time": "2022-05-29T20:17:35.424Z"
   },
   {
    "duration": 0,
    "start_time": "2022-05-29T20:24:08.658Z"
   },
   {
    "duration": 4,
    "start_time": "2022-05-29T20:29:39.708Z"
   },
   {
    "duration": 3,
    "start_time": "2022-05-29T20:30:03.044Z"
   },
   {
    "duration": 7,
    "start_time": "2022-05-29T20:30:56.021Z"
   },
   {
    "duration": 42,
    "start_time": "2022-05-29T20:32:17.787Z"
   },
   {
    "duration": 13,
    "start_time": "2022-05-29T20:32:47.765Z"
   },
   {
    "duration": 4,
    "start_time": "2022-05-29T20:32:52.473Z"
   },
   {
    "duration": 16,
    "start_time": "2022-05-29T20:32:54.186Z"
   },
   {
    "duration": 4,
    "start_time": "2022-05-29T20:33:08.874Z"
   },
   {
    "duration": 3,
    "start_time": "2022-05-29T20:33:21.330Z"
   },
   {
    "duration": 3,
    "start_time": "2022-05-29T20:33:28.053Z"
   },
   {
    "duration": 11,
    "start_time": "2022-05-29T20:33:41.183Z"
   },
   {
    "duration": 3,
    "start_time": "2022-05-29T20:34:04.577Z"
   },
   {
    "duration": 3,
    "start_time": "2022-05-29T20:34:05.186Z"
   },
   {
    "duration": 24157027,
    "start_time": "2022-05-29T20:34:11.077Z"
   },
   {
    "duration": 38059,
    "start_time": "2022-05-30T03:17:20.565Z"
   },
   {
    "duration": 8,
    "start_time": "2022-05-30T03:18:10.804Z"
   },
   {
    "duration": 2061789,
    "start_time": "2022-05-30T03:18:21.422Z"
   },
   {
    "duration": 5,
    "start_time": "2022-05-30T03:52:55.548Z"
   },
   {
    "duration": 8,
    "start_time": "2022-05-30T04:07:13.429Z"
   },
   {
    "duration": 1713,
    "start_time": "2022-05-31T10:49:56.617Z"
   },
   {
    "duration": 4396,
    "start_time": "2022-05-31T10:49:58.331Z"
   },
   {
    "duration": 2126,
    "start_time": "2022-05-31T10:50:02.729Z"
   },
   {
    "duration": 4554,
    "start_time": "2022-05-31T10:50:04.867Z"
   },
   {
    "duration": 58112,
    "start_time": "2022-05-31T10:50:09.423Z"
   },
   {
    "duration": 463,
    "start_time": "2022-05-31T10:51:07.536Z"
   },
   {
    "duration": 35706,
    "start_time": "2022-05-31T10:51:08.001Z"
   },
   {
    "duration": 11,
    "start_time": "2022-05-31T10:51:43.709Z"
   },
   {
    "duration": 54,
    "start_time": "2022-05-31T10:51:43.722Z"
   },
   {
    "duration": 3,
    "start_time": "2022-05-31T10:51:43.779Z"
   },
   {
    "duration": 302,
    "start_time": "2022-05-31T10:51:43.783Z"
   },
   {
    "duration": 16,
    "start_time": "2022-05-31T10:51:44.087Z"
   },
   {
    "duration": 15,
    "start_time": "2022-05-31T10:51:44.104Z"
   },
   {
    "duration": 35,
    "start_time": "2022-05-31T10:51:44.120Z"
   },
   {
    "duration": 8,
    "start_time": "2022-05-31T10:51:44.158Z"
   },
   {
    "duration": 16,
    "start_time": "2022-05-31T10:51:44.168Z"
   },
   {
    "duration": 6,
    "start_time": "2022-05-31T10:51:44.186Z"
   },
   {
    "duration": 8,
    "start_time": "2022-05-31T10:51:44.193Z"
   },
   {
    "duration": 18,
    "start_time": "2022-05-31T10:51:44.202Z"
   },
   {
    "duration": 17,
    "start_time": "2022-05-31T10:51:44.221Z"
   },
   {
    "duration": 18,
    "start_time": "2022-05-31T10:51:44.240Z"
   },
   {
    "duration": 14,
    "start_time": "2022-05-31T10:51:44.267Z"
   },
   {
    "duration": 13,
    "start_time": "2022-05-31T10:51:44.282Z"
   },
   {
    "duration": 14,
    "start_time": "2022-05-31T10:51:44.296Z"
   },
   {
    "duration": 7,
    "start_time": "2022-05-31T10:51:44.311Z"
   },
   {
    "duration": 14,
    "start_time": "2022-05-31T10:51:44.319Z"
   },
   {
    "duration": 3,
    "start_time": "2022-05-31T10:51:44.334Z"
   },
   {
    "duration": 3711,
    "start_time": "2022-05-31T10:51:44.340Z"
   },
   {
    "duration": 1559,
    "start_time": "2022-05-31T10:51:48.052Z"
   },
   {
    "duration": 1413,
    "start_time": "2022-05-31T10:51:49.612Z"
   },
   {
    "duration": 3,
    "start_time": "2022-05-31T10:51:51.026Z"
   },
   {
    "duration": 1287,
    "start_time": "2022-05-31T10:51:51.030Z"
   },
   {
    "duration": 2,
    "start_time": "2022-05-31T10:51:52.319Z"
   },
   {
    "duration": 1482,
    "start_time": "2022-05-31T10:51:52.323Z"
   },
   {
    "duration": 2,
    "start_time": "2022-05-31T10:51:53.807Z"
   },
   {
    "duration": 4751,
    "start_time": "2022-05-31T10:51:53.811Z"
   },
   {
    "duration": 5,
    "start_time": "2022-05-31T10:51:58.564Z"
   },
   {
    "duration": 9,
    "start_time": "2022-05-31T10:51:58.572Z"
   },
   {
    "duration": 6,
    "start_time": "2022-05-31T10:51:58.582Z"
   },
   {
    "duration": 8,
    "start_time": "2022-05-31T10:51:58.589Z"
   },
   {
    "duration": 7,
    "start_time": "2022-05-31T10:51:58.598Z"
   },
   {
    "duration": 21,
    "start_time": "2022-05-31T10:51:58.607Z"
   },
   {
    "duration": 5,
    "start_time": "2022-05-31T10:51:58.630Z"
   },
   {
    "duration": 3,
    "start_time": "2022-05-31T10:51:58.636Z"
   },
   {
    "duration": 16,
    "start_time": "2022-05-31T10:51:58.640Z"
   },
   {
    "duration": 10,
    "start_time": "2022-05-31T11:32:30.364Z"
   },
   {
    "duration": 2408,
    "start_time": "2022-05-31T11:32:30.376Z"
   },
   {
    "duration": 2150,
    "start_time": "2022-05-31T11:32:32.786Z"
   },
   {
    "duration": 744,
    "start_time": "2022-05-31T11:32:34.938Z"
   },
   {
    "duration": 58946,
    "start_time": "2022-05-31T11:32:35.684Z"
   },
   {
    "duration": 319,
    "start_time": "2022-05-31T11:33:34.633Z"
   },
   {
    "duration": 39022,
    "start_time": "2022-05-31T11:33:34.957Z"
   },
   {
    "duration": 12,
    "start_time": "2022-05-31T11:34:13.983Z"
   },
   {
    "duration": 75,
    "start_time": "2022-05-31T11:34:13.997Z"
   },
   {
    "duration": 6,
    "start_time": "2022-05-31T11:34:14.074Z"
   },
   {
    "duration": 284,
    "start_time": "2022-05-31T11:34:14.083Z"
   },
   {
    "duration": 17,
    "start_time": "2022-05-31T11:34:14.368Z"
   },
   {
    "duration": 16,
    "start_time": "2022-05-31T11:34:14.386Z"
   },
   {
    "duration": 11,
    "start_time": "2022-05-31T11:34:14.403Z"
   },
   {
    "duration": 5,
    "start_time": "2022-05-31T11:34:14.416Z"
   },
   {
    "duration": 32,
    "start_time": "2022-05-31T11:34:14.423Z"
   },
   {
    "duration": 23,
    "start_time": "2022-05-31T11:34:14.457Z"
   },
   {
    "duration": 7,
    "start_time": "2022-05-31T11:34:14.481Z"
   },
   {
    "duration": 5,
    "start_time": "2022-05-31T11:34:14.489Z"
   },
   {
    "duration": 6,
    "start_time": "2022-05-31T11:34:14.495Z"
   },
   {
    "duration": 10,
    "start_time": "2022-05-31T11:34:14.503Z"
   },
   {
    "duration": 12,
    "start_time": "2022-05-31T11:34:14.515Z"
   },
   {
    "duration": 24,
    "start_time": "2022-05-31T11:34:14.529Z"
   },
   {
    "duration": 19,
    "start_time": "2022-05-31T11:34:14.556Z"
   },
   {
    "duration": 13,
    "start_time": "2022-05-31T11:34:14.576Z"
   },
   {
    "duration": 16,
    "start_time": "2022-05-31T11:34:14.591Z"
   },
   {
    "duration": 3,
    "start_time": "2022-05-31T11:34:14.609Z"
   },
   {
    "duration": 3899,
    "start_time": "2022-05-31T11:34:14.614Z"
   },
   {
    "duration": 1451,
    "start_time": "2022-05-31T11:34:18.518Z"
   },
   {
    "duration": 1533,
    "start_time": "2022-05-31T11:34:19.971Z"
   },
   {
    "duration": 4,
    "start_time": "2022-05-31T11:34:21.507Z"
   },
   {
    "duration": 1306,
    "start_time": "2022-05-31T11:34:21.513Z"
   },
   {
    "duration": 3,
    "start_time": "2022-05-31T11:34:22.821Z"
   },
   {
    "duration": 1504,
    "start_time": "2022-05-31T11:34:22.826Z"
   },
   {
    "duration": 2,
    "start_time": "2022-05-31T11:34:24.332Z"
   },
   {
    "duration": 4660,
    "start_time": "2022-05-31T11:34:24.336Z"
   },
   {
    "duration": 3,
    "start_time": "2022-05-31T11:34:28.998Z"
   },
   {
    "duration": 9,
    "start_time": "2022-05-31T11:34:29.002Z"
   },
   {
    "duration": 6,
    "start_time": "2022-05-31T11:34:29.013Z"
   },
   {
    "duration": 8,
    "start_time": "2022-05-31T11:34:29.021Z"
   },
   {
    "duration": 28,
    "start_time": "2022-05-31T11:34:29.031Z"
   },
   {
    "duration": 22,
    "start_time": "2022-05-31T11:34:29.061Z"
   },
   {
    "duration": 7,
    "start_time": "2022-05-31T11:34:29.085Z"
   },
   {
    "duration": 3,
    "start_time": "2022-05-31T11:34:29.094Z"
   },
   {
    "duration": 9,
    "start_time": "2022-05-31T11:34:29.099Z"
   },
   {
    "duration": 4,
    "start_time": "2022-05-31T11:35:18.799Z"
   },
   {
    "duration": 5,
    "start_time": "2022-05-31T11:35:19.921Z"
   },
   {
    "duration": 6,
    "start_time": "2022-05-31T11:35:21.456Z"
   },
   {
    "duration": 4,
    "start_time": "2022-05-31T11:35:22.166Z"
   },
   {
    "duration": 3,
    "start_time": "2022-05-31T11:35:23.414Z"
   },
   {
    "duration": 1007831,
    "start_time": "2022-05-31T11:35:40.574Z"
   },
   {
    "duration": 4,
    "start_time": "2022-05-31T11:55:28.220Z"
   },
   {
    "duration": 22,
    "start_time": "2022-05-31T11:55:31.461Z"
   },
   {
    "duration": 121716,
    "start_time": "2022-05-31T11:55:35.050Z"
   }
  ],
  "interpreter": {
   "hash": "6f5dd8f20b058ead9365f7e252fda945bb74a615f91a5f6b0a68f63e4f4eb6f7"
  },
  "kernelspec": {
   "display_name": "Python 3 (ipykernel)",
   "language": "python",
   "name": "python3"
  },
  "language_info": {
   "codemirror_mode": {
    "name": "ipython",
    "version": 3
   },
   "file_extension": ".py",
   "mimetype": "text/x-python",
   "name": "python",
   "nbconvert_exporter": "python",
   "pygments_lexer": "ipython3",
   "version": "3.9.5"
  },
  "toc": {
   "base_numbering": 1,
   "nav_menu": {},
   "number_sections": true,
   "sideBar": true,
   "skip_h1_title": true,
   "title_cell": "Содержание",
   "title_sidebar": "Contents",
   "toc_cell": true,
   "toc_position": {
    "height": "calc(100% - 180px)",
    "left": "10px",
    "top": "150px",
    "width": "165px"
   },
   "toc_section_display": true,
   "toc_window_display": true
  }
 },
 "nbformat": 4,
 "nbformat_minor": 2
}
