{
 "cells": [
  {
   "cell_type": "markdown",
   "metadata": {},
   "source": [
    "# Защита персональных данных клиентов  \n",
    "Необходимо предложить механизм преобразования данных пользователей, который бы помог защитить личную информацию, но не отразился бы на предсказании модели линейной регрессии"
   ]
  },
  {
   "cell_type": "code",
   "execution_count": null,
   "metadata": {},
   "outputs": [],
   "source": [
    "import pandas as pd\n",
    "import datetime as dt\n",
    "import numpy as np\n",
    "from numpy.random import RandomState\n",
    "import warnings\n",
    "\n",
    "import seaborn as sns\n",
    "from matplotlib import pyplot as plt\n",
    "\n",
    "from sklearn.linear_model import LinearRegression, Lasso, ElasticNet\n",
    "from sklearn.ensemble import RandomForestRegressor\n",
    "from sklearn.dummy import DummyRegressor\n",
    "from sklearn import set_config\n",
    "from sklearn.utils import shuffle\n",
    "\n",
    "from sklearn.model_selection import train_test_split, GridSearchCV, RandomizedSearchCV, KFold\n",
    "from sklearn.feature_selection import VarianceThreshold\n",
    "from sklearn.preprocessing import StandardScaler, OneHotEncoder,  Normalizer, StandardScaler, MinMaxScaler\n",
    "from sklearn.pipeline import make_pipeline, Pipeline\n",
    "from sklearn.metrics import mean_squared_error, mean_absolute_error, make_scorer\n",
    "\n",
    "warnings.filterwarnings('ignore')\n",
    "pd.set_option('display.float_format', '{:.2f}'.format)\n",
    "%matplotlib inline"
   ]
  },
  {
   "cell_type": "markdown",
   "metadata": {},
   "source": [
    "[1. Загрузка данных](#data_download)  \n",
    "[2. Предобработка данных](#data_preprocessing)   \n",
    "[3. Предложение метода защиты данных](#data_safety_method)    \n",
    "[4. Доказательство корректности метода](#proof)  \n",
    "[5. Обучение и проверка качества линейной регрессии до применения метода](#before)  \n",
    "[6. Обучение и проверка качества линейной регрессии после применения метода](#after)  \n",
    "[7. Выводы](#conclusion)"
   ]
  },
  {
   "cell_type": "markdown",
   "metadata": {},
   "source": [
    "<a id='data_download'></a>\n",
    "### 1. Загрузка данных "
   ]
  },
  {
   "cell_type": "markdown",
   "metadata": {},
   "source": [
    "<a id='data_preprocessing'></a>\n",
    "### 2. Предобработка данных"
   ]
  },
  {
   "cell_type": "markdown",
   "metadata": {},
   "source": [
    "<a id='data_safety_method'></a>\n",
    "### 3. Предложение метода защиты данных"
   ]
  },
  {
   "cell_type": "markdown",
   "metadata": {},
   "source": [
    " <a id='proof'></a>\n",
    "### 4. Доказательство корректности метода"
   ]
  },
  {
   "cell_type": "markdown",
   "metadata": {},
   "source": [
    "Необходимые формулы:  \n",
    "  \n",
    "$ (AB)^{T} = B^{T}A^{T} $  \n",
    "$ (AB)^{-1} = B^{-1}A^{-1} $  \n",
    "$ AA^{-1} = E = A^{-1}A $"
   ]
  },
  {
   "cell_type": "markdown",
   "metadata": {},
   "source": [
    "\n",
    "Пусть $ X^{'} $ - матрица признаков $ m*n $  \n",
    "\n",
    "Пусть $ W_{1} $ - вектор весов  $(1*m)$ , $W_{0}$  - скаляр\n",
    "\n",
    "Тогда предсказание линейной регрессии можно записать:\n",
    "$$Y = X^{'} *W_{1} + W_{0} $$\n",
    "для упрощения расчетов добавим к матрице $ X^{'} $ единичный столбец, а скаляр $ W_{0}$ добавим в вектор $ W_{1} $\n",
    "\n",
    "$$\\begin{bmatrix} 1 & x_{12} & x_{13} & ... & x_{1n} \\\\ 1 & x_{21} & x_{22} & ... & x_{2n} \\\\ ...\\\\ 1 & x_{m2} & x_{m3} & ... & x_{mn}\\end{bmatrix} *  \\begin{bmatrix} w_{0} \\\\ w_{1} \\\\ ... \\\\ w_{n}\\end{bmatrix}$$ \n",
    "\n",
    "Обозначим новую матрицу признаков с еденичным столбцом за $ X $ , а вектор весов - $ W $"
   ]
  },
  {
   "cell_type": "markdown",
   "metadata": {},
   "source": [
    "**Формула предсказания линейной регрессии:**\n",
    "$ Y = X*W $ \n",
    "\n",
    "\n",
    "Если принять метрику качества - минимальное значение **MSE** -  среднеквадратичноей ошибки, то для поиска минимального решения необходимо минимизировать:  \n",
    "\n",
    "$ (Y - XW)^{T}(Y-XW) -> min $  \n",
    "\n",
    "\n",
    "оптимальное решение относительно W находится приравниваем к нулю дифференциала этой функции по W   \n",
    " \n",
    "В результате преобразований получим  \n",
    "\n",
    "$ W = (X^{T}X)^{-1}X^{T}Y $"
   ]
  },
  {
   "cell_type": "markdown",
   "metadata": {},
   "source": [
    "### Докажем, что умножение матрицы X на обратимую матрицу не ухудшит качество предсказаний"
   ]
  },
  {
   "cell_type": "markdown",
   "metadata": {},
   "source": [
    "### Умножим матрицу признаков $ X $ на обратимую матрицу $ Q $ размерности (n*m) "
   ]
  },
  {
   "cell_type": "markdown",
   "metadata": {},
   "source": [
    "$ W^{'} = ((XQ)^{T}XQ)^{-1}(XQ)^{T}Y $  "
   ]
  },
  {
   "cell_type": "markdown",
   "metadata": {},
   "source": [
    "$ W^{'} = (Q^{T}X^{T}XQ)^{-1}Q^{T}X^{T}Y $"
   ]
  },
  {
   "cell_type": "markdown",
   "metadata": {},
   "source": [
    "$ W^{'} = Q^{-1}(X^{T}X)^{-1}(Q^{T})^{-1}Q^{T}X^{T}Y $"
   ]
  },
  {
   "cell_type": "markdown",
   "metadata": {},
   "source": [
    "$ (Q^{T})^{-1}Q^{T}  = E $  \n",
    " \n",
    "отсюда:"
   ]
  },
  {
   "cell_type": "markdown",
   "metadata": {},
   "source": [
    "$ W^{'} = Q^{-1}(X^{T}X)^{-1}X^{T}Y $ , где  \n",
    "$ (X^{T}X)^{-1}X^{T}Y $ равно $ W $\n",
    "\n",
    "Получаем,что   \n",
    "\n",
    "$ W^{'} = Q^{-1}*W $"
   ]
  },
  {
   "cell_type": "markdown",
   "metadata": {},
   "source": [
    "Подставим $ Q^{-1}W $ вместо веса $ W^{'} $  в предсказание модели $ Y^{'} = XQW^{'} $ \n",
    "\n",
    "$ Y^{'} = XQ*Q^{-1}W $  \n",
    "$ Y^{'} = XEW $  \n",
    "$ Y^{'} = XW = Y $  \n",
    "\n",
    "Доказали, что от умножения на обратимую матрицу, предсказания модели **не меняются**. Меняются только веса, те модель необходимо переобучить."
   ]
  },
  {
   "cell_type": "markdown",
   "metadata": {},
   "source": [
    "<a id='before'></a>\n",
    "### 5. Обучение и проверка качества линейной регрессии до применения метода"
   ]
  },
  {
   "cell_type": "markdown",
   "metadata": {},
   "source": [
    "<a id='after'></a>\n",
    "### 6. Обучение и проверка качества линейной регрессии после применения метода"
   ]
  },
  {
   "cell_type": "markdown",
   "metadata": {},
   "source": [
    "<a id='conclusion'></a>\n",
    "### 7. Выводы"
   ]
  }
 ],
 "metadata": {
  "language_info": {
   "name": "python"
  },
  "orig_nbformat": 4
 },
 "nbformat": 4,
 "nbformat_minor": 2
}
