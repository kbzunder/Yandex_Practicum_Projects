{
 "cells": [
  {
   "cell_type": "markdown",
   "metadata": {},
   "source": [
    "<div style=\"border-radius: 15px; border: 3px solid indigo; padding: 15px;\">\n",
    "<b> Комментарий ревьюера</b>\n",
    "    \n",
    "Привет! Прошу прощения за задержку ревью 🙏 Понимаю, что это принесло много неудобств, но скоро все будет в норме. \n",
    "    \n",
    "    \n",
    "    \n",
    "Меня зовут Светлана Носова, я буду проверять твой проект. Если не против, давай общаться на «ты». Если тебе такой стиль общения не нравится, напиши об этом, будем на «вы». \n",
    "\n",
    "Сразу хочу обратить внимание на цветовую разметку:\n",
    "\n",
    "<div class=\"alert alert-success\" style=\"border-radius: 15px; box-shadow: 4px 4px 4px; border: 1px solid \">\n",
    "\n",
    "Зеленым с пометкой ✔️ отмечены отличные решения и идеи, которые можно и нужно использовать в будущем.\n",
    "</div>\n",
    "    \n",
    "<div class=\"alert alert-warning\" style=\"border-radius: 15px; box-shadow: 4px 4px 4px; border: 1px solid \">\n",
    "\n",
    "Желтым с пометкой ⚠️ отмечено то, что можно или нужно оптимизировать, в зависимости от контекста.</div>    \n",
    "    \n",
    "<div class=\"alert alert-danger\" style=\"border-radius: 15px; box-shadow: 4px 4px 4px; border: 1px solid \">\n",
    "\n",
    "Красным с пометкой ❌ обозначены пропущенные пункты задания и ошибки, которые обязательно надо будет исправить, чтобы результаты были верные.</div> \n",
    "    \n",
    "**Ответы на мои комментарии или доработки по моим рекомендациям попрошу выделить каким-нибудь цветом, кроме перечисленных.**\n",
    "Также я попрошу тебя **не менять и не передвигать мои комментарии**, чтобы при последующей проверке мне было проще ориентироваться.\n",
    "    \n",
    "Кроме того, комментарии у меня обозначены как заголовки. Это сбивает содержание, но при последующей проверке я могу снять с них заголовок, если тебе так будет удобнее. При этом они удобны, поскольку ты сразу можешь перейти к ним.   \n",
    "        \n",
    "<hr>\n",
    "    \n",
    "<font color= 'dodgerblue'>**По проекту:**</font> похоже, что работа сделана очень хорошо, все оформлено аккуратно и понятно. Структура работы у тебя понятная, код легко читается, много анализа и выводов. Однако я не могу провести полноценную проверку, т.к. указан локальный путь к одному из файлов. Тем не менее, я пробежалась по коду и выводам, оставив несколько комментариев. Так что можешь уже сейчас вносить корректировки. Остальное я проверю, когда смогу запустить код. \n",
    "</div>"
   ]
  },
  {
   "cell_type": "markdown",
   "metadata": {},
   "source": [
    "<div style=\"border-radius: 15px; border: 3px solid indigo; padding: 15px;\">\n",
    "<b> Комментарий ревьюера 2</b>\n",
    "    \n",
    "Спасибо за корректировки. Я оставила новые комментарии с цифрой 2, а со старых сняла заголовки, чтобы  не мешали. Все еще указан локальный путь, поэтому я не могу посмотреть на результаты. \n",
    "    \n",
    "\n",
    "    \n",
    "</div>"
   ]
  },
  {
   "cell_type": "markdown",
   "metadata": {},
   "source": [
    "<div style=\"border-radius: 15px; border: 3px solid indigo; padding: 15px;\">\n",
    "<b> Комментарий ревьюера 3 </b>\n",
    "    \n",
    "Теперь все супер :) Оставила пару новых комментариев с цифрой 3. Проект я могу принять, поскольку вопросов больше нет. Желаю успехов :)\n",
    "    \n",
    "\n",
    "    \n",
    "</div>"
   ]
  },
  {
   "cell_type": "markdown",
   "metadata": {},
   "source": [
    " \n",
    "## Анализ тарифов мобильной связи \"Ultra\" и \"Smart\"\n",
    "В данной работе проведено исследование двух тарифов оператора мобильной связи, определены отличия в поведении пользователей, сделаны выводы и предложены рекоммендации бизнесу. \n",
    "Исходные данные представляют собой выборку за 2018 год в следующих разрезах: \n",
    "* сообщения\n",
    "* интернет\n",
    "* пользователи\n",
    "* тарифы\n",
    "* звонки\n",
    "\n",
    "План работы представлен ниже"
   ]
  },
  {
   "cell_type": "markdown",
   "metadata": {},
   "source": [
    "<div class=\"alert alert-danger\" style=\"border-radius: 15px; box-shadow: 4px 4px 4px; border: 1px solid \">\n",
    "<b> Комментарий ревьюера  ❌</b>\n",
    "    \n",
    "Вводный параграф это неотъемлемая часть любого проекта, отчета, презентации или статьи. Будет очень здорово, если ты добавишь постановку задачи: краткое ее описание и описание данных. Это поможет не только тебе лучше ориентироваться в проекте спустя некоторое время, но и потенциальному работодателю, который будет просматривать твое портфолио. \n",
    "</div>\n",
    "\n",
    "<div class=\"alert alert-success\" style=\"border-radius: 15px; box-shadow: 4px 4px 4px; border: 1px solid \">\n",
    "<b> Комментарий ревьюера 2 ✔️</b>\n",
    "    \n",
    "Это хорошая привычка. Потом тебе будет проще вспоминать, что это за проект. К примеру, у меня на компьютере около сотни различных тетрадок с задачами, если не больше. От древних тетрадей с простыми задачами до важных проектов. Тут без комментариев ни за что не вспомнишь, о чем там речь шла и что вообще происходит в проекте :)</div>"
   ]
  },
  {
   "cell_type": "code",
   "execution_count": 1,
   "metadata": {},
   "outputs": [],
   "source": [
    "import pandas as pd\n",
    "import numpy as np\n",
    "import matplotlib.pyplot as plt\n",
    "\n",
    "from datetime import datetime as dt\n",
    "from scipy import stats as st\n",
    "from IPython.display import display\n"
   ]
  },
  {
   "cell_type": "markdown",
   "metadata": {},
   "source": [
    "В наше распоряжение попали 5 источников данных о тарифах. Загрузим данные, проведем предварительный анализ и предобработку данных\n"
   ]
  },
  {
   "cell_type": "markdown",
   "metadata": {},
   "source": [
    "Загрузим данные:\n"
   ]
  },
  {
   "cell_type": "code",
   "execution_count": 2,
   "metadata": {},
   "outputs": [],
   "source": [
    "calls = pd.read_csv('/datasets/calls.csv')\n",
    "internet = pd.read_csv('/datasets/internet.csv')\n",
    "messages = pd.read_csv('/datasets/messages.csv')\n",
    "tariffs = pd.read_csv('/datasets/tariffs.csv')\n",
    "users = pd.read_csv('/datasets/users.csv')\n"
   ]
  },
  {
   "cell_type": "markdown",
   "metadata": {},
   "source": [
    "<div class=\"alert alert-danger\" style=\"border-radius: 15px; box-shadow: 4px 4px 4px; border: 1px solid \">\n",
    "<b> Комментарий ревьюера 2 ❌</b>\n",
    "    \n",
    "Все еще локальный путь.</div>\n",
    "<div class=\"alert alert-success\" style=\"border-radius: 15px; box-shadow: 4px 4px 4px; border: 1px solid \">\n",
    "<h2> Комментарий ревьюера 3 ✔️</h2>\n",
    "    \n",
    "Теперь правильно. </div>"
   ]
  },
  {
   "cell_type": "markdown",
   "metadata": {},
   "source": [
    "1. Знакомство с данными. Предобработка  \n",
    "   1.1 Изменение типов данных  \n",
    "   1.2 Поиск и устранение дубликатов  \n",
    "   1.3 Поиск аномалий  \n",
    "2. Подготовка данных  \n",
    "   2.1 Посчитайте для каждого пользователя количество сделанных звонков и израсходованных минут разговора по месяцам  \n",
    "   2.2 количество отправленных сообщений по месяцам  \n",
    "   2.3 объем израсходованного интернет-трафика по месяцам  \n",
    "   2.4 помесячную выручку с каждого пользователя (вычтите бесплатный лимит из суммарного количества звонков, сообщений и интернет-трафика; остаток умножьте на значение из тарифного плана; прибавьте абонентскую плату, соответствующую тарифному плану)  \n",
    "3. Анализ данных.  \n",
    "   3.1 Опишите поведение клиентов оператора, исходя из выборки. Сколько минут разговора, сколько сообщений и какой объём интернет-трафика требуется пользователям каждого тарифа в месяц?  \n",
    "   3.2 Посчитайте среднее количество, дисперсию и стандартное отклонение.  \n",
    "   3.3 Постройте гистограммы.  \n",
    "   3.4 Опишите распределения.  \n",
    "4. Проверьте гипотезы  \n",
    "   4.1 средняя выручка пользователей тарифов «Ультра» и «Смарт» различаются  \n",
    "   4.2 средняя выручка пользователей из Москвы отличается от выручки пользователей из других регионов  \n",
    "5. общий вывод  \n"
   ]
  },
  {
   "cell_type": "markdown",
   "metadata": {},
   "source": [
    "## 1. Знакомство с данными. Предобработка  \n",
    "### Рассмотрим датасет **calls**\n"
   ]
  },
  {
   "cell_type": "code",
   "execution_count": 3,
   "metadata": {},
   "outputs": [
    {
     "data": {
      "text/html": [
       "<div>\n",
       "<style scoped>\n",
       "    .dataframe tbody tr th:only-of-type {\n",
       "        vertical-align: middle;\n",
       "    }\n",
       "\n",
       "    .dataframe tbody tr th {\n",
       "        vertical-align: top;\n",
       "    }\n",
       "\n",
       "    .dataframe thead th {\n",
       "        text-align: right;\n",
       "    }\n",
       "</style>\n",
       "<table border=\"1\" class=\"dataframe\">\n",
       "  <thead>\n",
       "    <tr style=\"text-align: right;\">\n",
       "      <th></th>\n",
       "      <th>id</th>\n",
       "      <th>call_date</th>\n",
       "      <th>duration</th>\n",
       "      <th>user_id</th>\n",
       "    </tr>\n",
       "  </thead>\n",
       "  <tbody>\n",
       "    <tr>\n",
       "      <th>0</th>\n",
       "      <td>1000_0</td>\n",
       "      <td>2018-07-25</td>\n",
       "      <td>0.00</td>\n",
       "      <td>1000</td>\n",
       "    </tr>\n",
       "    <tr>\n",
       "      <th>1</th>\n",
       "      <td>1000_1</td>\n",
       "      <td>2018-08-17</td>\n",
       "      <td>0.00</td>\n",
       "      <td>1000</td>\n",
       "    </tr>\n",
       "    <tr>\n",
       "      <th>2</th>\n",
       "      <td>1000_2</td>\n",
       "      <td>2018-06-11</td>\n",
       "      <td>2.85</td>\n",
       "      <td>1000</td>\n",
       "    </tr>\n",
       "    <tr>\n",
       "      <th>3</th>\n",
       "      <td>1000_3</td>\n",
       "      <td>2018-09-21</td>\n",
       "      <td>13.80</td>\n",
       "      <td>1000</td>\n",
       "    </tr>\n",
       "    <tr>\n",
       "      <th>4</th>\n",
       "      <td>1000_4</td>\n",
       "      <td>2018-12-15</td>\n",
       "      <td>5.18</td>\n",
       "      <td>1000</td>\n",
       "    </tr>\n",
       "  </tbody>\n",
       "</table>\n",
       "</div>"
      ],
      "text/plain": [
       "       id   call_date  duration  user_id\n",
       "0  1000_0  2018-07-25      0.00     1000\n",
       "1  1000_1  2018-08-17      0.00     1000\n",
       "2  1000_2  2018-06-11      2.85     1000\n",
       "3  1000_3  2018-09-21     13.80     1000\n",
       "4  1000_4  2018-12-15      5.18     1000"
      ]
     },
     "execution_count": 3,
     "metadata": {},
     "output_type": "execute_result"
    }
   ],
   "source": [
    "calls.head()\n"
   ]
  },
  {
   "cell_type": "code",
   "execution_count": 4,
   "metadata": {},
   "outputs": [
    {
     "name": "stdout",
     "output_type": "stream",
     "text": [
      "<class 'pandas.core.frame.DataFrame'>\n",
      "RangeIndex: 202607 entries, 0 to 202606\n",
      "Data columns (total 4 columns):\n",
      " #   Column     Non-Null Count   Dtype  \n",
      "---  ------     --------------   -----  \n",
      " 0   id         202607 non-null  object \n",
      " 1   call_date  202607 non-null  object \n",
      " 2   duration   202607 non-null  float64\n",
      " 3   user_id    202607 non-null  int64  \n",
      "dtypes: float64(1), int64(1), object(2)\n",
      "memory usage: 6.2+ MB\n"
     ]
    }
   ],
   "source": [
    "calls.info()\n"
   ]
  },
  {
   "cell_type": "code",
   "execution_count": 5,
   "metadata": {},
   "outputs": [
    {
     "data": {
      "text/html": [
       "<div>\n",
       "<style scoped>\n",
       "    .dataframe tbody tr th:only-of-type {\n",
       "        vertical-align: middle;\n",
       "    }\n",
       "\n",
       "    .dataframe tbody tr th {\n",
       "        vertical-align: top;\n",
       "    }\n",
       "\n",
       "    .dataframe thead th {\n",
       "        text-align: right;\n",
       "    }\n",
       "</style>\n",
       "<table border=\"1\" class=\"dataframe\">\n",
       "  <thead>\n",
       "    <tr style=\"text-align: right;\">\n",
       "      <th></th>\n",
       "      <th>duration</th>\n",
       "      <th>user_id</th>\n",
       "    </tr>\n",
       "  </thead>\n",
       "  <tbody>\n",
       "    <tr>\n",
       "      <th>count</th>\n",
       "      <td>202607.000000</td>\n",
       "      <td>202607.000000</td>\n",
       "    </tr>\n",
       "    <tr>\n",
       "      <th>mean</th>\n",
       "      <td>6.755887</td>\n",
       "      <td>1253.940619</td>\n",
       "    </tr>\n",
       "    <tr>\n",
       "      <th>std</th>\n",
       "      <td>5.843365</td>\n",
       "      <td>144.722751</td>\n",
       "    </tr>\n",
       "    <tr>\n",
       "      <th>min</th>\n",
       "      <td>0.000000</td>\n",
       "      <td>1000.000000</td>\n",
       "    </tr>\n",
       "    <tr>\n",
       "      <th>25%</th>\n",
       "      <td>1.300000</td>\n",
       "      <td>1126.000000</td>\n",
       "    </tr>\n",
       "    <tr>\n",
       "      <th>50%</th>\n",
       "      <td>6.000000</td>\n",
       "      <td>1260.000000</td>\n",
       "    </tr>\n",
       "    <tr>\n",
       "      <th>75%</th>\n",
       "      <td>10.700000</td>\n",
       "      <td>1379.000000</td>\n",
       "    </tr>\n",
       "    <tr>\n",
       "      <th>max</th>\n",
       "      <td>38.000000</td>\n",
       "      <td>1499.000000</td>\n",
       "    </tr>\n",
       "  </tbody>\n",
       "</table>\n",
       "</div>"
      ],
      "text/plain": [
       "            duration        user_id\n",
       "count  202607.000000  202607.000000\n",
       "mean        6.755887    1253.940619\n",
       "std         5.843365     144.722751\n",
       "min         0.000000    1000.000000\n",
       "25%         1.300000    1126.000000\n",
       "50%         6.000000    1260.000000\n",
       "75%        10.700000    1379.000000\n",
       "max        38.000000    1499.000000"
      ]
     },
     "execution_count": 5,
     "metadata": {},
     "output_type": "execute_result"
    }
   ],
   "source": [
    "calls.describe()\n"
   ]
  },
  {
   "cell_type": "markdown",
   "metadata": {},
   "source": [
    "Видим, что пропуски отсутствуют,  \n",
    "необходимо столбец call_date перевести в формат даты для удобства анализа:\n"
   ]
  },
  {
   "cell_type": "code",
   "execution_count": 6,
   "metadata": {},
   "outputs": [
    {
     "data": {
      "text/plain": [
       "dtype('<M8[ns]')"
      ]
     },
     "execution_count": 6,
     "metadata": {},
     "output_type": "execute_result"
    }
   ],
   "source": [
    "calls['call_date'] = pd.to_datetime(calls['call_date'], format='%Y-%m-%d')\n",
    "calls['call_date'].dtype"
   ]
  },
  {
   "cell_type": "markdown",
   "metadata": {},
   "source": [
    "Проверим строки на явные дубликаты:\n"
   ]
  },
  {
   "cell_type": "code",
   "execution_count": 7,
   "metadata": {},
   "outputs": [
    {
     "data": {
      "text/plain": [
       "0"
      ]
     },
     "execution_count": 7,
     "metadata": {},
     "output_type": "execute_result"
    }
   ],
   "source": [
    "calls.duplicated().sum()\n"
   ]
  },
  {
   "cell_type": "markdown",
   "metadata": {},
   "source": [
    "Явных дубликатов нет\n"
   ]
  },
  {
   "cell_type": "markdown",
   "metadata": {},
   "source": [
    "Рассмотрим отдельно каждый солбец:\n",
    "id\n"
   ]
  },
  {
   "cell_type": "code",
   "execution_count": 8,
   "metadata": {},
   "outputs": [
    {
     "data": {
      "text/plain": [
       "202607"
      ]
     },
     "execution_count": 8,
     "metadata": {},
     "output_type": "execute_result"
    }
   ],
   "source": [
    "len(calls['id'].unique())\n"
   ]
  },
  {
   "cell_type": "markdown",
   "metadata": {},
   "source": [
    "Количество уникальных значений id соответствует числу строк - это хорошо, все id уникальны, нет дубликатов\n",
    "\n",
    "Столбец call_date\n"
   ]
  },
  {
   "cell_type": "code",
   "execution_count": 9,
   "metadata": {},
   "outputs": [
    {
     "data": {
      "text/plain": [
       "2018-12-31    1435\n",
       "2018-12-29    1202\n",
       "2018-12-30    1192\n",
       "2018-12-22    1158\n",
       "2018-12-26    1149\n",
       "              ... \n",
       "2018-01-05      20\n",
       "2018-01-07      18\n",
       "2018-01-02       9\n",
       "2018-01-03       7\n",
       "2018-01-01       5\n",
       "Name: call_date, Length: 365, dtype: int64"
      ]
     },
     "execution_count": 9,
     "metadata": {},
     "output_type": "execute_result"
    }
   ],
   "source": [
    "calls['call_date'].value_counts()\n"
   ]
  },
  {
   "cell_type": "code",
   "execution_count": 10,
   "metadata": {},
   "outputs": [
    {
     "name": "stderr",
     "output_type": "stream",
     "text": [
      "/tmp/ipykernel_36/2306562237.py:1: FutureWarning: Treating datetime data as categorical rather than numeric in `.describe` is deprecated and will be removed in a future version of pandas. Specify `datetime_is_numeric=True` to silence this warning and adopt the future behavior now.\n",
      "  calls['call_date'].describe()\n"
     ]
    },
    {
     "data": {
      "text/plain": [
       "count                  202607\n",
       "unique                    365\n",
       "top       2018-12-31 00:00:00\n",
       "freq                     1435\n",
       "first     2018-01-01 00:00:00\n",
       "last      2018-12-31 00:00:00\n",
       "Name: call_date, dtype: object"
      ]
     },
     "execution_count": 10,
     "metadata": {},
     "output_type": "execute_result"
    }
   ],
   "source": [
    "calls['call_date'].describe()\n"
   ]
  },
  {
   "cell_type": "markdown",
   "metadata": {},
   "source": [
    "<div class=\"alert alert-success\" style=\"border-radius: 15px; box-shadow: 4px 4px 4px; border: 1px solid\">\n",
    "<h2> Комментарий ревьюера 3 ✔️</h2>\n",
    "    \n",
    "Кстати, предупреждения можно отключать:\n",
    "</div>\n",
    "\n",
    "```python\n",
    "\n",
    "import warnings\n",
    "\n",
    "warnings.filterwarnings('ignore')\n",
    "```"
   ]
  },
  {
   "cell_type": "markdown",
   "metadata": {},
   "source": [
    "Данные соответсвуют заявленным - за 18 год\n"
   ]
  },
  {
   "cell_type": "markdown",
   "metadata": {},
   "source": [
    "Столбец duration:\n",
    "Оператор округляет данные до минуты, изменим тип на int\n"
   ]
  },
  {
   "cell_type": "markdown",
   "metadata": {},
   "source": [
    "<div class=\"alert alert-danger\" style=\"border-radius: 15px; box-shadow: 4px 4px 4px; border: 1px solid \">\n",
    "<b> Комментарий ревьюера  ❌</b>\n",
    "    \n",
    "Нам надо округлить каждый звонок вверх до минуты. int округляет просто к ближайшему целому. </div>"
   ]
  },
  {
   "cell_type": "markdown",
   "metadata": {},
   "source": [
    "<span style='color:Blue'> Округлим значения продолжительности времени звонка вверх до минут  </span>"
   ]
  },
  {
   "cell_type": "code",
   "execution_count": 11,
   "metadata": {},
   "outputs": [
    {
     "data": {
      "text/plain": [
       "0      0.0\n",
       "1      0.0\n",
       "2      3.0\n",
       "3     14.0\n",
       "4      6.0\n",
       "5      0.0\n",
       "6      0.0\n",
       "7     19.0\n",
       "8     19.0\n",
       "9      0.0\n",
       "10     6.0\n",
       "11    19.0\n",
       "12     3.0\n",
       "13     8.0\n",
       "14    10.0\n",
       "15    10.0\n",
       "16     5.0\n",
       "17    13.0\n",
       "18     5.0\n",
       "19    16.0\n",
       "Name: duration, dtype: float64"
      ]
     },
     "execution_count": 11,
     "metadata": {},
     "output_type": "execute_result"
    }
   ],
   "source": [
    "calls['duration'] = np.ceil(calls['duration'])\n",
    "\n",
    "calls['duration'].head(20)"
   ]
  },
  {
   "cell_type": "markdown",
   "metadata": {},
   "source": [
    "<div class=\"alert alert-success\" style=\"border-radius: 15px; box-shadow: 4px 4px 4px; border: 1px solid \">\n",
    "<b> Комментарий ревьюера 2 ✔️</b>\n",
    "    \n",
    "Верно. </div>"
   ]
  },
  {
   "cell_type": "code",
   "execution_count": 12,
   "metadata": {},
   "outputs": [
    {
     "data": {
      "text/plain": [
       "count    202607.000000\n",
       "mean          7.158198\n",
       "std           5.959173\n",
       "min           0.000000\n",
       "25%           2.000000\n",
       "50%           6.000000\n",
       "75%          11.000000\n",
       "max          38.000000\n",
       "Name: duration, dtype: float64"
      ]
     },
     "execution_count": 12,
     "metadata": {},
     "output_type": "execute_result"
    }
   ],
   "source": [
    "calls['duration'].describe()\n"
   ]
  },
  {
   "cell_type": "markdown",
   "metadata": {},
   "source": [
    "Антомалий нет\n",
    "\n",
    "Стоблец user_id переведем к типу int\n"
   ]
  },
  {
   "cell_type": "code",
   "execution_count": 13,
   "metadata": {},
   "outputs": [
    {
     "data": {
      "text/plain": [
       "dtype('int64')"
      ]
     },
     "execution_count": 13,
     "metadata": {},
     "output_type": "execute_result"
    }
   ],
   "source": [
    "calls['user_id'] = calls['user_id'].astype('int')\n",
    "calls['user_id'].dtype\n"
   ]
  },
  {
   "cell_type": "markdown",
   "metadata": {},
   "source": [
    "### Рассмотрим датасет **internet**\n"
   ]
  },
  {
   "cell_type": "code",
   "execution_count": 14,
   "metadata": {},
   "outputs": [
    {
     "data": {
      "text/html": [
       "<div>\n",
       "<style scoped>\n",
       "    .dataframe tbody tr th:only-of-type {\n",
       "        vertical-align: middle;\n",
       "    }\n",
       "\n",
       "    .dataframe tbody tr th {\n",
       "        vertical-align: top;\n",
       "    }\n",
       "\n",
       "    .dataframe thead th {\n",
       "        text-align: right;\n",
       "    }\n",
       "</style>\n",
       "<table border=\"1\" class=\"dataframe\">\n",
       "  <thead>\n",
       "    <tr style=\"text-align: right;\">\n",
       "      <th></th>\n",
       "      <th>Unnamed: 0</th>\n",
       "      <th>id</th>\n",
       "      <th>mb_used</th>\n",
       "      <th>session_date</th>\n",
       "      <th>user_id</th>\n",
       "    </tr>\n",
       "  </thead>\n",
       "  <tbody>\n",
       "    <tr>\n",
       "      <th>0</th>\n",
       "      <td>0</td>\n",
       "      <td>1000_0</td>\n",
       "      <td>112.95</td>\n",
       "      <td>2018-11-25</td>\n",
       "      <td>1000</td>\n",
       "    </tr>\n",
       "    <tr>\n",
       "      <th>1</th>\n",
       "      <td>1</td>\n",
       "      <td>1000_1</td>\n",
       "      <td>1052.81</td>\n",
       "      <td>2018-09-07</td>\n",
       "      <td>1000</td>\n",
       "    </tr>\n",
       "    <tr>\n",
       "      <th>2</th>\n",
       "      <td>2</td>\n",
       "      <td>1000_2</td>\n",
       "      <td>1197.26</td>\n",
       "      <td>2018-06-25</td>\n",
       "      <td>1000</td>\n",
       "    </tr>\n",
       "    <tr>\n",
       "      <th>3</th>\n",
       "      <td>3</td>\n",
       "      <td>1000_3</td>\n",
       "      <td>550.27</td>\n",
       "      <td>2018-08-22</td>\n",
       "      <td>1000</td>\n",
       "    </tr>\n",
       "    <tr>\n",
       "      <th>4</th>\n",
       "      <td>4</td>\n",
       "      <td>1000_4</td>\n",
       "      <td>302.56</td>\n",
       "      <td>2018-09-24</td>\n",
       "      <td>1000</td>\n",
       "    </tr>\n",
       "  </tbody>\n",
       "</table>\n",
       "</div>"
      ],
      "text/plain": [
       "   Unnamed: 0      id  mb_used session_date  user_id\n",
       "0           0  1000_0   112.95   2018-11-25     1000\n",
       "1           1  1000_1  1052.81   2018-09-07     1000\n",
       "2           2  1000_2  1197.26   2018-06-25     1000\n",
       "3           3  1000_3   550.27   2018-08-22     1000\n",
       "4           4  1000_4   302.56   2018-09-24     1000"
      ]
     },
     "execution_count": 14,
     "metadata": {},
     "output_type": "execute_result"
    }
   ],
   "source": [
    "internet.head()"
   ]
  },
  {
   "cell_type": "code",
   "execution_count": 15,
   "metadata": {},
   "outputs": [
    {
     "name": "stdout",
     "output_type": "stream",
     "text": [
      "<class 'pandas.core.frame.DataFrame'>\n",
      "RangeIndex: 149396 entries, 0 to 149395\n",
      "Data columns (total 5 columns):\n",
      " #   Column        Non-Null Count   Dtype  \n",
      "---  ------        --------------   -----  \n",
      " 0   Unnamed: 0    149396 non-null  int64  \n",
      " 1   id            149396 non-null  object \n",
      " 2   mb_used       149396 non-null  float64\n",
      " 3   session_date  149396 non-null  object \n",
      " 4   user_id       149396 non-null  int64  \n",
      "dtypes: float64(1), int64(2), object(2)\n",
      "memory usage: 5.7+ MB\n"
     ]
    }
   ],
   "source": [
    "internet.info()"
   ]
  },
  {
   "cell_type": "code",
   "execution_count": 16,
   "metadata": {},
   "outputs": [
    {
     "data": {
      "text/html": [
       "<div>\n",
       "<style scoped>\n",
       "    .dataframe tbody tr th:only-of-type {\n",
       "        vertical-align: middle;\n",
       "    }\n",
       "\n",
       "    .dataframe tbody tr th {\n",
       "        vertical-align: top;\n",
       "    }\n",
       "\n",
       "    .dataframe thead th {\n",
       "        text-align: right;\n",
       "    }\n",
       "</style>\n",
       "<table border=\"1\" class=\"dataframe\">\n",
       "  <thead>\n",
       "    <tr style=\"text-align: right;\">\n",
       "      <th></th>\n",
       "      <th>Unnamed: 0</th>\n",
       "      <th>mb_used</th>\n",
       "      <th>user_id</th>\n",
       "    </tr>\n",
       "  </thead>\n",
       "  <tbody>\n",
       "    <tr>\n",
       "      <th>count</th>\n",
       "      <td>149396.000000</td>\n",
       "      <td>149396.000000</td>\n",
       "      <td>149396.000000</td>\n",
       "    </tr>\n",
       "    <tr>\n",
       "      <th>mean</th>\n",
       "      <td>74697.500000</td>\n",
       "      <td>370.192426</td>\n",
       "      <td>1252.099842</td>\n",
       "    </tr>\n",
       "    <tr>\n",
       "      <th>std</th>\n",
       "      <td>43127.054745</td>\n",
       "      <td>278.300951</td>\n",
       "      <td>144.050823</td>\n",
       "    </tr>\n",
       "    <tr>\n",
       "      <th>min</th>\n",
       "      <td>0.000000</td>\n",
       "      <td>0.000000</td>\n",
       "      <td>1000.000000</td>\n",
       "    </tr>\n",
       "    <tr>\n",
       "      <th>25%</th>\n",
       "      <td>37348.750000</td>\n",
       "      <td>138.187500</td>\n",
       "      <td>1130.000000</td>\n",
       "    </tr>\n",
       "    <tr>\n",
       "      <th>50%</th>\n",
       "      <td>74697.500000</td>\n",
       "      <td>348.015000</td>\n",
       "      <td>1251.000000</td>\n",
       "    </tr>\n",
       "    <tr>\n",
       "      <th>75%</th>\n",
       "      <td>112046.250000</td>\n",
       "      <td>559.552500</td>\n",
       "      <td>1380.000000</td>\n",
       "    </tr>\n",
       "    <tr>\n",
       "      <th>max</th>\n",
       "      <td>149395.000000</td>\n",
       "      <td>1724.830000</td>\n",
       "      <td>1499.000000</td>\n",
       "    </tr>\n",
       "  </tbody>\n",
       "</table>\n",
       "</div>"
      ],
      "text/plain": [
       "          Unnamed: 0        mb_used        user_id\n",
       "count  149396.000000  149396.000000  149396.000000\n",
       "mean    74697.500000     370.192426    1252.099842\n",
       "std     43127.054745     278.300951     144.050823\n",
       "min         0.000000       0.000000    1000.000000\n",
       "25%     37348.750000     138.187500    1130.000000\n",
       "50%     74697.500000     348.015000    1251.000000\n",
       "75%    112046.250000     559.552500    1380.000000\n",
       "max    149395.000000    1724.830000    1499.000000"
      ]
     },
     "execution_count": 16,
     "metadata": {},
     "output_type": "execute_result"
    }
   ],
   "source": [
    "internet.describe()"
   ]
  },
  {
   "cell_type": "markdown",
   "metadata": {},
   "source": [
    "Можно сделать следующие выводы:\n",
    "- явных пропусков нет\n",
    "- присутствует столбец unnamed видимо повторяющий индексы\n",
    "- столбец id нужно перевести в целочисленный тип\n",
    "- столблец mb_used следует перевести в гб и округлить до целых значений (и перевести в целочисленный тип)\n",
    "- столбец session_date необходимо перевести в тип date_time\n"
   ]
  },
  {
   "cell_type": "markdown",
   "metadata": {},
   "source": [
    "<div class=\"alert alert-success\" style=\"border-radius: 15px; box-shadow: 4px 4px 4px; border: 1px solid \">\n",
    "<b> Комментарий ревьюера  ✔️</b>\n",
    "    \n",
    "Столбец `Unnamed: 0` дублирует индекс. Дело в том, что таблица уже содержала в себе столбец с индексами, а пандас при чтении добавил еще один. В результате имеем два. Этого можно избежать, если при чтении указать аргумент **index_col=0**.\n",
    "\n",
    "</div>"
   ]
  },
  {
   "cell_type": "code",
   "execution_count": 17,
   "metadata": {},
   "outputs": [],
   "source": [
    "internet.drop(['Unnamed: 0'], axis=1, inplace=True)"
   ]
  },
  {
   "cell_type": "code",
   "execution_count": 18,
   "metadata": {},
   "outputs": [
    {
     "data": {
      "text/plain": [
       "Index(['id', 'mb_used', 'session_date', 'user_id'], dtype='object')"
      ]
     },
     "execution_count": 18,
     "metadata": {},
     "output_type": "execute_result"
    }
   ],
   "source": [
    "internet.columns"
   ]
  },
  {
   "cell_type": "code",
   "execution_count": 19,
   "metadata": {},
   "outputs": [
    {
     "data": {
      "text/plain": [
       "dtype('int64')"
      ]
     },
     "execution_count": 19,
     "metadata": {},
     "output_type": "execute_result"
    }
   ],
   "source": [
    "internet['id'] = internet['id'].astype('int')\n",
    "internet['id'].dtype"
   ]
  },
  {
   "cell_type": "markdown",
   "metadata": {},
   "source": [
    "<div class=\"alert alert-danger\" style=\"border-radius: 15px; box-shadow: 4px 4px 4px; border: 1px solid \">\n",
    "<b> Комментарий ревьюера  ❌</b>\n",
    "    \n",
    "То же самое. Так мы теряем информацию. </div>"
   ]
  },
  {
   "cell_type": "markdown",
   "metadata": {},
   "source": [
    "<span style='color:Blue'> Почему теряем? Почему нельзя id просто из string перевести в int?  </span>"
   ]
  },
  {
   "cell_type": "markdown",
   "metadata": {},
   "source": [
    "<div class=\"alert alert-success\" style=\"border-radius: 15px; box-shadow: 4px 4px 4px; border: 1px solid \">\n",
    "<b> Комментарий ревьюера 2 ✔️</b>\n",
    "    \n",
    "Нет-нет, это я не права. Показалось, что про мегабайты речь. Прошу прощения :) </div>"
   ]
  },
  {
   "cell_type": "code",
   "execution_count": 20,
   "metadata": {},
   "outputs": [
    {
     "data": {
      "text/html": [
       "<div>\n",
       "<style scoped>\n",
       "    .dataframe tbody tr th:only-of-type {\n",
       "        vertical-align: middle;\n",
       "    }\n",
       "\n",
       "    .dataframe tbody tr th {\n",
       "        vertical-align: top;\n",
       "    }\n",
       "\n",
       "    .dataframe thead th {\n",
       "        text-align: right;\n",
       "    }\n",
       "</style>\n",
       "<table border=\"1\" class=\"dataframe\">\n",
       "  <thead>\n",
       "    <tr style=\"text-align: right;\">\n",
       "      <th></th>\n",
       "      <th>id</th>\n",
       "      <th>mb_used</th>\n",
       "      <th>session_date</th>\n",
       "      <th>user_id</th>\n",
       "    </tr>\n",
       "  </thead>\n",
       "  <tbody>\n",
       "    <tr>\n",
       "      <th>149391</th>\n",
       "      <td>1499152</td>\n",
       "      <td>318.90</td>\n",
       "      <td>2018-10-03</td>\n",
       "      <td>1499</td>\n",
       "    </tr>\n",
       "    <tr>\n",
       "      <th>149392</th>\n",
       "      <td>1499153</td>\n",
       "      <td>490.13</td>\n",
       "      <td>2018-12-14</td>\n",
       "      <td>1499</td>\n",
       "    </tr>\n",
       "    <tr>\n",
       "      <th>149393</th>\n",
       "      <td>1499154</td>\n",
       "      <td>0.00</td>\n",
       "      <td>2018-10-27</td>\n",
       "      <td>1499</td>\n",
       "    </tr>\n",
       "    <tr>\n",
       "      <th>149394</th>\n",
       "      <td>1499155</td>\n",
       "      <td>1246.32</td>\n",
       "      <td>2018-11-26</td>\n",
       "      <td>1499</td>\n",
       "    </tr>\n",
       "    <tr>\n",
       "      <th>149395</th>\n",
       "      <td>1499156</td>\n",
       "      <td>544.37</td>\n",
       "      <td>2018-10-26</td>\n",
       "      <td>1499</td>\n",
       "    </tr>\n",
       "  </tbody>\n",
       "</table>\n",
       "</div>"
      ],
      "text/plain": [
       "             id  mb_used session_date  user_id\n",
       "149391  1499152   318.90   2018-10-03     1499\n",
       "149392  1499153   490.13   2018-12-14     1499\n",
       "149393  1499154     0.00   2018-10-27     1499\n",
       "149394  1499155  1246.32   2018-11-26     1499\n",
       "149395  1499156   544.37   2018-10-26     1499"
      ]
     },
     "execution_count": 20,
     "metadata": {},
     "output_type": "execute_result"
    }
   ],
   "source": [
    "internet.tail()"
   ]
  },
  {
   "cell_type": "code",
   "execution_count": 21,
   "metadata": {},
   "outputs": [
    {
     "data": {
      "text/plain": [
       "0   2018-11-25\n",
       "1   2018-09-07\n",
       "2   2018-06-25\n",
       "3   2018-08-22\n",
       "4   2018-09-24\n",
       "Name: session_date, dtype: datetime64[ns]"
      ]
     },
     "execution_count": 21,
     "metadata": {},
     "output_type": "execute_result"
    }
   ],
   "source": [
    "internet['session_date'] = pd.to_datetime(internet['session_date'], format='%Y-%m-%d')\n",
    "internet['session_date'].head()"
   ]
  },
  {
   "cell_type": "markdown",
   "metadata": {},
   "source": [
    "### Рассмотрим датасет **messages**"
   ]
  },
  {
   "cell_type": "code",
   "execution_count": 22,
   "metadata": {},
   "outputs": [],
   "source": [
    "def first_glance(data):\n",
    "    display(data.info())\n",
    "    display('Head',data.head())\n",
    "    display('Describe',data.describe())"
   ]
  },
  {
   "cell_type": "code",
   "execution_count": 23,
   "metadata": {},
   "outputs": [
    {
     "name": "stdout",
     "output_type": "stream",
     "text": [
      "<class 'pandas.core.frame.DataFrame'>\n",
      "RangeIndex: 123036 entries, 0 to 123035\n",
      "Data columns (total 3 columns):\n",
      " #   Column        Non-Null Count   Dtype \n",
      "---  ------        --------------   ----- \n",
      " 0   id            123036 non-null  object\n",
      " 1   message_date  123036 non-null  object\n",
      " 2   user_id       123036 non-null  int64 \n",
      "dtypes: int64(1), object(2)\n",
      "memory usage: 2.8+ MB\n"
     ]
    },
    {
     "data": {
      "text/plain": [
       "None"
      ]
     },
     "metadata": {},
     "output_type": "display_data"
    },
    {
     "data": {
      "text/plain": [
       "'Head'"
      ]
     },
     "metadata": {},
     "output_type": "display_data"
    },
    {
     "data": {
      "text/html": [
       "<div>\n",
       "<style scoped>\n",
       "    .dataframe tbody tr th:only-of-type {\n",
       "        vertical-align: middle;\n",
       "    }\n",
       "\n",
       "    .dataframe tbody tr th {\n",
       "        vertical-align: top;\n",
       "    }\n",
       "\n",
       "    .dataframe thead th {\n",
       "        text-align: right;\n",
       "    }\n",
       "</style>\n",
       "<table border=\"1\" class=\"dataframe\">\n",
       "  <thead>\n",
       "    <tr style=\"text-align: right;\">\n",
       "      <th></th>\n",
       "      <th>id</th>\n",
       "      <th>message_date</th>\n",
       "      <th>user_id</th>\n",
       "    </tr>\n",
       "  </thead>\n",
       "  <tbody>\n",
       "    <tr>\n",
       "      <th>0</th>\n",
       "      <td>1000_0</td>\n",
       "      <td>2018-06-27</td>\n",
       "      <td>1000</td>\n",
       "    </tr>\n",
       "    <tr>\n",
       "      <th>1</th>\n",
       "      <td>1000_1</td>\n",
       "      <td>2018-10-08</td>\n",
       "      <td>1000</td>\n",
       "    </tr>\n",
       "    <tr>\n",
       "      <th>2</th>\n",
       "      <td>1000_2</td>\n",
       "      <td>2018-08-04</td>\n",
       "      <td>1000</td>\n",
       "    </tr>\n",
       "    <tr>\n",
       "      <th>3</th>\n",
       "      <td>1000_3</td>\n",
       "      <td>2018-06-16</td>\n",
       "      <td>1000</td>\n",
       "    </tr>\n",
       "    <tr>\n",
       "      <th>4</th>\n",
       "      <td>1000_4</td>\n",
       "      <td>2018-12-05</td>\n",
       "      <td>1000</td>\n",
       "    </tr>\n",
       "  </tbody>\n",
       "</table>\n",
       "</div>"
      ],
      "text/plain": [
       "       id message_date  user_id\n",
       "0  1000_0   2018-06-27     1000\n",
       "1  1000_1   2018-10-08     1000\n",
       "2  1000_2   2018-08-04     1000\n",
       "3  1000_3   2018-06-16     1000\n",
       "4  1000_4   2018-12-05     1000"
      ]
     },
     "metadata": {},
     "output_type": "display_data"
    },
    {
     "data": {
      "text/plain": [
       "'Describe'"
      ]
     },
     "metadata": {},
     "output_type": "display_data"
    },
    {
     "data": {
      "text/html": [
       "<div>\n",
       "<style scoped>\n",
       "    .dataframe tbody tr th:only-of-type {\n",
       "        vertical-align: middle;\n",
       "    }\n",
       "\n",
       "    .dataframe tbody tr th {\n",
       "        vertical-align: top;\n",
       "    }\n",
       "\n",
       "    .dataframe thead th {\n",
       "        text-align: right;\n",
       "    }\n",
       "</style>\n",
       "<table border=\"1\" class=\"dataframe\">\n",
       "  <thead>\n",
       "    <tr style=\"text-align: right;\">\n",
       "      <th></th>\n",
       "      <th>user_id</th>\n",
       "    </tr>\n",
       "  </thead>\n",
       "  <tbody>\n",
       "    <tr>\n",
       "      <th>count</th>\n",
       "      <td>123036.000000</td>\n",
       "    </tr>\n",
       "    <tr>\n",
       "      <th>mean</th>\n",
       "      <td>1256.989410</td>\n",
       "    </tr>\n",
       "    <tr>\n",
       "      <th>std</th>\n",
       "      <td>143.523967</td>\n",
       "    </tr>\n",
       "    <tr>\n",
       "      <th>min</th>\n",
       "      <td>1000.000000</td>\n",
       "    </tr>\n",
       "    <tr>\n",
       "      <th>25%</th>\n",
       "      <td>1134.000000</td>\n",
       "    </tr>\n",
       "    <tr>\n",
       "      <th>50%</th>\n",
       "      <td>1271.000000</td>\n",
       "    </tr>\n",
       "    <tr>\n",
       "      <th>75%</th>\n",
       "      <td>1381.000000</td>\n",
       "    </tr>\n",
       "    <tr>\n",
       "      <th>max</th>\n",
       "      <td>1499.000000</td>\n",
       "    </tr>\n",
       "  </tbody>\n",
       "</table>\n",
       "</div>"
      ],
      "text/plain": [
       "             user_id\n",
       "count  123036.000000\n",
       "mean     1256.989410\n",
       "std       143.523967\n",
       "min      1000.000000\n",
       "25%      1134.000000\n",
       "50%      1271.000000\n",
       "75%      1381.000000\n",
       "max      1499.000000"
      ]
     },
     "metadata": {},
     "output_type": "display_data"
    }
   ],
   "source": [
    "first_glance(messages)"
   ]
  },
  {
   "cell_type": "markdown",
   "metadata": {},
   "source": [
    "Явные пропуски отсутсвуют  \n",
    "Изменим тип данных message_date на datetime, id на целочисленный"
   ]
  },
  {
   "cell_type": "code",
   "execution_count": 24,
   "metadata": {},
   "outputs": [
    {
     "data": {
      "text/plain": [
       "dtype('<M8[ns]')"
      ]
     },
     "execution_count": 24,
     "metadata": {},
     "output_type": "execute_result"
    }
   ],
   "source": [
    "messages['message_date'] = pd.to_datetime(messages['message_date'], format='%Y-%m-%d')\n",
    "messages['message_date'].dtype"
   ]
  },
  {
   "cell_type": "code",
   "execution_count": 25,
   "metadata": {},
   "outputs": [
    {
     "data": {
      "text/plain": [
       "dtype('int64')"
      ]
     },
     "execution_count": 25,
     "metadata": {},
     "output_type": "execute_result"
    }
   ],
   "source": [
    "messages['id'] = messages['id'].astype('int')\n",
    "messages['id'].dtype"
   ]
  },
  {
   "cell_type": "markdown",
   "metadata": {},
   "source": [
    "Проверим данные на явные дубликаты:"
   ]
  },
  {
   "cell_type": "code",
   "execution_count": 26,
   "metadata": {},
   "outputs": [
    {
     "data": {
      "text/plain": [
       "0"
      ]
     },
     "execution_count": 26,
     "metadata": {},
     "output_type": "execute_result"
    }
   ],
   "source": [
    "messages.duplicated().sum()"
   ]
  },
  {
   "cell_type": "markdown",
   "metadata": {},
   "source": [
    "Проверим уникальность столбца id"
   ]
  },
  {
   "cell_type": "code",
   "execution_count": 27,
   "metadata": {},
   "outputs": [
    {
     "data": {
      "text/plain": [
       "123036"
      ]
     },
     "execution_count": 27,
     "metadata": {},
     "output_type": "execute_result"
    }
   ],
   "source": [
    "len(messages['id'].unique())"
   ]
  },
  {
   "cell_type": "markdown",
   "metadata": {},
   "source": [
    "Все значения уникальны"
   ]
  },
  {
   "cell_type": "markdown",
   "metadata": {},
   "source": [
    "### Рассмотрим датасет **tariffs**"
   ]
  },
  {
   "cell_type": "code",
   "execution_count": 28,
   "metadata": {},
   "outputs": [
    {
     "name": "stdout",
     "output_type": "stream",
     "text": [
      "<class 'pandas.core.frame.DataFrame'>\n",
      "RangeIndex: 2 entries, 0 to 1\n",
      "Data columns (total 8 columns):\n",
      " #   Column                 Non-Null Count  Dtype \n",
      "---  ------                 --------------  ----- \n",
      " 0   messages_included      2 non-null      int64 \n",
      " 1   mb_per_month_included  2 non-null      int64 \n",
      " 2   minutes_included       2 non-null      int64 \n",
      " 3   rub_monthly_fee        2 non-null      int64 \n",
      " 4   rub_per_gb             2 non-null      int64 \n",
      " 5   rub_per_message        2 non-null      int64 \n",
      " 6   rub_per_minute         2 non-null      int64 \n",
      " 7   tariff_name            2 non-null      object\n",
      "dtypes: int64(7), object(1)\n",
      "memory usage: 256.0+ bytes\n"
     ]
    },
    {
     "data": {
      "text/plain": [
       "None"
      ]
     },
     "metadata": {},
     "output_type": "display_data"
    },
    {
     "data": {
      "text/plain": [
       "'Head'"
      ]
     },
     "metadata": {},
     "output_type": "display_data"
    },
    {
     "data": {
      "text/html": [
       "<div>\n",
       "<style scoped>\n",
       "    .dataframe tbody tr th:only-of-type {\n",
       "        vertical-align: middle;\n",
       "    }\n",
       "\n",
       "    .dataframe tbody tr th {\n",
       "        vertical-align: top;\n",
       "    }\n",
       "\n",
       "    .dataframe thead th {\n",
       "        text-align: right;\n",
       "    }\n",
       "</style>\n",
       "<table border=\"1\" class=\"dataframe\">\n",
       "  <thead>\n",
       "    <tr style=\"text-align: right;\">\n",
       "      <th></th>\n",
       "      <th>messages_included</th>\n",
       "      <th>mb_per_month_included</th>\n",
       "      <th>minutes_included</th>\n",
       "      <th>rub_monthly_fee</th>\n",
       "      <th>rub_per_gb</th>\n",
       "      <th>rub_per_message</th>\n",
       "      <th>rub_per_minute</th>\n",
       "      <th>tariff_name</th>\n",
       "    </tr>\n",
       "  </thead>\n",
       "  <tbody>\n",
       "    <tr>\n",
       "      <th>0</th>\n",
       "      <td>50</td>\n",
       "      <td>15360</td>\n",
       "      <td>500</td>\n",
       "      <td>550</td>\n",
       "      <td>200</td>\n",
       "      <td>3</td>\n",
       "      <td>3</td>\n",
       "      <td>smart</td>\n",
       "    </tr>\n",
       "    <tr>\n",
       "      <th>1</th>\n",
       "      <td>1000</td>\n",
       "      <td>30720</td>\n",
       "      <td>3000</td>\n",
       "      <td>1950</td>\n",
       "      <td>150</td>\n",
       "      <td>1</td>\n",
       "      <td>1</td>\n",
       "      <td>ultra</td>\n",
       "    </tr>\n",
       "  </tbody>\n",
       "</table>\n",
       "</div>"
      ],
      "text/plain": [
       "   messages_included  mb_per_month_included  minutes_included  \\\n",
       "0                 50                  15360               500   \n",
       "1               1000                  30720              3000   \n",
       "\n",
       "   rub_monthly_fee  rub_per_gb  rub_per_message  rub_per_minute tariff_name  \n",
       "0              550         200                3               3       smart  \n",
       "1             1950         150                1               1       ultra  "
      ]
     },
     "metadata": {},
     "output_type": "display_data"
    },
    {
     "data": {
      "text/plain": [
       "'Describe'"
      ]
     },
     "metadata": {},
     "output_type": "display_data"
    },
    {
     "data": {
      "text/html": [
       "<div>\n",
       "<style scoped>\n",
       "    .dataframe tbody tr th:only-of-type {\n",
       "        vertical-align: middle;\n",
       "    }\n",
       "\n",
       "    .dataframe tbody tr th {\n",
       "        vertical-align: top;\n",
       "    }\n",
       "\n",
       "    .dataframe thead th {\n",
       "        text-align: right;\n",
       "    }\n",
       "</style>\n",
       "<table border=\"1\" class=\"dataframe\">\n",
       "  <thead>\n",
       "    <tr style=\"text-align: right;\">\n",
       "      <th></th>\n",
       "      <th>messages_included</th>\n",
       "      <th>mb_per_month_included</th>\n",
       "      <th>minutes_included</th>\n",
       "      <th>rub_monthly_fee</th>\n",
       "      <th>rub_per_gb</th>\n",
       "      <th>rub_per_message</th>\n",
       "      <th>rub_per_minute</th>\n",
       "    </tr>\n",
       "  </thead>\n",
       "  <tbody>\n",
       "    <tr>\n",
       "      <th>count</th>\n",
       "      <td>2.000000</td>\n",
       "      <td>2.000000</td>\n",
       "      <td>2.000000</td>\n",
       "      <td>2.000000</td>\n",
       "      <td>2.000000</td>\n",
       "      <td>2.000000</td>\n",
       "      <td>2.000000</td>\n",
       "    </tr>\n",
       "    <tr>\n",
       "      <th>mean</th>\n",
       "      <td>525.000000</td>\n",
       "      <td>23040.000000</td>\n",
       "      <td>1750.000000</td>\n",
       "      <td>1250.000000</td>\n",
       "      <td>175.000000</td>\n",
       "      <td>2.000000</td>\n",
       "      <td>2.000000</td>\n",
       "    </tr>\n",
       "    <tr>\n",
       "      <th>std</th>\n",
       "      <td>671.751442</td>\n",
       "      <td>10861.160159</td>\n",
       "      <td>1767.766953</td>\n",
       "      <td>989.949494</td>\n",
       "      <td>35.355339</td>\n",
       "      <td>1.414214</td>\n",
       "      <td>1.414214</td>\n",
       "    </tr>\n",
       "    <tr>\n",
       "      <th>min</th>\n",
       "      <td>50.000000</td>\n",
       "      <td>15360.000000</td>\n",
       "      <td>500.000000</td>\n",
       "      <td>550.000000</td>\n",
       "      <td>150.000000</td>\n",
       "      <td>1.000000</td>\n",
       "      <td>1.000000</td>\n",
       "    </tr>\n",
       "    <tr>\n",
       "      <th>25%</th>\n",
       "      <td>287.500000</td>\n",
       "      <td>19200.000000</td>\n",
       "      <td>1125.000000</td>\n",
       "      <td>900.000000</td>\n",
       "      <td>162.500000</td>\n",
       "      <td>1.500000</td>\n",
       "      <td>1.500000</td>\n",
       "    </tr>\n",
       "    <tr>\n",
       "      <th>50%</th>\n",
       "      <td>525.000000</td>\n",
       "      <td>23040.000000</td>\n",
       "      <td>1750.000000</td>\n",
       "      <td>1250.000000</td>\n",
       "      <td>175.000000</td>\n",
       "      <td>2.000000</td>\n",
       "      <td>2.000000</td>\n",
       "    </tr>\n",
       "    <tr>\n",
       "      <th>75%</th>\n",
       "      <td>762.500000</td>\n",
       "      <td>26880.000000</td>\n",
       "      <td>2375.000000</td>\n",
       "      <td>1600.000000</td>\n",
       "      <td>187.500000</td>\n",
       "      <td>2.500000</td>\n",
       "      <td>2.500000</td>\n",
       "    </tr>\n",
       "    <tr>\n",
       "      <th>max</th>\n",
       "      <td>1000.000000</td>\n",
       "      <td>30720.000000</td>\n",
       "      <td>3000.000000</td>\n",
       "      <td>1950.000000</td>\n",
       "      <td>200.000000</td>\n",
       "      <td>3.000000</td>\n",
       "      <td>3.000000</td>\n",
       "    </tr>\n",
       "  </tbody>\n",
       "</table>\n",
       "</div>"
      ],
      "text/plain": [
       "       messages_included  mb_per_month_included  minutes_included  \\\n",
       "count           2.000000               2.000000          2.000000   \n",
       "mean          525.000000           23040.000000       1750.000000   \n",
       "std           671.751442           10861.160159       1767.766953   \n",
       "min            50.000000           15360.000000        500.000000   \n",
       "25%           287.500000           19200.000000       1125.000000   \n",
       "50%           525.000000           23040.000000       1750.000000   \n",
       "75%           762.500000           26880.000000       2375.000000   \n",
       "max          1000.000000           30720.000000       3000.000000   \n",
       "\n",
       "       rub_monthly_fee  rub_per_gb  rub_per_message  rub_per_minute  \n",
       "count         2.000000    2.000000         2.000000        2.000000  \n",
       "mean       1250.000000  175.000000         2.000000        2.000000  \n",
       "std         989.949494   35.355339         1.414214        1.414214  \n",
       "min         550.000000  150.000000         1.000000        1.000000  \n",
       "25%         900.000000  162.500000         1.500000        1.500000  \n",
       "50%        1250.000000  175.000000         2.000000        2.000000  \n",
       "75%        1600.000000  187.500000         2.500000        2.500000  \n",
       "max        1950.000000  200.000000         3.000000        3.000000  "
      ]
     },
     "metadata": {},
     "output_type": "display_data"
    }
   ],
   "source": [
    "first_glance(tariffs)"
   ]
  },
  {
   "cell_type": "markdown",
   "metadata": {},
   "source": [
    "### Рассмотрим датасет **users**"
   ]
  },
  {
   "cell_type": "code",
   "execution_count": 29,
   "metadata": {},
   "outputs": [
    {
     "name": "stdout",
     "output_type": "stream",
     "text": [
      "<class 'pandas.core.frame.DataFrame'>\n",
      "RangeIndex: 500 entries, 0 to 499\n",
      "Data columns (total 8 columns):\n",
      " #   Column      Non-Null Count  Dtype \n",
      "---  ------      --------------  ----- \n",
      " 0   user_id     500 non-null    int64 \n",
      " 1   age         500 non-null    int64 \n",
      " 2   churn_date  38 non-null     object\n",
      " 3   city        500 non-null    object\n",
      " 4   first_name  500 non-null    object\n",
      " 5   last_name   500 non-null    object\n",
      " 6   reg_date    500 non-null    object\n",
      " 7   tariff      500 non-null    object\n",
      "dtypes: int64(2), object(6)\n",
      "memory usage: 31.4+ KB\n"
     ]
    },
    {
     "data": {
      "text/plain": [
       "None"
      ]
     },
     "metadata": {},
     "output_type": "display_data"
    },
    {
     "data": {
      "text/plain": [
       "'Head'"
      ]
     },
     "metadata": {},
     "output_type": "display_data"
    },
    {
     "data": {
      "text/html": [
       "<div>\n",
       "<style scoped>\n",
       "    .dataframe tbody tr th:only-of-type {\n",
       "        vertical-align: middle;\n",
       "    }\n",
       "\n",
       "    .dataframe tbody tr th {\n",
       "        vertical-align: top;\n",
       "    }\n",
       "\n",
       "    .dataframe thead th {\n",
       "        text-align: right;\n",
       "    }\n",
       "</style>\n",
       "<table border=\"1\" class=\"dataframe\">\n",
       "  <thead>\n",
       "    <tr style=\"text-align: right;\">\n",
       "      <th></th>\n",
       "      <th>user_id</th>\n",
       "      <th>age</th>\n",
       "      <th>churn_date</th>\n",
       "      <th>city</th>\n",
       "      <th>first_name</th>\n",
       "      <th>last_name</th>\n",
       "      <th>reg_date</th>\n",
       "      <th>tariff</th>\n",
       "    </tr>\n",
       "  </thead>\n",
       "  <tbody>\n",
       "    <tr>\n",
       "      <th>0</th>\n",
       "      <td>1000</td>\n",
       "      <td>52</td>\n",
       "      <td>NaN</td>\n",
       "      <td>Краснодар</td>\n",
       "      <td>Рафаил</td>\n",
       "      <td>Верещагин</td>\n",
       "      <td>2018-05-25</td>\n",
       "      <td>ultra</td>\n",
       "    </tr>\n",
       "    <tr>\n",
       "      <th>1</th>\n",
       "      <td>1001</td>\n",
       "      <td>41</td>\n",
       "      <td>NaN</td>\n",
       "      <td>Москва</td>\n",
       "      <td>Иван</td>\n",
       "      <td>Ежов</td>\n",
       "      <td>2018-11-01</td>\n",
       "      <td>smart</td>\n",
       "    </tr>\n",
       "    <tr>\n",
       "      <th>2</th>\n",
       "      <td>1002</td>\n",
       "      <td>59</td>\n",
       "      <td>NaN</td>\n",
       "      <td>Стерлитамак</td>\n",
       "      <td>Евгений</td>\n",
       "      <td>Абрамович</td>\n",
       "      <td>2018-06-17</td>\n",
       "      <td>smart</td>\n",
       "    </tr>\n",
       "    <tr>\n",
       "      <th>3</th>\n",
       "      <td>1003</td>\n",
       "      <td>23</td>\n",
       "      <td>NaN</td>\n",
       "      <td>Москва</td>\n",
       "      <td>Белла</td>\n",
       "      <td>Белякова</td>\n",
       "      <td>2018-08-17</td>\n",
       "      <td>ultra</td>\n",
       "    </tr>\n",
       "    <tr>\n",
       "      <th>4</th>\n",
       "      <td>1004</td>\n",
       "      <td>68</td>\n",
       "      <td>NaN</td>\n",
       "      <td>Новокузнецк</td>\n",
       "      <td>Татьяна</td>\n",
       "      <td>Авдеенко</td>\n",
       "      <td>2018-05-14</td>\n",
       "      <td>ultra</td>\n",
       "    </tr>\n",
       "  </tbody>\n",
       "</table>\n",
       "</div>"
      ],
      "text/plain": [
       "   user_id  age churn_date         city first_name  last_name    reg_date  \\\n",
       "0     1000   52        NaN    Краснодар     Рафаил  Верещагин  2018-05-25   \n",
       "1     1001   41        NaN       Москва       Иван       Ежов  2018-11-01   \n",
       "2     1002   59        NaN  Стерлитамак    Евгений  Абрамович  2018-06-17   \n",
       "3     1003   23        NaN       Москва      Белла   Белякова  2018-08-17   \n",
       "4     1004   68        NaN  Новокузнецк    Татьяна   Авдеенко  2018-05-14   \n",
       "\n",
       "  tariff  \n",
       "0  ultra  \n",
       "1  smart  \n",
       "2  smart  \n",
       "3  ultra  \n",
       "4  ultra  "
      ]
     },
     "metadata": {},
     "output_type": "display_data"
    },
    {
     "data": {
      "text/plain": [
       "'Describe'"
      ]
     },
     "metadata": {},
     "output_type": "display_data"
    },
    {
     "data": {
      "text/html": [
       "<div>\n",
       "<style scoped>\n",
       "    .dataframe tbody tr th:only-of-type {\n",
       "        vertical-align: middle;\n",
       "    }\n",
       "\n",
       "    .dataframe tbody tr th {\n",
       "        vertical-align: top;\n",
       "    }\n",
       "\n",
       "    .dataframe thead th {\n",
       "        text-align: right;\n",
       "    }\n",
       "</style>\n",
       "<table border=\"1\" class=\"dataframe\">\n",
       "  <thead>\n",
       "    <tr style=\"text-align: right;\">\n",
       "      <th></th>\n",
       "      <th>user_id</th>\n",
       "      <th>age</th>\n",
       "    </tr>\n",
       "  </thead>\n",
       "  <tbody>\n",
       "    <tr>\n",
       "      <th>count</th>\n",
       "      <td>500.000000</td>\n",
       "      <td>500.00000</td>\n",
       "    </tr>\n",
       "    <tr>\n",
       "      <th>mean</th>\n",
       "      <td>1249.500000</td>\n",
       "      <td>46.58800</td>\n",
       "    </tr>\n",
       "    <tr>\n",
       "      <th>std</th>\n",
       "      <td>144.481833</td>\n",
       "      <td>16.66763</td>\n",
       "    </tr>\n",
       "    <tr>\n",
       "      <th>min</th>\n",
       "      <td>1000.000000</td>\n",
       "      <td>18.00000</td>\n",
       "    </tr>\n",
       "    <tr>\n",
       "      <th>25%</th>\n",
       "      <td>1124.750000</td>\n",
       "      <td>32.00000</td>\n",
       "    </tr>\n",
       "    <tr>\n",
       "      <th>50%</th>\n",
       "      <td>1249.500000</td>\n",
       "      <td>46.00000</td>\n",
       "    </tr>\n",
       "    <tr>\n",
       "      <th>75%</th>\n",
       "      <td>1374.250000</td>\n",
       "      <td>62.00000</td>\n",
       "    </tr>\n",
       "    <tr>\n",
       "      <th>max</th>\n",
       "      <td>1499.000000</td>\n",
       "      <td>75.00000</td>\n",
       "    </tr>\n",
       "  </tbody>\n",
       "</table>\n",
       "</div>"
      ],
      "text/plain": [
       "           user_id        age\n",
       "count   500.000000  500.00000\n",
       "mean   1249.500000   46.58800\n",
       "std     144.481833   16.66763\n",
       "min    1000.000000   18.00000\n",
       "25%    1124.750000   32.00000\n",
       "50%    1249.500000   46.00000\n",
       "75%    1374.250000   62.00000\n",
       "max    1499.000000   75.00000"
      ]
     },
     "metadata": {},
     "output_type": "display_data"
    }
   ],
   "source": [
    "first_glance(users)"
   ]
  },
  {
   "cell_type": "markdown",
   "metadata": {},
   "source": [
    "Экспресс-выводы:\n",
    "- churn_date и reg_date нужно привести к типу datetime\n",
    "- необходимо проверить датасет на явные дубликаты\n",
    "- необходимо проверить каждый столбец на выбросы и корректность данных"
   ]
  },
  {
   "cell_type": "code",
   "execution_count": 30,
   "metadata": {},
   "outputs": [
    {
     "data": {
      "text/plain": [
       "dtype('<M8[ns]')"
      ]
     },
     "metadata": {},
     "output_type": "display_data"
    },
    {
     "data": {
      "text/plain": [
       "dtype('<M8[ns]')"
      ]
     },
     "metadata": {},
     "output_type": "display_data"
    }
   ],
   "source": [
    "users['churn_date'] = pd.to_datetime(users['churn_date'], errors='ignore', format = '%Y-%m-%d')\n",
    "users['reg_date'] = pd.to_datetime(users['reg_date'], format='%Y-%m-%d')\n",
    "display(users['churn_date'].dtype)\n",
    "display(users['reg_date'].dtype)"
   ]
  },
  {
   "cell_type": "code",
   "execution_count": 31,
   "metadata": {},
   "outputs": [
    {
     "data": {
      "text/plain": [
       "0"
      ]
     },
     "execution_count": 31,
     "metadata": {},
     "output_type": "execute_result"
    }
   ],
   "source": [
    "users.duplicated().sum()"
   ]
  },
  {
   "cell_type": "code",
   "execution_count": 32,
   "metadata": {},
   "outputs": [
    {
     "data": {
      "text/plain": [
       "500"
      ]
     },
     "execution_count": 32,
     "metadata": {},
     "output_type": "execute_result"
    }
   ],
   "source": [
    "len(users['user_id'].unique())"
   ]
  },
  {
   "cell_type": "code",
   "execution_count": 33,
   "metadata": {},
   "outputs": [
    {
     "data": {
      "text/plain": [
       "Москва             99\n",
       "Санкт-Петербург    39\n",
       "Новосибирск        16\n",
       "Казань             14\n",
       "Омск               14\n",
       "                   ..\n",
       "Подольск            1\n",
       "Иваново             1\n",
       "Химки               1\n",
       "Архангельск         1\n",
       "Нижневартовск       1\n",
       "Name: city, Length: 76, dtype: int64"
      ]
     },
     "execution_count": 33,
     "metadata": {},
     "output_type": "execute_result"
    }
   ],
   "source": [
    "users['city'].value_counts()"
   ]
  },
  {
   "cell_type": "code",
   "execution_count": 34,
   "metadata": {},
   "outputs": [
    {
     "data": {
      "text/plain": [
       "smart    351\n",
       "ultra    149\n",
       "Name: tariff, dtype: int64"
      ]
     },
     "execution_count": 34,
     "metadata": {},
     "output_type": "execute_result"
    }
   ],
   "source": [
    "users['tariff'].value_counts()"
   ]
  },
  {
   "cell_type": "code",
   "execution_count": 35,
   "metadata": {},
   "outputs": [
    {
     "data": {
      "text/plain": [
       "count    500.00000\n",
       "mean      46.58800\n",
       "std       16.66763\n",
       "min       18.00000\n",
       "25%       32.00000\n",
       "50%       46.00000\n",
       "75%       62.00000\n",
       "max       75.00000\n",
       "Name: age, dtype: float64"
      ]
     },
     "execution_count": 35,
     "metadata": {},
     "output_type": "execute_result"
    }
   ],
   "source": [
    "users['age'].describe()"
   ]
  },
  {
   "cell_type": "code",
   "execution_count": 36,
   "metadata": {},
   "outputs": [
    {
     "name": "stderr",
     "output_type": "stream",
     "text": [
      "/tmp/ipykernel_36/245489157.py:1: FutureWarning: Treating datetime data as categorical rather than numeric in `.describe` is deprecated and will be removed in a future version of pandas. Specify `datetime_is_numeric=True` to silence this warning and adopt the future behavior now.\n",
      "  users['reg_date'].describe()\n"
     ]
    },
    {
     "data": {
      "text/plain": [
       "count                     500\n",
       "unique                    270\n",
       "top       2018-05-28 00:00:00\n",
       "freq                        8\n",
       "first     2018-01-01 00:00:00\n",
       "last      2018-12-31 00:00:00\n",
       "Name: reg_date, dtype: object"
      ]
     },
     "execution_count": 36,
     "metadata": {},
     "output_type": "execute_result"
    }
   ],
   "source": [
    "users['reg_date'].describe()"
   ]
  },
  {
   "cell_type": "markdown",
   "metadata": {},
   "source": [
    "В целом, данные выглядят хорошо, можно преступать к следующему этапу"
   ]
  },
  {
   "cell_type": "markdown",
   "metadata": {},
   "source": [
    "## 2. \n",
    "Посчитайте для каждого пользователя:\n",
    "количество сделанных звонков и израсходованных минут разговора по месяцам;\n",
    "количество отправленных сообщений по месяцам;\n",
    "объем израсходованного интернет-трафика по месяцам;\n",
    "помесячную выручку с каждого пользователя (вычтите бесплатный лимит из суммарного количества звонков, сообщений и интернет-трафика; остаток умножьте на значение из тарифного плана; прибавьте абонентскую плату, соответствующую тарифному плану)."
   ]
  },
  {
   "cell_type": "markdown",
   "metadata": {},
   "source": [
    "### Определим количество сделанных звонков и израсходованных минут разговора по месяцам"
   ]
  },
  {
   "cell_type": "code",
   "execution_count": 37,
   "metadata": {},
   "outputs": [
    {
     "data": {
      "text/html": [
       "<div>\n",
       "<style scoped>\n",
       "    .dataframe tbody tr th:only-of-type {\n",
       "        vertical-align: middle;\n",
       "    }\n",
       "\n",
       "    .dataframe tbody tr th {\n",
       "        vertical-align: top;\n",
       "    }\n",
       "\n",
       "    .dataframe thead th {\n",
       "        text-align: right;\n",
       "    }\n",
       "</style>\n",
       "<table border=\"1\" class=\"dataframe\">\n",
       "  <thead>\n",
       "    <tr style=\"text-align: right;\">\n",
       "      <th></th>\n",
       "      <th>user_id</th>\n",
       "      <th>call_date</th>\n",
       "      <th>duration</th>\n",
       "    </tr>\n",
       "  </thead>\n",
       "  <tbody>\n",
       "    <tr>\n",
       "      <th>0</th>\n",
       "      <td>1000</td>\n",
       "      <td>2018-07-25</td>\n",
       "      <td>0.0</td>\n",
       "    </tr>\n",
       "    <tr>\n",
       "      <th>1</th>\n",
       "      <td>1000</td>\n",
       "      <td>2018-08-17</td>\n",
       "      <td>0.0</td>\n",
       "    </tr>\n",
       "    <tr>\n",
       "      <th>2</th>\n",
       "      <td>1000</td>\n",
       "      <td>2018-06-11</td>\n",
       "      <td>3.0</td>\n",
       "    </tr>\n",
       "    <tr>\n",
       "      <th>3</th>\n",
       "      <td>1000</td>\n",
       "      <td>2018-09-21</td>\n",
       "      <td>14.0</td>\n",
       "    </tr>\n",
       "    <tr>\n",
       "      <th>4</th>\n",
       "      <td>1000</td>\n",
       "      <td>2018-12-15</td>\n",
       "      <td>6.0</td>\n",
       "    </tr>\n",
       "  </tbody>\n",
       "</table>\n",
       "</div>"
      ],
      "text/plain": [
       "   user_id  call_date  duration\n",
       "0     1000 2018-07-25       0.0\n",
       "1     1000 2018-08-17       0.0\n",
       "2     1000 2018-06-11       3.0\n",
       "3     1000 2018-09-21      14.0\n",
       "4     1000 2018-12-15       6.0"
      ]
     },
     "execution_count": 37,
     "metadata": {},
     "output_type": "execute_result"
    }
   ],
   "source": [
    "\n",
    "calls_info = calls.loc[:, ['user_id','call_date','duration']]\n",
    "calls_info.head()"
   ]
  },
  {
   "cell_type": "code",
   "execution_count": 38,
   "metadata": {},
   "outputs": [
    {
     "data": {
      "text/html": [
       "<div>\n",
       "<style scoped>\n",
       "    .dataframe tbody tr th:only-of-type {\n",
       "        vertical-align: middle;\n",
       "    }\n",
       "\n",
       "    .dataframe tbody tr th {\n",
       "        vertical-align: top;\n",
       "    }\n",
       "\n",
       "    .dataframe thead th {\n",
       "        text-align: right;\n",
       "    }\n",
       "</style>\n",
       "<table border=\"1\" class=\"dataframe\">\n",
       "  <thead>\n",
       "    <tr style=\"text-align: right;\">\n",
       "      <th></th>\n",
       "      <th>user_id</th>\n",
       "      <th>call_date</th>\n",
       "      <th>duration</th>\n",
       "      <th>month</th>\n",
       "    </tr>\n",
       "  </thead>\n",
       "  <tbody>\n",
       "    <tr>\n",
       "      <th>0</th>\n",
       "      <td>1000</td>\n",
       "      <td>2018-07-25</td>\n",
       "      <td>0.0</td>\n",
       "      <td>July</td>\n",
       "    </tr>\n",
       "    <tr>\n",
       "      <th>1</th>\n",
       "      <td>1000</td>\n",
       "      <td>2018-08-17</td>\n",
       "      <td>0.0</td>\n",
       "      <td>August</td>\n",
       "    </tr>\n",
       "    <tr>\n",
       "      <th>2</th>\n",
       "      <td>1000</td>\n",
       "      <td>2018-06-11</td>\n",
       "      <td>3.0</td>\n",
       "      <td>June</td>\n",
       "    </tr>\n",
       "    <tr>\n",
       "      <th>3</th>\n",
       "      <td>1000</td>\n",
       "      <td>2018-09-21</td>\n",
       "      <td>14.0</td>\n",
       "      <td>September</td>\n",
       "    </tr>\n",
       "    <tr>\n",
       "      <th>4</th>\n",
       "      <td>1000</td>\n",
       "      <td>2018-12-15</td>\n",
       "      <td>6.0</td>\n",
       "      <td>December</td>\n",
       "    </tr>\n",
       "  </tbody>\n",
       "</table>\n",
       "</div>"
      ],
      "text/plain": [
       "   user_id  call_date  duration      month\n",
       "0     1000 2018-07-25       0.0       July\n",
       "1     1000 2018-08-17       0.0     August\n",
       "2     1000 2018-06-11       3.0       June\n",
       "3     1000 2018-09-21      14.0  September\n",
       "4     1000 2018-12-15       6.0   December"
      ]
     },
     "execution_count": 38,
     "metadata": {},
     "output_type": "execute_result"
    }
   ],
   "source": [
    "calls_info['month'] = calls_info['call_date'].dt.month_name()\n",
    "calls_info.head()"
   ]
  },
  {
   "cell_type": "markdown",
   "metadata": {},
   "source": [
    "### Для каждого пользователя определим количество сделанных звонков и израсходованных минут по месяцам:"
   ]
  },
  {
   "cell_type": "code",
   "execution_count": 39,
   "metadata": {},
   "outputs": [
    {
     "data": {
      "text/html": [
       "<div>\n",
       "<style scoped>\n",
       "    .dataframe tbody tr th:only-of-type {\n",
       "        vertical-align: middle;\n",
       "    }\n",
       "\n",
       "    .dataframe tbody tr th {\n",
       "        vertical-align: top;\n",
       "    }\n",
       "\n",
       "    .dataframe thead th {\n",
       "        text-align: right;\n",
       "    }\n",
       "</style>\n",
       "<table border=\"1\" class=\"dataframe\">\n",
       "  <thead>\n",
       "    <tr style=\"text-align: right;\">\n",
       "      <th></th>\n",
       "      <th>user_id</th>\n",
       "      <th>month</th>\n",
       "      <th>calls_duration</th>\n",
       "      <th>number_of_calls</th>\n",
       "    </tr>\n",
       "  </thead>\n",
       "  <tbody>\n",
       "    <tr>\n",
       "      <th>0</th>\n",
       "      <td>1000</td>\n",
       "      <td>August</td>\n",
       "      <td>408.0</td>\n",
       "      <td>52</td>\n",
       "    </tr>\n",
       "    <tr>\n",
       "      <th>1</th>\n",
       "      <td>1000</td>\n",
       "      <td>December</td>\n",
       "      <td>333.0</td>\n",
       "      <td>46</td>\n",
       "    </tr>\n",
       "    <tr>\n",
       "      <th>2</th>\n",
       "      <td>1000</td>\n",
       "      <td>July</td>\n",
       "      <td>340.0</td>\n",
       "      <td>47</td>\n",
       "    </tr>\n",
       "    <tr>\n",
       "      <th>3</th>\n",
       "      <td>1000</td>\n",
       "      <td>June</td>\n",
       "      <td>172.0</td>\n",
       "      <td>43</td>\n",
       "    </tr>\n",
       "    <tr>\n",
       "      <th>4</th>\n",
       "      <td>1000</td>\n",
       "      <td>May</td>\n",
       "      <td>159.0</td>\n",
       "      <td>22</td>\n",
       "    </tr>\n",
       "    <tr>\n",
       "      <th>...</th>\n",
       "      <td>...</td>\n",
       "      <td>...</td>\n",
       "      <td>...</td>\n",
       "      <td>...</td>\n",
       "    </tr>\n",
       "    <tr>\n",
       "      <th>3169</th>\n",
       "      <td>1498</td>\n",
       "      <td>September</td>\n",
       "      <td>471.0</td>\n",
       "      <td>59</td>\n",
       "    </tr>\n",
       "    <tr>\n",
       "      <th>3170</th>\n",
       "      <td>1499</td>\n",
       "      <td>December</td>\n",
       "      <td>492.0</td>\n",
       "      <td>69</td>\n",
       "    </tr>\n",
       "    <tr>\n",
       "      <th>3171</th>\n",
       "      <td>1499</td>\n",
       "      <td>November</td>\n",
       "      <td>612.0</td>\n",
       "      <td>74</td>\n",
       "    </tr>\n",
       "    <tr>\n",
       "      <th>3172</th>\n",
       "      <td>1499</td>\n",
       "      <td>October</td>\n",
       "      <td>449.0</td>\n",
       "      <td>68</td>\n",
       "    </tr>\n",
       "    <tr>\n",
       "      <th>3173</th>\n",
       "      <td>1499</td>\n",
       "      <td>September</td>\n",
       "      <td>70.0</td>\n",
       "      <td>9</td>\n",
       "    </tr>\n",
       "  </tbody>\n",
       "</table>\n",
       "<p>3174 rows × 4 columns</p>\n",
       "</div>"
      ],
      "text/plain": [
       "      user_id      month  calls_duration  number_of_calls\n",
       "0        1000     August           408.0               52\n",
       "1        1000   December           333.0               46\n",
       "2        1000       July           340.0               47\n",
       "3        1000       June           172.0               43\n",
       "4        1000        May           159.0               22\n",
       "...       ...        ...             ...              ...\n",
       "3169     1498  September           471.0               59\n",
       "3170     1499   December           492.0               69\n",
       "3171     1499   November           612.0               74\n",
       "3172     1499    October           449.0               68\n",
       "3173     1499  September            70.0                9\n",
       "\n",
       "[3174 rows x 4 columns]"
      ]
     },
     "execution_count": 39,
     "metadata": {},
     "output_type": "execute_result"
    }
   ],
   "source": [
    "calls_info_agg = calls_info.groupby(['user_id','month'])\\\n",
    "    .agg({'duration':'sum', 'call_date':'count'})\\\n",
    "    .reset_index()\\\n",
    "    .rename(columns={'duration':'calls_duration','call_date':'number_of_calls'})\n",
    "\n",
    "calls_info_agg"
   ]
  },
  {
   "cell_type": "markdown",
   "metadata": {},
   "source": [
    "### Для каждого пользователя определим количество отправленных сообщений по месяцам"
   ]
  },
  {
   "cell_type": "code",
   "execution_count": 40,
   "metadata": {},
   "outputs": [
    {
     "data": {
      "text/html": [
       "<div>\n",
       "<style scoped>\n",
       "    .dataframe tbody tr th:only-of-type {\n",
       "        vertical-align: middle;\n",
       "    }\n",
       "\n",
       "    .dataframe tbody tr th {\n",
       "        vertical-align: top;\n",
       "    }\n",
       "\n",
       "    .dataframe thead th {\n",
       "        text-align: right;\n",
       "    }\n",
       "</style>\n",
       "<table border=\"1\" class=\"dataframe\">\n",
       "  <thead>\n",
       "    <tr style=\"text-align: right;\">\n",
       "      <th></th>\n",
       "      <th>id</th>\n",
       "      <th>message_date</th>\n",
       "      <th>user_id</th>\n",
       "      <th>month</th>\n",
       "    </tr>\n",
       "  </thead>\n",
       "  <tbody>\n",
       "    <tr>\n",
       "      <th>0</th>\n",
       "      <td>10000</td>\n",
       "      <td>2018-06-27</td>\n",
       "      <td>1000</td>\n",
       "      <td>June</td>\n",
       "    </tr>\n",
       "    <tr>\n",
       "      <th>1</th>\n",
       "      <td>10001</td>\n",
       "      <td>2018-10-08</td>\n",
       "      <td>1000</td>\n",
       "      <td>October</td>\n",
       "    </tr>\n",
       "    <tr>\n",
       "      <th>2</th>\n",
       "      <td>10002</td>\n",
       "      <td>2018-08-04</td>\n",
       "      <td>1000</td>\n",
       "      <td>August</td>\n",
       "    </tr>\n",
       "    <tr>\n",
       "      <th>3</th>\n",
       "      <td>10003</td>\n",
       "      <td>2018-06-16</td>\n",
       "      <td>1000</td>\n",
       "      <td>June</td>\n",
       "    </tr>\n",
       "    <tr>\n",
       "      <th>4</th>\n",
       "      <td>10004</td>\n",
       "      <td>2018-12-05</td>\n",
       "      <td>1000</td>\n",
       "      <td>December</td>\n",
       "    </tr>\n",
       "  </tbody>\n",
       "</table>\n",
       "</div>"
      ],
      "text/plain": [
       "      id message_date  user_id     month\n",
       "0  10000   2018-06-27     1000      June\n",
       "1  10001   2018-10-08     1000   October\n",
       "2  10002   2018-08-04     1000    August\n",
       "3  10003   2018-06-16     1000      June\n",
       "4  10004   2018-12-05     1000  December"
      ]
     },
     "execution_count": 40,
     "metadata": {},
     "output_type": "execute_result"
    }
   ],
   "source": [
    "messages['month'] = messages['message_date'].dt.month_name()\n",
    "messages.head()"
   ]
  },
  {
   "cell_type": "code",
   "execution_count": 41,
   "metadata": {},
   "outputs": [
    {
     "data": {
      "text/html": [
       "<div>\n",
       "<style scoped>\n",
       "    .dataframe tbody tr th:only-of-type {\n",
       "        vertical-align: middle;\n",
       "    }\n",
       "\n",
       "    .dataframe tbody tr th {\n",
       "        vertical-align: top;\n",
       "    }\n",
       "\n",
       "    .dataframe thead th {\n",
       "        text-align: right;\n",
       "    }\n",
       "</style>\n",
       "<table border=\"1\" class=\"dataframe\">\n",
       "  <thead>\n",
       "    <tr style=\"text-align: right;\">\n",
       "      <th></th>\n",
       "      <th>user_id</th>\n",
       "      <th>month</th>\n",
       "      <th>number_of_messages</th>\n",
       "    </tr>\n",
       "  </thead>\n",
       "  <tbody>\n",
       "    <tr>\n",
       "      <th>0</th>\n",
       "      <td>1000</td>\n",
       "      <td>August</td>\n",
       "      <td>81</td>\n",
       "    </tr>\n",
       "    <tr>\n",
       "      <th>1</th>\n",
       "      <td>1000</td>\n",
       "      <td>December</td>\n",
       "      <td>70</td>\n",
       "    </tr>\n",
       "    <tr>\n",
       "      <th>2</th>\n",
       "      <td>1000</td>\n",
       "      <td>July</td>\n",
       "      <td>75</td>\n",
       "    </tr>\n",
       "    <tr>\n",
       "      <th>3</th>\n",
       "      <td>1000</td>\n",
       "      <td>June</td>\n",
       "      <td>60</td>\n",
       "    </tr>\n",
       "    <tr>\n",
       "      <th>4</th>\n",
       "      <td>1000</td>\n",
       "      <td>May</td>\n",
       "      <td>22</td>\n",
       "    </tr>\n",
       "    <tr>\n",
       "      <th>5</th>\n",
       "      <td>1000</td>\n",
       "      <td>November</td>\n",
       "      <td>58</td>\n",
       "    </tr>\n",
       "    <tr>\n",
       "      <th>6</th>\n",
       "      <td>1000</td>\n",
       "      <td>October</td>\n",
       "      <td>73</td>\n",
       "    </tr>\n",
       "    <tr>\n",
       "      <th>7</th>\n",
       "      <td>1000</td>\n",
       "      <td>September</td>\n",
       "      <td>57</td>\n",
       "    </tr>\n",
       "    <tr>\n",
       "      <th>8</th>\n",
       "      <td>1002</td>\n",
       "      <td>August</td>\n",
       "      <td>13</td>\n",
       "    </tr>\n",
       "    <tr>\n",
       "      <th>9</th>\n",
       "      <td>1002</td>\n",
       "      <td>December</td>\n",
       "      <td>12</td>\n",
       "    </tr>\n",
       "  </tbody>\n",
       "</table>\n",
       "</div>"
      ],
      "text/plain": [
       "   user_id      month  number_of_messages\n",
       "0     1000     August                  81\n",
       "1     1000   December                  70\n",
       "2     1000       July                  75\n",
       "3     1000       June                  60\n",
       "4     1000        May                  22\n",
       "5     1000   November                  58\n",
       "6     1000    October                  73\n",
       "7     1000  September                  57\n",
       "8     1002     August                  13\n",
       "9     1002   December                  12"
      ]
     },
     "execution_count": 41,
     "metadata": {},
     "output_type": "execute_result"
    }
   ],
   "source": [
    "users_messages = messages.groupby(['user_id','month'])\\\n",
    "    .agg({'message_date':'count'})\\\n",
    "    .reset_index()\\\n",
    "    .rename(columns={'message_date':'number_of_messages'})\n",
    "\n",
    "users_messages.head(10)"
   ]
  },
  {
   "cell_type": "markdown",
   "metadata": {},
   "source": [
    "### Определим объем израсходованного интернет-трафика по месяцам"
   ]
  },
  {
   "cell_type": "code",
   "execution_count": 42,
   "metadata": {},
   "outputs": [
    {
     "data": {
      "text/plain": [
       "Index(['id', 'mb_used', 'session_date', 'user_id'], dtype='object')"
      ]
     },
     "execution_count": 42,
     "metadata": {},
     "output_type": "execute_result"
    }
   ],
   "source": [
    "internet.columns"
   ]
  },
  {
   "cell_type": "code",
   "execution_count": 43,
   "metadata": {},
   "outputs": [
    {
     "data": {
      "text/html": [
       "<div>\n",
       "<style scoped>\n",
       "    .dataframe tbody tr th:only-of-type {\n",
       "        vertical-align: middle;\n",
       "    }\n",
       "\n",
       "    .dataframe tbody tr th {\n",
       "        vertical-align: top;\n",
       "    }\n",
       "\n",
       "    .dataframe thead th {\n",
       "        text-align: right;\n",
       "    }\n",
       "</style>\n",
       "<table border=\"1\" class=\"dataframe\">\n",
       "  <thead>\n",
       "    <tr style=\"text-align: right;\">\n",
       "      <th></th>\n",
       "      <th>id</th>\n",
       "      <th>mb_used</th>\n",
       "      <th>session_date</th>\n",
       "      <th>user_id</th>\n",
       "      <th>month</th>\n",
       "    </tr>\n",
       "  </thead>\n",
       "  <tbody>\n",
       "    <tr>\n",
       "      <th>0</th>\n",
       "      <td>10000</td>\n",
       "      <td>112.95</td>\n",
       "      <td>2018-11-25</td>\n",
       "      <td>1000</td>\n",
       "      <td>November</td>\n",
       "    </tr>\n",
       "    <tr>\n",
       "      <th>1</th>\n",
       "      <td>10001</td>\n",
       "      <td>1052.81</td>\n",
       "      <td>2018-09-07</td>\n",
       "      <td>1000</td>\n",
       "      <td>September</td>\n",
       "    </tr>\n",
       "    <tr>\n",
       "      <th>2</th>\n",
       "      <td>10002</td>\n",
       "      <td>1197.26</td>\n",
       "      <td>2018-06-25</td>\n",
       "      <td>1000</td>\n",
       "      <td>June</td>\n",
       "    </tr>\n",
       "    <tr>\n",
       "      <th>3</th>\n",
       "      <td>10003</td>\n",
       "      <td>550.27</td>\n",
       "      <td>2018-08-22</td>\n",
       "      <td>1000</td>\n",
       "      <td>August</td>\n",
       "    </tr>\n",
       "    <tr>\n",
       "      <th>4</th>\n",
       "      <td>10004</td>\n",
       "      <td>302.56</td>\n",
       "      <td>2018-09-24</td>\n",
       "      <td>1000</td>\n",
       "      <td>September</td>\n",
       "    </tr>\n",
       "  </tbody>\n",
       "</table>\n",
       "</div>"
      ],
      "text/plain": [
       "      id  mb_used session_date  user_id      month\n",
       "0  10000   112.95   2018-11-25     1000   November\n",
       "1  10001  1052.81   2018-09-07     1000  September\n",
       "2  10002  1197.26   2018-06-25     1000       June\n",
       "3  10003   550.27   2018-08-22     1000     August\n",
       "4  10004   302.56   2018-09-24     1000  September"
      ]
     },
     "execution_count": 43,
     "metadata": {},
     "output_type": "execute_result"
    }
   ],
   "source": [
    "internet['month'] = internet['session_date'].dt.month_name()\n",
    "internet.head()"
   ]
  },
  {
   "cell_type": "code",
   "execution_count": 44,
   "metadata": {},
   "outputs": [
    {
     "data": {
      "text/html": [
       "<div>\n",
       "<style scoped>\n",
       "    .dataframe tbody tr th:only-of-type {\n",
       "        vertical-align: middle;\n",
       "    }\n",
       "\n",
       "    .dataframe tbody tr th {\n",
       "        vertical-align: top;\n",
       "    }\n",
       "\n",
       "    .dataframe thead th {\n",
       "        text-align: right;\n",
       "    }\n",
       "</style>\n",
       "<table border=\"1\" class=\"dataframe\">\n",
       "  <thead>\n",
       "    <tr style=\"text-align: right;\">\n",
       "      <th></th>\n",
       "      <th>user_id</th>\n",
       "      <th>month</th>\n",
       "      <th>mb_used</th>\n",
       "    </tr>\n",
       "  </thead>\n",
       "  <tbody>\n",
       "    <tr>\n",
       "      <th>0</th>\n",
       "      <td>1000</td>\n",
       "      <td>August</td>\n",
       "      <td>14055.93</td>\n",
       "    </tr>\n",
       "    <tr>\n",
       "      <th>1</th>\n",
       "      <td>1000</td>\n",
       "      <td>December</td>\n",
       "      <td>9817.61</td>\n",
       "    </tr>\n",
       "    <tr>\n",
       "      <th>2</th>\n",
       "      <td>1000</td>\n",
       "      <td>July</td>\n",
       "      <td>14003.64</td>\n",
       "    </tr>\n",
       "    <tr>\n",
       "      <th>3</th>\n",
       "      <td>1000</td>\n",
       "      <td>June</td>\n",
       "      <td>23233.77</td>\n",
       "    </tr>\n",
       "    <tr>\n",
       "      <th>4</th>\n",
       "      <td>1000</td>\n",
       "      <td>May</td>\n",
       "      <td>2253.49</td>\n",
       "    </tr>\n",
       "    <tr>\n",
       "      <th>...</th>\n",
       "      <td>...</td>\n",
       "      <td>...</td>\n",
       "      <td>...</td>\n",
       "    </tr>\n",
       "    <tr>\n",
       "      <th>3198</th>\n",
       "      <td>1498</td>\n",
       "      <td>September</td>\n",
       "      <td>22134.41</td>\n",
       "    </tr>\n",
       "    <tr>\n",
       "      <th>3199</th>\n",
       "      <td>1499</td>\n",
       "      <td>December</td>\n",
       "      <td>13055.58</td>\n",
       "    </tr>\n",
       "    <tr>\n",
       "      <th>3200</th>\n",
       "      <td>1499</td>\n",
       "      <td>November</td>\n",
       "      <td>17963.31</td>\n",
       "    </tr>\n",
       "    <tr>\n",
       "      <th>3201</th>\n",
       "      <td>1499</td>\n",
       "      <td>October</td>\n",
       "      <td>17788.51</td>\n",
       "    </tr>\n",
       "    <tr>\n",
       "      <th>3202</th>\n",
       "      <td>1499</td>\n",
       "      <td>September</td>\n",
       "      <td>1845.75</td>\n",
       "    </tr>\n",
       "  </tbody>\n",
       "</table>\n",
       "<p>3203 rows × 3 columns</p>\n",
       "</div>"
      ],
      "text/plain": [
       "      user_id      month   mb_used\n",
       "0        1000     August  14055.93\n",
       "1        1000   December   9817.61\n",
       "2        1000       July  14003.64\n",
       "3        1000       June  23233.77\n",
       "4        1000        May   2253.49\n",
       "...       ...        ...       ...\n",
       "3198     1498  September  22134.41\n",
       "3199     1499   December  13055.58\n",
       "3200     1499   November  17963.31\n",
       "3201     1499    October  17788.51\n",
       "3202     1499  September   1845.75\n",
       "\n",
       "[3203 rows x 3 columns]"
      ]
     },
     "execution_count": 44,
     "metadata": {},
     "output_type": "execute_result"
    }
   ],
   "source": [
    "internet_traffic_used = internet.groupby(['user_id','month'])\\\n",
    "    .agg({'mb_used':'sum'})\\\n",
    "    .reset_index()\n",
    "internet_traffic_used"
   ]
  },
  {
   "cell_type": "markdown",
   "metadata": {},
   "source": [
    "### Определим помесячную выручку с каждого пользователя (вычтите бесплатный лимит из суммарного количества звонков, сообщений и интернет-трафика; остаток умножьте на значение из тарифного плана; прибавьте абонентскую плату, соответствующую тарифному плану)."
   ]
  },
  {
   "cell_type": "code",
   "execution_count": 45,
   "metadata": {},
   "outputs": [
    {
     "data": {
      "text/html": [
       "<div>\n",
       "<style scoped>\n",
       "    .dataframe tbody tr th:only-of-type {\n",
       "        vertical-align: middle;\n",
       "    }\n",
       "\n",
       "    .dataframe tbody tr th {\n",
       "        vertical-align: top;\n",
       "    }\n",
       "\n",
       "    .dataframe thead th {\n",
       "        text-align: right;\n",
       "    }\n",
       "</style>\n",
       "<table border=\"1\" class=\"dataframe\">\n",
       "  <thead>\n",
       "    <tr style=\"text-align: right;\">\n",
       "      <th></th>\n",
       "      <th>messages_included</th>\n",
       "      <th>mb_per_month_included</th>\n",
       "      <th>minutes_included</th>\n",
       "      <th>rub_monthly_fee</th>\n",
       "      <th>rub_per_gb</th>\n",
       "      <th>rub_per_message</th>\n",
       "      <th>rub_per_minute</th>\n",
       "      <th>tariff</th>\n",
       "    </tr>\n",
       "  </thead>\n",
       "  <tbody>\n",
       "    <tr>\n",
       "      <th>0</th>\n",
       "      <td>50</td>\n",
       "      <td>15360</td>\n",
       "      <td>500</td>\n",
       "      <td>550</td>\n",
       "      <td>200</td>\n",
       "      <td>3</td>\n",
       "      <td>3</td>\n",
       "      <td>smart</td>\n",
       "    </tr>\n",
       "    <tr>\n",
       "      <th>1</th>\n",
       "      <td>1000</td>\n",
       "      <td>30720</td>\n",
       "      <td>3000</td>\n",
       "      <td>1950</td>\n",
       "      <td>150</td>\n",
       "      <td>1</td>\n",
       "      <td>1</td>\n",
       "      <td>ultra</td>\n",
       "    </tr>\n",
       "  </tbody>\n",
       "</table>\n",
       "</div>"
      ],
      "text/plain": [
       "   messages_included  mb_per_month_included  minutes_included  \\\n",
       "0                 50                  15360               500   \n",
       "1               1000                  30720              3000   \n",
       "\n",
       "   rub_monthly_fee  rub_per_gb  rub_per_message  rub_per_minute tariff  \n",
       "0              550         200                3               3  smart  \n",
       "1             1950         150                1               1  ultra  "
      ]
     },
     "execution_count": 45,
     "metadata": {},
     "output_type": "execute_result"
    }
   ],
   "source": [
    "tariffs = tariffs.rename(columns={'tariff_name':'tariff'})\n",
    "tariffs"
   ]
  },
  {
   "cell_type": "code",
   "execution_count": 46,
   "metadata": {},
   "outputs": [
    {
     "data": {
      "text/html": [
       "<div>\n",
       "<style scoped>\n",
       "    .dataframe tbody tr th:only-of-type {\n",
       "        vertical-align: middle;\n",
       "    }\n",
       "\n",
       "    .dataframe tbody tr th {\n",
       "        vertical-align: top;\n",
       "    }\n",
       "\n",
       "    .dataframe thead th {\n",
       "        text-align: right;\n",
       "    }\n",
       "</style>\n",
       "<table border=\"1\" class=\"dataframe\">\n",
       "  <thead>\n",
       "    <tr style=\"text-align: right;\">\n",
       "      <th></th>\n",
       "      <th>user_id</th>\n",
       "      <th>month</th>\n",
       "      <th>calls_duration</th>\n",
       "      <th>number_of_calls</th>\n",
       "      <th>number_of_messages</th>\n",
       "      <th>mb_used</th>\n",
       "      <th>tariff</th>\n",
       "      <th>city</th>\n",
       "      <th>messages_included</th>\n",
       "      <th>mb_per_month_included</th>\n",
       "      <th>minutes_included</th>\n",
       "      <th>rub_monthly_fee</th>\n",
       "      <th>rub_per_gb</th>\n",
       "      <th>rub_per_message</th>\n",
       "      <th>rub_per_minute</th>\n",
       "    </tr>\n",
       "  </thead>\n",
       "  <tbody>\n",
       "    <tr>\n",
       "      <th>0</th>\n",
       "      <td>1000</td>\n",
       "      <td>August</td>\n",
       "      <td>408.0</td>\n",
       "      <td>52.0</td>\n",
       "      <td>81.0</td>\n",
       "      <td>14055.93</td>\n",
       "      <td>ultra</td>\n",
       "      <td>Краснодар</td>\n",
       "      <td>1000</td>\n",
       "      <td>30720</td>\n",
       "      <td>3000</td>\n",
       "      <td>1950</td>\n",
       "      <td>150</td>\n",
       "      <td>1</td>\n",
       "      <td>1</td>\n",
       "    </tr>\n",
       "    <tr>\n",
       "      <th>1</th>\n",
       "      <td>1000</td>\n",
       "      <td>December</td>\n",
       "      <td>333.0</td>\n",
       "      <td>46.0</td>\n",
       "      <td>70.0</td>\n",
       "      <td>9817.61</td>\n",
       "      <td>ultra</td>\n",
       "      <td>Краснодар</td>\n",
       "      <td>1000</td>\n",
       "      <td>30720</td>\n",
       "      <td>3000</td>\n",
       "      <td>1950</td>\n",
       "      <td>150</td>\n",
       "      <td>1</td>\n",
       "      <td>1</td>\n",
       "    </tr>\n",
       "    <tr>\n",
       "      <th>2</th>\n",
       "      <td>1000</td>\n",
       "      <td>July</td>\n",
       "      <td>340.0</td>\n",
       "      <td>47.0</td>\n",
       "      <td>75.0</td>\n",
       "      <td>14003.64</td>\n",
       "      <td>ultra</td>\n",
       "      <td>Краснодар</td>\n",
       "      <td>1000</td>\n",
       "      <td>30720</td>\n",
       "      <td>3000</td>\n",
       "      <td>1950</td>\n",
       "      <td>150</td>\n",
       "      <td>1</td>\n",
       "      <td>1</td>\n",
       "    </tr>\n",
       "    <tr>\n",
       "      <th>3</th>\n",
       "      <td>1000</td>\n",
       "      <td>June</td>\n",
       "      <td>172.0</td>\n",
       "      <td>43.0</td>\n",
       "      <td>60.0</td>\n",
       "      <td>23233.77</td>\n",
       "      <td>ultra</td>\n",
       "      <td>Краснодар</td>\n",
       "      <td>1000</td>\n",
       "      <td>30720</td>\n",
       "      <td>3000</td>\n",
       "      <td>1950</td>\n",
       "      <td>150</td>\n",
       "      <td>1</td>\n",
       "      <td>1</td>\n",
       "    </tr>\n",
       "    <tr>\n",
       "      <th>4</th>\n",
       "      <td>1000</td>\n",
       "      <td>May</td>\n",
       "      <td>159.0</td>\n",
       "      <td>22.0</td>\n",
       "      <td>22.0</td>\n",
       "      <td>2253.49</td>\n",
       "      <td>ultra</td>\n",
       "      <td>Краснодар</td>\n",
       "      <td>1000</td>\n",
       "      <td>30720</td>\n",
       "      <td>3000</td>\n",
       "      <td>1950</td>\n",
       "      <td>150</td>\n",
       "      <td>1</td>\n",
       "      <td>1</td>\n",
       "    </tr>\n",
       "  </tbody>\n",
       "</table>\n",
       "</div>"
      ],
      "text/plain": [
       "   user_id     month  calls_duration  number_of_calls  number_of_messages  \\\n",
       "0     1000    August           408.0             52.0                81.0   \n",
       "1     1000  December           333.0             46.0                70.0   \n",
       "2     1000      July           340.0             47.0                75.0   \n",
       "3     1000      June           172.0             43.0                60.0   \n",
       "4     1000       May           159.0             22.0                22.0   \n",
       "\n",
       "    mb_used tariff       city  messages_included  mb_per_month_included  \\\n",
       "0  14055.93  ultra  Краснодар               1000                  30720   \n",
       "1   9817.61  ultra  Краснодар               1000                  30720   \n",
       "2  14003.64  ultra  Краснодар               1000                  30720   \n",
       "3  23233.77  ultra  Краснодар               1000                  30720   \n",
       "4   2253.49  ultra  Краснодар               1000                  30720   \n",
       "\n",
       "   minutes_included  rub_monthly_fee  rub_per_gb  rub_per_message  \\\n",
       "0              3000             1950         150                1   \n",
       "1              3000             1950         150                1   \n",
       "2              3000             1950         150                1   \n",
       "3              3000             1950         150                1   \n",
       "4              3000             1950         150                1   \n",
       "\n",
       "   rub_per_minute  \n",
       "0               1  \n",
       "1               1  \n",
       "2               1  \n",
       "3               1  \n",
       "4               1  "
      ]
     },
     "execution_count": 46,
     "metadata": {},
     "output_type": "execute_result"
    }
   ],
   "source": [
    "merged_table = calls_info_agg.merge(users_messages, on=['user_id','month'], how='outer').merge(internet_traffic_used, on=['user_id','month'],how='outer')\\\n",
    "    .merge(users[['user_id','tariff','city']], on='user_id', how='inner').merge(tariffs, on='tariff', how='inner')\n",
    "merged_table.head()"
   ]
  },
  {
   "cell_type": "code",
   "execution_count": 47,
   "metadata": {},
   "outputs": [],
   "source": [
    "merged_table['gb_per_month_included'] = np.ceil(merged_table['mb_per_month_included']/1024)"
   ]
  },
  {
   "cell_type": "code",
   "execution_count": 48,
   "metadata": {},
   "outputs": [],
   "source": [
    "merged_table['gb_used'] = np.ceil(merged_table['mb_used']/1024)"
   ]
  },
  {
   "cell_type": "markdown",
   "metadata": {},
   "source": [
    "<div class=\"alert alert-success\" style=\"border-radius: 15px; box-shadow: 4px 4px 4px; border: 1px solid \">\n",
    "<b> Комментарий ревьюера  ✔️</b>\n",
    "    \n",
    "Тут верно. Хорошо, что не забываешь про Гб.\n",
    "</div>"
   ]
  },
  {
   "cell_type": "code",
   "execution_count": 49,
   "metadata": {},
   "outputs": [
    {
     "data": {
      "text/html": [
       "<div>\n",
       "<style scoped>\n",
       "    .dataframe tbody tr th:only-of-type {\n",
       "        vertical-align: middle;\n",
       "    }\n",
       "\n",
       "    .dataframe tbody tr th {\n",
       "        vertical-align: top;\n",
       "    }\n",
       "\n",
       "    .dataframe thead th {\n",
       "        text-align: right;\n",
       "    }\n",
       "</style>\n",
       "<table border=\"1\" class=\"dataframe\">\n",
       "  <thead>\n",
       "    <tr style=\"text-align: right;\">\n",
       "      <th></th>\n",
       "      <th>user_id</th>\n",
       "      <th>month</th>\n",
       "      <th>calls_duration</th>\n",
       "      <th>number_of_calls</th>\n",
       "      <th>number_of_messages</th>\n",
       "      <th>mb_used</th>\n",
       "      <th>tariff</th>\n",
       "      <th>city</th>\n",
       "      <th>messages_included</th>\n",
       "      <th>mb_per_month_included</th>\n",
       "      <th>minutes_included</th>\n",
       "      <th>rub_monthly_fee</th>\n",
       "      <th>rub_per_gb</th>\n",
       "      <th>rub_per_message</th>\n",
       "      <th>rub_per_minute</th>\n",
       "      <th>gb_per_month_included</th>\n",
       "      <th>gb_used</th>\n",
       "    </tr>\n",
       "  </thead>\n",
       "  <tbody>\n",
       "    <tr>\n",
       "      <th>0</th>\n",
       "      <td>1000</td>\n",
       "      <td>August</td>\n",
       "      <td>408.0</td>\n",
       "      <td>52.0</td>\n",
       "      <td>81.0</td>\n",
       "      <td>14055.93</td>\n",
       "      <td>ultra</td>\n",
       "      <td>Краснодар</td>\n",
       "      <td>1000</td>\n",
       "      <td>30720</td>\n",
       "      <td>3000</td>\n",
       "      <td>1950</td>\n",
       "      <td>150</td>\n",
       "      <td>1</td>\n",
       "      <td>1</td>\n",
       "      <td>30.0</td>\n",
       "      <td>14.0</td>\n",
       "    </tr>\n",
       "    <tr>\n",
       "      <th>1</th>\n",
       "      <td>1000</td>\n",
       "      <td>December</td>\n",
       "      <td>333.0</td>\n",
       "      <td>46.0</td>\n",
       "      <td>70.0</td>\n",
       "      <td>9817.61</td>\n",
       "      <td>ultra</td>\n",
       "      <td>Краснодар</td>\n",
       "      <td>1000</td>\n",
       "      <td>30720</td>\n",
       "      <td>3000</td>\n",
       "      <td>1950</td>\n",
       "      <td>150</td>\n",
       "      <td>1</td>\n",
       "      <td>1</td>\n",
       "      <td>30.0</td>\n",
       "      <td>10.0</td>\n",
       "    </tr>\n",
       "    <tr>\n",
       "      <th>2</th>\n",
       "      <td>1000</td>\n",
       "      <td>July</td>\n",
       "      <td>340.0</td>\n",
       "      <td>47.0</td>\n",
       "      <td>75.0</td>\n",
       "      <td>14003.64</td>\n",
       "      <td>ultra</td>\n",
       "      <td>Краснодар</td>\n",
       "      <td>1000</td>\n",
       "      <td>30720</td>\n",
       "      <td>3000</td>\n",
       "      <td>1950</td>\n",
       "      <td>150</td>\n",
       "      <td>1</td>\n",
       "      <td>1</td>\n",
       "      <td>30.0</td>\n",
       "      <td>14.0</td>\n",
       "    </tr>\n",
       "    <tr>\n",
       "      <th>3</th>\n",
       "      <td>1000</td>\n",
       "      <td>June</td>\n",
       "      <td>172.0</td>\n",
       "      <td>43.0</td>\n",
       "      <td>60.0</td>\n",
       "      <td>23233.77</td>\n",
       "      <td>ultra</td>\n",
       "      <td>Краснодар</td>\n",
       "      <td>1000</td>\n",
       "      <td>30720</td>\n",
       "      <td>3000</td>\n",
       "      <td>1950</td>\n",
       "      <td>150</td>\n",
       "      <td>1</td>\n",
       "      <td>1</td>\n",
       "      <td>30.0</td>\n",
       "      <td>23.0</td>\n",
       "    </tr>\n",
       "    <tr>\n",
       "      <th>4</th>\n",
       "      <td>1000</td>\n",
       "      <td>May</td>\n",
       "      <td>159.0</td>\n",
       "      <td>22.0</td>\n",
       "      <td>22.0</td>\n",
       "      <td>2253.49</td>\n",
       "      <td>ultra</td>\n",
       "      <td>Краснодар</td>\n",
       "      <td>1000</td>\n",
       "      <td>30720</td>\n",
       "      <td>3000</td>\n",
       "      <td>1950</td>\n",
       "      <td>150</td>\n",
       "      <td>1</td>\n",
       "      <td>1</td>\n",
       "      <td>30.0</td>\n",
       "      <td>3.0</td>\n",
       "    </tr>\n",
       "  </tbody>\n",
       "</table>\n",
       "</div>"
      ],
      "text/plain": [
       "   user_id     month  calls_duration  number_of_calls  number_of_messages  \\\n",
       "0     1000    August           408.0             52.0                81.0   \n",
       "1     1000  December           333.0             46.0                70.0   \n",
       "2     1000      July           340.0             47.0                75.0   \n",
       "3     1000      June           172.0             43.0                60.0   \n",
       "4     1000       May           159.0             22.0                22.0   \n",
       "\n",
       "    mb_used tariff       city  messages_included  mb_per_month_included  \\\n",
       "0  14055.93  ultra  Краснодар               1000                  30720   \n",
       "1   9817.61  ultra  Краснодар               1000                  30720   \n",
       "2  14003.64  ultra  Краснодар               1000                  30720   \n",
       "3  23233.77  ultra  Краснодар               1000                  30720   \n",
       "4   2253.49  ultra  Краснодар               1000                  30720   \n",
       "\n",
       "   minutes_included  rub_monthly_fee  rub_per_gb  rub_per_message  \\\n",
       "0              3000             1950         150                1   \n",
       "1              3000             1950         150                1   \n",
       "2              3000             1950         150                1   \n",
       "3              3000             1950         150                1   \n",
       "4              3000             1950         150                1   \n",
       "\n",
       "   rub_per_minute  gb_per_month_included  gb_used  \n",
       "0               1                   30.0     14.0  \n",
       "1               1                   30.0     10.0  \n",
       "2               1                   30.0     14.0  \n",
       "3               1                   30.0     23.0  \n",
       "4               1                   30.0      3.0  "
      ]
     },
     "execution_count": 49,
     "metadata": {},
     "output_type": "execute_result"
    }
   ],
   "source": [
    "merged_table.head()"
   ]
  },
  {
   "cell_type": "code",
   "execution_count": 50,
   "metadata": {},
   "outputs": [
    {
     "data": {
      "text/plain": [
       "user_id                    0\n",
       "month                      0\n",
       "calls_duration            40\n",
       "number_of_calls           40\n",
       "number_of_messages       497\n",
       "mb_used                   11\n",
       "tariff                     0\n",
       "city                       0\n",
       "messages_included          0\n",
       "mb_per_month_included      0\n",
       "minutes_included           0\n",
       "rub_monthly_fee            0\n",
       "rub_per_gb                 0\n",
       "rub_per_message            0\n",
       "rub_per_minute             0\n",
       "gb_per_month_included      0\n",
       "gb_used                   11\n",
       "dtype: int64"
      ]
     },
     "execution_count": 50,
     "metadata": {},
     "output_type": "execute_result"
    }
   ],
   "source": [
    "merged_table.isna().sum()"
   ]
  },
  {
   "cell_type": "markdown",
   "metadata": {},
   "source": [
    "Заполним пропуски 0, это означает, что данные пользователи не пользовались сервисами"
   ]
  },
  {
   "cell_type": "markdown",
   "metadata": {},
   "source": [
    "<div class=\"alert alert-success\" style=\"border-radius: 15px; box-shadow: 4px 4px 4px; border: 1px solid \">\n",
    "<b> Комментарий ревьюера  ✔️</b>\n",
    "    \n",
    "Верно произведена склейка. С занулением согласна. \n",
    "\n",
    "</div>"
   ]
  },
  {
   "cell_type": "code",
   "execution_count": 51,
   "metadata": {},
   "outputs": [
    {
     "data": {
      "text/plain": [
       "user_id                  0\n",
       "month                    0\n",
       "calls_duration           0\n",
       "number_of_calls          0\n",
       "number_of_messages       0\n",
       "mb_used                  0\n",
       "tariff                   0\n",
       "city                     0\n",
       "messages_included        0\n",
       "mb_per_month_included    0\n",
       "minutes_included         0\n",
       "rub_monthly_fee          0\n",
       "rub_per_gb               0\n",
       "rub_per_message          0\n",
       "rub_per_minute           0\n",
       "gb_per_month_included    0\n",
       "gb_used                  0\n",
       "dtype: int64"
      ]
     },
     "execution_count": 51,
     "metadata": {},
     "output_type": "execute_result"
    }
   ],
   "source": [
    "merged_table = merged_table.fillna(0)\n",
    "merged_table.isna().sum()"
   ]
  },
  {
   "cell_type": "code",
   "execution_count": 52,
   "metadata": {},
   "outputs": [],
   "source": [
    "def user_revenue(row):\n",
    "        messages=(row['number_of_messages']-row['messages_included'])*row['rub_per_message']\n",
    "        minutes=(row['calls_duration']-row['minutes_included'])*row['rub_per_minute']\n",
    "        traffic=(row['gb_used']-row['gb_per_month_included'])*row['rub_per_gb']\n",
    "        pay=row['rub_monthly_fee']\n",
    "        \n",
    "        revenue = 0\n",
    "        for i in [messages,minutes,traffic,pay]:\n",
    "                if i > 0:\n",
    "                        revenue +=i\n",
    "        return revenue\n",
    "\n",
    "\n",
    "\n",
    "\n",
    "       \n",
    "        \n",
    "        \n",
    "        \n"
   ]
  },
  {
   "cell_type": "markdown",
   "metadata": {},
   "source": [
    "<div class=\"alert alert-success\" style=\"border-radius: 15px; box-shadow: 4px 4px 4px; border: 1px solid \">\n",
    "<b> Комментарий ревьюера  ✔️</b>\n",
    "    \n",
    "Кстати, есть функция, возвращающая максимум из двух чисел, результат работы которой можно добавлять к абонентской плате:\n",
    "\n",
    "</div>\n",
    "\n",
    "```python\n",
    "\n",
    "max(0, (row['gb_used']-row['gb_per_month_included'])*row['rub_per_gb'])\n",
    "```"
   ]
  },
  {
   "cell_type": "code",
   "execution_count": 53,
   "metadata": {},
   "outputs": [],
   "source": [
    "merged_table['revenue'] = merged_table.apply(lambda row: user_revenue(row), axis=1)"
   ]
  },
  {
   "cell_type": "code",
   "execution_count": 54,
   "metadata": {},
   "outputs": [
    {
     "data": {
      "text/html": [
       "<div>\n",
       "<style scoped>\n",
       "    .dataframe tbody tr th:only-of-type {\n",
       "        vertical-align: middle;\n",
       "    }\n",
       "\n",
       "    .dataframe tbody tr th {\n",
       "        vertical-align: top;\n",
       "    }\n",
       "\n",
       "    .dataframe thead th {\n",
       "        text-align: right;\n",
       "    }\n",
       "</style>\n",
       "<table border=\"1\" class=\"dataframe\">\n",
       "  <thead>\n",
       "    <tr style=\"text-align: right;\">\n",
       "      <th></th>\n",
       "      <th>user_id</th>\n",
       "      <th>month</th>\n",
       "      <th>calls_duration</th>\n",
       "      <th>number_of_calls</th>\n",
       "      <th>number_of_messages</th>\n",
       "      <th>mb_used</th>\n",
       "      <th>tariff</th>\n",
       "      <th>city</th>\n",
       "      <th>messages_included</th>\n",
       "      <th>mb_per_month_included</th>\n",
       "      <th>minutes_included</th>\n",
       "      <th>rub_monthly_fee</th>\n",
       "      <th>rub_per_gb</th>\n",
       "      <th>rub_per_message</th>\n",
       "      <th>rub_per_minute</th>\n",
       "      <th>gb_per_month_included</th>\n",
       "      <th>gb_used</th>\n",
       "      <th>revenue</th>\n",
       "    </tr>\n",
       "  </thead>\n",
       "  <tbody>\n",
       "    <tr>\n",
       "      <th>0</th>\n",
       "      <td>1000</td>\n",
       "      <td>August</td>\n",
       "      <td>408.0</td>\n",
       "      <td>52.0</td>\n",
       "      <td>81.0</td>\n",
       "      <td>14055.93</td>\n",
       "      <td>ultra</td>\n",
       "      <td>Краснодар</td>\n",
       "      <td>1000</td>\n",
       "      <td>30720</td>\n",
       "      <td>3000</td>\n",
       "      <td>1950</td>\n",
       "      <td>150</td>\n",
       "      <td>1</td>\n",
       "      <td>1</td>\n",
       "      <td>30.0</td>\n",
       "      <td>14.0</td>\n",
       "      <td>1950.0</td>\n",
       "    </tr>\n",
       "    <tr>\n",
       "      <th>1</th>\n",
       "      <td>1000</td>\n",
       "      <td>December</td>\n",
       "      <td>333.0</td>\n",
       "      <td>46.0</td>\n",
       "      <td>70.0</td>\n",
       "      <td>9817.61</td>\n",
       "      <td>ultra</td>\n",
       "      <td>Краснодар</td>\n",
       "      <td>1000</td>\n",
       "      <td>30720</td>\n",
       "      <td>3000</td>\n",
       "      <td>1950</td>\n",
       "      <td>150</td>\n",
       "      <td>1</td>\n",
       "      <td>1</td>\n",
       "      <td>30.0</td>\n",
       "      <td>10.0</td>\n",
       "      <td>1950.0</td>\n",
       "    </tr>\n",
       "    <tr>\n",
       "      <th>2</th>\n",
       "      <td>1000</td>\n",
       "      <td>July</td>\n",
       "      <td>340.0</td>\n",
       "      <td>47.0</td>\n",
       "      <td>75.0</td>\n",
       "      <td>14003.64</td>\n",
       "      <td>ultra</td>\n",
       "      <td>Краснодар</td>\n",
       "      <td>1000</td>\n",
       "      <td>30720</td>\n",
       "      <td>3000</td>\n",
       "      <td>1950</td>\n",
       "      <td>150</td>\n",
       "      <td>1</td>\n",
       "      <td>1</td>\n",
       "      <td>30.0</td>\n",
       "      <td>14.0</td>\n",
       "      <td>1950.0</td>\n",
       "    </tr>\n",
       "    <tr>\n",
       "      <th>3</th>\n",
       "      <td>1000</td>\n",
       "      <td>June</td>\n",
       "      <td>172.0</td>\n",
       "      <td>43.0</td>\n",
       "      <td>60.0</td>\n",
       "      <td>23233.77</td>\n",
       "      <td>ultra</td>\n",
       "      <td>Краснодар</td>\n",
       "      <td>1000</td>\n",
       "      <td>30720</td>\n",
       "      <td>3000</td>\n",
       "      <td>1950</td>\n",
       "      <td>150</td>\n",
       "      <td>1</td>\n",
       "      <td>1</td>\n",
       "      <td>30.0</td>\n",
       "      <td>23.0</td>\n",
       "      <td>1950.0</td>\n",
       "    </tr>\n",
       "    <tr>\n",
       "      <th>4</th>\n",
       "      <td>1000</td>\n",
       "      <td>May</td>\n",
       "      <td>159.0</td>\n",
       "      <td>22.0</td>\n",
       "      <td>22.0</td>\n",
       "      <td>2253.49</td>\n",
       "      <td>ultra</td>\n",
       "      <td>Краснодар</td>\n",
       "      <td>1000</td>\n",
       "      <td>30720</td>\n",
       "      <td>3000</td>\n",
       "      <td>1950</td>\n",
       "      <td>150</td>\n",
       "      <td>1</td>\n",
       "      <td>1</td>\n",
       "      <td>30.0</td>\n",
       "      <td>3.0</td>\n",
       "      <td>1950.0</td>\n",
       "    </tr>\n",
       "    <tr>\n",
       "      <th>5</th>\n",
       "      <td>1000</td>\n",
       "      <td>November</td>\n",
       "      <td>338.0</td>\n",
       "      <td>43.0</td>\n",
       "      <td>58.0</td>\n",
       "      <td>14756.47</td>\n",
       "      <td>ultra</td>\n",
       "      <td>Краснодар</td>\n",
       "      <td>1000</td>\n",
       "      <td>30720</td>\n",
       "      <td>3000</td>\n",
       "      <td>1950</td>\n",
       "      <td>150</td>\n",
       "      <td>1</td>\n",
       "      <td>1</td>\n",
       "      <td>30.0</td>\n",
       "      <td>15.0</td>\n",
       "      <td>1950.0</td>\n",
       "    </tr>\n",
       "    <tr>\n",
       "      <th>6</th>\n",
       "      <td>1000</td>\n",
       "      <td>October</td>\n",
       "      <td>350.0</td>\n",
       "      <td>57.0</td>\n",
       "      <td>73.0</td>\n",
       "      <td>14702.49</td>\n",
       "      <td>ultra</td>\n",
       "      <td>Краснодар</td>\n",
       "      <td>1000</td>\n",
       "      <td>30720</td>\n",
       "      <td>3000</td>\n",
       "      <td>1950</td>\n",
       "      <td>150</td>\n",
       "      <td>1</td>\n",
       "      <td>1</td>\n",
       "      <td>30.0</td>\n",
       "      <td>15.0</td>\n",
       "      <td>1950.0</td>\n",
       "    </tr>\n",
       "    <tr>\n",
       "      <th>7</th>\n",
       "      <td>1000</td>\n",
       "      <td>September</td>\n",
       "      <td>466.0</td>\n",
       "      <td>58.0</td>\n",
       "      <td>57.0</td>\n",
       "      <td>14568.91</td>\n",
       "      <td>ultra</td>\n",
       "      <td>Краснодар</td>\n",
       "      <td>1000</td>\n",
       "      <td>30720</td>\n",
       "      <td>3000</td>\n",
       "      <td>1950</td>\n",
       "      <td>150</td>\n",
       "      <td>1</td>\n",
       "      <td>1</td>\n",
       "      <td>30.0</td>\n",
       "      <td>15.0</td>\n",
       "      <td>1950.0</td>\n",
       "    </tr>\n",
       "    <tr>\n",
       "      <th>8</th>\n",
       "      <td>1003</td>\n",
       "      <td>August</td>\n",
       "      <td>380.0</td>\n",
       "      <td>55.0</td>\n",
       "      <td>37.0</td>\n",
       "      <td>8565.21</td>\n",
       "      <td>ultra</td>\n",
       "      <td>Москва</td>\n",
       "      <td>1000</td>\n",
       "      <td>30720</td>\n",
       "      <td>3000</td>\n",
       "      <td>1950</td>\n",
       "      <td>150</td>\n",
       "      <td>1</td>\n",
       "      <td>1</td>\n",
       "      <td>30.0</td>\n",
       "      <td>9.0</td>\n",
       "      <td>1950.0</td>\n",
       "    </tr>\n",
       "    <tr>\n",
       "      <th>9</th>\n",
       "      <td>1003</td>\n",
       "      <td>December</td>\n",
       "      <td>802.0</td>\n",
       "      <td>108.0</td>\n",
       "      <td>75.0</td>\n",
       "      <td>10121.53</td>\n",
       "      <td>ultra</td>\n",
       "      <td>Москва</td>\n",
       "      <td>1000</td>\n",
       "      <td>30720</td>\n",
       "      <td>3000</td>\n",
       "      <td>1950</td>\n",
       "      <td>150</td>\n",
       "      <td>1</td>\n",
       "      <td>1</td>\n",
       "      <td>30.0</td>\n",
       "      <td>10.0</td>\n",
       "      <td>1950.0</td>\n",
       "    </tr>\n",
       "  </tbody>\n",
       "</table>\n",
       "</div>"
      ],
      "text/plain": [
       "   user_id      month  calls_duration  number_of_calls  number_of_messages  \\\n",
       "0     1000     August           408.0             52.0                81.0   \n",
       "1     1000   December           333.0             46.0                70.0   \n",
       "2     1000       July           340.0             47.0                75.0   \n",
       "3     1000       June           172.0             43.0                60.0   \n",
       "4     1000        May           159.0             22.0                22.0   \n",
       "5     1000   November           338.0             43.0                58.0   \n",
       "6     1000    October           350.0             57.0                73.0   \n",
       "7     1000  September           466.0             58.0                57.0   \n",
       "8     1003     August           380.0             55.0                37.0   \n",
       "9     1003   December           802.0            108.0                75.0   \n",
       "\n",
       "    mb_used tariff       city  messages_included  mb_per_month_included  \\\n",
       "0  14055.93  ultra  Краснодар               1000                  30720   \n",
       "1   9817.61  ultra  Краснодар               1000                  30720   \n",
       "2  14003.64  ultra  Краснодар               1000                  30720   \n",
       "3  23233.77  ultra  Краснодар               1000                  30720   \n",
       "4   2253.49  ultra  Краснодар               1000                  30720   \n",
       "5  14756.47  ultra  Краснодар               1000                  30720   \n",
       "6  14702.49  ultra  Краснодар               1000                  30720   \n",
       "7  14568.91  ultra  Краснодар               1000                  30720   \n",
       "8   8565.21  ultra     Москва               1000                  30720   \n",
       "9  10121.53  ultra     Москва               1000                  30720   \n",
       "\n",
       "   minutes_included  rub_monthly_fee  rub_per_gb  rub_per_message  \\\n",
       "0              3000             1950         150                1   \n",
       "1              3000             1950         150                1   \n",
       "2              3000             1950         150                1   \n",
       "3              3000             1950         150                1   \n",
       "4              3000             1950         150                1   \n",
       "5              3000             1950         150                1   \n",
       "6              3000             1950         150                1   \n",
       "7              3000             1950         150                1   \n",
       "8              3000             1950         150                1   \n",
       "9              3000             1950         150                1   \n",
       "\n",
       "   rub_per_minute  gb_per_month_included  gb_used  revenue  \n",
       "0               1                   30.0     14.0   1950.0  \n",
       "1               1                   30.0     10.0   1950.0  \n",
       "2               1                   30.0     14.0   1950.0  \n",
       "3               1                   30.0     23.0   1950.0  \n",
       "4               1                   30.0      3.0   1950.0  \n",
       "5               1                   30.0     15.0   1950.0  \n",
       "6               1                   30.0     15.0   1950.0  \n",
       "7               1                   30.0     15.0   1950.0  \n",
       "8               1                   30.0      9.0   1950.0  \n",
       "9               1                   30.0     10.0   1950.0  "
      ]
     },
     "execution_count": 54,
     "metadata": {},
     "output_type": "execute_result"
    }
   ],
   "source": [
    "merged_table.head(10)"
   ]
  },
  {
   "cell_type": "code",
   "execution_count": 55,
   "metadata": {},
   "outputs": [
    {
     "data": {
      "text/plain": [
       "count    3214.000000\n",
       "mean     1529.076229\n",
       "std       798.251091\n",
       "min       550.000000\n",
       "25%       750.000000\n",
       "50%      1653.500000\n",
       "75%      1950.000000\n",
       "max      6770.000000\n",
       "Name: revenue, dtype: float64"
      ]
     },
     "execution_count": 55,
     "metadata": {},
     "output_type": "execute_result"
    }
   ],
   "source": [
    "merged_table['revenue'].describe()"
   ]
  },
  {
   "cell_type": "code",
   "execution_count": 56,
   "metadata": {},
   "outputs": [
    {
     "data": {
      "text/plain": [
       "{'whiskers': [<matplotlib.lines.Line2D at 0x7fa782696490>,\n",
       "  <matplotlib.lines.Line2D at 0x7fa7826967f0>],\n",
       " 'caps': [<matplotlib.lines.Line2D at 0x7fa782696b50>,\n",
       "  <matplotlib.lines.Line2D at 0x7fa782696eb0>],\n",
       " 'boxes': [<matplotlib.lines.Line2D at 0x7fa782696130>],\n",
       " 'medians': [<matplotlib.lines.Line2D at 0x7fa782689250>],\n",
       " 'fliers': [<matplotlib.lines.Line2D at 0x7fa7826895b0>],\n",
       " 'means': []}"
      ]
     },
     "execution_count": 56,
     "metadata": {},
     "output_type": "execute_result"
    },
    {
     "data": {
      "image/png": "[encoded data removed]",
      "text/plain": [
       "<Figure size 432x288 with 1 Axes>"
      ]
     },
     "metadata": {
      "needs_background": "light"
     },
     "output_type": "display_data"
    }
   ],
   "source": [
    "plt.boxplot(merged_table['revenue'])"
   ]
  },
  {
   "cell_type": "markdown",
   "metadata": {},
   "source": [
    "### 3.  Анализ данных.  \n",
    "   3.1 Опишите поведение клиентов оператора, исходя из выборки. Сколько минут разговора, сколько сообщений и какой объём интернет-трафика требуется пользователям каждого тарифа в месяц?  \n",
    "   3.2 Посчитайте среднее количество, дисперсию и стандартное отклонение.  \n",
    "   3.3 Постройте гистограммы.  \n",
    "   3.4 Опишите распределения.  "
   ]
  },
  {
   "cell_type": "markdown",
   "metadata": {},
   "source": [
    "### Проанализируем тарифы "
   ]
  },
  {
   "cell_type": "code",
   "execution_count": 57,
   "metadata": {},
   "outputs": [
    {
     "data": {
      "text/html": [
       "<style  type=\"text/css\" >\n",
       "</style><table id=\"T_f6cf2_\" ><thead>    <tr>        <th class=\"blank level0\" ></th>        <th class=\"col_heading level0 col0\" colspan=\"4\">calls_duration</th>    </tr>    <tr>        <th class=\"blank level1\" ></th>        <th class=\"col_heading level1 col0\" >mean</th>        <th class=\"col_heading level1 col1\" >median</th>        <th class=\"col_heading level1 col2\" >var</th>        <th class=\"col_heading level1 col3\" >std</th>    </tr>    <tr>        <th class=\"index_name level0\" >tariff</th>        <th class=\"blank\" ></th>        <th class=\"blank\" ></th>        <th class=\"blank\" ></th>        <th class=\"blank\" ></th>    </tr></thead><tbody>\n",
       "                <tr>\n",
       "                        <th id=\"T_f6cf2_level0_row0\" class=\"row_heading level0 row0\" >smart</th>\n",
       "                        <td id=\"T_f6cf2_row0_col0\" class=\"data row0 col0\" >417.93</td>\n",
       "                        <td id=\"T_f6cf2_row0_col1\" class=\"data row0 col1\" >422.00</td>\n",
       "                        <td id=\"T_f6cf2_row0_col2\" class=\"data row0 col2\" >36219.32</td>\n",
       "                        <td id=\"T_f6cf2_row0_col3\" class=\"data row0 col3\" >190.31</td>\n",
       "            </tr>\n",
       "            <tr>\n",
       "                        <th id=\"T_f6cf2_level0_row1\" class=\"row_heading level0 row1\" >ultra</th>\n",
       "                        <td id=\"T_f6cf2_row1_col0\" class=\"data row1 col0\" >526.62</td>\n",
       "                        <td id=\"T_f6cf2_row1_col1\" class=\"data row1 col1\" >518.00</td>\n",
       "                        <td id=\"T_f6cf2_row1_col2\" class=\"data row1 col2\" >100873.63</td>\n",
       "                        <td id=\"T_f6cf2_row1_col3\" class=\"data row1 col3\" >317.61</td>\n",
       "            </tr>\n",
       "    </tbody></table>"
      ],
      "text/plain": [
       "<pandas.io.formats.style.Styler at 0x7fa782737f40>"
      ]
     },
     "execution_count": 57,
     "metadata": {},
     "output_type": "execute_result"
    }
   ],
   "source": [
    "merged_table.groupby('tariff').agg({'calls_duration':['mean','median','var','std']}).style.format('{:.2f}')"
   ]
  },
  {
   "cell_type": "code",
   "execution_count": 58,
   "metadata": {},
   "outputs": [
    {
     "data": {
      "text/plain": [
       "<matplotlib.lines.Line2D at 0x7fa782737dc0>"
      ]
     },
     "execution_count": 58,
     "metadata": {},
     "output_type": "execute_result"
    },
    {
     "data": {
      "image/png": "[encoded data removed]",
      "text/plain": [
       "<Figure size 432x288 with 1 Axes>"
      ]
     },
     "metadata": {
      "needs_background": "light"
     },
     "output_type": "display_data"
    }
   ],
   "source": [
    "merged_table.query('tariff==\"smart\"')['calls_duration'].plot(kind='hist',bins=15)\n",
    "plt.title('Минуты звоноков по месяцам, тариф \"Смарт\"')\n",
    "plt.axvline(x=500, color='red')"
   ]
  },
  {
   "cell_type": "code",
   "execution_count": 59,
   "metadata": {},
   "outputs": [
    {
     "data": {
      "text/plain": [
       "<matplotlib.lines.Line2D at 0x7fa776bf66d0>"
      ]
     },
     "execution_count": 59,
     "metadata": {},
     "output_type": "execute_result"
    },
    {
     "data": {
      "image/png": "[encoded data removed]",
      "text/plain": [
       "<Figure size 432x288 with 1 Axes>"
      ]
     },
     "metadata": {
      "needs_background": "light"
     },
     "output_type": "display_data"
    }
   ],
   "source": [
    "merged_table.query('tariff==\"ultra\"')['calls_duration'].plot(kind='hist',bins=15)\n",
    "plt.title('Минуты звоноков по месяцам, тариф \"Ultra\"')\n",
    "plt.axvline(x=3000, color='red')"
   ]
  },
  {
   "cell_type": "markdown",
   "metadata": {},
   "source": [
    "Как видно из гистограммы, в тарифе Смарт распредление похоже на нормальное, в среднем пользователи тратят около 400 минут в месяц, не выходя за 500 минутный включенный в абонентскую плату лимит  \n",
    "В тарифе ультра гораздо больше включенных минут - это намного больше, чем требуется пользователя"
   ]
  },
  {
   "cell_type": "markdown",
   "metadata": {},
   "source": [
    "<div class=\"alert alert-success\" style=\"border-radius: 15px; box-shadow: 4px 4px 4px; border: 1px solid \">\n",
    "<h2> Комментарий ревьюера 3 ✔️</h2>\n",
    "    \n",
    "Отличная идея со сводными и с отображением лимита на графиках.</div>"
   ]
  },
  {
   "cell_type": "markdown",
   "metadata": {},
   "source": [
    "Сообщения в тарифе \"Смарт\""
   ]
  },
  {
   "cell_type": "code",
   "execution_count": 60,
   "metadata": {},
   "outputs": [
    {
     "data": {
      "text/html": [
       "<style  type=\"text/css\" >\n",
       "</style><table id=\"T_51054_\" ><thead>    <tr>        <th class=\"blank level0\" ></th>        <th class=\"col_heading level0 col0\" colspan=\"4\">number_of_messages</th>    </tr>    <tr>        <th class=\"blank level1\" ></th>        <th class=\"col_heading level1 col0\" >mean</th>        <th class=\"col_heading level1 col1\" >median</th>        <th class=\"col_heading level1 col2\" >var</th>        <th class=\"col_heading level1 col3\" >std</th>    </tr>    <tr>        <th class=\"index_name level0\" >tariff</th>        <th class=\"blank\" ></th>        <th class=\"blank\" ></th>        <th class=\"blank\" ></th>        <th class=\"blank\" ></th>    </tr></thead><tbody>\n",
       "                <tr>\n",
       "                        <th id=\"T_51054_level0_row0\" class=\"row_heading level0 row0\" >smart</th>\n",
       "                        <td id=\"T_51054_row0_col0\" class=\"data row0 col0\" >33.38</td>\n",
       "                        <td id=\"T_51054_row0_col1\" class=\"data row0 col1\" >28.00</td>\n",
       "                        <td id=\"T_51054_row0_col2\" class=\"data row0 col2\" >796.81</td>\n",
       "                        <td id=\"T_51054_row0_col3\" class=\"data row0 col3\" >28.23</td>\n",
       "            </tr>\n",
       "            <tr>\n",
       "                        <th id=\"T_51054_level0_row1\" class=\"row_heading level0 row1\" >ultra</th>\n",
       "                        <td id=\"T_51054_row1_col0\" class=\"data row1 col0\" >49.36</td>\n",
       "                        <td id=\"T_51054_row1_col1\" class=\"data row1 col1\" >38.00</td>\n",
       "                        <td id=\"T_51054_row1_col2\" class=\"data row1 col2\" >2285.27</td>\n",
       "                        <td id=\"T_51054_row1_col3\" class=\"data row1 col3\" >47.80</td>\n",
       "            </tr>\n",
       "    </tbody></table>"
      ],
      "text/plain": [
       "<pandas.io.formats.style.Styler at 0x7fa7824611f0>"
      ]
     },
     "execution_count": 60,
     "metadata": {},
     "output_type": "execute_result"
    }
   ],
   "source": [
    "merged_table.groupby('tariff').agg({'number_of_messages':['mean','median','var','std']}).style.format('{:.2f}')\n"
   ]
  },
  {
   "cell_type": "code",
   "execution_count": 61,
   "metadata": {},
   "outputs": [
    {
     "data": {
      "text/plain": [
       "<matplotlib.lines.Line2D at 0x7fa776b9aac0>"
      ]
     },
     "execution_count": 61,
     "metadata": {},
     "output_type": "execute_result"
    },
    {
     "data": {
      "image/png": "[encoded data removed]",
      "text/plain": [
       "<Figure size 432x288 with 1 Axes>"
      ]
     },
     "metadata": {
      "needs_background": "light"
     },
     "output_type": "display_data"
    }
   ],
   "source": [
    "merged_table.query('tariff==\"smart\"')['number_of_messages'].plot(kind='hist',bins=15)\n",
    "plt.title('Количество смс, тариф \"Смарт\"')\n",
    "plt.axvline(x=50, color='red')"
   ]
  },
  {
   "cell_type": "markdown",
   "metadata": {},
   "source": [
    "Видим, что в тарифе Смарт смс отправляют немногие, \"средний\" потребитель за пределы лимита не выходят"
   ]
  },
  {
   "cell_type": "code",
   "execution_count": 62,
   "metadata": {},
   "outputs": [
    {
     "data": {
      "text/plain": [
       "<matplotlib.lines.Line2D at 0x7fa776b1ddc0>"
      ]
     },
     "execution_count": 62,
     "metadata": {},
     "output_type": "execute_result"
    },
    {
     "data": {
      "image/png": "[encoded data removed]",
      "text/plain": [
       "<Figure size 432x288 with 1 Axes>"
      ]
     },
     "metadata": {
      "needs_background": "light"
     },
     "output_type": "display_data"
    }
   ],
   "source": [
    "merged_table.query('tariff==\"ultra\"')['number_of_messages'].plot(kind='hist',bins=15)\n",
    "plt.title('Количество смс, тариф \"Ultra\"')\n",
    "plt.axvline(x=1000, color='red')"
   ]
  },
  {
   "cell_type": "markdown",
   "metadata": {},
   "source": [
    "Пользователи тарифа Ультра не намного больше пользуются смс, лимит в 1000 сообщений им явно не нужен"
   ]
  },
  {
   "cell_type": "markdown",
   "metadata": {},
   "source": [
    "Интернет трафик"
   ]
  },
  {
   "cell_type": "code",
   "execution_count": 63,
   "metadata": {},
   "outputs": [
    {
     "data": {
      "text/html": [
       "<style  type=\"text/css\" >\n",
       "</style><table id=\"T_d1865_\" ><thead>    <tr>        <th class=\"blank level0\" ></th>        <th class=\"col_heading level0 col0\" colspan=\"4\">gb_used</th>    </tr>    <tr>        <th class=\"blank level1\" ></th>        <th class=\"col_heading level1 col0\" >mean</th>        <th class=\"col_heading level1 col1\" >median</th>        <th class=\"col_heading level1 col2\" >var</th>        <th class=\"col_heading level1 col3\" >std</th>    </tr>    <tr>        <th class=\"index_name level0\" >tariff</th>        <th class=\"blank\" ></th>        <th class=\"blank\" ></th>        <th class=\"blank\" ></th>        <th class=\"blank\" ></th>    </tr></thead><tbody>\n",
       "                <tr>\n",
       "                        <th id=\"T_d1865_level0_row0\" class=\"row_heading level0 row0\" >smart</th>\n",
       "                        <td id=\"T_d1865_row0_col0\" class=\"data row0 col0\" >16.33</td>\n",
       "                        <td id=\"T_d1865_row0_col1\" class=\"data row0 col1\" >17.00</td>\n",
       "                        <td id=\"T_d1865_row0_col2\" class=\"data row0 col2\" >33.03</td>\n",
       "                        <td id=\"T_d1865_row0_col3\" class=\"data row0 col3\" >5.75</td>\n",
       "            </tr>\n",
       "            <tr>\n",
       "                        <th id=\"T_d1865_level0_row1\" class=\"row_heading level0 row1\" >ultra</th>\n",
       "                        <td id=\"T_d1865_row1_col0\" class=\"data row1 col0\" >19.49</td>\n",
       "                        <td id=\"T_d1865_row1_col1\" class=\"data row1 col1\" >19.00</td>\n",
       "                        <td id=\"T_d1865_row1_col2\" class=\"data row1 col2\" >97.09</td>\n",
       "                        <td id=\"T_d1865_row1_col3\" class=\"data row1 col3\" >9.85</td>\n",
       "            </tr>\n",
       "    </tbody></table>"
      ],
      "text/plain": [
       "<pandas.io.formats.style.Styler at 0x7fa776a7e880>"
      ]
     },
     "execution_count": 63,
     "metadata": {},
     "output_type": "execute_result"
    }
   ],
   "source": [
    "merged_table.groupby('tariff').agg({'gb_used':['mean','median','var','std']}).style.format('{:.2f}')"
   ]
  },
  {
   "cell_type": "code",
   "execution_count": 64,
   "metadata": {},
   "outputs": [
    {
     "data": {
      "text/plain": [
       "<matplotlib.lines.Line2D at 0x7fa776a2e070>"
      ]
     },
     "execution_count": 64,
     "metadata": {},
     "output_type": "execute_result"
    },
    {
     "data": {
      "image/png": "[encoded data removed]",
      "text/plain": [
       "<Figure size 432x288 with 1 Axes>"
      ]
     },
     "metadata": {
      "needs_background": "light"
     },
     "output_type": "display_data"
    }
   ],
   "source": [
    "merged_table.query('tariff==\"smart\"')['gb_used'].plot(kind='hist',bins=15)\n",
    "plt.title('Интернет-трафик, тариф \"Смарт\"')\n",
    "plt.axvline(x=15, color='red')"
   ]
  },
  {
   "cell_type": "code",
   "execution_count": 65,
   "metadata": {},
   "outputs": [
    {
     "data": {
      "text/plain": [
       "<matplotlib.lines.Line2D at 0x7fa7769aedc0>"
      ]
     },
     "execution_count": 65,
     "metadata": {},
     "output_type": "execute_result"
    },
    {
     "data": {
      "image/png": "[encoded data removed]",
      "text/plain": [
       "<Figure size 432x288 with 1 Axes>"
      ]
     },
     "metadata": {
      "needs_background": "light"
     },
     "output_type": "display_data"
    }
   ],
   "source": [
    "merged_table.query('tariff==\"ultra\"')['gb_used'].plot(kind='hist',bins=15)\n",
    "plt.title('Интернет-трафик, тариф \"Ultra\"')\n",
    "plt.axvline(x=30, color='red')"
   ]
  },
  {
   "cell_type": "markdown",
   "metadata": {},
   "source": [
    "Мы видим, что типичный пользователь тарифа \"Смарт\" более чем в 2 раза превышает включенный в абонентскую плату трафик\n",
    "Пользователь Ultra также заметно не укладывается в лимит"
   ]
  },
  {
   "cell_type": "markdown",
   "metadata": {},
   "source": [
    "<div class=\"alert alert-success\" style=\"border-radius: 15px; box-shadow: 4px 4px 4px; border: 1px solid \">\n",
    "<h2> Комментарий ревьюера 3 ✔️</h2>\n",
    "    \n",
    "Похоже, клиенты Ультра могут не думать об экономии :)\n",
    "</div>"
   ]
  },
  {
   "cell_type": "markdown",
   "metadata": {},
   "source": [
    "## 4. Проверьте гипотезы  \n",
    "   4.1 средняя выручка пользователей тарифов «Ультра» и «Смарт» различаются  \n",
    "   4.2 средняя выручка пользователей из Москвы отличается от выручки пользователей из других регионов  "
   ]
  },
  {
   "cell_type": "markdown",
   "metadata": {},
   "source": [
    "###    4.1 средняя выручка пользователей тарифов «Ультра» и «Смарт» различаются  "
   ]
  },
  {
   "cell_type": "code",
   "execution_count": 66,
   "metadata": {},
   "outputs": [],
   "source": [
    "mean_smart_revenue = merged_table.query('tariff==\"smart\"')['revenue'].mean()\n",
    "mean_smart_revenue\n",
    "sigma_smart_revenue = merged_table.query('tariff==\"smart\"')['revenue'].std()"
   ]
  },
  {
   "cell_type": "code",
   "execution_count": 67,
   "metadata": {},
   "outputs": [
    {
     "data": {
      "text/plain": [
       "count    2229.000000\n",
       "mean     1289.973531\n",
       "std       818.404367\n",
       "min       550.000000\n",
       "25%       550.000000\n",
       "50%      1023.000000\n",
       "75%      1750.000000\n",
       "max      6770.000000\n",
       "Name: revenue, dtype: float64"
      ]
     },
     "execution_count": 67,
     "metadata": {},
     "output_type": "execute_result"
    }
   ],
   "source": [
    "merged_table.query('tariff==\"smart\"')['revenue'].describe()"
   ]
  },
  {
   "cell_type": "code",
   "execution_count": 68,
   "metadata": {},
   "outputs": [
    {
     "data": {
      "text/plain": [
       "{'whiskers': [<matplotlib.lines.Line2D at 0x7fa77695c4c0>,\n",
       "  <matplotlib.lines.Line2D at 0x7fa77695c820>],\n",
       " 'caps': [<matplotlib.lines.Line2D at 0x7fa77695cb80>,\n",
       "  <matplotlib.lines.Line2D at 0x7fa77695cee0>],\n",
       " 'boxes': [<matplotlib.lines.Line2D at 0x7fa77695c160>],\n",
       " 'medians': [<matplotlib.lines.Line2D at 0x7fa7768e5280>],\n",
       " 'fliers': [<matplotlib.lines.Line2D at 0x7fa7768e55e0>],\n",
       " 'means': []}"
      ]
     },
     "execution_count": 68,
     "metadata": {},
     "output_type": "execute_result"
    },
    {
     "data": {
      "image/png": "[encoded data removed]",
      "text/plain": [
       "<Figure size 432x288 with 1 Axes>"
      ]
     },
     "metadata": {
      "needs_background": "light"
     },
     "output_type": "display_data"
    }
   ],
   "source": [
    "plt.boxplot(merged_table.query('tariff==\"smart\"')['revenue'])"
   ]
  },
  {
   "cell_type": "markdown",
   "metadata": {},
   "source": [
    "Перед статистическим анализом удалим все строки, значения которых > 3200 - это выбросы"
   ]
  },
  {
   "cell_type": "code",
   "execution_count": 69,
   "metadata": {},
   "outputs": [],
   "source": [
    "ready_for_analasys_smart = merged_table.query('tariff==\"smart\" and revenue < 3200')['revenue']"
   ]
  },
  {
   "cell_type": "code",
   "execution_count": 70,
   "metadata": {},
   "outputs": [
    {
     "data": {
      "text/plain": [
       "count    2168.000000\n",
       "mean     1216.824262\n",
       "std       690.653580\n",
       "min       550.000000\n",
       "25%       550.000000\n",
       "50%       986.000000\n",
       "75%      1683.000000\n",
       "max      3195.000000\n",
       "Name: revenue, dtype: float64"
      ]
     },
     "execution_count": 70,
     "metadata": {},
     "output_type": "execute_result"
    }
   ],
   "source": [
    "ready_for_analasys_smart.describe()"
   ]
  },
  {
   "cell_type": "code",
   "execution_count": 71,
   "metadata": {},
   "outputs": [
    {
     "data": {
      "text/plain": [
       "<AxesSubplot:ylabel='Frequency'>"
      ]
     },
     "execution_count": 71,
     "metadata": {},
     "output_type": "execute_result"
    },
    {
     "data": {
      "image/png": "[encoded data removed]",
      "text/plain": [
       "<Figure size 432x288 with 1 Axes>"
      ]
     },
     "metadata": {
      "needs_background": "light"
     },
     "output_type": "display_data"
    }
   ],
   "source": [
    "merged_table.query('tariff==\"ultra\"')['revenue'].plot(kind='hist')"
   ]
  },
  {
   "cell_type": "markdown",
   "metadata": {},
   "source": [
    "Перед статистическим анализом удалим все строки, значения которых > 3000 - это выбросы"
   ]
  },
  {
   "cell_type": "code",
   "execution_count": 72,
   "metadata": {},
   "outputs": [],
   "source": [
    "ready_for_analasys_ultra = merged_table.query('tariff==\"ultra\" and revenue < 3000')['revenue']"
   ]
  },
  {
   "cell_type": "code",
   "execution_count": 73,
   "metadata": {},
   "outputs": [
    {
     "data": {
      "text/plain": [
       "count     932.00000\n",
       "mean     1990.55794\n",
       "std       147.47029\n",
       "min      1950.00000\n",
       "25%      1950.00000\n",
       "50%      1950.00000\n",
       "75%      1950.00000\n",
       "max      2850.00000\n",
       "Name: revenue, dtype: float64"
      ]
     },
     "execution_count": 73,
     "metadata": {},
     "output_type": "execute_result"
    }
   ],
   "source": [
    "ready_for_analasys_ultra.describe()"
   ]
  },
  {
   "cell_type": "markdown",
   "metadata": {},
   "source": [
    "HO - средняя выручка пользователей \"Smart\" и \"Ultra\" одинаковая  \n",
    "\n",
    "H1 - средняя выручка пользователей \"Smart\" и \"Ultra\" разная"
   ]
  },
  {
   "cell_type": "code",
   "execution_count": 74,
   "metadata": {},
   "outputs": [
    {
     "name": "stdout",
     "output_type": "stream",
     "text": [
      "Отвергаем нулевую гипотезу, pvalue = 3.4537380498863872e-214\n"
     ]
    }
   ],
   "source": [
    "alpha = 0.05\n",
    "results = st.ttest_ind(ready_for_analasys_smart,ready_for_analasys_ultra)\n",
    "\n",
    "if results.pvalue < alpha:\n",
    "    print('Отвергаем нулевую гипотезу, pvalue =', results.pvalue)\n",
    "else:\n",
    "    print('Не можем отвергнуть нулевую гипотезу')"
   ]
  },
  {
   "cell_type": "markdown",
   "metadata": {},
   "source": [
    "**Вывод: Разница в средней выручке неслучайна**"
   ]
  },
  {
   "cell_type": "markdown",
   "metadata": {},
   "source": [
    "<div class=\"alert alert-success\" style=\"border-radius: 15px; box-shadow: 4px 4px 4px; border: 1px solid \">\n",
    "<h2> Комментарий ревьюера  3 ✔️</h2>\n",
    "    \n",
    "Ну да. Средняя месячная выручка бюджетного тарифа не дотягивает даже до абонентской платы дорогого тарифа.\n",
    "</div>"
   ]
  },
  {
   "cell_type": "markdown",
   "metadata": {},
   "source": [
    "### Проверяем гипотезу, о том, что средняя выручка пользователей из Москвы отличается от выручки пользователей из других регионов."
   ]
  },
  {
   "cell_type": "markdown",
   "metadata": {},
   "source": [
    "HO: средняя выручка в Москве равна выручке в других регионах  \n",
    "\n",
    "H1: средняя выручка в Москве отличается от выручки в других регионах"
   ]
  },
  {
   "cell_type": "code",
   "execution_count": 75,
   "metadata": {},
   "outputs": [],
   "source": [
    "rev_Moscow = merged_table.query('city==\"Москва\"')['revenue']\n",
    "rev_not_Moscow = merged_table.query('~(city==\"Москва\")')['revenue']"
   ]
  },
  {
   "cell_type": "code",
   "execution_count": 76,
   "metadata": {},
   "outputs": [
    {
     "data": {
      "text/plain": [
       "{'whiskers': [<matplotlib.lines.Line2D at 0x7fa77689f6d0>,\n",
       "  <matplotlib.lines.Line2D at 0x7fa77689fa30>],\n",
       " 'caps': [<matplotlib.lines.Line2D at 0x7fa77689fd90>,\n",
       "  <matplotlib.lines.Line2D at 0x7fa77682c130>],\n",
       " 'boxes': [<matplotlib.lines.Line2D at 0x7fa77689f340>],\n",
       " 'medians': [<matplotlib.lines.Line2D at 0x7fa77682c490>],\n",
       " 'fliers': [<matplotlib.lines.Line2D at 0x7fa77682c7f0>],\n",
       " 'means': []}"
      ]
     },
     "execution_count": 76,
     "metadata": {},
     "output_type": "execute_result"
    },
    {
     "data": {
      "image/png": "[encoded data removed]",
      "text/plain": [
       "<Figure size 432x288 with 1 Axes>"
      ]
     },
     "metadata": {
      "needs_background": "light"
     },
     "output_type": "display_data"
    }
   ],
   "source": [
    "plt.boxplot(rev_Moscow)"
   ]
  },
  {
   "cell_type": "code",
   "execution_count": 77,
   "metadata": {},
   "outputs": [
    {
     "data": {
      "text/plain": [
       "{'whiskers': [<matplotlib.lines.Line2D at 0x7fa7767fa700>,\n",
       "  <matplotlib.lines.Line2D at 0x7fa7767faa60>],\n",
       " 'caps': [<matplotlib.lines.Line2D at 0x7fa7767fadc0>,\n",
       "  <matplotlib.lines.Line2D at 0x7fa776807160>],\n",
       " 'boxes': [<matplotlib.lines.Line2D at 0x7fa7767fa370>],\n",
       " 'medians': [<matplotlib.lines.Line2D at 0x7fa7768074c0>],\n",
       " 'fliers': [<matplotlib.lines.Line2D at 0x7fa776807820>],\n",
       " 'means': []}"
      ]
     },
     "execution_count": 77,
     "metadata": {},
     "output_type": "execute_result"
    },
    {
     "data": {
      "image/png": "[encoded data removed]",
      "text/plain": [
       "<Figure size 432x288 with 1 Axes>"
      ]
     },
     "metadata": {
      "needs_background": "light"
     },
     "output_type": "display_data"
    }
   ],
   "source": [
    "plt.boxplot(rev_not_Moscow)"
   ]
  },
  {
   "cell_type": "markdown",
   "metadata": {},
   "source": [
    "Очистим данные от аутлаеров: не будем рассматривать выручу выше 3700 и 3600 р/месяц соответственно"
   ]
  },
  {
   "cell_type": "code",
   "execution_count": 78,
   "metadata": {},
   "outputs": [],
   "source": [
    "ready_for_anal_moscow = merged_table.query('city==\"Москва\" and revenue < 3700')['revenue']\n",
    "ready_for_anal_not_moscow = merged_table.query('~(city==\"Москва\") and revenue < 3600')['revenue']"
   ]
  },
  {
   "cell_type": "code",
   "execution_count": 79,
   "metadata": {},
   "outputs": [
    {
     "data": {
      "image/png": "[encoded data removed]",
      "text/plain": [
       "<Figure size 432x288 with 1 Axes>"
      ]
     },
     "metadata": {
      "needs_background": "light"
     },
     "output_type": "display_data"
    }
   ],
   "source": [
    "ready_for_anal_moscow.hist(alpha=0.5)\n",
    "ready_for_anal_not_moscow.hist(alpha=0.3)\n",
    "plt.axvline(x=ready_for_anal_moscow.mean(), color='blue')\n",
    "plt.axvline(x=ready_for_anal_not_moscow.mean(), color = 'green')\n",
    "plt.show()"
   ]
  },
  {
   "cell_type": "code",
   "execution_count": 80,
   "metadata": {},
   "outputs": [
    {
     "data": {
      "text/plain": [
       "count     606.000000\n",
       "mean     1524.595710\n",
       "std       712.621105\n",
       "min       550.000000\n",
       "25%       757.500000\n",
       "50%      1750.000000\n",
       "75%      1950.000000\n",
       "max      3450.000000\n",
       "Name: revenue, dtype: float64"
      ]
     },
     "execution_count": 80,
     "metadata": {},
     "output_type": "execute_result"
    }
   ],
   "source": [
    "ready_for_anal_moscow.describe()"
   ]
  },
  {
   "cell_type": "code",
   "execution_count": 81,
   "metadata": {},
   "outputs": [
    {
     "data": {
      "text/plain": [
       "count    2557.000000\n",
       "mean     1476.646461\n",
       "std       725.008228\n",
       "min       550.000000\n",
       "25%       750.000000\n",
       "50%      1550.000000\n",
       "75%      1950.000000\n",
       "max      3584.000000\n",
       "Name: revenue, dtype: float64"
      ]
     },
     "execution_count": 81,
     "metadata": {},
     "output_type": "execute_result"
    }
   ],
   "source": [
    "ready_for_anal_not_moscow.describe()"
   ]
  },
  {
   "cell_type": "code",
   "execution_count": 82,
   "metadata": {},
   "outputs": [
    {
     "name": "stdout",
     "output_type": "stream",
     "text": [
      "Не можем отвергнуть нулевую гипотезу, pvalue 0.14204076268801386\n"
     ]
    }
   ],
   "source": [
    "alpha = 0.05\n",
    "results = st.ttest_ind(ready_for_anal_moscow,ready_for_anal_not_moscow)\n",
    "if results.pvalue < alpha:\n",
    "    print(\"Отвергаем нулевую гипотезу, pvalue =\", results.pvalue)\n",
    "else:\n",
    "    print(\"Не можем отвергнуть нулевую гипотезу, pvalue\", results.pvalue)"
   ]
  },
  {
   "cell_type": "markdown",
   "metadata": {},
   "source": [
    "## 5. общий вывод  "
   ]
  },
  {
   "cell_type": "markdown",
   "metadata": {},
   "source": [
    "Проанализировав данные по 2 тарифам можно сделать следующие выводы:\n",
    "- Пользователи обоих тарифов не пользуются СМС сообщениями\n",
    "- Пользователи обоих тарифов в среднем не выходят за лимит включенных минут, количество включенных минут в тарифе Ультра намного превышает потребности клиентов\n",
    "- Пользователи обоих тарифов не укладываются в лимит интернета - это самая важная часть тарифа для потребителей, работа с интернет трафиком наиболее ценная для бизнеса\n",
    "- Выручка от каждого из тарфов в среднем различна - это разные сегменты\n",
    "- Нет значимых различий в средней выручке в Москве и регионах"
   ]
  },
  {
   "cell_type": "markdown",
   "metadata": {},
   "source": [
    "<span style='color:Blue'>* Данные тарифы расчитаны на разную аудиторию, на разные сегменты клиентов, нельзя сказать, какой из них лучше.  Проведенный анализ действий пользователей позволяет рекоммендовать бизнесу внести в тарифы корректировки: \n",
    " - уменьшить количество влкюченных СМС - ими никто не пользуется,\n",
    " - подумать над различными опциями включенного интернет трафика - это наиболее важная часть обоих тарифов "
   ]
  },
  {
   "cell_type": "markdown",
   "metadata": {},
   "source": [
    "<div class=\"alert alert-success\" style=\"border-radius: 15px; box-shadow: 4px 4px 4px; border: 1px solid \">\n",
    "<h2> Комментарий ревьюера 3 ✔️</h2>\n",
    "    \n",
    "Соглашусь, однозначно тут трудно ответить. Я бы так сказала: Смарт более популырный, а Ультра более выгодный, потому что в среднем больше приносит.</div>\n",
    "<div class=\"alert alert-danger\" style=\"border-radius: 15px; box-shadow: 4px 4px 4px; border: 1px solid \">\n",
    "<b> Комментарий ревьюера  ❌</b>\n",
    "    \n",
    "В итоге как мы ответим на главный вопрос задачи?\n",
    "\n",
    "> Нужно проанализировать поведение клиентов и сделать вывод — какой тариф лучше.</div>"
   ]
  }
 ],
 "metadata": {
  "ExecuteTimeLog": [
   {
    "duration": 1042,
    "start_time": "2022-04-07T19:25:14.287Z"
   },
   {
    "duration": 386,
    "start_time": "2022-04-07T19:25:15.331Z"
   },
   {
    "duration": 0,
    "start_time": "2022-04-07T19:25:15.720Z"
   },
   {
    "duration": 0,
    "start_time": "2022-04-07T19:25:15.721Z"
   },
   {
    "duration": 0,
    "start_time": "2022-04-07T19:25:15.722Z"
   },
   {
    "duration": 0,
    "start_time": "2022-04-07T19:25:15.723Z"
   },
   {
    "duration": 0,
    "start_time": "2022-04-07T19:25:15.724Z"
   },
   {
    "duration": 0,
    "start_time": "2022-04-07T19:25:15.725Z"
   },
   {
    "duration": 0,
    "start_time": "2022-04-07T19:25:15.726Z"
   },
   {
    "duration": 0,
    "start_time": "2022-04-07T19:25:15.726Z"
   },
   {
    "duration": 0,
    "start_time": "2022-04-07T19:25:15.727Z"
   },
   {
    "duration": 0,
    "start_time": "2022-04-07T19:25:15.729Z"
   },
   {
    "duration": 0,
    "start_time": "2022-04-07T19:25:15.730Z"
   },
   {
    "duration": 0,
    "start_time": "2022-04-07T19:25:15.730Z"
   },
   {
    "duration": 0,
    "start_time": "2022-04-07T19:25:15.731Z"
   },
   {
    "duration": 0,
    "start_time": "2022-04-07T19:25:15.732Z"
   },
   {
    "duration": 0,
    "start_time": "2022-04-07T19:25:15.733Z"
   },
   {
    "duration": 0,
    "start_time": "2022-04-07T19:25:15.734Z"
   },
   {
    "duration": 0,
    "start_time": "2022-04-07T19:25:15.735Z"
   },
   {
    "duration": 0,
    "start_time": "2022-04-07T19:25:15.736Z"
   },
   {
    "duration": 1,
    "start_time": "2022-04-07T19:25:15.736Z"
   },
   {
    "duration": 0,
    "start_time": "2022-04-07T19:25:15.737Z"
   },
   {
    "duration": 0,
    "start_time": "2022-04-07T19:25:15.738Z"
   },
   {
    "duration": 0,
    "start_time": "2022-04-07T19:25:15.739Z"
   },
   {
    "duration": 0,
    "start_time": "2022-04-07T19:25:15.740Z"
   },
   {
    "duration": 0,
    "start_time": "2022-04-07T19:25:15.741Z"
   },
   {
    "duration": 0,
    "start_time": "2022-04-07T19:25:15.742Z"
   },
   {
    "duration": 0,
    "start_time": "2022-04-07T19:25:15.743Z"
   },
   {
    "duration": 0,
    "start_time": "2022-04-07T19:25:15.744Z"
   },
   {
    "duration": 0,
    "start_time": "2022-04-07T19:25:15.744Z"
   },
   {
    "duration": 0,
    "start_time": "2022-04-07T19:25:15.745Z"
   },
   {
    "duration": 0,
    "start_time": "2022-04-07T19:25:15.746Z"
   },
   {
    "duration": 0,
    "start_time": "2022-04-07T19:25:15.747Z"
   },
   {
    "duration": 0,
    "start_time": "2022-04-07T19:25:15.748Z"
   },
   {
    "duration": 0,
    "start_time": "2022-04-07T19:25:15.749Z"
   },
   {
    "duration": 0,
    "start_time": "2022-04-07T19:25:15.750Z"
   },
   {
    "duration": 0,
    "start_time": "2022-04-07T19:25:15.751Z"
   },
   {
    "duration": 0,
    "start_time": "2022-04-07T19:25:15.752Z"
   },
   {
    "duration": 0,
    "start_time": "2022-04-07T19:25:15.753Z"
   },
   {
    "duration": 0,
    "start_time": "2022-04-07T19:25:15.754Z"
   },
   {
    "duration": 0,
    "start_time": "2022-04-07T19:25:15.754Z"
   },
   {
    "duration": 0,
    "start_time": "2022-04-07T19:25:15.755Z"
   },
   {
    "duration": 0,
    "start_time": "2022-04-07T19:25:15.756Z"
   },
   {
    "duration": 0,
    "start_time": "2022-04-07T19:25:15.757Z"
   },
   {
    "duration": 0,
    "start_time": "2022-04-07T19:25:15.759Z"
   },
   {
    "duration": 0,
    "start_time": "2022-04-07T19:25:15.760Z"
   },
   {
    "duration": 0,
    "start_time": "2022-04-07T19:25:15.761Z"
   },
   {
    "duration": 0,
    "start_time": "2022-04-07T19:25:15.762Z"
   },
   {
    "duration": 0,
    "start_time": "2022-04-07T19:25:15.763Z"
   },
   {
    "duration": 0,
    "start_time": "2022-04-07T19:25:15.764Z"
   },
   {
    "duration": 0,
    "start_time": "2022-04-07T19:25:15.765Z"
   },
   {
    "duration": 0,
    "start_time": "2022-04-07T19:25:15.766Z"
   },
   {
    "duration": 0,
    "start_time": "2022-04-07T19:25:15.766Z"
   },
   {
    "duration": 0,
    "start_time": "2022-04-07T19:25:15.767Z"
   },
   {
    "duration": 0,
    "start_time": "2022-04-07T19:25:15.829Z"
   },
   {
    "duration": 0,
    "start_time": "2022-04-07T19:25:15.831Z"
   },
   {
    "duration": 0,
    "start_time": "2022-04-07T19:25:15.832Z"
   },
   {
    "duration": 0,
    "start_time": "2022-04-07T19:25:15.833Z"
   },
   {
    "duration": 0,
    "start_time": "2022-04-07T19:25:15.833Z"
   },
   {
    "duration": 0,
    "start_time": "2022-04-07T19:25:15.834Z"
   },
   {
    "duration": 0,
    "start_time": "2022-04-07T19:25:15.835Z"
   },
   {
    "duration": 0,
    "start_time": "2022-04-07T19:25:15.836Z"
   },
   {
    "duration": 0,
    "start_time": "2022-04-07T19:25:15.838Z"
   },
   {
    "duration": 0,
    "start_time": "2022-04-07T19:25:15.838Z"
   },
   {
    "duration": 0,
    "start_time": "2022-04-07T19:25:15.839Z"
   },
   {
    "duration": 0,
    "start_time": "2022-04-07T19:25:15.840Z"
   },
   {
    "duration": 0,
    "start_time": "2022-04-07T19:25:15.841Z"
   },
   {
    "duration": 0,
    "start_time": "2022-04-07T19:25:15.842Z"
   },
   {
    "duration": 0,
    "start_time": "2022-04-07T19:25:15.843Z"
   },
   {
    "duration": 0,
    "start_time": "2022-04-07T19:25:15.844Z"
   },
   {
    "duration": 0,
    "start_time": "2022-04-07T19:25:15.845Z"
   },
   {
    "duration": 0,
    "start_time": "2022-04-07T19:25:15.846Z"
   },
   {
    "duration": 0,
    "start_time": "2022-04-07T19:25:15.847Z"
   },
   {
    "duration": 0,
    "start_time": "2022-04-07T19:25:15.847Z"
   },
   {
    "duration": 0,
    "start_time": "2022-04-07T19:25:15.848Z"
   },
   {
    "duration": 0,
    "start_time": "2022-04-07T19:25:15.849Z"
   },
   {
    "duration": 0,
    "start_time": "2022-04-07T19:25:15.850Z"
   },
   {
    "duration": 0,
    "start_time": "2022-04-07T19:25:15.851Z"
   },
   {
    "duration": 0,
    "start_time": "2022-04-07T19:25:15.852Z"
   },
   {
    "duration": 0,
    "start_time": "2022-04-07T19:25:15.853Z"
   },
   {
    "duration": 0,
    "start_time": "2022-04-07T19:25:15.853Z"
   },
   {
    "duration": 0,
    "start_time": "2022-04-07T19:25:15.854Z"
   },
   {
    "duration": 0,
    "start_time": "2022-04-07T19:25:15.855Z"
   },
   {
    "duration": 12,
    "start_time": "2022-04-07T19:37:24.607Z"
   },
   {
    "duration": 22,
    "start_time": "2022-04-07T19:37:25.337Z"
   },
   {
    "duration": 33,
    "start_time": "2022-04-07T19:37:25.497Z"
   },
   {
    "duration": 9,
    "start_time": "2022-04-07T19:39:35.979Z"
   },
   {
    "duration": 17,
    "start_time": "2022-04-07T19:39:36.238Z"
   },
   {
    "duration": 7,
    "start_time": "2022-04-07T19:41:15.949Z"
   },
   {
    "duration": 23,
    "start_time": "2022-04-07T19:41:15.958Z"
   },
   {
    "duration": 47,
    "start_time": "2022-04-07T19:41:15.983Z"
   },
   {
    "duration": 30,
    "start_time": "2022-04-07T19:41:16.032Z"
   },
   {
    "duration": 101,
    "start_time": "2022-04-07T19:41:16.064Z"
   },
   {
    "duration": 66,
    "start_time": "2022-04-07T19:41:16.167Z"
   },
   {
    "duration": 9,
    "start_time": "2022-04-07T19:41:16.235Z"
   },
   {
    "duration": 14,
    "start_time": "2022-04-07T19:41:16.245Z"
   },
   {
    "duration": 4,
    "start_time": "2022-04-07T19:41:16.260Z"
   },
   {
    "duration": 4,
    "start_time": "2022-04-07T19:41:16.267Z"
   },
   {
    "duration": 11,
    "start_time": "2022-04-07T19:41:16.273Z"
   },
   {
    "duration": 5,
    "start_time": "2022-04-07T19:41:16.286Z"
   },
   {
    "duration": 45,
    "start_time": "2022-04-07T19:41:16.292Z"
   },
   {
    "duration": 18,
    "start_time": "2022-04-07T19:41:16.339Z"
   },
   {
    "duration": 23,
    "start_time": "2022-04-07T19:41:16.359Z"
   },
   {
    "duration": 6,
    "start_time": "2022-04-07T19:41:16.384Z"
   },
   {
    "duration": 38,
    "start_time": "2022-04-07T19:41:16.391Z"
   },
   {
    "duration": 18,
    "start_time": "2022-04-07T19:41:16.431Z"
   },
   {
    "duration": 7,
    "start_time": "2022-04-07T19:41:16.451Z"
   },
   {
    "duration": 22,
    "start_time": "2022-04-07T19:41:16.460Z"
   },
   {
    "duration": 3,
    "start_time": "2022-04-07T19:41:16.484Z"
   },
   {
    "duration": 62,
    "start_time": "2022-04-07T19:41:16.489Z"
   },
   {
    "duration": 19,
    "start_time": "2022-04-07T19:41:16.553Z"
   },
   {
    "duration": 16,
    "start_time": "2022-04-07T19:41:16.573Z"
   },
   {
    "duration": 45,
    "start_time": "2022-04-07T19:41:16.591Z"
   },
   {
    "duration": 10,
    "start_time": "2022-04-07T19:41:16.638Z"
   },
   {
    "duration": 36,
    "start_time": "2022-04-07T19:41:16.649Z"
   },
   {
    "duration": 41,
    "start_time": "2022-04-07T19:41:16.688Z"
   },
   {
    "duration": 0,
    "start_time": "2022-04-07T19:41:16.731Z"
   },
   {
    "duration": 0,
    "start_time": "2022-04-07T19:41:16.732Z"
   },
   {
    "duration": 0,
    "start_time": "2022-04-07T19:41:16.733Z"
   },
   {
    "duration": 0,
    "start_time": "2022-04-07T19:41:16.734Z"
   },
   {
    "duration": 0,
    "start_time": "2022-04-07T19:41:16.735Z"
   },
   {
    "duration": 0,
    "start_time": "2022-04-07T19:41:16.736Z"
   },
   {
    "duration": 0,
    "start_time": "2022-04-07T19:41:16.737Z"
   },
   {
    "duration": 0,
    "start_time": "2022-04-07T19:41:16.737Z"
   },
   {
    "duration": 0,
    "start_time": "2022-04-07T19:41:16.738Z"
   },
   {
    "duration": 0,
    "start_time": "2022-04-07T19:41:16.739Z"
   },
   {
    "duration": 0,
    "start_time": "2022-04-07T19:41:16.740Z"
   },
   {
    "duration": 0,
    "start_time": "2022-04-07T19:41:16.741Z"
   },
   {
    "duration": 0,
    "start_time": "2022-04-07T19:41:16.742Z"
   },
   {
    "duration": 0,
    "start_time": "2022-04-07T19:41:16.743Z"
   },
   {
    "duration": 0,
    "start_time": "2022-04-07T19:41:16.744Z"
   },
   {
    "duration": 0,
    "start_time": "2022-04-07T19:41:16.745Z"
   },
   {
    "duration": 0,
    "start_time": "2022-04-07T19:41:16.746Z"
   },
   {
    "duration": 0,
    "start_time": "2022-04-07T19:41:16.746Z"
   },
   {
    "duration": 0,
    "start_time": "2022-04-07T19:41:16.747Z"
   },
   {
    "duration": 0,
    "start_time": "2022-04-07T19:41:16.748Z"
   },
   {
    "duration": 0,
    "start_time": "2022-04-07T19:41:16.749Z"
   },
   {
    "duration": 0,
    "start_time": "2022-04-07T19:41:16.750Z"
   },
   {
    "duration": 0,
    "start_time": "2022-04-07T19:41:16.751Z"
   },
   {
    "duration": 0,
    "start_time": "2022-04-07T19:41:16.754Z"
   },
   {
    "duration": 0,
    "start_time": "2022-04-07T19:41:16.755Z"
   },
   {
    "duration": 0,
    "start_time": "2022-04-07T19:41:16.755Z"
   },
   {
    "duration": 0,
    "start_time": "2022-04-07T19:41:16.756Z"
   },
   {
    "duration": 0,
    "start_time": "2022-04-07T19:41:16.757Z"
   },
   {
    "duration": 0,
    "start_time": "2022-04-07T19:41:16.758Z"
   },
   {
    "duration": 0,
    "start_time": "2022-04-07T19:41:16.759Z"
   },
   {
    "duration": 0,
    "start_time": "2022-04-07T19:41:16.760Z"
   },
   {
    "duration": 0,
    "start_time": "2022-04-07T19:41:16.761Z"
   },
   {
    "duration": 0,
    "start_time": "2022-04-07T19:41:16.762Z"
   },
   {
    "duration": 0,
    "start_time": "2022-04-07T19:41:16.762Z"
   },
   {
    "duration": 0,
    "start_time": "2022-04-07T19:41:16.763Z"
   },
   {
    "duration": 0,
    "start_time": "2022-04-07T19:41:16.764Z"
   },
   {
    "duration": 0,
    "start_time": "2022-04-07T19:41:16.765Z"
   },
   {
    "duration": 0,
    "start_time": "2022-04-07T19:41:16.766Z"
   },
   {
    "duration": 0,
    "start_time": "2022-04-07T19:41:16.767Z"
   },
   {
    "duration": 0,
    "start_time": "2022-04-07T19:41:16.768Z"
   },
   {
    "duration": 0,
    "start_time": "2022-04-07T19:41:16.768Z"
   },
   {
    "duration": 0,
    "start_time": "2022-04-07T19:41:16.769Z"
   },
   {
    "duration": 0,
    "start_time": "2022-04-07T19:41:16.770Z"
   },
   {
    "duration": 0,
    "start_time": "2022-04-07T19:41:16.771Z"
   },
   {
    "duration": 0,
    "start_time": "2022-04-07T19:41:16.772Z"
   },
   {
    "duration": 0,
    "start_time": "2022-04-07T19:41:16.830Z"
   },
   {
    "duration": 0,
    "start_time": "2022-04-07T19:41:16.831Z"
   },
   {
    "duration": 0,
    "start_time": "2022-04-07T19:41:16.832Z"
   },
   {
    "duration": 0,
    "start_time": "2022-04-07T19:41:16.832Z"
   },
   {
    "duration": 0,
    "start_time": "2022-04-07T19:41:16.833Z"
   },
   {
    "duration": 0,
    "start_time": "2022-04-07T19:41:16.834Z"
   },
   {
    "duration": 0,
    "start_time": "2022-04-07T19:41:16.835Z"
   },
   {
    "duration": 0,
    "start_time": "2022-04-07T19:41:16.836Z"
   },
   {
    "duration": 10,
    "start_time": "2022-04-07T19:41:26.440Z"
   },
   {
    "duration": 58,
    "start_time": "2022-04-07T19:41:26.947Z"
   },
   {
    "duration": 39,
    "start_time": "2022-04-07T19:41:27.337Z"
   },
   {
    "duration": 38,
    "start_time": "2022-04-07T19:41:36.781Z"
   },
   {
    "duration": 24,
    "start_time": "2022-04-07T19:41:36.954Z"
   },
   {
    "duration": 4,
    "start_time": "2022-04-07T19:41:37.234Z"
   },
   {
    "duration": 70,
    "start_time": "2022-04-07T19:41:38.387Z"
   },
   {
    "duration": 40,
    "start_time": "2022-04-07T19:41:38.459Z"
   },
   {
    "duration": 10,
    "start_time": "2022-04-07T19:41:38.501Z"
   },
   {
    "duration": 25,
    "start_time": "2022-04-07T19:41:38.529Z"
   },
   {
    "duration": 0,
    "start_time": "2022-04-07T19:41:38.556Z"
   },
   {
    "duration": 0,
    "start_time": "2022-04-07T19:41:38.558Z"
   },
   {
    "duration": 9,
    "start_time": "2022-04-07T19:41:38.674Z"
   },
   {
    "duration": 10,
    "start_time": "2022-04-07T19:41:38.848Z"
   },
   {
    "duration": 29,
    "start_time": "2022-04-07T19:41:54.407Z"
   },
   {
    "duration": 10,
    "start_time": "2022-04-07T19:42:51.224Z"
   },
   {
    "duration": 5,
    "start_time": "2022-04-07T19:42:51.629Z"
   },
   {
    "duration": 1148,
    "start_time": "2022-04-10T07:48:44.691Z"
   },
   {
    "duration": 101,
    "start_time": "2022-04-10T07:48:45.841Z"
   },
   {
    "duration": 0,
    "start_time": "2022-04-10T07:48:45.946Z"
   },
   {
    "duration": 0,
    "start_time": "2022-04-10T07:48:45.947Z"
   },
   {
    "duration": 0,
    "start_time": "2022-04-10T07:48:45.948Z"
   },
   {
    "duration": 0,
    "start_time": "2022-04-10T07:48:45.949Z"
   },
   {
    "duration": 0,
    "start_time": "2022-04-10T07:48:45.951Z"
   },
   {
    "duration": 0,
    "start_time": "2022-04-10T07:48:45.952Z"
   },
   {
    "duration": 0,
    "start_time": "2022-04-10T07:48:45.953Z"
   },
   {
    "duration": 0,
    "start_time": "2022-04-10T07:48:45.954Z"
   },
   {
    "duration": 0,
    "start_time": "2022-04-10T07:48:45.956Z"
   },
   {
    "duration": 0,
    "start_time": "2022-04-10T07:48:45.957Z"
   },
   {
    "duration": 0,
    "start_time": "2022-04-10T07:48:45.959Z"
   },
   {
    "duration": 0,
    "start_time": "2022-04-10T07:48:45.960Z"
   },
   {
    "duration": 0,
    "start_time": "2022-04-10T07:48:45.961Z"
   },
   {
    "duration": 0,
    "start_time": "2022-04-10T07:48:45.962Z"
   },
   {
    "duration": 0,
    "start_time": "2022-04-10T07:48:45.964Z"
   },
   {
    "duration": 0,
    "start_time": "2022-04-10T07:48:46.001Z"
   },
   {
    "duration": 0,
    "start_time": "2022-04-10T07:48:46.002Z"
   },
   {
    "duration": 0,
    "start_time": "2022-04-10T07:48:46.004Z"
   },
   {
    "duration": 0,
    "start_time": "2022-04-10T07:48:46.005Z"
   },
   {
    "duration": 0,
    "start_time": "2022-04-10T07:48:46.007Z"
   },
   {
    "duration": 0,
    "start_time": "2022-04-10T07:48:46.008Z"
   },
   {
    "duration": 0,
    "start_time": "2022-04-10T07:48:46.009Z"
   },
   {
    "duration": 0,
    "start_time": "2022-04-10T07:48:46.011Z"
   },
   {
    "duration": 0,
    "start_time": "2022-04-10T07:48:46.012Z"
   },
   {
    "duration": 0,
    "start_time": "2022-04-10T07:48:46.013Z"
   },
   {
    "duration": 0,
    "start_time": "2022-04-10T07:48:46.014Z"
   },
   {
    "duration": 0,
    "start_time": "2022-04-10T07:48:46.016Z"
   },
   {
    "duration": 0,
    "start_time": "2022-04-10T07:48:46.017Z"
   },
   {
    "duration": 1,
    "start_time": "2022-04-10T07:48:46.018Z"
   },
   {
    "duration": 0,
    "start_time": "2022-04-10T07:48:46.020Z"
   },
   {
    "duration": 0,
    "start_time": "2022-04-10T07:48:46.021Z"
   },
   {
    "duration": 0,
    "start_time": "2022-04-10T07:48:46.023Z"
   },
   {
    "duration": 0,
    "start_time": "2022-04-10T07:48:46.024Z"
   },
   {
    "duration": 0,
    "start_time": "2022-04-10T07:48:46.025Z"
   },
   {
    "duration": 0,
    "start_time": "2022-04-10T07:48:46.027Z"
   },
   {
    "duration": 0,
    "start_time": "2022-04-10T07:48:46.028Z"
   },
   {
    "duration": 0,
    "start_time": "2022-04-10T07:48:46.029Z"
   },
   {
    "duration": 0,
    "start_time": "2022-04-10T07:48:46.031Z"
   },
   {
    "duration": 0,
    "start_time": "2022-04-10T07:48:46.032Z"
   },
   {
    "duration": 0,
    "start_time": "2022-04-10T07:48:46.034Z"
   },
   {
    "duration": 0,
    "start_time": "2022-04-10T07:48:46.035Z"
   },
   {
    "duration": 1,
    "start_time": "2022-04-10T07:48:46.036Z"
   },
   {
    "duration": 0,
    "start_time": "2022-04-10T07:48:46.038Z"
   },
   {
    "duration": 0,
    "start_time": "2022-04-10T07:48:46.039Z"
   },
   {
    "duration": 0,
    "start_time": "2022-04-10T07:48:46.101Z"
   },
   {
    "duration": 0,
    "start_time": "2022-04-10T07:48:46.103Z"
   },
   {
    "duration": 0,
    "start_time": "2022-04-10T07:48:46.104Z"
   },
   {
    "duration": 0,
    "start_time": "2022-04-10T07:48:46.105Z"
   },
   {
    "duration": 0,
    "start_time": "2022-04-10T07:48:46.107Z"
   },
   {
    "duration": 0,
    "start_time": "2022-04-10T07:48:46.108Z"
   },
   {
    "duration": 0,
    "start_time": "2022-04-10T07:48:46.110Z"
   },
   {
    "duration": 0,
    "start_time": "2022-04-10T07:48:46.111Z"
   },
   {
    "duration": 0,
    "start_time": "2022-04-10T07:48:46.112Z"
   },
   {
    "duration": 0,
    "start_time": "2022-04-10T07:48:46.114Z"
   },
   {
    "duration": 0,
    "start_time": "2022-04-10T07:48:46.115Z"
   },
   {
    "duration": 0,
    "start_time": "2022-04-10T07:48:46.116Z"
   },
   {
    "duration": 0,
    "start_time": "2022-04-10T07:48:46.118Z"
   },
   {
    "duration": 0,
    "start_time": "2022-04-10T07:48:46.119Z"
   },
   {
    "duration": 0,
    "start_time": "2022-04-10T07:48:46.120Z"
   },
   {
    "duration": 0,
    "start_time": "2022-04-10T07:48:46.121Z"
   },
   {
    "duration": 0,
    "start_time": "2022-04-10T07:48:46.123Z"
   },
   {
    "duration": 0,
    "start_time": "2022-04-10T07:48:46.124Z"
   },
   {
    "duration": 0,
    "start_time": "2022-04-10T07:48:46.125Z"
   },
   {
    "duration": 0,
    "start_time": "2022-04-10T07:48:46.127Z"
   },
   {
    "duration": 0,
    "start_time": "2022-04-10T07:48:46.128Z"
   },
   {
    "duration": 0,
    "start_time": "2022-04-10T07:48:46.129Z"
   },
   {
    "duration": 0,
    "start_time": "2022-04-10T07:48:46.132Z"
   },
   {
    "duration": 0,
    "start_time": "2022-04-10T07:48:46.134Z"
   },
   {
    "duration": 0,
    "start_time": "2022-04-10T07:48:46.135Z"
   },
   {
    "duration": 0,
    "start_time": "2022-04-10T07:48:46.137Z"
   },
   {
    "duration": 0,
    "start_time": "2022-04-10T07:48:46.138Z"
   },
   {
    "duration": 0,
    "start_time": "2022-04-10T07:48:46.139Z"
   },
   {
    "duration": 1,
    "start_time": "2022-04-10T07:48:46.140Z"
   },
   {
    "duration": 0,
    "start_time": "2022-04-10T07:48:46.141Z"
   },
   {
    "duration": 0,
    "start_time": "2022-04-10T07:48:46.201Z"
   },
   {
    "duration": 0,
    "start_time": "2022-04-10T07:48:46.202Z"
   },
   {
    "duration": 0,
    "start_time": "2022-04-10T07:48:46.203Z"
   },
   {
    "duration": 0,
    "start_time": "2022-04-10T07:48:46.205Z"
   },
   {
    "duration": 0,
    "start_time": "2022-04-10T07:48:46.206Z"
   },
   {
    "duration": 0,
    "start_time": "2022-04-10T07:48:46.207Z"
   },
   {
    "duration": 50,
    "start_time": "2022-04-10T09:50:51.719Z"
   },
   {
    "duration": 1360,
    "start_time": "2022-04-10T09:51:05.554Z"
   },
   {
    "duration": 132,
    "start_time": "2022-04-10T09:51:09.007Z"
   },
   {
    "duration": 573,
    "start_time": "2022-04-10T09:52:57.728Z"
   },
   {
    "duration": 446,
    "start_time": "2022-04-10T09:53:09.687Z"
   },
   {
    "duration": 14,
    "start_time": "2022-04-10T09:53:12.118Z"
   },
   {
    "duration": 31,
    "start_time": "2022-04-10T09:53:12.806Z"
   },
   {
    "duration": 29,
    "start_time": "2022-04-10T09:53:13.345Z"
   },
   {
    "duration": 34,
    "start_time": "2022-04-10T09:53:14.369Z"
   },
   {
    "duration": 101,
    "start_time": "2022-04-10T09:53:15.368Z"
   },
   {
    "duration": 67,
    "start_time": "2022-04-10T09:53:16.823Z"
   },
   {
    "duration": 12,
    "start_time": "2022-04-10T09:53:17.754Z"
   },
   {
    "duration": 16,
    "start_time": "2022-04-10T09:53:18.261Z"
   },
   {
    "duration": 8,
    "start_time": "2022-04-10T09:53:23.795Z"
   },
   {
    "duration": 13,
    "start_time": "2022-04-10T09:53:24.369Z"
   },
   {
    "duration": 7,
    "start_time": "2022-04-10T09:53:30.466Z"
   },
   {
    "duration": 16,
    "start_time": "2022-04-10T09:53:36.384Z"
   },
   {
    "duration": 7,
    "start_time": "2022-04-10T09:53:39.455Z"
   },
   {
    "duration": 9,
    "start_time": "2022-04-10T09:53:39.895Z"
   },
   {
    "duration": 23,
    "start_time": "2022-04-10T09:53:40.097Z"
   },
   {
    "duration": 29,
    "start_time": "2022-04-10T09:53:40.278Z"
   },
   {
    "duration": 8,
    "start_time": "2022-04-10T09:53:40.873Z"
   },
   {
    "duration": 4,
    "start_time": "2022-04-10T09:53:41.087Z"
   },
   {
    "duration": 21,
    "start_time": "2022-04-10T09:53:42.656Z"
   },
   {
    "duration": 10,
    "start_time": "2022-04-10T09:53:50.312Z"
   },
   {
    "duration": 26,
    "start_time": "2022-04-10T09:53:50.807Z"
   },
   {
    "duration": 3,
    "start_time": "2022-04-10T09:53:51.811Z"
   },
   {
    "duration": 38,
    "start_time": "2022-04-10T09:53:52.293Z"
   },
   {
    "duration": 24,
    "start_time": "2022-04-10T09:53:53.282Z"
   },
   {
    "duration": 20,
    "start_time": "2022-04-10T09:53:53.748Z"
   },
   {
    "duration": 27,
    "start_time": "2022-04-10T09:53:54.608Z"
   },
   {
    "duration": 12,
    "start_time": "2022-04-10T09:53:55.588Z"
   },
   {
    "duration": 44,
    "start_time": "2022-04-10T09:53:56.861Z"
   },
   {
    "duration": 34,
    "start_time": "2022-04-10T09:53:57.692Z"
   },
   {
    "duration": 11,
    "start_time": "2022-04-10T09:53:58.148Z"
   },
   {
    "duration": 11,
    "start_time": "2022-04-10T09:53:58.345Z"
   },
   {
    "duration": 5,
    "start_time": "2022-04-10T09:53:58.673Z"
   },
   {
    "duration": 7,
    "start_time": "2022-04-10T09:53:58.895Z"
   },
   {
    "duration": 6,
    "start_time": "2022-04-10T09:53:59.076Z"
   },
   {
    "duration": 8,
    "start_time": "2022-04-10T09:53:59.267Z"
   },
   {
    "duration": 8,
    "start_time": "2022-04-10T09:53:59.470Z"
   },
   {
    "duration": 16,
    "start_time": "2022-04-10T09:54:00.449Z"
   },
   {
    "duration": 80,
    "start_time": "2022-04-10T09:54:00.788Z"
   },
   {
    "duration": 48,
    "start_time": "2022-04-10T09:54:01.169Z"
   },
   {
    "duration": 47,
    "start_time": "2022-04-10T09:54:01.587Z"
   },
   {
    "duration": 30,
    "start_time": "2022-04-10T09:54:01.776Z"
   },
   {
    "duration": 5,
    "start_time": "2022-04-10T09:54:02.183Z"
   },
   {
    "duration": 60,
    "start_time": "2022-04-10T09:54:02.394Z"
   },
   {
    "duration": 35,
    "start_time": "2022-04-10T09:54:02.687Z"
   },
   {
    "duration": 9,
    "start_time": "2022-04-10T09:54:03.117Z"
   },
   {
    "duration": 41,
    "start_time": "2022-04-10T09:54:03.329Z"
   },
   {
    "duration": 6,
    "start_time": "2022-04-10T09:54:03.677Z"
   },
   {
    "duration": 4,
    "start_time": "2022-04-10T09:54:03.892Z"
   },
   {
    "duration": 16,
    "start_time": "2022-04-10T09:54:04.298Z"
   },
   {
    "duration": 9,
    "start_time": "2022-04-10T09:54:04.498Z"
   },
   {
    "duration": 9,
    "start_time": "2022-04-10T09:54:05.163Z"
   },
   {
    "duration": 4,
    "start_time": "2022-04-10T09:54:05.388Z"
   },
   {
    "duration": 116,
    "start_time": "2022-04-10T09:54:05.773Z"
   },
   {
    "duration": 20,
    "start_time": "2022-04-10T09:54:05.984Z"
   },
   {
    "duration": 10,
    "start_time": "2022-04-10T09:54:06.186Z"
   },
   {
    "duration": 111,
    "start_time": "2022-04-10T09:54:06.392Z"
   },
   {
    "duration": 57,
    "start_time": "2022-04-10T09:54:06.996Z"
   },
   {
    "duration": 332,
    "start_time": "2022-04-10T09:54:07.199Z"
   },
   {
    "duration": 284,
    "start_time": "2022-04-10T09:54:07.539Z"
   },
   {
    "duration": 12,
    "start_time": "2022-04-10T09:54:08.178Z"
   },
   {
    "duration": 223,
    "start_time": "2022-04-10T09:54:08.380Z"
   },
   {
    "duration": 233,
    "start_time": "2022-04-10T09:54:08.763Z"
   },
   {
    "duration": 12,
    "start_time": "2022-04-10T09:54:09.392Z"
   },
   {
    "duration": 278,
    "start_time": "2022-04-10T09:54:09.910Z"
   },
   {
    "duration": 297,
    "start_time": "2022-04-10T09:54:10.191Z"
   },
   {
    "duration": 11,
    "start_time": "2022-04-10T09:54:10.924Z"
   },
   {
    "duration": 12,
    "start_time": "2022-04-10T09:54:11.154Z"
   },
   {
    "duration": 106,
    "start_time": "2022-04-10T09:54:11.361Z"
   },
   {
    "duration": 8,
    "start_time": "2022-04-10T09:54:11.788Z"
   },
   {
    "duration": 8,
    "start_time": "2022-04-10T09:54:12.014Z"
   },
   {
    "duration": 129,
    "start_time": "2022-04-10T09:54:12.262Z"
   },
   {
    "duration": 7,
    "start_time": "2022-04-10T09:54:12.632Z"
   },
   {
    "duration": 9,
    "start_time": "2022-04-10T09:54:12.835Z"
   },
   {
    "duration": 5,
    "start_time": "2022-04-10T09:54:13.262Z"
   },
   {
    "duration": 9,
    "start_time": "2022-04-10T09:54:14.096Z"
   },
   {
    "duration": 174,
    "start_time": "2022-04-10T09:54:14.322Z"
   },
   {
    "duration": 98,
    "start_time": "2022-04-10T09:54:14.529Z"
   },
   {
    "duration": 14,
    "start_time": "2022-04-10T09:54:14.939Z"
   },
   {
    "duration": 248,
    "start_time": "2022-04-10T09:54:15.173Z"
   },
   {
    "duration": 23,
    "start_time": "2022-04-10T09:54:15.423Z"
   },
   {
    "duration": 8,
    "start_time": "2022-04-10T09:54:15.592Z"
   },
   {
    "duration": 5,
    "start_time": "2022-04-10T09:54:15.806Z"
   },
   {
    "duration": 1644,
    "start_time": "2022-04-11T07:19:10.808Z"
   },
   {
    "duration": 479,
    "start_time": "2022-04-11T07:19:12.455Z"
   },
   {
    "duration": 17,
    "start_time": "2022-04-11T07:19:12.936Z"
   },
   {
    "duration": 34,
    "start_time": "2022-04-11T07:19:12.956Z"
   },
   {
    "duration": 37,
    "start_time": "2022-04-11T07:19:12.992Z"
   },
   {
    "duration": 70,
    "start_time": "2022-04-11T07:19:13.031Z"
   },
   {
    "duration": 146,
    "start_time": "2022-04-11T07:19:13.102Z"
   },
   {
    "duration": 91,
    "start_time": "2022-04-11T07:19:13.251Z"
   },
   {
    "duration": 24,
    "start_time": "2022-04-11T07:19:13.344Z"
   },
   {
    "duration": 19,
    "start_time": "2022-04-11T07:19:13.372Z"
   },
   {
    "duration": 9,
    "start_time": "2022-04-11T07:19:13.393Z"
   },
   {
    "duration": 18,
    "start_time": "2022-04-11T07:19:13.404Z"
   },
   {
    "duration": 45,
    "start_time": "2022-04-11T07:19:13.424Z"
   },
   {
    "duration": 13,
    "start_time": "2022-04-11T07:19:13.471Z"
   },
   {
    "duration": 31,
    "start_time": "2022-04-11T07:19:13.485Z"
   },
   {
    "duration": 65,
    "start_time": "2022-04-11T07:19:13.518Z"
   },
   {
    "duration": 9,
    "start_time": "2022-04-11T07:19:13.585Z"
   },
   {
    "duration": 10,
    "start_time": "2022-04-11T07:19:13.596Z"
   },
   {
    "duration": 32,
    "start_time": "2022-04-11T07:19:13.608Z"
   },
   {
    "duration": 11,
    "start_time": "2022-04-11T07:19:13.667Z"
   },
   {
    "duration": 41,
    "start_time": "2022-04-11T07:19:13.680Z"
   },
   {
    "duration": 6,
    "start_time": "2022-04-11T07:19:13.724Z"
   },
   {
    "duration": 80,
    "start_time": "2022-04-11T07:19:13.732Z"
   },
   {
    "duration": 53,
    "start_time": "2022-04-11T07:19:13.814Z"
   },
   {
    "duration": 23,
    "start_time": "2022-04-11T07:19:13.869Z"
   },
   {
    "duration": 35,
    "start_time": "2022-04-11T07:19:13.894Z"
   },
   {
    "duration": 42,
    "start_time": "2022-04-11T07:19:13.931Z"
   },
   {
    "duration": 88,
    "start_time": "2022-04-11T07:19:13.979Z"
   },
   {
    "duration": 46,
    "start_time": "2022-04-11T07:19:14.070Z"
   },
   {
    "duration": 11,
    "start_time": "2022-04-11T07:19:14.119Z"
   },
   {
    "duration": 44,
    "start_time": "2022-04-11T07:19:14.132Z"
   },
   {
    "duration": 9,
    "start_time": "2022-04-11T07:19:14.178Z"
   },
   {
    "duration": 13,
    "start_time": "2022-04-11T07:19:14.190Z"
   },
   {
    "duration": 11,
    "start_time": "2022-04-11T07:19:14.205Z"
   },
   {
    "duration": 11,
    "start_time": "2022-04-11T07:19:14.218Z"
   },
   {
    "duration": 11,
    "start_time": "2022-04-11T07:19:14.268Z"
   },
   {
    "duration": 22,
    "start_time": "2022-04-11T07:19:14.281Z"
   },
   {
    "duration": 121,
    "start_time": "2022-04-11T07:19:14.306Z"
   },
   {
    "duration": 83,
    "start_time": "2022-04-11T07:19:14.430Z"
   },
   {
    "duration": 73,
    "start_time": "2022-04-11T07:19:14.516Z"
   },
   {
    "duration": 38,
    "start_time": "2022-04-11T07:19:14.592Z"
   },
   {
    "duration": 6,
    "start_time": "2022-04-11T07:19:14.633Z"
   },
   {
    "duration": 120,
    "start_time": "2022-04-11T07:19:14.667Z"
   },
   {
    "duration": 43,
    "start_time": "2022-04-11T07:19:14.789Z"
   },
   {
    "duration": 32,
    "start_time": "2022-04-11T07:19:14.835Z"
   },
   {
    "duration": 43,
    "start_time": "2022-04-11T07:19:14.870Z"
   },
   {
    "duration": 6,
    "start_time": "2022-04-11T07:19:14.915Z"
   },
   {
    "duration": 7,
    "start_time": "2022-04-11T07:19:14.923Z"
   },
   {
    "duration": 51,
    "start_time": "2022-04-11T07:19:14.932Z"
   },
   {
    "duration": 11,
    "start_time": "2022-04-11T07:19:14.985Z"
   },
   {
    "duration": 12,
    "start_time": "2022-04-11T07:19:14.998Z"
   },
   {
    "duration": 12,
    "start_time": "2022-04-11T07:19:15.012Z"
   },
   {
    "duration": 200,
    "start_time": "2022-04-11T07:19:15.026Z"
   },
   {
    "duration": 39,
    "start_time": "2022-04-11T07:19:15.228Z"
   },
   {
    "duration": 10,
    "start_time": "2022-04-11T07:19:15.269Z"
   },
   {
    "duration": 187,
    "start_time": "2022-04-11T07:19:15.281Z"
   },
   {
    "duration": 65,
    "start_time": "2022-04-11T07:19:15.470Z"
   },
   {
    "duration": 436,
    "start_time": "2022-04-11T07:19:15.537Z"
   },
   {
    "duration": 367,
    "start_time": "2022-04-11T07:19:15.975Z"
   },
   {
    "duration": 30,
    "start_time": "2022-04-11T07:19:16.345Z"
   },
   {
    "duration": 356,
    "start_time": "2022-04-11T07:19:16.378Z"
   },
   {
    "duration": 400,
    "start_time": "2022-04-11T07:19:16.736Z"
   },
   {
    "duration": 29,
    "start_time": "2022-04-11T07:19:17.138Z"
   },
   {
    "duration": 343,
    "start_time": "2022-04-11T07:19:17.169Z"
   },
   {
    "duration": 389,
    "start_time": "2022-04-11T07:19:17.515Z"
   },
   {
    "duration": 13,
    "start_time": "2022-04-11T07:19:17.906Z"
   },
   {
    "duration": 48,
    "start_time": "2022-04-11T07:19:17.922Z"
   },
   {
    "duration": 170,
    "start_time": "2022-04-11T07:19:17.973Z"
   },
   {
    "duration": 10,
    "start_time": "2022-04-11T07:19:18.145Z"
   },
   {
    "duration": 15,
    "start_time": "2022-04-11T07:19:18.157Z"
   },
   {
    "duration": 295,
    "start_time": "2022-04-11T07:19:18.175Z"
   },
   {
    "duration": 8,
    "start_time": "2022-04-11T07:19:18.473Z"
   },
   {
    "duration": 17,
    "start_time": "2022-04-11T07:19:18.483Z"
   },
   {
    "duration": 7,
    "start_time": "2022-04-11T07:19:18.502Z"
   },
   {
    "duration": 14,
    "start_time": "2022-04-11T07:19:18.511Z"
   },
   {
    "duration": 152,
    "start_time": "2022-04-11T07:19:18.528Z"
   },
   {
    "duration": 230,
    "start_time": "2022-04-11T07:19:18.682Z"
   },
   {
    "duration": 16,
    "start_time": "2022-04-11T07:19:18.969Z"
   },
   {
    "duration": 497,
    "start_time": "2022-04-11T07:19:18.988Z"
   },
   {
    "duration": 11,
    "start_time": "2022-04-11T07:19:19.488Z"
   },
   {
    "duration": 13,
    "start_time": "2022-04-11T07:19:19.502Z"
   },
   {
    "duration": 7,
    "start_time": "2022-04-11T07:19:19.525Z"
   }
  ],
  "interpreter": {
   "hash": "6f5dd8f20b058ead9365f7e252fda945bb74a615f91a5f6b0a68f63e4f4eb6f7"
  },
  "kernelspec": {
   "display_name": "Python 3 (ipykernel)",
   "language": "python",
   "name": "python3"
  },
  "language_info": {
   "codemirror_mode": {
    "name": "ipython",
    "version": 3
   },
   "file_extension": ".py",
   "mimetype": "text/x-python",
   "name": "python",
   "nbconvert_exporter": "python",
   "pygments_lexer": "ipython3",
   "version": "3.9.5"
  },
  "toc": {
   "base_numbering": 1,
   "nav_menu": {},
   "number_sections": true,
   "sideBar": true,
   "skip_h1_title": true,
   "title_cell": "Table of Contents",
   "title_sidebar": "Contents",
   "toc_cell": false,
   "toc_position": {},
   "toc_section_display": true,
   "toc_window_display": false
  }
 },
 "nbformat": 4,
 "nbformat_minor": 2
}
