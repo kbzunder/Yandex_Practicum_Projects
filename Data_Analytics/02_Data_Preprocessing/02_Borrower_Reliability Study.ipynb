{
 "cells": [
  {
   "cell_type": "markdown",
   "id": "5a338d3b",
   "metadata": {},
   "source": [
    "# Исследование надежности заемщиков."
   ]
  },
  {
   "cell_type": "markdown",
   "id": "9e79cc86",
   "metadata": {},
   "source": [
    "### Шаг 1. Обзор данных"
   ]
  },
  {
   "cell_type": "code",
   "execution_count": 128,
   "id": "e0df46c1",
   "metadata": {},
   "outputs": [],
   "source": [
    "import pandas as pd"
   ]
  },
  {
   "cell_type": "markdown",
   "id": "ed77b2eb",
   "metadata": {},
   "source": [
    "Скачиваем данные в переменную data"
   ]
  },
  {
   "cell_type": "code",
   "execution_count": 129,
   "id": "456b9077",
   "metadata": {},
   "outputs": [],
   "source": [
    "data = pd.read_csv('/datasets/data.csv')"
   ]
  },
  {
   "cell_type": "markdown",
   "id": "8f9eb423",
   "metadata": {},
   "source": [
    "Исследуем общую информацию о датасете, применив методы head, info"
   ]
  },
  {
   "cell_type": "code",
   "execution_count": 130,
   "id": "d6d92b49",
   "metadata": {},
   "outputs": [
    {
     "data": {
      "text/html": [
       "<div>\n",
       "<style scoped>\n",
       "    .dataframe tbody tr th:only-of-type {\n",
       "        vertical-align: middle;\n",
       "    }\n",
       "\n",
       "    .dataframe tbody tr th {\n",
       "        vertical-align: top;\n",
       "    }\n",
       "\n",
       "    .dataframe thead th {\n",
       "        text-align: right;\n",
       "    }\n",
       "</style>\n",
       "<table border=\"1\" class=\"dataframe\">\n",
       "  <thead>\n",
       "    <tr style=\"text-align: right;\">\n",
       "      <th></th>\n",
       "      <th>children</th>\n",
       "      <th>days_employed</th>\n",
       "      <th>dob_years</th>\n",
       "      <th>education</th>\n",
       "      <th>education_id</th>\n",
       "      <th>family_status</th>\n",
       "      <th>family_status_id</th>\n",
       "      <th>gender</th>\n",
       "      <th>income_type</th>\n",
       "      <th>debt</th>\n",
       "      <th>total_income</th>\n",
       "      <th>purpose</th>\n",
       "    </tr>\n",
       "  </thead>\n",
       "  <tbody>\n",
       "    <tr>\n",
       "      <td>0</td>\n",
       "      <td>1</td>\n",
       "      <td>-8437.673028</td>\n",
       "      <td>42</td>\n",
       "      <td>высшее</td>\n",
       "      <td>0</td>\n",
       "      <td>женат / замужем</td>\n",
       "      <td>0</td>\n",
       "      <td>F</td>\n",
       "      <td>сотрудник</td>\n",
       "      <td>0</td>\n",
       "      <td>253875.639453</td>\n",
       "      <td>покупка жилья</td>\n",
       "    </tr>\n",
       "    <tr>\n",
       "      <td>1</td>\n",
       "      <td>1</td>\n",
       "      <td>-4024.803754</td>\n",
       "      <td>36</td>\n",
       "      <td>среднее</td>\n",
       "      <td>1</td>\n",
       "      <td>женат / замужем</td>\n",
       "      <td>0</td>\n",
       "      <td>F</td>\n",
       "      <td>сотрудник</td>\n",
       "      <td>0</td>\n",
       "      <td>112080.014102</td>\n",
       "      <td>приобретение автомобиля</td>\n",
       "    </tr>\n",
       "    <tr>\n",
       "      <td>2</td>\n",
       "      <td>0</td>\n",
       "      <td>-5623.422610</td>\n",
       "      <td>33</td>\n",
       "      <td>Среднее</td>\n",
       "      <td>1</td>\n",
       "      <td>женат / замужем</td>\n",
       "      <td>0</td>\n",
       "      <td>M</td>\n",
       "      <td>сотрудник</td>\n",
       "      <td>0</td>\n",
       "      <td>145885.952297</td>\n",
       "      <td>покупка жилья</td>\n",
       "    </tr>\n",
       "    <tr>\n",
       "      <td>3</td>\n",
       "      <td>3</td>\n",
       "      <td>-4124.747207</td>\n",
       "      <td>32</td>\n",
       "      <td>среднее</td>\n",
       "      <td>1</td>\n",
       "      <td>женат / замужем</td>\n",
       "      <td>0</td>\n",
       "      <td>M</td>\n",
       "      <td>сотрудник</td>\n",
       "      <td>0</td>\n",
       "      <td>267628.550329</td>\n",
       "      <td>дополнительное образование</td>\n",
       "    </tr>\n",
       "    <tr>\n",
       "      <td>4</td>\n",
       "      <td>0</td>\n",
       "      <td>340266.072047</td>\n",
       "      <td>53</td>\n",
       "      <td>среднее</td>\n",
       "      <td>1</td>\n",
       "      <td>гражданский брак</td>\n",
       "      <td>1</td>\n",
       "      <td>F</td>\n",
       "      <td>пенсионер</td>\n",
       "      <td>0</td>\n",
       "      <td>158616.077870</td>\n",
       "      <td>сыграть свадьбу</td>\n",
       "    </tr>\n",
       "    <tr>\n",
       "      <td>5</td>\n",
       "      <td>0</td>\n",
       "      <td>-926.185831</td>\n",
       "      <td>27</td>\n",
       "      <td>высшее</td>\n",
       "      <td>0</td>\n",
       "      <td>гражданский брак</td>\n",
       "      <td>1</td>\n",
       "      <td>M</td>\n",
       "      <td>компаньон</td>\n",
       "      <td>0</td>\n",
       "      <td>255763.565419</td>\n",
       "      <td>покупка жилья</td>\n",
       "    </tr>\n",
       "    <tr>\n",
       "      <td>6</td>\n",
       "      <td>0</td>\n",
       "      <td>-2879.202052</td>\n",
       "      <td>43</td>\n",
       "      <td>высшее</td>\n",
       "      <td>0</td>\n",
       "      <td>женат / замужем</td>\n",
       "      <td>0</td>\n",
       "      <td>F</td>\n",
       "      <td>компаньон</td>\n",
       "      <td>0</td>\n",
       "      <td>240525.971920</td>\n",
       "      <td>операции с жильем</td>\n",
       "    </tr>\n",
       "    <tr>\n",
       "      <td>7</td>\n",
       "      <td>0</td>\n",
       "      <td>-152.779569</td>\n",
       "      <td>50</td>\n",
       "      <td>СРЕДНЕЕ</td>\n",
       "      <td>1</td>\n",
       "      <td>женат / замужем</td>\n",
       "      <td>0</td>\n",
       "      <td>M</td>\n",
       "      <td>сотрудник</td>\n",
       "      <td>0</td>\n",
       "      <td>135823.934197</td>\n",
       "      <td>образование</td>\n",
       "    </tr>\n",
       "    <tr>\n",
       "      <td>8</td>\n",
       "      <td>2</td>\n",
       "      <td>-6929.865299</td>\n",
       "      <td>35</td>\n",
       "      <td>ВЫСШЕЕ</td>\n",
       "      <td>0</td>\n",
       "      <td>гражданский брак</td>\n",
       "      <td>1</td>\n",
       "      <td>F</td>\n",
       "      <td>сотрудник</td>\n",
       "      <td>0</td>\n",
       "      <td>95856.832424</td>\n",
       "      <td>на проведение свадьбы</td>\n",
       "    </tr>\n",
       "    <tr>\n",
       "      <td>9</td>\n",
       "      <td>0</td>\n",
       "      <td>-2188.756445</td>\n",
       "      <td>41</td>\n",
       "      <td>среднее</td>\n",
       "      <td>1</td>\n",
       "      <td>женат / замужем</td>\n",
       "      <td>0</td>\n",
       "      <td>M</td>\n",
       "      <td>сотрудник</td>\n",
       "      <td>0</td>\n",
       "      <td>144425.938277</td>\n",
       "      <td>покупка жилья для семьи</td>\n",
       "    </tr>\n",
       "  </tbody>\n",
       "</table>\n",
       "</div>"
      ],
      "text/plain": [
       "   children  days_employed  dob_years education  education_id  \\\n",
       "0         1   -8437.673028         42    высшее             0   \n",
       "1         1   -4024.803754         36   среднее             1   \n",
       "2         0   -5623.422610         33   Среднее             1   \n",
       "3         3   -4124.747207         32   среднее             1   \n",
       "4         0  340266.072047         53   среднее             1   \n",
       "5         0    -926.185831         27    высшее             0   \n",
       "6         0   -2879.202052         43    высшее             0   \n",
       "7         0    -152.779569         50   СРЕДНЕЕ             1   \n",
       "8         2   -6929.865299         35    ВЫСШЕЕ             0   \n",
       "9         0   -2188.756445         41   среднее             1   \n",
       "\n",
       "      family_status  family_status_id gender income_type  debt   total_income  \\\n",
       "0   женат / замужем                 0      F   сотрудник     0  253875.639453   \n",
       "1   женат / замужем                 0      F   сотрудник     0  112080.014102   \n",
       "2   женат / замужем                 0      M   сотрудник     0  145885.952297   \n",
       "3   женат / замужем                 0      M   сотрудник     0  267628.550329   \n",
       "4  гражданский брак                 1      F   пенсионер     0  158616.077870   \n",
       "5  гражданский брак                 1      M   компаньон     0  255763.565419   \n",
       "6   женат / замужем                 0      F   компаньон     0  240525.971920   \n",
       "7   женат / замужем                 0      M   сотрудник     0  135823.934197   \n",
       "8  гражданский брак                 1      F   сотрудник     0   95856.832424   \n",
       "9   женат / замужем                 0      M   сотрудник     0  144425.938277   \n",
       "\n",
       "                      purpose  \n",
       "0               покупка жилья  \n",
       "1     приобретение автомобиля  \n",
       "2               покупка жилья  \n",
       "3  дополнительное образование  \n",
       "4             сыграть свадьбу  \n",
       "5               покупка жилья  \n",
       "6           операции с жильем  \n",
       "7                 образование  \n",
       "8       на проведение свадьбы  \n",
       "9     покупка жилья для семьи  "
      ]
     },
     "execution_count": 130,
     "metadata": {},
     "output_type": "execute_result"
    }
   ],
   "source": [
    "data.head(10)"
   ]
  },
  {
   "cell_type": "code",
   "execution_count": 131,
   "id": "6b6a220e",
   "metadata": {},
   "outputs": [
    {
     "name": "stdout",
     "output_type": "stream",
     "text": [
      "<class 'pandas.core.frame.DataFrame'>\n",
      "RangeIndex: 21525 entries, 0 to 21524\n",
      "Data columns (total 12 columns):\n",
      "children            21525 non-null int64\n",
      "days_employed       19351 non-null float64\n",
      "dob_years           21525 non-null int64\n",
      "education           21525 non-null object\n",
      "education_id        21525 non-null int64\n",
      "family_status       21525 non-null object\n",
      "family_status_id    21525 non-null int64\n",
      "gender              21525 non-null object\n",
      "income_type         21525 non-null object\n",
      "debt                21525 non-null int64\n",
      "total_income        19351 non-null float64\n",
      "purpose             21525 non-null object\n",
      "dtypes: float64(2), int64(5), object(5)\n",
      "memory usage: 2.0+ MB\n"
     ]
    }
   ],
   "source": [
    "data.info()"
   ]
  },
  {
   "cell_type": "code",
   "execution_count": 132,
   "id": "12756e52",
   "metadata": {},
   "outputs": [
    {
     "data": {
      "text/html": [
       "<div>\n",
       "<style scoped>\n",
       "    .dataframe tbody tr th:only-of-type {\n",
       "        vertical-align: middle;\n",
       "    }\n",
       "\n",
       "    .dataframe tbody tr th {\n",
       "        vertical-align: top;\n",
       "    }\n",
       "\n",
       "    .dataframe thead th {\n",
       "        text-align: right;\n",
       "    }\n",
       "</style>\n",
       "<table border=\"1\" class=\"dataframe\">\n",
       "  <thead>\n",
       "    <tr style=\"text-align: right;\">\n",
       "      <th></th>\n",
       "      <th>children</th>\n",
       "      <th>days_employed</th>\n",
       "      <th>dob_years</th>\n",
       "      <th>education_id</th>\n",
       "      <th>family_status_id</th>\n",
       "      <th>debt</th>\n",
       "      <th>total_income</th>\n",
       "    </tr>\n",
       "  </thead>\n",
       "  <tbody>\n",
       "    <tr>\n",
       "      <td>count</td>\n",
       "      <td>21525.000000</td>\n",
       "      <td>19351.000000</td>\n",
       "      <td>21525.000000</td>\n",
       "      <td>21525.000000</td>\n",
       "      <td>21525.000000</td>\n",
       "      <td>21525.000000</td>\n",
       "      <td>1.935100e+04</td>\n",
       "    </tr>\n",
       "    <tr>\n",
       "      <td>mean</td>\n",
       "      <td>0.538908</td>\n",
       "      <td>63046.497661</td>\n",
       "      <td>43.293380</td>\n",
       "      <td>0.817236</td>\n",
       "      <td>0.972544</td>\n",
       "      <td>0.080883</td>\n",
       "      <td>1.674223e+05</td>\n",
       "    </tr>\n",
       "    <tr>\n",
       "      <td>std</td>\n",
       "      <td>1.381587</td>\n",
       "      <td>140827.311974</td>\n",
       "      <td>12.574584</td>\n",
       "      <td>0.548138</td>\n",
       "      <td>1.420324</td>\n",
       "      <td>0.272661</td>\n",
       "      <td>1.029716e+05</td>\n",
       "    </tr>\n",
       "    <tr>\n",
       "      <td>min</td>\n",
       "      <td>-1.000000</td>\n",
       "      <td>-18388.949901</td>\n",
       "      <td>0.000000</td>\n",
       "      <td>0.000000</td>\n",
       "      <td>0.000000</td>\n",
       "      <td>0.000000</td>\n",
       "      <td>2.066726e+04</td>\n",
       "    </tr>\n",
       "    <tr>\n",
       "      <td>25%</td>\n",
       "      <td>0.000000</td>\n",
       "      <td>-2747.423625</td>\n",
       "      <td>33.000000</td>\n",
       "      <td>1.000000</td>\n",
       "      <td>0.000000</td>\n",
       "      <td>0.000000</td>\n",
       "      <td>1.030532e+05</td>\n",
       "    </tr>\n",
       "    <tr>\n",
       "      <td>50%</td>\n",
       "      <td>0.000000</td>\n",
       "      <td>-1203.369529</td>\n",
       "      <td>42.000000</td>\n",
       "      <td>1.000000</td>\n",
       "      <td>0.000000</td>\n",
       "      <td>0.000000</td>\n",
       "      <td>1.450179e+05</td>\n",
       "    </tr>\n",
       "    <tr>\n",
       "      <td>75%</td>\n",
       "      <td>1.000000</td>\n",
       "      <td>-291.095954</td>\n",
       "      <td>53.000000</td>\n",
       "      <td>1.000000</td>\n",
       "      <td>1.000000</td>\n",
       "      <td>0.000000</td>\n",
       "      <td>2.034351e+05</td>\n",
       "    </tr>\n",
       "    <tr>\n",
       "      <td>max</td>\n",
       "      <td>20.000000</td>\n",
       "      <td>401755.400475</td>\n",
       "      <td>75.000000</td>\n",
       "      <td>4.000000</td>\n",
       "      <td>4.000000</td>\n",
       "      <td>1.000000</td>\n",
       "      <td>2.265604e+06</td>\n",
       "    </tr>\n",
       "  </tbody>\n",
       "</table>\n",
       "</div>"
      ],
      "text/plain": [
       "           children  days_employed     dob_years  education_id  \\\n",
       "count  21525.000000   19351.000000  21525.000000  21525.000000   \n",
       "mean       0.538908   63046.497661     43.293380      0.817236   \n",
       "std        1.381587  140827.311974     12.574584      0.548138   \n",
       "min       -1.000000  -18388.949901      0.000000      0.000000   \n",
       "25%        0.000000   -2747.423625     33.000000      1.000000   \n",
       "50%        0.000000   -1203.369529     42.000000      1.000000   \n",
       "75%        1.000000    -291.095954     53.000000      1.000000   \n",
       "max       20.000000  401755.400475     75.000000      4.000000   \n",
       "\n",
       "       family_status_id          debt  total_income  \n",
       "count      21525.000000  21525.000000  1.935100e+04  \n",
       "mean           0.972544      0.080883  1.674223e+05  \n",
       "std            1.420324      0.272661  1.029716e+05  \n",
       "min            0.000000      0.000000  2.066726e+04  \n",
       "25%            0.000000      0.000000  1.030532e+05  \n",
       "50%            0.000000      0.000000  1.450179e+05  \n",
       "75%            1.000000      0.000000  2.034351e+05  \n",
       "max            4.000000      1.000000  2.265604e+06  "
      ]
     },
     "execution_count": 132,
     "metadata": {},
     "output_type": "execute_result"
    }
   ],
   "source": [
    "data.describe()"
   ]
  },
  {
   "cell_type": "markdown",
   "id": "24b7a31c",
   "metadata": {},
   "source": [
    "Из вызова метода info() мы видим, что в датасете 21525 строк, в двух из столбцов: **total_income**, **days_employed** меньше ненулевых значений, необходимо исследовать эти столбцы"
   ]
  },
  {
   "cell_type": "markdown",
   "id": "d5ebba7e",
   "metadata": {},
   "source": [
    "Из вызова метода describe() видим, что в столбцах children, days_employed есть, dob_years присутствуют аномалии: максимальное значение days_employed - 1100 лет"
   ]
  },
  {
   "cell_type": "markdown",
   "id": "6c039fc8",
   "metadata": {},
   "source": [
    "### Шаг 2.1 Заполнение пропусков"
   ]
  },
  {
   "cell_type": "code",
   "execution_count": 133,
   "id": "29bab8fe",
   "metadata": {},
   "outputs": [
    {
     "name": "stdout",
     "output_type": "stream",
     "text": [
      "10%\n"
     ]
    }
   ],
   "source": [
    "non_null_days_employed_ratio = data['days_employed'].isna().sum() / data.shape[0]\n",
    "print('{:.0%}'.format(non_null_days_employed_ratio))"
   ]
  },
  {
   "cell_type": "code",
   "execution_count": 134,
   "id": "4a9312ca",
   "metadata": {},
   "outputs": [
    {
     "name": "stdout",
     "output_type": "stream",
     "text": [
      "10%\n"
     ]
    }
   ],
   "source": [
    "non_null_total_income_ratio = data['total_income'].isna().sum() / data.shape[0]\n",
    "print('{:.0%}'.format(non_null_total_income_ratio))"
   ]
  },
  {
   "cell_type": "markdown",
   "id": "4df49936",
   "metadata": {},
   "source": [
    "Доля пропущенных значений в обоих столбцах одинакова и составляет 10%.\n",
    "Рассмотрим подробнее строки с пропущенныхми значениями:"
   ]
  },
  {
   "cell_type": "code",
   "execution_count": 135,
   "id": "72c12fda",
   "metadata": {},
   "outputs": [
    {
     "data": {
      "text/html": [
       "<div>\n",
       "<style scoped>\n",
       "    .dataframe tbody tr th:only-of-type {\n",
       "        vertical-align: middle;\n",
       "    }\n",
       "\n",
       "    .dataframe tbody tr th {\n",
       "        vertical-align: top;\n",
       "    }\n",
       "\n",
       "    .dataframe thead th {\n",
       "        text-align: right;\n",
       "    }\n",
       "</style>\n",
       "<table border=\"1\" class=\"dataframe\">\n",
       "  <thead>\n",
       "    <tr style=\"text-align: right;\">\n",
       "      <th></th>\n",
       "      <th>children</th>\n",
       "      <th>days_employed</th>\n",
       "      <th>dob_years</th>\n",
       "      <th>education</th>\n",
       "      <th>education_id</th>\n",
       "      <th>family_status</th>\n",
       "      <th>family_status_id</th>\n",
       "      <th>gender</th>\n",
       "      <th>income_type</th>\n",
       "      <th>debt</th>\n",
       "      <th>total_income</th>\n",
       "      <th>purpose</th>\n",
       "    </tr>\n",
       "  </thead>\n",
       "  <tbody>\n",
       "    <tr>\n",
       "      <td>12</td>\n",
       "      <td>0</td>\n",
       "      <td>NaN</td>\n",
       "      <td>65</td>\n",
       "      <td>среднее</td>\n",
       "      <td>1</td>\n",
       "      <td>гражданский брак</td>\n",
       "      <td>1</td>\n",
       "      <td>M</td>\n",
       "      <td>пенсионер</td>\n",
       "      <td>0</td>\n",
       "      <td>NaN</td>\n",
       "      <td>сыграть свадьбу</td>\n",
       "    </tr>\n",
       "    <tr>\n",
       "      <td>26</td>\n",
       "      <td>0</td>\n",
       "      <td>NaN</td>\n",
       "      <td>41</td>\n",
       "      <td>среднее</td>\n",
       "      <td>1</td>\n",
       "      <td>женат / замужем</td>\n",
       "      <td>0</td>\n",
       "      <td>M</td>\n",
       "      <td>госслужащий</td>\n",
       "      <td>0</td>\n",
       "      <td>NaN</td>\n",
       "      <td>образование</td>\n",
       "    </tr>\n",
       "    <tr>\n",
       "      <td>29</td>\n",
       "      <td>0</td>\n",
       "      <td>NaN</td>\n",
       "      <td>63</td>\n",
       "      <td>среднее</td>\n",
       "      <td>1</td>\n",
       "      <td>Не женат / не замужем</td>\n",
       "      <td>4</td>\n",
       "      <td>F</td>\n",
       "      <td>пенсионер</td>\n",
       "      <td>0</td>\n",
       "      <td>NaN</td>\n",
       "      <td>строительство жилой недвижимости</td>\n",
       "    </tr>\n",
       "    <tr>\n",
       "      <td>41</td>\n",
       "      <td>0</td>\n",
       "      <td>NaN</td>\n",
       "      <td>50</td>\n",
       "      <td>среднее</td>\n",
       "      <td>1</td>\n",
       "      <td>женат / замужем</td>\n",
       "      <td>0</td>\n",
       "      <td>F</td>\n",
       "      <td>госслужащий</td>\n",
       "      <td>0</td>\n",
       "      <td>NaN</td>\n",
       "      <td>сделка с подержанным автомобилем</td>\n",
       "    </tr>\n",
       "    <tr>\n",
       "      <td>55</td>\n",
       "      <td>0</td>\n",
       "      <td>NaN</td>\n",
       "      <td>54</td>\n",
       "      <td>среднее</td>\n",
       "      <td>1</td>\n",
       "      <td>гражданский брак</td>\n",
       "      <td>1</td>\n",
       "      <td>F</td>\n",
       "      <td>пенсионер</td>\n",
       "      <td>1</td>\n",
       "      <td>NaN</td>\n",
       "      <td>сыграть свадьбу</td>\n",
       "    </tr>\n",
       "    <tr>\n",
       "      <td>...</td>\n",
       "      <td>...</td>\n",
       "      <td>...</td>\n",
       "      <td>...</td>\n",
       "      <td>...</td>\n",
       "      <td>...</td>\n",
       "      <td>...</td>\n",
       "      <td>...</td>\n",
       "      <td>...</td>\n",
       "      <td>...</td>\n",
       "      <td>...</td>\n",
       "      <td>...</td>\n",
       "      <td>...</td>\n",
       "    </tr>\n",
       "    <tr>\n",
       "      <td>21489</td>\n",
       "      <td>2</td>\n",
       "      <td>NaN</td>\n",
       "      <td>47</td>\n",
       "      <td>Среднее</td>\n",
       "      <td>1</td>\n",
       "      <td>женат / замужем</td>\n",
       "      <td>0</td>\n",
       "      <td>M</td>\n",
       "      <td>компаньон</td>\n",
       "      <td>0</td>\n",
       "      <td>NaN</td>\n",
       "      <td>сделка с автомобилем</td>\n",
       "    </tr>\n",
       "    <tr>\n",
       "      <td>21495</td>\n",
       "      <td>1</td>\n",
       "      <td>NaN</td>\n",
       "      <td>50</td>\n",
       "      <td>среднее</td>\n",
       "      <td>1</td>\n",
       "      <td>гражданский брак</td>\n",
       "      <td>1</td>\n",
       "      <td>F</td>\n",
       "      <td>сотрудник</td>\n",
       "      <td>0</td>\n",
       "      <td>NaN</td>\n",
       "      <td>свадьба</td>\n",
       "    </tr>\n",
       "    <tr>\n",
       "      <td>21497</td>\n",
       "      <td>0</td>\n",
       "      <td>NaN</td>\n",
       "      <td>48</td>\n",
       "      <td>ВЫСШЕЕ</td>\n",
       "      <td>0</td>\n",
       "      <td>женат / замужем</td>\n",
       "      <td>0</td>\n",
       "      <td>F</td>\n",
       "      <td>компаньон</td>\n",
       "      <td>0</td>\n",
       "      <td>NaN</td>\n",
       "      <td>строительство недвижимости</td>\n",
       "    </tr>\n",
       "    <tr>\n",
       "      <td>21502</td>\n",
       "      <td>1</td>\n",
       "      <td>NaN</td>\n",
       "      <td>42</td>\n",
       "      <td>среднее</td>\n",
       "      <td>1</td>\n",
       "      <td>женат / замужем</td>\n",
       "      <td>0</td>\n",
       "      <td>F</td>\n",
       "      <td>сотрудник</td>\n",
       "      <td>0</td>\n",
       "      <td>NaN</td>\n",
       "      <td>строительство жилой недвижимости</td>\n",
       "    </tr>\n",
       "    <tr>\n",
       "      <td>21510</td>\n",
       "      <td>2</td>\n",
       "      <td>NaN</td>\n",
       "      <td>28</td>\n",
       "      <td>среднее</td>\n",
       "      <td>1</td>\n",
       "      <td>женат / замужем</td>\n",
       "      <td>0</td>\n",
       "      <td>F</td>\n",
       "      <td>сотрудник</td>\n",
       "      <td>0</td>\n",
       "      <td>NaN</td>\n",
       "      <td>приобретение автомобиля</td>\n",
       "    </tr>\n",
       "  </tbody>\n",
       "</table>\n",
       "<p>2174 rows × 12 columns</p>\n",
       "</div>"
      ],
      "text/plain": [
       "       children  days_employed  dob_years education  education_id  \\\n",
       "12            0            NaN         65   среднее             1   \n",
       "26            0            NaN         41   среднее             1   \n",
       "29            0            NaN         63   среднее             1   \n",
       "41            0            NaN         50   среднее             1   \n",
       "55            0            NaN         54   среднее             1   \n",
       "...         ...            ...        ...       ...           ...   \n",
       "21489         2            NaN         47   Среднее             1   \n",
       "21495         1            NaN         50   среднее             1   \n",
       "21497         0            NaN         48    ВЫСШЕЕ             0   \n",
       "21502         1            NaN         42   среднее             1   \n",
       "21510         2            NaN         28   среднее             1   \n",
       "\n",
       "               family_status  family_status_id gender  income_type  debt  \\\n",
       "12          гражданский брак                 1      M    пенсионер     0   \n",
       "26           женат / замужем                 0      M  госслужащий     0   \n",
       "29     Не женат / не замужем                 4      F    пенсионер     0   \n",
       "41           женат / замужем                 0      F  госслужащий     0   \n",
       "55          гражданский брак                 1      F    пенсионер     1   \n",
       "...                      ...               ...    ...          ...   ...   \n",
       "21489        женат / замужем                 0      M    компаньон     0   \n",
       "21495       гражданский брак                 1      F    сотрудник     0   \n",
       "21497        женат / замужем                 0      F    компаньон     0   \n",
       "21502        женат / замужем                 0      F    сотрудник     0   \n",
       "21510        женат / замужем                 0      F    сотрудник     0   \n",
       "\n",
       "       total_income                           purpose  \n",
       "12              NaN                   сыграть свадьбу  \n",
       "26              NaN                       образование  \n",
       "29              NaN  строительство жилой недвижимости  \n",
       "41              NaN  сделка с подержанным автомобилем  \n",
       "55              NaN                   сыграть свадьбу  \n",
       "...             ...                               ...  \n",
       "21489           NaN              сделка с автомобилем  \n",
       "21495           NaN                           свадьба  \n",
       "21497           NaN        строительство недвижимости  \n",
       "21502           NaN  строительство жилой недвижимости  \n",
       "21510           NaN           приобретение автомобиля  \n",
       "\n",
       "[2174 rows x 12 columns]"
      ]
     },
     "execution_count": 135,
     "metadata": {},
     "output_type": "execute_result"
    }
   ],
   "source": [
    "null_values_days_employed = data[data['days_employed'].isna()==True]\n",
    "null_values_days_employed "
   ]
  },
  {
   "cell_type": "code",
   "execution_count": 136,
   "id": "b01092f0",
   "metadata": {},
   "outputs": [
    {
     "data": {
      "text/html": [
       "<div>\n",
       "<style scoped>\n",
       "    .dataframe tbody tr th:only-of-type {\n",
       "        vertical-align: middle;\n",
       "    }\n",
       "\n",
       "    .dataframe tbody tr th {\n",
       "        vertical-align: top;\n",
       "    }\n",
       "\n",
       "    .dataframe thead th {\n",
       "        text-align: right;\n",
       "    }\n",
       "</style>\n",
       "<table border=\"1\" class=\"dataframe\">\n",
       "  <thead>\n",
       "    <tr style=\"text-align: right;\">\n",
       "      <th></th>\n",
       "      <th>children</th>\n",
       "      <th>days_employed</th>\n",
       "      <th>dob_years</th>\n",
       "      <th>education</th>\n",
       "      <th>education_id</th>\n",
       "      <th>family_status</th>\n",
       "      <th>family_status_id</th>\n",
       "      <th>gender</th>\n",
       "      <th>income_type</th>\n",
       "      <th>debt</th>\n",
       "      <th>total_income</th>\n",
       "      <th>purpose</th>\n",
       "    </tr>\n",
       "  </thead>\n",
       "  <tbody>\n",
       "    <tr>\n",
       "      <td>12</td>\n",
       "      <td>0</td>\n",
       "      <td>NaN</td>\n",
       "      <td>65</td>\n",
       "      <td>среднее</td>\n",
       "      <td>1</td>\n",
       "      <td>гражданский брак</td>\n",
       "      <td>1</td>\n",
       "      <td>M</td>\n",
       "      <td>пенсионер</td>\n",
       "      <td>0</td>\n",
       "      <td>NaN</td>\n",
       "      <td>сыграть свадьбу</td>\n",
       "    </tr>\n",
       "    <tr>\n",
       "      <td>26</td>\n",
       "      <td>0</td>\n",
       "      <td>NaN</td>\n",
       "      <td>41</td>\n",
       "      <td>среднее</td>\n",
       "      <td>1</td>\n",
       "      <td>женат / замужем</td>\n",
       "      <td>0</td>\n",
       "      <td>M</td>\n",
       "      <td>госслужащий</td>\n",
       "      <td>0</td>\n",
       "      <td>NaN</td>\n",
       "      <td>образование</td>\n",
       "    </tr>\n",
       "    <tr>\n",
       "      <td>29</td>\n",
       "      <td>0</td>\n",
       "      <td>NaN</td>\n",
       "      <td>63</td>\n",
       "      <td>среднее</td>\n",
       "      <td>1</td>\n",
       "      <td>Не женат / не замужем</td>\n",
       "      <td>4</td>\n",
       "      <td>F</td>\n",
       "      <td>пенсионер</td>\n",
       "      <td>0</td>\n",
       "      <td>NaN</td>\n",
       "      <td>строительство жилой недвижимости</td>\n",
       "    </tr>\n",
       "    <tr>\n",
       "      <td>41</td>\n",
       "      <td>0</td>\n",
       "      <td>NaN</td>\n",
       "      <td>50</td>\n",
       "      <td>среднее</td>\n",
       "      <td>1</td>\n",
       "      <td>женат / замужем</td>\n",
       "      <td>0</td>\n",
       "      <td>F</td>\n",
       "      <td>госслужащий</td>\n",
       "      <td>0</td>\n",
       "      <td>NaN</td>\n",
       "      <td>сделка с подержанным автомобилем</td>\n",
       "    </tr>\n",
       "    <tr>\n",
       "      <td>55</td>\n",
       "      <td>0</td>\n",
       "      <td>NaN</td>\n",
       "      <td>54</td>\n",
       "      <td>среднее</td>\n",
       "      <td>1</td>\n",
       "      <td>гражданский брак</td>\n",
       "      <td>1</td>\n",
       "      <td>F</td>\n",
       "      <td>пенсионер</td>\n",
       "      <td>1</td>\n",
       "      <td>NaN</td>\n",
       "      <td>сыграть свадьбу</td>\n",
       "    </tr>\n",
       "    <tr>\n",
       "      <td>...</td>\n",
       "      <td>...</td>\n",
       "      <td>...</td>\n",
       "      <td>...</td>\n",
       "      <td>...</td>\n",
       "      <td>...</td>\n",
       "      <td>...</td>\n",
       "      <td>...</td>\n",
       "      <td>...</td>\n",
       "      <td>...</td>\n",
       "      <td>...</td>\n",
       "      <td>...</td>\n",
       "      <td>...</td>\n",
       "    </tr>\n",
       "    <tr>\n",
       "      <td>21489</td>\n",
       "      <td>2</td>\n",
       "      <td>NaN</td>\n",
       "      <td>47</td>\n",
       "      <td>Среднее</td>\n",
       "      <td>1</td>\n",
       "      <td>женат / замужем</td>\n",
       "      <td>0</td>\n",
       "      <td>M</td>\n",
       "      <td>компаньон</td>\n",
       "      <td>0</td>\n",
       "      <td>NaN</td>\n",
       "      <td>сделка с автомобилем</td>\n",
       "    </tr>\n",
       "    <tr>\n",
       "      <td>21495</td>\n",
       "      <td>1</td>\n",
       "      <td>NaN</td>\n",
       "      <td>50</td>\n",
       "      <td>среднее</td>\n",
       "      <td>1</td>\n",
       "      <td>гражданский брак</td>\n",
       "      <td>1</td>\n",
       "      <td>F</td>\n",
       "      <td>сотрудник</td>\n",
       "      <td>0</td>\n",
       "      <td>NaN</td>\n",
       "      <td>свадьба</td>\n",
       "    </tr>\n",
       "    <tr>\n",
       "      <td>21497</td>\n",
       "      <td>0</td>\n",
       "      <td>NaN</td>\n",
       "      <td>48</td>\n",
       "      <td>ВЫСШЕЕ</td>\n",
       "      <td>0</td>\n",
       "      <td>женат / замужем</td>\n",
       "      <td>0</td>\n",
       "      <td>F</td>\n",
       "      <td>компаньон</td>\n",
       "      <td>0</td>\n",
       "      <td>NaN</td>\n",
       "      <td>строительство недвижимости</td>\n",
       "    </tr>\n",
       "    <tr>\n",
       "      <td>21502</td>\n",
       "      <td>1</td>\n",
       "      <td>NaN</td>\n",
       "      <td>42</td>\n",
       "      <td>среднее</td>\n",
       "      <td>1</td>\n",
       "      <td>женат / замужем</td>\n",
       "      <td>0</td>\n",
       "      <td>F</td>\n",
       "      <td>сотрудник</td>\n",
       "      <td>0</td>\n",
       "      <td>NaN</td>\n",
       "      <td>строительство жилой недвижимости</td>\n",
       "    </tr>\n",
       "    <tr>\n",
       "      <td>21510</td>\n",
       "      <td>2</td>\n",
       "      <td>NaN</td>\n",
       "      <td>28</td>\n",
       "      <td>среднее</td>\n",
       "      <td>1</td>\n",
       "      <td>женат / замужем</td>\n",
       "      <td>0</td>\n",
       "      <td>F</td>\n",
       "      <td>сотрудник</td>\n",
       "      <td>0</td>\n",
       "      <td>NaN</td>\n",
       "      <td>приобретение автомобиля</td>\n",
       "    </tr>\n",
       "  </tbody>\n",
       "</table>\n",
       "<p>2174 rows × 12 columns</p>\n",
       "</div>"
      ],
      "text/plain": [
       "       children  days_employed  dob_years education  education_id  \\\n",
       "12            0            NaN         65   среднее             1   \n",
       "26            0            NaN         41   среднее             1   \n",
       "29            0            NaN         63   среднее             1   \n",
       "41            0            NaN         50   среднее             1   \n",
       "55            0            NaN         54   среднее             1   \n",
       "...         ...            ...        ...       ...           ...   \n",
       "21489         2            NaN         47   Среднее             1   \n",
       "21495         1            NaN         50   среднее             1   \n",
       "21497         0            NaN         48    ВЫСШЕЕ             0   \n",
       "21502         1            NaN         42   среднее             1   \n",
       "21510         2            NaN         28   среднее             1   \n",
       "\n",
       "               family_status  family_status_id gender  income_type  debt  \\\n",
       "12          гражданский брак                 1      M    пенсионер     0   \n",
       "26           женат / замужем                 0      M  госслужащий     0   \n",
       "29     Не женат / не замужем                 4      F    пенсионер     0   \n",
       "41           женат / замужем                 0      F  госслужащий     0   \n",
       "55          гражданский брак                 1      F    пенсионер     1   \n",
       "...                      ...               ...    ...          ...   ...   \n",
       "21489        женат / замужем                 0      M    компаньон     0   \n",
       "21495       гражданский брак                 1      F    сотрудник     0   \n",
       "21497        женат / замужем                 0      F    компаньон     0   \n",
       "21502        женат / замужем                 0      F    сотрудник     0   \n",
       "21510        женат / замужем                 0      F    сотрудник     0   \n",
       "\n",
       "       total_income                           purpose  \n",
       "12              NaN                   сыграть свадьбу  \n",
       "26              NaN                       образование  \n",
       "29              NaN  строительство жилой недвижимости  \n",
       "41              NaN  сделка с подержанным автомобилем  \n",
       "55              NaN                   сыграть свадьбу  \n",
       "...             ...                               ...  \n",
       "21489           NaN              сделка с автомобилем  \n",
       "21495           NaN                           свадьба  \n",
       "21497           NaN        строительство недвижимости  \n",
       "21502           NaN  строительство жилой недвижимости  \n",
       "21510           NaN           приобретение автомобиля  \n",
       "\n",
       "[2174 rows x 12 columns]"
      ]
     },
     "execution_count": 136,
     "metadata": {},
     "output_type": "execute_result"
    }
   ],
   "source": [
    "null_values_total_income = data[data['total_income'].isna()==True]\n",
    "null_values_total_income"
   ]
  },
  {
   "cell_type": "markdown",
   "id": "0017a8c2",
   "metadata": {},
   "source": [
    "Получили, что в **2174** строках пропущены значения в каждом из столбцов\n",
    "Проверим, что в тех строках, в которых нет данных по отработанным дням, нет и данных по суммарному доходу:"
   ]
  },
  {
   "cell_type": "code",
   "execution_count": 137,
   "id": "dd039a86",
   "metadata": {},
   "outputs": [
    {
     "data": {
      "text/plain": [
       "2174"
      ]
     },
     "execution_count": 137,
     "metadata": {},
     "output_type": "execute_result"
    }
   ],
   "source": [
    "data[(data['days_employed'].isna() & data['total_income'].isna())==True].shape[0]"
   ]
  },
  {
   "cell_type": "markdown",
   "id": "cd9488f6",
   "metadata": {},
   "source": [
    "Как видим, в тех строках, где отсутствуют значения по отработанным дням, отсутсвуют значения и по суммарному доходу"
   ]
  },
  {
   "cell_type": "markdown",
   "id": "cb5f3c52",
   "metadata": {},
   "source": [
    "Сохраним таблицу с пропущенными данными в переменную null_values"
   ]
  },
  {
   "cell_type": "code",
   "execution_count": 138,
   "id": "ae793fce",
   "metadata": {},
   "outputs": [],
   "source": [
    "null_values = data[(data['days_employed'].isna() & data['total_income'].isna())==True]"
   ]
  },
  {
   "cell_type": "code",
   "execution_count": 139,
   "id": "a641d244",
   "metadata": {},
   "outputs": [
    {
     "data": {
      "text/html": [
       "<div>\n",
       "<style scoped>\n",
       "    .dataframe tbody tr th:only-of-type {\n",
       "        vertical-align: middle;\n",
       "    }\n",
       "\n",
       "    .dataframe tbody tr th {\n",
       "        vertical-align: top;\n",
       "    }\n",
       "\n",
       "    .dataframe thead th {\n",
       "        text-align: right;\n",
       "    }\n",
       "</style>\n",
       "<table border=\"1\" class=\"dataframe\">\n",
       "  <thead>\n",
       "    <tr style=\"text-align: right;\">\n",
       "      <th></th>\n",
       "      <th>children</th>\n",
       "      <th>days_employed</th>\n",
       "      <th>dob_years</th>\n",
       "      <th>education</th>\n",
       "      <th>education_id</th>\n",
       "      <th>family_status</th>\n",
       "      <th>family_status_id</th>\n",
       "      <th>gender</th>\n",
       "      <th>income_type</th>\n",
       "      <th>debt</th>\n",
       "      <th>total_income</th>\n",
       "      <th>purpose</th>\n",
       "    </tr>\n",
       "  </thead>\n",
       "  <tbody>\n",
       "    <tr>\n",
       "      <td>12</td>\n",
       "      <td>0</td>\n",
       "      <td>NaN</td>\n",
       "      <td>65</td>\n",
       "      <td>среднее</td>\n",
       "      <td>1</td>\n",
       "      <td>гражданский брак</td>\n",
       "      <td>1</td>\n",
       "      <td>M</td>\n",
       "      <td>пенсионер</td>\n",
       "      <td>0</td>\n",
       "      <td>NaN</td>\n",
       "      <td>сыграть свадьбу</td>\n",
       "    </tr>\n",
       "    <tr>\n",
       "      <td>26</td>\n",
       "      <td>0</td>\n",
       "      <td>NaN</td>\n",
       "      <td>41</td>\n",
       "      <td>среднее</td>\n",
       "      <td>1</td>\n",
       "      <td>женат / замужем</td>\n",
       "      <td>0</td>\n",
       "      <td>M</td>\n",
       "      <td>госслужащий</td>\n",
       "      <td>0</td>\n",
       "      <td>NaN</td>\n",
       "      <td>образование</td>\n",
       "    </tr>\n",
       "    <tr>\n",
       "      <td>29</td>\n",
       "      <td>0</td>\n",
       "      <td>NaN</td>\n",
       "      <td>63</td>\n",
       "      <td>среднее</td>\n",
       "      <td>1</td>\n",
       "      <td>Не женат / не замужем</td>\n",
       "      <td>4</td>\n",
       "      <td>F</td>\n",
       "      <td>пенсионер</td>\n",
       "      <td>0</td>\n",
       "      <td>NaN</td>\n",
       "      <td>строительство жилой недвижимости</td>\n",
       "    </tr>\n",
       "    <tr>\n",
       "      <td>41</td>\n",
       "      <td>0</td>\n",
       "      <td>NaN</td>\n",
       "      <td>50</td>\n",
       "      <td>среднее</td>\n",
       "      <td>1</td>\n",
       "      <td>женат / замужем</td>\n",
       "      <td>0</td>\n",
       "      <td>F</td>\n",
       "      <td>госслужащий</td>\n",
       "      <td>0</td>\n",
       "      <td>NaN</td>\n",
       "      <td>сделка с подержанным автомобилем</td>\n",
       "    </tr>\n",
       "    <tr>\n",
       "      <td>55</td>\n",
       "      <td>0</td>\n",
       "      <td>NaN</td>\n",
       "      <td>54</td>\n",
       "      <td>среднее</td>\n",
       "      <td>1</td>\n",
       "      <td>гражданский брак</td>\n",
       "      <td>1</td>\n",
       "      <td>F</td>\n",
       "      <td>пенсионер</td>\n",
       "      <td>1</td>\n",
       "      <td>NaN</td>\n",
       "      <td>сыграть свадьбу</td>\n",
       "    </tr>\n",
       "    <tr>\n",
       "      <td>...</td>\n",
       "      <td>...</td>\n",
       "      <td>...</td>\n",
       "      <td>...</td>\n",
       "      <td>...</td>\n",
       "      <td>...</td>\n",
       "      <td>...</td>\n",
       "      <td>...</td>\n",
       "      <td>...</td>\n",
       "      <td>...</td>\n",
       "      <td>...</td>\n",
       "      <td>...</td>\n",
       "      <td>...</td>\n",
       "    </tr>\n",
       "    <tr>\n",
       "      <td>21489</td>\n",
       "      <td>2</td>\n",
       "      <td>NaN</td>\n",
       "      <td>47</td>\n",
       "      <td>Среднее</td>\n",
       "      <td>1</td>\n",
       "      <td>женат / замужем</td>\n",
       "      <td>0</td>\n",
       "      <td>M</td>\n",
       "      <td>компаньон</td>\n",
       "      <td>0</td>\n",
       "      <td>NaN</td>\n",
       "      <td>сделка с автомобилем</td>\n",
       "    </tr>\n",
       "    <tr>\n",
       "      <td>21495</td>\n",
       "      <td>1</td>\n",
       "      <td>NaN</td>\n",
       "      <td>50</td>\n",
       "      <td>среднее</td>\n",
       "      <td>1</td>\n",
       "      <td>гражданский брак</td>\n",
       "      <td>1</td>\n",
       "      <td>F</td>\n",
       "      <td>сотрудник</td>\n",
       "      <td>0</td>\n",
       "      <td>NaN</td>\n",
       "      <td>свадьба</td>\n",
       "    </tr>\n",
       "    <tr>\n",
       "      <td>21497</td>\n",
       "      <td>0</td>\n",
       "      <td>NaN</td>\n",
       "      <td>48</td>\n",
       "      <td>ВЫСШЕЕ</td>\n",
       "      <td>0</td>\n",
       "      <td>женат / замужем</td>\n",
       "      <td>0</td>\n",
       "      <td>F</td>\n",
       "      <td>компаньон</td>\n",
       "      <td>0</td>\n",
       "      <td>NaN</td>\n",
       "      <td>строительство недвижимости</td>\n",
       "    </tr>\n",
       "    <tr>\n",
       "      <td>21502</td>\n",
       "      <td>1</td>\n",
       "      <td>NaN</td>\n",
       "      <td>42</td>\n",
       "      <td>среднее</td>\n",
       "      <td>1</td>\n",
       "      <td>женат / замужем</td>\n",
       "      <td>0</td>\n",
       "      <td>F</td>\n",
       "      <td>сотрудник</td>\n",
       "      <td>0</td>\n",
       "      <td>NaN</td>\n",
       "      <td>строительство жилой недвижимости</td>\n",
       "    </tr>\n",
       "    <tr>\n",
       "      <td>21510</td>\n",
       "      <td>2</td>\n",
       "      <td>NaN</td>\n",
       "      <td>28</td>\n",
       "      <td>среднее</td>\n",
       "      <td>1</td>\n",
       "      <td>женат / замужем</td>\n",
       "      <td>0</td>\n",
       "      <td>F</td>\n",
       "      <td>сотрудник</td>\n",
       "      <td>0</td>\n",
       "      <td>NaN</td>\n",
       "      <td>приобретение автомобиля</td>\n",
       "    </tr>\n",
       "  </tbody>\n",
       "</table>\n",
       "<p>2174 rows × 12 columns</p>\n",
       "</div>"
      ],
      "text/plain": [
       "       children  days_employed  dob_years education  education_id  \\\n",
       "12            0            NaN         65   среднее             1   \n",
       "26            0            NaN         41   среднее             1   \n",
       "29            0            NaN         63   среднее             1   \n",
       "41            0            NaN         50   среднее             1   \n",
       "55            0            NaN         54   среднее             1   \n",
       "...         ...            ...        ...       ...           ...   \n",
       "21489         2            NaN         47   Среднее             1   \n",
       "21495         1            NaN         50   среднее             1   \n",
       "21497         0            NaN         48    ВЫСШЕЕ             0   \n",
       "21502         1            NaN         42   среднее             1   \n",
       "21510         2            NaN         28   среднее             1   \n",
       "\n",
       "               family_status  family_status_id gender  income_type  debt  \\\n",
       "12          гражданский брак                 1      M    пенсионер     0   \n",
       "26           женат / замужем                 0      M  госслужащий     0   \n",
       "29     Не женат / не замужем                 4      F    пенсионер     0   \n",
       "41           женат / замужем                 0      F  госслужащий     0   \n",
       "55          гражданский брак                 1      F    пенсионер     1   \n",
       "...                      ...               ...    ...          ...   ...   \n",
       "21489        женат / замужем                 0      M    компаньон     0   \n",
       "21495       гражданский брак                 1      F    сотрудник     0   \n",
       "21497        женат / замужем                 0      F    компаньон     0   \n",
       "21502        женат / замужем                 0      F    сотрудник     0   \n",
       "21510        женат / замужем                 0      F    сотрудник     0   \n",
       "\n",
       "       total_income                           purpose  \n",
       "12              NaN                   сыграть свадьбу  \n",
       "26              NaN                       образование  \n",
       "29              NaN  строительство жилой недвижимости  \n",
       "41              NaN  сделка с подержанным автомобилем  \n",
       "55              NaN                   сыграть свадьбу  \n",
       "...             ...                               ...  \n",
       "21489           NaN              сделка с автомобилем  \n",
       "21495           NaN                           свадьба  \n",
       "21497           NaN        строительство недвижимости  \n",
       "21502           NaN  строительство жилой недвижимости  \n",
       "21510           NaN           приобретение автомобиля  \n",
       "\n",
       "[2174 rows x 12 columns]"
      ]
     },
     "execution_count": 139,
     "metadata": {},
     "output_type": "execute_result"
    }
   ],
   "source": [
    "null_values"
   ]
  },
  {
   "cell_type": "markdown",
   "id": "9061fab9",
   "metadata": {},
   "source": [
    "Проверим, как распределены строки с пропущенными значениями по разным категориям дохода ('income_type'), чтобы оценить, насколько пропуски случайны"
   ]
  },
  {
   "cell_type": "code",
   "execution_count": 140,
   "id": "4f671e92",
   "metadata": {},
   "outputs": [],
   "source": [
    "nulls = null_values['income_type'].value_counts().reset_index().rename(columns={'index':'income_type','income_type':'count'})"
   ]
  },
  {
   "cell_type": "code",
   "execution_count": 141,
   "id": "c6ee909a",
   "metadata": {},
   "outputs": [
    {
     "data": {
      "text/html": [
       "<div>\n",
       "<style scoped>\n",
       "    .dataframe tbody tr th:only-of-type {\n",
       "        vertical-align: middle;\n",
       "    }\n",
       "\n",
       "    .dataframe tbody tr th {\n",
       "        vertical-align: top;\n",
       "    }\n",
       "\n",
       "    .dataframe thead th {\n",
       "        text-align: right;\n",
       "    }\n",
       "</style>\n",
       "<table border=\"1\" class=\"dataframe\">\n",
       "  <thead>\n",
       "    <tr style=\"text-align: right;\">\n",
       "      <th></th>\n",
       "      <th>income_type</th>\n",
       "      <th>count</th>\n",
       "    </tr>\n",
       "  </thead>\n",
       "  <tbody>\n",
       "    <tr>\n",
       "      <td>0</td>\n",
       "      <td>сотрудник</td>\n",
       "      <td>1105</td>\n",
       "    </tr>\n",
       "    <tr>\n",
       "      <td>1</td>\n",
       "      <td>компаньон</td>\n",
       "      <td>508</td>\n",
       "    </tr>\n",
       "    <tr>\n",
       "      <td>2</td>\n",
       "      <td>пенсионер</td>\n",
       "      <td>413</td>\n",
       "    </tr>\n",
       "    <tr>\n",
       "      <td>3</td>\n",
       "      <td>госслужащий</td>\n",
       "      <td>147</td>\n",
       "    </tr>\n",
       "    <tr>\n",
       "      <td>4</td>\n",
       "      <td>предприниматель</td>\n",
       "      <td>1</td>\n",
       "    </tr>\n",
       "  </tbody>\n",
       "</table>\n",
       "</div>"
      ],
      "text/plain": [
       "       income_type  count\n",
       "0        сотрудник   1105\n",
       "1        компаньон    508\n",
       "2        пенсионер    413\n",
       "3      госслужащий    147\n",
       "4  предприниматель      1"
      ]
     },
     "execution_count": 141,
     "metadata": {},
     "output_type": "execute_result"
    }
   ],
   "source": [
    "nulls"
   ]
  },
  {
   "cell_type": "code",
   "execution_count": 142,
   "id": "0d49819d",
   "metadata": {},
   "outputs": [
    {
     "data": {
      "text/plain": [
       "5"
      ]
     },
     "execution_count": 142,
     "metadata": {},
     "output_type": "execute_result"
    }
   ],
   "source": [
    "null_observations = nulls.shape[0]\n",
    "null_observations"
   ]
  },
  {
   "cell_type": "markdown",
   "id": "408a8092",
   "metadata": {},
   "source": [
    "В основном датафрейме data распределение следующее:"
   ]
  },
  {
   "cell_type": "code",
   "execution_count": 143,
   "id": "f0ae516a",
   "metadata": {},
   "outputs": [],
   "source": [
    "all_data_income = data['income_type'].value_counts().reset_index().rename(columns={'index':'income_type','income_type':'count'})"
   ]
  },
  {
   "cell_type": "code",
   "execution_count": 144,
   "id": "21425211",
   "metadata": {},
   "outputs": [],
   "source": [
    "observations = data.shape[0]"
   ]
  },
  {
   "cell_type": "code",
   "execution_count": 145,
   "id": "f0f6dacb",
   "metadata": {
    "scrolled": true
   },
   "outputs": [
    {
     "data": {
      "text/html": [
       "<div>\n",
       "<style scoped>\n",
       "    .dataframe tbody tr th:only-of-type {\n",
       "        vertical-align: middle;\n",
       "    }\n",
       "\n",
       "    .dataframe tbody tr th {\n",
       "        vertical-align: top;\n",
       "    }\n",
       "\n",
       "    .dataframe thead th {\n",
       "        text-align: right;\n",
       "    }\n",
       "</style>\n",
       "<table border=\"1\" class=\"dataframe\">\n",
       "  <thead>\n",
       "    <tr style=\"text-align: right;\">\n",
       "      <th></th>\n",
       "      <th>income_type</th>\n",
       "      <th>count</th>\n",
       "      <th>ratio</th>\n",
       "    </tr>\n",
       "  </thead>\n",
       "  <tbody>\n",
       "    <tr>\n",
       "      <td>0</td>\n",
       "      <td>сотрудник</td>\n",
       "      <td>1105</td>\n",
       "      <td>221.0</td>\n",
       "    </tr>\n",
       "    <tr>\n",
       "      <td>1</td>\n",
       "      <td>компаньон</td>\n",
       "      <td>508</td>\n",
       "      <td>101.6</td>\n",
       "    </tr>\n",
       "    <tr>\n",
       "      <td>2</td>\n",
       "      <td>пенсионер</td>\n",
       "      <td>413</td>\n",
       "      <td>82.6</td>\n",
       "    </tr>\n",
       "    <tr>\n",
       "      <td>3</td>\n",
       "      <td>госслужащий</td>\n",
       "      <td>147</td>\n",
       "      <td>29.4</td>\n",
       "    </tr>\n",
       "    <tr>\n",
       "      <td>4</td>\n",
       "      <td>предприниматель</td>\n",
       "      <td>1</td>\n",
       "      <td>0.2</td>\n",
       "    </tr>\n",
       "  </tbody>\n",
       "</table>\n",
       "</div>"
      ],
      "text/plain": [
       "       income_type  count  ratio\n",
       "0        сотрудник   1105  221.0\n",
       "1        компаньон    508  101.6\n",
       "2        пенсионер    413   82.6\n",
       "3      госслужащий    147   29.4\n",
       "4  предприниматель      1    0.2"
      ]
     },
     "execution_count": 145,
     "metadata": {},
     "output_type": "execute_result"
    }
   ],
   "source": [
    "nulls['ratio'] = nulls['count'].astype('int') / null_observations\n",
    "nulls.sort_values(by='ratio',ascending=False)"
   ]
  },
  {
   "cell_type": "code",
   "execution_count": 146,
   "id": "b1b2acb2",
   "metadata": {},
   "outputs": [
    {
     "data": {
      "text/html": [
       "<div>\n",
       "<style scoped>\n",
       "    .dataframe tbody tr th:only-of-type {\n",
       "        vertical-align: middle;\n",
       "    }\n",
       "\n",
       "    .dataframe tbody tr th {\n",
       "        vertical-align: top;\n",
       "    }\n",
       "\n",
       "    .dataframe thead th {\n",
       "        text-align: right;\n",
       "    }\n",
       "</style>\n",
       "<table border=\"1\" class=\"dataframe\">\n",
       "  <thead>\n",
       "    <tr style=\"text-align: right;\">\n",
       "      <th></th>\n",
       "      <th>income_type</th>\n",
       "      <th>count</th>\n",
       "      <th>ratio</th>\n",
       "    </tr>\n",
       "  </thead>\n",
       "  <tbody>\n",
       "    <tr>\n",
       "      <td>0</td>\n",
       "      <td>сотрудник</td>\n",
       "      <td>11119</td>\n",
       "      <td>0.516562</td>\n",
       "    </tr>\n",
       "    <tr>\n",
       "      <td>1</td>\n",
       "      <td>компаньон</td>\n",
       "      <td>5085</td>\n",
       "      <td>0.236237</td>\n",
       "    </tr>\n",
       "    <tr>\n",
       "      <td>2</td>\n",
       "      <td>пенсионер</td>\n",
       "      <td>3856</td>\n",
       "      <td>0.179141</td>\n",
       "    </tr>\n",
       "    <tr>\n",
       "      <td>3</td>\n",
       "      <td>госслужащий</td>\n",
       "      <td>1459</td>\n",
       "      <td>0.067782</td>\n",
       "    </tr>\n",
       "    <tr>\n",
       "      <td>4</td>\n",
       "      <td>безработный</td>\n",
       "      <td>2</td>\n",
       "      <td>0.000093</td>\n",
       "    </tr>\n",
       "    <tr>\n",
       "      <td>5</td>\n",
       "      <td>предприниматель</td>\n",
       "      <td>2</td>\n",
       "      <td>0.000093</td>\n",
       "    </tr>\n",
       "    <tr>\n",
       "      <td>6</td>\n",
       "      <td>студент</td>\n",
       "      <td>1</td>\n",
       "      <td>0.000046</td>\n",
       "    </tr>\n",
       "    <tr>\n",
       "      <td>7</td>\n",
       "      <td>в декрете</td>\n",
       "      <td>1</td>\n",
       "      <td>0.000046</td>\n",
       "    </tr>\n",
       "  </tbody>\n",
       "</table>\n",
       "</div>"
      ],
      "text/plain": [
       "       income_type  count     ratio\n",
       "0        сотрудник  11119  0.516562\n",
       "1        компаньон   5085  0.236237\n",
       "2        пенсионер   3856  0.179141\n",
       "3      госслужащий   1459  0.067782\n",
       "4      безработный      2  0.000093\n",
       "5  предприниматель      2  0.000093\n",
       "6          студент      1  0.000046\n",
       "7        в декрете      1  0.000046"
      ]
     },
     "execution_count": 146,
     "metadata": {},
     "output_type": "execute_result"
    }
   ],
   "source": [
    "all_data_income['ratio'] = all_data_income['count'].astype('int') / observations\n",
    "all_data_income.sort_values(by='ratio',ascending=False)"
   ]
  },
  {
   "cell_type": "markdown",
   "id": "fd226aa7",
   "metadata": {},
   "source": [
    "Видим, что распредление профессий сходное в срезе с пропущенными данными и в основном датафрейме, скорее всего потеря данных случайна и вызвана человеческим фактором.\n",
    "В этом случае, для количественных переменных оптимальным будет заполение пропусков медианным значением по категории, это не приведет к сильному искажению данных."
   ]
  },
  {
   "cell_type": "code",
   "execution_count": 147,
   "id": "84fa8850",
   "metadata": {},
   "outputs": [
    {
     "data": {
      "text/plain": [
       "income_type\n",
       "безработный        366413.652744\n",
       "в декрете           -3296.759962\n",
       "госслужащий         -2689.368353\n",
       "компаньон           -1547.382223\n",
       "пенсионер          365213.306266\n",
       "предприниматель      -520.848083\n",
       "сотрудник           -1574.202821\n",
       "студент              -578.751554\n",
       "Name: days_employed, dtype: float64"
      ]
     },
     "execution_count": 147,
     "metadata": {},
     "output_type": "execute_result"
    }
   ],
   "source": [
    "days_employed_income_type_median = data.groupby('income_type')['days_employed'].median()\n",
    "days_employed_income_type_median"
   ]
  },
  {
   "cell_type": "code",
   "execution_count": 148,
   "id": "a935de88",
   "metadata": {},
   "outputs": [
    {
     "data": {
      "text/plain": [
       "{'безработный': 131339.7516762103,\n",
       " 'в декрете': 53829.13072905995,\n",
       " 'госслужащий': 150447.9352830068,\n",
       " 'компаньон': 172357.95096577113,\n",
       " 'пенсионер': 118514.48641164352,\n",
       " 'предприниматель': 499163.1449470857,\n",
       " 'сотрудник': 142594.39684740017,\n",
       " 'студент': 98201.62531401133}"
      ]
     },
     "execution_count": 148,
     "metadata": {},
     "output_type": "execute_result"
    }
   ],
   "source": [
    "total_income_type_median = dict(data.groupby('income_type')['total_income'].median())\n",
    "total_income_type_median"
   ]
  },
  {
   "cell_type": "code",
   "execution_count": 149,
   "id": "8aadac3c",
   "metadata": {},
   "outputs": [],
   "source": [
    "for key, value in days_employed_income_type_median.items():\n",
    "    data.loc[(data['income_type']==key)&(data['days_employed'].isna()),'days_employed'] = value"
   ]
  },
  {
   "cell_type": "code",
   "execution_count": 150,
   "id": "d8938223",
   "metadata": {},
   "outputs": [],
   "source": [
    "for key, value in total_income_type_median.items():\n",
    "    data.loc[(data['income_type']==key)&(data['total_income'].isna()),'total_income'] = value"
   ]
  },
  {
   "cell_type": "code",
   "execution_count": 151,
   "id": "3eda3f49",
   "metadata": {},
   "outputs": [
    {
     "name": "stdout",
     "output_type": "stream",
     "text": [
      "<class 'pandas.core.frame.DataFrame'>\n",
      "RangeIndex: 21525 entries, 0 to 21524\n",
      "Data columns (total 12 columns):\n",
      "children            21525 non-null int64\n",
      "days_employed       21525 non-null float64\n",
      "dob_years           21525 non-null int64\n",
      "education           21525 non-null object\n",
      "education_id        21525 non-null int64\n",
      "family_status       21525 non-null object\n",
      "family_status_id    21525 non-null int64\n",
      "gender              21525 non-null object\n",
      "income_type         21525 non-null object\n",
      "debt                21525 non-null int64\n",
      "total_income        21525 non-null float64\n",
      "purpose             21525 non-null object\n",
      "dtypes: float64(2), int64(5), object(5)\n",
      "memory usage: 2.0+ MB\n"
     ]
    }
   ],
   "source": [
    "data.info()"
   ]
  },
  {
   "cell_type": "markdown",
   "id": "41b24ffd",
   "metadata": {},
   "source": [
    "Как видим, все пропуски заполнены"
   ]
  },
  {
   "cell_type": "markdown",
   "id": "326400bd",
   "metadata": {},
   "source": [
    "### Шаг 2.2 Проверка данных на аномалии и исправления."
   ]
  },
  {
   "cell_type": "markdown",
   "id": "b3cca3e8",
   "metadata": {},
   "source": [
    "В ходе работы с датасетом заметили, что в данных столбца days_employed присутствуют отрицательные значения, даже медианное значение по этому столбцу отрицательное. Это явная ошибка внесения или обработки данных.\n",
    "\n",
    "Изменим отрицательные значения в данном столбце на положительные, заодно заменив тип данных на целочисленный:"
   ]
  },
  {
   "cell_type": "code",
   "execution_count": 152,
   "id": "602dc49c",
   "metadata": {},
   "outputs": [
    {
     "data": {
      "text/plain": [
       "-1574.202821      1105\n",
       "-1547.382223       509\n",
       " 365213.306266     414\n",
       "-2689.368353       147\n",
       "-520.848083          2\n",
       "                  ... \n",
       "-339.153770          1\n",
       "-2849.351119         1\n",
       "-5619.328204         1\n",
       "-448.829898          1\n",
       "-582.538413          1\n",
       "Name: days_employed, Length: 19353, dtype: int64"
      ]
     },
     "execution_count": 152,
     "metadata": {},
     "output_type": "execute_result"
    }
   ],
   "source": [
    "data['days_employed'].value_counts()"
   ]
  },
  {
   "cell_type": "code",
   "execution_count": 153,
   "id": "d7462065",
   "metadata": {},
   "outputs": [],
   "source": [
    "data['days_employed'] = abs(data['days_employed']).astype('int')"
   ]
  },
  {
   "cell_type": "markdown",
   "id": "c421bb1c",
   "metadata": {},
   "source": [
    "Проверим, что в столбце не осталось отрицательных значений:"
   ]
  },
  {
   "cell_type": "code",
   "execution_count": 154,
   "id": "6c26d962",
   "metadata": {},
   "outputs": [
    {
     "data": {
      "text/plain": [
       "0"
      ]
     },
     "execution_count": 154,
     "metadata": {},
     "output_type": "execute_result"
    }
   ],
   "source": [
    "data[data['days_employed'] < 0].shape[0]"
   ]
  },
  {
   "cell_type": "markdown",
   "id": "ae89be87",
   "metadata": {},
   "source": [
    "Максимальное значение столбца days_employed - явный выброс - это 1100 лет работы:"
   ]
  },
  {
   "cell_type": "code",
   "execution_count": 155,
   "id": "eb1d7032",
   "metadata": {},
   "outputs": [
    {
     "data": {
      "text/plain": [
       "1100.6986301369864"
      ]
     },
     "execution_count": 155,
     "metadata": {},
     "output_type": "execute_result"
    }
   ],
   "source": [
    "data['days_employed'].max()/365"
   ]
  },
  {
   "cell_type": "code",
   "execution_count": 156,
   "id": "62c58680",
   "metadata": {},
   "outputs": [
    {
     "data": {
      "text/plain": [
       "999.23397260274"
      ]
     },
     "execution_count": 156,
     "metadata": {},
     "output_type": "execute_result"
    }
   ],
   "source": [
    "data['days_employed'].quantile(.9)/365"
   ]
  },
  {
   "cell_type": "markdown",
   "id": "fc9fa360",
   "metadata": {},
   "source": [
    "Для значений стобца \"days_employed\" превышающих 50 лет работы, заменим значения на медианные"
   ]
  },
  {
   "cell_type": "code",
   "execution_count": 160,
   "id": "1bbb0a8d",
   "metadata": {},
   "outputs": [],
   "source": [
    "data.loc[data['days_employed']/365 >=50, 'days_employed'] = median_employed\n"
   ]
  },
  {
   "cell_type": "code",
   "execution_count": 161,
   "id": "3267c4a4",
   "metadata": {},
   "outputs": [
    {
     "data": {
      "text/html": [
       "<div>\n",
       "<style scoped>\n",
       "    .dataframe tbody tr th:only-of-type {\n",
       "        vertical-align: middle;\n",
       "    }\n",
       "\n",
       "    .dataframe tbody tr th {\n",
       "        vertical-align: top;\n",
       "    }\n",
       "\n",
       "    .dataframe thead th {\n",
       "        text-align: right;\n",
       "    }\n",
       "</style>\n",
       "<table border=\"1\" class=\"dataframe\">\n",
       "  <thead>\n",
       "    <tr style=\"text-align: right;\">\n",
       "      <th></th>\n",
       "      <th>children</th>\n",
       "      <th>days_employed</th>\n",
       "      <th>dob_years</th>\n",
       "      <th>education_id</th>\n",
       "      <th>family_status_id</th>\n",
       "      <th>debt</th>\n",
       "      <th>total_income</th>\n",
       "    </tr>\n",
       "  </thead>\n",
       "  <tbody>\n",
       "    <tr>\n",
       "      <td>count</td>\n",
       "      <td>21525.000000</td>\n",
       "      <td>21525.000000</td>\n",
       "      <td>21525.000000</td>\n",
       "      <td>21525.000000</td>\n",
       "      <td>21525.000000</td>\n",
       "      <td>21525.000000</td>\n",
       "      <td>2.152500e+04</td>\n",
       "    </tr>\n",
       "    <tr>\n",
       "      <td>mean</td>\n",
       "      <td>0.538908</td>\n",
       "      <td>2230.554332</td>\n",
       "      <td>43.293380</td>\n",
       "      <td>0.817236</td>\n",
       "      <td>0.972544</td>\n",
       "      <td>0.080883</td>\n",
       "      <td>1.652253e+05</td>\n",
       "    </tr>\n",
       "    <tr>\n",
       "      <td>std</td>\n",
       "      <td>1.381587</td>\n",
       "      <td>1991.775100</td>\n",
       "      <td>12.574584</td>\n",
       "      <td>0.548138</td>\n",
       "      <td>1.420324</td>\n",
       "      <td>0.272661</td>\n",
       "      <td>9.804367e+04</td>\n",
       "    </tr>\n",
       "    <tr>\n",
       "      <td>min</td>\n",
       "      <td>-1.000000</td>\n",
       "      <td>24.000000</td>\n",
       "      <td>0.000000</td>\n",
       "      <td>0.000000</td>\n",
       "      <td>0.000000</td>\n",
       "      <td>0.000000</td>\n",
       "      <td>2.066726e+04</td>\n",
       "    </tr>\n",
       "    <tr>\n",
       "      <td>25%</td>\n",
       "      <td>0.000000</td>\n",
       "      <td>1025.000000</td>\n",
       "      <td>33.000000</td>\n",
       "      <td>1.000000</td>\n",
       "      <td>0.000000</td>\n",
       "      <td>0.000000</td>\n",
       "      <td>1.077982e+05</td>\n",
       "    </tr>\n",
       "    <tr>\n",
       "      <td>50%</td>\n",
       "      <td>0.000000</td>\n",
       "      <td>1993.000000</td>\n",
       "      <td>42.000000</td>\n",
       "      <td>1.000000</td>\n",
       "      <td>0.000000</td>\n",
       "      <td>0.000000</td>\n",
       "      <td>1.425944e+05</td>\n",
       "    </tr>\n",
       "    <tr>\n",
       "      <td>75%</td>\n",
       "      <td>1.000000</td>\n",
       "      <td>2569.000000</td>\n",
       "      <td>53.000000</td>\n",
       "      <td>1.000000</td>\n",
       "      <td>1.000000</td>\n",
       "      <td>0.000000</td>\n",
       "      <td>1.955499e+05</td>\n",
       "    </tr>\n",
       "    <tr>\n",
       "      <td>max</td>\n",
       "      <td>20.000000</td>\n",
       "      <td>17615.000000</td>\n",
       "      <td>75.000000</td>\n",
       "      <td>4.000000</td>\n",
       "      <td>4.000000</td>\n",
       "      <td>1.000000</td>\n",
       "      <td>2.265604e+06</td>\n",
       "    </tr>\n",
       "  </tbody>\n",
       "</table>\n",
       "</div>"
      ],
      "text/plain": [
       "           children  days_employed     dob_years  education_id  \\\n",
       "count  21525.000000   21525.000000  21525.000000  21525.000000   \n",
       "mean       0.538908    2230.554332     43.293380      0.817236   \n",
       "std        1.381587    1991.775100     12.574584      0.548138   \n",
       "min       -1.000000      24.000000      0.000000      0.000000   \n",
       "25%        0.000000    1025.000000     33.000000      1.000000   \n",
       "50%        0.000000    1993.000000     42.000000      1.000000   \n",
       "75%        1.000000    2569.000000     53.000000      1.000000   \n",
       "max       20.000000   17615.000000     75.000000      4.000000   \n",
       "\n",
       "       family_status_id          debt  total_income  \n",
       "count      21525.000000  21525.000000  2.152500e+04  \n",
       "mean           0.972544      0.080883  1.652253e+05  \n",
       "std            1.420324      0.272661  9.804367e+04  \n",
       "min            0.000000      0.000000  2.066726e+04  \n",
       "25%            0.000000      0.000000  1.077982e+05  \n",
       "50%            0.000000      0.000000  1.425944e+05  \n",
       "75%            1.000000      0.000000  1.955499e+05  \n",
       "max            4.000000      1.000000  2.265604e+06  "
      ]
     },
     "execution_count": 161,
     "metadata": {},
     "output_type": "execute_result"
    }
   ],
   "source": [
    "data.describe()"
   ]
  },
  {
   "cell_type": "markdown",
   "id": "32342a76",
   "metadata": {},
   "source": [
    "Рассмотрим столбец dob_years - показывающий возраст заемщика. Как видим из вызова метода describe() минимельное значение равно 0, необходимо посчитать сколько таких значений и заменить на медианное"
   ]
  },
  {
   "cell_type": "code",
   "execution_count": 352,
   "id": "b6c118c4",
   "metadata": {},
   "outputs": [
    {
     "data": {
      "text/plain": [
       "101"
      ]
     },
     "execution_count": 352,
     "metadata": {},
     "output_type": "execute_result"
    }
   ],
   "source": [
    "(data['dob_years'] == 0).sum()"
   ]
  },
  {
   "cell_type": "code",
   "execution_count": 353,
   "id": "afc9e494",
   "metadata": {},
   "outputs": [
    {
     "data": {
      "text/plain": [
       "101"
      ]
     },
     "execution_count": 353,
     "metadata": {},
     "output_type": "execute_result"
    }
   ],
   "source": [
    "(data['dob_years'] < 18).sum()"
   ]
  },
  {
   "cell_type": "markdown",
   "id": "80b22dd3",
   "metadata": {},
   "source": [
    "Заемщику не может быть меньше 18 лет, все знчения возраста меньше 18 нулевые.\n",
    "Заменим их медианным значением"
   ]
  },
  {
   "cell_type": "code",
   "execution_count": 354,
   "id": "fd10f1cb",
   "metadata": {},
   "outputs": [],
   "source": [
    "data.loc[data['dob_years'] == 0, 'dob_years'] = data['dob_years'].median()"
   ]
  },
  {
   "cell_type": "code",
   "execution_count": 355,
   "id": "23c8b2c1",
   "metadata": {},
   "outputs": [
    {
     "data": {
      "text/plain": [
       "count    21525.000000\n",
       "mean        43.490453\n",
       "std         12.218595\n",
       "min         19.000000\n",
       "25%         34.000000\n",
       "50%         42.000000\n",
       "75%         53.000000\n",
       "max         75.000000\n",
       "Name: dob_years, dtype: float64"
      ]
     },
     "execution_count": 355,
     "metadata": {},
     "output_type": "execute_result"
    }
   ],
   "source": [
    "data['dob_years'].describe()"
   ]
  },
  {
   "cell_type": "markdown",
   "id": "a2cc451b",
   "metadata": {},
   "source": [
    "Как видим, нулевые значения исправлены\n"
   ]
  },
  {
   "cell_type": "markdown",
   "id": "014da93d",
   "metadata": {},
   "source": [
    "Рассмотрим столбец education:"
   ]
  },
  {
   "cell_type": "code",
   "execution_count": 356,
   "id": "0dce73d0",
   "metadata": {},
   "outputs": [
    {
     "data": {
      "text/plain": [
       "среднее                13750\n",
       "высшее                  4718\n",
       "СРЕДНЕЕ                  772\n",
       "Среднее                  711\n",
       "неоконченное высшее      668\n",
       "ВЫСШЕЕ                   274\n",
       "Высшее                   268\n",
       "начальное                250\n",
       "Неоконченное высшее       47\n",
       "НЕОКОНЧЕННОЕ ВЫСШЕЕ       29\n",
       "НАЧАЛЬНОЕ                 17\n",
       "Начальное                 15\n",
       "ученая степень             4\n",
       "Ученая степень             1\n",
       "УЧЕНАЯ СТЕПЕНЬ             1\n",
       "Name: education, dtype: int64"
      ]
     },
     "execution_count": 356,
     "metadata": {},
     "output_type": "execute_result"
    }
   ],
   "source": [
    "data['education'].value_counts()"
   ]
  },
  {
   "cell_type": "code",
   "execution_count": 361,
   "id": "d82f946f",
   "metadata": {},
   "outputs": [
    {
     "data": {
      "text/plain": [
       "среднее                15233\n",
       "высшее                  5260\n",
       "неоконченное высшее      744\n",
       "начальное                282\n",
       "ученая степень             6\n",
       "Name: education, dtype: int64"
      ]
     },
     "execution_count": 361,
     "metadata": {},
     "output_type": "execute_result"
    }
   ],
   "source": [
    "data['education'] = data['education'].str.lower()\n",
    "data['education'].value_counts()\n"
   ]
  },
  {
   "cell_type": "markdown",
   "id": "7c9e5210",
   "metadata": {},
   "source": [
    "Неявные дубликаты в столбце 'education' удалены"
   ]
  },
  {
   "cell_type": "code",
   "execution_count": 362,
   "id": "bb9759c2",
   "metadata": {},
   "outputs": [
    {
     "data": {
      "text/plain": [
       "F      14236\n",
       "M       7288\n",
       "XNA        1\n",
       "Name: gender, dtype: int64"
      ]
     },
     "execution_count": 362,
     "metadata": {},
     "output_type": "execute_result"
    }
   ],
   "source": [
    "data['gender'].value_counts()"
   ]
  },
  {
   "cell_type": "code",
   "execution_count": 363,
   "id": "aa60b65a",
   "metadata": {},
   "outputs": [
    {
     "data": {
      "text/plain": [
       "женат / замужем          12380\n",
       "гражданский брак          4177\n",
       "Не женат / не замужем     2813\n",
       "в разводе                 1195\n",
       "вдовец / вдова             960\n",
       "Name: family_status, dtype: int64"
      ]
     },
     "execution_count": 363,
     "metadata": {},
     "output_type": "execute_result"
    }
   ],
   "source": [
    "data['family_status'].value_counts()"
   ]
  },
  {
   "cell_type": "markdown",
   "id": "d01b2f5c",
   "metadata": {},
   "source": [
    "Дубликатов нет"
   ]
  },
  {
   "cell_type": "markdown",
   "id": "0e844beb",
   "metadata": {},
   "source": [
    "Проверим, какие значения присутствуют в столбце children"
   ]
  },
  {
   "cell_type": "code",
   "execution_count": 60,
   "id": "d9696e89",
   "metadata": {},
   "outputs": [
    {
     "data": {
      "text/plain": [
       " 0     14149\n",
       " 1      4818\n",
       " 2      2055\n",
       " 3       330\n",
       " 20       76\n",
       "-1        47\n",
       " 4        41\n",
       " 5         9\n",
       "Name: children, dtype: int64"
      ]
     },
     "execution_count": 60,
     "metadata": {},
     "output_type": "execute_result"
    }
   ],
   "source": [
    "data['children'].value_counts()"
   ]
  },
  {
   "cell_type": "markdown",
   "id": "5453f32b",
   "metadata": {},
   "source": [
    "Как видим, в столбце children также присутсвуют аномалии: в 47 строках присутствуют отрицательные значения, в 76 строках указано значение 20 детей. Это очень похоже на ошибку ввода данных, возможно вместо 2 детей указано 20, требует уточнения у поставщика данных.\n",
    "\n",
    "Обработаем аномальные значения: отрицательное количество детей заменим на положительное, 20 детей заменим на 2"
   ]
  },
  {
   "cell_type": "code",
   "execution_count": 61,
   "id": "c079364d",
   "metadata": {},
   "outputs": [],
   "source": [
    "data['children'] = abs(data['children'])"
   ]
  },
  {
   "cell_type": "markdown",
   "id": "e8a429fd",
   "metadata": {},
   "source": [
    "Проверим, что в столбце не осталось отрицательных значений:"
   ]
  },
  {
   "cell_type": "code",
   "execution_count": 62,
   "id": "8cad1db3",
   "metadata": {},
   "outputs": [
    {
     "data": {
      "text/plain": [
       "0"
      ]
     },
     "execution_count": 62,
     "metadata": {},
     "output_type": "execute_result"
    }
   ],
   "source": [
    "data[data['children'] < 0].shape[0]"
   ]
  },
  {
   "cell_type": "markdown",
   "id": "599583dd",
   "metadata": {},
   "source": [
    "Заменим количество детей с 20 на 2:"
   ]
  },
  {
   "cell_type": "code",
   "execution_count": 63,
   "id": "b11df57f",
   "metadata": {},
   "outputs": [],
   "source": [
    "data.loc[data['children']==20, 'children'] = 2"
   ]
  },
  {
   "cell_type": "markdown",
   "id": "1a140f45",
   "metadata": {},
   "source": [
    "Проверим распределение значение в столбце children после обработки аномалий:"
   ]
  },
  {
   "cell_type": "code",
   "execution_count": 64,
   "id": "d5afcb75",
   "metadata": {},
   "outputs": [
    {
     "data": {
      "text/plain": [
       "0    14149\n",
       "1     4865\n",
       "2     2131\n",
       "3      330\n",
       "4       41\n",
       "5        9\n",
       "Name: children, dtype: int64"
      ]
     },
     "execution_count": 64,
     "metadata": {},
     "output_type": "execute_result"
    }
   ],
   "source": [
    "data['children'].value_counts()"
   ]
  },
  {
   "cell_type": "markdown",
   "id": "0fd7518e",
   "metadata": {},
   "source": [
    "Аномалии в данном столбце устранены"
   ]
  },
  {
   "cell_type": "markdown",
   "id": "1b03bc7c",
   "metadata": {},
   "source": [
    "Проверка столбца total_income на аномалии:\n",
    "Проверим, какой максимальный доход заемщика в миллионах рублей"
   ]
  },
  {
   "cell_type": "code",
   "execution_count": 371,
   "id": "d2746fcf",
   "metadata": {},
   "outputs": [
    {
     "data": {
      "text/plain": [
       "2.265604028722744"
      ]
     },
     "execution_count": 371,
     "metadata": {},
     "output_type": "execute_result"
    }
   ],
   "source": [
    "data['total_income'].max()/1000000"
   ]
  },
  {
   "cell_type": "markdown",
   "id": "9ea36fab",
   "metadata": {},
   "source": [
    "Цифра вполне реальная, выбросов в этом столбце нет"
   ]
  },
  {
   "cell_type": "markdown",
   "id": "12939452",
   "metadata": {},
   "source": [
    "### Шаг 2.3. Изменение типов данных."
   ]
  },
  {
   "cell_type": "markdown",
   "id": "f46bdeb8",
   "metadata": {},
   "source": [
    "В столбце total_income присутсвуют вещественнные значения дохода, удобнее было бы использовать целочисленные значения.\n",
    "\n",
    "Преобразуем тим данных в столбце total_income:"
   ]
  },
  {
   "cell_type": "code",
   "execution_count": 65,
   "id": "3b6efbf3",
   "metadata": {},
   "outputs": [],
   "source": [
    "data['total_income'] = data['total_income'].astype('int')"
   ]
  },
  {
   "cell_type": "markdown",
   "id": "b61f7ad8",
   "metadata": {},
   "source": [
    "Проверим тип данных в столбце total_income:"
   ]
  },
  {
   "cell_type": "code",
   "execution_count": 66,
   "id": "4f065d53",
   "metadata": {
    "scrolled": true
   },
   "outputs": [
    {
     "data": {
      "text/plain": [
       "dtype('int64')"
      ]
     },
     "execution_count": 66,
     "metadata": {},
     "output_type": "execute_result"
    }
   ],
   "source": [
    "data['total_income'].dtype"
   ]
  },
  {
   "cell_type": "markdown",
   "id": "04c7a1a4",
   "metadata": {},
   "source": [
    "### Шаг 2.4. Удаление дубликатов."
   ]
  },
  {
   "cell_type": "markdown",
   "id": "eb236433",
   "metadata": {},
   "source": [
    "#### Устранение явных дубликатов"
   ]
  },
  {
   "cell_type": "markdown",
   "id": "62f1ea6d",
   "metadata": {},
   "source": [
    "Проверим данные на наличие явных дубликатов:"
   ]
  },
  {
   "cell_type": "code",
   "execution_count": 67,
   "id": "d8dc9655",
   "metadata": {},
   "outputs": [
    {
     "data": {
      "text/plain": [
       "54"
      ]
     },
     "execution_count": 67,
     "metadata": {},
     "output_type": "execute_result"
    }
   ],
   "source": [
    "data.duplicated().sum()"
   ]
  },
  {
   "cell_type": "markdown",
   "id": "58009a1e",
   "metadata": {},
   "source": [
    "Найдено 54 явных дубликата,\n",
    "\n",
    "Удалим задвоенные строки:"
   ]
  },
  {
   "cell_type": "code",
   "execution_count": 68,
   "id": "1bd5be2d",
   "metadata": {},
   "outputs": [],
   "source": [
    "data = data.drop_duplicates().reset_index(drop=True)"
   ]
  },
  {
   "cell_type": "markdown",
   "id": "989d8111",
   "metadata": {},
   "source": [
    "Проверим, что явные дубликаты успешно устранены:"
   ]
  },
  {
   "cell_type": "code",
   "execution_count": 69,
   "id": "9a98fd2a",
   "metadata": {},
   "outputs": [
    {
     "data": {
      "text/plain": [
       "0"
      ]
     },
     "execution_count": 69,
     "metadata": {},
     "output_type": "execute_result"
    }
   ],
   "source": [
    "data.duplicated().sum()"
   ]
  },
  {
   "cell_type": "markdown",
   "id": "4f662afe",
   "metadata": {},
   "source": [
    "#### Устранение неявных дубликатов"
   ]
  },
  {
   "cell_type": "markdown",
   "id": "17d91551",
   "metadata": {},
   "source": [
    "Рассмотрим уникальные значения столбца education"
   ]
  },
  {
   "cell_type": "code",
   "execution_count": 70,
   "id": "7ea86f8e",
   "metadata": {},
   "outputs": [
    {
     "data": {
      "text/plain": [
       "array(['высшее', 'среднее', 'Среднее', 'СРЕДНЕЕ', 'ВЫСШЕЕ',\n",
       "       'неоконченное высшее', 'начальное', 'Высшее',\n",
       "       'НЕОКОНЧЕННОЕ ВЫСШЕЕ', 'Неоконченное высшее', 'НАЧАЛЬНОЕ',\n",
       "       'Начальное', 'Ученая степень', 'УЧЕНАЯ СТЕПЕНЬ', 'ученая степень'],\n",
       "      dtype=object)"
      ]
     },
     "execution_count": 70,
     "metadata": {},
     "output_type": "execute_result"
    }
   ],
   "source": [
    "data['education'].unique()"
   ]
  },
  {
   "cell_type": "markdown",
   "id": "d50a5a1e",
   "metadata": {},
   "source": [
    "Как видим одни и те же значения написаны в разном регистре.\n",
    "\n",
    "Приведем все значения в столбце education к нижнему регистру:"
   ]
  },
  {
   "cell_type": "code",
   "execution_count": 71,
   "id": "c4e8af2a",
   "metadata": {},
   "outputs": [],
   "source": [
    "data['education'] = data['education'].str.lower()"
   ]
  },
  {
   "cell_type": "markdown",
   "id": "04bf45fd",
   "metadata": {},
   "source": [
    "Проверим уникальные значения столбца education после преобразования:"
   ]
  },
  {
   "cell_type": "code",
   "execution_count": 72,
   "id": "f7407527",
   "metadata": {},
   "outputs": [
    {
     "data": {
      "text/plain": [
       "array(['высшее', 'среднее', 'неоконченное высшее', 'начальное',\n",
       "       'ученая степень'], dtype=object)"
      ]
     },
     "execution_count": 72,
     "metadata": {},
     "output_type": "execute_result"
    }
   ],
   "source": [
    "data['education'].unique()"
   ]
  },
  {
   "cell_type": "markdown",
   "id": "fe9ade73",
   "metadata": {},
   "source": [
    "Рассмотрим уникальные значения столбца family_status:"
   ]
  },
  {
   "cell_type": "code",
   "execution_count": 73,
   "id": "3b0c59de",
   "metadata": {},
   "outputs": [
    {
     "data": {
      "text/plain": [
       "array(['женат / замужем', 'гражданский брак', 'вдовец / вдова',\n",
       "       'в разводе', 'Не женат / не замужем'], dtype=object)"
      ]
     },
     "execution_count": 73,
     "metadata": {},
     "output_type": "execute_result"
    }
   ],
   "source": [
    "data['family_status'].unique()"
   ]
  },
  {
   "cell_type": "markdown",
   "id": "cd142d43",
   "metadata": {},
   "source": [
    "В данном столбце неявные дубликаты отсутсвуют"
   ]
  },
  {
   "cell_type": "markdown",
   "id": "61c6936b",
   "metadata": {},
   "source": [
    "Рассмотрим уникальные значения столбца income_type:"
   ]
  },
  {
   "cell_type": "code",
   "execution_count": 74,
   "id": "ebd0dbc6",
   "metadata": {},
   "outputs": [
    {
     "data": {
      "text/plain": [
       "array(['сотрудник', 'пенсионер', 'компаньон', 'госслужащий',\n",
       "       'безработный', 'предприниматель', 'студент', 'в декрете'],\n",
       "      dtype=object)"
      ]
     },
     "execution_count": 74,
     "metadata": {},
     "output_type": "execute_result"
    }
   ],
   "source": [
    "data['income_type'].unique()"
   ]
  },
  {
   "cell_type": "markdown",
   "id": "eedb3ae3",
   "metadata": {},
   "source": [
    "В данном столбце неявные дубликаты отсутсвуют"
   ]
  },
  {
   "cell_type": "markdown",
   "id": "8c8408ad",
   "metadata": {},
   "source": [
    "Рассмотрим уникальные значения столбца gender:"
   ]
  },
  {
   "cell_type": "code",
   "execution_count": 75,
   "id": "58938ab0",
   "metadata": {},
   "outputs": [
    {
     "data": {
      "text/plain": [
       "array(['F', 'M', 'XNA'], dtype=object)"
      ]
     },
     "execution_count": 75,
     "metadata": {},
     "output_type": "execute_result"
    }
   ],
   "source": [
    "data['gender'].unique()"
   ]
  },
  {
   "cell_type": "markdown",
   "id": "508924a0",
   "metadata": {},
   "source": [
    "В данном столбце неявные дубликаты отсутсвуют  \n",
    "  \n",
    "  "
   ]
  },
  {
   "cell_type": "markdown",
   "id": "254e85e3",
   "metadata": {},
   "source": [
    "Рассмотрим уникальные значения столбца purpose:"
   ]
  },
  {
   "cell_type": "code",
   "execution_count": 76,
   "id": "8ffc54b3",
   "metadata": {},
   "outputs": [
    {
     "data": {
      "text/plain": [
       "array(['покупка жилья', 'приобретение автомобиля',\n",
       "       'дополнительное образование', 'сыграть свадьбу',\n",
       "       'операции с жильем', 'образование', 'на проведение свадьбы',\n",
       "       'покупка жилья для семьи', 'покупка недвижимости',\n",
       "       'покупка коммерческой недвижимости', 'покупка жилой недвижимости',\n",
       "       'строительство собственной недвижимости', 'недвижимость',\n",
       "       'строительство недвижимости', 'на покупку подержанного автомобиля',\n",
       "       'на покупку своего автомобиля',\n",
       "       'операции с коммерческой недвижимостью',\n",
       "       'строительство жилой недвижимости', 'жилье',\n",
       "       'операции со своей недвижимостью', 'автомобили',\n",
       "       'заняться образованием', 'сделка с подержанным автомобилем',\n",
       "       'получение образования', 'автомобиль', 'свадьба',\n",
       "       'получение дополнительного образования', 'покупка своего жилья',\n",
       "       'операции с недвижимостью', 'получение высшего образования',\n",
       "       'свой автомобиль', 'сделка с автомобилем',\n",
       "       'профильное образование', 'высшее образование',\n",
       "       'покупка жилья для сдачи', 'на покупку автомобиля', 'ремонт жилью',\n",
       "       'заняться высшим образованием'], dtype=object)"
      ]
     },
     "execution_count": 76,
     "metadata": {},
     "output_type": "execute_result"
    }
   ],
   "source": [
    "data['purpose'].unique()"
   ]
  },
  {
   "cell_type": "markdown",
   "id": "1ccb2dde",
   "metadata": {},
   "source": [
    "В столбце purpose присутсвует множество неявных дубликатов, например:\n",
    "- 'покупка жилья', 'покупка жилья для семьи', 'покупка недвижимости', 'покупка жилой недвижимости', 'покупка своего жилья'\n",
    "- 'свадьба', 'сыграть свадьбу', 'на проведение свадьбы'\n",
    "- 'приобретение автомобиля', 'на покупку подержанного автомобиля' и \n",
    "\n",
    "Обработку дубликатов в этом столбце **проведем НИЖЕ с помощью функции make_purpose_category**"
   ]
  },
  {
   "cell_type": "markdown",
   "id": "592eeae0",
   "metadata": {},
   "source": [
    "### Шаг 2.5. Формирование дополнительных датафреймов словарей, декомпозиция исходного датафрейма."
   ]
  },
  {
   "cell_type": "code",
   "execution_count": 77,
   "id": "9256f096",
   "metadata": {},
   "outputs": [],
   "source": [
    "education = data[['education_id', 'education']].drop_duplicates().reset_index(drop=True)\n",
    "family = data[['family_status_id', 'family_status']].drop_duplicates().reset_index(drop=True)"
   ]
  },
  {
   "cell_type": "code",
   "execution_count": 78,
   "id": "3fb8c7c8",
   "metadata": {},
   "outputs": [
    {
     "data": {
      "text/html": [
       "<div>\n",
       "<style scoped>\n",
       "    .dataframe tbody tr th:only-of-type {\n",
       "        vertical-align: middle;\n",
       "    }\n",
       "\n",
       "    .dataframe tbody tr th {\n",
       "        vertical-align: top;\n",
       "    }\n",
       "\n",
       "    .dataframe thead th {\n",
       "        text-align: right;\n",
       "    }\n",
       "</style>\n",
       "<table border=\"1\" class=\"dataframe\">\n",
       "  <thead>\n",
       "    <tr style=\"text-align: right;\">\n",
       "      <th></th>\n",
       "      <th>education_id</th>\n",
       "      <th>education</th>\n",
       "    </tr>\n",
       "  </thead>\n",
       "  <tbody>\n",
       "    <tr>\n",
       "      <td>0</td>\n",
       "      <td>0</td>\n",
       "      <td>высшее</td>\n",
       "    </tr>\n",
       "    <tr>\n",
       "      <td>1</td>\n",
       "      <td>1</td>\n",
       "      <td>среднее</td>\n",
       "    </tr>\n",
       "    <tr>\n",
       "      <td>2</td>\n",
       "      <td>2</td>\n",
       "      <td>неоконченное высшее</td>\n",
       "    </tr>\n",
       "    <tr>\n",
       "      <td>3</td>\n",
       "      <td>3</td>\n",
       "      <td>начальное</td>\n",
       "    </tr>\n",
       "    <tr>\n",
       "      <td>4</td>\n",
       "      <td>4</td>\n",
       "      <td>ученая степень</td>\n",
       "    </tr>\n",
       "  </tbody>\n",
       "</table>\n",
       "</div>"
      ],
      "text/plain": [
       "   education_id            education\n",
       "0             0               высшее\n",
       "1             1              среднее\n",
       "2             2  неоконченное высшее\n",
       "3             3            начальное\n",
       "4             4       ученая степень"
      ]
     },
     "execution_count": 78,
     "metadata": {},
     "output_type": "execute_result"
    }
   ],
   "source": [
    "education.head()"
   ]
  },
  {
   "cell_type": "code",
   "execution_count": 79,
   "id": "c7f604b8",
   "metadata": {},
   "outputs": [
    {
     "data": {
      "text/html": [
       "<div>\n",
       "<style scoped>\n",
       "    .dataframe tbody tr th:only-of-type {\n",
       "        vertical-align: middle;\n",
       "    }\n",
       "\n",
       "    .dataframe tbody tr th {\n",
       "        vertical-align: top;\n",
       "    }\n",
       "\n",
       "    .dataframe thead th {\n",
       "        text-align: right;\n",
       "    }\n",
       "</style>\n",
       "<table border=\"1\" class=\"dataframe\">\n",
       "  <thead>\n",
       "    <tr style=\"text-align: right;\">\n",
       "      <th></th>\n",
       "      <th>family_status_id</th>\n",
       "      <th>family_status</th>\n",
       "    </tr>\n",
       "  </thead>\n",
       "  <tbody>\n",
       "    <tr>\n",
       "      <td>0</td>\n",
       "      <td>0</td>\n",
       "      <td>женат / замужем</td>\n",
       "    </tr>\n",
       "    <tr>\n",
       "      <td>1</td>\n",
       "      <td>1</td>\n",
       "      <td>гражданский брак</td>\n",
       "    </tr>\n",
       "    <tr>\n",
       "      <td>2</td>\n",
       "      <td>2</td>\n",
       "      <td>вдовец / вдова</td>\n",
       "    </tr>\n",
       "    <tr>\n",
       "      <td>3</td>\n",
       "      <td>3</td>\n",
       "      <td>в разводе</td>\n",
       "    </tr>\n",
       "    <tr>\n",
       "      <td>4</td>\n",
       "      <td>4</td>\n",
       "      <td>Не женат / не замужем</td>\n",
       "    </tr>\n",
       "  </tbody>\n",
       "</table>\n",
       "</div>"
      ],
      "text/plain": [
       "   family_status_id          family_status\n",
       "0                 0        женат / замужем\n",
       "1                 1       гражданский брак\n",
       "2                 2         вдовец / вдова\n",
       "3                 3              в разводе\n",
       "4                 4  Не женат / не замужем"
      ]
     },
     "execution_count": 79,
     "metadata": {},
     "output_type": "execute_result"
    }
   ],
   "source": [
    "family.head()"
   ]
  },
  {
   "cell_type": "markdown",
   "id": "c5cb31a3",
   "metadata": {},
   "source": [
    "Удалим столбцы education и family_status"
   ]
  },
  {
   "cell_type": "code",
   "execution_count": 80,
   "id": "b4aa6472",
   "metadata": {},
   "outputs": [],
   "source": [
    "data = data.drop(columns=['education', 'family_status'], axis=1)"
   ]
  },
  {
   "cell_type": "markdown",
   "id": "c98cf2e2",
   "metadata": {},
   "source": [
    "### Шаг 2.6. Категоризация дохода."
   ]
  },
  {
   "cell_type": "markdown",
   "id": "cab4aa67",
   "metadata": {},
   "source": [
    "Создадим функцию для определения категорий на основе дохода"
   ]
  },
  {
   "cell_type": "code",
   "execution_count": 81,
   "id": "982ba30d",
   "metadata": {},
   "outputs": [],
   "source": [
    "def make_income_category(income):\n",
    "    if 0 <= income <= 30000:\n",
    "        return 'E'\n",
    "    elif 30001 <= income <= 50000:\n",
    "        return 'D'\n",
    "    elif 50001 <= income <= 200000:\n",
    "        return 'C'\n",
    "    elif 200001 <= income <= 1000000:\n",
    "        return 'B'\n",
    "    else:\n",
    "        return 'A'"
   ]
  },
  {
   "cell_type": "markdown",
   "id": "94595495",
   "metadata": {},
   "source": [
    "Создадим новый столбец в датафрейме - total_income_category"
   ]
  },
  {
   "cell_type": "code",
   "execution_count": 83,
   "id": "b5984cf0",
   "metadata": {
    "scrolled": true
   },
   "outputs": [
    {
     "data": {
      "text/html": [
       "<div>\n",
       "<style scoped>\n",
       "    .dataframe tbody tr th:only-of-type {\n",
       "        vertical-align: middle;\n",
       "    }\n",
       "\n",
       "    .dataframe tbody tr th {\n",
       "        vertical-align: top;\n",
       "    }\n",
       "\n",
       "    .dataframe thead th {\n",
       "        text-align: right;\n",
       "    }\n",
       "</style>\n",
       "<table border=\"1\" class=\"dataframe\">\n",
       "  <thead>\n",
       "    <tr style=\"text-align: right;\">\n",
       "      <th></th>\n",
       "      <th>children</th>\n",
       "      <th>days_employed</th>\n",
       "      <th>dob_years</th>\n",
       "      <th>education_id</th>\n",
       "      <th>family_status_id</th>\n",
       "      <th>gender</th>\n",
       "      <th>income_type</th>\n",
       "      <th>debt</th>\n",
       "      <th>total_income</th>\n",
       "      <th>purpose</th>\n",
       "      <th>total_income_category</th>\n",
       "    </tr>\n",
       "  </thead>\n",
       "  <tbody>\n",
       "    <tr>\n",
       "      <td>0</td>\n",
       "      <td>1</td>\n",
       "      <td>8437.0</td>\n",
       "      <td>42</td>\n",
       "      <td>0</td>\n",
       "      <td>0</td>\n",
       "      <td>F</td>\n",
       "      <td>сотрудник</td>\n",
       "      <td>0</td>\n",
       "      <td>253875</td>\n",
       "      <td>покупка жилья</td>\n",
       "      <td>B</td>\n",
       "    </tr>\n",
       "    <tr>\n",
       "      <td>1</td>\n",
       "      <td>1</td>\n",
       "      <td>4024.0</td>\n",
       "      <td>36</td>\n",
       "      <td>1</td>\n",
       "      <td>0</td>\n",
       "      <td>F</td>\n",
       "      <td>сотрудник</td>\n",
       "      <td>0</td>\n",
       "      <td>112080</td>\n",
       "      <td>приобретение автомобиля</td>\n",
       "      <td>C</td>\n",
       "    </tr>\n",
       "    <tr>\n",
       "      <td>2</td>\n",
       "      <td>0</td>\n",
       "      <td>5623.0</td>\n",
       "      <td>33</td>\n",
       "      <td>1</td>\n",
       "      <td>0</td>\n",
       "      <td>M</td>\n",
       "      <td>сотрудник</td>\n",
       "      <td>0</td>\n",
       "      <td>145885</td>\n",
       "      <td>покупка жилья</td>\n",
       "      <td>C</td>\n",
       "    </tr>\n",
       "    <tr>\n",
       "      <td>3</td>\n",
       "      <td>3</td>\n",
       "      <td>4124.0</td>\n",
       "      <td>32</td>\n",
       "      <td>1</td>\n",
       "      <td>0</td>\n",
       "      <td>M</td>\n",
       "      <td>сотрудник</td>\n",
       "      <td>0</td>\n",
       "      <td>267628</td>\n",
       "      <td>дополнительное образование</td>\n",
       "      <td>B</td>\n",
       "    </tr>\n",
       "    <tr>\n",
       "      <td>4</td>\n",
       "      <td>0</td>\n",
       "      <td>340266.0</td>\n",
       "      <td>53</td>\n",
       "      <td>1</td>\n",
       "      <td>1</td>\n",
       "      <td>F</td>\n",
       "      <td>пенсионер</td>\n",
       "      <td>0</td>\n",
       "      <td>158616</td>\n",
       "      <td>сыграть свадьбу</td>\n",
       "      <td>C</td>\n",
       "    </tr>\n",
       "  </tbody>\n",
       "</table>\n",
       "</div>"
      ],
      "text/plain": [
       "   children  days_employed  dob_years  education_id  family_status_id gender  \\\n",
       "0         1         8437.0         42             0                 0      F   \n",
       "1         1         4024.0         36             1                 0      F   \n",
       "2         0         5623.0         33             1                 0      M   \n",
       "3         3         4124.0         32             1                 0      M   \n",
       "4         0       340266.0         53             1                 1      F   \n",
       "\n",
       "  income_type  debt  total_income                     purpose  \\\n",
       "0   сотрудник     0        253875               покупка жилья   \n",
       "1   сотрудник     0        112080     приобретение автомобиля   \n",
       "2   сотрудник     0        145885               покупка жилья   \n",
       "3   сотрудник     0        267628  дополнительное образование   \n",
       "4   пенсионер     0        158616             сыграть свадьбу   \n",
       "\n",
       "  total_income_category  \n",
       "0                     B  \n",
       "1                     C  \n",
       "2                     C  \n",
       "3                     B  \n",
       "4                     C  "
      ]
     },
     "execution_count": 83,
     "metadata": {},
     "output_type": "execute_result"
    }
   ],
   "source": [
    "data['total_income_category'] = data['total_income'].apply(make_income_category)\n",
    "data.head()"
   ]
  },
  {
   "cell_type": "markdown",
   "id": "860a831b",
   "metadata": {},
   "source": [
    "Проверим корректность:\n"
   ]
  },
  {
   "cell_type": "code",
   "execution_count": 85,
   "id": "a214f3fd",
   "metadata": {
    "scrolled": true
   },
   "outputs": [
    {
     "data": {
      "text/plain": [
       "C    16033\n",
       "B     5041\n",
       "D      350\n",
       "A       25\n",
       "E       22\n",
       "Name: total_income_category, dtype: int64"
      ]
     },
     "execution_count": 85,
     "metadata": {},
     "output_type": "execute_result"
    }
   ],
   "source": [
    "data.total_income_category.value_counts()"
   ]
  },
  {
   "cell_type": "markdown",
   "id": "7fbae99e",
   "metadata": {},
   "source": [
    "После категоризации проверим данные на явныые дубликаты:"
   ]
  },
  {
   "cell_type": "code",
   "execution_count": 364,
   "id": "fa118a31",
   "metadata": {},
   "outputs": [
    {
     "data": {
      "text/plain": [
       "72"
      ]
     },
     "execution_count": 364,
     "metadata": {},
     "output_type": "execute_result"
    }
   ],
   "source": [
    "data.duplicated().sum()"
   ]
  },
  {
   "cell_type": "markdown",
   "id": "124b81ee",
   "metadata": {},
   "source": [
    "Удалим явные дубликаты:"
   ]
  },
  {
   "cell_type": "code",
   "execution_count": 367,
   "id": "fdc56136",
   "metadata": {},
   "outputs": [],
   "source": [
    "data = data.drop_duplicates().reset_index(drop=True)"
   ]
  },
  {
   "cell_type": "markdown",
   "id": "5c810c6d",
   "metadata": {},
   "source": [
    "Проверим, что явные дубликаты удалены:"
   ]
  },
  {
   "cell_type": "code",
   "execution_count": 368,
   "id": "eafd338c",
   "metadata": {},
   "outputs": [
    {
     "data": {
      "text/plain": [
       "0"
      ]
     },
     "execution_count": 368,
     "metadata": {},
     "output_type": "execute_result"
    }
   ],
   "source": [
    "data.duplicated().sum()"
   ]
  },
  {
   "cell_type": "markdown",
   "id": "9d5f18db",
   "metadata": {},
   "source": [
    "### Шаг 2.7. Категоризация целей кредита."
   ]
  },
  {
   "cell_type": "markdown",
   "id": "3880dd92",
   "metadata": {},
   "source": [
    "Создадим фукнцию **make_purpose_category**, которая объединит различные значения столбца purpose в слудующие категории: 'операции с автомобилем', 'операции с недвижимостью', 'проведение свадьбы', 'получение образования'"
   ]
  },
  {
   "cell_type": "code",
   "execution_count": 88,
   "id": "79817dea",
   "metadata": {},
   "outputs": [],
   "source": [
    "def make_purpose_category(row):\n",
    "    if 'автомоб' in row:\n",
    "        return 'операции с автомобилем'\n",
    "    elif ('недвижим' in row) or ('квартир' in row) or ('жиль' in row):\n",
    "        return 'операции с недвижимостью'\n",
    "    elif 'свадьб' in row:\n",
    "        return 'проведение свадьбы'\n",
    "    else: \n",
    "        return 'получение образования'"
   ]
  },
  {
   "cell_type": "markdown",
   "id": "bda13f43",
   "metadata": {},
   "source": [
    "Применим функцию make_purpose_category для формирования нового столбца pupose_category в датафрейме"
   ]
  },
  {
   "cell_type": "code",
   "execution_count": 89,
   "id": "2c5db47c",
   "metadata": {},
   "outputs": [
    {
     "data": {
      "text/html": [
       "<div>\n",
       "<style scoped>\n",
       "    .dataframe tbody tr th:only-of-type {\n",
       "        vertical-align: middle;\n",
       "    }\n",
       "\n",
       "    .dataframe tbody tr th {\n",
       "        vertical-align: top;\n",
       "    }\n",
       "\n",
       "    .dataframe thead th {\n",
       "        text-align: right;\n",
       "    }\n",
       "</style>\n",
       "<table border=\"1\" class=\"dataframe\">\n",
       "  <thead>\n",
       "    <tr style=\"text-align: right;\">\n",
       "      <th></th>\n",
       "      <th>children</th>\n",
       "      <th>days_employed</th>\n",
       "      <th>dob_years</th>\n",
       "      <th>education_id</th>\n",
       "      <th>family_status_id</th>\n",
       "      <th>gender</th>\n",
       "      <th>income_type</th>\n",
       "      <th>debt</th>\n",
       "      <th>total_income</th>\n",
       "      <th>purpose</th>\n",
       "      <th>total_income_category</th>\n",
       "      <th>purpose_category</th>\n",
       "    </tr>\n",
       "  </thead>\n",
       "  <tbody>\n",
       "    <tr>\n",
       "      <td>0</td>\n",
       "      <td>1</td>\n",
       "      <td>8437.0</td>\n",
       "      <td>42</td>\n",
       "      <td>0</td>\n",
       "      <td>0</td>\n",
       "      <td>F</td>\n",
       "      <td>сотрудник</td>\n",
       "      <td>0</td>\n",
       "      <td>253875</td>\n",
       "      <td>покупка жилья</td>\n",
       "      <td>B</td>\n",
       "      <td>операции с недвижимостью</td>\n",
       "    </tr>\n",
       "    <tr>\n",
       "      <td>1</td>\n",
       "      <td>1</td>\n",
       "      <td>4024.0</td>\n",
       "      <td>36</td>\n",
       "      <td>1</td>\n",
       "      <td>0</td>\n",
       "      <td>F</td>\n",
       "      <td>сотрудник</td>\n",
       "      <td>0</td>\n",
       "      <td>112080</td>\n",
       "      <td>приобретение автомобиля</td>\n",
       "      <td>C</td>\n",
       "      <td>операции с автомобилем</td>\n",
       "    </tr>\n",
       "    <tr>\n",
       "      <td>2</td>\n",
       "      <td>0</td>\n",
       "      <td>5623.0</td>\n",
       "      <td>33</td>\n",
       "      <td>1</td>\n",
       "      <td>0</td>\n",
       "      <td>M</td>\n",
       "      <td>сотрудник</td>\n",
       "      <td>0</td>\n",
       "      <td>145885</td>\n",
       "      <td>покупка жилья</td>\n",
       "      <td>C</td>\n",
       "      <td>операции с недвижимостью</td>\n",
       "    </tr>\n",
       "    <tr>\n",
       "      <td>3</td>\n",
       "      <td>3</td>\n",
       "      <td>4124.0</td>\n",
       "      <td>32</td>\n",
       "      <td>1</td>\n",
       "      <td>0</td>\n",
       "      <td>M</td>\n",
       "      <td>сотрудник</td>\n",
       "      <td>0</td>\n",
       "      <td>267628</td>\n",
       "      <td>дополнительное образование</td>\n",
       "      <td>B</td>\n",
       "      <td>получение образования</td>\n",
       "    </tr>\n",
       "    <tr>\n",
       "      <td>4</td>\n",
       "      <td>0</td>\n",
       "      <td>340266.0</td>\n",
       "      <td>53</td>\n",
       "      <td>1</td>\n",
       "      <td>1</td>\n",
       "      <td>F</td>\n",
       "      <td>пенсионер</td>\n",
       "      <td>0</td>\n",
       "      <td>158616</td>\n",
       "      <td>сыграть свадьбу</td>\n",
       "      <td>C</td>\n",
       "      <td>проведение свадьбы</td>\n",
       "    </tr>\n",
       "    <tr>\n",
       "      <td>5</td>\n",
       "      <td>0</td>\n",
       "      <td>926.0</td>\n",
       "      <td>27</td>\n",
       "      <td>0</td>\n",
       "      <td>1</td>\n",
       "      <td>M</td>\n",
       "      <td>компаньон</td>\n",
       "      <td>0</td>\n",
       "      <td>255763</td>\n",
       "      <td>покупка жилья</td>\n",
       "      <td>B</td>\n",
       "      <td>операции с недвижимостью</td>\n",
       "    </tr>\n",
       "    <tr>\n",
       "      <td>6</td>\n",
       "      <td>0</td>\n",
       "      <td>2879.0</td>\n",
       "      <td>43</td>\n",
       "      <td>0</td>\n",
       "      <td>0</td>\n",
       "      <td>F</td>\n",
       "      <td>компаньон</td>\n",
       "      <td>0</td>\n",
       "      <td>240525</td>\n",
       "      <td>операции с жильем</td>\n",
       "      <td>B</td>\n",
       "      <td>операции с недвижимостью</td>\n",
       "    </tr>\n",
       "    <tr>\n",
       "      <td>7</td>\n",
       "      <td>0</td>\n",
       "      <td>152.0</td>\n",
       "      <td>50</td>\n",
       "      <td>1</td>\n",
       "      <td>0</td>\n",
       "      <td>M</td>\n",
       "      <td>сотрудник</td>\n",
       "      <td>0</td>\n",
       "      <td>135823</td>\n",
       "      <td>образование</td>\n",
       "      <td>C</td>\n",
       "      <td>получение образования</td>\n",
       "    </tr>\n",
       "    <tr>\n",
       "      <td>8</td>\n",
       "      <td>2</td>\n",
       "      <td>6929.0</td>\n",
       "      <td>35</td>\n",
       "      <td>0</td>\n",
       "      <td>1</td>\n",
       "      <td>F</td>\n",
       "      <td>сотрудник</td>\n",
       "      <td>0</td>\n",
       "      <td>95856</td>\n",
       "      <td>на проведение свадьбы</td>\n",
       "      <td>C</td>\n",
       "      <td>проведение свадьбы</td>\n",
       "    </tr>\n",
       "    <tr>\n",
       "      <td>9</td>\n",
       "      <td>0</td>\n",
       "      <td>2188.0</td>\n",
       "      <td>41</td>\n",
       "      <td>1</td>\n",
       "      <td>0</td>\n",
       "      <td>M</td>\n",
       "      <td>сотрудник</td>\n",
       "      <td>0</td>\n",
       "      <td>144425</td>\n",
       "      <td>покупка жилья для семьи</td>\n",
       "      <td>C</td>\n",
       "      <td>операции с недвижимостью</td>\n",
       "    </tr>\n",
       "  </tbody>\n",
       "</table>\n",
       "</div>"
      ],
      "text/plain": [
       "   children  days_employed  dob_years  education_id  family_status_id gender  \\\n",
       "0         1         8437.0         42             0                 0      F   \n",
       "1         1         4024.0         36             1                 0      F   \n",
       "2         0         5623.0         33             1                 0      M   \n",
       "3         3         4124.0         32             1                 0      M   \n",
       "4         0       340266.0         53             1                 1      F   \n",
       "5         0          926.0         27             0                 1      M   \n",
       "6         0         2879.0         43             0                 0      F   \n",
       "7         0          152.0         50             1                 0      M   \n",
       "8         2         6929.0         35             0                 1      F   \n",
       "9         0         2188.0         41             1                 0      M   \n",
       "\n",
       "  income_type  debt  total_income                     purpose  \\\n",
       "0   сотрудник     0        253875               покупка жилья   \n",
       "1   сотрудник     0        112080     приобретение автомобиля   \n",
       "2   сотрудник     0        145885               покупка жилья   \n",
       "3   сотрудник     0        267628  дополнительное образование   \n",
       "4   пенсионер     0        158616             сыграть свадьбу   \n",
       "5   компаньон     0        255763               покупка жилья   \n",
       "6   компаньон     0        240525           операции с жильем   \n",
       "7   сотрудник     0        135823                 образование   \n",
       "8   сотрудник     0         95856       на проведение свадьбы   \n",
       "9   сотрудник     0        144425     покупка жилья для семьи   \n",
       "\n",
       "  total_income_category          purpose_category  \n",
       "0                     B  операции с недвижимостью  \n",
       "1                     C    операции с автомобилем  \n",
       "2                     C  операции с недвижимостью  \n",
       "3                     B     получение образования  \n",
       "4                     C        проведение свадьбы  \n",
       "5                     B  операции с недвижимостью  \n",
       "6                     B  операции с недвижимостью  \n",
       "7                     C     получение образования  \n",
       "8                     C        проведение свадьбы  \n",
       "9                     C  операции с недвижимостью  "
      ]
     },
     "execution_count": 89,
     "metadata": {},
     "output_type": "execute_result"
    }
   ],
   "source": [
    "data['purpose_category'] = data['purpose'].apply(make_purpose_category)\n",
    "data.head(10)"
   ]
  },
  {
   "cell_type": "markdown",
   "id": "ebe258f8",
   "metadata": {},
   "source": [
    "Проверим корректность категоризации:\n"
   ]
  },
  {
   "cell_type": "code",
   "execution_count": 90,
   "id": "82036a3e",
   "metadata": {},
   "outputs": [
    {
     "data": {
      "text/plain": [
       "операции с недвижимостью    10814\n",
       "операции с автомобилем       4308\n",
       "получение образования        4014\n",
       "проведение свадьбы           2335\n",
       "Name: purpose_category, dtype: int64"
      ]
     },
     "execution_count": 90,
     "metadata": {},
     "output_type": "execute_result"
    }
   ],
   "source": [
    "data['purpose_category'].value_counts()"
   ]
  },
  {
   "cell_type": "markdown",
   "id": "6bae5ef5",
   "metadata": {},
   "source": [
    "### Ответы на вопросы."
   ]
  },
  {
   "cell_type": "markdown",
   "id": "d170bafa",
   "metadata": {},
   "source": [
    "##### Вопрос 1:"
   ]
  },
  {
   "cell_type": "markdown",
   "id": "06339f52",
   "metadata": {},
   "source": [
    "#### Есть ли зависимость между количеством детей и возвратом кредита в срок?"
   ]
  },
  {
   "cell_type": "code",
   "execution_count": 47,
   "id": "f8bc38d9",
   "metadata": {},
   "outputs": [],
   "source": [
    "data_child = data.loc[:, ['children', 'debt']]"
   ]
  },
  {
   "cell_type": "code",
   "execution_count": 48,
   "id": "e0aedb89",
   "metadata": {},
   "outputs": [],
   "source": [
    "data_child_indebt = data_child.groupby('children')['debt'].sum().reset_index()\n",
    "data_child_total = data_child.groupby('children').count().reset_index()"
   ]
  },
  {
   "cell_type": "markdown",
   "id": "998c5055",
   "metadata": {},
   "source": [
    "Посчитаем количество невозвратов кредитов в каждой группе по детям"
   ]
  },
  {
   "cell_type": "code",
   "execution_count": 49,
   "id": "d2179dc2",
   "metadata": {},
   "outputs": [
    {
     "data": {
      "text/html": [
       "<div>\n",
       "<style scoped>\n",
       "    .dataframe tbody tr th:only-of-type {\n",
       "        vertical-align: middle;\n",
       "    }\n",
       "\n",
       "    .dataframe tbody tr th {\n",
       "        vertical-align: top;\n",
       "    }\n",
       "\n",
       "    .dataframe thead th {\n",
       "        text-align: right;\n",
       "    }\n",
       "</style>\n",
       "<table border=\"1\" class=\"dataframe\">\n",
       "  <thead>\n",
       "    <tr style=\"text-align: right;\">\n",
       "      <th></th>\n",
       "      <th>children</th>\n",
       "      <th>debt</th>\n",
       "    </tr>\n",
       "  </thead>\n",
       "  <tbody>\n",
       "    <tr>\n",
       "      <td>0</td>\n",
       "      <td>0</td>\n",
       "      <td>1063</td>\n",
       "    </tr>\n",
       "    <tr>\n",
       "      <td>1</td>\n",
       "      <td>1</td>\n",
       "      <td>445</td>\n",
       "    </tr>\n",
       "    <tr>\n",
       "      <td>2</td>\n",
       "      <td>2</td>\n",
       "      <td>202</td>\n",
       "    </tr>\n",
       "    <tr>\n",
       "      <td>3</td>\n",
       "      <td>3</td>\n",
       "      <td>27</td>\n",
       "    </tr>\n",
       "    <tr>\n",
       "      <td>4</td>\n",
       "      <td>4</td>\n",
       "      <td>4</td>\n",
       "    </tr>\n",
       "    <tr>\n",
       "      <td>5</td>\n",
       "      <td>5</td>\n",
       "      <td>0</td>\n",
       "    </tr>\n",
       "  </tbody>\n",
       "</table>\n",
       "</div>"
      ],
      "text/plain": [
       "   children  debt\n",
       "0         0  1063\n",
       "1         1   445\n",
       "2         2   202\n",
       "3         3    27\n",
       "4         4     4\n",
       "5         5     0"
      ]
     },
     "execution_count": 49,
     "metadata": {},
     "output_type": "execute_result"
    }
   ],
   "source": [
    "data_child_indebt"
   ]
  },
  {
   "cell_type": "markdown",
   "id": "bcc02eec",
   "metadata": {},
   "source": [
    "Посчитаем количество заявок в каждой группе по де"
   ]
  },
  {
   "cell_type": "code",
   "execution_count": 50,
   "id": "41127bf3",
   "metadata": {},
   "outputs": [
    {
     "data": {
      "text/html": [
       "<div>\n",
       "<style scoped>\n",
       "    .dataframe tbody tr th:only-of-type {\n",
       "        vertical-align: middle;\n",
       "    }\n",
       "\n",
       "    .dataframe tbody tr th {\n",
       "        vertical-align: top;\n",
       "    }\n",
       "\n",
       "    .dataframe thead th {\n",
       "        text-align: right;\n",
       "    }\n",
       "</style>\n",
       "<table border=\"1\" class=\"dataframe\">\n",
       "  <thead>\n",
       "    <tr style=\"text-align: right;\">\n",
       "      <th></th>\n",
       "      <th>children</th>\n",
       "      <th>debt</th>\n",
       "    </tr>\n",
       "  </thead>\n",
       "  <tbody>\n",
       "    <tr>\n",
       "      <td>0</td>\n",
       "      <td>0</td>\n",
       "      <td>14107</td>\n",
       "    </tr>\n",
       "    <tr>\n",
       "      <td>1</td>\n",
       "      <td>1</td>\n",
       "      <td>4856</td>\n",
       "    </tr>\n",
       "    <tr>\n",
       "      <td>2</td>\n",
       "      <td>2</td>\n",
       "      <td>2128</td>\n",
       "    </tr>\n",
       "    <tr>\n",
       "      <td>3</td>\n",
       "      <td>3</td>\n",
       "      <td>330</td>\n",
       "    </tr>\n",
       "    <tr>\n",
       "      <td>4</td>\n",
       "      <td>4</td>\n",
       "      <td>41</td>\n",
       "    </tr>\n",
       "    <tr>\n",
       "      <td>5</td>\n",
       "      <td>5</td>\n",
       "      <td>9</td>\n",
       "    </tr>\n",
       "  </tbody>\n",
       "</table>\n",
       "</div>"
      ],
      "text/plain": [
       "   children   debt\n",
       "0         0  14107\n",
       "1         1   4856\n",
       "2         2   2128\n",
       "3         3    330\n",
       "4         4     41\n",
       "5         5      9"
      ]
     },
     "execution_count": 50,
     "metadata": {},
     "output_type": "execute_result"
    }
   ],
   "source": [
    "data_child_total"
   ]
  },
  {
   "cell_type": "markdown",
   "id": "aae81c15",
   "metadata": {},
   "source": [
    "Объединим данные в одну таблицу и посчитаем ratio - отношение невозвратов к общему количеству заявок в каждой категории"
   ]
  },
  {
   "cell_type": "code",
   "execution_count": 51,
   "id": "112934a6",
   "metadata": {},
   "outputs": [
    {
     "data": {
      "text/html": [
       "<div>\n",
       "<style scoped>\n",
       "    .dataframe tbody tr th:only-of-type {\n",
       "        vertical-align: middle;\n",
       "    }\n",
       "\n",
       "    .dataframe tbody tr th {\n",
       "        vertical-align: top;\n",
       "    }\n",
       "\n",
       "    .dataframe thead th {\n",
       "        text-align: right;\n",
       "    }\n",
       "</style>\n",
       "<table border=\"1\" class=\"dataframe\">\n",
       "  <thead>\n",
       "    <tr style=\"text-align: right;\">\n",
       "      <th></th>\n",
       "      <th>children</th>\n",
       "      <th>total</th>\n",
       "      <th>indebt</th>\n",
       "      <th>ratio</th>\n",
       "    </tr>\n",
       "  </thead>\n",
       "  <tbody>\n",
       "    <tr>\n",
       "      <td>0</td>\n",
       "      <td>4</td>\n",
       "      <td>41</td>\n",
       "      <td>4</td>\n",
       "      <td>0.0976</td>\n",
       "    </tr>\n",
       "    <tr>\n",
       "      <td>1</td>\n",
       "      <td>2</td>\n",
       "      <td>2128</td>\n",
       "      <td>202</td>\n",
       "      <td>0.0949</td>\n",
       "    </tr>\n",
       "    <tr>\n",
       "      <td>2</td>\n",
       "      <td>1</td>\n",
       "      <td>4856</td>\n",
       "      <td>445</td>\n",
       "      <td>0.0916</td>\n",
       "    </tr>\n",
       "    <tr>\n",
       "      <td>3</td>\n",
       "      <td>3</td>\n",
       "      <td>330</td>\n",
       "      <td>27</td>\n",
       "      <td>0.0818</td>\n",
       "    </tr>\n",
       "    <tr>\n",
       "      <td>4</td>\n",
       "      <td>0</td>\n",
       "      <td>14107</td>\n",
       "      <td>1063</td>\n",
       "      <td>0.0754</td>\n",
       "    </tr>\n",
       "    <tr>\n",
       "      <td>5</td>\n",
       "      <td>5</td>\n",
       "      <td>9</td>\n",
       "      <td>0</td>\n",
       "      <td>0.0000</td>\n",
       "    </tr>\n",
       "  </tbody>\n",
       "</table>\n",
       "</div>"
      ],
      "text/plain": [
       "   children  total  indebt   ratio\n",
       "0         4     41       4  0.0976\n",
       "1         2   2128     202  0.0949\n",
       "2         1   4856     445  0.0916\n",
       "3         3    330      27  0.0818\n",
       "4         0  14107    1063  0.0754\n",
       "5         5      9       0  0.0000"
      ]
     },
     "execution_count": 51,
     "metadata": {},
     "output_type": "execute_result"
    }
   ],
   "source": [
    "data_children_merged = data_child_total.merge(data_child_indebt, on='children')\n",
    "data_children_merged = data_children_merged.rename(columns = {'debt_x': 'total', 'debt_y': 'indebt'})\n",
    "data_children_merged['ratio'] = (data_children_merged['indebt'] / data_children_merged['total']).round(decimals=4)\n",
    "data_children_merged = data_children_merged.sort_values(by = 'ratio', ascending=False).reset_index(drop=True)\n",
    "data_children_merged"
   ]
  },
  {
   "cell_type": "markdown",
   "id": "b251f1d9",
   "metadata": {},
   "source": [
    "Как видно из таблицы, самый большой риск невозврата у семей с 4 и 2 детьми, а самые аккуратные заемщики - бездетные, все 5-детные семьи кредиты вернули, но их было всего 9 на всю выборку, что не позволяет делать уверенные выводы"
   ]
  },
  {
   "cell_type": "markdown",
   "id": "a377bc55",
   "metadata": {},
   "source": [
    "**Или более простым способом:**"
   ]
  },
  {
   "cell_type": "code",
   "execution_count": 52,
   "id": "1761b648",
   "metadata": {},
   "outputs": [
    {
     "data": {
      "text/html": [
       "<div>\n",
       "<style scoped>\n",
       "    .dataframe tbody tr th:only-of-type {\n",
       "        vertical-align: middle;\n",
       "    }\n",
       "\n",
       "    .dataframe tbody tr th {\n",
       "        vertical-align: top;\n",
       "    }\n",
       "\n",
       "    .dataframe thead th {\n",
       "        text-align: right;\n",
       "    }\n",
       "</style>\n",
       "<table border=\"1\" class=\"dataframe\">\n",
       "  <thead>\n",
       "    <tr style=\"text-align: right;\">\n",
       "      <th></th>\n",
       "      <th>debt</th>\n",
       "    </tr>\n",
       "    <tr>\n",
       "      <th>children</th>\n",
       "      <th></th>\n",
       "    </tr>\n",
       "  </thead>\n",
       "  <tbody>\n",
       "    <tr>\n",
       "      <td>4</td>\n",
       "      <td>0.098</td>\n",
       "    </tr>\n",
       "    <tr>\n",
       "      <td>2</td>\n",
       "      <td>0.095</td>\n",
       "    </tr>\n",
       "    <tr>\n",
       "      <td>1</td>\n",
       "      <td>0.092</td>\n",
       "    </tr>\n",
       "    <tr>\n",
       "      <td>3</td>\n",
       "      <td>0.082</td>\n",
       "    </tr>\n",
       "    <tr>\n",
       "      <td>0</td>\n",
       "      <td>0.075</td>\n",
       "    </tr>\n",
       "    <tr>\n",
       "      <td>5</td>\n",
       "      <td>0.000</td>\n",
       "    </tr>\n",
       "  </tbody>\n",
       "</table>\n",
       "</div>"
      ],
      "text/plain": [
       "           debt\n",
       "children       \n",
       "4         0.098\n",
       "2         0.095\n",
       "1         0.092\n",
       "3         0.082\n",
       "0         0.075\n",
       "5         0.000"
      ]
     },
     "execution_count": 52,
     "metadata": {},
     "output_type": "execute_result"
    }
   ],
   "source": [
    "data_child.pivot_table(index='children',values='debt',aggfunc='mean').sort_values(by='debt', ascending=False).round(decimals=3)"
   ]
  },
  {
   "cell_type": "markdown",
   "id": "1815243f",
   "metadata": {},
   "source": [
    "##### Вывод 1:  \n",
    "Как видно из таблицы, самый большой риск невозврата у семей с 4 и 2 детьми, а самые аккуратные заемщики - бездетные, все 5-детные семьи кредиты вернули, но их было всего 9 на всю выборку, что не позволяет делать уверенные выводы"
   ]
  },
  {
   "cell_type": "markdown",
   "id": "78f16f67",
   "metadata": {},
   "source": [
    "##### Вопрос 2:  \n",
    "**Есть ли зависимость между семейным положением и возвратом кредита в срок?**"
   ]
  },
  {
   "cell_type": "code",
   "execution_count": 53,
   "id": "27b8a748",
   "metadata": {},
   "outputs": [
    {
     "data": {
      "text/html": [
       "<div>\n",
       "<style scoped>\n",
       "    .dataframe tbody tr th:only-of-type {\n",
       "        vertical-align: middle;\n",
       "    }\n",
       "\n",
       "    .dataframe tbody tr th {\n",
       "        vertical-align: top;\n",
       "    }\n",
       "\n",
       "    .dataframe thead th {\n",
       "        text-align: right;\n",
       "    }\n",
       "</style>\n",
       "<table border=\"1\" class=\"dataframe\">\n",
       "  <thead>\n",
       "    <tr style=\"text-align: right;\">\n",
       "      <th></th>\n",
       "      <th>family_status_id</th>\n",
       "      <th>debt</th>\n",
       "      <th>family_status</th>\n",
       "    </tr>\n",
       "  </thead>\n",
       "  <tbody>\n",
       "    <tr>\n",
       "      <td>0</td>\n",
       "      <td>4</td>\n",
       "      <td>0.098</td>\n",
       "      <td>Не женат / не замужем</td>\n",
       "    </tr>\n",
       "    <tr>\n",
       "      <td>1</td>\n",
       "      <td>1</td>\n",
       "      <td>0.093</td>\n",
       "      <td>гражданский брак</td>\n",
       "    </tr>\n",
       "    <tr>\n",
       "      <td>2</td>\n",
       "      <td>0</td>\n",
       "      <td>0.075</td>\n",
       "      <td>женат / замужем</td>\n",
       "    </tr>\n",
       "    <tr>\n",
       "      <td>3</td>\n",
       "      <td>3</td>\n",
       "      <td>0.071</td>\n",
       "      <td>в разводе</td>\n",
       "    </tr>\n",
       "    <tr>\n",
       "      <td>4</td>\n",
       "      <td>2</td>\n",
       "      <td>0.066</td>\n",
       "      <td>вдовец / вдова</td>\n",
       "    </tr>\n",
       "  </tbody>\n",
       "</table>\n",
       "</div>"
      ],
      "text/plain": [
       "   family_status_id   debt          family_status\n",
       "0                 4  0.098  Не женат / не замужем\n",
       "1                 1  0.093       гражданский брак\n",
       "2                 0  0.075        женат / замужем\n",
       "3                 3  0.071              в разводе\n",
       "4                 2  0.066         вдовец / вдова"
      ]
     },
     "execution_count": 53,
     "metadata": {},
     "output_type": "execute_result"
    }
   ],
   "source": [
    "data_family = data.loc[:, ['family_status_id', 'debt']]\n",
    "data_family_pivot = data_family.pivot_table(index='family_status_id',values='debt',aggfunc='mean').sort_values(by='debt',ascending=False).round(decimals=3)\n",
    "data_family_pivot.merge(family, on='family_status_id')"
   ]
  },
  {
   "cell_type": "markdown",
   "id": "613c36ef",
   "metadata": {},
   "source": [
    "##### Вывод 2:  \n",
    "Как видно из таблицы, зависимость между семейным положением и невозвратом кредитав в срок есть: самый большой процент невозвратов у неженатых и живущих гражданским браком, а самый низкий у вдовцов"
   ]
  },
  {
   "cell_type": "markdown",
   "id": "15ec58c0",
   "metadata": {},
   "source": [
    "##### Вопрос 3:  \n",
    "**Есть ли зависимость между целями кредита и возвратом кредита в срок?**"
   ]
  },
  {
   "cell_type": "markdown",
   "id": "4e52894a",
   "metadata": {},
   "source": [
    "Создадим таблицу целей и возвратов кредита"
   ]
  },
  {
   "cell_type": "code",
   "execution_count": 54,
   "id": "68a5dadc",
   "metadata": {},
   "outputs": [],
   "source": [
    "data_purpose = data.loc[:, ['purpose_category','debt']]"
   ]
  },
  {
   "cell_type": "code",
   "execution_count": 55,
   "id": "4cfd19ce",
   "metadata": {},
   "outputs": [
    {
     "data": {
      "text/html": [
       "<div>\n",
       "<style scoped>\n",
       "    .dataframe tbody tr th:only-of-type {\n",
       "        vertical-align: middle;\n",
       "    }\n",
       "\n",
       "    .dataframe tbody tr th {\n",
       "        vertical-align: top;\n",
       "    }\n",
       "\n",
       "    .dataframe thead th {\n",
       "        text-align: right;\n",
       "    }\n",
       "</style>\n",
       "<table border=\"1\" class=\"dataframe\">\n",
       "  <thead>\n",
       "    <tr style=\"text-align: right;\">\n",
       "      <th></th>\n",
       "      <th>debt</th>\n",
       "    </tr>\n",
       "    <tr>\n",
       "      <th>purpose_category</th>\n",
       "      <th></th>\n",
       "    </tr>\n",
       "  </thead>\n",
       "  <tbody>\n",
       "    <tr>\n",
       "      <td>операции с автомобилем</td>\n",
       "      <td>0.094</td>\n",
       "    </tr>\n",
       "    <tr>\n",
       "      <td>получение образования</td>\n",
       "      <td>0.092</td>\n",
       "    </tr>\n",
       "    <tr>\n",
       "      <td>проведение свадьбы</td>\n",
       "      <td>0.080</td>\n",
       "    </tr>\n",
       "    <tr>\n",
       "      <td>операции с недвижимостью</td>\n",
       "      <td>0.072</td>\n",
       "    </tr>\n",
       "  </tbody>\n",
       "</table>\n",
       "</div>"
      ],
      "text/plain": [
       "                           debt\n",
       "purpose_category               \n",
       "операции с автомобилем    0.094\n",
       "получение образования     0.092\n",
       "проведение свадьбы        0.080\n",
       "операции с недвижимостью  0.072"
      ]
     },
     "execution_count": 55,
     "metadata": {},
     "output_type": "execute_result"
    }
   ],
   "source": [
    "data_purpose.pivot_table(index='purpose_category', values='debt',aggfunc='mean').sort_values(by='debt',ascending=False).round(decimals=3)"
   ]
  },
  {
   "cell_type": "markdown",
   "id": "eab0d824",
   "metadata": {},
   "source": [
    "##### Вывод 3:  \n",
    "Как видно из таблицы, зависимость между целью кредита и процентом невозврата в срок  есть: операции с автомобилем и получение образования - самые проблемные"
   ]
  },
  {
   "cell_type": "markdown",
   "id": "d07e3ddd",
   "metadata": {},
   "source": [
    "## Общий вывод:"
   ]
  },
  {
   "cell_type": "markdown",
   "id": "326fae47",
   "metadata": {},
   "source": [
    "Кредитный отдел банка анализирует информацию о качестве заемщиков, используя множество параметров, таких как  семейное положение, количество детей, уровень образования, уровень дохода и пр.\n",
    "  \n",
    "В данной работе рассматривалось одного параметра на возврат кредита в срок. Выяснено, что и количество детей, и уровень дохода, и семейное положение, и цели кредита влияют на аккуратность возврата кредита.\n",
    "  \n",
    "В реальности, требуется провести более сложный анализ взаимовлияния этих факторов на качество заемщика."
   ]
  }
 ],
 "metadata": {
  "ExecuteTimeLog": [
   {
    "duration": 651,
    "start_time": "2022-02-20T07:46:06.904Z"
   },
   {
    "duration": 1963,
    "start_time": "2022-02-20T07:46:08.979Z"
   },
   {
    "duration": 265,
    "start_time": "2022-02-20T07:46:11.367Z"
   },
   {
    "duration": 54,
    "start_time": "2022-02-20T07:46:53.356Z"
   },
   {
    "duration": 23,
    "start_time": "2022-02-20T07:48:02.689Z"
   },
   {
    "duration": 13,
    "start_time": "2022-02-20T07:48:04.534Z"
   },
   {
    "duration": 5,
    "start_time": "2022-02-20T07:48:38.589Z"
   },
   {
    "duration": 5,
    "start_time": "2022-02-20T07:48:39.274Z"
   },
   {
    "duration": 27,
    "start_time": "2022-02-20T07:48:40.546Z"
   },
   {
    "duration": 25,
    "start_time": "2022-02-20T07:48:42.224Z"
   },
   {
    "duration": 9,
    "start_time": "2022-02-20T07:48:43.853Z"
   },
   {
    "duration": 7,
    "start_time": "2022-02-20T07:48:45.970Z"
   },
   {
    "duration": 7,
    "start_time": "2022-02-20T07:48:47.950Z"
   },
   {
    "duration": 4,
    "start_time": "2022-02-20T07:48:48.802Z"
   },
   {
    "duration": 8,
    "start_time": "2022-02-20T07:48:50.694Z"
   },
   {
    "duration": 3,
    "start_time": "2022-02-20T07:48:51.368Z"
   },
   {
    "duration": 112,
    "start_time": "2022-02-20T07:48:52.200Z"
   },
   {
    "duration": 15,
    "start_time": "2022-02-20T07:48:56.971Z"
   },
   {
    "duration": 6,
    "start_time": "2022-02-20T07:48:58.669Z"
   },
   {
    "duration": 6,
    "start_time": "2022-02-20T07:49:00.469Z"
   },
   {
    "duration": 13,
    "start_time": "2022-02-20T07:49:02.283Z"
   },
   {
    "duration": 6,
    "start_time": "2022-02-20T07:49:16.200Z"
   },
   {
    "duration": 7,
    "start_time": "2022-02-20T07:49:18.087Z"
   },
   {
    "duration": 8,
    "start_time": "2022-02-20T07:49:19.538Z"
   },
   {
    "duration": 6,
    "start_time": "2022-02-20T07:49:46.854Z"
   },
   {
    "duration": 5,
    "start_time": "2022-02-20T07:49:49.306Z"
   },
   {
    "duration": 7,
    "start_time": "2022-02-20T07:49:51.670Z"
   },
   {
    "duration": 7,
    "start_time": "2022-02-20T07:49:53.065Z"
   },
   {
    "duration": 7,
    "start_time": "2022-02-20T07:49:54.438Z"
   },
   {
    "duration": 4,
    "start_time": "2022-02-20T07:49:58.567Z"
   },
   {
    "duration": 4,
    "start_time": "2022-02-20T07:49:59.647Z"
   },
   {
    "duration": 19,
    "start_time": "2022-02-20T07:50:03.731Z"
   },
   {
    "duration": 22,
    "start_time": "2022-02-20T07:50:04.924Z"
   },
   {
    "duration": 17,
    "start_time": "2022-02-20T07:50:06.107Z"
   },
   {
    "duration": 6,
    "start_time": "2022-02-20T07:50:08.388Z"
   },
   {
    "duration": 21,
    "start_time": "2022-02-20T07:50:09.894Z"
   },
   {
    "duration": 8,
    "start_time": "2022-02-20T07:50:11.134Z"
   },
   {
    "duration": 7,
    "start_time": "2022-02-20T07:50:12.516Z"
   },
   {
    "duration": 5,
    "start_time": "2022-02-20T07:50:14.676Z"
   },
   {
    "duration": 6,
    "start_time": "2022-02-20T07:50:17.007Z"
   },
   {
    "duration": 7,
    "start_time": "2022-02-20T07:50:22.385Z"
   },
   {
    "duration": 9,
    "start_time": "2022-02-20T07:50:22.923Z"
   },
   {
    "duration": 8,
    "start_time": "2022-02-20T07:50:23.554Z"
   },
   {
    "duration": 6,
    "start_time": "2022-02-20T07:50:24.924Z"
   },
   {
    "duration": 4,
    "start_time": "2022-02-20T07:50:27.153Z"
   },
   {
    "duration": 20,
    "start_time": "2022-02-20T07:50:28.717Z"
   },
   {
    "duration": 4,
    "start_time": "2022-02-20T07:50:30.644Z"
   },
   {
    "duration": 21,
    "start_time": "2022-02-20T07:50:31.991Z"
   },
   {
    "duration": 8,
    "start_time": "2022-02-20T07:50:35.613Z"
   },
   {
    "duration": 5,
    "start_time": "2022-02-20T07:50:44.692Z"
   },
   {
    "duration": 10,
    "start_time": "2022-02-20T07:50:45.278Z"
   },
   {
    "duration": 7,
    "start_time": "2022-02-20T07:50:46.413Z"
   },
   {
    "duration": 8,
    "start_time": "2022-02-20T07:50:48.001Z"
   },
   {
    "duration": 16,
    "start_time": "2022-02-20T07:50:49.338Z"
   },
   {
    "duration": 16,
    "start_time": "2022-02-20T07:50:53.660Z"
   },
   {
    "duration": 4,
    "start_time": "2022-02-20T07:51:03.582Z"
   },
   {
    "duration": 4,
    "start_time": "2022-02-20T07:51:23.101Z"
   },
   {
    "duration": 5,
    "start_time": "2022-02-20T07:51:28.422Z"
   },
   {
    "duration": 28,
    "start_time": "2022-02-20T07:51:28.983Z"
   },
   {
    "duration": 17,
    "start_time": "2022-02-20T07:52:44.317Z"
   },
   {
    "duration": 291,
    "start_time": "2022-02-20T07:58:34.788Z"
   },
   {
    "duration": 92,
    "start_time": "2022-02-20T07:59:06.836Z"
   },
   {
    "duration": 28,
    "start_time": "2022-02-20T07:59:14.104Z"
   },
   {
    "duration": 26,
    "start_time": "2022-02-20T07:59:42.772Z"
   },
   {
    "duration": 17,
    "start_time": "2022-02-20T08:00:04.946Z"
   },
   {
    "duration": 409,
    "start_time": "2022-02-20T08:01:15.523Z"
   },
   {
    "duration": 344,
    "start_time": "2022-02-20T08:01:53.374Z"
   },
   {
    "duration": 3,
    "start_time": "2022-02-20T08:02:03.555Z"
   },
   {
    "duration": 55,
    "start_time": "2022-02-20T08:02:03.926Z"
   },
   {
    "duration": 15,
    "start_time": "2022-02-20T08:02:04.287Z"
   },
   {
    "duration": 12,
    "start_time": "2022-02-20T08:02:04.595Z"
   },
   {
    "duration": 5,
    "start_time": "2022-02-20T08:02:05.028Z"
   },
   {
    "duration": 5,
    "start_time": "2022-02-20T08:02:05.218Z"
   },
   {
    "duration": 24,
    "start_time": "2022-02-20T08:02:05.579Z"
   },
   {
    "duration": 24,
    "start_time": "2022-02-20T08:02:05.898Z"
   },
   {
    "duration": 8,
    "start_time": "2022-02-20T08:02:06.345Z"
   },
   {
    "duration": 7,
    "start_time": "2022-02-20T08:02:07.277Z"
   },
   {
    "duration": 7,
    "start_time": "2022-02-20T08:02:07.739Z"
   },
   {
    "duration": 2,
    "start_time": "2022-02-20T08:02:07.941Z"
   },
   {
    "duration": 14,
    "start_time": "2022-02-20T08:02:08.392Z"
   },
   {
    "duration": 3,
    "start_time": "2022-02-20T08:02:08.831Z"
   },
   {
    "duration": 11,
    "start_time": "2022-02-20T08:02:09.261Z"
   },
   {
    "duration": 11,
    "start_time": "2022-02-20T08:02:09.726Z"
   },
   {
    "duration": 5,
    "start_time": "2022-02-20T08:02:10.890Z"
   },
   {
    "duration": 4,
    "start_time": "2022-02-20T08:02:12.407Z"
   },
   {
    "duration": 12,
    "start_time": "2022-02-20T08:02:12.978Z"
   },
   {
    "duration": 5,
    "start_time": "2022-02-20T08:02:13.892Z"
   },
   {
    "duration": 7,
    "start_time": "2022-02-20T08:02:14.353Z"
   },
   {
    "duration": 6,
    "start_time": "2022-02-20T08:02:14.817Z"
   },
   {
    "duration": 5,
    "start_time": "2022-02-20T08:02:15.277Z"
   },
   {
    "duration": 6,
    "start_time": "2022-02-20T08:02:15.726Z"
   },
   {
    "duration": 8,
    "start_time": "2022-02-20T08:02:16.167Z"
   },
   {
    "duration": 7,
    "start_time": "2022-02-20T08:02:16.548Z"
   },
   {
    "duration": 5,
    "start_time": "2022-02-20T08:02:17.740Z"
   },
   {
    "duration": 5,
    "start_time": "2022-02-20T08:02:18.136Z"
   },
   {
    "duration": 19,
    "start_time": "2022-02-20T08:02:18.950Z"
   },
   {
    "duration": 20,
    "start_time": "2022-02-20T08:02:19.385Z"
   },
   {
    "duration": 17,
    "start_time": "2022-02-20T08:02:19.755Z"
   },
   {
    "duration": 6,
    "start_time": "2022-02-20T08:02:20.770Z"
   },
   {
    "duration": 14,
    "start_time": "2022-02-20T08:02:21.207Z"
   },
   {
    "duration": 7,
    "start_time": "2022-02-20T08:02:21.669Z"
   },
   {
    "duration": 6,
    "start_time": "2022-02-20T08:02:22.106Z"
   },
   {
    "duration": 5,
    "start_time": "2022-02-20T08:02:22.887Z"
   },
   {
    "duration": 6,
    "start_time": "2022-02-20T08:02:23.567Z"
   },
   {
    "duration": 18,
    "start_time": "2022-02-20T08:02:24.322Z"
   },
   {
    "duration": 8,
    "start_time": "2022-02-20T08:02:24.573Z"
   },
   {
    "duration": 19,
    "start_time": "2022-02-20T08:02:48.658Z"
   },
   {
    "duration": 15,
    "start_time": "2022-02-20T08:03:16.796Z"
   },
   {
    "duration": 9,
    "start_time": "2022-02-20T08:03:18.931Z"
   },
   {
    "duration": 7,
    "start_time": "2022-02-20T08:03:27.046Z"
   },
   {
    "duration": 5,
    "start_time": "2022-02-20T08:03:32.455Z"
   },
   {
    "duration": 4,
    "start_time": "2022-02-20T08:03:33.849Z"
   },
   {
    "duration": 19,
    "start_time": "2022-02-20T08:03:34.795Z"
   },
   {
    "duration": 3,
    "start_time": "2022-02-20T08:03:36.259Z"
   },
   {
    "duration": 23,
    "start_time": "2022-02-20T08:03:37.508Z"
   },
   {
    "duration": 8,
    "start_time": "2022-02-20T08:03:39.857Z"
   },
   {
    "duration": 9,
    "start_time": "2022-02-20T08:03:42.422Z"
   },
   {
    "duration": 7,
    "start_time": "2022-02-20T08:03:43.458Z"
   },
   {
    "duration": 7,
    "start_time": "2022-02-20T08:03:44.955Z"
   },
   {
    "duration": 18,
    "start_time": "2022-02-20T08:03:47.790Z"
   },
   {
    "duration": 14,
    "start_time": "2022-02-20T08:03:53.629Z"
   },
   {
    "duration": 280,
    "start_time": "2022-02-20T08:03:56.047Z"
   },
   {
    "duration": 19,
    "start_time": "2022-02-20T08:04:20.440Z"
   },
   {
    "duration": 6,
    "start_time": "2022-02-20T08:07:27.452Z"
   },
   {
    "duration": 747,
    "start_time": "2022-03-01T15:32:37.585Z"
   },
   {
    "duration": 64,
    "start_time": "2022-03-01T15:32:38.335Z"
   },
   {
    "duration": 30,
    "start_time": "2022-03-01T15:32:38.402Z"
   },
   {
    "duration": 19,
    "start_time": "2022-03-01T15:32:38.435Z"
   },
   {
    "duration": 26,
    "start_time": "2022-03-01T15:32:38.456Z"
   },
   {
    "duration": 5,
    "start_time": "2022-03-01T15:32:38.485Z"
   },
   {
    "duration": 41,
    "start_time": "2022-03-01T15:32:38.493Z"
   },
   {
    "duration": 60,
    "start_time": "2022-03-01T15:32:38.538Z"
   },
   {
    "duration": 9,
    "start_time": "2022-03-01T15:32:38.602Z"
   },
   {
    "duration": 7,
    "start_time": "2022-03-01T15:32:38.614Z"
   },
   {
    "duration": 9,
    "start_time": "2022-03-01T15:32:38.624Z"
   },
   {
    "duration": 7,
    "start_time": "2022-03-01T15:32:38.636Z"
   },
   {
    "duration": 10,
    "start_time": "2022-03-01T15:32:38.682Z"
   },
   {
    "duration": 7,
    "start_time": "2022-03-01T15:32:38.695Z"
   },
   {
    "duration": 20,
    "start_time": "2022-03-01T15:32:38.704Z"
   },
   {
    "duration": 13,
    "start_time": "2022-03-01T15:32:38.727Z"
   },
   {
    "duration": 9,
    "start_time": "2022-03-01T15:32:38.743Z"
   },
   {
    "duration": 6,
    "start_time": "2022-03-01T15:32:38.782Z"
   },
   {
    "duration": 18,
    "start_time": "2022-03-01T15:32:38.791Z"
   },
   {
    "duration": 5,
    "start_time": "2022-03-01T15:32:38.811Z"
   },
   {
    "duration": 11,
    "start_time": "2022-03-01T15:32:38.818Z"
   },
   {
    "duration": 8,
    "start_time": "2022-03-01T15:32:38.831Z"
   },
   {
    "duration": 5,
    "start_time": "2022-03-01T15:32:38.885Z"
   },
   {
    "duration": 15,
    "start_time": "2022-03-01T15:32:38.893Z"
   },
   {
    "duration": 11,
    "start_time": "2022-03-01T15:32:38.910Z"
   },
   {
    "duration": 22,
    "start_time": "2022-03-01T15:32:38.923Z"
   },
   {
    "duration": 5,
    "start_time": "2022-03-01T15:32:38.948Z"
   },
   {
    "duration": 12,
    "start_time": "2022-03-01T15:32:38.956Z"
   },
   {
    "duration": 22,
    "start_time": "2022-03-01T15:32:38.982Z"
   },
   {
    "duration": 34,
    "start_time": "2022-03-01T15:32:39.006Z"
   },
   {
    "duration": 39,
    "start_time": "2022-03-01T15:32:39.043Z"
   },
   {
    "duration": 8,
    "start_time": "2022-03-01T15:32:39.085Z"
   },
   {
    "duration": 30,
    "start_time": "2022-03-01T15:32:39.095Z"
   },
   {
    "duration": 21,
    "start_time": "2022-03-01T15:32:39.128Z"
   },
   {
    "duration": 10,
    "start_time": "2022-03-01T15:32:39.151Z"
   },
   {
    "duration": 24,
    "start_time": "2022-03-01T15:32:39.163Z"
   },
   {
    "duration": 11,
    "start_time": "2022-03-01T15:32:39.190Z"
   },
   {
    "duration": 13,
    "start_time": "2022-03-01T15:32:39.204Z"
   },
   {
    "duration": 34,
    "start_time": "2022-03-01T15:32:39.220Z"
   },
   {
    "duration": 25,
    "start_time": "2022-03-01T15:32:39.257Z"
   },
   {
    "duration": 27,
    "start_time": "2022-03-01T15:32:39.284Z"
   },
   {
    "duration": 31,
    "start_time": "2022-03-01T15:32:39.314Z"
   },
   {
    "duration": 38,
    "start_time": "2022-03-01T15:32:39.348Z"
   },
   {
    "duration": 36,
    "start_time": "2022-03-01T15:32:39.389Z"
   },
   {
    "duration": 30,
    "start_time": "2022-03-01T15:32:39.427Z"
   },
   {
    "duration": 58,
    "start_time": "2022-03-01T15:32:39.459Z"
   },
   {
    "duration": 8,
    "start_time": "2022-03-01T15:32:39.519Z"
   },
   {
    "duration": 22,
    "start_time": "2022-03-01T15:32:39.529Z"
   },
   {
    "duration": 27,
    "start_time": "2022-03-01T15:32:39.553Z"
   },
   {
    "duration": 16,
    "start_time": "2022-03-01T15:32:39.583Z"
   },
   {
    "duration": 35,
    "start_time": "2022-03-01T15:32:39.601Z"
   },
   {
    "duration": 32,
    "start_time": "2022-03-01T15:32:39.638Z"
   },
   {
    "duration": 27,
    "start_time": "2022-03-01T15:32:39.672Z"
   },
   {
    "duration": 5,
    "start_time": "2022-03-01T15:32:39.701Z"
   },
   {
    "duration": 52,
    "start_time": "2022-03-01T15:32:39.708Z"
   },
   {
    "duration": 11,
    "start_time": "2022-03-01T15:41:57.347Z"
   },
   {
    "duration": 8,
    "start_time": "2022-03-01T15:42:07.957Z"
   },
   {
    "duration": 11,
    "start_time": "2022-03-01T15:49:28.126Z"
   },
   {
    "duration": 5,
    "start_time": "2022-03-01T15:49:46.635Z"
   },
   {
    "duration": 5,
    "start_time": "2022-03-01T15:50:01.186Z"
   },
   {
    "duration": 14,
    "start_time": "2022-03-01T15:54:24.074Z"
   },
   {
    "duration": 22,
    "start_time": "2022-03-01T15:55:48.501Z"
   },
   {
    "duration": 28,
    "start_time": "2022-03-01T15:58:19.360Z"
   },
   {
    "duration": 39,
    "start_time": "2022-03-01T16:00:14.022Z"
   },
   {
    "duration": 29,
    "start_time": "2022-03-01T16:00:23.947Z"
   },
   {
    "duration": 40,
    "start_time": "2022-03-01T16:00:38.746Z"
   },
   {
    "duration": 14,
    "start_time": "2022-03-01T16:09:42.796Z"
   },
   {
    "duration": 760,
    "start_time": "2022-03-01T19:06:43.939Z"
   },
   {
    "duration": 66,
    "start_time": "2022-03-01T19:07:03.008Z"
   },
   {
    "duration": 31,
    "start_time": "2022-03-01T19:07:05.749Z"
   },
   {
    "duration": 15,
    "start_time": "2022-03-01T19:07:11.804Z"
   },
   {
    "duration": 50,
    "start_time": "2022-03-01T19:07:27.630Z"
   },
   {
    "duration": 6,
    "start_time": "2022-03-01T19:21:29.558Z"
   },
   {
    "duration": 5,
    "start_time": "2022-03-01T19:21:30.445Z"
   },
   {
    "duration": 55,
    "start_time": "2022-03-01T19:21:36.039Z"
   },
   {
    "duration": 47,
    "start_time": "2022-03-01T19:21:41.581Z"
   },
   {
    "duration": 11,
    "start_time": "2022-03-01T19:21:49.583Z"
   },
   {
    "duration": 7,
    "start_time": "2022-03-01T19:21:52.518Z"
   },
   {
    "duration": 31,
    "start_time": "2022-03-01T19:22:08.617Z"
   },
   {
    "duration": 9,
    "start_time": "2022-03-01T19:24:44.063Z"
   },
   {
    "duration": 11,
    "start_time": "2022-03-01T19:28:03.043Z"
   },
   {
    "duration": 6,
    "start_time": "2022-03-01T19:29:33.418Z"
   },
   {
    "duration": 6,
    "start_time": "2022-03-01T19:29:41.686Z"
   },
   {
    "duration": 20,
    "start_time": "2022-03-01T19:33:09.946Z"
   },
   {
    "duration": 344,
    "start_time": "2022-03-01T19:33:26.410Z"
   },
   {
    "duration": 256,
    "start_time": "2022-03-01T19:33:58.517Z"
   },
   {
    "duration": 93,
    "start_time": "2022-03-01T19:35:51.770Z"
   },
   {
    "duration": 263,
    "start_time": "2022-03-01T19:37:01.241Z"
   },
   {
    "duration": 247,
    "start_time": "2022-03-01T19:37:10.434Z"
   },
   {
    "duration": 245,
    "start_time": "2022-03-01T19:38:49.472Z"
   },
   {
    "duration": 230,
    "start_time": "2022-03-01T19:41:40.304Z"
   },
   {
    "duration": 60,
    "start_time": "2022-03-01T19:42:01.813Z"
   },
   {
    "duration": 6,
    "start_time": "2022-03-01T19:42:03.955Z"
   },
   {
    "duration": 58,
    "start_time": "2022-03-01T19:42:04.437Z"
   },
   {
    "duration": 19,
    "start_time": "2022-03-01T19:42:04.837Z"
   },
   {
    "duration": 15,
    "start_time": "2022-03-01T19:42:05.025Z"
   },
   {
    "duration": 49,
    "start_time": "2022-03-01T19:42:05.460Z"
   },
   {
    "duration": 6,
    "start_time": "2022-03-01T19:42:06.445Z"
   },
   {
    "duration": 5,
    "start_time": "2022-03-01T19:42:06.675Z"
   },
   {
    "duration": 33,
    "start_time": "2022-03-01T19:42:07.175Z"
   },
   {
    "duration": 36,
    "start_time": "2022-03-01T19:42:07.576Z"
   },
   {
    "duration": 9,
    "start_time": "2022-03-01T19:42:08.015Z"
   },
   {
    "duration": 8,
    "start_time": "2022-03-01T19:42:09.616Z"
   },
   {
    "duration": 34,
    "start_time": "2022-03-01T19:42:09.946Z"
   },
   {
    "duration": 9,
    "start_time": "2022-03-01T19:42:10.827Z"
   },
   {
    "duration": 4,
    "start_time": "2022-03-01T19:42:11.251Z"
   },
   {
    "duration": 10,
    "start_time": "2022-03-01T19:42:11.696Z"
   },
   {
    "duration": 4,
    "start_time": "2022-03-01T19:42:11.895Z"
   },
   {
    "duration": 16,
    "start_time": "2022-03-01T19:42:12.119Z"
   },
   {
    "duration": 15,
    "start_time": "2022-03-01T19:42:13.287Z"
   },
   {
    "duration": 7,
    "start_time": "2022-03-01T19:42:14.383Z"
   },
   {
    "duration": 7,
    "start_time": "2022-03-01T19:42:16.355Z"
   },
   {
    "duration": 16,
    "start_time": "2022-03-01T19:42:21.803Z"
   },
   {
    "duration": 12,
    "start_time": "2022-03-01T19:42:24.937Z"
   },
   {
    "duration": 6,
    "start_time": "2022-03-01T19:42:25.941Z"
   },
   {
    "duration": 9,
    "start_time": "2022-03-01T19:42:28.057Z"
   },
   {
    "duration": 5,
    "start_time": "2022-03-01T19:42:33.426Z"
   },
   {
    "duration": 5,
    "start_time": "2022-03-01T19:43:07.559Z"
   },
   {
    "duration": 6,
    "start_time": "2022-03-01T19:43:30.391Z"
   },
   {
    "duration": 5,
    "start_time": "2022-03-01T19:43:57.983Z"
   },
   {
    "duration": 5,
    "start_time": "2022-03-01T19:44:15.116Z"
   },
   {
    "duration": 6,
    "start_time": "2022-03-01T19:44:22.586Z"
   },
   {
    "duration": 8,
    "start_time": "2022-03-01T19:44:52.945Z"
   },
   {
    "duration": 85,
    "start_time": "2022-03-01T19:45:13.218Z"
   },
   {
    "duration": 13,
    "start_time": "2022-03-01T19:45:18.947Z"
   },
   {
    "duration": 226,
    "start_time": "2022-03-01T19:45:25.700Z"
   },
   {
    "duration": 233,
    "start_time": "2022-03-01T19:45:40.609Z"
   },
   {
    "duration": 252,
    "start_time": "2022-03-01T19:45:59.241Z"
   },
   {
    "duration": 226,
    "start_time": "2022-03-01T19:46:12.591Z"
   },
   {
    "duration": 3,
    "start_time": "2022-03-01T19:46:26.820Z"
   },
   {
    "duration": 57,
    "start_time": "2022-03-01T19:46:27.139Z"
   },
   {
    "duration": 21,
    "start_time": "2022-03-01T19:46:27.496Z"
   },
   {
    "duration": 15,
    "start_time": "2022-03-01T19:46:27.678Z"
   },
   {
    "duration": 47,
    "start_time": "2022-03-01T19:46:27.837Z"
   },
   {
    "duration": 6,
    "start_time": "2022-03-01T19:46:28.740Z"
   },
   {
    "duration": 5,
    "start_time": "2022-03-01T19:46:28.930Z"
   },
   {
    "duration": 33,
    "start_time": "2022-03-01T19:46:29.294Z"
   },
   {
    "duration": 35,
    "start_time": "2022-03-01T19:46:29.486Z"
   },
   {
    "duration": 10,
    "start_time": "2022-03-01T19:46:29.880Z"
   },
   {
    "duration": 7,
    "start_time": "2022-03-01T19:46:30.440Z"
   },
   {
    "duration": 32,
    "start_time": "2022-03-01T19:46:30.644Z"
   },
   {
    "duration": 9,
    "start_time": "2022-03-01T19:46:31.017Z"
   },
   {
    "duration": 3,
    "start_time": "2022-03-01T19:46:31.216Z"
   },
   {
    "duration": 11,
    "start_time": "2022-03-01T19:46:31.606Z"
   },
   {
    "duration": 4,
    "start_time": "2022-03-01T19:46:31.787Z"
   },
   {
    "duration": 14,
    "start_time": "2022-03-01T19:46:31.979Z"
   },
   {
    "duration": 15,
    "start_time": "2022-03-01T19:46:32.590Z"
   },
   {
    "duration": 7,
    "start_time": "2022-03-01T19:46:32.978Z"
   },
   {
    "duration": 6,
    "start_time": "2022-03-01T19:47:25.237Z"
   },
   {
    "duration": 15,
    "start_time": "2022-03-01T19:47:26.573Z"
   },
   {
    "duration": 8,
    "start_time": "2022-03-01T19:47:27.628Z"
   },
   {
    "duration": 9,
    "start_time": "2022-03-01T19:47:28.635Z"
   },
   {
    "duration": 17,
    "start_time": "2022-03-01T19:47:30.017Z"
   },
   {
    "duration": 11,
    "start_time": "2022-03-01T19:47:32.604Z"
   },
   {
    "duration": 5,
    "start_time": "2022-03-01T19:47:33.071Z"
   },
   {
    "duration": 8,
    "start_time": "2022-03-01T19:47:34.144Z"
   },
   {
    "duration": 6,
    "start_time": "2022-03-01T19:47:36.028Z"
   },
   {
    "duration": 4,
    "start_time": "2022-03-01T19:48:15.850Z"
   },
   {
    "duration": 6,
    "start_time": "2022-03-01T19:48:23.889Z"
   },
   {
    "duration": 8,
    "start_time": "2022-03-01T19:48:35.882Z"
   },
   {
    "duration": 19,
    "start_time": "2022-03-01T19:48:48.661Z"
   },
   {
    "duration": 7,
    "start_time": "2022-03-01T19:49:02.723Z"
   },
   {
    "duration": 5,
    "start_time": "2022-03-01T19:50:02.426Z"
   },
   {
    "duration": 8,
    "start_time": "2022-03-01T19:51:32.950Z"
   },
   {
    "duration": 8,
    "start_time": "2022-03-01T19:52:04.534Z"
   },
   {
    "duration": 275,
    "start_time": "2022-03-01T19:52:20.591Z"
   },
   {
    "duration": 310,
    "start_time": "2022-03-03T10:11:58.133Z"
   },
   {
    "duration": 283,
    "start_time": "2022-03-03T10:11:58.559Z"
   },
   {
    "duration": -38,
    "start_time": "2022-03-03T10:11:58.883Z"
   },
   {
    "duration": 733,
    "start_time": "2022-03-03T10:12:06.136Z"
   },
   {
    "duration": 64,
    "start_time": "2022-03-03T10:12:07.080Z"
   },
   {
    "duration": 28,
    "start_time": "2022-03-03T10:12:07.463Z"
   },
   {
    "duration": 16,
    "start_time": "2022-03-03T10:12:07.738Z"
   },
   {
    "duration": 45,
    "start_time": "2022-03-03T10:12:07.878Z"
   },
   {
    "duration": 6,
    "start_time": "2022-03-03T10:12:08.611Z"
   },
   {
    "duration": 5,
    "start_time": "2022-03-03T10:12:08.779Z"
   },
   {
    "duration": 33,
    "start_time": "2022-03-03T10:12:09.106Z"
   },
   {
    "duration": 33,
    "start_time": "2022-03-03T10:12:09.418Z"
   },
   {
    "duration": 10,
    "start_time": "2022-03-03T10:12:09.791Z"
   },
   {
    "duration": 8,
    "start_time": "2022-03-03T10:12:10.229Z"
   },
   {
    "duration": 33,
    "start_time": "2022-03-03T10:12:10.579Z"
   },
   {
    "duration": 9,
    "start_time": "2022-03-03T10:12:11.013Z"
   },
   {
    "duration": 4,
    "start_time": "2022-03-03T10:12:11.242Z"
   },
   {
    "duration": 11,
    "start_time": "2022-03-03T10:12:11.693Z"
   },
   {
    "duration": 3,
    "start_time": "2022-03-03T10:12:11.896Z"
   },
   {
    "duration": 16,
    "start_time": "2022-03-03T10:12:12.065Z"
   },
   {
    "duration": 13,
    "start_time": "2022-03-03T10:12:12.450Z"
   },
   {
    "duration": 6,
    "start_time": "2022-03-03T10:12:13.087Z"
   },
   {
    "duration": 6,
    "start_time": "2022-03-03T10:12:13.538Z"
   },
   {
    "duration": 14,
    "start_time": "2022-03-03T10:12:14.122Z"
   },
   {
    "duration": 11,
    "start_time": "2022-03-03T10:12:16.316Z"
   },
   {
    "duration": 5,
    "start_time": "2022-03-03T10:12:16.791Z"
   },
   {
    "duration": 8,
    "start_time": "2022-03-03T10:12:17.644Z"
   },
   {
    "duration": 6,
    "start_time": "2022-03-03T10:12:18.611Z"
   },
   {
    "duration": 6,
    "start_time": "2022-03-03T10:12:20.816Z"
   },
   {
    "duration": 7,
    "start_time": "2022-03-03T10:12:24.027Z"
   },
   {
    "duration": 6,
    "start_time": "2022-03-03T10:12:28.481Z"
   },
   {
    "duration": 6426,
    "start_time": "2022-03-03T12:14:13.456Z"
   },
   {
    "duration": 21,
    "start_time": "2022-03-03T12:14:19.863Z"
   },
   {
    "duration": 61,
    "start_time": "2022-03-03T12:14:20.205Z"
   },
   {
    "duration": 19,
    "start_time": "2022-03-03T12:14:20.541Z"
   },
   {
    "duration": 14,
    "start_time": "2022-03-03T12:14:20.943Z"
   },
   {
    "duration": 46,
    "start_time": "2022-03-03T12:14:21.083Z"
   },
   {
    "duration": 6,
    "start_time": "2022-03-03T12:14:21.762Z"
   },
   {
    "duration": 6,
    "start_time": "2022-03-03T12:14:21.936Z"
   },
   {
    "duration": 37,
    "start_time": "2022-03-03T12:14:22.300Z"
   },
   {
    "duration": 52,
    "start_time": "2022-03-03T12:14:22.706Z"
   },
   {
    "duration": 10,
    "start_time": "2022-03-03T12:14:23.162Z"
   },
   {
    "duration": 7,
    "start_time": "2022-03-03T12:14:23.618Z"
   },
   {
    "duration": 49,
    "start_time": "2022-03-03T12:14:23.808Z"
   },
   {
    "duration": 12,
    "start_time": "2022-03-03T12:14:24.297Z"
   },
   {
    "duration": 4,
    "start_time": "2022-03-03T12:14:24.481Z"
   },
   {
    "duration": 16,
    "start_time": "2022-03-03T12:14:25.137Z"
   },
   {
    "duration": 4,
    "start_time": "2022-03-03T12:14:25.344Z"
   },
   {
    "duration": 14,
    "start_time": "2022-03-03T12:14:25.531Z"
   },
   {
    "duration": 18,
    "start_time": "2022-03-03T12:14:27.121Z"
   },
   {
    "duration": 6,
    "start_time": "2022-03-03T12:14:27.843Z"
   },
   {
    "duration": 6,
    "start_time": "2022-03-03T12:14:28.262Z"
   },
   {
    "duration": 22,
    "start_time": "2022-03-03T12:14:28.864Z"
   },
   {
    "duration": 15,
    "start_time": "2022-03-03T12:14:30.526Z"
   },
   {
    "duration": 8,
    "start_time": "2022-03-03T12:14:30.939Z"
   },
   {
    "duration": 9,
    "start_time": "2022-03-03T12:14:31.748Z"
   },
   {
    "duration": 6,
    "start_time": "2022-03-03T12:14:32.123Z"
   },
   {
    "duration": 6,
    "start_time": "2022-03-03T12:14:35.032Z"
   },
   {
    "duration": 11,
    "start_time": "2022-03-03T12:14:35.573Z"
   },
   {
    "duration": 11,
    "start_time": "2022-03-03T12:14:36.018Z"
   },
   {
    "duration": 5,
    "start_time": "2022-03-03T12:14:36.534Z"
   },
   {
    "duration": 12,
    "start_time": "2022-03-03T12:14:38.334Z"
   },
   {
    "duration": 6,
    "start_time": "2022-03-03T12:14:39.239Z"
   },
   {
    "duration": 8,
    "start_time": "2022-03-03T12:14:40.111Z"
   },
   {
    "duration": 9,
    "start_time": "2022-03-03T12:14:41.753Z"
   },
   {
    "duration": 9,
    "start_time": "2022-03-03T12:14:42.804Z"
   },
   {
    "duration": 5,
    "start_time": "2022-03-03T12:14:45.063Z"
   },
   {
    "duration": 6,
    "start_time": "2022-03-03T12:14:46.276Z"
   },
   {
    "duration": 25,
    "start_time": "2022-03-03T12:14:48.496Z"
   },
   {
    "duration": 26,
    "start_time": "2022-03-03T12:14:48.858Z"
   },
   {
    "duration": 22,
    "start_time": "2022-03-03T12:14:50.633Z"
   },
   {
    "duration": 7,
    "start_time": "2022-03-03T12:14:50.658Z"
   },
   {
    "duration": 17,
    "start_time": "2022-03-03T12:14:50.738Z"
   },
   {
    "duration": 8,
    "start_time": "2022-03-03T12:14:51.215Z"
   },
   {
    "duration": 7,
    "start_time": "2022-03-03T12:14:52.985Z"
   },
   {
    "duration": 14,
    "start_time": "2022-03-03T12:14:52.994Z"
   },
   {
    "duration": 6,
    "start_time": "2022-03-03T12:14:53.011Z"
   },
   {
    "duration": 8,
    "start_time": "2022-03-03T12:14:53.654Z"
   },
   {
    "duration": 17,
    "start_time": "2022-03-03T12:14:55.103Z"
   },
   {
    "duration": 10,
    "start_time": "2022-03-03T12:14:56.861Z"
   },
   {
    "duration": 9,
    "start_time": "2022-03-03T12:14:57.908Z"
   },
   {
    "duration": 7,
    "start_time": "2022-03-03T12:15:04.916Z"
   },
   {
    "duration": 4,
    "start_time": "2022-03-03T12:15:06.719Z"
   },
   {
    "duration": 31,
    "start_time": "2022-03-03T12:15:07.580Z"
   },
   {
    "duration": 28,
    "start_time": "2022-03-03T12:15:30.882Z"
   },
   {
    "duration": 16,
    "start_time": "2022-03-03T12:15:51.360Z"
   },
   {
    "duration": 10,
    "start_time": "2022-03-03T12:16:11.420Z"
   },
   {
    "duration": 257,
    "start_time": "2022-03-03T12:17:15.373Z"
   },
   {
    "duration": 302,
    "start_time": "2022-03-03T12:17:30.740Z"
   },
   {
    "duration": 5,
    "start_time": "2022-03-03T12:17:35.765Z"
   },
   {
    "duration": 48,
    "start_time": "2022-03-03T12:17:36.801Z"
   },
   {
    "duration": 14,
    "start_time": "2022-03-03T12:17:39.365Z"
   },
   {
    "duration": 15,
    "start_time": "2022-03-03T12:20:45.050Z"
   },
   {
    "duration": 8,
    "start_time": "2022-03-03T12:20:46.568Z"
   },
   {
    "duration": 15,
    "start_time": "2022-03-03T12:21:04.382Z"
   },
   {
    "duration": 250,
    "start_time": "2022-03-03T12:21:37.580Z"
   },
   {
    "duration": 3,
    "start_time": "2022-03-03T12:21:47.019Z"
   },
   {
    "duration": 56,
    "start_time": "2022-03-03T12:21:47.379Z"
   },
   {
    "duration": 18,
    "start_time": "2022-03-03T12:21:47.925Z"
   },
   {
    "duration": 15,
    "start_time": "2022-03-03T12:21:48.316Z"
   },
   {
    "duration": 45,
    "start_time": "2022-03-03T12:21:48.453Z"
   },
   {
    "duration": 6,
    "start_time": "2022-03-03T12:21:49.387Z"
   },
   {
    "duration": 6,
    "start_time": "2022-03-03T12:21:49.575Z"
   },
   {
    "duration": 35,
    "start_time": "2022-03-03T12:21:49.973Z"
   },
   {
    "duration": 37,
    "start_time": "2022-03-03T12:21:50.375Z"
   },
   {
    "duration": 9,
    "start_time": "2022-03-03T12:21:50.820Z"
   },
   {
    "duration": 8,
    "start_time": "2022-03-03T12:21:51.117Z"
   },
   {
    "duration": 32,
    "start_time": "2022-03-03T12:21:51.309Z"
   },
   {
    "duration": 9,
    "start_time": "2022-03-03T12:21:51.782Z"
   },
   {
    "duration": 3,
    "start_time": "2022-03-03T12:21:51.917Z"
   },
   {
    "duration": 10,
    "start_time": "2022-03-03T12:21:52.275Z"
   },
   {
    "duration": 3,
    "start_time": "2022-03-03T12:21:52.493Z"
   },
   {
    "duration": 12,
    "start_time": "2022-03-03T12:21:52.659Z"
   },
   {
    "duration": 14,
    "start_time": "2022-03-03T12:21:53.107Z"
   },
   {
    "duration": 6,
    "start_time": "2022-03-03T12:21:53.570Z"
   },
   {
    "duration": 6,
    "start_time": "2022-03-03T12:21:53.795Z"
   },
   {
    "duration": 14,
    "start_time": "2022-03-03T12:21:54.180Z"
   },
   {
    "duration": 12,
    "start_time": "2022-03-03T12:21:55.185Z"
   },
   {
    "duration": 5,
    "start_time": "2022-03-03T12:21:55.398Z"
   },
   {
    "duration": 9,
    "start_time": "2022-03-03T12:21:55.800Z"
   },
   {
    "duration": 6,
    "start_time": "2022-03-03T12:21:56.607Z"
   },
   {
    "duration": 5,
    "start_time": "2022-03-03T12:21:58.014Z"
   },
   {
    "duration": 250,
    "start_time": "2022-03-03T12:21:59.459Z"
   },
   {
    "duration": 257,
    "start_time": "2022-03-03T12:22:24.002Z"
   },
   {
    "duration": 54,
    "start_time": "2022-03-03T12:22:44.689Z"
   },
   {
    "duration": 19,
    "start_time": "2022-03-03T12:22:45.753Z"
   },
   {
    "duration": 14,
    "start_time": "2022-03-03T12:22:46.286Z"
   },
   {
    "duration": 45,
    "start_time": "2022-03-03T12:22:46.734Z"
   },
   {
    "duration": 6,
    "start_time": "2022-03-03T12:22:48.558Z"
   },
   {
    "duration": 5,
    "start_time": "2022-03-03T12:22:48.889Z"
   },
   {
    "duration": 32,
    "start_time": "2022-03-03T12:22:49.357Z"
   },
   {
    "duration": 53,
    "start_time": "2022-03-03T12:22:49.753Z"
   },
   {
    "duration": 10,
    "start_time": "2022-03-03T12:22:50.234Z"
   },
   {
    "duration": 8,
    "start_time": "2022-03-03T12:22:50.733Z"
   },
   {
    "duration": 32,
    "start_time": "2022-03-03T12:22:50.936Z"
   },
   {
    "duration": 9,
    "start_time": "2022-03-03T12:22:51.410Z"
   },
   {
    "duration": 6,
    "start_time": "2022-03-03T12:22:51.535Z"
   },
   {
    "duration": 10,
    "start_time": "2022-03-03T12:22:52.142Z"
   },
   {
    "duration": 4,
    "start_time": "2022-03-03T12:22:52.352Z"
   },
   {
    "duration": 13,
    "start_time": "2022-03-03T12:22:52.548Z"
   },
   {
    "duration": 20,
    "start_time": "2022-03-03T12:22:53.260Z"
   },
   {
    "duration": 7,
    "start_time": "2022-03-03T12:22:53.747Z"
   },
   {
    "duration": 5,
    "start_time": "2022-03-03T12:22:54.110Z"
   },
   {
    "duration": 14,
    "start_time": "2022-03-03T12:22:54.761Z"
   },
   {
    "duration": 12,
    "start_time": "2022-03-03T12:22:58.309Z"
   },
   {
    "duration": 8,
    "start_time": "2022-03-03T12:22:58.953Z"
   },
   {
    "duration": 8,
    "start_time": "2022-03-03T12:23:00.761Z"
   },
   {
    "duration": 6,
    "start_time": "2022-03-03T12:23:03.063Z"
   },
   {
    "duration": 6,
    "start_time": "2022-03-03T12:23:06.333Z"
   },
   {
    "duration": 13,
    "start_time": "2022-03-03T12:23:32.270Z"
   },
   {
    "duration": 9,
    "start_time": "2022-03-03T12:23:44.625Z"
   },
   {
    "duration": 3,
    "start_time": "2022-03-03T12:24:07.219Z"
   },
   {
    "duration": 57,
    "start_time": "2022-03-03T12:24:08.499Z"
   },
   {
    "duration": 20,
    "start_time": "2022-03-03T12:24:09.996Z"
   },
   {
    "duration": 15,
    "start_time": "2022-03-03T12:24:15.763Z"
   },
   {
    "duration": 46,
    "start_time": "2022-03-03T12:24:18.871Z"
   },
   {
    "duration": 6,
    "start_time": "2022-03-03T12:24:44.894Z"
   },
   {
    "duration": 6,
    "start_time": "2022-03-03T12:24:45.531Z"
   },
   {
    "duration": 6,
    "start_time": "2022-03-03T12:24:57.066Z"
   },
   {
    "duration": 6,
    "start_time": "2022-03-03T12:24:58.134Z"
   },
   {
    "duration": 14,
    "start_time": "2022-03-03T12:25:00.793Z"
   },
   {
    "duration": 18,
    "start_time": "2022-03-03T12:25:06.988Z"
   },
   {
    "duration": 6,
    "start_time": "2022-03-03T12:25:14.752Z"
   },
   {
    "duration": 8,
    "start_time": "2022-03-03T12:25:15.921Z"
   },
   {
    "duration": 7,
    "start_time": "2022-03-03T12:25:17.533Z"
   },
   {
    "duration": 6,
    "start_time": "2022-03-03T12:25:21.238Z"
   },
   {
    "duration": 10,
    "start_time": "2022-03-03T12:25:30.217Z"
   },
   {
    "duration": 11,
    "start_time": "2022-03-03T12:25:52.520Z"
   },
   {
    "duration": 11,
    "start_time": "2022-03-03T12:26:10.887Z"
   },
   {
    "duration": 11,
    "start_time": "2022-03-03T12:26:15.549Z"
   },
   {
    "duration": 253,
    "start_time": "2022-03-03T12:26:25.817Z"
   },
   {
    "duration": 3,
    "start_time": "2022-03-03T12:28:23.297Z"
   },
   {
    "duration": 54,
    "start_time": "2022-03-03T12:28:23.604Z"
   },
   {
    "duration": 21,
    "start_time": "2022-03-03T12:28:23.935Z"
   },
   {
    "duration": 16,
    "start_time": "2022-03-03T12:28:24.321Z"
   },
   {
    "duration": 51,
    "start_time": "2022-03-03T12:28:24.457Z"
   },
   {
    "duration": 6,
    "start_time": "2022-03-03T12:28:25.187Z"
   },
   {
    "duration": 6,
    "start_time": "2022-03-03T12:28:25.360Z"
   },
   {
    "duration": 36,
    "start_time": "2022-03-03T12:28:25.716Z"
   },
   {
    "duration": 34,
    "start_time": "2022-03-03T12:28:26.121Z"
   },
   {
    "duration": 10,
    "start_time": "2022-03-03T12:28:26.556Z"
   },
   {
    "duration": 9,
    "start_time": "2022-03-03T12:28:26.918Z"
   },
   {
    "duration": 31,
    "start_time": "2022-03-03T12:28:27.138Z"
   },
   {
    "duration": 10,
    "start_time": "2022-03-03T12:28:27.669Z"
   },
   {
    "duration": 3,
    "start_time": "2022-03-03T12:28:27.834Z"
   },
   {
    "duration": 11,
    "start_time": "2022-03-03T12:28:28.171Z"
   },
   {
    "duration": 4,
    "start_time": "2022-03-03T12:28:28.356Z"
   },
   {
    "duration": 14,
    "start_time": "2022-03-03T12:28:28.525Z"
   },
   {
    "duration": 15,
    "start_time": "2022-03-03T12:28:28.999Z"
   },
   {
    "duration": 7,
    "start_time": "2022-03-03T12:28:29.445Z"
   },
   {
    "duration": 8,
    "start_time": "2022-03-03T12:28:29.651Z"
   },
   {
    "duration": 17,
    "start_time": "2022-03-03T12:28:29.994Z"
   },
   {
    "duration": 14,
    "start_time": "2022-03-03T12:28:31.037Z"
   },
   {
    "duration": 6,
    "start_time": "2022-03-03T12:28:31.239Z"
   },
   {
    "duration": 11,
    "start_time": "2022-03-03T12:28:32.463Z"
   },
   {
    "duration": 7,
    "start_time": "2022-03-03T12:28:32.904Z"
   },
   {
    "duration": 6,
    "start_time": "2022-03-03T12:28:33.379Z"
   },
   {
    "duration": 515,
    "start_time": "2022-03-03T12:28:33.715Z"
   },
   {
    "duration": 555,
    "start_time": "2022-03-03T12:28:41.696Z"
   },
   {
    "duration": 4,
    "start_time": "2022-03-03T12:28:46.922Z"
   },
   {
    "duration": 57,
    "start_time": "2022-03-03T12:28:47.314Z"
   },
   {
    "duration": 24,
    "start_time": "2022-03-03T12:28:47.671Z"
   },
   {
    "duration": 15,
    "start_time": "2022-03-03T12:28:48.068Z"
   },
   {
    "duration": 65,
    "start_time": "2022-03-03T12:28:48.227Z"
   },
   {
    "duration": 6,
    "start_time": "2022-03-03T12:28:58.354Z"
   },
   {
    "duration": 6,
    "start_time": "2022-03-03T12:28:58.535Z"
   },
   {
    "duration": 34,
    "start_time": "2022-03-03T12:28:58.917Z"
   },
   {
    "duration": 36,
    "start_time": "2022-03-03T12:28:59.329Z"
   },
   {
    "duration": 10,
    "start_time": "2022-03-03T12:28:59.771Z"
   },
   {
    "duration": 8,
    "start_time": "2022-03-03T12:29:00.048Z"
   },
   {
    "duration": 31,
    "start_time": "2022-03-03T12:29:00.215Z"
   },
   {
    "duration": 9,
    "start_time": "2022-03-03T12:29:00.769Z"
   },
   {
    "duration": 4,
    "start_time": "2022-03-03T12:29:00.979Z"
   },
   {
    "duration": 10,
    "start_time": "2022-03-03T12:29:01.330Z"
   },
   {
    "duration": 4,
    "start_time": "2022-03-03T12:29:01.527Z"
   },
   {
    "duration": 13,
    "start_time": "2022-03-03T12:29:01.691Z"
   },
   {
    "duration": 12,
    "start_time": "2022-03-03T12:29:02.163Z"
   },
   {
    "duration": 6,
    "start_time": "2022-03-03T12:29:02.670Z"
   },
   {
    "duration": 6,
    "start_time": "2022-03-03T12:29:03.201Z"
   },
   {
    "duration": 23,
    "start_time": "2022-03-03T12:29:03.792Z"
   },
   {
    "duration": 10,
    "start_time": "2022-03-03T12:29:05.855Z"
   },
   {
    "duration": 5,
    "start_time": "2022-03-03T12:29:07.160Z"
   },
   {
    "duration": 9,
    "start_time": "2022-03-03T12:29:08.875Z"
   },
   {
    "duration": 6,
    "start_time": "2022-03-03T12:29:09.887Z"
   },
   {
    "duration": 6,
    "start_time": "2022-03-03T12:29:11.222Z"
   },
   {
    "duration": 3,
    "start_time": "2022-03-03T12:29:33.776Z"
   },
   {
    "duration": 57,
    "start_time": "2022-03-03T12:29:34.128Z"
   },
   {
    "duration": 19,
    "start_time": "2022-03-03T12:29:34.563Z"
   },
   {
    "duration": 15,
    "start_time": "2022-03-03T12:29:34.998Z"
   },
   {
    "duration": 45,
    "start_time": "2022-03-03T12:29:35.119Z"
   },
   {
    "duration": 6,
    "start_time": "2022-03-03T12:29:36.156Z"
   },
   {
    "duration": 5,
    "start_time": "2022-03-03T12:29:36.309Z"
   },
   {
    "duration": 35,
    "start_time": "2022-03-03T12:29:36.695Z"
   },
   {
    "duration": 35,
    "start_time": "2022-03-03T12:29:37.081Z"
   },
   {
    "duration": 7,
    "start_time": "2022-03-03T12:30:11.970Z"
   },
   {
    "duration": 12,
    "start_time": "2022-03-03T12:30:14.218Z"
   },
   {
    "duration": 5,
    "start_time": "2022-03-03T12:30:21.164Z"
   },
   {
    "duration": 8,
    "start_time": "2022-03-03T12:30:46.786Z"
   },
   {
    "duration": 12,
    "start_time": "2022-03-03T12:30:49.777Z"
   },
   {
    "duration": 87,
    "start_time": "2022-03-03T12:33:43.907Z"
   },
   {
    "duration": 8,
    "start_time": "2022-03-03T12:35:18.399Z"
   },
   {
    "duration": 11,
    "start_time": "2022-03-03T12:35:36.414Z"
   },
   {
    "duration": 260,
    "start_time": "2022-03-03T12:35:58.598Z"
   },
   {
    "duration": 4,
    "start_time": "2022-03-03T12:36:08.675Z"
   },
   {
    "duration": 12,
    "start_time": "2022-03-03T12:36:10.015Z"
   },
   {
    "duration": 5,
    "start_time": "2022-03-03T12:36:17.138Z"
   },
   {
    "duration": 5,
    "start_time": "2022-03-03T12:36:29.738Z"
   },
   {
    "duration": 12,
    "start_time": "2022-03-03T12:36:30.998Z"
   },
   {
    "duration": 7,
    "start_time": "2022-03-03T12:36:44.700Z"
   },
   {
    "duration": 8,
    "start_time": "2022-03-03T12:38:10.166Z"
   },
   {
    "duration": 8,
    "start_time": "2022-03-03T12:38:27.516Z"
   },
   {
    "duration": 18,
    "start_time": "2022-03-03T12:40:56.124Z"
   },
   {
    "duration": 8,
    "start_time": "2022-03-03T12:41:12.304Z"
   },
   {
    "duration": 6,
    "start_time": "2022-03-03T12:41:51.197Z"
   },
   {
    "duration": 8,
    "start_time": "2022-03-03T12:42:00.737Z"
   },
   {
    "duration": 13,
    "start_time": "2022-03-03T12:42:03.202Z"
   },
   {
    "duration": 10,
    "start_time": "2022-03-03T12:42:27.175Z"
   },
   {
    "duration": 13,
    "start_time": "2022-03-03T12:42:33.271Z"
   },
   {
    "duration": 7,
    "start_time": "2022-03-03T12:43:02.688Z"
   },
   {
    "duration": 10,
    "start_time": "2022-03-03T12:43:06.460Z"
   },
   {
    "duration": 9,
    "start_time": "2022-03-03T12:43:26.771Z"
   },
   {
    "duration": 18,
    "start_time": "2022-03-03T12:43:40.745Z"
   },
   {
    "duration": 7,
    "start_time": "2022-03-03T12:43:57.581Z"
   },
   {
    "duration": 13,
    "start_time": "2022-03-03T12:43:59.486Z"
   },
   {
    "duration": 20,
    "start_time": "2022-03-03T12:44:15.500Z"
   },
   {
    "duration": 46,
    "start_time": "2022-03-03T12:44:22.094Z"
   },
   {
    "duration": 7,
    "start_time": "2022-03-03T13:54:53.526Z"
   },
   {
    "duration": 13,
    "start_time": "2022-03-03T13:55:10.860Z"
   },
   {
    "duration": 7,
    "start_time": "2022-03-03T13:55:22.334Z"
   },
   {
    "duration": 19,
    "start_time": "2022-03-03T13:55:23.647Z"
   },
   {
    "duration": 19,
    "start_time": "2022-03-03T13:55:37.898Z"
   },
   {
    "duration": 49,
    "start_time": "2022-03-03T13:55:45.361Z"
   },
   {
    "duration": 9,
    "start_time": "2022-03-03T13:56:05.721Z"
   },
   {
    "duration": 18,
    "start_time": "2022-03-03T13:56:06.644Z"
   },
   {
    "duration": 49,
    "start_time": "2022-03-03T13:56:07.327Z"
   },
   {
    "duration": 8,
    "start_time": "2022-03-03T13:56:17.783Z"
   },
   {
    "duration": 17,
    "start_time": "2022-03-03T13:56:33.297Z"
   },
   {
    "duration": 53,
    "start_time": "2022-03-03T13:56:34.095Z"
   },
   {
    "duration": 8,
    "start_time": "2022-03-03T13:56:39.711Z"
   },
   {
    "duration": 17,
    "start_time": "2022-03-03T13:56:40.536Z"
   },
   {
    "duration": 48,
    "start_time": "2022-03-03T13:56:41.208Z"
   },
   {
    "duration": 7,
    "start_time": "2022-03-03T13:56:53.077Z"
   },
   {
    "duration": 7,
    "start_time": "2022-03-03T13:57:00.985Z"
   },
   {
    "duration": 7,
    "start_time": "2022-03-03T14:01:27.331Z"
   },
   {
    "duration": 7,
    "start_time": "2022-03-03T14:01:37.387Z"
   },
   {
    "duration": 8,
    "start_time": "2022-03-03T14:01:46.425Z"
   },
   {
    "duration": 9,
    "start_time": "2022-03-03T14:01:51.539Z"
   },
   {
    "duration": 7,
    "start_time": "2022-03-03T14:01:56.969Z"
   },
   {
    "duration": 9,
    "start_time": "2022-03-03T14:02:01.838Z"
   },
   {
    "duration": 18,
    "start_time": "2022-03-03T14:45:55.056Z"
   },
   {
    "duration": 49,
    "start_time": "2022-03-03T14:45:57.990Z"
   },
   {
    "duration": 287,
    "start_time": "2022-03-03T14:46:42.150Z"
   },
   {
    "duration": 3,
    "start_time": "2022-03-03T14:46:46.828Z"
   },
   {
    "duration": 57,
    "start_time": "2022-03-03T14:46:47.195Z"
   },
   {
    "duration": 20,
    "start_time": "2022-03-03T14:46:47.549Z"
   },
   {
    "duration": 17,
    "start_time": "2022-03-03T14:46:47.955Z"
   },
   {
    "duration": 47,
    "start_time": "2022-03-03T14:46:48.127Z"
   },
   {
    "duration": 5,
    "start_time": "2022-03-03T14:46:49.576Z"
   },
   {
    "duration": 5,
    "start_time": "2022-03-03T14:46:49.790Z"
   },
   {
    "duration": 33,
    "start_time": "2022-03-03T14:46:50.166Z"
   },
   {
    "duration": 34,
    "start_time": "2022-03-03T14:46:50.605Z"
   },
   {
    "duration": 10,
    "start_time": "2022-03-03T14:46:51.068Z"
   },
   {
    "duration": 7,
    "start_time": "2022-03-03T14:46:51.976Z"
   },
   {
    "duration": 30,
    "start_time": "2022-03-03T14:46:52.349Z"
   },
   {
    "duration": 8,
    "start_time": "2022-03-03T14:46:54.269Z"
   },
   {
    "duration": 3,
    "start_time": "2022-03-03T14:46:54.958Z"
   },
   {
    "duration": 11,
    "start_time": "2022-03-03T14:46:55.875Z"
   },
   {
    "duration": 4,
    "start_time": "2022-03-03T14:46:56.615Z"
   },
   {
    "duration": 14,
    "start_time": "2022-03-03T14:46:57.524Z"
   },
   {
    "duration": 16,
    "start_time": "2022-03-03T14:46:58.259Z"
   },
   {
    "duration": 9,
    "start_time": "2022-03-03T14:46:58.726Z"
   },
   {
    "duration": 6,
    "start_time": "2022-03-03T14:46:59.773Z"
   },
   {
    "duration": 17,
    "start_time": "2022-03-03T14:47:00.714Z"
   },
   {
    "duration": 11,
    "start_time": "2022-03-03T14:47:03.310Z"
   },
   {
    "duration": 5,
    "start_time": "2022-03-03T14:47:08.027Z"
   },
   {
    "duration": 8,
    "start_time": "2022-03-03T14:47:10.492Z"
   },
   {
    "duration": 6,
    "start_time": "2022-03-03T14:47:13.730Z"
   },
   {
    "duration": 7,
    "start_time": "2022-03-03T14:47:17.058Z"
   },
   {
    "duration": 7,
    "start_time": "2022-03-03T14:47:24.195Z"
   },
   {
    "duration": 20,
    "start_time": "2022-03-03T14:47:26.643Z"
   },
   {
    "duration": 52,
    "start_time": "2022-03-03T14:47:27.986Z"
   },
   {
    "duration": 3,
    "start_time": "2022-03-03T14:51:41.971Z"
   },
   {
    "duration": 53,
    "start_time": "2022-03-03T14:51:42.884Z"
   },
   {
    "duration": 21,
    "start_time": "2022-03-03T14:51:43.986Z"
   },
   {
    "duration": 14,
    "start_time": "2022-03-03T14:51:44.772Z"
   },
   {
    "duration": 45,
    "start_time": "2022-03-03T14:51:45.263Z"
   },
   {
    "duration": 6,
    "start_time": "2022-03-03T14:51:48.605Z"
   },
   {
    "duration": 6,
    "start_time": "2022-03-03T14:51:49.251Z"
   },
   {
    "duration": 44,
    "start_time": "2022-03-03T14:51:50.338Z"
   },
   {
    "duration": 34,
    "start_time": "2022-03-03T14:51:50.811Z"
   },
   {
    "duration": 9,
    "start_time": "2022-03-03T14:51:52.273Z"
   },
   {
    "duration": 10,
    "start_time": "2022-03-03T14:51:53.585Z"
   },
   {
    "duration": 30,
    "start_time": "2022-03-03T14:51:54.211Z"
   },
   {
    "duration": 8,
    "start_time": "2022-03-03T14:51:56.414Z"
   },
   {
    "duration": 3,
    "start_time": "2022-03-03T14:51:57.021Z"
   },
   {
    "duration": 11,
    "start_time": "2022-03-03T14:51:58.799Z"
   },
   {
    "duration": 3,
    "start_time": "2022-03-03T14:51:59.482Z"
   },
   {
    "duration": 14,
    "start_time": "2022-03-03T14:52:00.023Z"
   },
   {
    "duration": 14,
    "start_time": "2022-03-03T14:52:01.078Z"
   },
   {
    "duration": 6,
    "start_time": "2022-03-03T14:52:02.600Z"
   },
   {
    "duration": 6,
    "start_time": "2022-03-03T14:52:04.499Z"
   },
   {
    "duration": 14,
    "start_time": "2022-03-03T14:52:05.588Z"
   },
   {
    "duration": 11,
    "start_time": "2022-03-03T14:52:11.795Z"
   },
   {
    "duration": 5,
    "start_time": "2022-03-03T14:52:12.466Z"
   },
   {
    "duration": 8,
    "start_time": "2022-03-03T14:52:13.520Z"
   },
   {
    "duration": 6,
    "start_time": "2022-03-03T14:52:18.516Z"
   },
   {
    "duration": 8,
    "start_time": "2022-03-03T14:52:20.316Z"
   },
   {
    "duration": 8,
    "start_time": "2022-03-03T14:52:41.656Z"
   },
   {
    "duration": 51,
    "start_time": "2022-03-03T14:52:42.667Z"
   },
   {
    "duration": 19,
    "start_time": "2022-03-03T14:55:22.693Z"
   },
   {
    "duration": 14,
    "start_time": "2022-03-03T14:59:06.542Z"
   },
   {
    "duration": 35,
    "start_time": "2022-03-03T15:00:34.242Z"
   },
   {
    "duration": 11,
    "start_time": "2022-03-03T15:01:21.944Z"
   },
   {
    "duration": 7,
    "start_time": "2022-03-03T15:01:45.569Z"
   },
   {
    "duration": 6,
    "start_time": "2022-03-03T17:57:01.824Z"
   },
   {
    "duration": 9,
    "start_time": "2022-03-03T17:59:01.484Z"
   },
   {
    "duration": 11,
    "start_time": "2022-03-03T17:59:31.004Z"
   },
   {
    "duration": 10,
    "start_time": "2022-03-03T18:55:41.749Z"
   },
   {
    "duration": 5845,
    "start_time": "2022-03-03T18:58:12.006Z"
   },
   {
    "duration": 6241,
    "start_time": "2022-03-03T18:58:29.280Z"
   },
   {
    "duration": 5793,
    "start_time": "2022-03-03T18:59:05.671Z"
   },
   {
    "duration": 15,
    "start_time": "2022-03-03T18:59:22.817Z"
   },
   {
    "duration": 24,
    "start_time": "2022-03-03T18:59:37.393Z"
   },
   {
    "duration": 10,
    "start_time": "2022-03-03T19:01:20.378Z"
   },
   {
    "duration": 10,
    "start_time": "2022-03-03T19:02:05.462Z"
   },
   {
    "duration": 26,
    "start_time": "2022-03-03T19:05:51.187Z"
   },
   {
    "duration": 52,
    "start_time": "2022-03-03T19:06:39.965Z"
   },
   {
    "duration": 24,
    "start_time": "2022-03-03T19:07:15.402Z"
   },
   {
    "duration": 28,
    "start_time": "2022-03-03T19:07:22.924Z"
   },
   {
    "duration": 25,
    "start_time": "2022-03-03T19:07:24.915Z"
   },
   {
    "duration": 8,
    "start_time": "2022-03-03T19:11:11.428Z"
   },
   {
    "duration": 6,
    "start_time": "2022-03-03T19:11:27.145Z"
   },
   {
    "duration": 6,
    "start_time": "2022-03-03T19:14:40.120Z"
   },
   {
    "duration": 13,
    "start_time": "2022-03-03T19:22:25.455Z"
   },
   {
    "duration": 273,
    "start_time": "2022-03-03T19:22:50.357Z"
   },
   {
    "duration": 9,
    "start_time": "2022-03-03T19:23:04.754Z"
   },
   {
    "duration": 3,
    "start_time": "2022-03-03T19:23:06.028Z"
   },
   {
    "duration": 5,
    "start_time": "2022-03-03T19:23:15.476Z"
   },
   {
    "duration": 9,
    "start_time": "2022-03-03T19:23:45.394Z"
   },
   {
    "duration": 7,
    "start_time": "2022-03-03T19:24:05.482Z"
   },
   {
    "duration": 10,
    "start_time": "2022-03-03T19:24:10.460Z"
   },
   {
    "duration": 13,
    "start_time": "2022-03-03T19:24:14.022Z"
   },
   {
    "duration": 8,
    "start_time": "2022-03-03T19:24:15.070Z"
   },
   {
    "duration": 7,
    "start_time": "2022-03-03T19:24:42.952Z"
   },
   {
    "duration": 10,
    "start_time": "2022-03-03T19:24:43.623Z"
   },
   {
    "duration": 60,
    "start_time": "2022-03-03T19:24:55.029Z"
   },
   {
    "duration": 19,
    "start_time": "2022-03-03T19:24:56.508Z"
   },
   {
    "duration": 14,
    "start_time": "2022-03-03T19:24:57.276Z"
   },
   {
    "duration": 46,
    "start_time": "2022-03-03T19:24:57.956Z"
   },
   {
    "duration": 7,
    "start_time": "2022-03-03T19:25:02.272Z"
   },
   {
    "duration": 6,
    "start_time": "2022-03-03T19:25:02.939Z"
   },
   {
    "duration": 33,
    "start_time": "2022-03-03T19:25:04.659Z"
   },
   {
    "duration": 33,
    "start_time": "2022-03-03T19:25:05.485Z"
   },
   {
    "duration": 10,
    "start_time": "2022-03-03T19:25:08.517Z"
   },
   {
    "duration": 8,
    "start_time": "2022-03-03T19:25:10.356Z"
   },
   {
    "duration": 32,
    "start_time": "2022-03-03T19:25:11.418Z"
   },
   {
    "duration": 9,
    "start_time": "2022-03-03T19:25:19.411Z"
   },
   {
    "duration": 9,
    "start_time": "2022-03-03T19:25:20.572Z"
   },
   {
    "duration": 5,
    "start_time": "2022-03-03T19:25:33.057Z"
   },
   {
    "duration": 10,
    "start_time": "2022-03-03T19:25:42.460Z"
   },
   {
    "duration": 4,
    "start_time": "2022-03-03T19:25:43.111Z"
   },
   {
    "duration": 4,
    "start_time": "2022-03-03T19:26:23.026Z"
   },
   {
    "duration": 13,
    "start_time": "2022-03-03T19:26:23.850Z"
   },
   {
    "duration": 14,
    "start_time": "2022-03-03T19:26:38.315Z"
   },
   {
    "duration": 229,
    "start_time": "2022-03-03T19:29:55.679Z"
   },
   {
    "duration": 7,
    "start_time": "2022-03-03T19:30:35.052Z"
   },
   {
    "duration": 10,
    "start_time": "2022-03-03T19:30:42.419Z"
   },
   {
    "duration": 11,
    "start_time": "2022-03-03T19:32:14.335Z"
   },
   {
    "duration": 9,
    "start_time": "2022-03-03T19:33:23.351Z"
   },
   {
    "duration": 10,
    "start_time": "2022-03-03T19:34:08.441Z"
   },
   {
    "duration": 11,
    "start_time": "2022-03-03T19:35:29.691Z"
   },
   {
    "duration": 5762,
    "start_time": "2022-03-03T19:41:43.893Z"
   },
   {
    "duration": 2207,
    "start_time": "2022-03-03T19:42:19.707Z"
   },
   {
    "duration": 11,
    "start_time": "2022-03-03T19:43:23.789Z"
   },
   {
    "duration": 35,
    "start_time": "2022-03-03T19:44:51.966Z"
   },
   {
    "duration": 283,
    "start_time": "2022-03-03T19:46:03.551Z"
   },
   {
    "duration": 6,
    "start_time": "2022-03-03T19:46:24.230Z"
   },
   {
    "duration": 61,
    "start_time": "2022-03-03T19:47:03.350Z"
   },
   {
    "duration": 7,
    "start_time": "2022-03-03T19:47:08.091Z"
   },
   {
    "duration": 15,
    "start_time": "2022-03-03T19:47:53.222Z"
   },
   {
    "duration": 4,
    "start_time": "2022-03-04T05:52:28.934Z"
   },
   {
    "duration": 75,
    "start_time": "2022-03-04T05:58:33.981Z"
   },
   {
    "duration": 6,
    "start_time": "2022-03-04T05:58:46.304Z"
   },
   {
    "duration": 29,
    "start_time": "2022-03-04T05:59:19.738Z"
   },
   {
    "duration": 11,
    "start_time": "2022-03-04T05:59:55.213Z"
   },
   {
    "duration": 13,
    "start_time": "2022-03-04T06:00:59.779Z"
   },
   {
    "duration": 36,
    "start_time": "2022-03-04T06:01:06.704Z"
   },
   {
    "duration": 11,
    "start_time": "2022-03-04T06:01:18.891Z"
   },
   {
    "duration": 12,
    "start_time": "2022-03-04T06:01:41.563Z"
   },
   {
    "duration": 74,
    "start_time": "2022-03-06T05:10:42.566Z"
   },
   {
    "duration": 285,
    "start_time": "2022-03-06T05:10:44.211Z"
   },
   {
    "duration": 226,
    "start_time": "2022-03-06T05:10:44.972Z"
   },
   {
    "duration": 750,
    "start_time": "2022-03-06T05:10:56.354Z"
   },
   {
    "duration": 60,
    "start_time": "2022-03-06T05:10:57.325Z"
   },
   {
    "duration": 29,
    "start_time": "2022-03-06T05:10:58.486Z"
   },
   {
    "duration": 15,
    "start_time": "2022-03-06T05:10:59.058Z"
   },
   {
    "duration": 46,
    "start_time": "2022-03-06T05:10:59.609Z"
   },
   {
    "duration": 6,
    "start_time": "2022-03-06T05:11:02.680Z"
   },
   {
    "duration": 5,
    "start_time": "2022-03-06T05:11:05.174Z"
   },
   {
    "duration": 35,
    "start_time": "2022-03-06T05:11:06.529Z"
   },
   {
    "duration": 34,
    "start_time": "2022-03-06T05:11:07.214Z"
   },
   {
    "duration": 9,
    "start_time": "2022-03-06T05:11:08.834Z"
   },
   {
    "duration": 7,
    "start_time": "2022-03-06T05:11:10.756Z"
   },
   {
    "duration": 31,
    "start_time": "2022-03-06T05:11:11.396Z"
   },
   {
    "duration": 9,
    "start_time": "2022-03-06T05:11:22.398Z"
   },
   {
    "duration": 9,
    "start_time": "2022-03-06T05:11:22.979Z"
   },
   {
    "duration": 5,
    "start_time": "2022-03-06T05:11:23.673Z"
   },
   {
    "duration": 10,
    "start_time": "2022-03-06T05:11:34.760Z"
   },
   {
    "duration": 4,
    "start_time": "2022-03-06T05:11:35.338Z"
   },
   {
    "duration": 16,
    "start_time": "2022-03-06T05:11:35.960Z"
   },
   {
    "duration": 14,
    "start_time": "2022-03-06T05:11:37.355Z"
   },
   {
    "duration": 10,
    "start_time": "2022-03-06T05:11:38.577Z"
   },
   {
    "duration": 11,
    "start_time": "2022-03-06T05:11:39.238Z"
   },
   {
    "duration": 30,
    "start_time": "2022-03-06T05:11:40.449Z"
   },
   {
    "duration": 13,
    "start_time": "2022-03-06T05:11:43.745Z"
   },
   {
    "duration": 72,
    "start_time": "2022-03-06T05:11:51.720Z"
   },
   {
    "duration": 96,
    "start_time": "2022-03-06T05:12:12.001Z"
   },
   {
    "duration": 77,
    "start_time": "2022-03-06T05:12:20.034Z"
   },
   {
    "duration": 68,
    "start_time": "2022-03-06T05:12:35.069Z"
   },
   {
    "duration": 112,
    "start_time": "2022-03-06T05:12:49.637Z"
   },
   {
    "duration": 982,
    "start_time": "2022-03-06T05:13:09.610Z"
   },
   {
    "duration": 995,
    "start_time": "2022-03-06T05:13:48.874Z"
   },
   {
    "duration": 241,
    "start_time": "2022-03-06T05:14:33.330Z"
   },
   {
    "duration": 31,
    "start_time": "2022-03-06T05:15:44.283Z"
   },
   {
    "duration": 13,
    "start_time": "2022-03-06T05:15:52.610Z"
   },
   {
    "duration": 43,
    "start_time": "2022-03-06T05:16:36.540Z"
   },
   {
    "duration": 2815,
    "start_time": "2022-03-06T05:16:50.596Z"
   },
   {
    "duration": 2914,
    "start_time": "2022-03-06T05:17:07.672Z"
   },
   {
    "duration": 3,
    "start_time": "2022-03-06T05:17:27.694Z"
   },
   {
    "duration": 57,
    "start_time": "2022-03-06T05:17:28.490Z"
   },
   {
    "duration": 18,
    "start_time": "2022-03-06T05:17:29.124Z"
   },
   {
    "duration": 16,
    "start_time": "2022-03-06T05:17:29.385Z"
   },
   {
    "duration": 46,
    "start_time": "2022-03-06T05:17:29.704Z"
   },
   {
    "duration": 5,
    "start_time": "2022-03-06T05:17:31.169Z"
   },
   {
    "duration": 5,
    "start_time": "2022-03-06T05:17:31.458Z"
   },
   {
    "duration": 35,
    "start_time": "2022-03-06T05:17:32.074Z"
   },
   {
    "duration": 34,
    "start_time": "2022-03-06T05:17:32.378Z"
   },
   {
    "duration": 9,
    "start_time": "2022-03-06T05:17:32.951Z"
   },
   {
    "duration": 7,
    "start_time": "2022-03-06T05:17:33.783Z"
   },
   {
    "duration": 31,
    "start_time": "2022-03-06T05:17:34.045Z"
   },
   {
    "duration": 8,
    "start_time": "2022-03-06T05:17:34.636Z"
   },
   {
    "duration": 9,
    "start_time": "2022-03-06T05:17:34.963Z"
   },
   {
    "duration": 8,
    "start_time": "2022-03-06T05:17:35.251Z"
   },
   {
    "duration": 10,
    "start_time": "2022-03-06T05:17:35.858Z"
   },
   {
    "duration": 4,
    "start_time": "2022-03-06T05:17:36.126Z"
   },
   {
    "duration": 13,
    "start_time": "2022-03-06T05:17:36.390Z"
   },
   {
    "duration": 14,
    "start_time": "2022-03-06T05:17:36.966Z"
   },
   {
    "duration": 9,
    "start_time": "2022-03-06T05:17:37.950Z"
   },
   {
    "duration": 10,
    "start_time": "2022-03-06T05:17:38.760Z"
   },
   {
    "duration": 30,
    "start_time": "2022-03-06T05:17:45.873Z"
   },
   {
    "duration": 229,
    "start_time": "2022-03-06T05:18:02.996Z"
   },
   {
    "duration": 11,
    "start_time": "2022-03-06T05:18:20.188Z"
   },
   {
    "duration": 75,
    "start_time": "2022-03-06T05:19:25.388Z"
   },
   {
    "duration": 7,
    "start_time": "2022-03-06T05:19:39.159Z"
   },
   {
    "duration": 7,
    "start_time": "2022-03-06T05:19:49.552Z"
   },
   {
    "duration": 30,
    "start_time": "2022-03-06T05:20:23.758Z"
   },
   {
    "duration": 28,
    "start_time": "2022-03-06T05:20:30.944Z"
   },
   {
    "duration": 26,
    "start_time": "2022-03-06T05:20:37.883Z"
   },
   {
    "duration": 221,
    "start_time": "2022-03-06T05:21:44.065Z"
   },
   {
    "duration": 235,
    "start_time": "2022-03-06T05:21:50.089Z"
   },
   {
    "duration": 7,
    "start_time": "2022-03-06T05:22:07.766Z"
   },
   {
    "duration": 6,
    "start_time": "2022-03-06T05:22:16.222Z"
   },
   {
    "duration": 7,
    "start_time": "2022-03-06T05:22:24.968Z"
   },
   {
    "duration": 258,
    "start_time": "2022-03-06T05:22:33.239Z"
   },
   {
    "duration": 7,
    "start_time": "2022-03-06T05:22:43.097Z"
   },
   {
    "duration": 98,
    "start_time": "2022-03-06T05:23:15.775Z"
   },
   {
    "duration": 189,
    "start_time": "2022-03-06T05:23:25.716Z"
   },
   {
    "duration": 55,
    "start_time": "2022-03-06T05:23:54.268Z"
   },
   {
    "duration": 50,
    "start_time": "2022-03-06T05:24:33.467Z"
   },
   {
    "duration": 64,
    "start_time": "2022-03-06T05:25:32.529Z"
   },
   {
    "duration": 38,
    "start_time": "2022-03-06T05:25:44.857Z"
   },
   {
    "duration": 9,
    "start_time": "2022-03-06T05:28:03.024Z"
   },
   {
    "duration": 10,
    "start_time": "2022-03-06T05:28:12.390Z"
   },
   {
    "duration": 13,
    "start_time": "2022-03-06T05:28:37.884Z"
   },
   {
    "duration": 15,
    "start_time": "2022-03-06T05:28:53.194Z"
   },
   {
    "duration": 13,
    "start_time": "2022-03-06T05:29:00.893Z"
   },
   {
    "duration": 245,
    "start_time": "2022-03-06T05:29:17.297Z"
   },
   {
    "duration": 3,
    "start_time": "2022-03-06T05:29:23.672Z"
   },
   {
    "duration": 59,
    "start_time": "2022-03-06T05:29:24.190Z"
   },
   {
    "duration": 19,
    "start_time": "2022-03-06T05:29:24.559Z"
   },
   {
    "duration": 14,
    "start_time": "2022-03-06T05:29:24.735Z"
   },
   {
    "duration": 47,
    "start_time": "2022-03-06T05:29:24.902Z"
   },
   {
    "duration": 5,
    "start_time": "2022-03-06T05:29:26.244Z"
   },
   {
    "duration": 5,
    "start_time": "2022-03-06T05:29:26.425Z"
   },
   {
    "duration": 36,
    "start_time": "2022-03-06T05:29:26.961Z"
   },
   {
    "duration": 35,
    "start_time": "2022-03-06T05:29:27.149Z"
   },
   {
    "duration": 9,
    "start_time": "2022-03-06T05:29:27.521Z"
   },
   {
    "duration": 7,
    "start_time": "2022-03-06T05:29:28.243Z"
   },
   {
    "duration": 32,
    "start_time": "2022-03-06T05:29:28.603Z"
   },
   {
    "duration": 9,
    "start_time": "2022-03-06T05:29:29.144Z"
   },
   {
    "duration": 9,
    "start_time": "2022-03-06T05:29:29.362Z"
   },
   {
    "duration": 5,
    "start_time": "2022-03-06T05:29:29.718Z"
   },
   {
    "duration": 10,
    "start_time": "2022-03-06T05:29:30.639Z"
   },
   {
    "duration": 4,
    "start_time": "2022-03-06T05:29:31.090Z"
   },
   {
    "duration": 15,
    "start_time": "2022-03-06T05:29:31.506Z"
   },
   {
    "duration": 14,
    "start_time": "2022-03-06T05:29:32.714Z"
   },
   {
    "duration": 11,
    "start_time": "2022-03-06T05:29:33.774Z"
   },
   {
    "duration": 10,
    "start_time": "2022-03-06T05:29:34.328Z"
   },
   {
    "duration": 2891,
    "start_time": "2022-03-06T05:29:35.347Z"
   },
   {
    "duration": 3,
    "start_time": "2022-03-06T05:30:09.242Z"
   },
   {
    "duration": 56,
    "start_time": "2022-03-06T05:30:10.044Z"
   },
   {
    "duration": 19,
    "start_time": "2022-03-06T05:30:10.985Z"
   },
   {
    "duration": 14,
    "start_time": "2022-03-06T05:30:11.440Z"
   },
   {
    "duration": 45,
    "start_time": "2022-03-06T05:30:11.886Z"
   },
   {
    "duration": 6,
    "start_time": "2022-03-06T05:30:14.305Z"
   },
   {
    "duration": 5,
    "start_time": "2022-03-06T05:30:14.803Z"
   },
   {
    "duration": 33,
    "start_time": "2022-03-06T05:30:15.737Z"
   },
   {
    "duration": 34,
    "start_time": "2022-03-06T05:30:16.205Z"
   },
   {
    "duration": 9,
    "start_time": "2022-03-06T05:30:17.070Z"
   },
   {
    "duration": 7,
    "start_time": "2022-03-06T05:30:18.399Z"
   },
   {
    "duration": 33,
    "start_time": "2022-03-06T05:30:18.854Z"
   },
   {
    "duration": 3,
    "start_time": "2022-03-06T05:51:48.730Z"
   },
   {
    "duration": 55,
    "start_time": "2022-03-06T05:51:49.846Z"
   },
   {
    "duration": 19,
    "start_time": "2022-03-06T05:51:50.929Z"
   },
   {
    "duration": 14,
    "start_time": "2022-03-06T05:51:51.530Z"
   },
   {
    "duration": 48,
    "start_time": "2022-03-06T05:51:52.079Z"
   },
   {
    "duration": 6,
    "start_time": "2022-03-06T05:51:55.129Z"
   },
   {
    "duration": 5,
    "start_time": "2022-03-06T05:51:55.895Z"
   },
   {
    "duration": 33,
    "start_time": "2022-03-06T05:51:57.379Z"
   },
   {
    "duration": 34,
    "start_time": "2022-03-06T05:51:57.979Z"
   },
   {
    "duration": 9,
    "start_time": "2022-03-06T05:52:00.595Z"
   },
   {
    "duration": 8,
    "start_time": "2022-03-06T05:52:02.378Z"
   },
   {
    "duration": 31,
    "start_time": "2022-03-06T05:52:03.131Z"
   },
   {
    "duration": 9,
    "start_time": "2022-03-06T05:52:04.895Z"
   },
   {
    "duration": 9,
    "start_time": "2022-03-06T05:52:11.762Z"
   },
   {
    "duration": 5,
    "start_time": "2022-03-06T05:52:14.530Z"
   },
   {
    "duration": 10,
    "start_time": "2022-03-06T05:52:17.480Z"
   },
   {
    "duration": 4,
    "start_time": "2022-03-06T05:52:20.845Z"
   },
   {
    "duration": 18,
    "start_time": "2022-03-06T05:52:20.851Z"
   },
   {
    "duration": 13,
    "start_time": "2022-03-06T05:52:24.680Z"
   },
   {
    "duration": 11,
    "start_time": "2022-03-06T05:52:25.929Z"
   },
   {
    "duration": 10,
    "start_time": "2022-03-06T05:52:26.547Z"
   },
   {
    "duration": 17,
    "start_time": "2022-03-06T05:52:42.147Z"
   },
   {
    "duration": 36,
    "start_time": "2022-03-06T05:54:29.951Z"
   },
   {
    "duration": 11,
    "start_time": "2022-03-06T05:54:53.700Z"
   },
   {
    "duration": 602,
    "start_time": "2022-03-07T08:14:47.319Z"
   },
   {
    "duration": 47,
    "start_time": "2022-03-07T08:14:48.091Z"
   },
   {
    "duration": 20,
    "start_time": "2022-03-07T08:14:48.870Z"
   },
   {
    "duration": 12,
    "start_time": "2022-03-07T08:14:49.254Z"
   },
   {
    "duration": 33,
    "start_time": "2022-03-07T08:14:49.669Z"
   },
   {
    "duration": 5,
    "start_time": "2022-03-07T08:14:51.923Z"
   },
   {
    "duration": 4,
    "start_time": "2022-03-07T08:14:52.373Z"
   },
   {
    "duration": 21,
    "start_time": "2022-03-07T08:14:53.505Z"
   },
   {
    "duration": 22,
    "start_time": "2022-03-07T08:14:53.986Z"
   },
   {
    "duration": 7,
    "start_time": "2022-03-07T08:14:54.960Z"
   },
   {
    "duration": 5,
    "start_time": "2022-03-07T08:14:56.288Z"
   },
   {
    "duration": 19,
    "start_time": "2022-03-07T08:14:56.702Z"
   },
   {
    "duration": 6,
    "start_time": "2022-03-07T08:14:57.677Z"
   },
   {
    "duration": 7,
    "start_time": "2022-03-07T08:14:58.196Z"
   },
   {
    "duration": 4,
    "start_time": "2022-03-07T08:14:58.988Z"
   },
   {
    "duration": 8,
    "start_time": "2022-03-07T08:15:00.532Z"
   },
   {
    "duration": 3,
    "start_time": "2022-03-07T08:15:01.051Z"
   },
   {
    "duration": 11,
    "start_time": "2022-03-07T08:15:01.553Z"
   },
   {
    "duration": 10,
    "start_time": "2022-03-07T08:15:03.789Z"
   },
   {
    "duration": 8,
    "start_time": "2022-03-07T08:15:11.880Z"
   },
   {
    "duration": 6,
    "start_time": "2022-03-07T08:17:26.602Z"
   },
   {
    "duration": 44,
    "start_time": "2022-03-07T08:58:35.107Z"
   },
   {
    "duration": 12,
    "start_time": "2022-03-07T08:58:49.469Z"
   },
   {
    "duration": 5,
    "start_time": "2022-03-07T09:00:51.241Z"
   },
   {
    "duration": 7,
    "start_time": "2022-03-07T09:01:00.633Z"
   },
   {
    "duration": 5,
    "start_time": "2022-03-07T09:01:21.393Z"
   },
   {
    "duration": 8,
    "start_time": "2022-03-07T09:01:31.786Z"
   },
   {
    "duration": 4,
    "start_time": "2022-03-07T09:01:57.417Z"
   },
   {
    "duration": 6,
    "start_time": "2022-03-07T09:03:29.828Z"
   },
   {
    "duration": 4555,
    "start_time": "2022-03-07T09:06:48.280Z"
   },
   {
    "duration": 687,
    "start_time": "2022-03-07T09:07:06.381Z"
   },
   {
    "duration": 171,
    "start_time": "2022-03-07T09:12:47.846Z"
   },
   {
    "duration": 22,
    "start_time": "2022-03-07T09:13:05.668Z"
   },
   {
    "duration": 11,
    "start_time": "2022-03-07T09:13:20.081Z"
   },
   {
    "duration": 2797,
    "start_time": "2022-03-07T09:13:31.546Z"
   },
   {
    "duration": -76,
    "start_time": "2022-03-07T09:13:34.421Z"
   },
   {
    "duration": 44,
    "start_time": "2022-03-07T09:13:57.354Z"
   },
   {
    "duration": 11,
    "start_time": "2022-03-07T09:13:57.903Z"
   },
   {
    "duration": 8,
    "start_time": "2022-03-07T09:13:58.667Z"
   },
   {
    "duration": 28,
    "start_time": "2022-03-07T09:14:00.470Z"
   },
   {
    "duration": 11,
    "start_time": "2022-03-07T09:14:04.405Z"
   },
   {
    "duration": 44,
    "start_time": "2022-03-07T09:15:34.171Z"
   },
   {
    "duration": 11,
    "start_time": "2022-03-07T09:15:34.656Z"
   },
   {
    "duration": 7,
    "start_time": "2022-03-07T09:15:35.320Z"
   },
   {
    "duration": 27,
    "start_time": "2022-03-07T09:15:36.209Z"
   },
   {
    "duration": 29,
    "start_time": "2022-03-07T09:15:50.890Z"
   },
   {
    "duration": 20,
    "start_time": "2022-03-07T09:16:34.610Z"
   },
   {
    "duration": 47,
    "start_time": "2022-03-07T09:16:56.681Z"
   },
   {
    "duration": 10,
    "start_time": "2022-03-07T09:16:57.165Z"
   },
   {
    "duration": 7,
    "start_time": "2022-03-07T09:16:57.761Z"
   },
   {
    "duration": 7,
    "start_time": "2022-03-07T09:18:02.924Z"
   },
   {
    "duration": 5,
    "start_time": "2022-03-07T09:18:31.803Z"
   },
   {
    "duration": 7,
    "start_time": "2022-03-07T09:18:55.577Z"
   },
   {
    "duration": 5,
    "start_time": "2022-03-07T09:18:56.061Z"
   },
   {
    "duration": 13,
    "start_time": "2022-03-07T09:19:16.353Z"
   },
   {
    "duration": 8,
    "start_time": "2022-03-07T09:19:27.163Z"
   },
   {
    "duration": 7,
    "start_time": "2022-03-07T09:19:42.680Z"
   },
   {
    "duration": 8,
    "start_time": "2022-03-07T09:19:58.429Z"
   },
   {
    "duration": 174,
    "start_time": "2022-03-07T09:20:41.293Z"
   },
   {
    "duration": 32,
    "start_time": "2022-03-07T09:20:47.007Z"
   },
   {
    "duration": 172,
    "start_time": "2022-03-07T09:21:11.947Z"
   },
   {
    "duration": 178,
    "start_time": "2022-03-07T09:21:25.213Z"
   },
   {
    "duration": 4204,
    "start_time": "2022-03-07T09:32:10.541Z"
   },
   {
    "duration": 49,
    "start_time": "2022-03-07T09:32:41.781Z"
   },
   {
    "duration": 33,
    "start_time": "2022-03-07T09:33:58.687Z"
   },
   {
    "duration": 11,
    "start_time": "2022-03-07T09:34:11.085Z"
   },
   {
    "duration": 12,
    "start_time": "2022-03-07T09:34:29.198Z"
   },
   {
    "duration": 6,
    "start_time": "2022-03-07T09:34:32.889Z"
   },
   {
    "duration": 43,
    "start_time": "2022-03-07T09:34:54.242Z"
   },
   {
    "duration": 13,
    "start_time": "2022-03-07T09:34:54.724Z"
   },
   {
    "duration": 9,
    "start_time": "2022-03-07T09:34:55.187Z"
   },
   {
    "duration": 33,
    "start_time": "2022-03-07T09:34:55.714Z"
   },
   {
    "duration": 31,
    "start_time": "2022-03-07T09:34:59.382Z"
   },
   {
    "duration": 10,
    "start_time": "2022-03-07T09:34:59.912Z"
   },
   {
    "duration": 47,
    "start_time": "2022-03-07T09:35:15.249Z"
   },
   {
    "duration": 11,
    "start_time": "2022-03-07T09:35:15.628Z"
   },
   {
    "duration": 7,
    "start_time": "2022-03-07T09:35:16.044Z"
   },
   {
    "duration": 19,
    "start_time": "2022-03-07T09:35:16.528Z"
   },
   {
    "duration": 11,
    "start_time": "2022-03-07T09:35:19.329Z"
   },
   {
    "duration": 63,
    "start_time": "2022-03-07T09:35:29.903Z"
   },
   {
    "duration": 43,
    "start_time": "2022-03-07T09:36:29.723Z"
   },
   {
    "duration": 11,
    "start_time": "2022-03-07T09:36:52.798Z"
   },
   {
    "duration": 23,
    "start_time": "2022-03-07T09:39:26.914Z"
   },
   {
    "duration": 12,
    "start_time": "2022-03-07T09:39:30.557Z"
   },
   {
    "duration": 5,
    "start_time": "2022-03-07T09:39:53.521Z"
   },
   {
    "duration": 5,
    "start_time": "2022-03-07T09:40:02.871Z"
   },
   {
    "duration": 35,
    "start_time": "2022-03-07T09:41:52.356Z"
   },
   {
    "duration": 43,
    "start_time": "2022-03-07T09:42:08.478Z"
   },
   {
    "duration": 11,
    "start_time": "2022-03-07T09:42:09.051Z"
   },
   {
    "duration": 8,
    "start_time": "2022-03-07T09:42:09.569Z"
   },
   {
    "duration": 37,
    "start_time": "2022-03-07T09:42:10.596Z"
   },
   {
    "duration": 59,
    "start_time": "2022-03-07T09:44:35.102Z"
   },
   {
    "duration": 4247,
    "start_time": "2022-03-07T09:44:51.753Z"
   },
   {
    "duration": 4205,
    "start_time": "2022-03-07T09:45:33.526Z"
   },
   {
    "duration": 4160,
    "start_time": "2022-03-07T09:46:09.168Z"
   },
   {
    "duration": 4427,
    "start_time": "2022-03-07T09:46:28.744Z"
   },
   {
    "duration": 1339,
    "start_time": "2022-03-07T09:47:19.515Z"
   },
   {
    "duration": 1545,
    "start_time": "2022-03-07T09:47:33.187Z"
   },
   {
    "duration": 1139,
    "start_time": "2022-03-07T09:47:52.339Z"
   },
   {
    "duration": 330,
    "start_time": "2022-03-07T10:11:29.009Z"
   },
   {
    "duration": 43,
    "start_time": "2022-03-07T10:11:41.845Z"
   },
   {
    "duration": 12,
    "start_time": "2022-03-07T10:11:42.273Z"
   },
   {
    "duration": 311,
    "start_time": "2022-03-07T10:11:42.845Z"
   },
   {
    "duration": 7,
    "start_time": "2022-03-07T10:11:57.619Z"
   },
   {
    "duration": 4947,
    "start_time": "2022-03-07T10:11:58.438Z"
   },
   {
    "duration": 4261,
    "start_time": "2022-03-07T10:16:08.859Z"
   },
   {
    "duration": 4288,
    "start_time": "2022-03-07T10:16:24.078Z"
   },
   {
    "duration": 23,
    "start_time": "2022-03-07T10:17:00.979Z"
   },
   {
    "duration": 9,
    "start_time": "2022-03-07T10:17:14.691Z"
   },
   {
    "duration": 11,
    "start_time": "2022-03-07T10:17:31.218Z"
   },
   {
    "duration": 22,
    "start_time": "2022-03-07T10:20:26.937Z"
   },
   {
    "duration": 30,
    "start_time": "2022-03-07T10:20:41.710Z"
   },
   {
    "duration": 33,
    "start_time": "2022-03-07T10:21:50.370Z"
   },
   {
    "duration": 6,
    "start_time": "2022-03-07T10:22:38.514Z"
   },
   {
    "duration": 169,
    "start_time": "2022-03-09T05:34:52.138Z"
   },
   {
    "duration": 174,
    "start_time": "2022-03-09T05:35:04.628Z"
   },
   {
    "duration": 28,
    "start_time": "2022-03-09T05:35:22.449Z"
   },
   {
    "duration": 13,
    "start_time": "2022-03-09T05:35:34.497Z"
   },
   {
    "duration": 8,
    "start_time": "2022-03-09T05:36:05.301Z"
   },
   {
    "duration": 237,
    "start_time": "2022-03-09T05:38:13.531Z"
   },
   {
    "duration": 7,
    "start_time": "2022-03-09T05:38:20.408Z"
   },
   {
    "duration": 27,
    "start_time": "2022-03-09T05:38:23.772Z"
   },
   {
    "duration": 11,
    "start_time": "2022-03-09T05:38:27.406Z"
   },
   {
    "duration": 5,
    "start_time": "2022-03-09T05:39:54.121Z"
   },
   {
    "duration": 5,
    "start_time": "2022-03-09T05:39:54.819Z"
   },
   {
    "duration": 9,
    "start_time": "2022-03-09T05:39:55.908Z"
   },
   {
    "duration": 9,
    "start_time": "2022-03-09T05:39:56.515Z"
   },
   {
    "duration": 7,
    "start_time": "2022-03-09T05:39:58.809Z"
   },
   {
    "duration": 3,
    "start_time": "2022-03-09T05:41:19.565Z"
   },
   {
    "duration": 44,
    "start_time": "2022-03-09T05:41:20.463Z"
   },
   {
    "duration": 12,
    "start_time": "2022-03-09T05:41:21.324Z"
   },
   {
    "duration": 11,
    "start_time": "2022-03-09T05:41:21.770Z"
   },
   {
    "duration": 33,
    "start_time": "2022-03-09T05:41:22.279Z"
   },
   {
    "duration": 4,
    "start_time": "2022-03-09T05:41:25.797Z"
   },
   {
    "duration": 4,
    "start_time": "2022-03-09T05:41:26.573Z"
   },
   {
    "duration": 22,
    "start_time": "2022-03-09T05:41:27.762Z"
   },
   {
    "duration": 23,
    "start_time": "2022-03-09T05:41:29.425Z"
   },
   {
    "duration": 8,
    "start_time": "2022-03-09T05:41:31.272Z"
   },
   {
    "duration": 6,
    "start_time": "2022-03-09T05:41:32.867Z"
   },
   {
    "duration": 21,
    "start_time": "2022-03-09T05:41:33.441Z"
   },
   {
    "duration": 7,
    "start_time": "2022-03-09T05:41:35.290Z"
   },
   {
    "duration": 6,
    "start_time": "2022-03-09T05:41:35.756Z"
   },
   {
    "duration": 4,
    "start_time": "2022-03-09T05:41:36.469Z"
   },
   {
    "duration": 8,
    "start_time": "2022-03-09T05:41:48.538Z"
   },
   {
    "duration": 2,
    "start_time": "2022-03-09T05:41:49.002Z"
   },
   {
    "duration": 11,
    "start_time": "2022-03-09T05:41:49.432Z"
   },
   {
    "duration": 10,
    "start_time": "2022-03-09T05:42:07.759Z"
   },
   {
    "duration": 7,
    "start_time": "2022-03-09T05:42:11.338Z"
   },
   {
    "duration": 7,
    "start_time": "2022-03-09T05:42:14.001Z"
   },
   {
    "duration": 27,
    "start_time": "2022-03-09T05:42:17.892Z"
   },
   {
    "duration": 27,
    "start_time": "2022-03-09T05:42:18.425Z"
   },
   {
    "duration": 12,
    "start_time": "2022-03-09T05:42:19.573Z"
   },
   {
    "duration": 8,
    "start_time": "2022-03-09T05:55:53.971Z"
   },
   {
    "duration": 4,
    "start_time": "2022-03-09T05:55:58.816Z"
   },
   {
    "duration": 6,
    "start_time": "2022-03-09T05:56:00.234Z"
   },
   {
    "duration": 4,
    "start_time": "2022-03-09T05:56:02.627Z"
   },
   {
    "duration": 7,
    "start_time": "2022-03-09T05:56:03.296Z"
   },
   {
    "duration": 7,
    "start_time": "2022-03-09T05:56:05.289Z"
   },
   {
    "duration": 8,
    "start_time": "2022-03-09T05:56:06.128Z"
   },
   {
    "duration": 7,
    "start_time": "2022-03-09T05:56:11.231Z"
   },
   {
    "duration": 7,
    "start_time": "2022-03-09T05:56:18.166Z"
   },
   {
    "duration": 31,
    "start_time": "2022-03-09T05:56:21.842Z"
   }
  ],
  "kernelspec": {
   "display_name": "Python 3 (ipykernel)",
   "language": "python",
   "name": "python3"
  },
  "language_info": {
   "codemirror_mode": {
    "name": "ipython",
    "version": 3
   },
   "file_extension": ".py",
   "mimetype": "text/x-python",
   "name": "python",
   "nbconvert_exporter": "python",
   "pygments_lexer": "ipython3",
   "version": "3.9.5"
  },
  "toc": {
   "base_numbering": 1,
   "nav_menu": {},
   "number_sections": true,
   "sideBar": true,
   "skip_h1_title": true,
   "title_cell": "Table of Contents",
   "title_sidebar": "Contents",
   "toc_cell": false,
   "toc_position": {},
   "toc_section_display": true,
   "toc_window_display": false
  }
 },
 "nbformat": 4,
 "nbformat_minor": 5
}
