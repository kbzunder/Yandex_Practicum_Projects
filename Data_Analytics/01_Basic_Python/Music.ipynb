{
 "cells": [
  {
   "cell_type": "markdown",
   "metadata": {
    "id": "E0vqbgi9ay0H"
   },
   "source": [
    "# Яндекс.Музыка"
   ]
  },
  {
   "cell_type": "markdown",
   "metadata": {
    "id": "Ml1hmfXC_Zcs"
   },
   "source": [
    "## Обзор данных\n",
    "\n",
    "\n",
    "\n",
    "\n"
   ]
  },
  {
   "cell_type": "code",
   "execution_count": 64,
   "metadata": {
    "id": "AXN7PHPN_Zcs"
   },
   "outputs": [],
   "source": [
    "# импорт библиотеки pandas\n",
    "import pandas as pd"
   ]
  },
  {
   "cell_type": "code",
   "execution_count": 169,
   "metadata": {
    "id": "fFVu7vqh_Zct"
   },
   "outputs": [],
   "source": [
    "# чтение файла с данными и сохранение в df\n",
    "df = pd.read_csv('/datasets/yandex_music_project.csv')"
   ]
  },
  {
   "cell_type": "code",
   "execution_count": 170,
   "metadata": {
    "id": "oWTVX3gW_Zct"
   },
   "outputs": [
    {
     "data": {
      "text/html": [
       "<div>\n",
       "<style scoped>\n",
       "    .dataframe tbody tr th:only-of-type {\n",
       "        vertical-align: middle;\n",
       "    }\n",
       "\n",
       "    .dataframe tbody tr th {\n",
       "        vertical-align: top;\n",
       "    }\n",
       "\n",
       "    .dataframe thead th {\n",
       "        text-align: right;\n",
       "    }\n",
       "</style>\n",
       "<table border=\"1\" class=\"dataframe\">\n",
       "  <thead>\n",
       "    <tr style=\"text-align: right;\">\n",
       "      <th></th>\n",
       "      <th>userID</th>\n",
       "      <th>Track</th>\n",
       "      <th>artist</th>\n",
       "      <th>genre</th>\n",
       "      <th>City</th>\n",
       "      <th>time</th>\n",
       "      <th>Day</th>\n",
       "    </tr>\n",
       "  </thead>\n",
       "  <tbody>\n",
       "    <tr>\n",
       "      <td>0</td>\n",
       "      <td>FFB692EC</td>\n",
       "      <td>Kamigata To Boots</td>\n",
       "      <td>The Mass Missile</td>\n",
       "      <td>rock</td>\n",
       "      <td>Saint-Petersburg</td>\n",
       "      <td>20:28:33</td>\n",
       "      <td>Wednesday</td>\n",
       "    </tr>\n",
       "    <tr>\n",
       "      <td>1</td>\n",
       "      <td>55204538</td>\n",
       "      <td>Delayed Because of Accident</td>\n",
       "      <td>Andreas Rönnberg</td>\n",
       "      <td>rock</td>\n",
       "      <td>Moscow</td>\n",
       "      <td>14:07:09</td>\n",
       "      <td>Friday</td>\n",
       "    </tr>\n",
       "    <tr>\n",
       "      <td>2</td>\n",
       "      <td>20EC38</td>\n",
       "      <td>Funiculì funiculà</td>\n",
       "      <td>Mario Lanza</td>\n",
       "      <td>pop</td>\n",
       "      <td>Saint-Petersburg</td>\n",
       "      <td>20:58:07</td>\n",
       "      <td>Wednesday</td>\n",
       "    </tr>\n",
       "    <tr>\n",
       "      <td>3</td>\n",
       "      <td>A3DD03C9</td>\n",
       "      <td>Dragons in the Sunset</td>\n",
       "      <td>Fire + Ice</td>\n",
       "      <td>folk</td>\n",
       "      <td>Saint-Petersburg</td>\n",
       "      <td>08:37:09</td>\n",
       "      <td>Monday</td>\n",
       "    </tr>\n",
       "    <tr>\n",
       "      <td>4</td>\n",
       "      <td>E2DC1FAE</td>\n",
       "      <td>Soul People</td>\n",
       "      <td>Space Echo</td>\n",
       "      <td>dance</td>\n",
       "      <td>Moscow</td>\n",
       "      <td>08:34:34</td>\n",
       "      <td>Monday</td>\n",
       "    </tr>\n",
       "    <tr>\n",
       "      <td>5</td>\n",
       "      <td>842029A1</td>\n",
       "      <td>Преданная</td>\n",
       "      <td>IMPERVTOR</td>\n",
       "      <td>rusrap</td>\n",
       "      <td>Saint-Petersburg</td>\n",
       "      <td>13:09:41</td>\n",
       "      <td>Friday</td>\n",
       "    </tr>\n",
       "    <tr>\n",
       "      <td>6</td>\n",
       "      <td>4CB90AA5</td>\n",
       "      <td>True</td>\n",
       "      <td>Roman Messer</td>\n",
       "      <td>dance</td>\n",
       "      <td>Moscow</td>\n",
       "      <td>13:00:07</td>\n",
       "      <td>Wednesday</td>\n",
       "    </tr>\n",
       "    <tr>\n",
       "      <td>7</td>\n",
       "      <td>F03E1C1F</td>\n",
       "      <td>Feeling This Way</td>\n",
       "      <td>Polina Griffith</td>\n",
       "      <td>dance</td>\n",
       "      <td>Moscow</td>\n",
       "      <td>20:47:49</td>\n",
       "      <td>Wednesday</td>\n",
       "    </tr>\n",
       "    <tr>\n",
       "      <td>8</td>\n",
       "      <td>8FA1D3BE</td>\n",
       "      <td>И вновь продолжается бой</td>\n",
       "      <td>NaN</td>\n",
       "      <td>ruspop</td>\n",
       "      <td>Moscow</td>\n",
       "      <td>09:17:40</td>\n",
       "      <td>Friday</td>\n",
       "    </tr>\n",
       "    <tr>\n",
       "      <td>9</td>\n",
       "      <td>E772D5C0</td>\n",
       "      <td>Pessimist</td>\n",
       "      <td>NaN</td>\n",
       "      <td>dance</td>\n",
       "      <td>Saint-Petersburg</td>\n",
       "      <td>21:20:49</td>\n",
       "      <td>Wednesday</td>\n",
       "    </tr>\n",
       "  </tbody>\n",
       "</table>\n",
       "</div>"
      ],
      "text/plain": [
       "     userID                        Track            artist   genre  \\\n",
       "0  FFB692EC            Kamigata To Boots  The Mass Missile    rock   \n",
       "1  55204538  Delayed Because of Accident  Andreas Rönnberg    rock   \n",
       "2    20EC38            Funiculì funiculà       Mario Lanza     pop   \n",
       "3  A3DD03C9        Dragons in the Sunset        Fire + Ice    folk   \n",
       "4  E2DC1FAE                  Soul People        Space Echo   dance   \n",
       "5  842029A1                    Преданная         IMPERVTOR  rusrap   \n",
       "6  4CB90AA5                         True      Roman Messer   dance   \n",
       "7  F03E1C1F             Feeling This Way   Polina Griffith   dance   \n",
       "8  8FA1D3BE     И вновь продолжается бой               NaN  ruspop   \n",
       "9  E772D5C0                    Pessimist               NaN   dance   \n",
       "\n",
       "             City        time        Day  \n",
       "0  Saint-Petersburg  20:28:33  Wednesday  \n",
       "1            Moscow  14:07:09     Friday  \n",
       "2  Saint-Petersburg  20:58:07  Wednesday  \n",
       "3  Saint-Petersburg  08:37:09     Monday  \n",
       "4            Moscow  08:34:34     Monday  \n",
       "5  Saint-Petersburg  13:09:41     Friday  \n",
       "6            Moscow  13:00:07  Wednesday  \n",
       "7            Moscow  20:47:49  Wednesday  \n",
       "8            Moscow  09:17:40     Friday  \n",
       "9  Saint-Petersburg  21:20:49  Wednesday  "
      ]
     },
     "metadata": {},
     "output_type": "display_data"
    }
   ],
   "source": [
    "# получение первых 10 строк таблицы df\n",
    "display(df.head(10))"
   ]
  },
  {
   "cell_type": "code",
   "execution_count": 171,
   "metadata": {
    "id": "DSf2kIb-_Zct"
   },
   "outputs": [
    {
     "name": "stdout",
     "output_type": "stream",
     "text": [
      "<class 'pandas.core.frame.DataFrame'>\n",
      "RangeIndex: 65079 entries, 0 to 65078\n",
      "Data columns (total 7 columns):\n",
      "  userID    65079 non-null object\n",
      "Track       63848 non-null object\n",
      "artist      57876 non-null object\n",
      "genre       63881 non-null object\n",
      "  City      65079 non-null object\n",
      "time        65079 non-null object\n",
      "Day         65079 non-null object\n",
      "dtypes: object(7)\n",
      "memory usage: 3.5+ MB\n"
     ]
    },
    {
     "data": {
      "text/plain": [
       "None"
      ]
     },
     "metadata": {},
     "output_type": "display_data"
    }
   ],
   "source": [
    "# получение общей информации о данных в таблице df\n",
    "display(df.info())"
   ]
  },
  {
   "cell_type": "markdown",
   "metadata": {
    "id": "MCB6-dXG_Zct"
   },
   "source": [
    "**Выводы**\n",
    "\n",
    "В каждой строке таблицы — данные о прослушанном треке. Часть колонок описывает саму композицию: название, исполнителя и жанр. Остальные данные рассказывают о пользователе: из какого он города, когда он слушал музыку. \n",
    "\n",
    "Предварительно можно утверждать, что, данных достаточно для проверки гипотез. Но встречаются пропуски в данных, а в названиях колонок — расхождения с хорошим стилем.\n",
    "\n",
    "Чтобы двигаться дальше, нужно устранить проблемы в данных."
   ]
  },
  {
   "cell_type": "markdown",
   "metadata": {
    "id": "SjYF6Ub9_Zct"
   },
   "source": [
    "## Предобработка данных\n"
   ]
  },
  {
   "cell_type": "markdown",
   "metadata": {
    "id": "dIaKXr29_Zct"
   },
   "source": [
    "### Стиль заголовков\n"
   ]
  },
  {
   "cell_type": "code",
   "execution_count": 174,
   "metadata": {
    "id": "oKOTdF_Q_Zct"
   },
   "outputs": [
    {
     "data": {
      "text/plain": [
       "Index(['user_id', 'track', 'artist', 'genre', 'city', 'time', 'day'], dtype='object')"
      ]
     },
     "execution_count": 174,
     "metadata": {},
     "output_type": "execute_result"
    }
   ],
   "source": [
    "# перечень названий столбцов таблицы df\n",
    "df.columns"
   ]
  },
  {
   "cell_type": "code",
   "execution_count": 173,
   "metadata": {
    "id": "ISlFqs5y_Zct"
   },
   "outputs": [],
   "source": [
    "# переименование столбцов\n",
    "df = df.rename(columns={'  userID':'user_id','Track':'track','  City  ':'city','Day':'day'})"
   ]
  },
  {
   "cell_type": "code",
   "execution_count": 175,
   "metadata": {
    "id": "d4NOAmTW_Zct"
   },
   "outputs": [
    {
     "data": {
      "text/plain": [
       "Index(['user_id', 'track', 'artist', 'genre', 'city', 'time', 'day'], dtype='object')"
      ]
     },
     "execution_count": 175,
     "metadata": {},
     "output_type": "execute_result"
    }
   ],
   "source": [
    "# проверка результатов - перечень названий столбцов\n",
    "df.columns"
   ]
  },
  {
   "cell_type": "markdown",
   "metadata": {
    "id": "5ISfbcfY_Zct"
   },
   "source": [
    "### Пропуски значений\n"
   ]
  },
  {
   "cell_type": "code",
   "execution_count": 176,
   "metadata": {
    "id": "RskX29qr_Zct"
   },
   "outputs": [
    {
     "data": {
      "text/plain": [
       "user_id       0\n",
       "track      1231\n",
       "artist     7203\n",
       "genre      1198\n",
       "city          0\n",
       "time          0\n",
       "day           0\n",
       "dtype: int64"
      ]
     },
     "execution_count": 176,
     "metadata": {},
     "output_type": "execute_result"
    }
   ],
   "source": [
    "# подсчёт пропусков\n",
    "missed_values = df.isna().sum()\n",
    "missed_values\n"
   ]
  },
  {
   "cell_type": "code",
   "execution_count": 177,
   "metadata": {
    "id": "KplB5qWs_Zct"
   },
   "outputs": [],
   "source": [
    "# перебор названий столбцов в цикле и замена пропущенных значений на 'unknown'\n",
    "columns_to_replace = ['track','artist','genre']\n",
    "\n",
    "for column in columns_to_replace:\n",
    "    df[column] = df[column].fillna('unknown')"
   ]
  },
  {
   "cell_type": "code",
   "execution_count": 178,
   "metadata": {
    "id": "Tq4nYRX4_Zct"
   },
   "outputs": [
    {
     "data": {
      "text/plain": [
       "user_id    0\n",
       "track      0\n",
       "artist     0\n",
       "genre      0\n",
       "city       0\n",
       "time       0\n",
       "day        0\n",
       "dtype: int64"
      ]
     },
     "execution_count": 178,
     "metadata": {},
     "output_type": "execute_result"
    }
   ],
   "source": [
    "# подсчёт пропусков\n",
    "df.isna().sum()"
   ]
  },
  {
   "cell_type": "markdown",
   "metadata": {
    "id": "BWKRtBJ3_Zct"
   },
   "source": [
    "### Дубликаты\n"
   ]
  },
  {
   "cell_type": "code",
   "execution_count": 179,
   "metadata": {
    "id": "36eES_S0_Zct"
   },
   "outputs": [
    {
     "data": {
      "text/plain": [
       "3826"
      ]
     },
     "execution_count": 179,
     "metadata": {},
     "output_type": "execute_result"
    }
   ],
   "source": [
    "# подсчёт явных дубликатов\n",
    "df.duplicated().sum()"
   ]
  },
  {
   "cell_type": "code",
   "execution_count": 180,
   "metadata": {
    "id": "exFHq6tt_Zct"
   },
   "outputs": [],
   "source": [
    "# удаление явных дубликатов (с удалением старых индексов и формированием новых)\n",
    "df = df.drop_duplicates().reset_index(drop = True)"
   ]
  },
  {
   "cell_type": "code",
   "execution_count": 181,
   "metadata": {
    "id": "-8PuNWQ0_Zct"
   },
   "outputs": [
    {
     "data": {
      "text/plain": [
       "0"
      ]
     },
     "execution_count": 181,
     "metadata": {},
     "output_type": "execute_result"
    }
   ],
   "source": [
    "# проверка на отсутствие дубликатов\n",
    "df.duplicated().sum()"
   ]
  },
  {
   "cell_type": "code",
   "execution_count": 182,
   "metadata": {
    "id": "JIUcqzZN_Zct"
   },
   "outputs": [
    {
     "data": {
      "text/plain": [
       "array(['acid', 'acoustic', 'action', 'adult', 'africa', 'afrikaans',\n",
       "       'alternative', 'alternativepunk', 'ambient', 'americana',\n",
       "       'animated', 'anime', 'arabesk', 'arabic', 'arena',\n",
       "       'argentinetango', 'art', 'audiobook', 'author', 'avantgarde',\n",
       "       'axé', 'baile', 'balkan', 'beats', 'bigroom', 'black', 'bluegrass',\n",
       "       'blues', 'bollywood', 'bossa', 'brazilian', 'breakbeat', 'breaks',\n",
       "       'broadway', 'cantautori', 'cantopop', 'canzone', 'caribbean',\n",
       "       'caucasian', 'celtic', 'chamber', 'chanson', 'children', 'chill',\n",
       "       'chinese', 'choral', 'christian', 'christmas', 'classical',\n",
       "       'classicmetal', 'club', 'colombian', 'comedy', 'conjazz',\n",
       "       'contemporary', 'country', 'cuban', 'dance', 'dancehall',\n",
       "       'dancepop', 'dark', 'death', 'deep', 'deutschrock', 'deutschspr',\n",
       "       'dirty', 'disco', 'dnb', 'documentary', 'downbeat', 'downtempo',\n",
       "       'drum', 'dub', 'dubstep', 'eastern', 'easy', 'electronic',\n",
       "       'electropop', 'emo', 'entehno', 'epicmetal', 'estrada', 'ethnic',\n",
       "       'eurofolk', 'european', 'experimental', 'extrememetal', 'fado',\n",
       "       'fairytail', 'film', 'fitness', 'flamenco', 'folk', 'folklore',\n",
       "       'folkmetal', 'folkrock', 'folktronica', 'forró', 'frankreich',\n",
       "       'französisch', 'french', 'funk', 'future', 'gangsta', 'garage',\n",
       "       'german', 'ghazal', 'gitarre', 'glitch', 'gospel', 'gothic',\n",
       "       'grime', 'grunge', 'gypsy', 'handsup', \"hard'n'heavy\", 'hardcore',\n",
       "       'hardstyle', 'hardtechno', 'hip', 'hip-hop', 'hiphop',\n",
       "       'historisch', 'holiday', 'hop', 'horror', 'house', 'hymn', 'idm',\n",
       "       'independent', 'indian', 'indie', 'indipop', 'industrial',\n",
       "       'inspirational', 'instrumental', 'international', 'irish', 'jam',\n",
       "       'japanese', 'jazz', 'jewish', 'jpop', 'jungle', 'k-pop',\n",
       "       'karadeniz', 'karaoke', 'kayokyoku', 'korean', 'laiko', 'latin',\n",
       "       'latino', 'leftfield', 'local', 'lounge', 'loungeelectronic',\n",
       "       'lovers', 'malaysian', 'mandopop', 'marschmusik', 'meditative',\n",
       "       'mediterranean', 'melodic', 'metal', 'metalcore', 'mexican',\n",
       "       'middle', 'minimal', 'miscellaneous', 'modern', 'mood', 'mpb',\n",
       "       'muslim', 'native', 'neoklassik', 'neue', 'new', 'newage',\n",
       "       'newwave', 'nu', 'nujazz', 'numetal', 'oceania', 'old', 'opera',\n",
       "       'orchestral', 'other', 'piano', 'podcasts', 'pop', 'popdance',\n",
       "       'popelectronic', 'popeurodance', 'poprussian', 'post',\n",
       "       'posthardcore', 'postrock', 'power', 'progmetal', 'progressive',\n",
       "       'psychedelic', 'punjabi', 'punk', 'quebecois', 'ragga', 'ram',\n",
       "       'rancheras', 'rap', 'rave', 'reggae', 'reggaeton', 'regional',\n",
       "       'relax', 'religious', 'retro', 'rhythm', 'rnb', 'rnr', 'rock',\n",
       "       'rockabilly', 'rockalternative', 'rockindie', 'rockother',\n",
       "       'romance', 'roots', 'ruspop', 'rusrap', 'rusrock', 'russian',\n",
       "       'salsa', 'samba', 'scenic', 'schlager', 'self', 'sertanejo',\n",
       "       'shanson', 'shoegazing', 'showtunes', 'singer', 'ska', 'skarock',\n",
       "       'slow', 'smooth', 'soft', 'soul', 'soulful', 'sound', 'soundtrack',\n",
       "       'southern', 'specialty', 'speech', 'spiritual', 'sport',\n",
       "       'stonerrock', 'surf', 'swing', 'synthpop', 'synthrock',\n",
       "       'sängerportrait', 'tango', 'tanzorchester', 'taraftar', 'tatar',\n",
       "       'tech', 'techno', 'teen', 'thrash', 'top', 'traditional',\n",
       "       'tradjazz', 'trance', 'tribal', 'trip', 'triphop', 'tropical',\n",
       "       'türk', 'türkçe', 'ukrrock', 'unknown', 'urban', 'uzbek',\n",
       "       'variété', 'vi', 'videogame', 'vocal', 'western', 'world',\n",
       "       'worldbeat', 'ïîï', 'электроника'], dtype=object)"
      ]
     },
     "execution_count": 182,
     "metadata": {},
     "output_type": "execute_result"
    }
   ],
   "source": [
    "# Просмотр уникальных названий жанров\n",
    "df['genre'].sort_values().unique()"
   ]
  },
  {
   "cell_type": "markdown",
   "metadata": {},
   "source": [
    "<div class=\"alert alert-block alert-success\">\n",
    "✔️  Список совсем не маленький - наверняка многие названия дублируются\n",
    "<div>"
   ]
  },
  {
   "cell_type": "code",
   "execution_count": 183,
   "metadata": {
    "id": "ErNDkmns_Zct"
   },
   "outputs": [],
   "source": [
    "# Функция для замены неявных дубликатов\n",
    "def replace_wrong_genres(wrong_genres, correct_genre):\n",
    "    for genre in wrong_genres:\n",
    "        df['genre'] = df['genre'].replace(genre, correct_genre)\n",
    "             "
   ]
  },
  {
   "cell_type": "code",
   "execution_count": 184,
   "metadata": {
    "id": "YN5i2hpmSo09"
   },
   "outputs": [],
   "source": [
    "# Устранение неявных дубликатов\n",
    "replace_wrong_genres(['hip','hop','hip-hop'], 'hiphop')"
   ]
  },
  {
   "cell_type": "code",
   "execution_count": 185,
   "metadata": {
    "id": "wvixALnFG15m"
   },
   "outputs": [
    {
     "data": {
      "text/plain": [
       "array(['acid', 'acoustic', 'action', 'adult', 'africa', 'afrikaans',\n",
       "       'alternative', 'alternativepunk', 'ambient', 'americana',\n",
       "       'animated', 'anime', 'arabesk', 'arabic', 'arena',\n",
       "       'argentinetango', 'art', 'audiobook', 'author', 'avantgarde',\n",
       "       'axé', 'baile', 'balkan', 'beats', 'bigroom', 'black', 'bluegrass',\n",
       "       'blues', 'bollywood', 'bossa', 'brazilian', 'breakbeat', 'breaks',\n",
       "       'broadway', 'cantautori', 'cantopop', 'canzone', 'caribbean',\n",
       "       'caucasian', 'celtic', 'chamber', 'chanson', 'children', 'chill',\n",
       "       'chinese', 'choral', 'christian', 'christmas', 'classical',\n",
       "       'classicmetal', 'club', 'colombian', 'comedy', 'conjazz',\n",
       "       'contemporary', 'country', 'cuban', 'dance', 'dancehall',\n",
       "       'dancepop', 'dark', 'death', 'deep', 'deutschrock', 'deutschspr',\n",
       "       'dirty', 'disco', 'dnb', 'documentary', 'downbeat', 'downtempo',\n",
       "       'drum', 'dub', 'dubstep', 'eastern', 'easy', 'electronic',\n",
       "       'electropop', 'emo', 'entehno', 'epicmetal', 'estrada', 'ethnic',\n",
       "       'eurofolk', 'european', 'experimental', 'extrememetal', 'fado',\n",
       "       'fairytail', 'film', 'fitness', 'flamenco', 'folk', 'folklore',\n",
       "       'folkmetal', 'folkrock', 'folktronica', 'forró', 'frankreich',\n",
       "       'französisch', 'french', 'funk', 'future', 'gangsta', 'garage',\n",
       "       'german', 'ghazal', 'gitarre', 'glitch', 'gospel', 'gothic',\n",
       "       'grime', 'grunge', 'gypsy', 'handsup', \"hard'n'heavy\", 'hardcore',\n",
       "       'hardstyle', 'hardtechno', 'hiphop', 'historisch', 'holiday',\n",
       "       'horror', 'house', 'hymn', 'idm', 'independent', 'indian', 'indie',\n",
       "       'indipop', 'industrial', 'inspirational', 'instrumental',\n",
       "       'international', 'irish', 'jam', 'japanese', 'jazz', 'jewish',\n",
       "       'jpop', 'jungle', 'k-pop', 'karadeniz', 'karaoke', 'kayokyoku',\n",
       "       'korean', 'laiko', 'latin', 'latino', 'leftfield', 'local',\n",
       "       'lounge', 'loungeelectronic', 'lovers', 'malaysian', 'mandopop',\n",
       "       'marschmusik', 'meditative', 'mediterranean', 'melodic', 'metal',\n",
       "       'metalcore', 'mexican', 'middle', 'minimal', 'miscellaneous',\n",
       "       'modern', 'mood', 'mpb', 'muslim', 'native', 'neoklassik', 'neue',\n",
       "       'new', 'newage', 'newwave', 'nu', 'nujazz', 'numetal', 'oceania',\n",
       "       'old', 'opera', 'orchestral', 'other', 'piano', 'podcasts', 'pop',\n",
       "       'popdance', 'popelectronic', 'popeurodance', 'poprussian', 'post',\n",
       "       'posthardcore', 'postrock', 'power', 'progmetal', 'progressive',\n",
       "       'psychedelic', 'punjabi', 'punk', 'quebecois', 'ragga', 'ram',\n",
       "       'rancheras', 'rap', 'rave', 'reggae', 'reggaeton', 'regional',\n",
       "       'relax', 'religious', 'retro', 'rhythm', 'rnb', 'rnr', 'rock',\n",
       "       'rockabilly', 'rockalternative', 'rockindie', 'rockother',\n",
       "       'romance', 'roots', 'ruspop', 'rusrap', 'rusrock', 'russian',\n",
       "       'salsa', 'samba', 'scenic', 'schlager', 'self', 'sertanejo',\n",
       "       'shanson', 'shoegazing', 'showtunes', 'singer', 'ska', 'skarock',\n",
       "       'slow', 'smooth', 'soft', 'soul', 'soulful', 'sound', 'soundtrack',\n",
       "       'southern', 'specialty', 'speech', 'spiritual', 'sport',\n",
       "       'stonerrock', 'surf', 'swing', 'synthpop', 'synthrock',\n",
       "       'sängerportrait', 'tango', 'tanzorchester', 'taraftar', 'tatar',\n",
       "       'tech', 'techno', 'teen', 'thrash', 'top', 'traditional',\n",
       "       'tradjazz', 'trance', 'tribal', 'trip', 'triphop', 'tropical',\n",
       "       'türk', 'türkçe', 'ukrrock', 'unknown', 'urban', 'uzbek',\n",
       "       'variété', 'vi', 'videogame', 'vocal', 'western', 'world',\n",
       "       'worldbeat', 'ïîï', 'электроника'], dtype=object)"
      ]
     },
     "execution_count": 185,
     "metadata": {},
     "output_type": "execute_result"
    }
   ],
   "source": [
    "# Проверка на неявные дубликаты\n",
    "df['genre'].sort_values().unique()\n"
   ]
  },
  {
   "cell_type": "markdown",
   "metadata": {
    "id": "WttZHXH0SqKk"
   },
   "source": [
    "## Проверка гипотез"
   ]
  },
  {
   "cell_type": "markdown",
   "metadata": {
    "id": "Im936VVi_Zcu"
   },
   "source": [
    "### Сравнение поведения пользователей двух столиц"
   ]
  },
  {
   "cell_type": "code",
   "execution_count": 186,
   "metadata": {
    "id": "0_Qs96oh_Zcu"
   },
   "outputs": [
    {
     "data": {
      "text/plain": [
       "city\n",
       "Moscow              42741\n",
       "Saint-Petersburg    18512\n",
       "Name: time, dtype: int64"
      ]
     },
     "execution_count": 186,
     "metadata": {},
     "output_type": "execute_result"
    }
   ],
   "source": [
    "# Подсчёт прослушиваний в каждом городе\n",
    "df.groupby('city')['time'].count()\n"
   ]
  },
  {
   "cell_type": "code",
   "execution_count": 187,
   "metadata": {
    "id": "uZMKjiJz_Zcu"
   },
   "outputs": [
    {
     "data": {
      "text/plain": [
       "day\n",
       "Wednesday    18059\n",
       "Monday       21354\n",
       "Friday       21840\n",
       "Name: time, dtype: int64"
      ]
     },
     "execution_count": 187,
     "metadata": {},
     "output_type": "execute_result"
    }
   ],
   "source": [
    "# Подсчёт прослушиваний в каждый из трёх дней\n",
    "days_of_week = df.groupby('day')['time'].count().sort_values()\n",
    "days_of_week"
   ]
  },
  {
   "cell_type": "code",
   "execution_count": 188,
   "metadata": {
    "id": "Nz3GdQB1_Zcu"
   },
   "outputs": [],
   "source": [
    "# <создание функции number_tracks()>\n",
    "def number_tracks(day, city):\n",
    "    track_list = df[df['day'] == day]\n",
    "    track_list = track_list[track_list['city'] == city]\n",
    "    track_list_count = track_list['user_id'].count()\n",
    "    return track_list_count\n"
   ]
  },
  {
   "cell_type": "code",
   "execution_count": 189,
   "metadata": {
    "id": "rJcRATNQ_Zcu"
   },
   "outputs": [
    {
     "data": {
      "text/plain": [
       "15740"
      ]
     },
     "execution_count": 189,
     "metadata": {},
     "output_type": "execute_result"
    }
   ],
   "source": [
    "# количество прослушиваний в Москве по понедельникам\n",
    "number_tracks('Monday','Moscow')"
   ]
  },
  {
   "cell_type": "code",
   "execution_count": 190,
   "metadata": {
    "id": "hq_ncZ5T_Zcu"
   },
   "outputs": [
    {
     "data": {
      "text/plain": [
       "5614"
      ]
     },
     "execution_count": 190,
     "metadata": {},
     "output_type": "execute_result"
    }
   ],
   "source": [
    "# количество прослушиваний в Санкт-Петербурге по понедельникам\n",
    "number_tracks('Monday','Saint-Petersburg')"
   ]
  },
  {
   "cell_type": "code",
   "execution_count": 191,
   "metadata": {
    "id": "_NTy2VPU_Zcu"
   },
   "outputs": [
    {
     "data": {
      "text/plain": [
       "11056"
      ]
     },
     "execution_count": 191,
     "metadata": {},
     "output_type": "execute_result"
    }
   ],
   "source": [
    "# количество прослушиваний в Москве по средам\n",
    "number_tracks('Wednesday','Moscow')"
   ]
  },
  {
   "cell_type": "code",
   "execution_count": 192,
   "metadata": {
    "id": "j2y3TAwo_Zcu"
   },
   "outputs": [
    {
     "data": {
      "text/plain": [
       "7003"
      ]
     },
     "execution_count": 192,
     "metadata": {},
     "output_type": "execute_result"
    }
   ],
   "source": [
    "# количество прослушиваний в Санкт-Петербурге по средам\n",
    "number_tracks('Wednesday','Saint-Petersburg')"
   ]
  },
  {
   "cell_type": "code",
   "execution_count": 193,
   "metadata": {
    "id": "vYDw5u_K_Zcu"
   },
   "outputs": [
    {
     "data": {
      "text/plain": [
       "15945"
      ]
     },
     "execution_count": 193,
     "metadata": {},
     "output_type": "execute_result"
    }
   ],
   "source": [
    "# количество прослушиваний в Москве по пятницам\n",
    "number_tracks('Friday','Moscow')"
   ]
  },
  {
   "cell_type": "code",
   "execution_count": 194,
   "metadata": {
    "id": "8_yzFtW3_Zcu"
   },
   "outputs": [
    {
     "data": {
      "text/plain": [
       "5895"
      ]
     },
     "execution_count": 194,
     "metadata": {},
     "output_type": "execute_result"
    }
   ],
   "source": [
    "# количество прослушиваний в Санкт-Петербурге по пятницам\n",
    "number_tracks('Friday','Saint-Petersburg')"
   ]
  },
  {
   "cell_type": "markdown",
   "metadata": {
    "id": "7QXffbO-_Zcu"
   },
   "source": [
    "Создайте c помощью конструктора `pd.DataFrame` таблицу, где\n",
    "* названия колонок — `['city', 'monday', 'wednesday', 'friday']`;\n",
    "* данные — результаты, которые вы получили с помощью `number_tracks`."
   ]
  },
  {
   "cell_type": "code",
   "execution_count": 195,
   "metadata": {
    "id": "APAcLpOr_Zcu"
   },
   "outputs": [
    {
     "data": {
      "text/html": [
       "<div>\n",
       "<style scoped>\n",
       "    .dataframe tbody tr th:only-of-type {\n",
       "        vertical-align: middle;\n",
       "    }\n",
       "\n",
       "    .dataframe tbody tr th {\n",
       "        vertical-align: top;\n",
       "    }\n",
       "\n",
       "    .dataframe thead th {\n",
       "        text-align: right;\n",
       "    }\n",
       "</style>\n",
       "<table border=\"1\" class=\"dataframe\">\n",
       "  <thead>\n",
       "    <tr style=\"text-align: right;\">\n",
       "      <th></th>\n",
       "      <th>city</th>\n",
       "      <th>monday</th>\n",
       "      <th>wednesday</th>\n",
       "      <th>friday</th>\n",
       "    </tr>\n",
       "  </thead>\n",
       "  <tbody>\n",
       "    <tr>\n",
       "      <td>0</td>\n",
       "      <td>Moscow</td>\n",
       "      <td>15740</td>\n",
       "      <td>11056</td>\n",
       "      <td>15945</td>\n",
       "    </tr>\n",
       "    <tr>\n",
       "      <td>1</td>\n",
       "      <td>Saint-Petersburg</td>\n",
       "      <td>5614</td>\n",
       "      <td>7003</td>\n",
       "      <td>5895</td>\n",
       "    </tr>\n",
       "  </tbody>\n",
       "</table>\n",
       "</div>"
      ],
      "text/plain": [
       "               city  monday  wednesday  friday\n",
       "0            Moscow   15740      11056   15945\n",
       "1  Saint-Petersburg    5614       7003    5895"
      ]
     },
     "metadata": {},
     "output_type": "display_data"
    }
   ],
   "source": [
    "# Таблица с результатами\n",
    "columns = ['city', 'monday', 'wednesday', 'friday']\n",
    "data = [['Moscow', 15740, 11056, 15945], ['Saint-Petersburg', 5614, 7003, 5895]]\n",
    "table = pd.DataFrame(columns = columns, data = data)\n",
    "display(table)"
   ]
  },
  {
   "cell_type": "markdown",
   "metadata": {
    "id": "atZAxtq4_Zcu"
   },
   "source": [
    "### Музыка в начале и в конце недели"
   ]
  },
  {
   "cell_type": "code",
   "execution_count": 196,
   "metadata": {
    "id": "qeaFfM_P_Zcu"
   },
   "outputs": [],
   "source": [
    "# получение таблицы moscow_general из тех строк таблицы df, \n",
    "# для которых значение в столбце 'city' равно 'Moscow'\n",
    "moscow_general = df[df['city'] == 'Moscow']"
   ]
  },
  {
   "cell_type": "code",
   "execution_count": 197,
   "metadata": {
    "id": "ORaVRKto_Zcu"
   },
   "outputs": [],
   "source": [
    "# получение таблицы spb_general из тех строк таблицы df,\n",
    "# для которых значение в столбце 'city' равно 'Saint-Petersburg'\n",
    "spb_general = df[df['city'] == 'Saint-Petersburg']"
   ]
  },
  {
   "cell_type": "code",
   "execution_count": 198,
   "metadata": {
    "id": "laJT9BYl_Zcu"
   },
   "outputs": [],
   "source": [
    "# Объявление функции genre_weekday() с параметрами table, day, time1, time2,\n",
    "def genre_weekday(table, day, time1, time2):\n",
    "    genre_df = table[table['day'] == day]\n",
    "    genre_df = genre_df[genre_df['time'] > time1]\n",
    "    genre_df = genre_df[genre_df['time'] < time2]\n",
    "    \n",
    "    genre_df_count = genre_df.groupby('genre')['user_id'].count()\n",
    "    genre_df_sorted = genre_df_count.sort_values(ascending = False)\n",
    "    return genre_df_sorted.head(10)\n"
   ]
  },
  {
   "cell_type": "code",
   "execution_count": 199,
   "metadata": {
    "id": "yz7itPUQ_Zcu"
   },
   "outputs": [
    {
     "data": {
      "text/plain": [
       "genre\n",
       "pop            781\n",
       "dance          549\n",
       "electronic     480\n",
       "rock           474\n",
       "hiphop         286\n",
       "ruspop         186\n",
       "world          181\n",
       "rusrap         175\n",
       "alternative    164\n",
       "unknown        161\n",
       "Name: user_id, dtype: int64"
      ]
     },
     "execution_count": 199,
     "metadata": {},
     "output_type": "execute_result"
    }
   ],
   "source": [
    "# вызов функции для утра понедельника в Москве (вместо df — таблица moscow_general)\n",
    "# объекты, хранящие время, являются строками и сравниваются как строки\n",
    "# пример вызова: genre_weekday(moscow_general, 'Monday', '07:00', '11:00')\n",
    "\n",
    "genre_weekday(moscow_general, 'Monday', '07:00','11:00')"
   ]
  },
  {
   "cell_type": "code",
   "execution_count": 200,
   "metadata": {
    "id": "kwUcHPdy_Zcu"
   },
   "outputs": [
    {
     "data": {
      "text/plain": [
       "genre\n",
       "pop            218\n",
       "dance          182\n",
       "rock           162\n",
       "electronic     147\n",
       "hiphop          80\n",
       "ruspop          64\n",
       "alternative     58\n",
       "rusrap          55\n",
       "jazz            44\n",
       "classical       40\n",
       "Name: user_id, dtype: int64"
      ]
     },
     "execution_count": 200,
     "metadata": {},
     "output_type": "execute_result"
    }
   ],
   "source": [
    "# вызов функции для утра понедельника в Петербурге (вместо df — таблица spb_general)\n",
    "genre_weekday(spb_general,'Monday', '07:00','11:00' )"
   ]
  },
  {
   "cell_type": "code",
   "execution_count": 201,
   "metadata": {
    "id": "EzXVRE1o_Zcu"
   },
   "outputs": [
    {
     "data": {
      "text/plain": [
       "genre\n",
       "pop            713\n",
       "rock           517\n",
       "dance          495\n",
       "electronic     482\n",
       "hiphop         273\n",
       "world          208\n",
       "ruspop         170\n",
       "alternative    163\n",
       "classical      163\n",
       "rusrap         142\n",
       "Name: user_id, dtype: int64"
      ]
     },
     "execution_count": 201,
     "metadata": {},
     "output_type": "execute_result"
    }
   ],
   "source": [
    "# вызов функции для вечера пятницы в Москве\n",
    "genre_weekday(moscow_general, 'Friday', '17:00', '23:00')"
   ]
  },
  {
   "cell_type": "code",
   "execution_count": 202,
   "metadata": {
    "id": "JZaEKu5v_Zcu"
   },
   "outputs": [
    {
     "data": {
      "text/plain": [
       "genre\n",
       "pop            256\n",
       "rock           216\n",
       "electronic     216\n",
       "dance          210\n",
       "hiphop          97\n",
       "alternative     63\n",
       "jazz            61\n",
       "classical       60\n",
       "rusrap          59\n",
       "world           54\n",
       "Name: user_id, dtype: int64"
      ]
     },
     "execution_count": 202,
     "metadata": {},
     "output_type": "execute_result"
    }
   ],
   "source": [
    "# вызов функции для вечера пятницы в Петербурге\n",
    "genre_weekday(spb_general, 'Friday', '17:00', '23:00')"
   ]
  },
  {
   "cell_type": "code",
   "execution_count": 203,
   "metadata": {
    "id": "r19lIPke_Zcu"
   },
   "outputs": [],
   "source": [
    "# одной строкой: группировка таблицы moscow_general по столбцу 'genre', \n",
    "# подсчёт числа значений 'genre' в этой группировке методом count(), \n",
    "# сортировка получившегося Series в порядке убывания и сохранение в moscow_genres\n",
    "moscow_genres = moscow_general.groupby('genre')['user_id'].count().sort_values(ascending = False)"
   ]
  },
  {
   "cell_type": "markdown",
   "metadata": {
    "id": "6kMuomxTiIr8"
   },
   "source": [
    "Выведите на экран первые десять строк `moscow_genres`:"
   ]
  },
  {
   "cell_type": "code",
   "execution_count": 204,
   "metadata": {
    "id": "WhCSooF8_Zcv"
   },
   "outputs": [
    {
     "data": {
      "text/plain": [
       "genre\n",
       "pop            5892\n",
       "dance          4435\n",
       "rock           3965\n",
       "electronic     3786\n",
       "hiphop         2096\n",
       "classical      1616\n",
       "world          1432\n",
       "alternative    1379\n",
       "ruspop         1372\n",
       "rusrap         1161\n",
       "Name: user_id, dtype: int64"
      ]
     },
     "metadata": {},
     "output_type": "display_data"
    }
   ],
   "source": [
    "# просмотр первых 10 строк moscow_genres\n",
    "display(moscow_genres.head(10))"
   ]
  },
  {
   "cell_type": "code",
   "execution_count": 205,
   "metadata": {
    "id": "gluLIpE7_Zcv"
   },
   "outputs": [],
   "source": [
    "# одной строкой: группировка таблицы spb_general по столбцу 'genre', \n",
    "# подсчёт числа значений 'genre' в этой группировке методом count(), \n",
    "# сортировка получившегося Series в порядке убывания и сохранение в spb_genres\n",
    "spb_genres = spb_general.groupby('genre')['user_id'].count().sort_values(ascending = False)"
   ]
  },
  {
   "cell_type": "code",
   "execution_count": 206,
   "metadata": {
    "id": "uaGJHjVU_Zcv"
   },
   "outputs": [
    {
     "data": {
      "text/plain": [
       "genre\n",
       "pop            2431\n",
       "dance          1932\n",
       "rock           1879\n",
       "electronic     1736\n",
       "hiphop          960\n",
       "alternative     649\n",
       "classical       646\n",
       "rusrap          564\n",
       "ruspop          538\n",
       "world           515\n",
       "Name: user_id, dtype: int64"
      ]
     },
     "metadata": {},
     "output_type": "display_data"
    }
   ],
   "source": [
    "# просмотр первых 10 строк spb_genres\n",
    "display(spb_genres.head(10))"
   ]
  },
  {
   "cell_type": "markdown",
   "metadata": {
    "id": "RY51YJYu_Zcv"
   },
   "source": [
    "**Выводы**"
   ]
  }
 ],
 "metadata": {
  "ExecuteTimeLog": [
   {
    "duration": 2,
    "start_time": "2022-01-22T15:23:06.289Z"
   },
   {
    "duration": 248,
    "start_time": "2022-01-22T15:23:09.907Z"
   },
   {
    "duration": 3223,
    "start_time": "2022-01-22T15:23:17.340Z"
   },
   {
    "duration": 2328,
    "start_time": "2022-01-22T15:23:22.295Z"
   },
   {
    "duration": 3,
    "start_time": "2022-01-22T15:23:25.947Z"
   },
   {
    "duration": 2,
    "start_time": "2022-01-22T15:23:27.815Z"
   },
   {
    "duration": 2540,
    "start_time": "2022-01-22T15:23:29.967Z"
   },
   {
    "duration": 2103,
    "start_time": "2022-01-22T15:24:06.539Z"
   },
   {
    "duration": 1946,
    "start_time": "2022-01-22T15:24:18.627Z"
   },
   {
    "duration": 136,
    "start_time": "2022-01-22T15:24:42.259Z"
   },
   {
    "duration": 17,
    "start_time": "2022-01-22T15:24:49.147Z"
   },
   {
    "duration": 26,
    "start_time": "2022-01-22T15:27:55.207Z"
   },
   {
    "duration": 3,
    "start_time": "2022-01-22T15:36:13.756Z"
   },
   {
    "duration": 31,
    "start_time": "2022-01-22T15:37:33.029Z"
   },
   {
    "duration": 4,
    "start_time": "2022-01-22T15:37:57.649Z"
   },
   {
    "duration": 23,
    "start_time": "2022-01-22T15:38:56.989Z"
   },
   {
    "duration": 4,
    "start_time": "2022-01-22T15:38:59.485Z"
   },
   {
    "duration": 214,
    "start_time": "2022-01-22T18:42:38.789Z"
   },
   {
    "duration": 532,
    "start_time": "2022-01-22T18:42:47.245Z"
   },
   {
    "duration": 141,
    "start_time": "2022-01-22T18:42:50.030Z"
   },
   {
    "duration": 22,
    "start_time": "2022-01-22T18:42:52.138Z"
   },
   {
    "duration": 26,
    "start_time": "2022-01-22T18:42:56.282Z"
   },
   {
    "duration": 3,
    "start_time": "2022-01-22T18:43:00.882Z"
   },
   {
    "duration": 24,
    "start_time": "2022-01-22T18:43:03.522Z"
   },
   {
    "duration": 5,
    "start_time": "2022-01-22T18:43:05.689Z"
   },
   {
    "duration": 191,
    "start_time": "2022-01-22T18:43:08.217Z"
   },
   {
    "duration": 178,
    "start_time": "2022-01-22T18:43:21.281Z"
   },
   {
    "duration": 57,
    "start_time": "2022-01-22T18:43:29.102Z"
   },
   {
    "duration": 62,
    "start_time": "2022-01-22T18:43:30.842Z"
   },
   {
    "duration": 383,
    "start_time": "2022-01-22T18:43:43.118Z"
   },
   {
    "duration": 238,
    "start_time": "2022-01-22T18:44:07.137Z"
   },
   {
    "duration": 56,
    "start_time": "2022-01-22T18:44:15.684Z"
   },
   {
    "duration": 61,
    "start_time": "2022-01-22T18:44:33.089Z"
   },
   {
    "duration": 63,
    "start_time": "2022-01-22T18:45:51.210Z"
   },
   {
    "duration": 564,
    "start_time": "2022-01-23T06:21:08.725Z"
   },
   {
    "duration": 130,
    "start_time": "2022-01-23T06:21:09.291Z"
   },
   {
    "duration": 16,
    "start_time": "2022-01-23T06:21:09.423Z"
   },
   {
    "duration": 26,
    "start_time": "2022-01-23T06:21:09.441Z"
   },
   {
    "duration": 3,
    "start_time": "2022-01-23T06:21:09.469Z"
   },
   {
    "duration": 23,
    "start_time": "2022-01-23T06:21:09.498Z"
   },
   {
    "duration": 6,
    "start_time": "2022-01-23T06:21:09.523Z"
   },
   {
    "duration": 69,
    "start_time": "2022-01-23T06:21:09.530Z"
   },
   {
    "duration": 2,
    "start_time": "2022-01-23T06:21:09.602Z"
   },
   {
    "duration": 5,
    "start_time": "2022-01-23T06:21:09.606Z"
   },
   {
    "duration": 5,
    "start_time": "2022-01-23T06:21:09.613Z"
   },
   {
    "duration": 4,
    "start_time": "2022-01-23T06:21:09.619Z"
   },
   {
    "duration": 4,
    "start_time": "2022-01-23T06:21:09.625Z"
   },
   {
    "duration": 5,
    "start_time": "2022-01-23T06:21:09.630Z"
   },
   {
    "duration": 4,
    "start_time": "2022-01-23T06:21:09.636Z"
   },
   {
    "duration": 5,
    "start_time": "2022-01-23T06:21:09.642Z"
   },
   {
    "duration": 4,
    "start_time": "2022-01-23T06:21:09.649Z"
   },
   {
    "duration": 4,
    "start_time": "2022-01-23T06:21:09.654Z"
   },
   {
    "duration": 4,
    "start_time": "2022-01-23T06:21:09.660Z"
   },
   {
    "duration": 5,
    "start_time": "2022-01-23T06:21:09.665Z"
   },
   {
    "duration": 28,
    "start_time": "2022-01-23T06:21:09.671Z"
   },
   {
    "duration": 5,
    "start_time": "2022-01-23T06:21:09.700Z"
   },
   {
    "duration": 4,
    "start_time": "2022-01-23T06:21:09.707Z"
   },
   {
    "duration": 6,
    "start_time": "2022-01-23T06:21:09.713Z"
   },
   {
    "duration": 5,
    "start_time": "2022-01-23T06:21:09.721Z"
   },
   {
    "duration": 7,
    "start_time": "2022-01-23T06:21:09.727Z"
   },
   {
    "duration": 6,
    "start_time": "2022-01-23T06:21:09.737Z"
   },
   {
    "duration": 7,
    "start_time": "2022-01-23T06:21:09.744Z"
   },
   {
    "duration": 5,
    "start_time": "2022-01-23T06:21:09.753Z"
   },
   {
    "duration": 5,
    "start_time": "2022-01-23T06:21:09.759Z"
   },
   {
    "duration": 8,
    "start_time": "2022-01-23T06:21:09.765Z"
   },
   {
    "duration": 5,
    "start_time": "2022-01-23T06:21:09.774Z"
   },
   {
    "duration": 6,
    "start_time": "2022-01-23T06:21:09.780Z"
   },
   {
    "duration": 11,
    "start_time": "2022-01-23T06:21:09.798Z"
   },
   {
    "duration": 6,
    "start_time": "2022-01-23T06:21:09.810Z"
   },
   {
    "duration": 5,
    "start_time": "2022-01-23T06:21:09.817Z"
   },
   {
    "duration": 5,
    "start_time": "2022-01-23T06:21:09.823Z"
   },
   {
    "duration": 4,
    "start_time": "2022-01-23T06:21:09.829Z"
   },
   {
    "duration": 341,
    "start_time": "2022-01-23T06:23:46.591Z"
   },
   {
    "duration": 3624,
    "start_time": "2022-01-23T06:24:06.884Z"
   },
   {
    "duration": 3899,
    "start_time": "2022-01-23T06:25:12.650Z"
   },
   {
    "duration": 3647,
    "start_time": "2022-01-23T06:26:36.216Z"
   },
   {
    "duration": 3,
    "start_time": "2022-01-23T06:27:45.503Z"
   },
   {
    "duration": 3316,
    "start_time": "2022-01-23T06:28:08.483Z"
   },
   {
    "duration": 3784,
    "start_time": "2022-01-23T06:28:54.712Z"
   },
   {
    "duration": 3,
    "start_time": "2022-01-23T06:29:24.268Z"
   },
   {
    "duration": 136,
    "start_time": "2022-01-23T06:29:27.401Z"
   },
   {
    "duration": 11,
    "start_time": "2022-01-23T06:29:30.075Z"
   },
   {
    "duration": 27,
    "start_time": "2022-01-23T06:29:34.588Z"
   },
   {
    "duration": 3,
    "start_time": "2022-01-23T06:29:39.677Z"
   },
   {
    "duration": 22,
    "start_time": "2022-01-23T06:29:45.089Z"
   },
   {
    "duration": 3,
    "start_time": "2022-01-23T06:29:49.116Z"
   },
   {
    "duration": 55,
    "start_time": "2022-01-23T06:29:53.110Z"
   },
   {
    "duration": 7,
    "start_time": "2022-01-23T06:29:57.381Z"
   },
   {
    "duration": 16,
    "start_time": "2022-01-23T06:30:33.222Z"
   },
   {
    "duration": 24,
    "start_time": "2022-01-23T06:30:56.502Z"
   },
   {
    "duration": 269,
    "start_time": "2022-01-23T06:31:19.613Z"
   },
   {
    "duration": 23,
    "start_time": "2022-01-23T06:31:38.351Z"
   },
   {
    "duration": 3517,
    "start_time": "2022-01-23T06:31:50.042Z"
   },
   {
    "duration": 8,
    "start_time": "2022-01-23T06:31:53.591Z"
   },
   {
    "duration": 3290,
    "start_time": "2022-01-23T06:32:10.615Z"
   },
   {
    "duration": 4141,
    "start_time": "2022-01-23T06:32:45.654Z"
   },
   {
    "duration": 269,
    "start_time": "2022-01-23T06:32:56.481Z"
   },
   {
    "duration": 3,
    "start_time": "2022-01-23T06:33:05.266Z"
   },
   {
    "duration": 139,
    "start_time": "2022-01-23T06:33:08.412Z"
   },
   {
    "duration": 11,
    "start_time": "2022-01-23T06:33:10.715Z"
   },
   {
    "duration": 26,
    "start_time": "2022-01-23T06:33:14.348Z"
   },
   {
    "duration": 3,
    "start_time": "2022-01-23T06:33:18.554Z"
   },
   {
    "duration": 23,
    "start_time": "2022-01-23T06:33:22.324Z"
   },
   {
    "duration": 4,
    "start_time": "2022-01-23T06:33:25.063Z"
   },
   {
    "duration": 23,
    "start_time": "2022-01-23T06:33:28.560Z"
   },
   {
    "duration": 17,
    "start_time": "2022-01-23T06:33:44.720Z"
   },
   {
    "duration": 24,
    "start_time": "2022-01-23T06:33:51.011Z"
   },
   {
    "duration": 53,
    "start_time": "2022-01-23T06:34:35.077Z"
   },
   {
    "duration": 70,
    "start_time": "2022-01-23T06:36:18.209Z"
   },
   {
    "duration": 69,
    "start_time": "2022-01-23T06:36:28.478Z"
   },
   {
    "duration": 66,
    "start_time": "2022-01-23T06:36:33.542Z"
   },
   {
    "duration": 55,
    "start_time": "2022-01-23T06:36:42.980Z"
   },
   {
    "duration": 52,
    "start_time": "2022-01-23T06:37:02.599Z"
   },
   {
    "duration": 40,
    "start_time": "2022-01-23T06:37:46.523Z"
   },
   {
    "duration": 99,
    "start_time": "2022-01-23T06:42:31.247Z"
   },
   {
    "duration": 88,
    "start_time": "2022-01-23T06:42:50.536Z"
   },
   {
    "duration": 3,
    "start_time": "2022-01-23T06:45:14.792Z"
   },
   {
    "duration": 289,
    "start_time": "2022-01-23T06:45:55.131Z"
   },
   {
    "duration": 254,
    "start_time": "2022-01-23T06:46:05.501Z"
   },
   {
    "duration": 8,
    "start_time": "2022-01-23T06:46:16.711Z"
   },
   {
    "duration": 41,
    "start_time": "2022-01-23T06:46:43.741Z"
   },
   {
    "duration": 3,
    "start_time": "2022-01-23T06:47:05.653Z"
   },
   {
    "duration": 10,
    "start_time": "2022-01-23T06:47:08.081Z"
   },
   {
    "duration": 41,
    "start_time": "2022-01-23T06:47:11.002Z"
   },
   {
    "duration": 263,
    "start_time": "2022-01-23T06:49:12.165Z"
   },
   {
    "duration": 13,
    "start_time": "2022-01-23T06:49:57.666Z"
   },
   {
    "duration": 18,
    "start_time": "2022-01-23T06:50:01.046Z"
   },
   {
    "duration": 4,
    "start_time": "2022-01-23T06:50:03.271Z"
   },
   {
    "duration": 12,
    "start_time": "2022-01-23T06:50:15.697Z"
   },
   {
    "duration": 4,
    "start_time": "2022-01-23T06:50:18.946Z"
   },
   {
    "duration": 315,
    "start_time": "2022-01-23T06:50:25.045Z"
   },
   {
    "duration": 295,
    "start_time": "2022-01-23T06:51:00.790Z"
   },
   {
    "duration": 4204,
    "start_time": "2022-01-23T06:51:14.903Z"
   },
   {
    "duration": 273,
    "start_time": "2022-01-23T06:52:04.429Z"
   },
   {
    "duration": 4,
    "start_time": "2022-01-23T06:52:22.221Z"
   },
   {
    "duration": 4,
    "start_time": "2022-01-23T06:52:39.760Z"
   },
   {
    "duration": 301,
    "start_time": "2022-01-23T06:53:54.331Z"
   },
   {
    "duration": 5,
    "start_time": "2022-01-23T06:54:13.312Z"
   },
   {
    "duration": 4,
    "start_time": "2022-01-23T06:54:40.572Z"
   },
   {
    "duration": 4,
    "start_time": "2022-01-23T06:55:09.064Z"
   },
   {
    "duration": 10,
    "start_time": "2022-01-23T06:55:30.445Z"
   },
   {
    "duration": 297,
    "start_time": "2022-01-23T06:55:56.584Z"
   },
   {
    "duration": 12,
    "start_time": "2022-01-23T06:56:46.615Z"
   },
   {
    "duration": 362,
    "start_time": "2022-01-23T06:59:37.672Z"
   },
   {
    "duration": 9,
    "start_time": "2022-01-23T07:00:00.601Z"
   },
   {
    "duration": 9,
    "start_time": "2022-01-23T07:00:14.684Z"
   },
   {
    "duration": 8370,
    "start_time": "2022-01-23T07:00:53.393Z"
   },
   {
    "duration": 10,
    "start_time": "2022-01-23T07:01:55.163Z"
   },
   {
    "duration": 25,
    "start_time": "2022-01-23T07:02:38.706Z"
   },
   {
    "duration": 7678,
    "start_time": "2022-01-23T07:03:10.886Z"
   },
   {
    "duration": 7309,
    "start_time": "2022-01-23T07:03:47.246Z"
   },
   {
    "duration": 11,
    "start_time": "2022-01-23T07:04:25.746Z"
   },
   {
    "duration": 11,
    "start_time": "2022-01-23T07:06:08.719Z"
   },
   {
    "duration": 247,
    "start_time": "2022-01-23T07:06:27.588Z"
   },
   {
    "duration": 282,
    "start_time": "2022-01-23T07:06:38.190Z"
   },
   {
    "duration": 11,
    "start_time": "2022-01-23T07:06:50.140Z"
   },
   {
    "duration": 778,
    "start_time": "2022-01-23T07:34:34.941Z"
   },
   {
    "duration": 252,
    "start_time": "2022-01-23T07:34:49.538Z"
   },
   {
    "duration": 4,
    "start_time": "2022-01-23T07:35:10.249Z"
   },
   {
    "duration": 33,
    "start_time": "2022-01-23T07:35:13.249Z"
   },
   {
    "duration": 35,
    "start_time": "2022-01-23T07:35:36.035Z"
   },
   {
    "duration": 35,
    "start_time": "2022-01-23T07:36:13.791Z"
   },
   {
    "duration": 35,
    "start_time": "2022-01-23T07:36:16.657Z"
   },
   {
    "duration": 34,
    "start_time": "2022-01-23T07:36:26.863Z"
   },
   {
    "duration": 16,
    "start_time": "2022-01-23T07:36:54.562Z"
   },
   {
    "duration": 13,
    "start_time": "2022-01-23T07:37:43.555Z"
   },
   {
    "duration": 19,
    "start_time": "2022-01-23T07:38:09.881Z"
   },
   {
    "duration": 3,
    "start_time": "2022-01-23T07:38:36.488Z"
   },
   {
    "duration": 3,
    "start_time": "2022-01-23T07:39:05.635Z"
   },
   {
    "duration": 26,
    "start_time": "2022-01-23T07:39:10.644Z"
   },
   {
    "duration": 4,
    "start_time": "2022-01-23T07:40:21.358Z"
   },
   {
    "duration": 30,
    "start_time": "2022-01-23T07:40:24.418Z"
   },
   {
    "duration": 3,
    "start_time": "2022-01-23T07:40:48.463Z"
   },
   {
    "duration": 39,
    "start_time": "2022-01-23T07:40:51.342Z"
   },
   {
    "duration": 4,
    "start_time": "2022-01-23T07:41:31.137Z"
   },
   {
    "duration": 16,
    "start_time": "2022-01-23T07:41:33.162Z"
   },
   {
    "duration": 3,
    "start_time": "2022-01-23T07:41:55.199Z"
   },
   {
    "duration": 18,
    "start_time": "2022-01-23T07:42:08.686Z"
   },
   {
    "duration": 8,
    "start_time": "2022-01-23T07:44:55.862Z"
   },
   {
    "duration": 18,
    "start_time": "2022-01-23T07:45:19.922Z"
   },
   {
    "duration": 17,
    "start_time": "2022-01-23T07:45:56.735Z"
   },
   {
    "duration": 16,
    "start_time": "2022-01-23T07:46:16.728Z"
   },
   {
    "duration": 15,
    "start_time": "2022-01-23T07:46:33.365Z"
   },
   {
    "duration": 18,
    "start_time": "2022-01-23T07:46:50.075Z"
   },
   {
    "duration": 16,
    "start_time": "2022-01-23T07:47:25.639Z"
   },
   {
    "duration": 8,
    "start_time": "2022-01-23T07:50:36.309Z"
   },
   {
    "duration": 11,
    "start_time": "2022-01-23T07:53:03.045Z"
   },
   {
    "duration": 10,
    "start_time": "2022-01-23T07:53:05.367Z"
   },
   {
    "duration": 261,
    "start_time": "2022-01-23T07:58:55.325Z"
   },
   {
    "duration": 4,
    "start_time": "2022-01-23T07:58:57.799Z"
   },
   {
    "duration": 20,
    "start_time": "2022-01-23T07:59:00.740Z"
   },
   {
    "duration": 14,
    "start_time": "2022-01-23T07:59:34.160Z"
   },
   {
    "duration": 17,
    "start_time": "2022-01-23T08:00:23.946Z"
   },
   {
    "duration": 13,
    "start_time": "2022-01-23T08:00:54.772Z"
   },
   {
    "duration": 8,
    "start_time": "2022-01-23T08:02:56.966Z"
   },
   {
    "duration": 4,
    "start_time": "2022-01-23T08:02:59.259Z"
   },
   {
    "duration": 10,
    "start_time": "2022-01-23T08:03:23.441Z"
   },
   {
    "duration": 6,
    "start_time": "2022-01-23T08:03:25.435Z"
   },
   {
    "duration": 259,
    "start_time": "2022-01-23T08:04:51.942Z"
   },
   {
    "duration": 7,
    "start_time": "2022-01-23T08:05:01.722Z"
   },
   {
    "duration": 4,
    "start_time": "2022-01-23T08:05:05.533Z"
   },
   {
    "duration": 131,
    "start_time": "2022-01-23T08:07:09.331Z"
   },
   {
    "duration": 10,
    "start_time": "2022-01-23T08:07:16.008Z"
   },
   {
    "duration": 25,
    "start_time": "2022-01-23T08:07:21.060Z"
   },
   {
    "duration": 3,
    "start_time": "2022-01-23T08:07:29.891Z"
   },
   {
    "duration": 22,
    "start_time": "2022-01-23T08:07:34.214Z"
   },
   {
    "duration": 4,
    "start_time": "2022-01-23T08:07:45.407Z"
   },
   {
    "duration": 4,
    "start_time": "2022-01-23T08:07:48.764Z"
   },
   {
    "duration": 24,
    "start_time": "2022-01-23T08:07:54.526Z"
   },
   {
    "duration": 17,
    "start_time": "2022-01-23T08:08:11.432Z"
   },
   {
    "duration": 22,
    "start_time": "2022-01-23T08:08:14.371Z"
   },
   {
    "duration": 54,
    "start_time": "2022-01-23T08:08:20.475Z"
   },
   {
    "duration": 57,
    "start_time": "2022-01-23T08:08:25.037Z"
   },
   {
    "duration": 46,
    "start_time": "2022-01-23T08:08:28.010Z"
   },
   {
    "duration": 40,
    "start_time": "2022-01-23T08:08:32.997Z"
   },
   {
    "duration": 3,
    "start_time": "2022-01-23T08:08:45.211Z"
   },
   {
    "duration": 9,
    "start_time": "2022-01-23T08:08:49.277Z"
   },
   {
    "duration": 39,
    "start_time": "2022-01-23T08:08:53.490Z"
   },
   {
    "duration": 11,
    "start_time": "2022-01-23T08:09:19.067Z"
   },
   {
    "duration": 12,
    "start_time": "2022-01-23T08:09:36.305Z"
   },
   {
    "duration": 11,
    "start_time": "2022-01-23T08:09:39.634Z"
   },
   {
    "duration": 20,
    "start_time": "2022-01-23T08:09:47.166Z"
   },
   {
    "duration": 16,
    "start_time": "2022-01-23T08:09:49.490Z"
   },
   {
    "duration": 15,
    "start_time": "2022-01-23T08:09:51.905Z"
   },
   {
    "duration": 14,
    "start_time": "2022-01-23T08:09:54.047Z"
   },
   {
    "duration": 20,
    "start_time": "2022-01-23T08:09:56.206Z"
   },
   {
    "duration": 15,
    "start_time": "2022-01-23T08:09:57.902Z"
   },
   {
    "duration": 8,
    "start_time": "2022-01-23T08:10:02.959Z"
   },
   {
    "duration": 12,
    "start_time": "2022-01-23T08:10:17.013Z"
   },
   {
    "duration": 10,
    "start_time": "2022-01-23T08:10:19.638Z"
   },
   {
    "duration": 4,
    "start_time": "2022-01-23T08:10:23.090Z"
   },
   {
    "duration": 20,
    "start_time": "2022-01-23T08:10:33.651Z"
   },
   {
    "duration": 13,
    "start_time": "2022-01-23T08:10:37.037Z"
   },
   {
    "duration": 18,
    "start_time": "2022-01-23T08:10:40.925Z"
   },
   {
    "duration": 13,
    "start_time": "2022-01-23T08:10:43.833Z"
   },
   {
    "duration": 8,
    "start_time": "2022-01-23T08:10:48.378Z"
   },
   {
    "duration": 5,
    "start_time": "2022-01-23T08:10:51.185Z"
   },
   {
    "duration": 7,
    "start_time": "2022-01-23T08:10:56.704Z"
   },
   {
    "duration": 5,
    "start_time": "2022-01-23T08:11:00.124Z"
   }
  ],
  "colab": {
   "collapsed_sections": [
    "E0vqbgi9ay0H",
    "VUC88oWjTJw2"
   ],
   "name": "yandex_music_project_2021.2.ipynb",
   "provenance": []
  },
  "kernelspec": {
   "display_name": "Python 3",
   "language": "python",
   "name": "python3"
  },
  "language_info": {
   "codemirror_mode": {
    "name": "ipython",
    "version": 3
   },
   "file_extension": ".py",
   "mimetype": "text/x-python",
   "name": "python",
   "nbconvert_exporter": "python",
   "pygments_lexer": "ipython3",
   "version": "3.7.8"
  },
  "toc": {
   "base_numbering": 1,
   "nav_menu": {},
   "number_sections": true,
   "sideBar": true,
   "skip_h1_title": true,
   "title_cell": "Table of Contents",
   "title_sidebar": "Contents",
   "toc_cell": false,
   "toc_position": {
    "height": "calc(100% - 180px)",
    "left": "10px",
    "top": "150px",
    "width": "166px"
   },
   "toc_section_display": true,
   "toc_window_display": true
  }
 },
 "nbformat": 4,
 "nbformat_minor": 1
}
